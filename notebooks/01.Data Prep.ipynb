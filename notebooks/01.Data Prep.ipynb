{
 "cells": [
  {
   "cell_type": "code",
   "execution_count": 2,
   "metadata": {},
   "outputs": [],
   "source": [
    "import warnings\n",
    "warnings.filterwarnings(\"ignore\")\n",
    "\n",
    "%matplotlib inline "
   ]
  },
  {
   "cell_type": "markdown",
   "metadata": {},
   "source": [
    "# Get the Data "
   ]
  },
  {
   "cell_type": "code",
   "execution_count": 2,
   "metadata": {},
   "outputs": [],
   "source": [
    "import pandas as pd \n",
    "import pyodbc \n",
    "\n",
    "def open_connection():    \n",
    "    conn = pyodbc.connect('Driver={SQL Server};'\n",
    "                        'Server=aydess;'\n",
    "                        'Database=MIX;'\n",
    "                        'Trusted_Connection=yes;')\n",
    "    return conn"
   ]
  },
  {
   "cell_type": "code",
   "execution_count": 3,
   "metadata": {},
   "outputs": [],
   "source": [
    "def close_connection(conn):\n",
    "    if conn != None: \n",
    "        conn.close() "
   ]
  },
  {
   "cell_type": "code",
   "execution_count": 4,
   "metadata": {},
   "outputs": [],
   "source": [
    "def custom_query(query): \n",
    "    res = None \n",
    "    try: \n",
    "        conn = open_connection() \n",
    "        res = pd.read_sql(query, conn) \n",
    "    except: \n",
    "        print('error occured')\n",
    "    finally: \n",
    "        close_connection(conn)\n",
    "        return res "
   ]
  },
  {
   "cell_type": "code",
   "execution_count": 6,
   "metadata": {},
   "outputs": [],
   "source": [
    "# query = \"SELECT SidSecenek optionId, Sira bill FROM Proto.ilknur.BirliktelikAnaliziScnkDty WHERE SidMalzemeMarka = 4 and SidMalzemeCinsiyet = 3\" \n",
    "query = \"SELECT SidSecenek optionId, Sira bill FROM Proto.ilknur.BirliktelikAnaliziScnkDty WHERE SidMalzemeMarka = 4 and SidMalzemeCinsiyet = 3 and SidMalzemeUrunGrubu not in (10,21, 23, 25, 32, 41, 46, 128, 237)\"\n",
    "conn = open_connection() \n",
    "data = pd.read_sql(query, conn)\n",
    "close_connection(conn) "
   ]
  },
  {
   "cell_type": "code",
   "execution_count": 7,
   "metadata": {},
   "outputs": [
    {
     "data": {
      "text/plain": [
       "(915262, 2)"
      ]
     },
     "execution_count": 7,
     "metadata": {},
     "output_type": "execute_result"
    }
   ],
   "source": [
    "data.shape"
   ]
  },
  {
   "cell_type": "code",
   "execution_count": 8,
   "metadata": {},
   "outputs": [
    {
     "data": {
      "text/html": [
       "<div>\n",
       "<style scoped>\n",
       "    .dataframe tbody tr th:only-of-type {\n",
       "        vertical-align: middle;\n",
       "    }\n",
       "\n",
       "    .dataframe tbody tr th {\n",
       "        vertical-align: top;\n",
       "    }\n",
       "\n",
       "    .dataframe thead th {\n",
       "        text-align: right;\n",
       "    }\n",
       "</style>\n",
       "<table border=\"1\" class=\"dataframe\">\n",
       "  <thead>\n",
       "    <tr style=\"text-align: right;\">\n",
       "      <th></th>\n",
       "      <th>optionId</th>\n",
       "      <th>bill</th>\n",
       "    </tr>\n",
       "  </thead>\n",
       "  <tbody>\n",
       "    <tr>\n",
       "      <th>0</th>\n",
       "      <td>745321</td>\n",
       "      <td>1</td>\n",
       "    </tr>\n",
       "    <tr>\n",
       "      <th>1</th>\n",
       "      <td>666652</td>\n",
       "      <td>1</td>\n",
       "    </tr>\n",
       "    <tr>\n",
       "      <th>2</th>\n",
       "      <td>745310</td>\n",
       "      <td>3</td>\n",
       "    </tr>\n",
       "    <tr>\n",
       "      <th>3</th>\n",
       "      <td>745328</td>\n",
       "      <td>3</td>\n",
       "    </tr>\n",
       "    <tr>\n",
       "      <th>4</th>\n",
       "      <td>749358</td>\n",
       "      <td>3</td>\n",
       "    </tr>\n",
       "  </tbody>\n",
       "</table>\n",
       "</div>"
      ],
      "text/plain": [
       "   optionId  bill\n",
       "0    745321     1\n",
       "1    666652     1\n",
       "2    745310     3\n",
       "3    745328     3\n",
       "4    749358     3"
      ]
     },
     "execution_count": 8,
     "metadata": {},
     "output_type": "execute_result"
    }
   ],
   "source": [
    "data.head() "
   ]
  },
  {
   "cell_type": "code",
   "execution_count": 9,
   "metadata": {},
   "outputs": [],
   "source": [
    "data.to_csv(\"../datasets/raw_data_reduced_UG.csv\", index=True)"
   ]
  },
  {
   "cell_type": "code",
   "execution_count": 6,
   "metadata": {},
   "outputs": [
    {
     "name": "stderr",
     "output_type": "stream",
     "text": [
      "c:\\Users\\melih.kacaman\\Anaconda3\\lib\\site-packages\\pandas\\io\\sql.py:762: UserWarning: pandas only support SQLAlchemy connectable(engine/connection) ordatabase string URI or sqlite3 DBAPI2 connectionother DBAPI2 objects are not tested, please consider using SQLAlchemy\n",
      "  warnings.warn(\n"
     ]
    }
   ],
   "source": [
    "query_w = \"SELECT SidSecenek optionId, Sira bill FROM Proto.ilknur.BirliktelikAnaliziScnkDty WHERE SidMalzemeMarka = 4 and SidMalzemeCinsiyet = 4 and SidMalzemeUrunGrubu not in (10,21, 23, 25, 32, 41, 46, 128, 237)\"\n",
    "conn = open_connection() \n",
    "data_w = pd.read_sql(query_w, conn)\n",
    "close_connection(conn) "
   ]
  },
  {
   "cell_type": "code",
   "execution_count": 8,
   "metadata": {},
   "outputs": [],
   "source": [
    "data_w.to_csv(\"../datasets/raw_data_reduced_UG_women.csv\", index=True)"
   ]
  },
  {
   "cell_type": "code",
   "execution_count": null,
   "metadata": {},
   "outputs": [],
   "source": []
  }
 ],
 "metadata": {
  "kernelspec": {
   "display_name": "Python 3.9.12 ('base')",
   "language": "python",
   "name": "python3"
  },
  "language_info": {
   "codemirror_mode": {
    "name": "ipython",
    "version": 3
   },
   "file_extension": ".py",
   "mimetype": "text/x-python",
   "name": "python",
   "nbconvert_exporter": "python",
   "pygments_lexer": "ipython3",
   "version": "3.9.13"
  },
  "orig_nbformat": 4,
  "vscode": {
   "interpreter": {
    "hash": "9059e48bf3b0ccbf418267d63bd69884bf8e25702a60f044a5610720066f9972"
   }
  }
 },
 "nbformat": 4,
 "nbformat_minor": 2
}
