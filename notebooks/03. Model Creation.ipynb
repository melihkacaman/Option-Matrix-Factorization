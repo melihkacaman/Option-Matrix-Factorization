{
 "cells": [
  {
   "cell_type": "markdown",
   "metadata": {},
   "source": [
    "# Get the Rating Matrix"
   ]
  },
  {
   "cell_type": "code",
   "execution_count": 1,
   "metadata": {},
   "outputs": [],
   "source": [
    "import pickle \n",
    "\n",
    "pickle_in = open(\"../datasets/rating_matrix.pickle\",\"rb\")\n",
    "rating_matrix = pickle.load(pickle_in) \n",
    "pickle_in.close() "
   ]
  },
  {
   "cell_type": "code",
   "execution_count": 2,
   "metadata": {},
   "outputs": [
    {
     "data": {
      "text/plain": [
       "dict"
      ]
     },
     "execution_count": 2,
     "metadata": {},
     "output_type": "execute_result"
    }
   ],
   "source": [
    "type(rating_matrix)"
   ]
  },
  {
   "cell_type": "code",
   "execution_count": 3,
   "metadata": {},
   "outputs": [],
   "source": [
    "# !pip install apyori"
   ]
  },
  {
   "cell_type": "code",
   "execution_count": 4,
   "metadata": {},
   "outputs": [],
   "source": [
    "# !pip install mlxtend  "
   ]
  },
  {
   "cell_type": "code",
   "execution_count": 5,
   "metadata": {},
   "outputs": [],
   "source": [
    "# !pip install efficient-apriori"
   ]
  },
  {
   "cell_type": "code",
   "execution_count": 6,
   "metadata": {},
   "outputs": [
    {
     "data": {
      "text/html": [
       "<div>\n",
       "<style scoped>\n",
       "    .dataframe tbody tr th:only-of-type {\n",
       "        vertical-align: middle;\n",
       "    }\n",
       "\n",
       "    .dataframe tbody tr th {\n",
       "        vertical-align: top;\n",
       "    }\n",
       "\n",
       "    .dataframe thead th {\n",
       "        text-align: right;\n",
       "    }\n",
       "</style>\n",
       "<table border=\"1\" class=\"dataframe\">\n",
       "  <thead>\n",
       "    <tr style=\"text-align: right;\">\n",
       "      <th></th>\n",
       "      <th>option_x</th>\n",
       "      <th>option_y</th>\n",
       "      <th>rating</th>\n",
       "    </tr>\n",
       "  </thead>\n",
       "  <tbody>\n",
       "    <tr>\n",
       "      <th>0</th>\n",
       "      <td>745321</td>\n",
       "      <td>666652</td>\n",
       "      <td>1</td>\n",
       "    </tr>\n",
       "    <tr>\n",
       "      <th>1</th>\n",
       "      <td>745321</td>\n",
       "      <td>751782</td>\n",
       "      <td>1</td>\n",
       "    </tr>\n",
       "    <tr>\n",
       "      <th>2</th>\n",
       "      <td>745321</td>\n",
       "      <td>751839</td>\n",
       "      <td>10</td>\n",
       "    </tr>\n",
       "    <tr>\n",
       "      <th>3</th>\n",
       "      <td>666652</td>\n",
       "      <td>751782</td>\n",
       "      <td>1</td>\n",
       "    </tr>\n",
       "    <tr>\n",
       "      <th>4</th>\n",
       "      <td>666652</td>\n",
       "      <td>751839</td>\n",
       "      <td>1</td>\n",
       "    </tr>\n",
       "  </tbody>\n",
       "</table>\n",
       "</div>"
      ],
      "text/plain": [
       "   option_x  option_y  rating\n",
       "0    745321    666652       1\n",
       "1    745321    751782       1\n",
       "2    745321    751839      10\n",
       "3    666652    751782       1\n",
       "4    666652    751839       1"
      ]
     },
     "execution_count": 6,
     "metadata": {},
     "output_type": "execute_result"
    }
   ],
   "source": [
    "import pandas as pd \n",
    "\n",
    "data = pd.Series(rating_matrix).reset_index() \n",
    "data.columns = [\"option_x\", \"option_y\", \"rating\"] \n",
    "\n",
    "data.head() "
   ]
  },
  {
   "cell_type": "code",
   "execution_count": 7,
   "metadata": {},
   "outputs": [
    {
     "data": {
      "text/html": [
       "<div>\n",
       "<style scoped>\n",
       "    .dataframe tbody tr th:only-of-type {\n",
       "        vertical-align: middle;\n",
       "    }\n",
       "\n",
       "    .dataframe tbody tr th {\n",
       "        vertical-align: top;\n",
       "    }\n",
       "\n",
       "    .dataframe thead th {\n",
       "        text-align: right;\n",
       "    }\n",
       "</style>\n",
       "<table border=\"1\" class=\"dataframe\">\n",
       "  <thead>\n",
       "    <tr style=\"text-align: right;\">\n",
       "      <th></th>\n",
       "      <th>rating</th>\n",
       "      <th>bill</th>\n",
       "    </tr>\n",
       "  </thead>\n",
       "  <tbody>\n",
       "    <tr>\n",
       "      <th>0</th>\n",
       "      <td>1</td>\n",
       "      <td>(745321, 666652)</td>\n",
       "    </tr>\n",
       "    <tr>\n",
       "      <th>1</th>\n",
       "      <td>1</td>\n",
       "      <td>(745321, 751782)</td>\n",
       "    </tr>\n",
       "    <tr>\n",
       "      <th>2</th>\n",
       "      <td>10</td>\n",
       "      <td>(745321, 751839)</td>\n",
       "    </tr>\n",
       "    <tr>\n",
       "      <th>3</th>\n",
       "      <td>1</td>\n",
       "      <td>(666652, 751782)</td>\n",
       "    </tr>\n",
       "    <tr>\n",
       "      <th>4</th>\n",
       "      <td>1</td>\n",
       "      <td>(666652, 751839)</td>\n",
       "    </tr>\n",
       "  </tbody>\n",
       "</table>\n",
       "</div>"
      ],
      "text/plain": [
       "   rating              bill\n",
       "0       1  (745321, 666652)\n",
       "1       1  (745321, 751782)\n",
       "2      10  (745321, 751839)\n",
       "3       1  (666652, 751782)\n",
       "4       1  (666652, 751839)"
      ]
     },
     "execution_count": 7,
     "metadata": {},
     "output_type": "execute_result"
    }
   ],
   "source": [
    "data_with_3 = pd.read_csv(\"../datasets/ratings_with_3_combinations.csv\")[[\"rating\", \"bill\"]]\n",
    "\n",
    "data_with_3.head()"
   ]
  },
  {
   "cell_type": "code",
   "execution_count": 8,
   "metadata": {},
   "outputs": [
    {
     "data": {
      "text/html": [
       "<div>\n",
       "<style scoped>\n",
       "    .dataframe tbody tr th:only-of-type {\n",
       "        vertical-align: middle;\n",
       "    }\n",
       "\n",
       "    .dataframe tbody tr th {\n",
       "        vertical-align: top;\n",
       "    }\n",
       "\n",
       "    .dataframe thead th {\n",
       "        text-align: right;\n",
       "    }\n",
       "</style>\n",
       "<table border=\"1\" class=\"dataframe\">\n",
       "  <thead>\n",
       "    <tr style=\"text-align: right;\">\n",
       "      <th></th>\n",
       "      <th>rating</th>\n",
       "      <th>bill</th>\n",
       "    </tr>\n",
       "  </thead>\n",
       "  <tbody>\n",
       "    <tr>\n",
       "      <th>2</th>\n",
       "      <td>10</td>\n",
       "      <td>(745321, 751839)</td>\n",
       "    </tr>\n",
       "    <tr>\n",
       "      <th>5</th>\n",
       "      <td>151</td>\n",
       "      <td>(751782, 751839)</td>\n",
       "    </tr>\n",
       "    <tr>\n",
       "      <th>10</th>\n",
       "      <td>107</td>\n",
       "      <td>(751873, 760125)</td>\n",
       "    </tr>\n",
       "    <tr>\n",
       "      <th>11</th>\n",
       "      <td>12</td>\n",
       "      <td>(772494, 754574)</td>\n",
       "    </tr>\n",
       "    <tr>\n",
       "      <th>13</th>\n",
       "      <td>11</td>\n",
       "      <td>(772494, 749358)</td>\n",
       "    </tr>\n",
       "  </tbody>\n",
       "</table>\n",
       "</div>"
      ],
      "text/plain": [
       "    rating              bill\n",
       "2       10  (745321, 751839)\n",
       "5      151  (751782, 751839)\n",
       "10     107  (751873, 760125)\n",
       "11      12  (772494, 754574)\n",
       "13      11  (772494, 749358)"
      ]
     },
     "execution_count": 8,
     "metadata": {},
     "output_type": "execute_result"
    }
   ],
   "source": [
    "data_3_greater_1 = data_with_3[data_with_3.rating > 1] \n",
    "\n",
    "data_3_greater_1.head() "
   ]
  },
  {
   "cell_type": "code",
   "execution_count": 9,
   "metadata": {},
   "outputs": [
    {
     "data": {
      "text/plain": [
       "(5216080, 771062)"
      ]
     },
     "execution_count": 9,
     "metadata": {},
     "output_type": "execute_result"
    }
   ],
   "source": [
    "len(data_with_3), len(data)"
   ]
  },
  {
   "cell_type": "code",
   "execution_count": 10,
   "metadata": {},
   "outputs": [
    {
     "data": {
      "text/html": [
       "<div>\n",
       "<style scoped>\n",
       "    .dataframe tbody tr th:only-of-type {\n",
       "        vertical-align: middle;\n",
       "    }\n",
       "\n",
       "    .dataframe tbody tr th {\n",
       "        vertical-align: top;\n",
       "    }\n",
       "\n",
       "    .dataframe thead th {\n",
       "        text-align: right;\n",
       "    }\n",
       "</style>\n",
       "<table border=\"1\" class=\"dataframe\">\n",
       "  <thead>\n",
       "    <tr style=\"text-align: right;\">\n",
       "      <th></th>\n",
       "      <th>option_x</th>\n",
       "      <th>option_y</th>\n",
       "      <th>rating</th>\n",
       "    </tr>\n",
       "  </thead>\n",
       "  <tbody>\n",
       "    <tr>\n",
       "      <th>count</th>\n",
       "      <td>771062.000000</td>\n",
       "      <td>771062.000000</td>\n",
       "      <td>771062.000000</td>\n",
       "    </tr>\n",
       "    <tr>\n",
       "      <th>mean</th>\n",
       "      <td>735325.372226</td>\n",
       "      <td>735395.857417</td>\n",
       "      <td>2.418680</td>\n",
       "    </tr>\n",
       "    <tr>\n",
       "      <th>std</th>\n",
       "      <td>42364.768430</td>\n",
       "      <td>42085.392109</td>\n",
       "      <td>9.794105</td>\n",
       "    </tr>\n",
       "    <tr>\n",
       "      <th>min</th>\n",
       "      <td>16329.000000</td>\n",
       "      <td>10494.000000</td>\n",
       "      <td>1.000000</td>\n",
       "    </tr>\n",
       "    <tr>\n",
       "      <th>25%</th>\n",
       "      <td>714744.000000</td>\n",
       "      <td>714645.000000</td>\n",
       "      <td>1.000000</td>\n",
       "    </tr>\n",
       "    <tr>\n",
       "      <th>50%</th>\n",
       "      <td>751526.000000</td>\n",
       "      <td>751358.000000</td>\n",
       "      <td>1.000000</td>\n",
       "    </tr>\n",
       "    <tr>\n",
       "      <th>75%</th>\n",
       "      <td>760344.000000</td>\n",
       "      <td>760209.000000</td>\n",
       "      <td>2.000000</td>\n",
       "    </tr>\n",
       "    <tr>\n",
       "      <th>max</th>\n",
       "      <td>823758.000000</td>\n",
       "      <td>823758.000000</td>\n",
       "      <td>2254.000000</td>\n",
       "    </tr>\n",
       "  </tbody>\n",
       "</table>\n",
       "</div>"
      ],
      "text/plain": [
       "            option_x       option_y         rating\n",
       "count  771062.000000  771062.000000  771062.000000\n",
       "mean   735325.372226  735395.857417       2.418680\n",
       "std     42364.768430   42085.392109       9.794105\n",
       "min     16329.000000   10494.000000       1.000000\n",
       "25%    714744.000000  714645.000000       1.000000\n",
       "50%    751526.000000  751358.000000       1.000000\n",
       "75%    760344.000000  760209.000000       2.000000\n",
       "max    823758.000000  823758.000000    2254.000000"
      ]
     },
     "execution_count": 10,
     "metadata": {},
     "output_type": "execute_result"
    }
   ],
   "source": [
    "data.describe()"
   ]
  },
  {
   "cell_type": "code",
   "execution_count": 11,
   "metadata": {},
   "outputs": [
    {
     "data": {
      "image/png": "[encoded data removed]",
      "text/plain": [
       "<Figure size 720x432 with 1 Axes>"
      ]
     },
     "metadata": {
      "needs_background": "light"
     },
     "output_type": "display_data"
    }
   ],
   "source": [
    "# If the distribution of the quantity is normal, then it should be standardized, otherwise, the data should be normalized.\n",
    "import matplotlib.pyplot as plt \n",
    "\n",
    "plt.figure(figsize=(10,6))\n",
    "plt.hist(data_3_greater_1['rating'], bins=100, ec='black', color='#2196f3')\n",
    "plt.xlabel('ratings')\n",
    "plt.ylabel('Nr. of Houses')\n",
    "plt.show()"
   ]
  },
  {
   "cell_type": "code",
   "execution_count": 12,
   "metadata": {},
   "outputs": [
    {
     "data": {
      "text/plain": [
       "(2254, 2)"
      ]
     },
     "execution_count": 12,
     "metadata": {},
     "output_type": "execute_result"
    }
   ],
   "source": [
    "max(data_3_greater_1.rating),  min(data_3_greater_1.rating)"
   ]
  },
  {
   "cell_type": "code",
   "execution_count": 13,
   "metadata": {},
   "outputs": [
    {
     "name": "stderr",
     "output_type": "stream",
     "text": [
      "c:\\Users\\melih.kacaman\\Anaconda3\\lib\\site-packages\\seaborn\\_decorators.py:36: FutureWarning: Pass the following variable as a keyword arg: x. From version 0.12, the only valid positional argument will be `data`, and passing other arguments without an explicit keyword will result in an error or misinterpretation.\n",
      "  warnings.warn(\n"
     ]
    },
    {
     "data": {
      "text/plain": [
       "<AxesSubplot:>"
      ]
     },
     "execution_count": 13,
     "metadata": {},
     "output_type": "execute_result"
    },
    {
     "data": {
      "image/png": "[encoded data removed]",
      "text/plain": [
       "<Figure size 432x288 with 1 Axes>"
      ]
     },
     "metadata": {
      "needs_background": "light"
     },
     "output_type": "display_data"
    }
   ],
   "source": [
    "import seaborn as sns\n",
    "sns.boxplot(data_3_greater_1['rating'].unique())"
   ]
  },
  {
   "cell_type": "code",
   "execution_count": 14,
   "metadata": {},
   "outputs": [
    {
     "data": {
      "text/html": [
       "<div>\n",
       "<style scoped>\n",
       "    .dataframe tbody tr th:only-of-type {\n",
       "        vertical-align: middle;\n",
       "    }\n",
       "\n",
       "    .dataframe tbody tr th {\n",
       "        vertical-align: top;\n",
       "    }\n",
       "\n",
       "    .dataframe thead th {\n",
       "        text-align: right;\n",
       "    }\n",
       "</style>\n",
       "<table border=\"1\" class=\"dataframe\">\n",
       "  <thead>\n",
       "    <tr style=\"text-align: right;\">\n",
       "      <th></th>\n",
       "      <th>rating</th>\n",
       "      <th>bill</th>\n",
       "    </tr>\n",
       "  </thead>\n",
       "  <tbody>\n",
       "    <tr>\n",
       "      <th>2</th>\n",
       "      <td>2.302585</td>\n",
       "      <td>(745321, 751839)</td>\n",
       "    </tr>\n",
       "    <tr>\n",
       "      <th>5</th>\n",
       "      <td>5.017280</td>\n",
       "      <td>(751782, 751839)</td>\n",
       "    </tr>\n",
       "    <tr>\n",
       "      <th>10</th>\n",
       "      <td>4.672829</td>\n",
       "      <td>(751873, 760125)</td>\n",
       "    </tr>\n",
       "    <tr>\n",
       "      <th>11</th>\n",
       "      <td>2.484907</td>\n",
       "      <td>(772494, 754574)</td>\n",
       "    </tr>\n",
       "    <tr>\n",
       "      <th>13</th>\n",
       "      <td>2.397895</td>\n",
       "      <td>(772494, 749358)</td>\n",
       "    </tr>\n",
       "  </tbody>\n",
       "</table>\n",
       "</div>"
      ],
      "text/plain": [
       "      rating              bill\n",
       "2   2.302585  (745321, 751839)\n",
       "5   5.017280  (751782, 751839)\n",
       "10  4.672829  (751873, 760125)\n",
       "11  2.484907  (772494, 754574)\n",
       "13  2.397895  (772494, 749358)"
      ]
     },
     "execution_count": 14,
     "metadata": {},
     "output_type": "execute_result"
    }
   ],
   "source": [
    "import numpy as np\n",
    "data_3_greater_1_log = data_3_greater_1.copy() \n",
    "data_3_greater_1_log[\"rating\"] = np.log(data_3_greater_1.rating) \n",
    "\n",
    "data_3_greater_1_log.head() "
   ]
  },
  {
   "cell_type": "code",
   "execution_count": 15,
   "metadata": {},
   "outputs": [
    {
     "data": {
      "text/plain": [
       "(7.720461694599722, 0.6931471805599453)"
      ]
     },
     "execution_count": 15,
     "metadata": {},
     "output_type": "execute_result"
    }
   ],
   "source": [
    "max(data_3_greater_1_log.rating),  min(data_3_greater_1_log.rating)"
   ]
  },
  {
   "cell_type": "code",
   "execution_count": 16,
   "metadata": {},
   "outputs": [
    {
     "data": {
      "image/png": "[encoded data removed]",
      "text/plain": [
       "<Figure size 720x432 with 1 Axes>"
      ]
     },
     "metadata": {
      "needs_background": "light"
     },
     "output_type": "display_data"
    }
   ],
   "source": [
    "# If the distribution of the quantity is normal, then it should be standardized, otherwise, the data should be normalized.\n",
    "import matplotlib.pyplot as plt \n",
    "\n",
    "plt.figure(figsize=(10,6))\n",
    "plt.hist(data_3_greater_1_log['rating'], bins=100, ec='black', color='#2196f3')\n",
    "plt.xlabel('ratings')\n",
    "plt.ylabel('Nr. of Houses')\n",
    "plt.show()"
   ]
  },
  {
   "cell_type": "code",
   "execution_count": 17,
   "metadata": {},
   "outputs": [
    {
     "name": "stderr",
     "output_type": "stream",
     "text": [
      "c:\\Users\\melih.kacaman\\Anaconda3\\lib\\site-packages\\seaborn\\_decorators.py:36: FutureWarning: Pass the following variable as a keyword arg: x. From version 0.12, the only valid positional argument will be `data`, and passing other arguments without an explicit keyword will result in an error or misinterpretation.\n",
      "  warnings.warn(\n"
     ]
    },
    {
     "data": {
      "text/plain": [
       "<AxesSubplot:>"
      ]
     },
     "execution_count": 17,
     "metadata": {},
     "output_type": "execute_result"
    },
    {
     "data": {
      "image/png": "[encoded data removed]",
      "text/plain": [
       "<Figure size 432x288 with 1 Axes>"
      ]
     },
     "metadata": {
      "needs_background": "light"
     },
     "output_type": "display_data"
    }
   ],
   "source": [
    "import seaborn as sns\n",
    "sns.boxplot(data_3_greater_1_log['rating'].unique())"
   ]
  },
  {
   "cell_type": "code",
   "execution_count": 18,
   "metadata": {},
   "outputs": [
    {
     "name": "stdout",
     "output_type": "stream",
     "text": [
      "data_3_greater_1_log has IQR: 0.6931471805599453\n"
     ]
    }
   ],
   "source": [
    "import numpy as np \n",
    "Q1 = np.percentile(data_3_greater_1_log['rating'], 25,\n",
    "                   interpolation = 'midpoint')\n",
    " \n",
    "Q3 = np.percentile(data_3_greater_1_log['rating'], 75,\n",
    "                   interpolation = 'midpoint')\n",
    "IQR = Q3 - Q1\n",
    "\n",
    "print(\"data_3_greater_1_log has IQR:\", IQR) "
   ]
  },
  {
   "cell_type": "markdown",
   "metadata": {},
   "source": [
    "# Model 1: Matrix Factorization Using Keras "
   ]
  },
  {
   "cell_type": "markdown",
   "metadata": {},
   "source": [
    "#### Data Prep for MF "
   ]
  },
  {
   "cell_type": "code",
   "execution_count": 19,
   "metadata": {},
   "outputs": [
    {
     "data": {
      "text/html": [
       "<div>\n",
       "<style scoped>\n",
       "    .dataframe tbody tr th:only-of-type {\n",
       "        vertical-align: middle;\n",
       "    }\n",
       "\n",
       "    .dataframe tbody tr th {\n",
       "        vertical-align: top;\n",
       "    }\n",
       "\n",
       "    .dataframe thead th {\n",
       "        text-align: right;\n",
       "    }\n",
       "</style>\n",
       "<table border=\"1\" class=\"dataframe\">\n",
       "  <thead>\n",
       "    <tr style=\"text-align: right;\">\n",
       "      <th></th>\n",
       "      <th>rating</th>\n",
       "      <th>bill</th>\n",
       "    </tr>\n",
       "  </thead>\n",
       "  <tbody>\n",
       "    <tr>\n",
       "      <th>2</th>\n",
       "      <td>2.302585</td>\n",
       "      <td>(745321, 751839)</td>\n",
       "    </tr>\n",
       "    <tr>\n",
       "      <th>5</th>\n",
       "      <td>5.017280</td>\n",
       "      <td>(751782, 751839)</td>\n",
       "    </tr>\n",
       "    <tr>\n",
       "      <th>10</th>\n",
       "      <td>4.672829</td>\n",
       "      <td>(751873, 760125)</td>\n",
       "    </tr>\n",
       "    <tr>\n",
       "      <th>11</th>\n",
       "      <td>2.484907</td>\n",
       "      <td>(772494, 754574)</td>\n",
       "    </tr>\n",
       "    <tr>\n",
       "      <th>13</th>\n",
       "      <td>2.397895</td>\n",
       "      <td>(772494, 749358)</td>\n",
       "    </tr>\n",
       "  </tbody>\n",
       "</table>\n",
       "</div>"
      ],
      "text/plain": [
       "      rating              bill\n",
       "2   2.302585  (745321, 751839)\n",
       "5   5.017280  (751782, 751839)\n",
       "10  4.672829  (751873, 760125)\n",
       "11  2.484907  (772494, 754574)\n",
       "13  2.397895  (772494, 749358)"
      ]
     },
     "execution_count": 19,
     "metadata": {},
     "output_type": "execute_result"
    }
   ],
   "source": [
    "data_3_greater_1_log.head() "
   ]
  },
  {
   "cell_type": "code",
   "execution_count": 20,
   "metadata": {},
   "outputs": [
    {
     "data": {
      "text/plain": [
       "(448529,)"
      ]
     },
     "execution_count": 20,
     "metadata": {},
     "output_type": "execute_result"
    }
   ],
   "source": [
    "data_3_greater_1_log.bill.unique().shape"
   ]
  },
  {
   "cell_type": "code",
   "execution_count": 21,
   "metadata": {},
   "outputs": [
    {
     "name": "stdout",
     "output_type": "stream",
     "text": [
      "<class 'pandas.core.frame.DataFrame'>\n",
      "Int64Index: 448529 entries, 2 to 5215140\n",
      "Data columns (total 2 columns):\n",
      " #   Column  Non-Null Count   Dtype  \n",
      "---  ------  --------------   -----  \n",
      " 0   rating  448529 non-null  float64\n",
      " 1   bill    448529 non-null  object \n",
      "dtypes: float64(1), object(1)\n",
      "memory usage: 10.3+ MB\n"
     ]
    }
   ],
   "source": [
    "data_3_greater_1_log.info() "
   ]
  },
  {
   "cell_type": "code",
   "execution_count": 22,
   "metadata": {},
   "outputs": [
    {
     "name": "stdout",
     "output_type": "stream",
     "text": [
      "<class 'pandas.core.frame.DataFrame'>\n",
      "Int64Index: 448529 entries, 2 to 5215140\n",
      "Data columns (total 2 columns):\n",
      " #   Column  Non-Null Count   Dtype  \n",
      "---  ------  --------------   -----  \n",
      " 0   rating  448529 non-null  float64\n",
      " 1   bill    448529 non-null  object \n",
      "dtypes: float64(1), object(1)\n",
      "memory usage: 10.3+ MB\n"
     ]
    }
   ],
   "source": [
    "from ast import literal_eval\n",
    "\n",
    "data_3_greater_1_log.bill = data_3_greater_1_log.bill.apply(literal_eval) \n",
    "data_3_greater_1_log.info() "
   ]
  },
  {
   "cell_type": "code",
   "execution_count": 23,
   "metadata": {},
   "outputs": [
    {
     "data": {
      "text/plain": [
       "tuple"
      ]
     },
     "execution_count": 23,
     "metadata": {},
     "output_type": "execute_result"
    }
   ],
   "source": [
    "type(data_3_greater_1_log.bill.iat[0])"
   ]
  },
  {
   "cell_type": "code",
   "execution_count": 24,
   "metadata": {},
   "outputs": [
    {
     "data": {
      "text/plain": [
       "(749358, 754574)"
      ]
     },
     "execution_count": 24,
     "metadata": {},
     "output_type": "execute_result"
    }
   ],
   "source": [
    "statement = (772494, 754574, 749358) \n",
    "s_set = set(statement) \n",
    "tuple(s_set.difference([772494]))"
   ]
  },
  {
   "cell_type": "code",
   "execution_count": 25,
   "metadata": {},
   "outputs": [],
   "source": [
    "def split_bill(statement):\n",
    "    return [\n",
    "        (tuple(set(statement).difference([statement[0]])), statement[0]),\n",
    "        (tuple(set(statement).difference([statement[1]])), statement[1]),\n",
    "        (tuple(set(statement).difference([statement[2]])), statement[2])\n",
    "    ]"
   ]
  },
  {
   "cell_type": "code",
   "execution_count": 26,
   "metadata": {},
   "outputs": [
    {
     "data": {
      "text/html": [
       "<div>\n",
       "<style scoped>\n",
       "    .dataframe tbody tr th:only-of-type {\n",
       "        vertical-align: middle;\n",
       "    }\n",
       "\n",
       "    .dataframe tbody tr th {\n",
       "        vertical-align: top;\n",
       "    }\n",
       "\n",
       "    .dataframe thead th {\n",
       "        text-align: right;\n",
       "    }\n",
       "</style>\n",
       "<table border=\"1\" class=\"dataframe\">\n",
       "  <thead>\n",
       "    <tr style=\"text-align: right;\">\n",
       "      <th></th>\n",
       "      <th>rating</th>\n",
       "      <th>bill</th>\n",
       "      <th>option_count</th>\n",
       "    </tr>\n",
       "  </thead>\n",
       "  <tbody>\n",
       "    <tr>\n",
       "      <th>5211482</th>\n",
       "      <td>0.693147</td>\n",
       "      <td>(774694, 767718, 767721)</td>\n",
       "      <td>3</td>\n",
       "    </tr>\n",
       "    <tr>\n",
       "      <th>5213307</th>\n",
       "      <td>0.693147</td>\n",
       "      <td>(774590, 774319)</td>\n",
       "      <td>2</td>\n",
       "    </tr>\n",
       "    <tr>\n",
       "      <th>5213311</th>\n",
       "      <td>0.693147</td>\n",
       "      <td>(774469, 774590, 774319)</td>\n",
       "      <td>3</td>\n",
       "    </tr>\n",
       "    <tr>\n",
       "      <th>5213576</th>\n",
       "      <td>0.693147</td>\n",
       "      <td>(764896, 786771, 774571)</td>\n",
       "      <td>3</td>\n",
       "    </tr>\n",
       "    <tr>\n",
       "      <th>5215140</th>\n",
       "      <td>0.693147</td>\n",
       "      <td>(748899, 748868, 752949)</td>\n",
       "      <td>3</td>\n",
       "    </tr>\n",
       "  </tbody>\n",
       "</table>\n",
       "</div>"
      ],
      "text/plain": [
       "           rating                      bill  option_count\n",
       "5211482  0.693147  (774694, 767718, 767721)             3\n",
       "5213307  0.693147          (774590, 774319)             2\n",
       "5213311  0.693147  (774469, 774590, 774319)             3\n",
       "5213576  0.693147  (764896, 786771, 774571)             3\n",
       "5215140  0.693147  (748899, 748868, 752949)             3"
      ]
     },
     "execution_count": 26,
     "metadata": {},
     "output_type": "execute_result"
    }
   ],
   "source": [
    "data_3_greater_1_log[\"option_count\"] = data_3_greater_1_log.bill.apply(lambda x: len(x))\n",
    "data_3_greater_1_log.tail() "
   ]
  },
  {
   "cell_type": "code",
   "execution_count": 27,
   "metadata": {},
   "outputs": [],
   "source": [
    "sublist_by_2 = data_3_greater_1_log[data_3_greater_1_log.option_count == 2]"
   ]
  },
  {
   "cell_type": "code",
   "execution_count": 28,
   "metadata": {},
   "outputs": [
    {
     "data": {
      "text/html": [
       "<div>\n",
       "<style scoped>\n",
       "    .dataframe tbody tr th:only-of-type {\n",
       "        vertical-align: middle;\n",
       "    }\n",
       "\n",
       "    .dataframe tbody tr th {\n",
       "        vertical-align: top;\n",
       "    }\n",
       "\n",
       "    .dataframe thead th {\n",
       "        text-align: right;\n",
       "    }\n",
       "</style>\n",
       "<table border=\"1\" class=\"dataframe\">\n",
       "  <thead>\n",
       "    <tr style=\"text-align: right;\">\n",
       "      <th></th>\n",
       "      <th>rating</th>\n",
       "      <th>bill</th>\n",
       "      <th>option_count</th>\n",
       "      <th>LHS</th>\n",
       "      <th>RHS</th>\n",
       "    </tr>\n",
       "  </thead>\n",
       "  <tbody>\n",
       "    <tr>\n",
       "      <th>2</th>\n",
       "      <td>2.302585</td>\n",
       "      <td>(745321, 751839)</td>\n",
       "      <td>2</td>\n",
       "      <td>745321</td>\n",
       "      <td>751839</td>\n",
       "    </tr>\n",
       "    <tr>\n",
       "      <th>5</th>\n",
       "      <td>5.017280</td>\n",
       "      <td>(751782, 751839)</td>\n",
       "      <td>2</td>\n",
       "      <td>751782</td>\n",
       "      <td>751839</td>\n",
       "    </tr>\n",
       "    <tr>\n",
       "      <th>10</th>\n",
       "      <td>4.672829</td>\n",
       "      <td>(751873, 760125)</td>\n",
       "      <td>2</td>\n",
       "      <td>751873</td>\n",
       "      <td>760125</td>\n",
       "    </tr>\n",
       "    <tr>\n",
       "      <th>11</th>\n",
       "      <td>2.484907</td>\n",
       "      <td>(772494, 754574)</td>\n",
       "      <td>2</td>\n",
       "      <td>772494</td>\n",
       "      <td>754574</td>\n",
       "    </tr>\n",
       "    <tr>\n",
       "      <th>13</th>\n",
       "      <td>2.397895</td>\n",
       "      <td>(772494, 749358)</td>\n",
       "      <td>2</td>\n",
       "      <td>772494</td>\n",
       "      <td>749358</td>\n",
       "    </tr>\n",
       "  </tbody>\n",
       "</table>\n",
       "</div>"
      ],
      "text/plain": [
       "      rating              bill  option_count     LHS     RHS\n",
       "2   2.302585  (745321, 751839)             2  745321  751839\n",
       "5   5.017280  (751782, 751839)             2  751782  751839\n",
       "10  4.672829  (751873, 760125)             2  751873  760125\n",
       "11  2.484907  (772494, 754574)             2  772494  754574\n",
       "13  2.397895  (772494, 749358)             2  772494  749358"
      ]
     },
     "execution_count": 28,
     "metadata": {},
     "output_type": "execute_result"
    }
   ],
   "source": [
    "sublist_by_2_concat = pd.concat([\n",
    "    sublist_by_2,\n",
    "    pd.DataFrame(data_3_greater_1_log[data_3_greater_1_log.option_count == 2].bill.to_list(), columns=[\"LHS\", \"RHS\"], index=sublist_by_2.index)\n",
    "], axis=1)\n",
    "sublist_by_2_concat.head()"
   ]
  },
  {
   "cell_type": "code",
   "execution_count": 29,
   "metadata": {},
   "outputs": [
    {
     "data": {
      "text/html": [
       "<div>\n",
       "<style scoped>\n",
       "    .dataframe tbody tr th:only-of-type {\n",
       "        vertical-align: middle;\n",
       "    }\n",
       "\n",
       "    .dataframe tbody tr th {\n",
       "        vertical-align: top;\n",
       "    }\n",
       "\n",
       "    .dataframe thead th {\n",
       "        text-align: right;\n",
       "    }\n",
       "</style>\n",
       "<table border=\"1\" class=\"dataframe\">\n",
       "  <thead>\n",
       "    <tr style=\"text-align: right;\">\n",
       "      <th></th>\n",
       "      <th>rating</th>\n",
       "      <th>bill</th>\n",
       "      <th>option_count</th>\n",
       "    </tr>\n",
       "  </thead>\n",
       "  <tbody>\n",
       "    <tr>\n",
       "      <th>22</th>\n",
       "      <td>0.693147</td>\n",
       "      <td>(772494, 754574, 749358)</td>\n",
       "      <td>3</td>\n",
       "    </tr>\n",
       "    <tr>\n",
       "      <th>28</th>\n",
       "      <td>0.693147</td>\n",
       "      <td>(754574, 745328, 745310)</td>\n",
       "      <td>3</td>\n",
       "    </tr>\n",
       "    <tr>\n",
       "      <th>44</th>\n",
       "      <td>1.098612</td>\n",
       "      <td>(751649, 751591, 751532)</td>\n",
       "      <td>3</td>\n",
       "    </tr>\n",
       "    <tr>\n",
       "      <th>45</th>\n",
       "      <td>0.693147</td>\n",
       "      <td>(751649, 751591, 751597)</td>\n",
       "      <td>3</td>\n",
       "    </tr>\n",
       "    <tr>\n",
       "      <th>46</th>\n",
       "      <td>0.693147</td>\n",
       "      <td>(751649, 751595, 751532)</td>\n",
       "      <td>3</td>\n",
       "    </tr>\n",
       "  </tbody>\n",
       "</table>\n",
       "</div>"
      ],
      "text/plain": [
       "      rating                      bill  option_count\n",
       "22  0.693147  (772494, 754574, 749358)             3\n",
       "28  0.693147  (754574, 745328, 745310)             3\n",
       "44  1.098612  (751649, 751591, 751532)             3\n",
       "45  0.693147  (751649, 751591, 751597)             3\n",
       "46  0.693147  (751649, 751595, 751532)             3"
      ]
     },
     "execution_count": 29,
     "metadata": {},
     "output_type": "execute_result"
    }
   ],
   "source": [
    "sublist_by_3 = data_3_greater_1_log[data_3_greater_1_log.option_count == 3]\n",
    "sublist_by_3.head() "
   ]
  },
  {
   "cell_type": "code",
   "execution_count": 30,
   "metadata": {},
   "outputs": [
    {
     "data": {
      "text/html": [
       "<div>\n",
       "<style scoped>\n",
       "    .dataframe tbody tr th:only-of-type {\n",
       "        vertical-align: middle;\n",
       "    }\n",
       "\n",
       "    .dataframe tbody tr th {\n",
       "        vertical-align: top;\n",
       "    }\n",
       "\n",
       "    .dataframe thead th {\n",
       "        text-align: right;\n",
       "    }\n",
       "</style>\n",
       "<table border=\"1\" class=\"dataframe\">\n",
       "  <thead>\n",
       "    <tr style=\"text-align: right;\">\n",
       "      <th></th>\n",
       "      <th>rating</th>\n",
       "      <th>bill</th>\n",
       "      <th>option_count</th>\n",
       "      <th>LHS</th>\n",
       "      <th>RHS</th>\n",
       "    </tr>\n",
       "  </thead>\n",
       "  <tbody>\n",
       "    <tr>\n",
       "      <th>0</th>\n",
       "      <td>0.693147</td>\n",
       "      <td>(772494, 754574, 749358)</td>\n",
       "      <td>3</td>\n",
       "      <td>(749358, 754574)</td>\n",
       "      <td>772494</td>\n",
       "    </tr>\n",
       "    <tr>\n",
       "      <th>1</th>\n",
       "      <td>0.693147</td>\n",
       "      <td>(772494, 754574, 749358)</td>\n",
       "      <td>3</td>\n",
       "      <td>(749358, 772494)</td>\n",
       "      <td>754574</td>\n",
       "    </tr>\n",
       "    <tr>\n",
       "      <th>2</th>\n",
       "      <td>0.693147</td>\n",
       "      <td>(772494, 754574, 749358)</td>\n",
       "      <td>3</td>\n",
       "      <td>(754574, 772494)</td>\n",
       "      <td>749358</td>\n",
       "    </tr>\n",
       "    <tr>\n",
       "      <th>3</th>\n",
       "      <td>0.693147</td>\n",
       "      <td>(754574, 745328, 745310)</td>\n",
       "      <td>3</td>\n",
       "      <td>(745328, 745310)</td>\n",
       "      <td>754574</td>\n",
       "    </tr>\n",
       "    <tr>\n",
       "      <th>4</th>\n",
       "      <td>0.693147</td>\n",
       "      <td>(754574, 745328, 745310)</td>\n",
       "      <td>3</td>\n",
       "      <td>(745310, 754574)</td>\n",
       "      <td>745328</td>\n",
       "    </tr>\n",
       "  </tbody>\n",
       "</table>\n",
       "</div>"
      ],
      "text/plain": [
       "     rating                      bill option_count               LHS     RHS\n",
       "0  0.693147  (772494, 754574, 749358)            3  (749358, 754574)  772494\n",
       "1  0.693147  (772494, 754574, 749358)            3  (749358, 772494)  754574\n",
       "2  0.693147  (772494, 754574, 749358)            3  (754574, 772494)  749358\n",
       "3  0.693147  (754574, 745328, 745310)            3  (745328, 745310)  754574\n",
       "4  0.693147  (754574, 745328, 745310)            3  (745310, 754574)  745328"
      ]
     },
     "execution_count": 30,
     "metadata": {},
     "output_type": "execute_result"
    }
   ],
   "source": [
    "replicated_rows = pd.DataFrame(np.repeat(sublist_by_3.values, 3, axis=0), columns=sublist_by_3.columns)\n",
    "\n",
    "sublists_by_3_reduced = []  \n",
    "for item in sublist_by_3.bill.to_list():\n",
    "    sublists_by_3_reduced += split_bill(item) \n",
    "\n",
    "sublists_by_3_reduced = pd.DataFrame(sublists_by_3_reduced, columns=[\"LHS\", \"RHS\"])\n",
    "\n",
    "sublist_by_3_concat = pd.concat([\n",
    "    replicated_rows, \n",
    "    sublists_by_3_reduced\n",
    "], axis=1)\n",
    "\n",
    "sublist_by_3_concat.head() "
   ]
  },
  {
   "cell_type": "code",
   "execution_count": 31,
   "metadata": {},
   "outputs": [
    {
     "data": {
      "text/html": [
       "<div>\n",
       "<style scoped>\n",
       "    .dataframe tbody tr th:only-of-type {\n",
       "        vertical-align: middle;\n",
       "    }\n",
       "\n",
       "    .dataframe tbody tr th {\n",
       "        vertical-align: top;\n",
       "    }\n",
       "\n",
       "    .dataframe thead th {\n",
       "        text-align: right;\n",
       "    }\n",
       "</style>\n",
       "<table border=\"1\" class=\"dataframe\">\n",
       "  <thead>\n",
       "    <tr style=\"text-align: right;\">\n",
       "      <th></th>\n",
       "      <th>rating</th>\n",
       "      <th>bill</th>\n",
       "      <th>option_count</th>\n",
       "      <th>LHS</th>\n",
       "      <th>RHS</th>\n",
       "    </tr>\n",
       "  </thead>\n",
       "  <tbody>\n",
       "    <tr>\n",
       "      <th>0</th>\n",
       "      <td>0.693147</td>\n",
       "      <td>(772494, 754574, 749358)</td>\n",
       "      <td>3</td>\n",
       "      <td>(749358, 754574)</td>\n",
       "      <td>772494</td>\n",
       "    </tr>\n",
       "    <tr>\n",
       "      <th>1</th>\n",
       "      <td>0.693147</td>\n",
       "      <td>(772494, 754574, 749358)</td>\n",
       "      <td>3</td>\n",
       "      <td>(749358, 772494)</td>\n",
       "      <td>754574</td>\n",
       "    </tr>\n",
       "    <tr>\n",
       "      <th>2</th>\n",
       "      <td>0.693147</td>\n",
       "      <td>(772494, 754574, 749358)</td>\n",
       "      <td>3</td>\n",
       "      <td>(754574, 772494)</td>\n",
       "      <td>749358</td>\n",
       "    </tr>\n",
       "    <tr>\n",
       "      <th>3</th>\n",
       "      <td>0.693147</td>\n",
       "      <td>(754574, 745328, 745310)</td>\n",
       "      <td>3</td>\n",
       "      <td>(745328, 745310)</td>\n",
       "      <td>754574</td>\n",
       "    </tr>\n",
       "    <tr>\n",
       "      <th>4</th>\n",
       "      <td>0.693147</td>\n",
       "      <td>(754574, 745328, 745310)</td>\n",
       "      <td>3</td>\n",
       "      <td>(745310, 754574)</td>\n",
       "      <td>745328</td>\n",
       "    </tr>\n",
       "  </tbody>\n",
       "</table>\n",
       "</div>"
      ],
      "text/plain": [
       "     rating                      bill option_count               LHS     RHS\n",
       "0  0.693147  (772494, 754574, 749358)            3  (749358, 754574)  772494\n",
       "1  0.693147  (772494, 754574, 749358)            3  (749358, 772494)  754574\n",
       "2  0.693147  (772494, 754574, 749358)            3  (754574, 772494)  749358\n",
       "3  0.693147  (754574, 745328, 745310)            3  (745328, 745310)  754574\n",
       "4  0.693147  (754574, 745328, 745310)            3  (745310, 754574)  745328"
      ]
     },
     "execution_count": 31,
     "metadata": {},
     "output_type": "execute_result"
    }
   ],
   "source": [
    "dataset_combined_MF = pd.concat([sublist_by_3_concat, sublist_by_2_concat], axis=0, ignore_index=True)\n",
    "dataset_combined_MF.head()  "
   ]
  },
  {
   "cell_type": "code",
   "execution_count": 36,
   "metadata": {},
   "outputs": [
    {
     "name": "stdout",
     "output_type": "stream",
     "text": [
      "<class 'pandas.core.frame.DataFrame'>\n",
      "RangeIndex: 859833 entries, 0 to 859832\n",
      "Data columns (total 5 columns):\n",
      " #   Column        Non-Null Count   Dtype \n",
      "---  ------        --------------   ----- \n",
      " 0   rating        859833 non-null  object\n",
      " 1   bill          859833 non-null  object\n",
      " 2   option_count  859833 non-null  object\n",
      " 3   LHS           859833 non-null  object\n",
      " 4   RHS           859833 non-null  int64 \n",
      "dtypes: int64(1), object(4)\n",
      "memory usage: 32.8+ MB\n"
     ]
    }
   ],
   "source": [
    "dataset_combined_MF.info() "
   ]
  },
  {
   "cell_type": "code",
   "execution_count": 149,
   "metadata": {},
   "outputs": [
    {
     "data": {
      "text/html": [
       "<div>\n",
       "<style scoped>\n",
       "    .dataframe tbody tr th:only-of-type {\n",
       "        vertical-align: middle;\n",
       "    }\n",
       "\n",
       "    .dataframe tbody tr th {\n",
       "        vertical-align: top;\n",
       "    }\n",
       "\n",
       "    .dataframe thead th {\n",
       "        text-align: right;\n",
       "    }\n",
       "</style>\n",
       "<table border=\"1\" class=\"dataframe\">\n",
       "  <thead>\n",
       "    <tr style=\"text-align: right;\">\n",
       "      <th></th>\n",
       "      <th>rating</th>\n",
       "      <th>bill</th>\n",
       "      <th>option_count</th>\n",
       "      <th>LHS</th>\n",
       "      <th>RHS</th>\n",
       "      <th>LHS_C</th>\n",
       "      <th>RHS_C</th>\n",
       "    </tr>\n",
       "  </thead>\n",
       "  <tbody>\n",
       "    <tr>\n",
       "      <th>2</th>\n",
       "      <td>2.302585</td>\n",
       "      <td>(745321, 751839)</td>\n",
       "      <td>2</td>\n",
       "      <td>745321</td>\n",
       "      <td>751839</td>\n",
       "      <td>2524</td>\n",
       "      <td>3071</td>\n",
       "    </tr>\n",
       "    <tr>\n",
       "      <th>5</th>\n",
       "      <td>5.017280</td>\n",
       "      <td>(751782, 751839)</td>\n",
       "      <td>2</td>\n",
       "      <td>751782</td>\n",
       "      <td>751839</td>\n",
       "      <td>3019</td>\n",
       "      <td>3071</td>\n",
       "    </tr>\n",
       "    <tr>\n",
       "      <th>10</th>\n",
       "      <td>4.672829</td>\n",
       "      <td>(751873, 760125)</td>\n",
       "      <td>2</td>\n",
       "      <td>751873</td>\n",
       "      <td>760125</td>\n",
       "      <td>3039</td>\n",
       "      <td>3746</td>\n",
       "    </tr>\n",
       "    <tr>\n",
       "      <th>11</th>\n",
       "      <td>2.484907</td>\n",
       "      <td>(772494, 754574)</td>\n",
       "      <td>2</td>\n",
       "      <td>772494</td>\n",
       "      <td>754574</td>\n",
       "      <td>4308</td>\n",
       "      <td>3518</td>\n",
       "    </tr>\n",
       "    <tr>\n",
       "      <th>13</th>\n",
       "      <td>2.397895</td>\n",
       "      <td>(772494, 749358)</td>\n",
       "      <td>2</td>\n",
       "      <td>772494</td>\n",
       "      <td>749358</td>\n",
       "      <td>4308</td>\n",
       "      <td>2816</td>\n",
       "    </tr>\n",
       "  </tbody>\n",
       "</table>\n",
       "</div>"
      ],
      "text/plain": [
       "      rating              bill  option_count     LHS     RHS  LHS_C  RHS_C\n",
       "2   2.302585  (745321, 751839)             2  745321  751839   2524   3071\n",
       "5   5.017280  (751782, 751839)             2  751782  751839   3019   3071\n",
       "10  4.672829  (751873, 760125)             2  751873  760125   3039   3746\n",
       "11  2.484907  (772494, 754574)             2  772494  754574   4308   3518\n",
       "13  2.397895  (772494, 749358)             2  772494  749358   4308   2816"
      ]
     },
     "execution_count": 149,
     "metadata": {},
     "output_type": "execute_result"
    }
   ],
   "source": [
    "sublist_by_2_concat[\"LHS_C\"] = sublist_by_2_concat.LHS.astype('category').cat.codes.values\n",
    "sublist_by_2_concat[\"RHS_C\"] = sublist_by_2_concat.RHS.astype('category').cat.codes.values\n",
    "\n",
    "sublist_by_2_concat.head() "
   ]
  },
  {
   "cell_type": "markdown",
   "metadata": {},
   "source": [
    "### Building MF Model "
   ]
  },
  {
   "cell_type": "code",
   "execution_count": 49,
   "metadata": {},
   "outputs": [],
   "source": [
    "# from sklearn.utils import shuffle \n",
    "# from keras.models import Model \n",
    "# from keras.layers import Input, Embedding, Dense, Flatten, Concatenate, Activation\n",
    "\n",
    "# N = len(dataset_combined_MF.LHS.unique()) \n",
    "# M = len(dataset_combined_MF.RHS.unique()) \n",
    "\n",
    "# data_shuffled = shuffle(dataset_combined_MF) \n",
    "\n",
    "# # initialize the latent vector dimension \n",
    "# K = 10 \n",
    "# mu = dataset_combined_MF.rating.mean() \n",
    "# epochs = 25 \n",
    "\n",
    "# u = Input(shape=(1,))\n",
    "# m = Input(shape=(1,))\n",
    "\n",
    "# u_embedding = Embedding(N, K)(u) # u -> u_embdedding\n",
    "# m_embedding = Embedding(M, K)(m) # m -> m_embedding \n",
    "\n",
    "# u_embedding = Flatten()(u_embedding) # (N, K)\n",
    "# m_embedding = Flatten()(m_embedding) # (N, K)\n",
    "\n",
    "# x = Concatenate()([u_embedding, m_embedding]) # (N, 2K)\n",
    "# x = Dense(400)(x)\n",
    "# x = Activation('relu')(x)\n",
    "# x = Dense(1)(x)\n",
    "\n",
    "# model = Model(inputs=[u, m], outputs=x)  # Function 1 fulfilled"
   ]
  },
  {
   "cell_type": "code",
   "execution_count": null,
   "metadata": {},
   "outputs": [],
   "source": [
    "# movie_input = keras.layers.Input(shape=[1],name='Item')\n",
    "# movie_embedding = keras.layers.Embedding(n_movies + 1, n_latent_factors, name='Movie-Embedding')(movie_input)\n",
    "# movie_vec = keras.layers.Flatten(name='FlattenMovies')(movie_embedding)\n",
    "\n",
    "# user_input = keras.layers.Input(shape=[1],name='User')\n",
    "# user_vec = keras.layers.Flatten(name='FlattenUsers')(keras.layers.Embedding(n_users + 1, n_latent_factors,name='User-Embedding')(user_input))\n",
    "\n",
    "# prod = keras.layers.dot([movie_vec, user_vec], axes=1,name='DotProduct')\n",
    "# model = keras.Model([user_input, movie_input], prod)"
   ]
  },
  {
   "cell_type": "code",
   "execution_count": 150,
   "metadata": {},
   "outputs": [],
   "source": [
    "from tensorflow import keras\n",
    "from keras.optimizers import Adam \n",
    "\n",
    "n_rhs, n_lhs = len(sublist_by_2_concat.RHS_C.unique()), len(sublist_by_2_concat.LHS_C.unique())\n",
    "n_latent_factors = 20\n",
    "\n",
    "lhs_input = keras.layers.Input(shape=(1,), name=\"lhs-item\") \n",
    "lhs_embedding = keras.layers.Embedding(n_lhs + 1, n_latent_factors, name=\"lhs-embeddings\")(lhs_input) \n",
    "lhs_vec = keras.layers.Flatten(name=\"flatten-lhs\")(lhs_embedding) \n",
    "\n",
    "rhs_input= keras.layers.Input(shape=(1,), name=\"rhs-item\")\n",
    "rhs_embedding = keras.layers.Embedding(n_rhs + 1, n_latent_factors, name=\"rhs-embeddings\")(rhs_input) \n",
    "rhs_vec = keras.layers.Flatten(name=\"flatten-rhs\")(rhs_embedding)\n",
    "\n",
    "product = keras.layers.dot([lhs_vec, rhs_vec], axes=1, name=\"dot-product\") \n",
    "\n",
    "model = keras.Model([rhs_input, lhs_input], product) \n"
   ]
  },
  {
   "cell_type": "code",
   "execution_count": 151,
   "metadata": {},
   "outputs": [
    {
     "name": "stdout",
     "output_type": "stream",
     "text": [
      "Model: \"model_1\"\n",
      "__________________________________________________________________________________________________\n",
      " Layer (type)                   Output Shape         Param #     Connected to                     \n",
      "==================================================================================================\n",
      " lhs-item (InputLayer)          [(None, 1)]          0           []                               \n",
      "                                                                                                  \n",
      " rhs-item (InputLayer)          [(None, 1)]          0           []                               \n",
      "                                                                                                  \n",
      " lhs-embeddings (Embedding)     (None, 1, 20)        100860      ['lhs-item[0][0]']               \n",
      "                                                                                                  \n",
      " rhs-embeddings (Embedding)     (None, 1, 20)        101820      ['rhs-item[0][0]']               \n",
      "                                                                                                  \n",
      " flatten-lhs (Flatten)          (None, 20)           0           ['lhs-embeddings[0][0]']         \n",
      "                                                                                                  \n",
      " flatten-rhs (Flatten)          (None, 20)           0           ['rhs-embeddings[0][0]']         \n",
      "                                                                                                  \n",
      " dot-product (Dot)              (None, 1)            0           ['flatten-lhs[0][0]',            \n",
      "                                                                  'flatten-rhs[0][0]']            \n",
      "                                                                                                  \n",
      "==================================================================================================\n",
      "Total params: 202,680\n",
      "Trainable params: 202,680\n",
      "Non-trainable params: 0\n",
      "__________________________________________________________________________________________________\n"
     ]
    }
   ],
   "source": [
    "model.compile(optimizer='adam', loss='mean_squared_error', metrics=['mae', 'mse'])\n",
    "model.summary() "
   ]
  },
  {
   "cell_type": "code",
   "execution_count": 153,
   "metadata": {},
   "outputs": [
    {
     "name": "stdout",
     "output_type": "stream",
     "text": [
      "Epoch 1/100\n",
      "7590/7590 [==============================] - 17s 2ms/step - loss: 0.4264 - mae: 0.4748 - mse: 0.4264\n",
      "Epoch 2/100\n",
      "7590/7590 [==============================] - 18s 2ms/step - loss: 0.3396 - mae: 0.4249 - mse: 0.3396\n",
      "Epoch 3/100\n",
      "7590/7590 [==============================] - 17s 2ms/step - loss: 0.2808 - mae: 0.3874 - mse: 0.2808\n",
      "Epoch 4/100\n",
      "7590/7590 [==============================] - 19s 3ms/step - loss: 0.2442 - mae: 0.3618 - mse: 0.2442\n",
      "Epoch 5/100\n",
      "7590/7590 [==============================] - 19s 2ms/step - loss: 0.2195 - mae: 0.3439 - mse: 0.2195\n",
      "Epoch 6/100\n",
      "7590/7590 [==============================] - 18s 2ms/step - loss: 0.2019 - mae: 0.3302 - mse: 0.2019\n",
      "Epoch 7/100\n",
      "7590/7590 [==============================] - 25s 3ms/step - loss: 0.1886 - mae: 0.3195 - mse: 0.1886\n",
      "Epoch 8/100\n",
      "7590/7590 [==============================] - 20s 3ms/step - loss: 0.1782 - mae: 0.3107 - mse: 0.1782\n",
      "Epoch 9/100\n",
      "7590/7590 [==============================] - 19s 2ms/step - loss: 0.1699 - mae: 0.3035 - mse: 0.1699\n",
      "Epoch 10/100\n",
      "7590/7590 [==============================] - 19s 3ms/step - loss: 0.1634 - mae: 0.2981 - mse: 0.1634\n",
      "Epoch 11/100\n",
      "7590/7590 [==============================] - 21s 3ms/step - loss: 0.1579 - mae: 0.2932 - mse: 0.1579\n",
      "Epoch 12/100\n",
      "7590/7590 [==============================] - 29s 4ms/step - loss: 0.1538 - mae: 0.2892 - mse: 0.1538\n",
      "Epoch 13/100\n",
      "7590/7590 [==============================] - 23s 3ms/step - loss: 0.1499 - mae: 0.2856 - mse: 0.1499\n",
      "Epoch 14/100\n",
      "7590/7590 [==============================] - 22s 3ms/step - loss: 0.1469 - mae: 0.2830 - mse: 0.1469\n",
      "Epoch 15/100\n",
      "7590/7590 [==============================] - 24s 3ms/step - loss: 0.1443 - mae: 0.2805 - mse: 0.1443\n",
      "Epoch 16/100\n",
      "7590/7590 [==============================] - 28s 4ms/step - loss: 0.1422 - mae: 0.2781 - mse: 0.1422\n",
      "Epoch 17/100\n",
      "7590/7590 [==============================] - 21s 3ms/step - loss: 0.1403 - mae: 0.2760 - mse: 0.1403\n",
      "Epoch 18/100\n",
      "7590/7590 [==============================] - 22s 3ms/step - loss: 0.1386 - mae: 0.2744 - mse: 0.1386\n",
      "Epoch 19/100\n",
      "7590/7590 [==============================] - 22s 3ms/step - loss: 0.1372 - mae: 0.2728 - mse: 0.1372\n",
      "Epoch 20/100\n",
      "7590/7590 [==============================] - 20s 3ms/step - loss: 0.1360 - mae: 0.2717 - mse: 0.1360\n",
      "Epoch 21/100\n",
      "7590/7590 [==============================] - 21s 3ms/step - loss: 0.1347 - mae: 0.2703 - mse: 0.1347\n",
      "Epoch 22/100\n",
      "7590/7590 [==============================] - 22s 3ms/step - loss: 0.1338 - mae: 0.2694 - mse: 0.1338\n",
      "Epoch 23/100\n",
      "7590/7590 [==============================] - 20s 3ms/step - loss: 0.1328 - mae: 0.2681 - mse: 0.1328\n",
      "Epoch 24/100\n",
      "7590/7590 [==============================] - 20s 3ms/step - loss: 0.1321 - mae: 0.2674 - mse: 0.1321\n",
      "Epoch 25/100\n",
      "7590/7590 [==============================] - 20s 3ms/step - loss: 0.1314 - mae: 0.2665 - mse: 0.1314\n",
      "Epoch 26/100\n",
      "7590/7590 [==============================] - 20s 3ms/step - loss: 0.1306 - mae: 0.2658 - mse: 0.1306\n",
      "Epoch 27/100\n",
      "7590/7590 [==============================] - 20s 3ms/step - loss: 0.1301 - mae: 0.2653 - mse: 0.1301\n",
      "Epoch 28/100\n",
      "7590/7590 [==============================] - 20s 3ms/step - loss: 0.1295 - mae: 0.2645 - mse: 0.1295\n",
      "Epoch 29/100\n",
      "7590/7590 [==============================] - 22s 3ms/step - loss: 0.1290 - mae: 0.2638 - mse: 0.1290\n",
      "Epoch 30/100\n",
      "7590/7590 [==============================] - 23s 3ms/step - loss: 0.1285 - mae: 0.2635 - mse: 0.1285\n",
      "Epoch 31/100\n",
      "7590/7590 [==============================] - 22s 3ms/step - loss: 0.1281 - mae: 0.2627 - mse: 0.1281\n",
      "Epoch 32/100\n",
      "7590/7590 [==============================] - 24s 3ms/step - loss: 0.1277 - mae: 0.2623 - mse: 0.1277\n",
      "Epoch 33/100\n",
      "7590/7590 [==============================] - 25s 3ms/step - loss: 0.1273 - mae: 0.2619 - mse: 0.1273\n",
      "Epoch 34/100\n",
      "7590/7590 [==============================] - 20s 3ms/step - loss: 0.1269 - mae: 0.2615 - mse: 0.1269\n",
      "Epoch 35/100\n",
      "7590/7590 [==============================] - 23s 3ms/step - loss: 0.1266 - mae: 0.2612 - mse: 0.1266\n",
      "Epoch 36/100\n",
      "7590/7590 [==============================] - 30s 4ms/step - loss: 0.1263 - mae: 0.2607 - mse: 0.1263\n",
      "Epoch 37/100\n",
      "7590/7590 [==============================] - 24s 3ms/step - loss: 0.1260 - mae: 0.2603 - mse: 0.1260\n",
      "Epoch 38/100\n",
      "7590/7590 [==============================] - 24s 3ms/step - loss: 0.1256 - mae: 0.2601 - mse: 0.1256\n",
      "Epoch 39/100\n",
      "7590/7590 [==============================] - 20s 3ms/step - loss: 0.1254 - mae: 0.2599 - mse: 0.1254\n",
      "Epoch 40/100\n",
      "7590/7590 [==============================] - 21s 3ms/step - loss: 0.1251 - mae: 0.2595 - mse: 0.1251\n",
      "Epoch 41/100\n",
      "7590/7590 [==============================] - 25s 3ms/step - loss: 0.1250 - mae: 0.2591 - mse: 0.1250\n",
      "Epoch 42/100\n",
      "7590/7590 [==============================] - 20s 3ms/step - loss: 0.1246 - mae: 0.2588 - mse: 0.1246\n",
      "Epoch 43/100\n",
      "7590/7590 [==============================] - 18s 2ms/step - loss: 0.1245 - mae: 0.2588 - mse: 0.1245\n",
      "Epoch 44/100\n",
      "7590/7590 [==============================] - 18s 2ms/step - loss: 0.1242 - mae: 0.2583 - mse: 0.1242\n",
      "Epoch 45/100\n",
      "7590/7590 [==============================] - 17s 2ms/step - loss: 0.1240 - mae: 0.2580 - mse: 0.1240\n",
      "Epoch 46/100\n",
      "7590/7590 [==============================] - 18s 2ms/step - loss: 0.1238 - mae: 0.2579 - mse: 0.1238\n",
      "Epoch 47/100\n",
      "7590/7590 [==============================] - 18s 2ms/step - loss: 0.1236 - mae: 0.2576 - mse: 0.1236\n",
      "Epoch 48/100\n",
      "7590/7590 [==============================] - 18s 2ms/step - loss: 0.1234 - mae: 0.2574 - mse: 0.1234\n",
      "Epoch 49/100\n",
      "7590/7590 [==============================] - 21s 3ms/step - loss: 0.1232 - mae: 0.2572 - mse: 0.1232\n",
      "Epoch 50/100\n",
      "7590/7590 [==============================] - 21s 3ms/step - loss: 0.1233 - mae: 0.2573 - mse: 0.1233\n",
      "Epoch 51/100\n",
      "7590/7590 [==============================] - 19s 3ms/step - loss: 0.1230 - mae: 0.2571 - mse: 0.1230\n",
      "Epoch 52/100\n",
      "7590/7590 [==============================] - 20s 3ms/step - loss: 0.1229 - mae: 0.2569 - mse: 0.1229\n",
      "Epoch 53/100\n",
      "7590/7590 [==============================] - 20s 3ms/step - loss: 0.1226 - mae: 0.2564 - mse: 0.1226\n",
      "Epoch 54/100\n",
      "7590/7590 [==============================] - 20s 3ms/step - loss: 0.1225 - mae: 0.2565 - mse: 0.1225\n",
      "Epoch 55/100\n",
      "7590/7590 [==============================] - 22s 3ms/step - loss: 0.1223 - mae: 0.2561 - mse: 0.1223\n",
      "Epoch 56/100\n",
      "7590/7590 [==============================] - 19s 3ms/step - loss: 0.1223 - mae: 0.2561 - mse: 0.1223\n",
      "Epoch 57/100\n",
      "7590/7590 [==============================] - 19s 2ms/step - loss: 0.1221 - mae: 0.2560 - mse: 0.1221\n",
      "Epoch 58/100\n",
      "7590/7590 [==============================] - 20s 3ms/step - loss: 0.1218 - mae: 0.2558 - mse: 0.1218\n",
      "Epoch 59/100\n",
      "7590/7590 [==============================] - 19s 3ms/step - loss: 0.1219 - mae: 0.2557 - mse: 0.1219\n",
      "Epoch 60/100\n",
      "7590/7590 [==============================] - 19s 3ms/step - loss: 0.1216 - mae: 0.2556 - mse: 0.1216\n",
      "Epoch 61/100\n",
      "7590/7590 [==============================] - 19s 3ms/step - loss: 0.1216 - mae: 0.2555 - mse: 0.1216\n",
      "Epoch 62/100\n",
      "7590/7590 [==============================] - 19s 3ms/step - loss: 0.1217 - mae: 0.2554 - mse: 0.1217\n",
      "Epoch 63/100\n",
      "7590/7590 [==============================] - 19s 2ms/step - loss: 0.1213 - mae: 0.2554 - mse: 0.1213\n",
      "Epoch 64/100\n",
      "7590/7590 [==============================] - 19s 3ms/step - loss: 0.1214 - mae: 0.2549 - mse: 0.1214\n",
      "Epoch 65/100\n",
      "7590/7590 [==============================] - 19s 3ms/step - loss: 0.1211 - mae: 0.2550 - mse: 0.1211\n",
      "Epoch 66/100\n",
      "7590/7590 [==============================] - 19s 3ms/step - loss: 0.1212 - mae: 0.2549 - mse: 0.1212\n",
      "Epoch 67/100\n",
      "7590/7590 [==============================] - 19s 2ms/step - loss: 0.1210 - mae: 0.2549 - mse: 0.1210\n",
      "Epoch 68/100\n",
      "7590/7590 [==============================] - 20s 3ms/step - loss: 0.1209 - mae: 0.2546 - mse: 0.1209\n",
      "Epoch 69/100\n",
      "7590/7590 [==============================] - 19s 3ms/step - loss: 0.1208 - mae: 0.2545 - mse: 0.1208\n",
      "Epoch 70/100\n",
      "7590/7590 [==============================] - 19s 3ms/step - loss: 0.1208 - mae: 0.2546 - mse: 0.1208\n",
      "Epoch 71/100\n",
      "7590/7590 [==============================] - 27s 4ms/step - loss: 0.1206 - mae: 0.2543 - mse: 0.1206\n",
      "Epoch 72/100\n",
      "7590/7590 [==============================] - 21s 3ms/step - loss: 0.1206 - mae: 0.2544 - mse: 0.1206\n",
      "Epoch 73/100\n",
      "7590/7590 [==============================] - 21s 3ms/step - loss: 0.1205 - mae: 0.2540 - mse: 0.1205\n",
      "Epoch 74/100\n",
      "7590/7590 [==============================] - 21s 3ms/step - loss: 0.1202 - mae: 0.2538 - mse: 0.1202\n",
      "Epoch 75/100\n",
      "7590/7590 [==============================] - 21s 3ms/step - loss: 0.1203 - mae: 0.2539 - mse: 0.1203\n",
      "Epoch 76/100\n",
      "7590/7590 [==============================] - 21s 3ms/step - loss: 0.1205 - mae: 0.2542 - mse: 0.1205\n",
      "Epoch 77/100\n",
      "7590/7590 [==============================] - 21s 3ms/step - loss: 0.1201 - mae: 0.2537 - mse: 0.1201\n",
      "Epoch 78/100\n",
      "7590/7590 [==============================] - 23s 3ms/step - loss: 0.1200 - mae: 0.2537 - mse: 0.1200\n",
      "Epoch 79/100\n",
      "7590/7590 [==============================] - 30s 4ms/step - loss: 0.1200 - mae: 0.2537 - mse: 0.1200\n",
      "Epoch 80/100\n",
      "7590/7590 [==============================] - 19s 2ms/step - loss: 0.1199 - mae: 0.2538 - mse: 0.1199\n",
      "Epoch 81/100\n",
      "7590/7590 [==============================] - 17s 2ms/step - loss: 0.1199 - mae: 0.2536 - mse: 0.1199\n",
      "Epoch 82/100\n",
      "7590/7590 [==============================] - 17s 2ms/step - loss: 0.1198 - mae: 0.2535 - mse: 0.1198\n",
      "Epoch 83/100\n",
      "7590/7590 [==============================] - 17s 2ms/step - loss: 0.1197 - mae: 0.2533 - mse: 0.1197\n",
      "Epoch 84/100\n",
      "7590/7590 [==============================] - 17s 2ms/step - loss: 0.1196 - mae: 0.2531 - mse: 0.1196\n",
      "Epoch 85/100\n",
      "7590/7590 [==============================] - 19s 3ms/step - loss: 0.1195 - mae: 0.2532 - mse: 0.1195\n",
      "Epoch 86/100\n",
      "7590/7590 [==============================] - 22s 3ms/step - loss: 0.1195 - mae: 0.2531 - mse: 0.1195\n",
      "Epoch 87/100\n",
      "7590/7590 [==============================] - 20s 3ms/step - loss: 0.1196 - mae: 0.2530 - mse: 0.1196\n",
      "Epoch 88/100\n",
      "7590/7590 [==============================] - 20s 3ms/step - loss: 0.1195 - mae: 0.2530 - mse: 0.1195\n",
      "Epoch 89/100\n",
      "7590/7590 [==============================] - 20s 3ms/step - loss: 0.1194 - mae: 0.2530 - mse: 0.1194\n",
      "Epoch 90/100\n",
      "7590/7590 [==============================] - 20s 3ms/step - loss: 0.1193 - mae: 0.2529 - mse: 0.1193\n",
      "Epoch 91/100\n",
      "7590/7590 [==============================] - 18s 2ms/step - loss: 0.1193 - mae: 0.2529 - mse: 0.1193\n",
      "Epoch 92/100\n",
      "7590/7590 [==============================] - 18s 2ms/step - loss: 0.1192 - mae: 0.2527 - mse: 0.1192\n",
      "Epoch 93/100\n",
      "7590/7590 [==============================] - 18s 2ms/step - loss: 0.1191 - mae: 0.2527 - mse: 0.1191\n",
      "Epoch 94/100\n",
      "7590/7590 [==============================] - 18s 2ms/step - loss: 0.1191 - mae: 0.2525 - mse: 0.1191\n",
      "Epoch 95/100\n",
      "7590/7590 [==============================] - 17s 2ms/step - loss: 0.1191 - mae: 0.2527 - mse: 0.1191\n",
      "Epoch 96/100\n",
      "7590/7590 [==============================] - 19s 3ms/step - loss: 0.1189 - mae: 0.2525 - mse: 0.1189\n",
      "Epoch 97/100\n",
      "7590/7590 [==============================] - 20s 3ms/step - loss: 0.1189 - mae: 0.2527 - mse: 0.1189\n",
      "Epoch 98/100\n",
      "7590/7590 [==============================] - 20s 3ms/step - loss: 0.1189 - mae: 0.2523 - mse: 0.1189\n",
      "Epoch 99/100\n",
      "7590/7590 [==============================] - 22s 3ms/step - loss: 0.1188 - mae: 0.2524 - mse: 0.1188\n",
      "Epoch 100/100\n",
      "7590/7590 [==============================] - 22s 3ms/step - loss: 0.1188 - mae: 0.2525 - mse: 0.1188\n"
     ]
    }
   ],
   "source": [
    "from sklearn.utils import shuffle \n",
    "data_shuffled = shuffle(sublist_by_2_concat) \n",
    "\n",
    "history = model.fit(\n",
    "    [sublist_by_2_concat.RHS_C, sublist_by_2_concat.LHS_C], \n",
    "    sublist_by_2_concat.rating, \n",
    "    epochs=100\n",
    "    )"
   ]
  },
  {
   "cell_type": "code",
   "execution_count": 156,
   "metadata": {},
   "outputs": [
    {
     "data": {
      "text/plain": [
       "(7.720461694599722, 0.6931471805599453)"
      ]
     },
     "execution_count": 156,
     "metadata": {},
     "output_type": "execute_result"
    }
   ],
   "source": [
    "sublist_by_2_concat.rating.max(), sublist_by_2_concat.rating.min() "
   ]
  },
  {
   "cell_type": "code",
   "execution_count": 159,
   "metadata": {},
   "outputs": [
    {
     "data": {
      "text/plain": [
       "[array([[-1.8919633e-01, -1.6678388e-01, -2.0242344e-01, ...,\n",
       "          1.5663257e-01,  1.5581018e-01,  1.7354497e-01],\n",
       "        [ 2.1757825e-01,  1.7243199e-02,  1.7118968e-01, ...,\n",
       "         -2.2582582e-01,  1.5866593e-02,  1.9119196e-01],\n",
       "        [ 2.8901175e-01, -5.4801655e-01, -4.2496765e-01, ...,\n",
       "         -4.1801688e-01, -4.3379935e-03,  5.4741704e-01],\n",
       "        ...,\n",
       "        [ 3.2770303e-01,  3.8734019e-02, -2.4871132e-04, ...,\n",
       "         -1.6732519e-02, -6.8308443e-02,  4.1180453e-01],\n",
       "        [ 2.4538913e-01, -1.3334420e-01,  2.3802704e-01, ...,\n",
       "          2.6694182e-01, -1.5107200e-01,  9.9516533e-02],\n",
       "        [-4.9810138e-02,  3.8502816e-02, -7.8081489e-03, ...,\n",
       "         -9.4175823e-03,  2.9286016e-02,  3.8760677e-03]], dtype=float32)]"
      ]
     },
     "execution_count": 159,
     "metadata": {},
     "output_type": "execute_result"
    }
   ],
   "source": [
    "model.get_layer(name='lhs-embeddings').get_weights()"
   ]
  },
  {
   "cell_type": "code",
   "execution_count": 184,
   "metadata": {},
   "outputs": [
    {
     "data": {
      "image/png": "[encoded data removed]",
      "text/plain": [
       "<Figure size 720x432 with 1 Axes>"
      ]
     },
     "metadata": {
      "needs_background": "light"
     },
     "output_type": "display_data"
    },
    {
     "data": {
      "image/png": "[encoded data removed]",
      "text/plain": [
       "<Figure size 720x432 with 1 Axes>"
      ]
     },
     "metadata": {
      "needs_background": "light"
     },
     "output_type": "display_data"
    }
   ],
   "source": [
    "import matplotlib.pyplot as plt \n",
    "\n",
    "plt.title(\"loss curve\")\n",
    "plt.xlabel(\"epochs\")\n",
    "plt.ylabel(\"loss\")\n",
    "pd.DataFrame(history.history)[\"loss\"].plot(figsize=(10,6)) \n",
    "pd.DataFrame(history.history)[[\"mse\", \"mae\"]].plot(figsize=(10,6))\n",
    "plt.show() "
   ]
  },
  {
   "cell_type": "code",
   "execution_count": 189,
   "metadata": {},
   "outputs": [
    {
     "data": {
      "text/plain": [
       "array([[-1.8919633e-01, -1.6678388e-01, -2.0242344e-01, ...,\n",
       "         1.5663257e-01,  1.5581018e-01,  1.7354497e-01],\n",
       "       [ 2.1757825e-01,  1.7243199e-02,  1.7118968e-01, ...,\n",
       "        -2.2582582e-01,  1.5866593e-02,  1.9119196e-01],\n",
       "       [ 2.8901175e-01, -5.4801655e-01, -4.2496765e-01, ...,\n",
       "        -4.1801688e-01, -4.3379935e-03,  5.4741704e-01],\n",
       "       ...,\n",
       "       [ 3.2770303e-01,  3.8734019e-02, -2.4871132e-04, ...,\n",
       "        -1.6732519e-02, -6.8308443e-02,  4.1180453e-01],\n",
       "       [ 2.4538913e-01, -1.3334420e-01,  2.3802704e-01, ...,\n",
       "         2.6694182e-01, -1.5107200e-01,  9.9516533e-02],\n",
       "       [-4.9810138e-02,  3.8502816e-02, -7.8081489e-03, ...,\n",
       "        -9.4175823e-03,  2.9286016e-02,  3.8760677e-03]], dtype=float32)"
      ]
     },
     "execution_count": 189,
     "metadata": {},
     "output_type": "execute_result"
    }
   ],
   "source": [
    "lhs_embddings = model.get_layer(name='lhs-embeddings').get_weights()[0]\n",
    "lhs_embddings"
   ]
  },
  {
   "cell_type": "code",
   "execution_count": 190,
   "metadata": {},
   "outputs": [
    {
     "data": {
      "text/plain": [
       "array([[ 0.2885845 ,  0.24961697, -0.22353339, ...,  0.2893922 ,\n",
       "        -0.17789634, -0.23862965],\n",
       "       [ 0.26551294,  0.01302331,  0.2628403 , ..., -0.2879019 ,\n",
       "        -0.01544847,  0.30979297],\n",
       "       [-0.19071133, -0.16720483, -0.1802397 , ...,  0.15463042,\n",
       "         0.1612276 ,  0.1723042 ],\n",
       "       ...,\n",
       "       [-0.13801906, -0.23344277, -0.27822214, ..., -0.34374952,\n",
       "        -0.05915472,  0.5128158 ],\n",
       "       [-0.12609707,  0.4221885 , -0.02330181, ..., -0.6256042 ,\n",
       "        -0.09161535, -0.03416852],\n",
       "       [ 0.02206794,  0.02889726, -0.03546559, ...,  0.02652128,\n",
       "        -0.0357474 ,  0.02859039]], dtype=float32)"
      ]
     },
     "execution_count": 190,
     "metadata": {},
     "output_type": "execute_result"
    }
   ],
   "source": [
    "rhs_embddings = model.get_layer(name='rhs-embeddings').get_weights()[0]\n",
    "rhs_embddings"
   ]
  },
  {
   "cell_type": "code",
   "execution_count": 191,
   "metadata": {},
   "outputs": [],
   "source": [
    "def recommend(option_in_category, number_of_movies=5):\n",
    "  options = lhs_embddings[option_in_category]@rhs_embddings.T\n",
    "  mids = np.argpartition(options, -number_of_movies)[-number_of_movies:]\n",
    "  \n",
    "  return mids"
   ]
  },
  {
   "cell_type": "code",
   "execution_count": 193,
   "metadata": {},
   "outputs": [
    {
     "data": {
      "text/plain": [
       "array([2100, 4248, 2490, 2559, 2065], dtype=int64)"
      ]
     },
     "execution_count": 193,
     "metadata": {},
     "output_type": "execute_result"
    }
   ],
   "source": [
    "recommend(2524)"
   ]
  },
  {
   "cell_type": "code",
   "execution_count": 194,
   "metadata": {},
   "outputs": [
    {
     "data": {
      "text/html": [
       "<div>\n",
       "<style scoped>\n",
       "    .dataframe tbody tr th:only-of-type {\n",
       "        vertical-align: middle;\n",
       "    }\n",
       "\n",
       "    .dataframe tbody tr th {\n",
       "        vertical-align: top;\n",
       "    }\n",
       "\n",
       "    .dataframe thead th {\n",
       "        text-align: right;\n",
       "    }\n",
       "</style>\n",
       "<table border=\"1\" class=\"dataframe\">\n",
       "  <thead>\n",
       "    <tr style=\"text-align: right;\">\n",
       "      <th></th>\n",
       "      <th>rating</th>\n",
       "      <th>bill</th>\n",
       "      <th>option_count</th>\n",
       "      <th>LHS</th>\n",
       "      <th>RHS</th>\n",
       "      <th>LHS_C</th>\n",
       "      <th>RHS_C</th>\n",
       "    </tr>\n",
       "  </thead>\n",
       "  <tbody>\n",
       "    <tr>\n",
       "      <th>2</th>\n",
       "      <td>2.302585</td>\n",
       "      <td>(745321, 751839)</td>\n",
       "      <td>2</td>\n",
       "      <td>745321</td>\n",
       "      <td>751839</td>\n",
       "      <td>2524</td>\n",
       "      <td>3071</td>\n",
       "    </tr>\n",
       "    <tr>\n",
       "      <th>5</th>\n",
       "      <td>5.017280</td>\n",
       "      <td>(751782, 751839)</td>\n",
       "      <td>2</td>\n",
       "      <td>751782</td>\n",
       "      <td>751839</td>\n",
       "      <td>3019</td>\n",
       "      <td>3071</td>\n",
       "    </tr>\n",
       "    <tr>\n",
       "      <th>10</th>\n",
       "      <td>4.672829</td>\n",
       "      <td>(751873, 760125)</td>\n",
       "      <td>2</td>\n",
       "      <td>751873</td>\n",
       "      <td>760125</td>\n",
       "      <td>3039</td>\n",
       "      <td>3746</td>\n",
       "    </tr>\n",
       "    <tr>\n",
       "      <th>11</th>\n",
       "      <td>2.484907</td>\n",
       "      <td>(772494, 754574)</td>\n",
       "      <td>2</td>\n",
       "      <td>772494</td>\n",
       "      <td>754574</td>\n",
       "      <td>4308</td>\n",
       "      <td>3518</td>\n",
       "    </tr>\n",
       "    <tr>\n",
       "      <th>13</th>\n",
       "      <td>2.397895</td>\n",
       "      <td>(772494, 749358)</td>\n",
       "      <td>2</td>\n",
       "      <td>772494</td>\n",
       "      <td>749358</td>\n",
       "      <td>4308</td>\n",
       "      <td>2816</td>\n",
       "    </tr>\n",
       "  </tbody>\n",
       "</table>\n",
       "</div>"
      ],
      "text/plain": [
       "      rating              bill  option_count     LHS     RHS  LHS_C  RHS_C\n",
       "2   2.302585  (745321, 751839)             2  745321  751839   2524   3071\n",
       "5   5.017280  (751782, 751839)             2  751782  751839   3019   3071\n",
       "10  4.672829  (751873, 760125)             2  751873  760125   3039   3746\n",
       "11  2.484907  (772494, 754574)             2  772494  754574   4308   3518\n",
       "13  2.397895  (772494, 749358)             2  772494  749358   4308   2816"
      ]
     },
     "execution_count": 194,
     "metadata": {},
     "output_type": "execute_result"
    }
   ],
   "source": [
    "sublist_by_2_concat.head() "
   ]
  },
  {
   "cell_type": "code",
   "execution_count": 200,
   "metadata": {},
   "outputs": [
    {
     "data": {
      "text/html": [
       "<div>\n",
       "<style scoped>\n",
       "    .dataframe tbody tr th:only-of-type {\n",
       "        vertical-align: middle;\n",
       "    }\n",
       "\n",
       "    .dataframe tbody tr th {\n",
       "        vertical-align: top;\n",
       "    }\n",
       "\n",
       "    .dataframe thead th {\n",
       "        text-align: right;\n",
       "    }\n",
       "</style>\n",
       "<table border=\"1\" class=\"dataframe\">\n",
       "  <thead>\n",
       "    <tr style=\"text-align: right;\">\n",
       "      <th></th>\n",
       "      <th>rating</th>\n",
       "      <th>bill</th>\n",
       "      <th>option_count</th>\n",
       "      <th>LHS</th>\n",
       "      <th>RHS</th>\n",
       "      <th>LHS_C</th>\n",
       "      <th>RHS_C</th>\n",
       "    </tr>\n",
       "  </thead>\n",
       "  <tbody>\n",
       "    <tr>\n",
       "      <th>776970</th>\n",
       "      <td>0.693147</td>\n",
       "      <td>(760352, 721495)</td>\n",
       "      <td>2</td>\n",
       "      <td>760352</td>\n",
       "      <td>721495</td>\n",
       "      <td>3719</td>\n",
       "      <td>2100</td>\n",
       "    </tr>\n",
       "    <tr>\n",
       "      <th>776972</th>\n",
       "      <td>0.693147</td>\n",
       "      <td>(760065, 721495)</td>\n",
       "      <td>2</td>\n",
       "      <td>760065</td>\n",
       "      <td>721495</td>\n",
       "      <td>3698</td>\n",
       "      <td>2100</td>\n",
       "    </tr>\n",
       "    <tr>\n",
       "      <th>776973</th>\n",
       "      <td>1.791759</td>\n",
       "      <td>(767779, 721495)</td>\n",
       "      <td>2</td>\n",
       "      <td>767779</td>\n",
       "      <td>721495</td>\n",
       "      <td>4142</td>\n",
       "      <td>2100</td>\n",
       "    </tr>\n",
       "    <tr>\n",
       "      <th>776974</th>\n",
       "      <td>0.693147</td>\n",
       "      <td>(760332, 721495)</td>\n",
       "      <td>2</td>\n",
       "      <td>760332</td>\n",
       "      <td>721495</td>\n",
       "      <td>3715</td>\n",
       "      <td>2100</td>\n",
       "    </tr>\n",
       "    <tr>\n",
       "      <th>1168575</th>\n",
       "      <td>2.079442</td>\n",
       "      <td>(714275, 721495)</td>\n",
       "      <td>2</td>\n",
       "      <td>714275</td>\n",
       "      <td>721495</td>\n",
       "      <td>1741</td>\n",
       "      <td>2100</td>\n",
       "    </tr>\n",
       "  </tbody>\n",
       "</table>\n",
       "</div>"
      ],
      "text/plain": [
       "           rating              bill  option_count     LHS     RHS  LHS_C  \\\n",
       "776970   0.693147  (760352, 721495)             2  760352  721495   3719   \n",
       "776972   0.693147  (760065, 721495)             2  760065  721495   3698   \n",
       "776973   1.791759  (767779, 721495)             2  767779  721495   4142   \n",
       "776974   0.693147  (760332, 721495)             2  760332  721495   3715   \n",
       "1168575  2.079442  (714275, 721495)             2  714275  721495   1741   \n",
       "\n",
       "         RHS_C  \n",
       "776970    2100  \n",
       "776972    2100  \n",
       "776973    2100  \n",
       "776974    2100  \n",
       "1168575   2100  "
      ]
     },
     "execution_count": 200,
     "metadata": {},
     "output_type": "execute_result"
    }
   ],
   "source": [
    "sublist_by_2_concat[sublist_by_2_concat.RHS_C == 2100].head()     # RHS = 721495, LHS = 751839"
   ]
  },
  {
   "cell_type": "code",
   "execution_count": 205,
   "metadata": {},
   "outputs": [
    {
     "data": {
      "text/html": [
       "<div>\n",
       "<style scoped>\n",
       "    .dataframe tbody tr th:only-of-type {\n",
       "        vertical-align: middle;\n",
       "    }\n",
       "\n",
       "    .dataframe tbody tr th {\n",
       "        vertical-align: top;\n",
       "    }\n",
       "\n",
       "    .dataframe thead th {\n",
       "        text-align: right;\n",
       "    }\n",
       "</style>\n",
       "<table border=\"1\" class=\"dataframe\">\n",
       "  <thead>\n",
       "    <tr style=\"text-align: right;\">\n",
       "      <th></th>\n",
       "      <th>rating</th>\n",
       "      <th>bill</th>\n",
       "      <th>option_count</th>\n",
       "      <th>LHS</th>\n",
       "      <th>RHS</th>\n",
       "      <th>LHS_C</th>\n",
       "      <th>RHS_C</th>\n",
       "    </tr>\n",
       "  </thead>\n",
       "  <tbody>\n",
       "  </tbody>\n",
       "</table>\n",
       "</div>"
      ],
      "text/plain": [
       "Empty DataFrame\n",
       "Columns: [rating, bill, option_count, LHS, RHS, LHS_C, RHS_C]\n",
       "Index: []"
      ]
     },
     "execution_count": 205,
     "metadata": {},
     "output_type": "execute_result"
    }
   ],
   "source": [
    "# RHS = 721495, LHS = 751839 \n",
    "sublist_by_2_concat.loc[(sublist_by_2_concat.RHS== 721495) & (sublist_by_2_concat.LHS == 751839)]\n"
   ]
  },
  {
   "cell_type": "markdown",
   "metadata": {},
   "source": [
    "# Model 2: Apriori (apyori Module)"
   ]
  },
  {
   "cell_type": "code",
   "execution_count": 52,
   "metadata": {},
   "outputs": [
    {
     "data": {
      "text/html": [
       "<div>\n",
       "<style scoped>\n",
       "    .dataframe tbody tr th:only-of-type {\n",
       "        vertical-align: middle;\n",
       "    }\n",
       "\n",
       "    .dataframe tbody tr th {\n",
       "        vertical-align: top;\n",
       "    }\n",
       "\n",
       "    .dataframe thead th {\n",
       "        text-align: right;\n",
       "    }\n",
       "</style>\n",
       "<table border=\"1\" class=\"dataframe\">\n",
       "  <thead>\n",
       "    <tr style=\"text-align: right;\">\n",
       "      <th></th>\n",
       "      <th>rating</th>\n",
       "      <th>bill</th>\n",
       "    </tr>\n",
       "  </thead>\n",
       "  <tbody>\n",
       "    <tr>\n",
       "      <th>2</th>\n",
       "      <td>10</td>\n",
       "      <td>(745321, 751839)</td>\n",
       "    </tr>\n",
       "    <tr>\n",
       "      <th>5</th>\n",
       "      <td>151</td>\n",
       "      <td>(751782, 751839)</td>\n",
       "    </tr>\n",
       "    <tr>\n",
       "      <th>10</th>\n",
       "      <td>107</td>\n",
       "      <td>(751873, 760125)</td>\n",
       "    </tr>\n",
       "    <tr>\n",
       "      <th>11</th>\n",
       "      <td>12</td>\n",
       "      <td>(772494, 754574)</td>\n",
       "    </tr>\n",
       "    <tr>\n",
       "      <th>13</th>\n",
       "      <td>11</td>\n",
       "      <td>(772494, 749358)</td>\n",
       "    </tr>\n",
       "    <tr>\n",
       "      <th>...</th>\n",
       "      <td>...</td>\n",
       "      <td>...</td>\n",
       "    </tr>\n",
       "    <tr>\n",
       "      <th>5211482</th>\n",
       "      <td>2</td>\n",
       "      <td>(774694, 767718, 767721)</td>\n",
       "    </tr>\n",
       "    <tr>\n",
       "      <th>5213307</th>\n",
       "      <td>2</td>\n",
       "      <td>(774590, 774319)</td>\n",
       "    </tr>\n",
       "    <tr>\n",
       "      <th>5213311</th>\n",
       "      <td>2</td>\n",
       "      <td>(774469, 774590, 774319)</td>\n",
       "    </tr>\n",
       "    <tr>\n",
       "      <th>5213576</th>\n",
       "      <td>2</td>\n",
       "      <td>(764896, 786771, 774571)</td>\n",
       "    </tr>\n",
       "    <tr>\n",
       "      <th>5215140</th>\n",
       "      <td>2</td>\n",
       "      <td>(748899, 748868, 752949)</td>\n",
       "    </tr>\n",
       "  </tbody>\n",
       "</table>\n",
       "<p>448529 rows × 2 columns</p>\n",
       "</div>"
      ],
      "text/plain": [
       "         rating                      bill\n",
       "2            10          (745321, 751839)\n",
       "5           151          (751782, 751839)\n",
       "10          107          (751873, 760125)\n",
       "11           12          (772494, 754574)\n",
       "13           11          (772494, 749358)\n",
       "...         ...                       ...\n",
       "5211482       2  (774694, 767718, 767721)\n",
       "5213307       2          (774590, 774319)\n",
       "5213311       2  (774469, 774590, 774319)\n",
       "5213576       2  (764896, 786771, 774571)\n",
       "5215140       2  (748899, 748868, 752949)\n",
       "\n",
       "[448529 rows x 2 columns]"
      ]
     },
     "execution_count": 52,
     "metadata": {},
     "output_type": "execute_result"
    }
   ],
   "source": [
    "data_3_greater_1"
   ]
  },
  {
   "cell_type": "code",
   "execution_count": 53,
   "metadata": {},
   "outputs": [],
   "source": [
    "from apyori import apriori "
   ]
  },
  {
   "cell_type": "code",
   "execution_count": 54,
   "metadata": {},
   "outputs": [],
   "source": [
    "transactions = [] \n",
    "\n",
    "for index,row in data_greater_1.iterrows(): \n",
    "    transaction = [str(row.option_x), str(row.option_y)]\n",
    "\n",
    "    for i in range(row.rating):\n",
    "        transactions.append(transaction) "
   ]
  },
  {
   "cell_type": "code",
   "execution_count": 55,
   "metadata": {},
   "outputs": [
    {
     "data": {
      "text/plain": [
       "533"
      ]
     },
     "execution_count": 55,
     "metadata": {},
     "output_type": "execute_result"
    }
   ],
   "source": [
    "associations = apriori(\n",
    "    transactions,\n",
    "    min_length = 2,\n",
    "    min_support = 0.001,\n",
    "    min_confidence = 0.001,\n",
    "    min_lift = 0.001\n",
    ")\n",
    "\n",
    "associations = list(associations)\n",
    "len(associations)"
   ]
  },
  {
   "cell_type": "code",
   "execution_count": 56,
   "metadata": {},
   "outputs": [
    {
     "name": "stdout",
     "output_type": "stream",
     "text": [
      "RelationRecord(items=frozenset({'714981'}), support=0.0010121434775095435, ordered_statistics=[OrderedStatistic(items_base=frozenset(), items_add=frozenset({'714981'}), confidence=0.0010121434775095435, lift=1.0)])\n",
      "support 0.0010121434775095435\n",
      "[OrderedStatistic(items_base=frozenset(), items_add=frozenset({'714981'}), confidence=0.0010121434775095435, lift=1.0)]\n",
      "right frozenset({'714981'})\n",
      "left frozenset()\n",
      "confidence 0.0010121434775095435\n",
      "lift 1.0\n"
     ]
    }
   ],
   "source": [
    "association = associations[100]\n",
    "print(association)\n",
    "print(\"support\", association.support)\n",
    "print(association.ordered_statistics)\n",
    "print(\"right\", association.ordered_statistics[0].items_add)\n",
    "print(\"left\", association.ordered_statistics[0].items_base)\n",
    "print(\"confidence\", association.ordered_statistics[0].confidence)\n",
    "print(\"lift\", association.ordered_statistics[0].lift)\n"
   ]
  },
  {
   "cell_type": "code",
   "execution_count": 57,
   "metadata": {},
   "outputs": [],
   "source": [
    "rules = [] \n",
    "for association in associations:\n",
    "    if len(association.ordered_statistics) > 1: \n",
    "        rules.append(association)"
   ]
  },
  {
   "cell_type": "code",
   "execution_count": 58,
   "metadata": {},
   "outputs": [
    {
     "data": {
      "text/plain": [
       "4"
      ]
     },
     "execution_count": 58,
     "metadata": {},
     "output_type": "execute_result"
    }
   ],
   "source": [
    "len(rules)"
   ]
  },
  {
   "cell_type": "code",
   "execution_count": 59,
   "metadata": {},
   "outputs": [
    {
     "data": {
      "text/plain": [
       "[RelationRecord(items=frozenset({'751581', '751600'}), support=0.001021120359793442, ordered_statistics=[OrderedStatistic(items_base=frozenset(), items_add=frozenset({'751581', '751600'}), confidence=0.001021120359793442, lift=1.0), OrderedStatistic(items_base=frozenset({'751581'}), items_add=frozenset({'751600'}), confidence=0.0792314836312979, lift=6.939267030030741), OrderedStatistic(items_base=frozenset({'751600'}), items_add=frozenset({'751581'}), confidence=0.0894319596409618, lift=6.93926703003074)]),\n",
       " RelationRecord(items=frozenset({'753517', '753600'}), support=0.0012432981963199272, ordered_statistics=[OrderedStatistic(items_base=frozenset(), items_add=frozenset({'753517', '753600'}), confidence=0.0012432981963199272, lift=1.0), OrderedStatistic(items_base=frozenset({'753517'}), items_add=frozenset({'753600'}), confidence=0.08947510094212652, lift=4.467295221524749), OrderedStatistic(items_base=frozenset({'753600'}), items_add=frozenset({'753517'}), confidence=0.062075147531186974, lift=4.46729522152475)]),\n",
       " RelationRecord(items=frozenset({'753600', '753609'}), support=0.001716080663271909, ordered_statistics=[OrderedStatistic(items_base=frozenset(), items_add=frozenset({'753600', '753609'}), confidence=0.001716080663271909, lift=1.0), OrderedStatistic(items_base=frozenset({'753600'}), items_add=frozenset({'753609'}), confidence=0.08568013744677672, lift=6.310434175995337), OrderedStatistic(items_base=frozenset({'753609'}), items_add=frozenset({'753600'}), confidence=0.12639118457300275, lift=6.310434175995337)]),\n",
       " RelationRecord(items=frozenset({'778629', '778581'}), support=0.0010562798154053774, ordered_statistics=[OrderedStatistic(items_base=frozenset(), items_add=frozenset({'778629', '778581'}), confidence=0.0010562798154053774, lift=1.0), OrderedStatistic(items_base=frozenset({'778581'}), items_add=frozenset({'778629'}), confidence=0.20884484543706555, lift=26.68229929278121), OrderedStatistic(items_base=frozenset({'778629'}), items_add=frozenset({'778581'}), confidence=0.13495173468412502, lift=26.682299292781213)])]"
      ]
     },
     "execution_count": 59,
     "metadata": {},
     "output_type": "execute_result"
    }
   ],
   "source": [
    "rules"
   ]
  },
  {
   "cell_type": "code",
   "execution_count": 60,
   "metadata": {},
   "outputs": [],
   "source": [
    "import string \n",
    "transactions_with_3 = [] \n",
    "\n",
    "for index,row in data_3_greater_1.iterrows(): \n",
    "    transaction = list(tuple(map(int, row.bill.translate(str.maketrans(\"\", \"\", string.punctuation)).split(\" \"))))\n",
    "    \n",
    "    transactions_with_3.append(transaction)"
   ]
  },
  {
   "cell_type": "code",
   "execution_count": 61,
   "metadata": {},
   "outputs": [
    {
     "data": {
      "text/plain": [
       "533"
      ]
     },
     "execution_count": 61,
     "metadata": {},
     "output_type": "execute_result"
    }
   ],
   "source": [
    "from apyori import apriori \n",
    "\n",
    "associations_with_3 = apriori(\n",
    "    transactions,\n",
    "    min_length = 2,\n",
    "    min_support = 0.001,\n",
    "    min_confidence = 0.001,\n",
    "    min_lift = 0.001\n",
    ")\n",
    "\n",
    "associations_with_3 = list(associations_with_3)\n",
    "len(associations_with_3)"
   ]
  },
  {
   "cell_type": "markdown",
   "metadata": {},
   "source": [
    "# Model 3: Apriori (mlxtend Module)"
   ]
  },
  {
   "cell_type": "code",
   "execution_count": 62,
   "metadata": {},
   "outputs": [],
   "source": [
    "from efficient_apriori import apriori "
   ]
  },
  {
   "cell_type": "code",
   "execution_count": 63,
   "metadata": {},
   "outputs": [],
   "source": [
    "transactions_with_3 = list(map(lambda x: tuple(x), transactions_with_3))"
   ]
  },
  {
   "cell_type": "code",
   "execution_count": 64,
   "metadata": {},
   "outputs": [],
   "source": [
    "itemsets, rules = apriori(transactions_with_3, min_support=0.001, min_confidence=0.001)"
   ]
  },
  {
   "cell_type": "code",
   "execution_count": 65,
   "metadata": {},
   "outputs": [],
   "source": [
    "# itemsets"
   ]
  },
  {
   "cell_type": "code",
   "execution_count": 66,
   "metadata": {},
   "outputs": [
    {
     "data": {
      "text/plain": [
       "[{751600} -> {751581},\n",
       " {751581} -> {751600},\n",
       " {753600} -> {753517},\n",
       " {753517} -> {753600},\n",
       " {753609} -> {753600},\n",
       " {753600} -> {753609},\n",
       " {778629} -> {778581},\n",
       " {778581} -> {778629}]"
      ]
     },
     "execution_count": 66,
     "metadata": {},
     "output_type": "execute_result"
    }
   ],
   "source": [
    "rules"
   ]
  }
 ],
 "metadata": {
  "kernelspec": {
   "display_name": "Python 3.9.12 ('base')",
   "language": "python",
   "name": "python3"
  },
  "language_info": {
   "codemirror_mode": {
    "name": "ipython",
    "version": 3
   },
   "file_extension": ".py",
   "mimetype": "text/x-python",
   "name": "python",
   "nbconvert_exporter": "python",
   "pygments_lexer": "ipython3",
   "version": "3.9.12"
  },
  "orig_nbformat": 4,
  "vscode": {
   "interpreter": {
    "hash": "9059e48bf3b0ccbf418267d63bd69884bf8e25702a60f044a5610720066f9972"
   }
  }
 },
 "nbformat": 4,
 "nbformat_minor": 2
}
