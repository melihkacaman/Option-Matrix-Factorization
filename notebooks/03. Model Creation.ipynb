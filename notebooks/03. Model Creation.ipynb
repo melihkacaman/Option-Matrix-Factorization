{
 "cells": [
  {
   "cell_type": "markdown",
   "metadata": {},
   "source": [
    "# Get the Rating Matrix"
   ]
  },
  {
   "cell_type": "code",
   "execution_count": 35,
   "metadata": {},
   "outputs": [],
   "source": [
    "import pickle \n",
    "\n",
    "pickle_in = open(\"../datasets/rating_matrix.pickle\",\"rb\")\n",
    "rating_matrix = pickle.load(pickle_in) \n",
    "pickle_in.close() "
   ]
  },
  {
   "cell_type": "code",
   "execution_count": 36,
   "metadata": {},
   "outputs": [
    {
     "data": {
      "text/plain": [
       "dict"
      ]
     },
     "execution_count": 36,
     "metadata": {},
     "output_type": "execute_result"
    }
   ],
   "source": [
    "type(rating_matrix)"
   ]
  },
  {
   "cell_type": "code",
   "execution_count": 37,
   "metadata": {},
   "outputs": [],
   "source": [
    "# !pip install apyori"
   ]
  },
  {
   "cell_type": "code",
   "execution_count": 38,
   "metadata": {},
   "outputs": [],
   "source": [
    "# !pip install mlxtend  "
   ]
  },
  {
   "cell_type": "code",
   "execution_count": 39,
   "metadata": {},
   "outputs": [],
   "source": [
    "# !pip install efficient-apriori"
   ]
  },
  {
   "cell_type": "code",
   "execution_count": 40,
   "metadata": {},
   "outputs": [
    {
     "data": {
      "text/html": [
       "<div>\n",
       "<style scoped>\n",
       "    .dataframe tbody tr th:only-of-type {\n",
       "        vertical-align: middle;\n",
       "    }\n",
       "\n",
       "    .dataframe tbody tr th {\n",
       "        vertical-align: top;\n",
       "    }\n",
       "\n",
       "    .dataframe thead th {\n",
       "        text-align: right;\n",
       "    }\n",
       "</style>\n",
       "<table border=\"1\" class=\"dataframe\">\n",
       "  <thead>\n",
       "    <tr style=\"text-align: right;\">\n",
       "      <th></th>\n",
       "      <th>option_x</th>\n",
       "      <th>option_y</th>\n",
       "      <th>rating</th>\n",
       "    </tr>\n",
       "  </thead>\n",
       "  <tbody>\n",
       "    <tr>\n",
       "      <th>0</th>\n",
       "      <td>745321</td>\n",
       "      <td>666652</td>\n",
       "      <td>1</td>\n",
       "    </tr>\n",
       "    <tr>\n",
       "      <th>1</th>\n",
       "      <td>745321</td>\n",
       "      <td>751782</td>\n",
       "      <td>1</td>\n",
       "    </tr>\n",
       "    <tr>\n",
       "      <th>2</th>\n",
       "      <td>745321</td>\n",
       "      <td>751839</td>\n",
       "      <td>10</td>\n",
       "    </tr>\n",
       "    <tr>\n",
       "      <th>3</th>\n",
       "      <td>666652</td>\n",
       "      <td>751782</td>\n",
       "      <td>1</td>\n",
       "    </tr>\n",
       "    <tr>\n",
       "      <th>4</th>\n",
       "      <td>666652</td>\n",
       "      <td>751839</td>\n",
       "      <td>1</td>\n",
       "    </tr>\n",
       "  </tbody>\n",
       "</table>\n",
       "</div>"
      ],
      "text/plain": [
       "   option_x  option_y  rating\n",
       "0    745321    666652       1\n",
       "1    745321    751782       1\n",
       "2    745321    751839      10\n",
       "3    666652    751782       1\n",
       "4    666652    751839       1"
      ]
     },
     "execution_count": 40,
     "metadata": {},
     "output_type": "execute_result"
    }
   ],
   "source": [
    "import pandas as pd \n",
    "\n",
    "data = pd.Series(rating_matrix).reset_index() \n",
    "data.columns = [\"option_x\", \"option_y\", \"rating\"] \n",
    "\n",
    "data.head() "
   ]
  },
  {
   "cell_type": "code",
   "execution_count": 41,
   "metadata": {},
   "outputs": [
    {
     "data": {
      "text/html": [
       "<div>\n",
       "<style scoped>\n",
       "    .dataframe tbody tr th:only-of-type {\n",
       "        vertical-align: middle;\n",
       "    }\n",
       "\n",
       "    .dataframe tbody tr th {\n",
       "        vertical-align: top;\n",
       "    }\n",
       "\n",
       "    .dataframe thead th {\n",
       "        text-align: right;\n",
       "    }\n",
       "</style>\n",
       "<table border=\"1\" class=\"dataframe\">\n",
       "  <thead>\n",
       "    <tr style=\"text-align: right;\">\n",
       "      <th></th>\n",
       "      <th>rating</th>\n",
       "      <th>bill</th>\n",
       "    </tr>\n",
       "  </thead>\n",
       "  <tbody>\n",
       "    <tr>\n",
       "      <th>0</th>\n",
       "      <td>1</td>\n",
       "      <td>(745321, 666652)</td>\n",
       "    </tr>\n",
       "    <tr>\n",
       "      <th>1</th>\n",
       "      <td>1</td>\n",
       "      <td>(745321, 751782)</td>\n",
       "    </tr>\n",
       "    <tr>\n",
       "      <th>2</th>\n",
       "      <td>10</td>\n",
       "      <td>(745321, 751839)</td>\n",
       "    </tr>\n",
       "    <tr>\n",
       "      <th>3</th>\n",
       "      <td>1</td>\n",
       "      <td>(666652, 751782)</td>\n",
       "    </tr>\n",
       "    <tr>\n",
       "      <th>4</th>\n",
       "      <td>1</td>\n",
       "      <td>(666652, 751839)</td>\n",
       "    </tr>\n",
       "  </tbody>\n",
       "</table>\n",
       "</div>"
      ],
      "text/plain": [
       "   rating              bill\n",
       "0       1  (745321, 666652)\n",
       "1       1  (745321, 751782)\n",
       "2      10  (745321, 751839)\n",
       "3       1  (666652, 751782)\n",
       "4       1  (666652, 751839)"
      ]
     },
     "execution_count": 41,
     "metadata": {},
     "output_type": "execute_result"
    }
   ],
   "source": [
    "data_with_3 = pd.read_csv(\"../datasets/ratings_with_3_combinations.csv\")[[\"rating\", \"bill\"]]\n",
    "\n",
    "data_with_3.head()"
   ]
  },
  {
   "cell_type": "code",
   "execution_count": 42,
   "metadata": {},
   "outputs": [
    {
     "data": {
      "text/html": [
       "<div>\n",
       "<style scoped>\n",
       "    .dataframe tbody tr th:only-of-type {\n",
       "        vertical-align: middle;\n",
       "    }\n",
       "\n",
       "    .dataframe tbody tr th {\n",
       "        vertical-align: top;\n",
       "    }\n",
       "\n",
       "    .dataframe thead th {\n",
       "        text-align: right;\n",
       "    }\n",
       "</style>\n",
       "<table border=\"1\" class=\"dataframe\">\n",
       "  <thead>\n",
       "    <tr style=\"text-align: right;\">\n",
       "      <th></th>\n",
       "      <th>rating</th>\n",
       "      <th>bill</th>\n",
       "    </tr>\n",
       "  </thead>\n",
       "  <tbody>\n",
       "    <tr>\n",
       "      <th>2</th>\n",
       "      <td>10</td>\n",
       "      <td>(745321, 751839)</td>\n",
       "    </tr>\n",
       "    <tr>\n",
       "      <th>5</th>\n",
       "      <td>151</td>\n",
       "      <td>(751782, 751839)</td>\n",
       "    </tr>\n",
       "    <tr>\n",
       "      <th>10</th>\n",
       "      <td>107</td>\n",
       "      <td>(751873, 760125)</td>\n",
       "    </tr>\n",
       "    <tr>\n",
       "      <th>11</th>\n",
       "      <td>12</td>\n",
       "      <td>(772494, 754574)</td>\n",
       "    </tr>\n",
       "    <tr>\n",
       "      <th>13</th>\n",
       "      <td>11</td>\n",
       "      <td>(772494, 749358)</td>\n",
       "    </tr>\n",
       "  </tbody>\n",
       "</table>\n",
       "</div>"
      ],
      "text/plain": [
       "    rating              bill\n",
       "2       10  (745321, 751839)\n",
       "5      151  (751782, 751839)\n",
       "10     107  (751873, 760125)\n",
       "11      12  (772494, 754574)\n",
       "13      11  (772494, 749358)"
      ]
     },
     "execution_count": 42,
     "metadata": {},
     "output_type": "execute_result"
    }
   ],
   "source": [
    "data_3_greater_1 = data_with_3[data_with_3.rating > 1] \n",
    "\n",
    "data_3_greater_1.head() "
   ]
  },
  {
   "cell_type": "code",
   "execution_count": 43,
   "metadata": {},
   "outputs": [
    {
     "data": {
      "text/plain": [
       "(5216080, 771062)"
      ]
     },
     "execution_count": 43,
     "metadata": {},
     "output_type": "execute_result"
    }
   ],
   "source": [
    "len(data_with_3), len(data)"
   ]
  },
  {
   "cell_type": "code",
   "execution_count": 44,
   "metadata": {},
   "outputs": [
    {
     "data": {
      "text/html": [
       "<div>\n",
       "<style scoped>\n",
       "    .dataframe tbody tr th:only-of-type {\n",
       "        vertical-align: middle;\n",
       "    }\n",
       "\n",
       "    .dataframe tbody tr th {\n",
       "        vertical-align: top;\n",
       "    }\n",
       "\n",
       "    .dataframe thead th {\n",
       "        text-align: right;\n",
       "    }\n",
       "</style>\n",
       "<table border=\"1\" class=\"dataframe\">\n",
       "  <thead>\n",
       "    <tr style=\"text-align: right;\">\n",
       "      <th></th>\n",
       "      <th>option_x</th>\n",
       "      <th>option_y</th>\n",
       "      <th>rating</th>\n",
       "    </tr>\n",
       "  </thead>\n",
       "  <tbody>\n",
       "    <tr>\n",
       "      <th>count</th>\n",
       "      <td>771062.000000</td>\n",
       "      <td>771062.000000</td>\n",
       "      <td>771062.000000</td>\n",
       "    </tr>\n",
       "    <tr>\n",
       "      <th>mean</th>\n",
       "      <td>735325.372226</td>\n",
       "      <td>735395.857417</td>\n",
       "      <td>2.418680</td>\n",
       "    </tr>\n",
       "    <tr>\n",
       "      <th>std</th>\n",
       "      <td>42364.768430</td>\n",
       "      <td>42085.392109</td>\n",
       "      <td>9.794105</td>\n",
       "    </tr>\n",
       "    <tr>\n",
       "      <th>min</th>\n",
       "      <td>16329.000000</td>\n",
       "      <td>10494.000000</td>\n",
       "      <td>1.000000</td>\n",
       "    </tr>\n",
       "    <tr>\n",
       "      <th>25%</th>\n",
       "      <td>714744.000000</td>\n",
       "      <td>714645.000000</td>\n",
       "      <td>1.000000</td>\n",
       "    </tr>\n",
       "    <tr>\n",
       "      <th>50%</th>\n",
       "      <td>751526.000000</td>\n",
       "      <td>751358.000000</td>\n",
       "      <td>1.000000</td>\n",
       "    </tr>\n",
       "    <tr>\n",
       "      <th>75%</th>\n",
       "      <td>760344.000000</td>\n",
       "      <td>760209.000000</td>\n",
       "      <td>2.000000</td>\n",
       "    </tr>\n",
       "    <tr>\n",
       "      <th>max</th>\n",
       "      <td>823758.000000</td>\n",
       "      <td>823758.000000</td>\n",
       "      <td>2254.000000</td>\n",
       "    </tr>\n",
       "  </tbody>\n",
       "</table>\n",
       "</div>"
      ],
      "text/plain": [
       "            option_x       option_y         rating\n",
       "count  771062.000000  771062.000000  771062.000000\n",
       "mean   735325.372226  735395.857417       2.418680\n",
       "std     42364.768430   42085.392109       9.794105\n",
       "min     16329.000000   10494.000000       1.000000\n",
       "25%    714744.000000  714645.000000       1.000000\n",
       "50%    751526.000000  751358.000000       1.000000\n",
       "75%    760344.000000  760209.000000       2.000000\n",
       "max    823758.000000  823758.000000    2254.000000"
      ]
     },
     "execution_count": 44,
     "metadata": {},
     "output_type": "execute_result"
    }
   ],
   "source": [
    "data.describe()"
   ]
  },
  {
   "cell_type": "code",
   "execution_count": 70,
   "metadata": {},
   "outputs": [
    {
     "data": {
      "image/png": "[encoded data removed]",
      "text/plain": [
       "<Figure size 720x432 with 1 Axes>"
      ]
     },
     "metadata": {
      "needs_background": "light"
     },
     "output_type": "display_data"
    }
   ],
   "source": [
    "# If the distribution of the quantity is normal, then it should be standardized, otherwise, the data should be normalized.\n",
    "import matplotlib.pyplot as plt \n",
    "\n",
    "plt.figure(figsize=(10,6))\n",
    "plt.hist(data_3_greater_1['rating'], bins=100, ec='black', color='#2196f3')\n",
    "plt.xlabel('ratings')\n",
    "plt.ylabel('Nr. of Houses')\n",
    "plt.show()"
   ]
  },
  {
   "cell_type": "code",
   "execution_count": 72,
   "metadata": {},
   "outputs": [
    {
     "data": {
      "text/plain": [
       "(2254, 2)"
      ]
     },
     "execution_count": 72,
     "metadata": {},
     "output_type": "execute_result"
    }
   ],
   "source": [
    "max(data_3_greater_1.rating),  min(data_3_greater_1.rating)"
   ]
  },
  {
   "cell_type": "code",
   "execution_count": 73,
   "metadata": {},
   "outputs": [
    {
     "name": "stderr",
     "output_type": "stream",
     "text": [
      "c:\\Users\\melih.kacaman\\Anaconda3\\lib\\site-packages\\seaborn\\_decorators.py:36: FutureWarning: Pass the following variable as a keyword arg: x. From version 0.12, the only valid positional argument will be `data`, and passing other arguments without an explicit keyword will result in an error or misinterpretation.\n",
      "  warnings.warn(\n"
     ]
    },
    {
     "data": {
      "text/plain": [
       "<AxesSubplot:>"
      ]
     },
     "execution_count": 73,
     "metadata": {},
     "output_type": "execute_result"
    },
    {
     "data": {
      "image/png": "[encoded data removed]",
      "text/plain": [
       "<Figure size 432x288 with 1 Axes>"
      ]
     },
     "metadata": {
      "needs_background": "light"
     },
     "output_type": "display_data"
    }
   ],
   "source": [
    "import seaborn as sns\n",
    "sns.boxplot(data_3_greater_1['rating'].unique())"
   ]
  },
  {
   "cell_type": "code",
   "execution_count": 78,
   "metadata": {},
   "outputs": [
    {
     "data": {
      "text/html": [
       "<div>\n",
       "<style scoped>\n",
       "    .dataframe tbody tr th:only-of-type {\n",
       "        vertical-align: middle;\n",
       "    }\n",
       "\n",
       "    .dataframe tbody tr th {\n",
       "        vertical-align: top;\n",
       "    }\n",
       "\n",
       "    .dataframe thead th {\n",
       "        text-align: right;\n",
       "    }\n",
       "</style>\n",
       "<table border=\"1\" class=\"dataframe\">\n",
       "  <thead>\n",
       "    <tr style=\"text-align: right;\">\n",
       "      <th></th>\n",
       "      <th>rating</th>\n",
       "      <th>bill</th>\n",
       "    </tr>\n",
       "  </thead>\n",
       "  <tbody>\n",
       "    <tr>\n",
       "      <th>2</th>\n",
       "      <td>2.302585</td>\n",
       "      <td>(745321, 751839)</td>\n",
       "    </tr>\n",
       "    <tr>\n",
       "      <th>5</th>\n",
       "      <td>5.017280</td>\n",
       "      <td>(751782, 751839)</td>\n",
       "    </tr>\n",
       "    <tr>\n",
       "      <th>10</th>\n",
       "      <td>4.672829</td>\n",
       "      <td>(751873, 760125)</td>\n",
       "    </tr>\n",
       "    <tr>\n",
       "      <th>11</th>\n",
       "      <td>2.484907</td>\n",
       "      <td>(772494, 754574)</td>\n",
       "    </tr>\n",
       "    <tr>\n",
       "      <th>13</th>\n",
       "      <td>2.397895</td>\n",
       "      <td>(772494, 749358)</td>\n",
       "    </tr>\n",
       "  </tbody>\n",
       "</table>\n",
       "</div>"
      ],
      "text/plain": [
       "      rating              bill\n",
       "2   2.302585  (745321, 751839)\n",
       "5   5.017280  (751782, 751839)\n",
       "10  4.672829  (751873, 760125)\n",
       "11  2.484907  (772494, 754574)\n",
       "13  2.397895  (772494, 749358)"
      ]
     },
     "execution_count": 78,
     "metadata": {},
     "output_type": "execute_result"
    }
   ],
   "source": [
    "import numpy as np\n",
    "data_3_greater_1_log = data_3_greater_1.copy() \n",
    "data_3_greater_1_log[\"rating\"] = np.log(data_3_greater_1.rating) \n",
    "\n",
    "data_3_greater_1_log.head() "
   ]
  },
  {
   "cell_type": "code",
   "execution_count": 79,
   "metadata": {},
   "outputs": [
    {
     "data": {
      "text/plain": [
       "(7.720461694599722, 0.6931471805599453)"
      ]
     },
     "execution_count": 79,
     "metadata": {},
     "output_type": "execute_result"
    }
   ],
   "source": [
    "max(data_3_greater_1_log.rating),  min(data_3_greater_1_log.rating)"
   ]
  },
  {
   "cell_type": "code",
   "execution_count": 80,
   "metadata": {},
   "outputs": [
    {
     "data": {
      "image/png": "[encoded data removed]",
      "text/plain": [
       "<Figure size 720x432 with 1 Axes>"
      ]
     },
     "metadata": {
      "needs_background": "light"
     },
     "output_type": "display_data"
    }
   ],
   "source": [
    "# If the distribution of the quantity is normal, then it should be standardized, otherwise, the data should be normalized.\n",
    "import matplotlib.pyplot as plt \n",
    "\n",
    "plt.figure(figsize=(10,6))\n",
    "plt.hist(data_3_greater_1_log['rating'], bins=100, ec='black', color='#2196f3')\n",
    "plt.xlabel('ratings')\n",
    "plt.ylabel('Nr. of Houses')\n",
    "plt.show()"
   ]
  },
  {
   "cell_type": "code",
   "execution_count": 81,
   "metadata": {},
   "outputs": [
    {
     "name": "stderr",
     "output_type": "stream",
     "text": [
      "c:\\Users\\melih.kacaman\\Anaconda3\\lib\\site-packages\\seaborn\\_decorators.py:36: FutureWarning: Pass the following variable as a keyword arg: x. From version 0.12, the only valid positional argument will be `data`, and passing other arguments without an explicit keyword will result in an error or misinterpretation.\n",
      "  warnings.warn(\n"
     ]
    },
    {
     "data": {
      "text/plain": [
       "<AxesSubplot:>"
      ]
     },
     "execution_count": 81,
     "metadata": {},
     "output_type": "execute_result"
    },
    {
     "data": {
      "image/png": "[encoded data removed]",
      "text/plain": [
       "<Figure size 432x288 with 1 Axes>"
      ]
     },
     "metadata": {
      "needs_background": "light"
     },
     "output_type": "display_data"
    }
   ],
   "source": [
    "import seaborn as sns\n",
    "sns.boxplot(data_3_greater_1_log['rating'].unique())"
   ]
  },
  {
   "cell_type": "code",
   "execution_count": 83,
   "metadata": {},
   "outputs": [
    {
     "name": "stdout",
     "output_type": "stream",
     "text": [
      "data_3_greater_1_log has IQR: 0.6931471805599453\n"
     ]
    }
   ],
   "source": [
    "import numpy as np \n",
    "Q1 = np.percentile(data_3_greater_1_log['rating'], 25,\n",
    "                   interpolation = 'midpoint')\n",
    " \n",
    "Q3 = np.percentile(data_3_greater_1_log['rating'], 75,\n",
    "                   interpolation = 'midpoint')\n",
    "IQR = Q3 - Q1\n",
    "\n",
    "print(\"data_3_greater_1_log has IQR:\", IQR) "
   ]
  },
  {
   "cell_type": "markdown",
   "metadata": {},
   "source": [
    "# Model 1: Matrix Factorization Using Keras "
   ]
  },
  {
   "cell_type": "markdown",
   "metadata": {},
   "source": [
    "#### Data Prep for MF "
   ]
  },
  {
   "cell_type": "code",
   "execution_count": 84,
   "metadata": {},
   "outputs": [
    {
     "data": {
      "text/html": [
       "<div>\n",
       "<style scoped>\n",
       "    .dataframe tbody tr th:only-of-type {\n",
       "        vertical-align: middle;\n",
       "    }\n",
       "\n",
       "    .dataframe tbody tr th {\n",
       "        vertical-align: top;\n",
       "    }\n",
       "\n",
       "    .dataframe thead th {\n",
       "        text-align: right;\n",
       "    }\n",
       "</style>\n",
       "<table border=\"1\" class=\"dataframe\">\n",
       "  <thead>\n",
       "    <tr style=\"text-align: right;\">\n",
       "      <th></th>\n",
       "      <th>rating</th>\n",
       "      <th>bill</th>\n",
       "    </tr>\n",
       "  </thead>\n",
       "  <tbody>\n",
       "    <tr>\n",
       "      <th>2</th>\n",
       "      <td>2.302585</td>\n",
       "      <td>(745321, 751839)</td>\n",
       "    </tr>\n",
       "    <tr>\n",
       "      <th>5</th>\n",
       "      <td>5.017280</td>\n",
       "      <td>(751782, 751839)</td>\n",
       "    </tr>\n",
       "    <tr>\n",
       "      <th>10</th>\n",
       "      <td>4.672829</td>\n",
       "      <td>(751873, 760125)</td>\n",
       "    </tr>\n",
       "    <tr>\n",
       "      <th>11</th>\n",
       "      <td>2.484907</td>\n",
       "      <td>(772494, 754574)</td>\n",
       "    </tr>\n",
       "    <tr>\n",
       "      <th>13</th>\n",
       "      <td>2.397895</td>\n",
       "      <td>(772494, 749358)</td>\n",
       "    </tr>\n",
       "  </tbody>\n",
       "</table>\n",
       "</div>"
      ],
      "text/plain": [
       "      rating              bill\n",
       "2   2.302585  (745321, 751839)\n",
       "5   5.017280  (751782, 751839)\n",
       "10  4.672829  (751873, 760125)\n",
       "11  2.484907  (772494, 754574)\n",
       "13  2.397895  (772494, 749358)"
      ]
     },
     "execution_count": 84,
     "metadata": {},
     "output_type": "execute_result"
    }
   ],
   "source": [
    "data_3_greater_1_log.head() "
   ]
  },
  {
   "cell_type": "code",
   "execution_count": 87,
   "metadata": {},
   "outputs": [
    {
     "data": {
      "text/plain": [
       "(448529,)"
      ]
     },
     "execution_count": 87,
     "metadata": {},
     "output_type": "execute_result"
    }
   ],
   "source": [
    "data_3_greater_1_log.bill.unique().shape"
   ]
  },
  {
   "cell_type": "code",
   "execution_count": 89,
   "metadata": {},
   "outputs": [
    {
     "name": "stdout",
     "output_type": "stream",
     "text": [
      "<class 'pandas.core.frame.DataFrame'>\n",
      "Int64Index: 448529 entries, 2 to 5215140\n",
      "Data columns (total 2 columns):\n",
      " #   Column  Non-Null Count   Dtype  \n",
      "---  ------  --------------   -----  \n",
      " 0   rating  448529 non-null  float64\n",
      " 1   bill    448529 non-null  object \n",
      "dtypes: float64(1), object(1)\n",
      "memory usage: 26.4+ MB\n"
     ]
    }
   ],
   "source": [
    "data_3_greater_1_log.info() "
   ]
  },
  {
   "cell_type": "code",
   "execution_count": 122,
   "metadata": {},
   "outputs": [
    {
     "name": "stdout",
     "output_type": "stream",
     "text": [
      "<class 'pandas.core.frame.DataFrame'>\n",
      "Int64Index: 448529 entries, 2 to 5215140\n",
      "Data columns (total 2 columns):\n",
      " #   Column  Non-Null Count   Dtype  \n",
      "---  ------  --------------   -----  \n",
      " 0   rating  448529 non-null  float64\n",
      " 1   bill    448529 non-null  object \n",
      "dtypes: float64(1), object(1)\n",
      "memory usage: 26.4+ MB\n"
     ]
    }
   ],
   "source": [
    "from ast import literal_eval\n",
    "\n",
    "data_3_greater_1_log.bill = data_3_greater_1_log.bill.apply(literal_eval) \n",
    "data_3_greater_1_log.info() "
   ]
  },
  {
   "cell_type": "code",
   "execution_count": 123,
   "metadata": {},
   "outputs": [
    {
     "data": {
      "text/plain": [
       "tuple"
      ]
     },
     "execution_count": 123,
     "metadata": {},
     "output_type": "execute_result"
    }
   ],
   "source": [
    "type(data_3_greater_1_log.bill.iat[0])"
   ]
  },
  {
   "cell_type": "code",
   "execution_count": 147,
   "metadata": {},
   "outputs": [
    {
     "data": {
      "text/plain": [
       "[(745321, 751839), (751782, 751839)]"
      ]
     },
     "execution_count": 147,
     "metadata": {},
     "output_type": "execute_result"
    }
   ],
   "source": [
    "sublists_by_2 = list(filter(lambda x: len(x) == 2, data_3_greater_1_log.bill)) \n",
    "sublists_by_2[:2]"
   ]
  },
  {
   "cell_type": "code",
   "execution_count": 49,
   "metadata": {},
   "outputs": [],
   "source": [
    "from sklearn.utils import shuffle \n",
    "from keras.models import Model \n",
    "from keras.layers import Input, Embedding, Dense, Flatten, Concatenate, Activation\n",
    "\n",
    "N = len(data.option_x.unique()) \n",
    "M = len(data.option_y.unique()) \n",
    "\n",
    "data_shuffled = shuffle(data) \n",
    "\n",
    "# initialize the latent vector dimension \n",
    "K = 10 \n",
    "mu = data.rating.mean() \n",
    "epochs = 25 \n",
    "\n",
    "u = Input(shape=(1,))\n",
    "m = Input(shape=(1,))\n",
    "\n",
    "u_embedding = Embedding(N, K)(u) # u -> u_embdedding\n",
    "m_embedding = Embedding(M, K)(m) # m -> m_embedding \n",
    "\n",
    "u_embedding = Flatten()(u_embedding) # (N, K)\n",
    "m_embedding = Flatten()(m_embedding) # (N, K)\n",
    "\n",
    "x = Concatenate()([u_embedding, m_embedding]) # (N, 2K)\n",
    "x = Dense(400)(x)\n",
    "x = Activation('relu')(x)\n",
    "x = Dense(1)(x)\n",
    "\n",
    "model = Model(inputs=[u, m], outputs=x)  # Function 1 fulfilled"
   ]
  },
  {
   "cell_type": "code",
   "execution_count": 50,
   "metadata": {},
   "outputs": [
    {
     "name": "stderr",
     "output_type": "stream",
     "text": [
      "c:\\Users\\melih.kacaman\\Anaconda3\\lib\\site-packages\\keras\\optimizers\\optimizer_v2\\gradient_descent.py:111: UserWarning: The `lr` argument is deprecated, use `learning_rate` instead.\n",
      "  super().__init__(name, **kwargs)\n"
     ]
    }
   ],
   "source": [
    "from keras.optimizers import SGD\n",
    "\n",
    "model.compile(\n",
    "  loss='mse',\n",
    "  optimizer=SGD(lr=0.08, momentum=0.9),\n",
    "  metrics=['mse'],\n",
    ")"
   ]
  },
  {
   "cell_type": "code",
   "execution_count": 51,
   "metadata": {},
   "outputs": [],
   "source": [
    "# history_model = model.fit(\n",
    "#     x= [data_shuffled.option_x.values, data_shuffled.option_y.values], \n",
    "#     y= data_shuffled.rating.values, \n",
    "#     batch_size=128, \n",
    "#     epochs=25\n",
    "# )"
   ]
  },
  {
   "cell_type": "markdown",
   "metadata": {},
   "source": [
    "# Model 2: Apriori (apyori Module)"
   ]
  },
  {
   "cell_type": "code",
   "execution_count": 52,
   "metadata": {},
   "outputs": [
    {
     "data": {
      "text/html": [
       "<div>\n",
       "<style scoped>\n",
       "    .dataframe tbody tr th:only-of-type {\n",
       "        vertical-align: middle;\n",
       "    }\n",
       "\n",
       "    .dataframe tbody tr th {\n",
       "        vertical-align: top;\n",
       "    }\n",
       "\n",
       "    .dataframe thead th {\n",
       "        text-align: right;\n",
       "    }\n",
       "</style>\n",
       "<table border=\"1\" class=\"dataframe\">\n",
       "  <thead>\n",
       "    <tr style=\"text-align: right;\">\n",
       "      <th></th>\n",
       "      <th>rating</th>\n",
       "      <th>bill</th>\n",
       "    </tr>\n",
       "  </thead>\n",
       "  <tbody>\n",
       "    <tr>\n",
       "      <th>2</th>\n",
       "      <td>10</td>\n",
       "      <td>(745321, 751839)</td>\n",
       "    </tr>\n",
       "    <tr>\n",
       "      <th>5</th>\n",
       "      <td>151</td>\n",
       "      <td>(751782, 751839)</td>\n",
       "    </tr>\n",
       "    <tr>\n",
       "      <th>10</th>\n",
       "      <td>107</td>\n",
       "      <td>(751873, 760125)</td>\n",
       "    </tr>\n",
       "    <tr>\n",
       "      <th>11</th>\n",
       "      <td>12</td>\n",
       "      <td>(772494, 754574)</td>\n",
       "    </tr>\n",
       "    <tr>\n",
       "      <th>13</th>\n",
       "      <td>11</td>\n",
       "      <td>(772494, 749358)</td>\n",
       "    </tr>\n",
       "    <tr>\n",
       "      <th>...</th>\n",
       "      <td>...</td>\n",
       "      <td>...</td>\n",
       "    </tr>\n",
       "    <tr>\n",
       "      <th>5211482</th>\n",
       "      <td>2</td>\n",
       "      <td>(774694, 767718, 767721)</td>\n",
       "    </tr>\n",
       "    <tr>\n",
       "      <th>5213307</th>\n",
       "      <td>2</td>\n",
       "      <td>(774590, 774319)</td>\n",
       "    </tr>\n",
       "    <tr>\n",
       "      <th>5213311</th>\n",
       "      <td>2</td>\n",
       "      <td>(774469, 774590, 774319)</td>\n",
       "    </tr>\n",
       "    <tr>\n",
       "      <th>5213576</th>\n",
       "      <td>2</td>\n",
       "      <td>(764896, 786771, 774571)</td>\n",
       "    </tr>\n",
       "    <tr>\n",
       "      <th>5215140</th>\n",
       "      <td>2</td>\n",
       "      <td>(748899, 748868, 752949)</td>\n",
       "    </tr>\n",
       "  </tbody>\n",
       "</table>\n",
       "<p>448529 rows × 2 columns</p>\n",
       "</div>"
      ],
      "text/plain": [
       "         rating                      bill\n",
       "2            10          (745321, 751839)\n",
       "5           151          (751782, 751839)\n",
       "10          107          (751873, 760125)\n",
       "11           12          (772494, 754574)\n",
       "13           11          (772494, 749358)\n",
       "...         ...                       ...\n",
       "5211482       2  (774694, 767718, 767721)\n",
       "5213307       2          (774590, 774319)\n",
       "5213311       2  (774469, 774590, 774319)\n",
       "5213576       2  (764896, 786771, 774571)\n",
       "5215140       2  (748899, 748868, 752949)\n",
       "\n",
       "[448529 rows x 2 columns]"
      ]
     },
     "execution_count": 52,
     "metadata": {},
     "output_type": "execute_result"
    }
   ],
   "source": [
    "data_3_greater_1"
   ]
  },
  {
   "cell_type": "code",
   "execution_count": 53,
   "metadata": {},
   "outputs": [],
   "source": [
    "from apyori import apriori "
   ]
  },
  {
   "cell_type": "code",
   "execution_count": 54,
   "metadata": {},
   "outputs": [],
   "source": [
    "transactions = [] \n",
    "\n",
    "for index,row in data_greater_1.iterrows(): \n",
    "    transaction = [str(row.option_x), str(row.option_y)]\n",
    "\n",
    "    for i in range(row.rating):\n",
    "        transactions.append(transaction) "
   ]
  },
  {
   "cell_type": "code",
   "execution_count": 55,
   "metadata": {},
   "outputs": [
    {
     "data": {
      "text/plain": [
       "533"
      ]
     },
     "execution_count": 55,
     "metadata": {},
     "output_type": "execute_result"
    }
   ],
   "source": [
    "associations = apriori(\n",
    "    transactions,\n",
    "    min_length = 2,\n",
    "    min_support = 0.001,\n",
    "    min_confidence = 0.001,\n",
    "    min_lift = 0.001\n",
    ")\n",
    "\n",
    "associations = list(associations)\n",
    "len(associations)"
   ]
  },
  {
   "cell_type": "code",
   "execution_count": 56,
   "metadata": {},
   "outputs": [
    {
     "name": "stdout",
     "output_type": "stream",
     "text": [
      "RelationRecord(items=frozenset({'714981'}), support=0.0010121434775095435, ordered_statistics=[OrderedStatistic(items_base=frozenset(), items_add=frozenset({'714981'}), confidence=0.0010121434775095435, lift=1.0)])\n",
      "support 0.0010121434775095435\n",
      "[OrderedStatistic(items_base=frozenset(), items_add=frozenset({'714981'}), confidence=0.0010121434775095435, lift=1.0)]\n",
      "right frozenset({'714981'})\n",
      "left frozenset()\n",
      "confidence 0.0010121434775095435\n",
      "lift 1.0\n"
     ]
    }
   ],
   "source": [
    "association = associations[100]\n",
    "print(association)\n",
    "print(\"support\", association.support)\n",
    "print(association.ordered_statistics)\n",
    "print(\"right\", association.ordered_statistics[0].items_add)\n",
    "print(\"left\", association.ordered_statistics[0].items_base)\n",
    "print(\"confidence\", association.ordered_statistics[0].confidence)\n",
    "print(\"lift\", association.ordered_statistics[0].lift)\n"
   ]
  },
  {
   "cell_type": "code",
   "execution_count": 57,
   "metadata": {},
   "outputs": [],
   "source": [
    "rules = [] \n",
    "for association in associations:\n",
    "    if len(association.ordered_statistics) > 1: \n",
    "        rules.append(association)"
   ]
  },
  {
   "cell_type": "code",
   "execution_count": 58,
   "metadata": {},
   "outputs": [
    {
     "data": {
      "text/plain": [
       "4"
      ]
     },
     "execution_count": 58,
     "metadata": {},
     "output_type": "execute_result"
    }
   ],
   "source": [
    "len(rules)"
   ]
  },
  {
   "cell_type": "code",
   "execution_count": 59,
   "metadata": {},
   "outputs": [
    {
     "data": {
      "text/plain": [
       "[RelationRecord(items=frozenset({'751581', '751600'}), support=0.001021120359793442, ordered_statistics=[OrderedStatistic(items_base=frozenset(), items_add=frozenset({'751581', '751600'}), confidence=0.001021120359793442, lift=1.0), OrderedStatistic(items_base=frozenset({'751581'}), items_add=frozenset({'751600'}), confidence=0.0792314836312979, lift=6.939267030030741), OrderedStatistic(items_base=frozenset({'751600'}), items_add=frozenset({'751581'}), confidence=0.0894319596409618, lift=6.93926703003074)]),\n",
       " RelationRecord(items=frozenset({'753517', '753600'}), support=0.0012432981963199272, ordered_statistics=[OrderedStatistic(items_base=frozenset(), items_add=frozenset({'753517', '753600'}), confidence=0.0012432981963199272, lift=1.0), OrderedStatistic(items_base=frozenset({'753517'}), items_add=frozenset({'753600'}), confidence=0.08947510094212652, lift=4.467295221524749), OrderedStatistic(items_base=frozenset({'753600'}), items_add=frozenset({'753517'}), confidence=0.062075147531186974, lift=4.46729522152475)]),\n",
       " RelationRecord(items=frozenset({'753600', '753609'}), support=0.001716080663271909, ordered_statistics=[OrderedStatistic(items_base=frozenset(), items_add=frozenset({'753600', '753609'}), confidence=0.001716080663271909, lift=1.0), OrderedStatistic(items_base=frozenset({'753600'}), items_add=frozenset({'753609'}), confidence=0.08568013744677672, lift=6.310434175995337), OrderedStatistic(items_base=frozenset({'753609'}), items_add=frozenset({'753600'}), confidence=0.12639118457300275, lift=6.310434175995337)]),\n",
       " RelationRecord(items=frozenset({'778629', '778581'}), support=0.0010562798154053774, ordered_statistics=[OrderedStatistic(items_base=frozenset(), items_add=frozenset({'778629', '778581'}), confidence=0.0010562798154053774, lift=1.0), OrderedStatistic(items_base=frozenset({'778581'}), items_add=frozenset({'778629'}), confidence=0.20884484543706555, lift=26.68229929278121), OrderedStatistic(items_base=frozenset({'778629'}), items_add=frozenset({'778581'}), confidence=0.13495173468412502, lift=26.682299292781213)])]"
      ]
     },
     "execution_count": 59,
     "metadata": {},
     "output_type": "execute_result"
    }
   ],
   "source": [
    "rules"
   ]
  },
  {
   "cell_type": "code",
   "execution_count": 60,
   "metadata": {},
   "outputs": [],
   "source": [
    "import string \n",
    "transactions_with_3 = [] \n",
    "\n",
    "for index,row in data_3_greater_1.iterrows(): \n",
    "    transaction = list(tuple(map(int, row.bill.translate(str.maketrans(\"\", \"\", string.punctuation)).split(\" \"))))\n",
    "    \n",
    "    transactions_with_3.append(transaction)"
   ]
  },
  {
   "cell_type": "code",
   "execution_count": 61,
   "metadata": {},
   "outputs": [
    {
     "data": {
      "text/plain": [
       "533"
      ]
     },
     "execution_count": 61,
     "metadata": {},
     "output_type": "execute_result"
    }
   ],
   "source": [
    "from apyori import apriori \n",
    "\n",
    "associations_with_3 = apriori(\n",
    "    transactions,\n",
    "    min_length = 2,\n",
    "    min_support = 0.001,\n",
    "    min_confidence = 0.001,\n",
    "    min_lift = 0.001\n",
    ")\n",
    "\n",
    "associations_with_3 = list(associations_with_3)\n",
    "len(associations_with_3)"
   ]
  },
  {
   "cell_type": "markdown",
   "metadata": {},
   "source": [
    "# Model 3: Apriori (mlxtend Module)"
   ]
  },
  {
   "cell_type": "code",
   "execution_count": 62,
   "metadata": {},
   "outputs": [],
   "source": [
    "from efficient_apriori import apriori "
   ]
  },
  {
   "cell_type": "code",
   "execution_count": 63,
   "metadata": {},
   "outputs": [],
   "source": [
    "transactions_with_3 = list(map(lambda x: tuple(x), transactions_with_3))"
   ]
  },
  {
   "cell_type": "code",
   "execution_count": 64,
   "metadata": {},
   "outputs": [],
   "source": [
    "itemsets, rules = apriori(transactions_with_3, min_support=0.001, min_confidence=0.001)"
   ]
  },
  {
   "cell_type": "code",
   "execution_count": 65,
   "metadata": {},
   "outputs": [],
   "source": [
    "# itemsets"
   ]
  },
  {
   "cell_type": "code",
   "execution_count": 66,
   "metadata": {},
   "outputs": [
    {
     "data": {
      "text/plain": [
       "[{751600} -> {751581},\n",
       " {751581} -> {751600},\n",
       " {753600} -> {753517},\n",
       " {753517} -> {753600},\n",
       " {753609} -> {753600},\n",
       " {753600} -> {753609},\n",
       " {778629} -> {778581},\n",
       " {778581} -> {778629}]"
      ]
     },
     "execution_count": 66,
     "metadata": {},
     "output_type": "execute_result"
    }
   ],
   "source": [
    "rules"
   ]
  }
 ],
 "metadata": {
  "kernelspec": {
   "display_name": "Python 3.9.12 ('base')",
   "language": "python",
   "name": "python3"
  },
  "language_info": {
   "codemirror_mode": {
    "name": "ipython",
    "version": 3
   },
   "file_extension": ".py",
   "mimetype": "text/x-python",
   "name": "python",
   "nbconvert_exporter": "python",
   "pygments_lexer": "ipython3",
   "version": "3.9.12"
  },
  "orig_nbformat": 4,
  "vscode": {
   "interpreter": {
    "hash": "9059e48bf3b0ccbf418267d63bd69884bf8e25702a60f044a5610720066f9972"
   }
  }
 },
 "nbformat": 4,
 "nbformat_minor": 2
}
