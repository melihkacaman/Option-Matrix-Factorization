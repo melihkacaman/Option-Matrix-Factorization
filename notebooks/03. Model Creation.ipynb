{
 "cells": [
  {
   "cell_type": "markdown",
   "metadata": {},
   "source": [
    "# Get the Rating Matrix"
   ]
  },
  {
   "cell_type": "code",
   "execution_count": 41,
   "metadata": {},
   "outputs": [
    {
     "name": "stdout",
     "output_type": "stream",
     "text": [
      "Collecting apyori\n"
     ]
    },
    {
     "name": "stderr",
     "output_type": "stream",
     "text": [
      "  Retrying (Retry(total=4, connect=None, read=None, redirect=None, status=None)) after connection broken by 'ProtocolError('Connection aborted.', ConnectionResetError(10054, 'An existing connection was forcibly closed by the remote host', None, 10054, None))': /simple/apyori/\n",
      "  Retrying (Retry(total=3, connect=None, read=None, redirect=None, status=None)) after connection broken by 'ProtocolError('Connection aborted.', ConnectionResetError(10054, 'An existing connection was forcibly closed by the remote host', None, 10054, None))': /simple/apyori/\n",
      "  Retrying (Retry(total=2, connect=None, read=None, redirect=None, status=None)) after connection broken by 'ProtocolError('Connection aborted.', ConnectionResetError(10054, 'An existing connection was forcibly closed by the remote host', None, 10054, None))': /simple/apyori/\n",
      "  Retrying (Retry(total=1, connect=None, read=None, redirect=None, status=None)) after connection broken by 'ProtocolError('Connection aborted.', ConnectionResetError(10054, 'An existing connection was forcibly closed by the remote host', None, 10054, None))': /simple/apyori/\n",
      "  Retrying (Retry(total=0, connect=None, read=None, redirect=None, status=None)) after connection broken by 'ProtocolError('Connection aborted.', ConnectionResetError(10054, 'An existing connection was forcibly closed by the remote host', None, 10054, None))': /simple/apyori/\n",
      "  Could not find a version that satisfies the requirement apyori (from versions: )\n",
      "No matching distribution found for apyori\n"
     ]
    }
   ],
   "source": [
    "!pip install apyori"
   ]
  },
  {
   "cell_type": "code",
   "execution_count": 38,
   "metadata": {},
   "outputs": [],
   "source": [
    "# !pip install mlxtend  \n"
   ]
  },
  {
   "cell_type": "code",
   "execution_count": 10,
   "metadata": {},
   "outputs": [],
   "source": [
    "# !pip install efficient-apriori"
   ]
  },
  {
   "cell_type": "code",
   "execution_count": 11,
   "metadata": {},
   "outputs": [
    {
     "data": {
      "text/html": [
       "<div>\n",
       "<style scoped>\n",
       "    .dataframe tbody tr th:only-of-type {\n",
       "        vertical-align: middle;\n",
       "    }\n",
       "\n",
       "    .dataframe tbody tr th {\n",
       "        vertical-align: top;\n",
       "    }\n",
       "\n",
       "    .dataframe thead th {\n",
       "        text-align: right;\n",
       "    }\n",
       "</style>\n",
       "<table border=\"1\" class=\"dataframe\">\n",
       "  <thead>\n",
       "    <tr style=\"text-align: right;\">\n",
       "      <th></th>\n",
       "      <th>rating</th>\n",
       "      <th>bill</th>\n",
       "    </tr>\n",
       "  </thead>\n",
       "  <tbody>\n",
       "    <tr>\n",
       "      <th>0</th>\n",
       "      <td>1</td>\n",
       "      <td>(745321, 666652)</td>\n",
       "    </tr>\n",
       "    <tr>\n",
       "      <th>1</th>\n",
       "      <td>12</td>\n",
       "      <td>(772494, 754574)</td>\n",
       "    </tr>\n",
       "    <tr>\n",
       "      <th>2</th>\n",
       "      <td>1</td>\n",
       "      <td>(772494, 745328)</td>\n",
       "    </tr>\n",
       "    <tr>\n",
       "      <th>3</th>\n",
       "      <td>11</td>\n",
       "      <td>(772494, 749358)</td>\n",
       "    </tr>\n",
       "    <tr>\n",
       "      <th>4</th>\n",
       "      <td>1</td>\n",
       "      <td>(772494, 745310)</td>\n",
       "    </tr>\n",
       "  </tbody>\n",
       "</table>\n",
       "</div>"
      ],
      "text/plain": [
       "   rating              bill\n",
       "0       1  (745321, 666652)\n",
       "1      12  (772494, 754574)\n",
       "2       1  (772494, 745328)\n",
       "3      11  (772494, 749358)\n",
       "4       1  (772494, 745310)"
      ]
     },
     "execution_count": 11,
     "metadata": {},
     "output_type": "execute_result"
    }
   ],
   "source": [
    "import pandas as pd \n",
    "data_with_3 = pd.read_csv(\"../datasets/ratings_with_3_combinations_reduced.csv\")[[\"rating\", \"bill\"]]\n",
    "\n",
    "data_with_3.head()"
   ]
  },
  {
   "cell_type": "code",
   "execution_count": 12,
   "metadata": {},
   "outputs": [
    {
     "data": {
      "text/html": [
       "<div>\n",
       "<style scoped>\n",
       "    .dataframe tbody tr th:only-of-type {\n",
       "        vertical-align: middle;\n",
       "    }\n",
       "\n",
       "    .dataframe tbody tr th {\n",
       "        vertical-align: top;\n",
       "    }\n",
       "\n",
       "    .dataframe thead th {\n",
       "        text-align: right;\n",
       "    }\n",
       "</style>\n",
       "<table border=\"1\" class=\"dataframe\">\n",
       "  <thead>\n",
       "    <tr style=\"text-align: right;\">\n",
       "      <th></th>\n",
       "      <th>rating</th>\n",
       "      <th>bill</th>\n",
       "    </tr>\n",
       "  </thead>\n",
       "  <tbody>\n",
       "    <tr>\n",
       "      <th>1</th>\n",
       "      <td>12</td>\n",
       "      <td>(772494, 754574)</td>\n",
       "    </tr>\n",
       "    <tr>\n",
       "      <th>3</th>\n",
       "      <td>11</td>\n",
       "      <td>(772494, 749358)</td>\n",
       "    </tr>\n",
       "    <tr>\n",
       "      <th>5</th>\n",
       "      <td>6</td>\n",
       "      <td>(754574, 745328)</td>\n",
       "    </tr>\n",
       "    <tr>\n",
       "      <th>6</th>\n",
       "      <td>23</td>\n",
       "      <td>(754574, 749358)</td>\n",
       "    </tr>\n",
       "    <tr>\n",
       "      <th>7</th>\n",
       "      <td>7</td>\n",
       "      <td>(754574, 745310)</td>\n",
       "    </tr>\n",
       "  </tbody>\n",
       "</table>\n",
       "</div>"
      ],
      "text/plain": [
       "   rating              bill\n",
       "1      12  (772494, 754574)\n",
       "3      11  (772494, 749358)\n",
       "5       6  (754574, 745328)\n",
       "6      23  (754574, 749358)\n",
       "7       7  (754574, 745310)"
      ]
     },
     "execution_count": 12,
     "metadata": {},
     "output_type": "execute_result"
    }
   ],
   "source": [
    "data_3_greater_1 = data_with_3[data_with_3.rating > 1] \n",
    "\n",
    "data_3_greater_1.head() "
   ]
  },
  {
   "cell_type": "code",
   "execution_count": 13,
   "metadata": {},
   "outputs": [
    {
     "data": {
      "text/plain": [
       "<Figure size 1000x600 with 1 Axes>"
      ]
     },
     "metadata": {},
     "output_type": "display_data"
    }
   ],
   "source": [
    "# If the distribution of the quantity is normal, then it should be standardized, otherwise, the data should be normalized.\n",
    "import matplotlib.pyplot as plt \n",
    "\n",
    "plt.figure(figsize=(10,6))\n",
    "plt.hist(data_3_greater_1['rating'], bins=100, ec='black', color='#2196f3')\n",
    "plt.xlabel('ratings')\n",
    "plt.ylabel('Nr. of Houses')\n",
    "plt.show()"
   ]
  },
  {
   "cell_type": "code",
   "execution_count": 14,
   "metadata": {},
   "outputs": [
    {
     "data": {
      "text/plain": [
       "(2255, 2)"
      ]
     },
     "execution_count": 14,
     "metadata": {},
     "output_type": "execute_result"
    }
   ],
   "source": [
    "max(data_3_greater_1.rating),  min(data_3_greater_1.rating)"
   ]
  },
  {
   "cell_type": "code",
   "execution_count": 15,
   "metadata": {},
   "outputs": [
    {
     "data": {
      "text/plain": [
       "<matplotlib.axes._subplots.AxesSubplot at 0x23008391b70>"
      ]
     },
     "execution_count": 15,
     "metadata": {},
     "output_type": "execute_result"
    },
    {
     "data": {
      "image/png": "[encoded data removed]",
      "text/plain": [
       "<Figure size 432x288 with 1 Axes>"
      ]
     },
     "metadata": {
      "needs_background": "light"
     },
     "output_type": "display_data"
    }
   ],
   "source": [
    "import seaborn as sns\n",
    "sns.boxplot(data_3_greater_1['rating'].unique())"
   ]
  },
  {
   "cell_type": "code",
   "execution_count": 16,
   "metadata": {},
   "outputs": [
    {
     "data": {
      "text/html": [
       "<div>\n",
       "<style scoped>\n",
       "    .dataframe tbody tr th:only-of-type {\n",
       "        vertical-align: middle;\n",
       "    }\n",
       "\n",
       "    .dataframe tbody tr th {\n",
       "        vertical-align: top;\n",
       "    }\n",
       "\n",
       "    .dataframe thead th {\n",
       "        text-align: right;\n",
       "    }\n",
       "</style>\n",
       "<table border=\"1\" class=\"dataframe\">\n",
       "  <thead>\n",
       "    <tr style=\"text-align: right;\">\n",
       "      <th></th>\n",
       "      <th>rating</th>\n",
       "      <th>bill</th>\n",
       "    </tr>\n",
       "  </thead>\n",
       "  <tbody>\n",
       "    <tr>\n",
       "      <th>1</th>\n",
       "      <td>2.484907</td>\n",
       "      <td>(772494, 754574)</td>\n",
       "    </tr>\n",
       "    <tr>\n",
       "      <th>3</th>\n",
       "      <td>2.397895</td>\n",
       "      <td>(772494, 749358)</td>\n",
       "    </tr>\n",
       "    <tr>\n",
       "      <th>5</th>\n",
       "      <td>1.791759</td>\n",
       "      <td>(754574, 745328)</td>\n",
       "    </tr>\n",
       "    <tr>\n",
       "      <th>6</th>\n",
       "      <td>3.135494</td>\n",
       "      <td>(754574, 749358)</td>\n",
       "    </tr>\n",
       "    <tr>\n",
       "      <th>7</th>\n",
       "      <td>1.945910</td>\n",
       "      <td>(754574, 745310)</td>\n",
       "    </tr>\n",
       "  </tbody>\n",
       "</table>\n",
       "</div>"
      ],
      "text/plain": [
       "     rating              bill\n",
       "1  2.484907  (772494, 754574)\n",
       "3  2.397895  (772494, 749358)\n",
       "5  1.791759  (754574, 745328)\n",
       "6  3.135494  (754574, 749358)\n",
       "7  1.945910  (754574, 745310)"
      ]
     },
     "execution_count": 16,
     "metadata": {},
     "output_type": "execute_result"
    }
   ],
   "source": [
    "import numpy as np\n",
    "data_3_greater_1_log = data_3_greater_1.copy() \n",
    "data_3_greater_1_log[\"rating\"] = np.log(data_3_greater_1.rating) \n",
    "\n",
    "data_3_greater_1_log.head() "
   ]
  },
  {
   "cell_type": "code",
   "execution_count": 17,
   "metadata": {},
   "outputs": [
    {
     "data": {
      "text/plain": [
       "(7.720905251936779, 0.6931471805599453)"
      ]
     },
     "execution_count": 17,
     "metadata": {},
     "output_type": "execute_result"
    }
   ],
   "source": [
    "max(data_3_greater_1_log.rating),  min(data_3_greater_1_log.rating)"
   ]
  },
  {
   "cell_type": "code",
   "execution_count": 18,
   "metadata": {},
   "outputs": [
    {
     "data": {
      "image/png": "[encoded data removed]",
      "text/plain": [
       "<Figure size 720x432 with 1 Axes>"
      ]
     },
     "metadata": {
      "needs_background": "light"
     },
     "output_type": "display_data"
    }
   ],
   "source": [
    "# If the distribution of the quantity is normal, then it should be standardized, otherwise, the data should be normalized.\n",
    "import matplotlib.pyplot as plt \n",
    "\n",
    "plt.figure(figsize=(10,6))\n",
    "plt.hist(data_3_greater_1_log['rating'], bins=100, ec='black', color='#2196f3')\n",
    "plt.xlabel('ratings')\n",
    "plt.ylabel('Nr. of Houses')\n",
    "plt.show()"
   ]
  },
  {
   "cell_type": "code",
   "execution_count": 19,
   "metadata": {},
   "outputs": [
    {
     "data": {
      "text/plain": [
       "<matplotlib.axes._subplots.AxesSubplot at 0x230085895c0>"
      ]
     },
     "execution_count": 19,
     "metadata": {},
     "output_type": "execute_result"
    },
    {
     "data": {
      "image/png": "[encoded data removed]",
      "text/plain": [
       "<Figure size 432x288 with 1 Axes>"
      ]
     },
     "metadata": {
      "needs_background": "light"
     },
     "output_type": "display_data"
    }
   ],
   "source": [
    "import seaborn as sns\n",
    "sns.boxplot(data_3_greater_1_log['rating'].unique())"
   ]
  },
  {
   "cell_type": "code",
   "execution_count": 20,
   "metadata": {},
   "outputs": [
    {
     "name": "stdout",
     "output_type": "stream",
     "text": [
      "data_3_greater_1_log has IQR: 0.6931471805599453\n"
     ]
    }
   ],
   "source": [
    "import numpy as np \n",
    "Q1 = np.percentile(data_3_greater_1_log['rating'], 25,\n",
    "                   interpolation = 'midpoint')\n",
    " \n",
    "Q3 = np.percentile(data_3_greater_1_log['rating'], 75,\n",
    "                   interpolation = 'midpoint')\n",
    "IQR = Q3 - Q1\n",
    "\n",
    "print(\"data_3_greater_1_log has IQR:\", IQR) "
   ]
  },
  {
   "cell_type": "code",
   "execution_count": 21,
   "metadata": {},
   "outputs": [],
   "source": [
    "import pandas as pd\n",
    "data_raw = pd.read_csv(\"../datasets/raw_data.csv\") "
   ]
  },
  {
   "cell_type": "code",
   "execution_count": 22,
   "metadata": {},
   "outputs": [
    {
     "data": {
      "text/html": [
       "<div>\n",
       "<style scoped>\n",
       "    .dataframe tbody tr th:only-of-type {\n",
       "        vertical-align: middle;\n",
       "    }\n",
       "\n",
       "    .dataframe tbody tr th {\n",
       "        vertical-align: top;\n",
       "    }\n",
       "\n",
       "    .dataframe thead th {\n",
       "        text-align: right;\n",
       "    }\n",
       "</style>\n",
       "<table border=\"1\" class=\"dataframe\">\n",
       "  <thead>\n",
       "    <tr style=\"text-align: right;\">\n",
       "      <th></th>\n",
       "      <th>Unnamed: 0</th>\n",
       "      <th>optionId</th>\n",
       "      <th>bill</th>\n",
       "    </tr>\n",
       "  </thead>\n",
       "  <tbody>\n",
       "    <tr>\n",
       "      <th>0</th>\n",
       "      <td>0</td>\n",
       "      <td>751839</td>\n",
       "      <td>1</td>\n",
       "    </tr>\n",
       "    <tr>\n",
       "      <th>1</th>\n",
       "      <td>1</td>\n",
       "      <td>751782</td>\n",
       "      <td>1</td>\n",
       "    </tr>\n",
       "    <tr>\n",
       "      <th>2</th>\n",
       "      <td>2</td>\n",
       "      <td>745321</td>\n",
       "      <td>1</td>\n",
       "    </tr>\n",
       "    <tr>\n",
       "      <th>3</th>\n",
       "      <td>3</td>\n",
       "      <td>666652</td>\n",
       "      <td>1</td>\n",
       "    </tr>\n",
       "    <tr>\n",
       "      <th>4</th>\n",
       "      <td>4</td>\n",
       "      <td>751873</td>\n",
       "      <td>2</td>\n",
       "    </tr>\n",
       "  </tbody>\n",
       "</table>\n",
       "</div>"
      ],
      "text/plain": [
       "   Unnamed: 0  optionId  bill\n",
       "0           0    751839     1\n",
       "1           1    751782     1\n",
       "2           2    745321     1\n",
       "3           3    666652     1\n",
       "4           4    751873     2"
      ]
     },
     "execution_count": 22,
     "metadata": {},
     "output_type": "execute_result"
    }
   ],
   "source": [
    "data_raw.head() "
   ]
  },
  {
   "cell_type": "code",
   "execution_count": 24,
   "metadata": {},
   "outputs": [
    {
     "data": {
      "text/plain": [
       "[(745321, 666652, 751782, 751839),\n",
       " (751873, 760125),\n",
       " (772494, 754574, 745328, 749358, 745310)]"
      ]
     },
     "execution_count": 24,
     "metadata": {},
     "output_type": "execute_result"
    }
   ],
   "source": [
    "transactions = [] \n",
    "\n",
    "bill = 1\n",
    "option_bill = [] \n",
    "\n",
    "for index,row in data_raw.iterrows(): \n",
    "    if(row.bill == bill):\n",
    "        option_bill.append(row.optionId)\n",
    "    else:\n",
    "        bill = row.bill \n",
    "        transactions.append(tuple(set(option_bill))) \n",
    "        option_bill.clear()\n",
    "        option_bill.append(row.optionId)  \n",
    "\n",
    "\n",
    "transactions[:3]"
   ]
  },
  {
   "cell_type": "markdown",
   "metadata": {},
   "source": [
    "# Model 1: Matrix Factorization Using Keras "
   ]
  },
  {
   "cell_type": "markdown",
   "metadata": {},
   "source": [
    "#### Data Prep for MF "
   ]
  },
  {
   "cell_type": "code",
   "execution_count": 25,
   "metadata": {},
   "outputs": [
    {
     "data": {
      "text/html": [
       "<div>\n",
       "<style scoped>\n",
       "    .dataframe tbody tr th:only-of-type {\n",
       "        vertical-align: middle;\n",
       "    }\n",
       "\n",
       "    .dataframe tbody tr th {\n",
       "        vertical-align: top;\n",
       "    }\n",
       "\n",
       "    .dataframe thead th {\n",
       "        text-align: right;\n",
       "    }\n",
       "</style>\n",
       "<table border=\"1\" class=\"dataframe\">\n",
       "  <thead>\n",
       "    <tr style=\"text-align: right;\">\n",
       "      <th></th>\n",
       "      <th>rating</th>\n",
       "      <th>bill</th>\n",
       "    </tr>\n",
       "  </thead>\n",
       "  <tbody>\n",
       "    <tr>\n",
       "      <th>1</th>\n",
       "      <td>2.484907</td>\n",
       "      <td>(772494, 754574)</td>\n",
       "    </tr>\n",
       "    <tr>\n",
       "      <th>3</th>\n",
       "      <td>2.397895</td>\n",
       "      <td>(772494, 749358)</td>\n",
       "    </tr>\n",
       "    <tr>\n",
       "      <th>5</th>\n",
       "      <td>1.791759</td>\n",
       "      <td>(754574, 745328)</td>\n",
       "    </tr>\n",
       "    <tr>\n",
       "      <th>6</th>\n",
       "      <td>3.135494</td>\n",
       "      <td>(754574, 749358)</td>\n",
       "    </tr>\n",
       "    <tr>\n",
       "      <th>7</th>\n",
       "      <td>1.945910</td>\n",
       "      <td>(754574, 745310)</td>\n",
       "    </tr>\n",
       "  </tbody>\n",
       "</table>\n",
       "</div>"
      ],
      "text/plain": [
       "     rating              bill\n",
       "1  2.484907  (772494, 754574)\n",
       "3  2.397895  (772494, 749358)\n",
       "5  1.791759  (754574, 745328)\n",
       "6  3.135494  (754574, 749358)\n",
       "7  1.945910  (754574, 745310)"
      ]
     },
     "execution_count": 25,
     "metadata": {},
     "output_type": "execute_result"
    }
   ],
   "source": [
    "data_3_greater_1_log.head() "
   ]
  },
  {
   "cell_type": "code",
   "execution_count": 34,
   "metadata": {},
   "outputs": [
    {
     "name": "stdout",
     "output_type": "stream",
     "text": [
      "0.24.2\n"
     ]
    }
   ],
   "source": [
    "print(pd.__version__)\n"
   ]
  },
  {
   "cell_type": "code",
   "execution_count": 28,
   "metadata": {},
   "outputs": [
    {
     "ename": "TypeError",
     "evalue": "Cannot interpret '<attribute 'dtype' of 'numpy.generic' objects>' as a data type",
     "output_type": "error",
     "traceback": [
      "\u001b[1;31m---------------------------------------------------------------------------\u001b[0m",
      "\u001b[1;31mTypeError\u001b[0m                                 Traceback (most recent call last)",
      "\u001b[1;32m<ipython-input-28-77b8f56a71e2>\u001b[0m in \u001b[0;36m<module>\u001b[1;34m\u001b[0m\n\u001b[0;32m      2\u001b[0m \u001b[1;33m\u001b[0m\u001b[0m\n\u001b[0;32m      3\u001b[0m \u001b[0mdata_3_greater_1_log\u001b[0m\u001b[1;33m.\u001b[0m\u001b[0mbill\u001b[0m \u001b[1;33m=\u001b[0m \u001b[0mdata_3_greater_1_log\u001b[0m\u001b[1;33m.\u001b[0m\u001b[0mbill\u001b[0m\u001b[1;33m.\u001b[0m\u001b[0mapply\u001b[0m\u001b[1;33m(\u001b[0m\u001b[0mliteral_eval\u001b[0m\u001b[1;33m)\u001b[0m\u001b[1;33m\u001b[0m\u001b[1;33m\u001b[0m\u001b[0m\n\u001b[1;32m----> 4\u001b[1;33m \u001b[0mdata_3_greater_1_log\u001b[0m\u001b[1;33m.\u001b[0m\u001b[0minfo\u001b[0m\u001b[1;33m(\u001b[0m\u001b[1;33m)\u001b[0m\u001b[1;33m\u001b[0m\u001b[1;33m\u001b[0m\u001b[0m\n\u001b[0m",
      "\u001b[1;32mc:\\ProgramData\\Anaconda3\\lib\\site-packages\\pandas\\core\\frame.py\u001b[0m in \u001b[0;36minfo\u001b[1;34m(self, verbose, buf, max_cols, memory_usage, null_counts)\u001b[0m\n\u001b[0;32m   2503\u001b[0m                         self.index._is_memory_usage_qualified()):\n\u001b[0;32m   2504\u001b[0m                     \u001b[0msize_qualifier\u001b[0m \u001b[1;33m=\u001b[0m \u001b[1;34m'+'\u001b[0m\u001b[1;33m\u001b[0m\u001b[1;33m\u001b[0m\u001b[0m\n\u001b[1;32m-> 2505\u001b[1;33m             \u001b[0mmem_usage\u001b[0m \u001b[1;33m=\u001b[0m \u001b[0mself\u001b[0m\u001b[1;33m.\u001b[0m\u001b[0mmemory_usage\u001b[0m\u001b[1;33m(\u001b[0m\u001b[0mindex\u001b[0m\u001b[1;33m=\u001b[0m\u001b[1;32mTrue\u001b[0m\u001b[1;33m,\u001b[0m \u001b[0mdeep\u001b[0m\u001b[1;33m=\u001b[0m\u001b[0mdeep\u001b[0m\u001b[1;33m)\u001b[0m\u001b[1;33m.\u001b[0m\u001b[0msum\u001b[0m\u001b[1;33m(\u001b[0m\u001b[1;33m)\u001b[0m\u001b[1;33m\u001b[0m\u001b[1;33m\u001b[0m\u001b[0m\n\u001b[0m\u001b[0;32m   2506\u001b[0m             lines.append(\"memory usage: {mem}\\n\".format(\n\u001b[0;32m   2507\u001b[0m                 mem=_sizeof_fmt(mem_usage, size_qualifier)))\n",
      "\u001b[1;32mc:\\ProgramData\\Anaconda3\\lib\\site-packages\\pandas\\core\\frame.py\u001b[0m in \u001b[0;36mmemory_usage\u001b[1;34m(self, index, deep)\u001b[0m\n\u001b[0;32m   2597\u001b[0m         \u001b[1;32mif\u001b[0m \u001b[0mindex\u001b[0m\u001b[1;33m:\u001b[0m\u001b[1;33m\u001b[0m\u001b[1;33m\u001b[0m\u001b[0m\n\u001b[0;32m   2598\u001b[0m             result = Series(self.index.memory_usage(deep=deep),\n\u001b[1;32m-> 2599\u001b[1;33m                             index=['Index']).append(result)\n\u001b[0m\u001b[0;32m   2600\u001b[0m         \u001b[1;32mreturn\u001b[0m \u001b[0mresult\u001b[0m\u001b[1;33m\u001b[0m\u001b[1;33m\u001b[0m\u001b[0m\n\u001b[0;32m   2601\u001b[0m \u001b[1;33m\u001b[0m\u001b[0m\n",
      "\u001b[1;32mc:\\ProgramData\\Anaconda3\\lib\\site-packages\\pandas\\core\\series.py\u001b[0m in \u001b[0;36m__init__\u001b[1;34m(self, data, index, dtype, name, copy, fastpath)\u001b[0m\n\u001b[0;32m    260\u001b[0m             \u001b[1;32melse\u001b[0m\u001b[1;33m:\u001b[0m\u001b[1;33m\u001b[0m\u001b[1;33m\u001b[0m\u001b[0m\n\u001b[0;32m    261\u001b[0m                 data = sanitize_array(data, index, dtype, copy,\n\u001b[1;32m--> 262\u001b[1;33m                                       raise_cast_failure=True)\n\u001b[0m\u001b[0;32m    263\u001b[0m \u001b[1;33m\u001b[0m\u001b[0m\n\u001b[0;32m    264\u001b[0m                 \u001b[0mdata\u001b[0m \u001b[1;33m=\u001b[0m \u001b[0mSingleBlockManager\u001b[0m\u001b[1;33m(\u001b[0m\u001b[0mdata\u001b[0m\u001b[1;33m,\u001b[0m \u001b[0mindex\u001b[0m\u001b[1;33m,\u001b[0m \u001b[0mfastpath\u001b[0m\u001b[1;33m=\u001b[0m\u001b[1;32mTrue\u001b[0m\u001b[1;33m)\u001b[0m\u001b[1;33m\u001b[0m\u001b[1;33m\u001b[0m\u001b[0m\n",
      "\u001b[1;32mc:\\ProgramData\\Anaconda3\\lib\\site-packages\\pandas\\core\\internals\\construction.py\u001b[0m in \u001b[0;36msanitize_array\u001b[1;34m(data, index, dtype, copy, raise_cast_failure)\u001b[0m\n\u001b[0;32m    640\u001b[0m \u001b[1;33m\u001b[0m\u001b[0m\n\u001b[0;32m    641\u001b[0m             subarr = construct_1d_arraylike_from_scalar(\n\u001b[1;32m--> 642\u001b[1;33m                 value, len(index), dtype)\n\u001b[0m\u001b[0;32m    643\u001b[0m \u001b[1;33m\u001b[0m\u001b[0m\n\u001b[0;32m    644\u001b[0m         \u001b[1;32melse\u001b[0m\u001b[1;33m:\u001b[0m\u001b[1;33m\u001b[0m\u001b[1;33m\u001b[0m\u001b[0m\n",
      "\u001b[1;32mc:\\ProgramData\\Anaconda3\\lib\\site-packages\\pandas\\core\\dtypes\\cast.py\u001b[0m in \u001b[0;36mconstruct_1d_arraylike_from_scalar\u001b[1;34m(value, length, dtype)\u001b[0m\n\u001b[0;32m   1185\u001b[0m                 \u001b[0mvalue\u001b[0m \u001b[1;33m=\u001b[0m \u001b[0mto_str\u001b[0m\u001b[1;33m(\u001b[0m\u001b[0mvalue\u001b[0m\u001b[1;33m)\u001b[0m\u001b[1;33m\u001b[0m\u001b[1;33m\u001b[0m\u001b[0m\n\u001b[0;32m   1186\u001b[0m \u001b[1;33m\u001b[0m\u001b[0m\n\u001b[1;32m-> 1187\u001b[1;33m         \u001b[0msubarr\u001b[0m \u001b[1;33m=\u001b[0m \u001b[0mnp\u001b[0m\u001b[1;33m.\u001b[0m\u001b[0mempty\u001b[0m\u001b[1;33m(\u001b[0m\u001b[0mlength\u001b[0m\u001b[1;33m,\u001b[0m \u001b[0mdtype\u001b[0m\u001b[1;33m=\u001b[0m\u001b[0mdtype\u001b[0m\u001b[1;33m)\u001b[0m\u001b[1;33m\u001b[0m\u001b[1;33m\u001b[0m\u001b[0m\n\u001b[0m\u001b[0;32m   1188\u001b[0m         \u001b[0msubarr\u001b[0m\u001b[1;33m.\u001b[0m\u001b[0mfill\u001b[0m\u001b[1;33m(\u001b[0m\u001b[0mvalue\u001b[0m\u001b[1;33m)\u001b[0m\u001b[1;33m\u001b[0m\u001b[1;33m\u001b[0m\u001b[0m\n\u001b[0;32m   1189\u001b[0m \u001b[1;33m\u001b[0m\u001b[0m\n",
      "\u001b[1;31mTypeError\u001b[0m: Cannot interpret '<attribute 'dtype' of 'numpy.generic' objects>' as a data type"
     ]
    }
   ],
   "source": [
    "from ast import literal_eval\n",
    "\n",
    "data_3_greater_1_log.bill = data_3_greater_1_log.bill.apply(literal_eval) \n",
    "data_3_greater_1_log.info() "
   ]
  },
  {
   "cell_type": "code",
   "execution_count": 43,
   "metadata": {},
   "outputs": [
    {
     "data": {
      "text/plain": [
       "tuple"
      ]
     },
     "execution_count": 43,
     "metadata": {},
     "output_type": "execute_result"
    }
   ],
   "source": [
    "type(data_3_greater_1_log.bill.iat[0])"
   ]
  },
  {
   "cell_type": "code",
   "execution_count": 44,
   "metadata": {},
   "outputs": [
    {
     "data": {
      "text/plain": [
       "(749358, 754574)"
      ]
     },
     "execution_count": 44,
     "metadata": {},
     "output_type": "execute_result"
    }
   ],
   "source": [
    "statement = (772494, 754574, 749358) \n",
    "s_set = set(statement) \n",
    "tuple(s_set.difference([772494]))"
   ]
  },
  {
   "cell_type": "code",
   "execution_count": 45,
   "metadata": {},
   "outputs": [],
   "source": [
    "def split_bill(statement):\n",
    "    return [\n",
    "        (tuple(set(statement).difference([statement[0]])), statement[0]),\n",
    "        (tuple(set(statement).difference([statement[1]])), statement[1]),\n",
    "        (tuple(set(statement).difference([statement[2]])), statement[2])\n",
    "    ]"
   ]
  },
  {
   "cell_type": "code",
   "execution_count": 46,
   "metadata": {},
   "outputs": [
    {
     "data": {
      "text/html": [
       "<div>\n",
       "<style scoped>\n",
       "    .dataframe tbody tr th:only-of-type {\n",
       "        vertical-align: middle;\n",
       "    }\n",
       "\n",
       "    .dataframe tbody tr th {\n",
       "        vertical-align: top;\n",
       "    }\n",
       "\n",
       "    .dataframe thead th {\n",
       "        text-align: right;\n",
       "    }\n",
       "</style>\n",
       "<table border=\"1\" class=\"dataframe\">\n",
       "  <thead>\n",
       "    <tr style=\"text-align: right;\">\n",
       "      <th></th>\n",
       "      <th>rating</th>\n",
       "      <th>bill</th>\n",
       "      <th>option_count</th>\n",
       "    </tr>\n",
       "  </thead>\n",
       "  <tbody>\n",
       "    <tr>\n",
       "      <th>4490148</th>\n",
       "      <td>0.693147</td>\n",
       "      <td>(774694, 767718, 767721)</td>\n",
       "      <td>3</td>\n",
       "    </tr>\n",
       "    <tr>\n",
       "      <th>4490843</th>\n",
       "      <td>0.693147</td>\n",
       "      <td>(774590, 774319)</td>\n",
       "      <td>2</td>\n",
       "    </tr>\n",
       "    <tr>\n",
       "      <th>4490847</th>\n",
       "      <td>0.693147</td>\n",
       "      <td>(774469, 774590, 774319)</td>\n",
       "      <td>3</td>\n",
       "    </tr>\n",
       "    <tr>\n",
       "      <th>4491087</th>\n",
       "      <td>0.693147</td>\n",
       "      <td>(764896, 786771, 774571)</td>\n",
       "      <td>3</td>\n",
       "    </tr>\n",
       "    <tr>\n",
       "      <th>4492451</th>\n",
       "      <td>0.693147</td>\n",
       "      <td>(748899, 748868, 752949)</td>\n",
       "      <td>3</td>\n",
       "    </tr>\n",
       "  </tbody>\n",
       "</table>\n",
       "</div>"
      ],
      "text/plain": [
       "           rating                      bill  option_count\n",
       "4490148  0.693147  (774694, 767718, 767721)             3\n",
       "4490843  0.693147          (774590, 774319)             2\n",
       "4490847  0.693147  (774469, 774590, 774319)             3\n",
       "4491087  0.693147  (764896, 786771, 774571)             3\n",
       "4492451  0.693147  (748899, 748868, 752949)             3"
      ]
     },
     "execution_count": 46,
     "metadata": {},
     "output_type": "execute_result"
    }
   ],
   "source": [
    "data_3_greater_1_log[\"option_count\"] = data_3_greater_1_log.bill.apply(lambda x: len(x))\n",
    "data_3_greater_1_log.tail() "
   ]
  },
  {
   "cell_type": "code",
   "execution_count": 47,
   "metadata": {},
   "outputs": [],
   "source": [
    "sublist_by_2 = data_3_greater_1_log[data_3_greater_1_log.option_count == 2]"
   ]
  },
  {
   "cell_type": "code",
   "execution_count": 48,
   "metadata": {},
   "outputs": [
    {
     "data": {
      "text/html": [
       "<div>\n",
       "<style scoped>\n",
       "    .dataframe tbody tr th:only-of-type {\n",
       "        vertical-align: middle;\n",
       "    }\n",
       "\n",
       "    .dataframe tbody tr th {\n",
       "        vertical-align: top;\n",
       "    }\n",
       "\n",
       "    .dataframe thead th {\n",
       "        text-align: right;\n",
       "    }\n",
       "</style>\n",
       "<table border=\"1\" class=\"dataframe\">\n",
       "  <thead>\n",
       "    <tr style=\"text-align: right;\">\n",
       "      <th></th>\n",
       "      <th>rating</th>\n",
       "      <th>bill</th>\n",
       "      <th>option_count</th>\n",
       "      <th>LHS</th>\n",
       "      <th>RHS</th>\n",
       "    </tr>\n",
       "  </thead>\n",
       "  <tbody>\n",
       "    <tr>\n",
       "      <th>1</th>\n",
       "      <td>2.484907</td>\n",
       "      <td>(772494, 754574)</td>\n",
       "      <td>2</td>\n",
       "      <td>772494</td>\n",
       "      <td>754574</td>\n",
       "    </tr>\n",
       "    <tr>\n",
       "      <th>3</th>\n",
       "      <td>2.397895</td>\n",
       "      <td>(772494, 749358)</td>\n",
       "      <td>2</td>\n",
       "      <td>772494</td>\n",
       "      <td>749358</td>\n",
       "    </tr>\n",
       "    <tr>\n",
       "      <th>5</th>\n",
       "      <td>1.791759</td>\n",
       "      <td>(754574, 745328)</td>\n",
       "      <td>2</td>\n",
       "      <td>754574</td>\n",
       "      <td>745328</td>\n",
       "    </tr>\n",
       "    <tr>\n",
       "      <th>6</th>\n",
       "      <td>3.135494</td>\n",
       "      <td>(754574, 749358)</td>\n",
       "      <td>2</td>\n",
       "      <td>754574</td>\n",
       "      <td>749358</td>\n",
       "    </tr>\n",
       "    <tr>\n",
       "      <th>7</th>\n",
       "      <td>1.945910</td>\n",
       "      <td>(754574, 745310)</td>\n",
       "      <td>2</td>\n",
       "      <td>754574</td>\n",
       "      <td>745310</td>\n",
       "    </tr>\n",
       "  </tbody>\n",
       "</table>\n",
       "</div>"
      ],
      "text/plain": [
       "     rating              bill  option_count     LHS     RHS\n",
       "1  2.484907  (772494, 754574)             2  772494  754574\n",
       "3  2.397895  (772494, 749358)             2  772494  749358\n",
       "5  1.791759  (754574, 745328)             2  754574  745328\n",
       "6  3.135494  (754574, 749358)             2  754574  749358\n",
       "7  1.945910  (754574, 745310)             2  754574  745310"
      ]
     },
     "execution_count": 48,
     "metadata": {},
     "output_type": "execute_result"
    }
   ],
   "source": [
    "sublist_by_2_concat = pd.concat([\n",
    "    sublist_by_2,\n",
    "    pd.DataFrame(data_3_greater_1_log[data_3_greater_1_log.option_count == 2].bill.to_list(), columns=[\"LHS\", \"RHS\"], index=sublist_by_2.index)\n",
    "], axis=1)\n",
    "sublist_by_2_concat.head()"
   ]
  },
  {
   "cell_type": "code",
   "execution_count": 49,
   "metadata": {},
   "outputs": [
    {
     "data": {
      "text/html": [
       "<div>\n",
       "<style scoped>\n",
       "    .dataframe tbody tr th:only-of-type {\n",
       "        vertical-align: middle;\n",
       "    }\n",
       "\n",
       "    .dataframe tbody tr th {\n",
       "        vertical-align: top;\n",
       "    }\n",
       "\n",
       "    .dataframe thead th {\n",
       "        text-align: right;\n",
       "    }\n",
       "</style>\n",
       "<table border=\"1\" class=\"dataframe\">\n",
       "  <thead>\n",
       "    <tr style=\"text-align: right;\">\n",
       "      <th></th>\n",
       "      <th>rating</th>\n",
       "      <th>bill</th>\n",
       "      <th>option_count</th>\n",
       "    </tr>\n",
       "  </thead>\n",
       "  <tbody>\n",
       "    <tr>\n",
       "      <th>12</th>\n",
       "      <td>0.693147</td>\n",
       "      <td>(772494, 754574, 749358)</td>\n",
       "      <td>3</td>\n",
       "    </tr>\n",
       "    <tr>\n",
       "      <th>18</th>\n",
       "      <td>0.693147</td>\n",
       "      <td>(754574, 745328, 745310)</td>\n",
       "      <td>3</td>\n",
       "    </tr>\n",
       "    <tr>\n",
       "      <th>34</th>\n",
       "      <td>1.098612</td>\n",
       "      <td>(751649, 751591, 751532)</td>\n",
       "      <td>3</td>\n",
       "    </tr>\n",
       "    <tr>\n",
       "      <th>35</th>\n",
       "      <td>0.693147</td>\n",
       "      <td>(751649, 751591, 751597)</td>\n",
       "      <td>3</td>\n",
       "    </tr>\n",
       "    <tr>\n",
       "      <th>36</th>\n",
       "      <td>0.693147</td>\n",
       "      <td>(751649, 751595, 751532)</td>\n",
       "      <td>3</td>\n",
       "    </tr>\n",
       "  </tbody>\n",
       "</table>\n",
       "</div>"
      ],
      "text/plain": [
       "      rating                      bill  option_count\n",
       "12  0.693147  (772494, 754574, 749358)             3\n",
       "18  0.693147  (754574, 745328, 745310)             3\n",
       "34  1.098612  (751649, 751591, 751532)             3\n",
       "35  0.693147  (751649, 751591, 751597)             3\n",
       "36  0.693147  (751649, 751595, 751532)             3"
      ]
     },
     "execution_count": 49,
     "metadata": {},
     "output_type": "execute_result"
    }
   ],
   "source": [
    "sublist_by_3 = data_3_greater_1_log[data_3_greater_1_log.option_count == 3]\n",
    "sublist_by_3.head() "
   ]
  },
  {
   "cell_type": "code",
   "execution_count": 50,
   "metadata": {},
   "outputs": [
    {
     "data": {
      "text/html": [
       "<div>\n",
       "<style scoped>\n",
       "    .dataframe tbody tr th:only-of-type {\n",
       "        vertical-align: middle;\n",
       "    }\n",
       "\n",
       "    .dataframe tbody tr th {\n",
       "        vertical-align: top;\n",
       "    }\n",
       "\n",
       "    .dataframe thead th {\n",
       "        text-align: right;\n",
       "    }\n",
       "</style>\n",
       "<table border=\"1\" class=\"dataframe\">\n",
       "  <thead>\n",
       "    <tr style=\"text-align: right;\">\n",
       "      <th></th>\n",
       "      <th>rating</th>\n",
       "      <th>bill</th>\n",
       "      <th>option_count</th>\n",
       "      <th>LHS</th>\n",
       "      <th>RHS</th>\n",
       "    </tr>\n",
       "  </thead>\n",
       "  <tbody>\n",
       "    <tr>\n",
       "      <th>0</th>\n",
       "      <td>0.693147</td>\n",
       "      <td>(772494, 754574, 749358)</td>\n",
       "      <td>3</td>\n",
       "      <td>(749358, 754574)</td>\n",
       "      <td>772494</td>\n",
       "    </tr>\n",
       "    <tr>\n",
       "      <th>1</th>\n",
       "      <td>0.693147</td>\n",
       "      <td>(772494, 754574, 749358)</td>\n",
       "      <td>3</td>\n",
       "      <td>(749358, 772494)</td>\n",
       "      <td>754574</td>\n",
       "    </tr>\n",
       "    <tr>\n",
       "      <th>2</th>\n",
       "      <td>0.693147</td>\n",
       "      <td>(772494, 754574, 749358)</td>\n",
       "      <td>3</td>\n",
       "      <td>(754574, 772494)</td>\n",
       "      <td>749358</td>\n",
       "    </tr>\n",
       "    <tr>\n",
       "      <th>3</th>\n",
       "      <td>0.693147</td>\n",
       "      <td>(754574, 745328, 745310)</td>\n",
       "      <td>3</td>\n",
       "      <td>(745328, 745310)</td>\n",
       "      <td>754574</td>\n",
       "    </tr>\n",
       "    <tr>\n",
       "      <th>4</th>\n",
       "      <td>0.693147</td>\n",
       "      <td>(754574, 745328, 745310)</td>\n",
       "      <td>3</td>\n",
       "      <td>(745310, 754574)</td>\n",
       "      <td>745328</td>\n",
       "    </tr>\n",
       "  </tbody>\n",
       "</table>\n",
       "</div>"
      ],
      "text/plain": [
       "     rating                      bill option_count               LHS     RHS\n",
       "0  0.693147  (772494, 754574, 749358)            3  (749358, 754574)  772494\n",
       "1  0.693147  (772494, 754574, 749358)            3  (749358, 772494)  754574\n",
       "2  0.693147  (772494, 754574, 749358)            3  (754574, 772494)  749358\n",
       "3  0.693147  (754574, 745328, 745310)            3  (745328, 745310)  754574\n",
       "4  0.693147  (754574, 745328, 745310)            3  (745310, 754574)  745328"
      ]
     },
     "execution_count": 50,
     "metadata": {},
     "output_type": "execute_result"
    }
   ],
   "source": [
    "replicated_rows = pd.DataFrame(np.repeat(sublist_by_3.values, 3, axis=0), columns=sublist_by_3.columns)\n",
    "\n",
    "sublists_by_3_reduced = []  \n",
    "for item in sublist_by_3.bill.to_list():\n",
    "    sublists_by_3_reduced += split_bill(item) \n",
    "\n",
    "sublists_by_3_reduced = pd.DataFrame(sublists_by_3_reduced, columns=[\"LHS\", \"RHS\"])\n",
    "\n",
    "sublist_by_3_concat = pd.concat([\n",
    "    replicated_rows, \n",
    "    sublists_by_3_reduced\n",
    "], axis=1)\n",
    "\n",
    "sublist_by_3_concat.head() "
   ]
  },
  {
   "cell_type": "code",
   "execution_count": 51,
   "metadata": {},
   "outputs": [
    {
     "data": {
      "text/html": [
       "<div>\n",
       "<style scoped>\n",
       "    .dataframe tbody tr th:only-of-type {\n",
       "        vertical-align: middle;\n",
       "    }\n",
       "\n",
       "    .dataframe tbody tr th {\n",
       "        vertical-align: top;\n",
       "    }\n",
       "\n",
       "    .dataframe thead th {\n",
       "        text-align: right;\n",
       "    }\n",
       "</style>\n",
       "<table border=\"1\" class=\"dataframe\">\n",
       "  <thead>\n",
       "    <tr style=\"text-align: right;\">\n",
       "      <th></th>\n",
       "      <th>rating</th>\n",
       "      <th>bill</th>\n",
       "      <th>option_count</th>\n",
       "      <th>LHS</th>\n",
       "      <th>RHS</th>\n",
       "    </tr>\n",
       "  </thead>\n",
       "  <tbody>\n",
       "    <tr>\n",
       "      <th>0</th>\n",
       "      <td>0.693147</td>\n",
       "      <td>(772494, 754574, 749358)</td>\n",
       "      <td>3</td>\n",
       "      <td>(749358, 754574)</td>\n",
       "      <td>772494</td>\n",
       "    </tr>\n",
       "    <tr>\n",
       "      <th>1</th>\n",
       "      <td>0.693147</td>\n",
       "      <td>(772494, 754574, 749358)</td>\n",
       "      <td>3</td>\n",
       "      <td>(749358, 772494)</td>\n",
       "      <td>754574</td>\n",
       "    </tr>\n",
       "    <tr>\n",
       "      <th>2</th>\n",
       "      <td>0.693147</td>\n",
       "      <td>(772494, 754574, 749358)</td>\n",
       "      <td>3</td>\n",
       "      <td>(754574, 772494)</td>\n",
       "      <td>749358</td>\n",
       "    </tr>\n",
       "    <tr>\n",
       "      <th>3</th>\n",
       "      <td>0.693147</td>\n",
       "      <td>(754574, 745328, 745310)</td>\n",
       "      <td>3</td>\n",
       "      <td>(745328, 745310)</td>\n",
       "      <td>754574</td>\n",
       "    </tr>\n",
       "    <tr>\n",
       "      <th>4</th>\n",
       "      <td>0.693147</td>\n",
       "      <td>(754574, 745328, 745310)</td>\n",
       "      <td>3</td>\n",
       "      <td>(745310, 754574)</td>\n",
       "      <td>745328</td>\n",
       "    </tr>\n",
       "  </tbody>\n",
       "</table>\n",
       "</div>"
      ],
      "text/plain": [
       "     rating                      bill option_count               LHS     RHS\n",
       "0  0.693147  (772494, 754574, 749358)            3  (749358, 754574)  772494\n",
       "1  0.693147  (772494, 754574, 749358)            3  (749358, 772494)  754574\n",
       "2  0.693147  (772494, 754574, 749358)            3  (754574, 772494)  749358\n",
       "3  0.693147  (754574, 745328, 745310)            3  (745328, 745310)  754574\n",
       "4  0.693147  (754574, 745328, 745310)            3  (745310, 754574)  745328"
      ]
     },
     "execution_count": 51,
     "metadata": {},
     "output_type": "execute_result"
    }
   ],
   "source": [
    "dataset_combined_MF = pd.concat([sublist_by_3_concat, sublist_by_2_concat], axis=0, ignore_index=True)\n",
    "dataset_combined_MF.head()  "
   ]
  },
  {
   "cell_type": "code",
   "execution_count": 52,
   "metadata": {},
   "outputs": [
    {
     "data": {
      "text/plain": [
       "array([3, 2], dtype=object)"
      ]
     },
     "execution_count": 52,
     "metadata": {},
     "output_type": "execute_result"
    }
   ],
   "source": [
    "dataset_combined_MF.option_count.unique() "
   ]
  },
  {
   "cell_type": "code",
   "execution_count": 53,
   "metadata": {},
   "outputs": [
    {
     "data": {
      "text/html": [
       "<div>\n",
       "<style scoped>\n",
       "    .dataframe tbody tr th:only-of-type {\n",
       "        vertical-align: middle;\n",
       "    }\n",
       "\n",
       "    .dataframe tbody tr th {\n",
       "        vertical-align: top;\n",
       "    }\n",
       "\n",
       "    .dataframe thead th {\n",
       "        text-align: right;\n",
       "    }\n",
       "</style>\n",
       "<table border=\"1\" class=\"dataframe\">\n",
       "  <thead>\n",
       "    <tr style=\"text-align: right;\">\n",
       "      <th></th>\n",
       "      <th>rating</th>\n",
       "      <th>bill</th>\n",
       "      <th>option_count</th>\n",
       "      <th>LHS</th>\n",
       "      <th>RHS</th>\n",
       "      <th>LHS_C</th>\n",
       "      <th>RHS_C</th>\n",
       "    </tr>\n",
       "  </thead>\n",
       "  <tbody>\n",
       "    <tr>\n",
       "      <th>1</th>\n",
       "      <td>2.484907</td>\n",
       "      <td>(772494, 754574)</td>\n",
       "      <td>2</td>\n",
       "      <td>772494</td>\n",
       "      <td>754574</td>\n",
       "      <td>4116</td>\n",
       "      <td>3329</td>\n",
       "    </tr>\n",
       "    <tr>\n",
       "      <th>3</th>\n",
       "      <td>2.397895</td>\n",
       "      <td>(772494, 749358)</td>\n",
       "      <td>2</td>\n",
       "      <td>772494</td>\n",
       "      <td>749358</td>\n",
       "      <td>4116</td>\n",
       "      <td>2675</td>\n",
       "    </tr>\n",
       "    <tr>\n",
       "      <th>5</th>\n",
       "      <td>1.791759</td>\n",
       "      <td>(754574, 745328)</td>\n",
       "      <td>2</td>\n",
       "      <td>754574</td>\n",
       "      <td>745328</td>\n",
       "      <td>3303</td>\n",
       "      <td>2414</td>\n",
       "    </tr>\n",
       "    <tr>\n",
       "      <th>6</th>\n",
       "      <td>3.135494</td>\n",
       "      <td>(754574, 749358)</td>\n",
       "      <td>2</td>\n",
       "      <td>754574</td>\n",
       "      <td>749358</td>\n",
       "      <td>3303</td>\n",
       "      <td>2675</td>\n",
       "    </tr>\n",
       "    <tr>\n",
       "      <th>7</th>\n",
       "      <td>1.945910</td>\n",
       "      <td>(754574, 745310)</td>\n",
       "      <td>2</td>\n",
       "      <td>754574</td>\n",
       "      <td>745310</td>\n",
       "      <td>3303</td>\n",
       "      <td>2403</td>\n",
       "    </tr>\n",
       "  </tbody>\n",
       "</table>\n",
       "</div>"
      ],
      "text/plain": [
       "     rating              bill  option_count     LHS     RHS  LHS_C  RHS_C\n",
       "1  2.484907  (772494, 754574)             2  772494  754574   4116   3329\n",
       "3  2.397895  (772494, 749358)             2  772494  749358   4116   2675\n",
       "5  1.791759  (754574, 745328)             2  754574  745328   3303   2414\n",
       "6  3.135494  (754574, 749358)             2  754574  749358   3303   2675\n",
       "7  1.945910  (754574, 745310)             2  754574  745310   3303   2403"
      ]
     },
     "execution_count": 53,
     "metadata": {},
     "output_type": "execute_result"
    }
   ],
   "source": [
    "sublist_by_2_concat[\"LHS_C\"] = sublist_by_2_concat.LHS.astype('category').cat.codes.values\n",
    "sublist_by_2_concat[\"RHS_C\"] = sublist_by_2_concat.RHS.astype('category').cat.codes.values\n",
    "\n",
    "sublist_by_2_concat.head() "
   ]
  },
  {
   "cell_type": "code",
   "execution_count": 54,
   "metadata": {},
   "outputs": [
    {
     "data": {
      "text/plain": [
       "(4800, 4764)"
      ]
     },
     "execution_count": 54,
     "metadata": {},
     "output_type": "execute_result"
    }
   ],
   "source": [
    "len(sublist_by_2_concat.RHS_C.unique()), len(sublist_by_2_concat.LHS_C.unique())"
   ]
  },
  {
   "attachments": {},
   "cell_type": "markdown",
   "metadata": {},
   "source": [
    "## Building MF Model \n",
    "\n",
    "### Model: With 2's Combine "
   ]
  },
  {
   "cell_type": "code",
   "execution_count": 55,
   "metadata": {},
   "outputs": [],
   "source": [
    "from tensorflow import keras\n",
    "from keras.optimizers import Adam \n",
    "\n",
    "n_rhs, n_lhs = len(sublist_by_2_concat.RHS_C.unique()), len(sublist_by_2_concat.LHS_C.unique())\n",
    "n_latent_factors = 20\n",
    "# input, embedding --> \n",
    "lhs_input = keras.layers.Input(shape=(1,), name=\"lhs-item\") \n",
    "lhs_embedding = keras.layers.Embedding(n_lhs + 1, n_latent_factors, name=\"lhs-embeddings\")(lhs_input) \n",
    "lhs_vec = keras.layers.Flatten(name=\"flatten-lhs\")(lhs_embedding) \n",
    "\n",
    "rhs_input= keras.layers.Input(shape=(1,), name=\"rhs-item\")\n",
    "rhs_embedding = keras.layers.Embedding(n_rhs + 1, n_latent_factors, name=\"rhs-embeddings\")(rhs_input) \n",
    "rhs_vec = keras.layers.Flatten(name=\"flatten-rhs\")(rhs_embedding)\n",
    "\n",
    "product = keras.layers.dot([lhs_vec, rhs_vec], axes=1, name=\"dot-product\") \n",
    "\n",
    "model = keras.Model([lhs_input, rhs_input], product) \n"
   ]
  },
  {
   "cell_type": "code",
   "execution_count": 56,
   "metadata": {},
   "outputs": [
    {
     "name": "stdout",
     "output_type": "stream",
     "text": [
      "Model: \"model\"\n",
      "__________________________________________________________________________________________________\n",
      " Layer (type)                   Output Shape         Param #     Connected to                     \n",
      "==================================================================================================\n",
      " lhs-item (InputLayer)          [(None, 1)]          0           []                               \n",
      "                                                                                                  \n",
      " rhs-item (InputLayer)          [(None, 1)]          0           []                               \n",
      "                                                                                                  \n",
      " lhs-embeddings (Embedding)     (None, 1, 20)        95300       ['lhs-item[0][0]']               \n",
      "                                                                                                  \n",
      " rhs-embeddings (Embedding)     (None, 1, 20)        96020       ['rhs-item[0][0]']               \n",
      "                                                                                                  \n",
      " flatten-lhs (Flatten)          (None, 20)           0           ['lhs-embeddings[0][0]']         \n",
      "                                                                                                  \n",
      " flatten-rhs (Flatten)          (None, 20)           0           ['rhs-embeddings[0][0]']         \n",
      "                                                                                                  \n",
      " dot-product (Dot)              (None, 1)            0           ['flatten-lhs[0][0]',            \n",
      "                                                                  'flatten-rhs[0][0]']            \n",
      "                                                                                                  \n",
      "==================================================================================================\n",
      "Total params: 191,320\n",
      "Trainable params: 191,320\n",
      "Non-trainable params: 0\n",
      "__________________________________________________________________________________________________\n"
     ]
    }
   ],
   "source": [
    "model.compile(optimizer='adam', loss='mean_squared_error', metrics=['mae', 'mse'])\n",
    "model.summary() "
   ]
  },
  {
   "cell_type": "code",
   "execution_count": 57,
   "metadata": {},
   "outputs": [],
   "source": [
    "initial_weights = model.get_weights()"
   ]
  },
  {
   "cell_type": "code",
   "execution_count": 58,
   "metadata": {},
   "outputs": [
    {
     "data": {
      "text/plain": [
       "(         RHS_C  LHS_C\n",
       " 256257     673   1087\n",
       " 789833    3598   3719\n",
       " 166816    2577   3967\n",
       " 723830     638   3526\n",
       " 3435879   4782   4594, 256257     0.693147\n",
       " 789833     4.779123\n",
       " 166816     1.791759\n",
       " 723830     1.098612\n",
       " 3435879    0.693147\n",
       " Name: rating, dtype: float64)"
      ]
     },
     "execution_count": 58,
     "metadata": {},
     "output_type": "execute_result"
    }
   ],
   "source": [
    "from sklearn.model_selection import train_test_split \n",
    "\n",
    "X_train, X_test, y_train, y_test = train_test_split(sublist_by_2_concat[[\"RHS_C\", \"LHS_C\"]], sublist_by_2_concat.rating, test_size=0.10) \n",
    "X_train[:5], y_train[:5]"
   ]
  },
  {
   "cell_type": "code",
   "execution_count": 59,
   "metadata": {},
   "outputs": [
    {
     "data": {
      "text/plain": [
       "(4728, 3016)"
      ]
     },
     "execution_count": 59,
     "metadata": {},
     "output_type": "execute_result"
    }
   ],
   "source": [
    "len(X_train.RHS_C.unique()), len(X_test.RHS_C.unique())"
   ]
  },
  {
   "cell_type": "code",
   "execution_count": 60,
   "metadata": {},
   "outputs": [],
   "source": [
    "early_stopping = keras.callbacks.EarlyStopping(monitor=\"loss\", patience=3, )"
   ]
  },
  {
   "cell_type": "code",
   "execution_count": 61,
   "metadata": {},
   "outputs": [],
   "source": [
    "history = model.fit(\n",
    "    [X_train.LHS_C, X_train.RHS_C], \n",
    "    y_train,\n",
    "    validation_data=([X_test.LHS_C, X_test.RHS_C], y_test),\n",
    "    epochs=100, \n",
    "    verbose=0,\n",
    "    callbacks=[early_stopping]\n",
    ")"
   ]
  },
  {
   "cell_type": "code",
   "execution_count": 62,
   "metadata": {},
   "outputs": [
    {
     "data": {
      "text/plain": [
       "(7.720905251936779, 0.6931471805599453)"
      ]
     },
     "execution_count": 62,
     "metadata": {},
     "output_type": "execute_result"
    }
   ],
   "source": [
    "sublist_by_2_concat.rating.max(), sublist_by_2_concat.rating.min() "
   ]
  },
  {
   "cell_type": "code",
   "execution_count": 63,
   "metadata": {},
   "outputs": [
    {
     "data": {
      "text/plain": [
       "[array([[-1.43288940e-01,  2.30015125e-02, -1.99171886e-01, ...,\n",
       "         -2.09974684e-02, -1.82193637e-01,  1.23048164e-01],\n",
       "        [-2.17553694e-02,  3.74995358e-02, -2.60378361e-01, ...,\n",
       "         -5.79555392e-01, -2.97640592e-01, -3.31055939e-01],\n",
       "        [-2.83776850e-01, -4.10547614e-01,  3.11083853e-01, ...,\n",
       "          4.57062662e-01, -2.49804601e-01,  2.84135938e-01],\n",
       "        ...,\n",
       "        [ 3.09014410e-01,  3.47050250e-01,  9.49043095e-01, ...,\n",
       "         -6.85475320e-02,  4.84121501e-01,  7.26142228e-01],\n",
       "        [ 1.14147149e-01,  1.74109340e-01,  1.70064494e-01, ...,\n",
       "         -3.33399221e-04,  4.25760984e-01,  2.30516255e-01],\n",
       "        [ 2.15731561e-04, -1.94909424e-03,  2.18639486e-02, ...,\n",
       "         -1.13184564e-02, -1.45648234e-02, -4.59014177e-02]], dtype=float32)]"
      ]
     },
     "execution_count": 63,
     "metadata": {},
     "output_type": "execute_result"
    }
   ],
   "source": [
    "model.get_layer(name='lhs-embeddings').get_weights()"
   ]
  },
  {
   "cell_type": "code",
   "execution_count": 64,
   "metadata": {},
   "outputs": [
    {
     "ename": "TypeError",
     "evalue": "Cannot interpret '<attribute 'dtype' of 'numpy.generic' objects>' as a data type",
     "output_type": "error",
     "traceback": [
      "\u001b[1;31m---------------------------------------------------------------------------\u001b[0m",
      "\u001b[1;31mTypeError\u001b[0m                                 Traceback (most recent call last)",
      "\u001b[1;32m<ipython-input-64-a3cc0681c3a7>\u001b[0m in \u001b[0;36m<module>\u001b[1;34m\u001b[0m\n\u001b[0;32m      4\u001b[0m \u001b[0mplt\u001b[0m\u001b[1;33m.\u001b[0m\u001b[0mxlabel\u001b[0m\u001b[1;33m(\u001b[0m\u001b[1;34m\"epochs\"\u001b[0m\u001b[1;33m)\u001b[0m\u001b[1;33m\u001b[0m\u001b[1;33m\u001b[0m\u001b[0m\n\u001b[0;32m      5\u001b[0m \u001b[0mplt\u001b[0m\u001b[1;33m.\u001b[0m\u001b[0mylabel\u001b[0m\u001b[1;33m(\u001b[0m\u001b[1;34m\"loss\"\u001b[0m\u001b[1;33m)\u001b[0m\u001b[1;33m\u001b[0m\u001b[1;33m\u001b[0m\u001b[0m\n\u001b[1;32m----> 6\u001b[1;33m \u001b[0mpd\u001b[0m\u001b[1;33m.\u001b[0m\u001b[0mDataFrame\u001b[0m\u001b[1;33m(\u001b[0m\u001b[0mhistory\u001b[0m\u001b[1;33m.\u001b[0m\u001b[0mhistory\u001b[0m\u001b[1;33m)\u001b[0m\u001b[1;33m[\u001b[0m\u001b[1;34m\"loss\"\u001b[0m\u001b[1;33m]\u001b[0m\u001b[1;33m.\u001b[0m\u001b[0mplot\u001b[0m\u001b[1;33m(\u001b[0m\u001b[0mfigsize\u001b[0m\u001b[1;33m=\u001b[0m\u001b[1;33m(\u001b[0m\u001b[1;36m10\u001b[0m\u001b[1;33m,\u001b[0m\u001b[1;36m6\u001b[0m\u001b[1;33m)\u001b[0m\u001b[1;33m)\u001b[0m\u001b[1;33m\u001b[0m\u001b[1;33m\u001b[0m\u001b[0m\n\u001b[0m\u001b[0;32m      7\u001b[0m \u001b[0mpd\u001b[0m\u001b[1;33m.\u001b[0m\u001b[0mDataFrame\u001b[0m\u001b[1;33m(\u001b[0m\u001b[0mhistory\u001b[0m\u001b[1;33m.\u001b[0m\u001b[0mhistory\u001b[0m\u001b[1;33m)\u001b[0m\u001b[1;33m[\u001b[0m\u001b[1;33m[\u001b[0m\u001b[1;34m\"mse\"\u001b[0m\u001b[1;33m,\u001b[0m \u001b[1;34m\"mae\"\u001b[0m\u001b[1;33m]\u001b[0m\u001b[1;33m]\u001b[0m\u001b[1;33m.\u001b[0m\u001b[0mplot\u001b[0m\u001b[1;33m(\u001b[0m\u001b[0mfigsize\u001b[0m\u001b[1;33m=\u001b[0m\u001b[1;33m(\u001b[0m\u001b[1;36m10\u001b[0m\u001b[1;33m,\u001b[0m\u001b[1;36m6\u001b[0m\u001b[1;33m)\u001b[0m\u001b[1;33m)\u001b[0m\u001b[1;33m\u001b[0m\u001b[1;33m\u001b[0m\u001b[0m\n\u001b[0;32m      8\u001b[0m \u001b[0mplt\u001b[0m\u001b[1;33m.\u001b[0m\u001b[0mshow\u001b[0m\u001b[1;33m(\u001b[0m\u001b[1;33m)\u001b[0m\u001b[1;33m\u001b[0m\u001b[1;33m\u001b[0m\u001b[0m\n",
      "\u001b[1;32mc:\\ProgramData\\Anaconda3\\lib\\site-packages\\pandas\\plotting\\_core.py\u001b[0m in \u001b[0;36m__call__\u001b[1;34m(self, kind, ax, figsize, use_index, title, grid, legend, style, logx, logy, loglog, xticks, yticks, xlim, ylim, rot, fontsize, colormap, table, yerr, xerr, label, secondary_y, **kwds)\u001b[0m\n\u001b[0;32m   2740\u001b[0m                            \u001b[0mcolormap\u001b[0m\u001b[1;33m=\u001b[0m\u001b[0mcolormap\u001b[0m\u001b[1;33m,\u001b[0m \u001b[0mtable\u001b[0m\u001b[1;33m=\u001b[0m\u001b[0mtable\u001b[0m\u001b[1;33m,\u001b[0m \u001b[0myerr\u001b[0m\u001b[1;33m=\u001b[0m\u001b[0myerr\u001b[0m\u001b[1;33m,\u001b[0m\u001b[1;33m\u001b[0m\u001b[1;33m\u001b[0m\u001b[0m\n\u001b[0;32m   2741\u001b[0m                            \u001b[0mxerr\u001b[0m\u001b[1;33m=\u001b[0m\u001b[0mxerr\u001b[0m\u001b[1;33m,\u001b[0m \u001b[0mlabel\u001b[0m\u001b[1;33m=\u001b[0m\u001b[0mlabel\u001b[0m\u001b[1;33m,\u001b[0m \u001b[0msecondary_y\u001b[0m\u001b[1;33m=\u001b[0m\u001b[0msecondary_y\u001b[0m\u001b[1;33m,\u001b[0m\u001b[1;33m\u001b[0m\u001b[1;33m\u001b[0m\u001b[0m\n\u001b[1;32m-> 2742\u001b[1;33m                            **kwds)\n\u001b[0m\u001b[0;32m   2743\u001b[0m     \u001b[0m__call__\u001b[0m\u001b[1;33m.\u001b[0m\u001b[0m__doc__\u001b[0m \u001b[1;33m=\u001b[0m \u001b[0mplot_series\u001b[0m\u001b[1;33m.\u001b[0m\u001b[0m__doc__\u001b[0m\u001b[1;33m\u001b[0m\u001b[1;33m\u001b[0m\u001b[0m\n\u001b[0;32m   2744\u001b[0m \u001b[1;33m\u001b[0m\u001b[0m\n",
      "\u001b[1;32mc:\\ProgramData\\Anaconda3\\lib\\site-packages\\pandas\\plotting\\_core.py\u001b[0m in \u001b[0;36mplot_series\u001b[1;34m(data, kind, ax, figsize, use_index, title, grid, legend, style, logx, logy, loglog, xticks, yticks, xlim, ylim, rot, fontsize, colormap, table, yerr, xerr, label, secondary_y, **kwds)\u001b[0m\n\u001b[0;32m   1996\u001b[0m                  \u001b[0myerr\u001b[0m\u001b[1;33m=\u001b[0m\u001b[0myerr\u001b[0m\u001b[1;33m,\u001b[0m \u001b[0mxerr\u001b[0m\u001b[1;33m=\u001b[0m\u001b[0mxerr\u001b[0m\u001b[1;33m,\u001b[0m\u001b[1;33m\u001b[0m\u001b[1;33m\u001b[0m\u001b[0m\n\u001b[0;32m   1997\u001b[0m                  \u001b[0mlabel\u001b[0m\u001b[1;33m=\u001b[0m\u001b[0mlabel\u001b[0m\u001b[1;33m,\u001b[0m \u001b[0msecondary_y\u001b[0m\u001b[1;33m=\u001b[0m\u001b[0msecondary_y\u001b[0m\u001b[1;33m,\u001b[0m\u001b[1;33m\u001b[0m\u001b[1;33m\u001b[0m\u001b[0m\n\u001b[1;32m-> 1998\u001b[1;33m                  **kwds)\n\u001b[0m\u001b[0;32m   1999\u001b[0m \u001b[1;33m\u001b[0m\u001b[0m\n\u001b[0;32m   2000\u001b[0m \u001b[1;33m\u001b[0m\u001b[0m\n",
      "\u001b[1;32mc:\\ProgramData\\Anaconda3\\lib\\site-packages\\pandas\\plotting\\_core.py\u001b[0m in \u001b[0;36m_plot\u001b[1;34m(data, x, y, subplots, ax, kind, **kwds)\u001b[0m\n\u001b[0;32m   1799\u001b[0m         \u001b[0mplot_obj\u001b[0m \u001b[1;33m=\u001b[0m \u001b[0mklass\u001b[0m\u001b[1;33m(\u001b[0m\u001b[0mdata\u001b[0m\u001b[1;33m,\u001b[0m \u001b[0msubplots\u001b[0m\u001b[1;33m=\u001b[0m\u001b[0msubplots\u001b[0m\u001b[1;33m,\u001b[0m \u001b[0max\u001b[0m\u001b[1;33m=\u001b[0m\u001b[0max\u001b[0m\u001b[1;33m,\u001b[0m \u001b[0mkind\u001b[0m\u001b[1;33m=\u001b[0m\u001b[0mkind\u001b[0m\u001b[1;33m,\u001b[0m \u001b[1;33m**\u001b[0m\u001b[0mkwds\u001b[0m\u001b[1;33m)\u001b[0m\u001b[1;33m\u001b[0m\u001b[1;33m\u001b[0m\u001b[0m\n\u001b[0;32m   1800\u001b[0m \u001b[1;33m\u001b[0m\u001b[0m\n\u001b[1;32m-> 1801\u001b[1;33m     \u001b[0mplot_obj\u001b[0m\u001b[1;33m.\u001b[0m\u001b[0mgenerate\u001b[0m\u001b[1;33m(\u001b[0m\u001b[1;33m)\u001b[0m\u001b[1;33m\u001b[0m\u001b[1;33m\u001b[0m\u001b[0m\n\u001b[0m\u001b[0;32m   1802\u001b[0m     \u001b[0mplot_obj\u001b[0m\u001b[1;33m.\u001b[0m\u001b[0mdraw\u001b[0m\u001b[1;33m(\u001b[0m\u001b[1;33m)\u001b[0m\u001b[1;33m\u001b[0m\u001b[1;33m\u001b[0m\u001b[0m\n\u001b[0;32m   1803\u001b[0m     \u001b[1;32mreturn\u001b[0m \u001b[0mplot_obj\u001b[0m\u001b[1;33m.\u001b[0m\u001b[0mresult\u001b[0m\u001b[1;33m\u001b[0m\u001b[1;33m\u001b[0m\u001b[0m\n",
      "\u001b[1;32mc:\\ProgramData\\Anaconda3\\lib\\site-packages\\pandas\\plotting\\_core.py\u001b[0m in \u001b[0;36mgenerate\u001b[1;34m(self)\u001b[0m\n\u001b[0;32m    247\u001b[0m     \u001b[1;32mdef\u001b[0m \u001b[0mgenerate\u001b[0m\u001b[1;33m(\u001b[0m\u001b[0mself\u001b[0m\u001b[1;33m)\u001b[0m\u001b[1;33m:\u001b[0m\u001b[1;33m\u001b[0m\u001b[1;33m\u001b[0m\u001b[0m\n\u001b[0;32m    248\u001b[0m         \u001b[0mself\u001b[0m\u001b[1;33m.\u001b[0m\u001b[0m_args_adjust\u001b[0m\u001b[1;33m(\u001b[0m\u001b[1;33m)\u001b[0m\u001b[1;33m\u001b[0m\u001b[1;33m\u001b[0m\u001b[0m\n\u001b[1;32m--> 249\u001b[1;33m         \u001b[0mself\u001b[0m\u001b[1;33m.\u001b[0m\u001b[0m_compute_plot_data\u001b[0m\u001b[1;33m(\u001b[0m\u001b[1;33m)\u001b[0m\u001b[1;33m\u001b[0m\u001b[1;33m\u001b[0m\u001b[0m\n\u001b[0m\u001b[0;32m    250\u001b[0m         \u001b[0mself\u001b[0m\u001b[1;33m.\u001b[0m\u001b[0m_setup_subplots\u001b[0m\u001b[1;33m(\u001b[0m\u001b[1;33m)\u001b[0m\u001b[1;33m\u001b[0m\u001b[1;33m\u001b[0m\u001b[0m\n\u001b[0;32m    251\u001b[0m         \u001b[0mself\u001b[0m\u001b[1;33m.\u001b[0m\u001b[0m_make_plot\u001b[0m\u001b[1;33m(\u001b[0m\u001b[1;33m)\u001b[0m\u001b[1;33m\u001b[0m\u001b[1;33m\u001b[0m\u001b[0m\n",
      "\u001b[1;32mc:\\ProgramData\\Anaconda3\\lib\\site-packages\\pandas\\plotting\\_core.py\u001b[0m in \u001b[0;36m_compute_plot_data\u001b[1;34m(self)\u001b[0m\n\u001b[0;32m    355\u001b[0m                                                    \u001b[1;34m\"datetime\"\u001b[0m\u001b[1;33m,\u001b[0m\u001b[1;33m\u001b[0m\u001b[1;33m\u001b[0m\u001b[0m\n\u001b[0;32m    356\u001b[0m                                                    \u001b[1;34m\"datetimetz\"\u001b[0m\u001b[1;33m,\u001b[0m\u001b[1;33m\u001b[0m\u001b[1;33m\u001b[0m\u001b[0m\n\u001b[1;32m--> 357\u001b[1;33m                                                    \"timedelta\"])\n\u001b[0m\u001b[0;32m    358\u001b[0m \u001b[1;33m\u001b[0m\u001b[0m\n\u001b[0;32m    359\u001b[0m         \u001b[1;32mtry\u001b[0m\u001b[1;33m:\u001b[0m\u001b[1;33m\u001b[0m\u001b[1;33m\u001b[0m\u001b[0m\n",
      "\u001b[1;32mc:\\ProgramData\\Anaconda3\\lib\\site-packages\\pandas\\core\\frame.py\u001b[0m in \u001b[0;36mselect_dtypes\u001b[1;34m(self, include, exclude)\u001b[0m\n\u001b[0;32m   3324\u001b[0m         \u001b[1;31m# the \"union\" of the logic of case 1 and case 2:\u001b[0m\u001b[1;33m\u001b[0m\u001b[1;33m\u001b[0m\u001b[1;33m\u001b[0m\u001b[0m\n\u001b[0;32m   3325\u001b[0m         \u001b[1;31m# we get the included and excluded, and return their logical and\u001b[0m\u001b[1;33m\u001b[0m\u001b[1;33m\u001b[0m\u001b[1;33m\u001b[0m\u001b[0m\n\u001b[1;32m-> 3326\u001b[1;33m         \u001b[0minclude_these\u001b[0m \u001b[1;33m=\u001b[0m \u001b[0mSeries\u001b[0m\u001b[1;33m(\u001b[0m\u001b[1;32mnot\u001b[0m \u001b[0mbool\u001b[0m\u001b[1;33m(\u001b[0m\u001b[0minclude\u001b[0m\u001b[1;33m)\u001b[0m\u001b[1;33m,\u001b[0m \u001b[0mindex\u001b[0m\u001b[1;33m=\u001b[0m\u001b[0mself\u001b[0m\u001b[1;33m.\u001b[0m\u001b[0mcolumns\u001b[0m\u001b[1;33m)\u001b[0m\u001b[1;33m\u001b[0m\u001b[1;33m\u001b[0m\u001b[0m\n\u001b[0m\u001b[0;32m   3327\u001b[0m         \u001b[0mexclude_these\u001b[0m \u001b[1;33m=\u001b[0m \u001b[0mSeries\u001b[0m\u001b[1;33m(\u001b[0m\u001b[1;32mnot\u001b[0m \u001b[0mbool\u001b[0m\u001b[1;33m(\u001b[0m\u001b[0mexclude\u001b[0m\u001b[1;33m)\u001b[0m\u001b[1;33m,\u001b[0m \u001b[0mindex\u001b[0m\u001b[1;33m=\u001b[0m\u001b[0mself\u001b[0m\u001b[1;33m.\u001b[0m\u001b[0mcolumns\u001b[0m\u001b[1;33m)\u001b[0m\u001b[1;33m\u001b[0m\u001b[1;33m\u001b[0m\u001b[0m\n\u001b[0;32m   3328\u001b[0m \u001b[1;33m\u001b[0m\u001b[0m\n",
      "\u001b[1;32mc:\\ProgramData\\Anaconda3\\lib\\site-packages\\pandas\\core\\series.py\u001b[0m in \u001b[0;36m__init__\u001b[1;34m(self, data, index, dtype, name, copy, fastpath)\u001b[0m\n\u001b[0;32m    260\u001b[0m             \u001b[1;32melse\u001b[0m\u001b[1;33m:\u001b[0m\u001b[1;33m\u001b[0m\u001b[1;33m\u001b[0m\u001b[0m\n\u001b[0;32m    261\u001b[0m                 data = sanitize_array(data, index, dtype, copy,\n\u001b[1;32m--> 262\u001b[1;33m                                       raise_cast_failure=True)\n\u001b[0m\u001b[0;32m    263\u001b[0m \u001b[1;33m\u001b[0m\u001b[0m\n\u001b[0;32m    264\u001b[0m                 \u001b[0mdata\u001b[0m \u001b[1;33m=\u001b[0m \u001b[0mSingleBlockManager\u001b[0m\u001b[1;33m(\u001b[0m\u001b[0mdata\u001b[0m\u001b[1;33m,\u001b[0m \u001b[0mindex\u001b[0m\u001b[1;33m,\u001b[0m \u001b[0mfastpath\u001b[0m\u001b[1;33m=\u001b[0m\u001b[1;32mTrue\u001b[0m\u001b[1;33m)\u001b[0m\u001b[1;33m\u001b[0m\u001b[1;33m\u001b[0m\u001b[0m\n",
      "\u001b[1;32mc:\\ProgramData\\Anaconda3\\lib\\site-packages\\pandas\\core\\internals\\construction.py\u001b[0m in \u001b[0;36msanitize_array\u001b[1;34m(data, index, dtype, copy, raise_cast_failure)\u001b[0m\n\u001b[0;32m    640\u001b[0m \u001b[1;33m\u001b[0m\u001b[0m\n\u001b[0;32m    641\u001b[0m             subarr = construct_1d_arraylike_from_scalar(\n\u001b[1;32m--> 642\u001b[1;33m                 value, len(index), dtype)\n\u001b[0m\u001b[0;32m    643\u001b[0m \u001b[1;33m\u001b[0m\u001b[0m\n\u001b[0;32m    644\u001b[0m         \u001b[1;32melse\u001b[0m\u001b[1;33m:\u001b[0m\u001b[1;33m\u001b[0m\u001b[1;33m\u001b[0m\u001b[0m\n",
      "\u001b[1;32mc:\\ProgramData\\Anaconda3\\lib\\site-packages\\pandas\\core\\dtypes\\cast.py\u001b[0m in \u001b[0;36mconstruct_1d_arraylike_from_scalar\u001b[1;34m(value, length, dtype)\u001b[0m\n\u001b[0;32m   1185\u001b[0m                 \u001b[0mvalue\u001b[0m \u001b[1;33m=\u001b[0m \u001b[0mto_str\u001b[0m\u001b[1;33m(\u001b[0m\u001b[0mvalue\u001b[0m\u001b[1;33m)\u001b[0m\u001b[1;33m\u001b[0m\u001b[1;33m\u001b[0m\u001b[0m\n\u001b[0;32m   1186\u001b[0m \u001b[1;33m\u001b[0m\u001b[0m\n\u001b[1;32m-> 1187\u001b[1;33m         \u001b[0msubarr\u001b[0m \u001b[1;33m=\u001b[0m \u001b[0mnp\u001b[0m\u001b[1;33m.\u001b[0m\u001b[0mempty\u001b[0m\u001b[1;33m(\u001b[0m\u001b[0mlength\u001b[0m\u001b[1;33m,\u001b[0m \u001b[0mdtype\u001b[0m\u001b[1;33m=\u001b[0m\u001b[0mdtype\u001b[0m\u001b[1;33m)\u001b[0m\u001b[1;33m\u001b[0m\u001b[1;33m\u001b[0m\u001b[0m\n\u001b[0m\u001b[0;32m   1188\u001b[0m         \u001b[0msubarr\u001b[0m\u001b[1;33m.\u001b[0m\u001b[0mfill\u001b[0m\u001b[1;33m(\u001b[0m\u001b[0mvalue\u001b[0m\u001b[1;33m)\u001b[0m\u001b[1;33m\u001b[0m\u001b[1;33m\u001b[0m\u001b[0m\n\u001b[0;32m   1189\u001b[0m \u001b[1;33m\u001b[0m\u001b[0m\n",
      "\u001b[1;31mTypeError\u001b[0m: Cannot interpret '<attribute 'dtype' of 'numpy.generic' objects>' as a data type"
     ]
    },
    {
     "data": {
      "image/png": "[encoded data removed]",
      "text/plain": [
       "<Figure size 432x288 with 1 Axes>"
      ]
     },
     "metadata": {
      "needs_background": "light"
     },
     "output_type": "display_data"
    }
   ],
   "source": [
    "import matplotlib.pyplot as plt \n",
    "\n",
    "plt.title(\"loss curve\")\n",
    "plt.xlabel(\"epochs\")\n",
    "plt.ylabel(\"loss\")\n",
    "pd.DataFrame(history.history)[\"loss\"].plot(figsize=(10,6)) \n",
    "pd.DataFrame(history.history)[[\"mse\", \"mae\"]].plot(figsize=(10,6))\n",
    "plt.show() "
   ]
  },
  {
   "cell_type": "code",
   "execution_count": null,
   "metadata": {},
   "outputs": [
    {
     "data": {
      "image/png": "[encoded data removed]",
      "text/plain": [
       "<Figure size 720x432 with 1 Axes>"
      ]
     },
     "metadata": {
      "needs_background": "light"
     },
     "output_type": "display_data"
    }
   ],
   "source": [
    "pd.DataFrame(history.history)[[\"mse\", \"val_mse\"]].plot(figsize=(10,6))\n",
    "plt.show() "
   ]
  },
  {
   "cell_type": "code",
   "execution_count": 65,
   "metadata": {},
   "outputs": [],
   "source": [
    "model.set_weights(initial_weights)"
   ]
  },
  {
   "cell_type": "code",
   "execution_count": 66,
   "metadata": {},
   "outputs": [
    {
     "name": "stdout",
     "output_type": "stream",
     "text": [
      "Epoch 1/100\n",
      "1930/5959 [========>.....................] - ETA: 9s - loss: 1.8480 - mae: 1.1559 - mse: 1.8480"
     ]
    },
    {
     "ename": "KeyboardInterrupt",
     "evalue": "",
     "output_type": "error",
     "traceback": [
      "\u001b[1;31m---------------------------------------------------------------------------\u001b[0m",
      "\u001b[1;31mKeyboardInterrupt\u001b[0m                         Traceback (most recent call last)",
      "\u001b[1;32m<ipython-input-66-a772b89f3043>\u001b[0m in \u001b[0;36m<module>\u001b[1;34m\u001b[0m\n\u001b[0;32m      6\u001b[0m     \u001b[0mvalidation_data\u001b[0m\u001b[1;33m=\u001b[0m\u001b[1;33m(\u001b[0m\u001b[1;33m[\u001b[0m\u001b[0mX_test\u001b[0m\u001b[1;33m.\u001b[0m\u001b[0mLHS_C\u001b[0m\u001b[1;33m,\u001b[0m \u001b[0mX_test\u001b[0m\u001b[1;33m.\u001b[0m\u001b[0mRHS_C\u001b[0m\u001b[1;33m]\u001b[0m\u001b[1;33m,\u001b[0m \u001b[0my_test\u001b[0m\u001b[1;33m)\u001b[0m\u001b[1;33m,\u001b[0m\u001b[1;33m\u001b[0m\u001b[1;33m\u001b[0m\u001b[0m\n\u001b[0;32m      7\u001b[0m     \u001b[0mepochs\u001b[0m\u001b[1;33m=\u001b[0m\u001b[1;36m100\u001b[0m\u001b[1;33m,\u001b[0m\u001b[1;33m\u001b[0m\u001b[1;33m\u001b[0m\u001b[0m\n\u001b[1;32m----> 8\u001b[1;33m     \u001b[0mcallbacks\u001b[0m\u001b[1;33m=\u001b[0m\u001b[1;33m[\u001b[0m\u001b[0mearly_stopping\u001b[0m\u001b[1;33m]\u001b[0m\u001b[1;33m\u001b[0m\u001b[1;33m\u001b[0m\u001b[0m\n\u001b[0m\u001b[0;32m      9\u001b[0m )\n",
      "\u001b[1;32mc:\\ProgramData\\Anaconda3\\lib\\site-packages\\keras\\utils\\traceback_utils.py\u001b[0m in \u001b[0;36merror_handler\u001b[1;34m(*args, **kwargs)\u001b[0m\n\u001b[0;32m     63\u001b[0m         \u001b[0mfiltered_tb\u001b[0m \u001b[1;33m=\u001b[0m \u001b[1;32mNone\u001b[0m\u001b[1;33m\u001b[0m\u001b[1;33m\u001b[0m\u001b[0m\n\u001b[0;32m     64\u001b[0m         \u001b[1;32mtry\u001b[0m\u001b[1;33m:\u001b[0m\u001b[1;33m\u001b[0m\u001b[1;33m\u001b[0m\u001b[0m\n\u001b[1;32m---> 65\u001b[1;33m             \u001b[1;32mreturn\u001b[0m \u001b[0mfn\u001b[0m\u001b[1;33m(\u001b[0m\u001b[1;33m*\u001b[0m\u001b[0margs\u001b[0m\u001b[1;33m,\u001b[0m \u001b[1;33m**\u001b[0m\u001b[0mkwargs\u001b[0m\u001b[1;33m)\u001b[0m\u001b[1;33m\u001b[0m\u001b[1;33m\u001b[0m\u001b[0m\n\u001b[0m\u001b[0;32m     66\u001b[0m         \u001b[1;32mexcept\u001b[0m \u001b[0mException\u001b[0m \u001b[1;32mas\u001b[0m \u001b[0me\u001b[0m\u001b[1;33m:\u001b[0m\u001b[1;33m\u001b[0m\u001b[1;33m\u001b[0m\u001b[0m\n\u001b[0;32m     67\u001b[0m             \u001b[0mfiltered_tb\u001b[0m \u001b[1;33m=\u001b[0m \u001b[0m_process_traceback_frames\u001b[0m\u001b[1;33m(\u001b[0m\u001b[0me\u001b[0m\u001b[1;33m.\u001b[0m\u001b[0m__traceback__\u001b[0m\u001b[1;33m)\u001b[0m\u001b[1;33m\u001b[0m\u001b[1;33m\u001b[0m\u001b[0m\n",
      "\u001b[1;32mc:\\ProgramData\\Anaconda3\\lib\\site-packages\\keras\\engine\\training.py\u001b[0m in \u001b[0;36mfit\u001b[1;34m(self, x, y, batch_size, epochs, verbose, callbacks, validation_split, validation_data, shuffle, class_weight, sample_weight, initial_epoch, steps_per_epoch, validation_steps, validation_batch_size, validation_freq, max_queue_size, workers, use_multiprocessing)\u001b[0m\n\u001b[0;32m   1562\u001b[0m                         ):\n\u001b[0;32m   1563\u001b[0m                             \u001b[0mcallbacks\u001b[0m\u001b[1;33m.\u001b[0m\u001b[0mon_train_batch_begin\u001b[0m\u001b[1;33m(\u001b[0m\u001b[0mstep\u001b[0m\u001b[1;33m)\u001b[0m\u001b[1;33m\u001b[0m\u001b[1;33m\u001b[0m\u001b[0m\n\u001b[1;32m-> 1564\u001b[1;33m                             \u001b[0mtmp_logs\u001b[0m \u001b[1;33m=\u001b[0m \u001b[0mself\u001b[0m\u001b[1;33m.\u001b[0m\u001b[0mtrain_function\u001b[0m\u001b[1;33m(\u001b[0m\u001b[0miterator\u001b[0m\u001b[1;33m)\u001b[0m\u001b[1;33m\u001b[0m\u001b[1;33m\u001b[0m\u001b[0m\n\u001b[0m\u001b[0;32m   1565\u001b[0m                             \u001b[1;32mif\u001b[0m \u001b[0mdata_handler\u001b[0m\u001b[1;33m.\u001b[0m\u001b[0mshould_sync\u001b[0m\u001b[1;33m:\u001b[0m\u001b[1;33m\u001b[0m\u001b[1;33m\u001b[0m\u001b[0m\n\u001b[0;32m   1566\u001b[0m                                 \u001b[0mcontext\u001b[0m\u001b[1;33m.\u001b[0m\u001b[0masync_wait\u001b[0m\u001b[1;33m(\u001b[0m\u001b[1;33m)\u001b[0m\u001b[1;33m\u001b[0m\u001b[1;33m\u001b[0m\u001b[0m\n",
      "\u001b[1;32mc:\\ProgramData\\Anaconda3\\lib\\site-packages\\tensorflow\\python\\util\\traceback_utils.py\u001b[0m in \u001b[0;36merror_handler\u001b[1;34m(*args, **kwargs)\u001b[0m\n\u001b[0;32m    148\u001b[0m     \u001b[0mfiltered_tb\u001b[0m \u001b[1;33m=\u001b[0m \u001b[1;32mNone\u001b[0m\u001b[1;33m\u001b[0m\u001b[1;33m\u001b[0m\u001b[0m\n\u001b[0;32m    149\u001b[0m     \u001b[1;32mtry\u001b[0m\u001b[1;33m:\u001b[0m\u001b[1;33m\u001b[0m\u001b[1;33m\u001b[0m\u001b[0m\n\u001b[1;32m--> 150\u001b[1;33m       \u001b[1;32mreturn\u001b[0m \u001b[0mfn\u001b[0m\u001b[1;33m(\u001b[0m\u001b[1;33m*\u001b[0m\u001b[0margs\u001b[0m\u001b[1;33m,\u001b[0m \u001b[1;33m**\u001b[0m\u001b[0mkwargs\u001b[0m\u001b[1;33m)\u001b[0m\u001b[1;33m\u001b[0m\u001b[1;33m\u001b[0m\u001b[0m\n\u001b[0m\u001b[0;32m    151\u001b[0m     \u001b[1;32mexcept\u001b[0m \u001b[0mException\u001b[0m \u001b[1;32mas\u001b[0m \u001b[0me\u001b[0m\u001b[1;33m:\u001b[0m\u001b[1;33m\u001b[0m\u001b[1;33m\u001b[0m\u001b[0m\n\u001b[0;32m    152\u001b[0m       \u001b[0mfiltered_tb\u001b[0m \u001b[1;33m=\u001b[0m \u001b[0m_process_traceback_frames\u001b[0m\u001b[1;33m(\u001b[0m\u001b[0me\u001b[0m\u001b[1;33m.\u001b[0m\u001b[0m__traceback__\u001b[0m\u001b[1;33m)\u001b[0m\u001b[1;33m\u001b[0m\u001b[1;33m\u001b[0m\u001b[0m\n",
      "\u001b[1;32mc:\\ProgramData\\Anaconda3\\lib\\site-packages\\tensorflow\\python\\eager\\def_function.py\u001b[0m in \u001b[0;36m__call__\u001b[1;34m(self, *args, **kwds)\u001b[0m\n\u001b[0;32m    913\u001b[0m \u001b[1;33m\u001b[0m\u001b[0m\n\u001b[0;32m    914\u001b[0m       \u001b[1;32mwith\u001b[0m \u001b[0mOptionalXlaContext\u001b[0m\u001b[1;33m(\u001b[0m\u001b[0mself\u001b[0m\u001b[1;33m.\u001b[0m\u001b[0m_jit_compile\u001b[0m\u001b[1;33m)\u001b[0m\u001b[1;33m:\u001b[0m\u001b[1;33m\u001b[0m\u001b[1;33m\u001b[0m\u001b[0m\n\u001b[1;32m--> 915\u001b[1;33m         \u001b[0mresult\u001b[0m \u001b[1;33m=\u001b[0m \u001b[0mself\u001b[0m\u001b[1;33m.\u001b[0m\u001b[0m_call\u001b[0m\u001b[1;33m(\u001b[0m\u001b[1;33m*\u001b[0m\u001b[0margs\u001b[0m\u001b[1;33m,\u001b[0m \u001b[1;33m**\u001b[0m\u001b[0mkwds\u001b[0m\u001b[1;33m)\u001b[0m\u001b[1;33m\u001b[0m\u001b[1;33m\u001b[0m\u001b[0m\n\u001b[0m\u001b[0;32m    916\u001b[0m \u001b[1;33m\u001b[0m\u001b[0m\n\u001b[0;32m    917\u001b[0m       \u001b[0mnew_tracing_count\u001b[0m \u001b[1;33m=\u001b[0m \u001b[0mself\u001b[0m\u001b[1;33m.\u001b[0m\u001b[0mexperimental_get_tracing_count\u001b[0m\u001b[1;33m(\u001b[0m\u001b[1;33m)\u001b[0m\u001b[1;33m\u001b[0m\u001b[1;33m\u001b[0m\u001b[0m\n",
      "\u001b[1;32mc:\\ProgramData\\Anaconda3\\lib\\site-packages\\tensorflow\\python\\eager\\def_function.py\u001b[0m in \u001b[0;36m_call\u001b[1;34m(self, *args, **kwds)\u001b[0m\n\u001b[0;32m    945\u001b[0m       \u001b[1;31m# In this case we have created variables on the first call, so we run the\u001b[0m\u001b[1;33m\u001b[0m\u001b[1;33m\u001b[0m\u001b[1;33m\u001b[0m\u001b[0m\n\u001b[0;32m    946\u001b[0m       \u001b[1;31m# defunned version which is guaranteed to never create variables.\u001b[0m\u001b[1;33m\u001b[0m\u001b[1;33m\u001b[0m\u001b[1;33m\u001b[0m\u001b[0m\n\u001b[1;32m--> 947\u001b[1;33m       \u001b[1;32mreturn\u001b[0m \u001b[0mself\u001b[0m\u001b[1;33m.\u001b[0m\u001b[0m_stateless_fn\u001b[0m\u001b[1;33m(\u001b[0m\u001b[1;33m*\u001b[0m\u001b[0margs\u001b[0m\u001b[1;33m,\u001b[0m \u001b[1;33m**\u001b[0m\u001b[0mkwds\u001b[0m\u001b[1;33m)\u001b[0m  \u001b[1;31m# pylint: disable=not-callable\u001b[0m\u001b[1;33m\u001b[0m\u001b[1;33m\u001b[0m\u001b[0m\n\u001b[0m\u001b[0;32m    948\u001b[0m     \u001b[1;32melif\u001b[0m \u001b[0mself\u001b[0m\u001b[1;33m.\u001b[0m\u001b[0m_stateful_fn\u001b[0m \u001b[1;32mis\u001b[0m \u001b[1;32mnot\u001b[0m \u001b[1;32mNone\u001b[0m\u001b[1;33m:\u001b[0m\u001b[1;33m\u001b[0m\u001b[1;33m\u001b[0m\u001b[0m\n\u001b[0;32m    949\u001b[0m       \u001b[1;31m# Release the lock early so that multiple threads can perform the call\u001b[0m\u001b[1;33m\u001b[0m\u001b[1;33m\u001b[0m\u001b[1;33m\u001b[0m\u001b[0m\n",
      "\u001b[1;32mc:\\ProgramData\\Anaconda3\\lib\\site-packages\\tensorflow\\python\\eager\\function.py\u001b[0m in \u001b[0;36m__call__\u001b[1;34m(self, *args, **kwargs)\u001b[0m\n\u001b[0;32m   2495\u001b[0m        filtered_flat_args) = self._maybe_define_function(args, kwargs)\n\u001b[0;32m   2496\u001b[0m     return graph_function._call_flat(\n\u001b[1;32m-> 2497\u001b[1;33m         filtered_flat_args, captured_inputs=graph_function.captured_inputs)  # pylint: disable=protected-access\n\u001b[0m\u001b[0;32m   2498\u001b[0m \u001b[1;33m\u001b[0m\u001b[0m\n\u001b[0;32m   2499\u001b[0m   \u001b[1;33m@\u001b[0m\u001b[0mproperty\u001b[0m\u001b[1;33m\u001b[0m\u001b[1;33m\u001b[0m\u001b[0m\n",
      "\u001b[1;32mc:\\ProgramData\\Anaconda3\\lib\\site-packages\\tensorflow\\python\\eager\\function.py\u001b[0m in \u001b[0;36m_call_flat\u001b[1;34m(self, args, captured_inputs, cancellation_manager)\u001b[0m\n\u001b[0;32m   1861\u001b[0m       \u001b[1;31m# No tape is watching; skip to running the function.\u001b[0m\u001b[1;33m\u001b[0m\u001b[1;33m\u001b[0m\u001b[1;33m\u001b[0m\u001b[0m\n\u001b[0;32m   1862\u001b[0m       return self._build_call_outputs(self._inference_function.call(\n\u001b[1;32m-> 1863\u001b[1;33m           ctx, args, cancellation_manager=cancellation_manager))\n\u001b[0m\u001b[0;32m   1864\u001b[0m     forward_backward = self._select_forward_and_backward_functions(\n\u001b[0;32m   1865\u001b[0m         \u001b[0margs\u001b[0m\u001b[1;33m,\u001b[0m\u001b[1;33m\u001b[0m\u001b[1;33m\u001b[0m\u001b[0m\n",
      "\u001b[1;32mc:\\ProgramData\\Anaconda3\\lib\\site-packages\\tensorflow\\python\\eager\\function.py\u001b[0m in \u001b[0;36mcall\u001b[1;34m(self, ctx, args, cancellation_manager)\u001b[0m\n\u001b[0;32m    502\u001b[0m               \u001b[0minputs\u001b[0m\u001b[1;33m=\u001b[0m\u001b[0margs\u001b[0m\u001b[1;33m,\u001b[0m\u001b[1;33m\u001b[0m\u001b[1;33m\u001b[0m\u001b[0m\n\u001b[0;32m    503\u001b[0m               \u001b[0mattrs\u001b[0m\u001b[1;33m=\u001b[0m\u001b[0mattrs\u001b[0m\u001b[1;33m,\u001b[0m\u001b[1;33m\u001b[0m\u001b[1;33m\u001b[0m\u001b[0m\n\u001b[1;32m--> 504\u001b[1;33m               ctx=ctx)\n\u001b[0m\u001b[0;32m    505\u001b[0m         \u001b[1;32melse\u001b[0m\u001b[1;33m:\u001b[0m\u001b[1;33m\u001b[0m\u001b[1;33m\u001b[0m\u001b[0m\n\u001b[0;32m    506\u001b[0m           outputs = execute.execute_with_cancellation(\n",
      "\u001b[1;32mc:\\ProgramData\\Anaconda3\\lib\\site-packages\\tensorflow\\python\\eager\\execute.py\u001b[0m in \u001b[0;36mquick_execute\u001b[1;34m(op_name, num_outputs, inputs, attrs, ctx, name)\u001b[0m\n\u001b[0;32m     53\u001b[0m     \u001b[0mctx\u001b[0m\u001b[1;33m.\u001b[0m\u001b[0mensure_initialized\u001b[0m\u001b[1;33m(\u001b[0m\u001b[1;33m)\u001b[0m\u001b[1;33m\u001b[0m\u001b[1;33m\u001b[0m\u001b[0m\n\u001b[0;32m     54\u001b[0m     tensors = pywrap_tfe.TFE_Py_Execute(ctx._handle, device_name, op_name,\n\u001b[1;32m---> 55\u001b[1;33m                                         inputs, attrs, num_outputs)\n\u001b[0m\u001b[0;32m     56\u001b[0m   \u001b[1;32mexcept\u001b[0m \u001b[0mcore\u001b[0m\u001b[1;33m.\u001b[0m\u001b[0m_NotOkStatusException\u001b[0m \u001b[1;32mas\u001b[0m \u001b[0me\u001b[0m\u001b[1;33m:\u001b[0m\u001b[1;33m\u001b[0m\u001b[1;33m\u001b[0m\u001b[0m\n\u001b[0;32m     57\u001b[0m     \u001b[1;32mif\u001b[0m \u001b[0mname\u001b[0m \u001b[1;32mis\u001b[0m \u001b[1;32mnot\u001b[0m \u001b[1;32mNone\u001b[0m\u001b[1;33m:\u001b[0m\u001b[1;33m\u001b[0m\u001b[1;33m\u001b[0m\u001b[0m\n",
      "\u001b[1;31mKeyboardInterrupt\u001b[0m: "
     ]
    }
   ],
   "source": [
    "early_stopping = keras.callbacks.EarlyStopping(monitor=\"val_loss\", mode=\"min\",patience=3)\n",
    "model.compile(optimizer='adam', loss='mean_squared_error', metrics=['mae', 'mse'])\n",
    "history = model.fit(\n",
    "    [X_train.LHS_C, X_train.RHS_C], \n",
    "    y_train,\n",
    "    validation_data=([X_test.LHS_C, X_test.RHS_C], y_test),\n",
    "    epochs=100, \n",
    "    callbacks=[early_stopping]\n",
    ")"
   ]
  },
  {
   "cell_type": "code",
   "execution_count": null,
   "metadata": {},
   "outputs": [
    {
     "data": {
      "image/png": "[encoded data removed]",
      "text/plain": [
       "<Figure size 720x432 with 1 Axes>"
      ]
     },
     "metadata": {
      "needs_background": "light"
     },
     "output_type": "display_data"
    }
   ],
   "source": [
    "pd.DataFrame(history.history)[[\"mse\", \"val_mse\"]].plot(figsize=(10,6))\n",
    "plt.show() "
   ]
  },
  {
   "cell_type": "code",
   "execution_count": null,
   "metadata": {},
   "outputs": [
    {
     "data": {
      "image/png": "[encoded data removed]",
      "text/plain": [
       "<Figure size 720x432 with 1 Axes>"
      ]
     },
     "metadata": {
      "needs_background": "light"
     },
     "output_type": "display_data"
    }
   ],
   "source": [
    "plt.title(\"loss curve\")\n",
    "plt.xlabel(\"epochs\")\n",
    "plt.ylabel(\"loss\")\n",
    "pd.DataFrame(history.history)[\"loss\"].plot(figsize=(10,6)) \n",
    "plt.show() "
   ]
  },
  {
   "cell_type": "code",
   "execution_count": null,
   "metadata": {},
   "outputs": [
    {
     "data": {
      "text/plain": [
       "array([[ 0.05444679, -0.15497532, -0.03975978, ..., -0.21779673,\n",
       "        -0.04953405, -0.19831128],\n",
       "       [-0.161224  , -0.12987842, -0.16163631, ...,  0.01651466,\n",
       "        -0.02219854, -0.07976579],\n",
       "       [-0.19332881, -0.26915818,  0.2052333 , ...,  0.2672566 ,\n",
       "        -0.34760576, -0.24698003],\n",
       "       ...,\n",
       "       [-0.20373599,  0.03305611,  0.08360191, ..., -0.20985837,\n",
       "         0.15588471,  0.17243434],\n",
       "       [-0.49274397,  0.09540527,  0.38966033, ...,  0.6062298 ,\n",
       "         0.25041145,  0.20531167],\n",
       "       [ 0.03706029,  0.0066414 ,  0.04201052, ..., -0.00484476,\n",
       "        -0.02308061,  0.03915468]], dtype=float32)"
      ]
     },
     "execution_count": 162,
     "metadata": {},
     "output_type": "execute_result"
    }
   ],
   "source": [
    "lhs_embddings = model.get_layer(name='lhs-embeddings').get_weights()[0]\n",
    "lhs_embddings"
   ]
  },
  {
   "cell_type": "code",
   "execution_count": null,
   "metadata": {},
   "outputs": [
    {
     "data": {
      "text/plain": [
       "array([[ 8.5571408e-03, -2.8197123e-02, -3.8261961e-02, ...,\n",
       "        -3.5836436e-02, -1.4554966e-02,  4.9517576e-02],\n",
       "       [-3.6809194e-01, -3.0140632e-01, -3.1525329e-01, ...,\n",
       "        -1.5369308e-02, -1.2778670e-01, -1.0495425e-01],\n",
       "       [-4.9172781e-02, -1.6342056e-01,  3.9757162e-02, ...,\n",
       "        -1.9887355e-01,  5.0370052e-02, -2.0195502e-01],\n",
       "       ...,\n",
       "       [-2.2258058e-01,  2.6415446e-01,  1.5530334e-01, ...,\n",
       "         5.1415974e-01,  4.5965257e-01,  3.2164985e-01],\n",
       "       [-4.1087806e-01,  2.1958532e-02,  5.0764877e-01, ...,\n",
       "         6.3703400e-01,  5.1544762e-01,  1.2466612e-01],\n",
       "       [-3.5418153e-02,  4.3734163e-04,  4.7830831e-02, ...,\n",
       "        -3.7035920e-02,  2.3733329e-02,  2.3336079e-02]], dtype=float32)"
      ]
     },
     "execution_count": 163,
     "metadata": {},
     "output_type": "execute_result"
    }
   ],
   "source": [
    "rhs_embddings = model.get_layer(name='rhs-embeddings').get_weights()[0]\n",
    "rhs_embddings"
   ]
  },
  {
   "cell_type": "code",
   "execution_count": null,
   "metadata": {},
   "outputs": [],
   "source": [
    "def recommend(option_in_category, number_of_options=5):\n",
    "  options = lhs_embddings[option_in_category]@rhs_embddings.T\n",
    "  mids = np.argpartition(options, -number_of_options)[-number_of_options:]\n",
    "  \n",
    "  return mids"
   ]
  },
  {
   "cell_type": "code",
   "execution_count": null,
   "metadata": {},
   "outputs": [
    {
     "data": {
      "text/plain": [
       "753600    1139\n",
       "753376    1117\n",
       "753350     826\n",
       "525100     809\n",
       "753536     799\n",
       "751873     772\n",
       "753509     744\n",
       "753609     740\n",
       "751600     733\n",
       "778629     708\n",
       "751754     707\n",
       "759397     644\n",
       "753517     639\n",
       "751526     632\n",
       "753572     613\n",
       "716035     579\n",
       "746304     545\n",
       "753314     545\n",
       "760352     544\n",
       "748802     541\n",
       "Name: LHS, dtype: int64"
      ]
     },
     "execution_count": 165,
     "metadata": {},
     "output_type": "execute_result"
    }
   ],
   "source": [
    "sublist_by_2_concat.LHS.value_counts()[:20]"
   ]
  },
  {
   "cell_type": "code",
   "execution_count": null,
   "metadata": {},
   "outputs": [
    {
     "data": {
      "text/html": [
       "<div>\n",
       "<style scoped>\n",
       "    .dataframe tbody tr th:only-of-type {\n",
       "        vertical-align: middle;\n",
       "    }\n",
       "\n",
       "    .dataframe tbody tr th {\n",
       "        vertical-align: top;\n",
       "    }\n",
       "\n",
       "    .dataframe thead th {\n",
       "        text-align: right;\n",
       "    }\n",
       "</style>\n",
       "<table border=\"1\" class=\"dataframe\">\n",
       "  <thead>\n",
       "    <tr style=\"text-align: right;\">\n",
       "      <th></th>\n",
       "      <th>rating</th>\n",
       "      <th>bill</th>\n",
       "      <th>option_count</th>\n",
       "      <th>LHS</th>\n",
       "      <th>RHS</th>\n",
       "      <th>LHS_C</th>\n",
       "      <th>RHS_C</th>\n",
       "    </tr>\n",
       "  </thead>\n",
       "  <tbody>\n",
       "    <tr>\n",
       "      <th>1233</th>\n",
       "      <td>1.609438</td>\n",
       "      <td>(759397, 753355)</td>\n",
       "      <td>2</td>\n",
       "      <td>759397</td>\n",
       "      <td>753355</td>\n",
       "      <td>3678</td>\n",
       "      <td>3238</td>\n",
       "    </tr>\n",
       "    <tr>\n",
       "      <th>1234</th>\n",
       "      <td>4.875197</td>\n",
       "      <td>(759397, 753357)</td>\n",
       "      <td>2</td>\n",
       "      <td>759397</td>\n",
       "      <td>753357</td>\n",
       "      <td>3678</td>\n",
       "      <td>3240</td>\n",
       "    </tr>\n",
       "    <tr>\n",
       "      <th>1235</th>\n",
       "      <td>2.397895</td>\n",
       "      <td>(759397, 755827)</td>\n",
       "      <td>2</td>\n",
       "      <td>759397</td>\n",
       "      <td>755827</td>\n",
       "      <td>3678</td>\n",
       "      <td>3576</td>\n",
       "    </tr>\n",
       "    <tr>\n",
       "      <th>1236</th>\n",
       "      <td>2.197225</td>\n",
       "      <td>(759397, 753301)</td>\n",
       "      <td>2</td>\n",
       "      <td>759397</td>\n",
       "      <td>753301</td>\n",
       "      <td>3678</td>\n",
       "      <td>3206</td>\n",
       "    </tr>\n",
       "    <tr>\n",
       "      <th>1237</th>\n",
       "      <td>3.737670</td>\n",
       "      <td>(759397, 702423)</td>\n",
       "      <td>2</td>\n",
       "      <td>759397</td>\n",
       "      <td>702423</td>\n",
       "      <td>3678</td>\n",
       "      <td>1398</td>\n",
       "    </tr>\n",
       "  </tbody>\n",
       "</table>\n",
       "</div>"
      ],
      "text/plain": [
       "        rating              bill  option_count     LHS     RHS  LHS_C  RHS_C\n",
       "1233  1.609438  (759397, 753355)             2  759397  753355   3678   3238\n",
       "1234  4.875197  (759397, 753357)             2  759397  753357   3678   3240\n",
       "1235  2.397895  (759397, 755827)             2  759397  755827   3678   3576\n",
       "1236  2.197225  (759397, 753301)             2  759397  753301   3678   3206\n",
       "1237  3.737670  (759397, 702423)             2  759397  702423   3678   1398"
      ]
     },
     "execution_count": 166,
     "metadata": {},
     "output_type": "execute_result"
    }
   ],
   "source": [
    "sublist_by_2_concat[sublist_by_2_concat.LHS == 759397].head()     # RHS = 721495, LHS = 751839"
   ]
  },
  {
   "cell_type": "code",
   "execution_count": null,
   "metadata": {},
   "outputs": [
    {
     "data": {
      "text/plain": [
       "array([753285, 751581, 753433, 753431, 753436, 759397, 753357, 753268,\n",
       "       677927, 677910], dtype=int64)"
      ]
     },
     "execution_count": 169,
     "metadata": {},
     "output_type": "execute_result"
    }
   ],
   "source": [
    "id_list = recommend(\n",
    "    3678,\n",
    "    10\n",
    ")\n",
    "\n",
    "sublist_by_2_concat.query(\"RHS_C in @id_list\").RHS.unique() "
   ]
  },
  {
   "cell_type": "code",
   "execution_count": null,
   "metadata": {},
   "outputs": [
    {
     "data": {
      "text/plain": [
       "array([1398, 4763, 4762, 4759, 4755], dtype=int64)"
      ]
     },
     "execution_count": 94,
     "metadata": {},
     "output_type": "execute_result"
    }
   ],
   "source": [
    "id_list"
   ]
  },
  {
   "attachments": {},
   "cell_type": "markdown",
   "metadata": {},
   "source": [
    "### Model.2 : With 3's Combine "
   ]
  },
  {
   "cell_type": "code",
   "execution_count": 67,
   "metadata": {},
   "outputs": [
    {
     "data": {
      "text/html": [
       "<div>\n",
       "<style scoped>\n",
       "    .dataframe tbody tr th:only-of-type {\n",
       "        vertical-align: middle;\n",
       "    }\n",
       "\n",
       "    .dataframe tbody tr th {\n",
       "        vertical-align: top;\n",
       "    }\n",
       "\n",
       "    .dataframe thead th {\n",
       "        text-align: right;\n",
       "    }\n",
       "</style>\n",
       "<table border=\"1\" class=\"dataframe\">\n",
       "  <thead>\n",
       "    <tr style=\"text-align: right;\">\n",
       "      <th></th>\n",
       "      <th>rating</th>\n",
       "      <th>bill</th>\n",
       "      <th>option_count</th>\n",
       "      <th>LHS</th>\n",
       "      <th>RHS</th>\n",
       "    </tr>\n",
       "  </thead>\n",
       "  <tbody>\n",
       "    <tr>\n",
       "      <th>0</th>\n",
       "      <td>0.693147</td>\n",
       "      <td>(772494, 754574, 749358)</td>\n",
       "      <td>3</td>\n",
       "      <td>(749358, 754574)</td>\n",
       "      <td>772494</td>\n",
       "    </tr>\n",
       "    <tr>\n",
       "      <th>1</th>\n",
       "      <td>0.693147</td>\n",
       "      <td>(772494, 754574, 749358)</td>\n",
       "      <td>3</td>\n",
       "      <td>(749358, 772494)</td>\n",
       "      <td>754574</td>\n",
       "    </tr>\n",
       "    <tr>\n",
       "      <th>2</th>\n",
       "      <td>0.693147</td>\n",
       "      <td>(772494, 754574, 749358)</td>\n",
       "      <td>3</td>\n",
       "      <td>(754574, 772494)</td>\n",
       "      <td>749358</td>\n",
       "    </tr>\n",
       "    <tr>\n",
       "      <th>3</th>\n",
       "      <td>0.693147</td>\n",
       "      <td>(754574, 745328, 745310)</td>\n",
       "      <td>3</td>\n",
       "      <td>(745328, 745310)</td>\n",
       "      <td>754574</td>\n",
       "    </tr>\n",
       "    <tr>\n",
       "      <th>4</th>\n",
       "      <td>0.693147</td>\n",
       "      <td>(754574, 745328, 745310)</td>\n",
       "      <td>3</td>\n",
       "      <td>(745310, 754574)</td>\n",
       "      <td>745328</td>\n",
       "    </tr>\n",
       "  </tbody>\n",
       "</table>\n",
       "</div>"
      ],
      "text/plain": [
       "     rating                      bill option_count               LHS     RHS\n",
       "0  0.693147  (772494, 754574, 749358)            3  (749358, 754574)  772494\n",
       "1  0.693147  (772494, 754574, 749358)            3  (749358, 772494)  754574\n",
       "2  0.693147  (772494, 754574, 749358)            3  (754574, 772494)  749358\n",
       "3  0.693147  (754574, 745328, 745310)            3  (745328, 745310)  754574\n",
       "4  0.693147  (754574, 745328, 745310)            3  (745310, 754574)  745328"
      ]
     },
     "execution_count": 67,
     "metadata": {},
     "output_type": "execute_result"
    }
   ],
   "source": [
    "dataset_combined_MF.head() "
   ]
  },
  {
   "cell_type": "code",
   "execution_count": 68,
   "metadata": {},
   "outputs": [
    {
     "data": {
      "text/html": [
       "<div>\n",
       "<style scoped>\n",
       "    .dataframe tbody tr th:only-of-type {\n",
       "        vertical-align: middle;\n",
       "    }\n",
       "\n",
       "    .dataframe tbody tr th {\n",
       "        vertical-align: top;\n",
       "    }\n",
       "\n",
       "    .dataframe thead th {\n",
       "        text-align: right;\n",
       "    }\n",
       "</style>\n",
       "<table border=\"1\" class=\"dataframe\">\n",
       "  <thead>\n",
       "    <tr style=\"text-align: right;\">\n",
       "      <th></th>\n",
       "      <th>rating</th>\n",
       "      <th>bill</th>\n",
       "      <th>option_count</th>\n",
       "      <th>LHS</th>\n",
       "      <th>RHS</th>\n",
       "      <th>LHS_C</th>\n",
       "      <th>RHS_C</th>\n",
       "    </tr>\n",
       "  </thead>\n",
       "  <tbody>\n",
       "    <tr>\n",
       "      <th>0</th>\n",
       "      <td>0.693147</td>\n",
       "      <td>(772494, 754574, 749358)</td>\n",
       "      <td>3</td>\n",
       "      <td>(749358, 754574)</td>\n",
       "      <td>772494</td>\n",
       "      <td>0</td>\n",
       "      <td>4244</td>\n",
       "    </tr>\n",
       "    <tr>\n",
       "      <th>1</th>\n",
       "      <td>0.693147</td>\n",
       "      <td>(772494, 754574, 749358)</td>\n",
       "      <td>3</td>\n",
       "      <td>(749358, 772494)</td>\n",
       "      <td>754574</td>\n",
       "      <td>1</td>\n",
       "      <td>3410</td>\n",
       "    </tr>\n",
       "    <tr>\n",
       "      <th>2</th>\n",
       "      <td>0.693147</td>\n",
       "      <td>(772494, 754574, 749358)</td>\n",
       "      <td>3</td>\n",
       "      <td>(754574, 772494)</td>\n",
       "      <td>749358</td>\n",
       "      <td>2</td>\n",
       "      <td>2753</td>\n",
       "    </tr>\n",
       "    <tr>\n",
       "      <th>3</th>\n",
       "      <td>0.693147</td>\n",
       "      <td>(754574, 745328, 745310)</td>\n",
       "      <td>3</td>\n",
       "      <td>(745328, 745310)</td>\n",
       "      <td>754574</td>\n",
       "      <td>3</td>\n",
       "      <td>3410</td>\n",
       "    </tr>\n",
       "    <tr>\n",
       "      <th>4</th>\n",
       "      <td>0.693147</td>\n",
       "      <td>(754574, 745328, 745310)</td>\n",
       "      <td>3</td>\n",
       "      <td>(745310, 754574)</td>\n",
       "      <td>745328</td>\n",
       "      <td>4</td>\n",
       "      <td>2489</td>\n",
       "    </tr>\n",
       "  </tbody>\n",
       "</table>\n",
       "</div>"
      ],
      "text/plain": [
       "     rating                      bill option_count               LHS     RHS  \\\n",
       "0  0.693147  (772494, 754574, 749358)            3  (749358, 754574)  772494   \n",
       "1  0.693147  (772494, 754574, 749358)            3  (749358, 772494)  754574   \n",
       "2  0.693147  (772494, 754574, 749358)            3  (754574, 772494)  749358   \n",
       "3  0.693147  (754574, 745328, 745310)            3  (745328, 745310)  754574   \n",
       "4  0.693147  (754574, 745328, 745310)            3  (745310, 754574)  745328   \n",
       "\n",
       "   LHS_C  RHS_C  \n",
       "0      0   4244  \n",
       "1      1   3410  \n",
       "2      2   2753  \n",
       "3      3   3410  \n",
       "4      4   2489  "
      ]
     },
     "execution_count": 68,
     "metadata": {},
     "output_type": "execute_result"
    }
   ],
   "source": [
    "dataset_combined_MF[\"LHS_C\"] = dataset_combined_MF.LHS.astype('category').cat.codes.values\n",
    "dataset_combined_MF[\"RHS_C\"] = dataset_combined_MF.RHS.astype('category').cat.codes.values\n",
    "\n",
    "dataset_combined_MF.head() "
   ]
  },
  {
   "cell_type": "code",
   "execution_count": 69,
   "metadata": {},
   "outputs": [
    {
     "data": {
      "text/plain": [
       "(4898, 111164)"
      ]
     },
     "execution_count": 69,
     "metadata": {},
     "output_type": "execute_result"
    }
   ],
   "source": [
    "len(dataset_combined_MF[\"RHS_C\"].unique()), len(dataset_combined_MF[\"LHS_C\"].unique())"
   ]
  },
  {
   "cell_type": "code",
   "execution_count": 70,
   "metadata": {},
   "outputs": [],
   "source": [
    "n_rhs, n_lhs = len(dataset_combined_MF.RHS_C.unique()), len(dataset_combined_MF.LHS_C.unique())\n",
    "n_latent_factors = 20\n",
    "# input, embedding --> \n",
    "lhs_input = keras.layers.Input(shape=(1,), name=\"lhs-item\") \n",
    "lhs_embedding = keras.layers.Embedding(n_lhs + 1, n_latent_factors, name=\"lhs-embeddings\")(lhs_input) \n",
    "lhs_vec = keras.layers.Flatten(name=\"flatten-lhs\")(lhs_embedding) \n",
    "\n",
    "rhs_input= keras.layers.Input(shape=(1,), name=\"rhs-item\")\n",
    "rhs_embedding = keras.layers.Embedding(n_rhs + 1, n_latent_factors, name=\"rhs-embeddings\")(rhs_input) \n",
    "rhs_vec = keras.layers.Flatten(name=\"flatten-rhs\")(rhs_embedding)\n",
    "\n",
    "product = keras.layers.dot([lhs_vec, rhs_vec], axes=1, name=\"dot-product\") \n",
    "model_2 = keras.Model([lhs_input, rhs_input], product) \n",
    "\n",
    "model_2.compile(optimizer='adam', loss='mean_squared_error', metrics=['mae', 'mse'])"
   ]
  },
  {
   "cell_type": "code",
   "execution_count": 71,
   "metadata": {},
   "outputs": [
    {
     "data": {
      "text/plain": [
       "(        RHS_C   LHS_C\n",
       " 247068   3304   51028\n",
       " 652590   3134  106409\n",
       " 603084   2530  106795\n",
       " 470925   3921   63845\n",
       " 46974     766   15184, 247068    0.693147\n",
       " 652590     1.94591\n",
       " 603084    0.693147\n",
       " 470925     1.09861\n",
       " 46974     0.693147\n",
       " Name: rating, dtype: object)"
      ]
     },
     "execution_count": 71,
     "metadata": {},
     "output_type": "execute_result"
    }
   ],
   "source": [
    "X_train_3, X_test_3, y_train_3, y_test_3 = train_test_split(dataset_combined_MF[[\"RHS_C\", \"LHS_C\"]], dataset_combined_MF.rating, test_size=0.10) \n",
    "X_train_3[:5], y_train_3[:5]"
   ]
  },
  {
   "cell_type": "code",
   "execution_count": 72,
   "metadata": {},
   "outputs": [
    {
     "name": "stdout",
     "output_type": "stream",
     "text": [
      "Epoch 1/100\n",
      "20182/20182 [==============================] - 879s 44ms/step - loss: 0.5427 - mae: 0.5728 - mse: 0.5427 - val_loss: 0.2842 - val_mae: 0.3985 - val_mse: 0.2842\n",
      "Epoch 2/100\n",
      "20182/20182 [==============================] - 845s 42ms/step - loss: 0.2197 - mae: 0.3398 - mse: 0.2197 - val_loss: 0.2351 - val_mae: 0.3564 - val_mse: 0.2351\n",
      "Epoch 3/100\n",
      "20182/20182 [==============================] - 830s 41ms/step - loss: 0.1733 - mae: 0.2937 - mse: 0.1733 - val_loss: 0.2184 - val_mae: 0.3423 - val_mse: 0.2184\n",
      "Epoch 4/100\n",
      "20182/20182 [==============================] - 824s 41ms/step - loss: 0.1502 - mae: 0.2700 - mse: 0.1502 - val_loss: 0.2139 - val_mae: 0.3406 - val_mse: 0.2139\n",
      "Epoch 5/100\n",
      "20182/20182 [==============================] - 793s 39ms/step - loss: 0.1365 - mae: 0.2574 - mse: 0.1365 - val_loss: 0.2121 - val_mae: 0.3397 - val_mse: 0.2121\n",
      "Epoch 6/100\n",
      "20182/20182 [==============================] - 817s 40ms/step - loss: 0.1263 - mae: 0.2455 - mse: 0.1263 - val_loss: 0.2142 - val_mae: 0.3426 - val_mse: 0.2142\n",
      "Epoch 7/100\n",
      "20182/20182 [==============================] - 787s 39ms/step - loss: 0.1193 - mae: 0.2387 - mse: 0.1193 - val_loss: 0.2164 - val_mae: 0.3441 - val_mse: 0.2164\n",
      "Epoch 8/100\n",
      "20182/20182 [==============================] - 801s 40ms/step - loss: 0.1131 - mae: 0.2307 - mse: 0.1131 - val_loss: 0.2196 - val_mae: 0.3477 - val_mse: 0.2196\n"
     ]
    }
   ],
   "source": [
    "early_stopping = keras.callbacks.EarlyStopping(monitor=\"val_loss\", mode=\"min\",patience=3)\n",
    "history = model_2.fit(\n",
    "    [X_train_3.LHS_C, X_train_3.RHS_C], \n",
    "    np.array(y_train_3, dtype=float),\n",
    "    validation_data=([X_test_3.LHS_C, X_test_3.RHS_C], np.array(y_test_3, dtype=float)),\n",
    "    epochs=100, \n",
    "    callbacks=[early_stopping]\n",
    ")"
   ]
  },
  {
   "cell_type": "code",
   "execution_count": 77,
   "metadata": {},
   "outputs": [],
   "source": [
    "from helpers import save_with_pickle\n",
    "\n",
    "save_with_pickle(model_2.get_weights(), \"../datasets/weights_model_2.pickle\")"
   ]
  },
  {
   "cell_type": "markdown",
   "metadata": {},
   "source": [
    "# Model 2: Apriori (apyori Module)"
   ]
  },
  {
   "cell_type": "code",
   "execution_count": null,
   "metadata": {},
   "outputs": [],
   "source": []
  },
  {
   "cell_type": "code",
   "execution_count": null,
   "metadata": {},
   "outputs": [],
   "source": []
  },
  {
   "cell_type": "code",
   "execution_count": null,
   "metadata": {},
   "outputs": [],
   "source": []
  },
  {
   "cell_type": "code",
   "execution_count": null,
   "metadata": {},
   "outputs": [],
   "source": []
  },
  {
   "cell_type": "code",
   "execution_count": 42,
   "metadata": {},
   "outputs": [
    {
     "ename": "ModuleNotFoundError",
     "evalue": "No module named 'apyori'",
     "output_type": "error",
     "traceback": [
      "\u001b[1;31m---------------------------------------------------------------------------\u001b[0m",
      "\u001b[1;31mModuleNotFoundError\u001b[0m                       Traceback (most recent call last)",
      "\u001b[1;32m<ipython-input-42-55b8b8679510>\u001b[0m in \u001b[0;36m<module>\u001b[1;34m\u001b[0m\n\u001b[1;32m----> 1\u001b[1;33m \u001b[1;32mfrom\u001b[0m \u001b[0mapyori\u001b[0m \u001b[1;32mimport\u001b[0m \u001b[0mapriori\u001b[0m\u001b[1;33m\u001b[0m\u001b[1;33m\u001b[0m\u001b[0m\n\u001b[0m",
      "\u001b[1;31mModuleNotFoundError\u001b[0m: No module named 'apyori'"
     ]
    }
   ],
   "source": [
    "from apyori import apriori "
   ]
  },
  {
   "cell_type": "code",
   "execution_count": 9,
   "metadata": {},
   "outputs": [
    {
     "data": {
      "text/plain": [
       "8374"
      ]
     },
     "execution_count": 9,
     "metadata": {},
     "output_type": "execute_result"
    }
   ],
   "source": [
    "associations = apriori(\n",
    "    transactions,\n",
    "    min_length = 2,\n",
    "    max_length=4,\n",
    "    min_support = 0.0001,\n",
    "    min_confidence = 0.0001,\n",
    "    min_lift = 0.0001,\n",
    ")\n",
    "\n",
    "associations = list(associations)\n",
    "len(associations)"
   ]
  },
  {
   "cell_type": "code",
   "execution_count": 10,
   "metadata": {},
   "outputs": [
    {
     "name": "stdout",
     "output_type": "stream",
     "text": [
      "RelationRecord(items=frozenset({635458}), support=0.0007728733714453959, ordered_statistics=[OrderedStatistic(items_base=frozenset(), items_add=frozenset({635458}), confidence=0.0007728733714453959, lift=1.0)])\n",
      "support 0.0007728733714453959\n",
      "[OrderedStatistic(items_base=frozenset(), items_add=frozenset({635458}), confidence=0.0007728733714453959, lift=1.0)]\n",
      "right frozenset({635458})\n",
      "left frozenset()\n",
      "confidence 0.0007728733714453959\n",
      "lift 1.0\n"
     ]
    }
   ],
   "source": [
    "association = associations[100]\n",
    "print(association)\n",
    "print(\"support\", association.support)\n",
    "print(association.ordered_statistics)\n",
    "print(\"right\", association.ordered_statistics[0].items_add)\n",
    "print(\"left\", association.ordered_statistics[0].items_base)\n",
    "print(\"confidence\", association.ordered_statistics[0].confidence)\n",
    "print(\"lift\", association.ordered_statistics[0].lift)\n"
   ]
  },
  {
   "cell_type": "code",
   "execution_count": 11,
   "metadata": {},
   "outputs": [],
   "source": [
    "rules = [] \n",
    "for association in associations:\n",
    "    if len(association.ordered_statistics) > 1: \n",
    "        rules.append(association)"
   ]
  },
  {
   "cell_type": "code",
   "execution_count": 12,
   "metadata": {},
   "outputs": [
    {
     "data": {
      "text/plain": [
       "5228"
      ]
     },
     "execution_count": 12,
     "metadata": {},
     "output_type": "execute_result"
    }
   ],
   "source": [
    "len(rules)"
   ]
  },
  {
   "cell_type": "code",
   "execution_count": 13,
   "metadata": {},
   "outputs": [
    {
     "data": {
      "text/plain": [
       "[RelationRecord(items=frozenset({525099, 525100}), support=0.0011010378585273694, ordered_statistics=[OrderedStatistic(items_base=frozenset(), items_add=frozenset({525099, 525100}), confidence=0.0011010378585273694, lift=1.0), OrderedStatistic(items_base=frozenset({525099}), items_add=frozenset({525100}), confidence=0.24224021592442646, lift=11.800967554677243), OrderedStatistic(items_base=frozenset({525100}), items_add=frozenset({525099}), confidence=0.05363812938891378, lift=11.800967554677243)]),\n",
       " RelationRecord(items=frozenset({525099, 701998}), support=0.00010734352381186054, ordered_statistics=[OrderedStatistic(items_base=frozenset(), items_add=frozenset({525099, 701998}), confidence=0.00010734352381186054, lift=1.0), OrderedStatistic(items_base=frozenset({525099}), items_add=frozenset({701998}), confidence=0.023616734143049933, lift=4.914089258293739), OrderedStatistic(items_base=frozenset({701998}), items_add=frozenset({525099}), confidence=0.022335673261008295, lift=4.914089258293739)]),\n",
       " RelationRecord(items=frozenset({702418, 525099}), support=0.0003066957823196015, ordered_statistics=[OrderedStatistic(items_base=frozenset(), items_add=frozenset({702418, 525099}), confidence=0.0003066957823196015, lift=1.0), OrderedStatistic(items_base=frozenset({525099}), items_add=frozenset({702418}), confidence=0.06747638326585695, lift=8.972707839368782), OrderedStatistic(items_base=frozenset({702418}), items_add=frozenset({525099}), confidence=0.040783034257748776, lift=8.972707839368782)]),\n",
       " RelationRecord(items=frozenset({525099, 702421}), support=0.0004140393061314621, ordered_statistics=[OrderedStatistic(items_base=frozenset(), items_add=frozenset({525099, 702421}), confidence=0.0004140393061314621, lift=1.0), OrderedStatistic(items_base=frozenset({525099}), items_add=frozenset({702421}), confidence=0.0910931174089069, lift=15.657067733199023), OrderedStatistic(items_base=frozenset({702421}), items_add=frozenset({525099}), confidence=0.07116499736425935, lift=15.657067733199021)]),\n",
       " RelationRecord(items=frozenset({525099, 702422}), support=0.00013187918639742866, ordered_statistics=[OrderedStatistic(items_base=frozenset(), items_add=frozenset({525099, 702422}), confidence=0.00013187918639742866, lift=1.0), OrderedStatistic(items_base=frozenset({525099}), items_add=frozenset({702422}), confidence=0.02901484480431849, lift=8.958772952194007), OrderedStatistic(items_base=frozenset({702422}), items_add=frozenset({525099}), confidence=0.04071969696969697, lift=8.958772952194005)]),\n",
       " RelationRecord(items=frozenset({525099, 702423}), support=0.0005213828299433226, ordered_statistics=[OrderedStatistic(items_base=frozenset(), items_add=frozenset({525099, 702423}), confidence=0.0005213828299433226, lift=1.0), OrderedStatistic(items_base=frozenset({525099}), items_add=frozenset({702423}), confidence=0.11470985155195683, lift=8.755111272852256), OrderedStatistic(items_base=frozenset({702423}), items_add=frozenset({525099}), confidence=0.039794007490636704, lift=8.755111272852256)]),\n",
       " RelationRecord(items=frozenset({525099, 702428}), support=0.0002974949088500135, ordered_statistics=[OrderedStatistic(items_base=frozenset(), items_add=frozenset({525099, 702428}), confidence=0.0002974949088500135, lift=1.0), OrderedStatistic(items_base=frozenset({525099}), items_add=frozenset({702428}), confidence=0.06545209176788125, lift=8.220742385773608), OrderedStatistic(items_base=frozenset({702428}), items_add=frozenset({525099}), confidence=0.03736517719568567, lift=8.220742385773608)]),\n",
       " RelationRecord(items=frozenset({702434, 525099}), support=0.00012881222857423263, ordered_statistics=[OrderedStatistic(items_base=frozenset(), items_add=frozenset({702434, 525099}), confidence=0.00012881222857423263, lift=1.0), OrderedStatistic(items_base=frozenset({525099}), items_add=frozenset({702434}), confidence=0.02834008097165992, lift=9.706358656823053), OrderedStatistic(items_base=frozenset({702434}), items_add=frozenset({525099}), confidence=0.044117647058823525, lift=9.706358656823053)]),\n",
       " RelationRecord(items=frozenset({525099, 702455}), support=0.0002177540054469171, ordered_statistics=[OrderedStatistic(items_base=frozenset(), items_add=frozenset({525099, 702455}), confidence=0.0002177540054469171, lift=1.0), OrderedStatistic(items_base=frozenset({525099}), items_add=frozenset({702455}), confidence=0.04790823211875844, lift=15.543051275337218), OrderedStatistic(items_base=frozenset({702455}), items_add=frozenset({525099}), confidence=0.07064676616915423, lift=15.543051275337216)]),\n",
       " RelationRecord(items=frozenset({525099, 702461}), support=0.0006869985523959074, ordered_statistics=[OrderedStatistic(items_base=frozenset(), items_add=frozenset({525099, 702461}), confidence=0.0006869985523959074, lift=1.0), OrderedStatistic(items_base=frozenset({525099}), items_add=frozenset({702461}), confidence=0.15114709851551958, lift=14.870977173680222), OrderedStatistic(items_base=frozenset({702461}), items_add=frozenset({525099}), confidence=0.0675920337960169, lift=14.870977173680222)]),\n",
       " RelationRecord(items=frozenset({525099, 703317}), support=0.00025762445714846527, ordered_statistics=[OrderedStatistic(items_base=frozenset(), items_add=frozenset({525099, 703317}), confidence=0.00025762445714846527, lift=1.0), OrderedStatistic(items_base=frozenset({525099}), items_add=frozenset({703317}), confidence=0.05668016194331984, lift=5.6378605499057635), OrderedStatistic(items_base=frozenset({703317}), items_add=frozenset({525099}), confidence=0.025625381330079314, lift=5.6378605499057635)]),\n",
       " RelationRecord(items=frozenset({525099, 703318}), support=0.00014721397551340873, ordered_statistics=[OrderedStatistic(items_base=frozenset(), items_add=frozenset({525099, 703318}), confidence=0.00014721397551340873, lift=1.0), OrderedStatistic(items_base=frozenset({525099}), items_add=frozenset({703318}), confidence=0.032388663967611336, lift=12.337053993719021), OrderedStatistic(items_base=frozenset({703318}), items_add=frozenset({525099}), confidence=0.056074766355140186, lift=12.337053993719021)]),\n",
       " RelationRecord(items=frozenset({525099, 703319}), support=0.00034963319184434577, ordered_statistics=[OrderedStatistic(items_base=frozenset(), items_add=frozenset({525099, 703319}), confidence=0.00034963319184434577, lift=1.0), OrderedStatistic(items_base=frozenset({525099}), items_add=frozenset({703319}), confidence=0.07692307692307693, lift=12.988726447038204), OrderedStatistic(items_base=frozenset({703319}), items_add=frozenset({525099}), confidence=0.05903676851372346, lift=12.988726447038204)]),\n",
       " RelationRecord(items=frozenset({703320, 525099}), support=0.0003373653605515617, ordered_statistics=[OrderedStatistic(items_base=frozenset(), items_add=frozenset({703320, 525099}), confidence=0.0003373653605515617, lift=1.0), OrderedStatistic(items_base=frozenset({525099}), items_add=frozenset({703320}), confidence=0.07422402159244265, lift=9.369410601759768), OrderedStatistic(items_base=frozenset({703320}), items_add=frozenset({525099}), confidence=0.04258614014711576, lift=9.369410601759768)]),\n",
       " RelationRecord(items=frozenset({703323, 525099}), support=0.00036190102313712983, ordered_statistics=[OrderedStatistic(items_base=frozenset(), items_add=frozenset({525099, 703323}), confidence=0.00036190102313712983, lift=1.0), OrderedStatistic(items_base=frozenset({525099}), items_add=frozenset({703323}), confidence=0.0796221322537112, lift=6.335108334337741), OrderedStatistic(items_base=frozenset({703323}), items_add=frozenset({525099}), confidence=0.02879453391898487, lift=6.335108334337741)]),\n",
       " RelationRecord(items=frozenset({715921, 525099}), support=0.0001196113551046446, ordered_statistics=[OrderedStatistic(items_base=frozenset(), items_add=frozenset({715921, 525099}), confidence=0.0001196113551046446, lift=1.0), OrderedStatistic(items_base=frozenset({525099}), items_add=frozenset({715921}), confidence=0.026315789473684213, lift=7.546544461417397), OrderedStatistic(items_base=frozenset({715921}), items_add=frozenset({525099}), confidence=0.03430079155672824, lift=7.5465444614173975)]),\n",
       " RelationRecord(items=frozenset({716035, 525099}), support=0.0003097627401427976, ordered_statistics=[OrderedStatistic(items_base=frozenset(), items_add=frozenset({525099, 716035}), confidence=0.0003097627401427976, lift=1.0), OrderedStatistic(items_base=frozenset({525099}), items_add=frozenset({716035}), confidence=0.06815114709851552, lift=10.297076190154577), OrderedStatistic(items_base=frozenset({716035}), items_add=frozenset({525099}), confidence=0.046802594995366084, lift=10.297076190154579)]),\n",
       " RelationRecord(items=frozenset({731392, 525099}), support=0.00016254876462938882, ordered_statistics=[OrderedStatistic(items_base=frozenset(), items_add=frozenset({731392, 525099}), confidence=0.00016254876462938882, lift=1.0), OrderedStatistic(items_base=frozenset({525099}), items_add=frozenset({731392}), confidence=0.03576248313090419, lift=13.116504161676149), OrderedStatistic(items_base=frozenset({731392}), items_add=frozenset({525099}), confidence=0.05961754780652419, lift=13.116504161676149)]),\n",
       " RelationRecord(items=frozenset({751754, 525099}), support=0.00010734352381186054, ordered_statistics=[OrderedStatistic(items_base=frozenset(), items_add=frozenset({751754, 525099}), confidence=0.00010734352381186054, lift=1.0), OrderedStatistic(items_base=frozenset({525099}), items_add=frozenset({751754}), confidence=0.023616734143049933, lift=2.1900960943533248), OrderedStatistic(items_base=frozenset({751754}), items_add=frozenset({525099}), confidence=0.009954493742889647, lift=2.1900960943533248)]),\n",
       " RelationRecord(items=frozenset({753600, 525099}), support=0.00011041048163505655, ordered_statistics=[OrderedStatistic(items_base=frozenset(), items_add=frozenset({753600, 525099}), confidence=0.00011041048163505655, lift=1.0), OrderedStatistic(items_base=frozenset({525099}), items_add=frozenset({753600}), confidence=0.024291497975708502, lift=0.821617081324441), OrderedStatistic(items_base=frozenset({753600}), items_add=frozenset({525099}), confidence=0.003734439834024896, lift=0.821617081324441)]),\n",
       " RelationRecord(items=frozenset({701923, 525100}), support=0.0002392227102092892, ordered_statistics=[OrderedStatistic(items_base=frozenset(), items_add=frozenset({701923, 525100}), confidence=0.0002392227102092892, lift=1.0), OrderedStatistic(items_base=frozenset({525100}), items_add=frozenset({701923}), confidence=0.01165396683101748, lift=4.685383241743817), OrderedStatistic(items_base=frozenset({701923}), items_add=frozenset({525100}), confidence=0.09617755856966707, lift=4.685383241743817)]),\n",
       " RelationRecord(items=frozenset({701924, 525100}), support=0.00016868268027578085, ordered_statistics=[OrderedStatistic(items_base=frozenset(), items_add=frozenset({701924, 525100}), confidence=0.00016868268027578085, lift=1.0), OrderedStatistic(items_base=frozenset({525100}), items_add=frozenset({701924}), confidence=0.008217540714178993, lift=5.192593905237104), OrderedStatistic(items_base=frozenset({701924}), items_add=frozenset({525100}), confidence=0.10658914728682171, lift=5.192593905237104)]),\n",
       " RelationRecord(items=frozenset({701994, 525100}), support=0.00032509752925877764, ordered_statistics=[OrderedStatistic(items_base=frozenset(), items_add=frozenset({701994, 525100}), confidence=0.00032509752925877764, lift=1.0), OrderedStatistic(items_base=frozenset({525100}), items_add=frozenset({701994}), confidence=0.01583744210369042, lift=4.361396133919666), OrderedStatistic(items_base=frozenset({701994}), items_add=frozenset({525100}), confidence=0.08952702702702703, lift=4.361396133919666)]),\n",
       " RelationRecord(items=frozenset({525100, 701998}), support=0.00042324017960105014, ordered_statistics=[OrderedStatistic(items_base=frozenset(), items_add=frozenset({525100, 701998}), confidence=0.00042324017960105014, lift=1.0), OrderedStatistic(items_base=frozenset({525100}), items_add=frozenset({701998}), confidence=0.020618556701030927, lift=4.290238751570734), OrderedStatistic(items_base=frozenset({701998}), items_add=frozenset({525100}), confidence=0.08806636885768986, lift=4.290238751570734)]),\n",
       " RelationRecord(items=frozenset({702001, 525100}), support=0.00010734352381186054, ordered_statistics=[OrderedStatistic(items_base=frozenset(), items_add=frozenset({702001, 525100}), confidence=0.00010734352381186054, lift=1.0), OrderedStatistic(items_base=frozenset({525100}), items_add=frozenset({702001}), confidence=0.005229344090841177, lift=6.53279316813529), OrderedStatistic(items_base=frozenset({702001}), items_add=frozenset({525100}), confidence=0.13409961685823754, lift=6.53279316813529)]),\n",
       " RelationRecord(items=frozenset({525100, 702406}), support=0.00028522707755722945, ordered_statistics=[OrderedStatistic(items_base=frozenset(), items_add=frozenset({525100, 702406}), confidence=0.00028522707755722945, lift=1.0), OrderedStatistic(items_base=frozenset({525100}), items_add=frozenset({702406}), confidence=0.013895114298520842, lift=7.588920247434693), OrderedStatistic(items_base=frozenset({702406}), items_add=frozenset({525100}), confidence=0.15577889447236182, lift=7.588920247434693)]),\n",
       " RelationRecord(items=frozenset({702418, 525100}), support=0.0017328311701057487, ordered_statistics=[OrderedStatistic(items_base=frozenset(), items_add=frozenset({702418, 525100}), confidence=0.0017328311701057487, lift=1.0), OrderedStatistic(items_base=frozenset({525100}), items_add=frozenset({702418}), confidence=0.08441655460929329, lift=11.225336105092875), OrderedStatistic(items_base=frozenset({702418}), items_add=frozenset({525100}), confidence=0.23042414355628058, lift=11.225336105092875)]),\n",
       " RelationRecord(items=frozenset({525100, 702421}), support=0.00120838138233923, ordered_statistics=[OrderedStatistic(items_base=frozenset(), items_add=frozenset({525100, 702421}), confidence=0.00120838138233923, lift=1.0), OrderedStatistic(items_base=frozenset({525100}), items_add=frozenset({702421}), confidence=0.05886747347975496, lift=10.11813017022403), OrderedStatistic(items_base=frozenset({702421}), items_add=frozenset({525100}), confidence=0.2076963626779125, lift=10.11813017022403)]),\n",
       " RelationRecord(items=frozenset({525100, 702422}), support=0.0004815123782417744, ordered_statistics=[OrderedStatistic(items_base=frozenset(), items_add=frozenset({525100, 702422}), confidence=0.0004815123782417744, lift=1.0), OrderedStatistic(items_base=frozenset({525100}), items_add=frozenset({702422}), confidence=0.02345734349320185, lift=7.242810217821423), OrderedStatistic(items_base=frozenset({702422}), items_add=frozenset({525100}), confidence=0.14867424242424243, lift=7.2428102178214235)]),\n",
       " RelationRecord(items=frozenset({525100, 702423}), support=0.003447260593272321, ordered_statistics=[OrderedStatistic(items_base=frozenset(), items_add=frozenset({525100, 702423}), confidence=0.003447260593272321, lift=1.0), OrderedStatistic(items_base=frozenset({525100}), items_add=frozenset({702423}), confidence=0.16793665023158522, lift=12.817591860465765), OrderedStatistic(items_base=frozenset({702423}), items_add=frozenset({525100}), confidence=0.2631086142322097, lift=12.817591860465765)]),\n",
       " RelationRecord(items=frozenset({702428, 525100}), support=0.0015242780381284197, ordered_statistics=[OrderedStatistic(items_base=frozenset(), items_add=frozenset({702428, 525100}), confidence=0.0015242780381284197, lift=1.0), OrderedStatistic(items_base=frozenset({525100}), items_add=frozenset({702428}), confidence=0.07425668608994472, lift=9.326594006064335), OrderedStatistic(items_base=frozenset({702428}), items_add=frozenset({525100}), confidence=0.1914483821263482, lift=9.326594006064335)]),\n",
       " RelationRecord(items=frozenset({702434, 525100}), support=0.0004201732217778541, ordered_statistics=[OrderedStatistic(items_base=frozenset(), items_add=frozenset({702434, 525100}), confidence=0.0004201732217778541, lift=1.0), OrderedStatistic(items_base=frozenset({525100}), items_add=frozenset({702434}), confidence=0.020469146869864036, lift=7.010596798109651), OrderedStatistic(items_base=frozenset({702434}), items_add=frozenset({525100}), confidence=0.14390756302521007, lift=7.010596798109651)]),\n",
       " RelationRecord(items=frozenset({525100, 702455}), support=0.000601123733346419, ordered_statistics=[OrderedStatistic(items_base=frozenset(), items_add=frozenset({525100, 702455}), confidence=0.000601123733346419, lift=1.0), OrderedStatistic(items_base=frozenset({525100}), items_add=frozenset({702455}), confidence=0.029284326908710592, lift=9.500826362732877), OrderedStatistic(items_base=frozenset({702455}), items_add=frozenset({525100}), confidence=0.19502487562189055, lift=9.500826362732877)]),\n",
       " RelationRecord(items=frozenset({525100, 702461}), support=0.0024689010476727923, ordered_statistics=[OrderedStatistic(items_base=frozenset(), items_add=frozenset({525100, 702461}), confidence=0.0024689010476727923, lift=1.0), OrderedStatistic(items_base=frozenset({525100}), items_add=frozenset({702461}), confidence=0.12027491408934707, lift=11.833541758695278), OrderedStatistic(items_base=frozenset({702461}), items_add=frozenset({525100}), confidence=0.2429088714544357, lift=11.833541758695276)]),\n",
       " RelationRecord(items=frozenset({525100, 703316}), support=0.00042937409524744215, ordered_statistics=[OrderedStatistic(items_base=frozenset(), items_add=frozenset({525100, 703316}), confidence=0.00042937409524744215, lift=1.0), OrderedStatistic(items_base=frozenset({525100}), items_add=frozenset({703316}), confidence=0.020917376363364708, lift=7.866477586543533), OrderedStatistic(items_base=frozenset({703316}), items_add=frozenset({525100}), confidence=0.16147635524798154, lift=7.866477586543533)]),\n",
       " RelationRecord(items=frozenset({525100, 703317}), support=0.00200885737419339, ordered_statistics=[OrderedStatistic(items_base=frozenset(), items_add=frozenset({525100, 703317}), confidence=0.00200885737419339, lift=1.0), OrderedStatistic(items_base=frozenset({525100}), items_add=frozenset({703317}), confidence=0.09786343941431346, lift=9.734277486782608), OrderedStatistic(items_base=frozenset({703317}), items_add=frozenset({525100}), confidence=0.199816961561928, lift=9.734277486782608)]),\n",
       " RelationRecord(items=frozenset({525100, 703318}), support=0.00048764629388816646, ordered_statistics=[OrderedStatistic(items_base=frozenset(), items_add=frozenset({525100, 703318}), confidence=0.00048764629388816646, lift=1.0), OrderedStatistic(items_base=frozenset({525100}), items_add=frozenset({703318}), confidence=0.023756163155535633, lift=9.048877960095007), OrderedStatistic(items_base=frozenset({703318}), items_add=frozenset({525100}), confidence=0.18574766355140188, lift=9.048877960095007)]),\n",
       " RelationRecord(items=frozenset({525100, 703319}), support=0.0013249257796206786, ordered_statistics=[OrderedStatistic(items_base=frozenset(), items_add=frozenset({525100, 703319}), confidence=0.0013249257796206786, lift=1.0), OrderedStatistic(items_base=frozenset({525100}), items_add=frozenset({703319}), confidence=0.0645450470640968, lift=10.898653477747876), OrderedStatistic(items_base=frozenset({703319}), items_add=frozenset({525100}), confidence=0.22371828068358363, lift=10.898653477747876)]),\n",
       " RelationRecord(items=frozenset({703320, 525100}), support=0.001588684152415536, ordered_statistics=[OrderedStatistic(items_base=frozenset(), items_add=frozenset({703320, 525100}), confidence=0.001588684152415536, lift=1.0), OrderedStatistic(items_base=frozenset({525100}), items_add=frozenset({703320}), confidence=0.07739429254444942, lift=9.76959870300929), OrderedStatistic(items_base=frozenset({703320}), items_add=frozenset({525100}), confidence=0.2005420054200542, lift=9.769598703009292)]),\n",
       " RelationRecord(items=frozenset({703323, 525100}), support=0.003122163064013544, ordered_statistics=[OrderedStatistic(items_base=frozenset(), items_add=frozenset({703323, 525100}), confidence=0.003122163064013544, lift=1.0), OrderedStatistic(items_base=frozenset({525100}), items_add=frozenset({703323}), confidence=0.15209920812789482, lift=12.101722646498017), OrderedStatistic(items_base=frozenset({703323}), items_add=frozenset({525100}), confidence=0.24841386041971694, lift=12.101722646498017)]),\n",
       " RelationRecord(items=frozenset({525100, 715852}), support=0.00045084280000981427, ordered_statistics=[OrderedStatistic(items_base=frozenset(), items_add=frozenset({525100, 715852}), confidence=0.00045084280000981427, lift=1.0), OrderedStatistic(items_base=frozenset({525100}), items_add=frozenset({715852}), confidence=0.021963245181532944, lift=7.956942078788785), OrderedStatistic(items_base=frozenset({715852}), items_add=frozenset({525100}), confidence=0.16333333333333336, lift=7.956942078788785)]),\n",
       " RelationRecord(items=frozenset({715921, 525100}), support=0.00046617758912579434, ordered_statistics=[OrderedStatistic(items_base=frozenset(), items_add=frozenset({715921, 525100}), confidence=0.00046617758912579434, lift=1.0), OrderedStatistic(items_base=frozenset({525100}), items_add=frozenset({715921}), confidence=0.022710294337367397, lift=6.5126013460551135), OrderedStatistic(items_base=frozenset({715921}), items_add=frozenset({525100}), confidence=0.13368513632365875, lift=6.5126013460551135)]),\n",
       " RelationRecord(items=frozenset({716035, 525100}), support=0.0011163726476433496, ordered_statistics=[OrderedStatistic(items_base=frozenset(), items_add=frozenset({716035, 525100}), confidence=0.0011163726476433496, lift=1.0), OrderedStatistic(items_base=frozenset({525100}), items_add=frozenset({716035}), confidence=0.05438517854474824, lift=8.21715188859427), OrderedStatistic(items_base=frozenset({716035}), items_add=frozenset({525100}), confidence=0.1686746987951807, lift=8.217151888594268)]),\n",
       " RelationRecord(items=frozenset({525100, 731389}), support=0.00034963319184434577, ordered_statistics=[OrderedStatistic(items_base=frozenset(), items_add=frozenset({525100, 731389}), confidence=0.00034963319184434577, lift=1.0), OrderedStatistic(items_base=frozenset({525100}), items_add=frozenset({731389}), confidence=0.01703272075302555, lift=5.598408062347277), OrderedStatistic(items_base=frozenset({731389}), items_add=frozenset({525100}), confidence=0.11491935483870969, lift=5.598408062347277)]),\n",
       " RelationRecord(items=frozenset({731392, 525100}), support=0.0005275167455897147, ordered_statistics=[OrderedStatistic(items_base=frozenset(), items_add=frozenset({731392, 525100}), confidence=0.0005275167455897147, lift=1.0), OrderedStatistic(items_base=frozenset({525100}), items_add=frozenset({731392}), confidence=0.025698490960705214, lift=9.425362394469852), OrderedStatistic(items_base=frozenset({731392}), items_add=frozenset({525100}), confidence=0.19347581552305962, lift=9.425362394469852)]),\n",
       " RelationRecord(items=frozenset({751532, 525100}), support=0.00013187918639742866, ordered_statistics=[OrderedStatistic(items_base=frozenset(), items_add=frozenset({751532, 525100}), confidence=0.00013187918639742866, lift=1.0), OrderedStatistic(items_base=frozenset({525100}), items_add=frozenset({751532}), confidence=0.0064246227401763036, lift=0.9609113725554701), OrderedStatistic(items_base=frozenset({751532}), items_add=frozenset({525100}), confidence=0.019724770642201836, lift=0.9609113725554701)]),\n",
       " RelationRecord(items=frozenset({525100, 751581}), support=0.0003404323183747577, ordered_statistics=[OrderedStatistic(items_base=frozenset(), items_add=frozenset({525100, 751581}), confidence=0.0003404323183747577, lift=1.0), OrderedStatistic(items_base=frozenset({525100}), items_add=frozenset({751581}), confidence=0.016584491259524877, lift=0.9880272030176582), OrderedStatistic(items_base=frozenset({751581}), items_add=frozenset({525100}), confidence=0.020281381326511968, lift=0.9880272030176581)]),\n",
       " RelationRecord(items=frozenset({751600, 525100}), support=0.00025455749932526927, ordered_statistics=[OrderedStatistic(items_base=frozenset(), items_add=frozenset({751600, 525100}), confidence=0.00025455749932526927, lift=1.0), OrderedStatistic(items_base=frozenset({525100}), items_add=frozenset({751600}), confidence=0.012401015986851933, lift=0.8788145334946738), OrderedStatistic(items_base=frozenset({751600}), items_add=frozenset({525100}), confidence=0.018039556618126493, lift=0.8788145334946738)]),\n",
       " RelationRecord(items=frozenset({751754, 525100}), support=0.00029442795102681746, ordered_statistics=[OrderedStatistic(items_base=frozenset(), items_add=frozenset({751754, 525100}), confidence=0.00029442795102681746, lift=1.0), OrderedStatistic(items_base=frozenset({525100}), items_add=frozenset({751754}), confidence=0.014343343792021512, lift=1.330128925896293), OrderedStatistic(items_base=frozenset({751754}), items_add=frozenset({525100}), confidence=0.0273037542662116, lift=1.330128925896293)]),\n",
       " RelationRecord(items=frozenset({525100, 751839}), support=0.00018401746939176092, ordered_statistics=[OrderedStatistic(items_base=frozenset(), items_add=frozenset({525100, 751839}), confidence=0.00018401746939176092, lift=1.0), OrderedStatistic(items_base=frozenset({525100}), items_add=frozenset({751839}), confidence=0.008964589870013445, lift=1.4079760667905126), OrderedStatistic(items_base=frozenset({751839}), items_add=frozenset({525100}), confidence=0.028901734104046242, lift=1.4079760667905126)]),\n",
       " RelationRecord(items=frozenset({751848, 525100}), support=0.00019628530068454498, ordered_statistics=[OrderedStatistic(items_base=frozenset(), items_add=frozenset({751848, 525100}), confidence=0.00019628530068454498, lift=1.0), OrderedStatistic(items_base=frozenset({525100}), items_add=frozenset({751848}), confidence=0.00956222919468101, lift=1.7674729037987027), OrderedStatistic(items_base=frozenset({751848}), items_add=frozenset({525100}), confidence=0.036281179138321996, lift=1.7674729037987025)]),\n",
       " RelationRecord(items=frozenset({751873, 525100}), support=0.0002821601197340334, ordered_statistics=[OrderedStatistic(items_base=frozenset(), items_add=frozenset({751873, 525100}), confidence=0.0002821601197340334, lift=1.0), OrderedStatistic(items_base=frozenset({525100}), items_add=frozenset({751873}), confidence=0.01374570446735395, lift=1.8256087233432012), OrderedStatistic(items_base=frozenset({751873}), items_add=frozenset({525100}), confidence=0.03747454175152749, lift=1.8256087233432015)]),\n",
       " RelationRecord(items=frozenset({751969, 525100}), support=0.00017788355374536889, ordered_statistics=[OrderedStatistic(items_base=frozenset(), items_add=frozenset({751969, 525100}), confidence=0.00017788355374536889, lift=1.0), OrderedStatistic(items_base=frozenset({525100}), items_add=frozenset({751969}), confidence=0.008665770207679665, lift=1.5431602243774991), OrderedStatistic(items_base=frozenset({751969}), items_add=frozenset({525100}), confidence=0.03167667941015838, lift=1.543160224377499)]),\n",
       " RelationRecord(items=frozenset({525100, 753285}), support=0.00012267831292784063, ordered_statistics=[OrderedStatistic(items_base=frozenset(), items_add=frozenset({525100, 753285}), confidence=0.00012267831292784063, lift=1.0), OrderedStatistic(items_base=frozenset({525100}), items_add=frozenset({753285}), confidence=0.005976393246675631, lift=0.8246461601515318), OrderedStatistic(items_base=frozenset({753285}), items_add=frozenset({525100}), confidence=0.016927634363097757, lift=0.8246461601515317)]),\n",
       " RelationRecord(items=frozenset({753337, 525100}), support=0.00010427656598866452, ordered_statistics=[OrderedStatistic(items_base=frozenset(), items_add=frozenset({753337, 525100}), confidence=0.00010427656598866452, lift=1.0), OrderedStatistic(items_base=frozenset({525100}), items_add=frozenset({753337}), confidence=0.005079934259674286, lift=0.7309545653011293), OrderedStatistic(items_base=frozenset({753337}), items_add=frozenset({525100}), confidence=0.01500441306266549, lift=0.7309545653011293)]),\n",
       " RelationRecord(items=frozenset({525100, 753350}), support=0.00016868268027578085, ordered_statistics=[OrderedStatistic(items_base=frozenset(), items_add=frozenset({525100, 753350}), confidence=0.00016868268027578085, lift=1.0), OrderedStatistic(items_base=frozenset({525100}), items_add=frozenset({753350}), confidence=0.008217540714178993, lift=0.7417991293195862), OrderedStatistic(items_base=frozenset({753350}), items_add=frozenset({525100}), confidence=0.01522702104097453, lift=0.7417991293195862)]),\n",
       " RelationRecord(items=frozenset({525100, 753357}), support=0.00022695487891650514, ordered_statistics=[OrderedStatistic(items_base=frozenset(), items_add=frozenset({525100, 753357}), confidence=0.00022695487891650514, lift=1.0), OrderedStatistic(items_base=frozenset({525100}), items_add=frozenset({753357}), confidence=0.011056327506349916, lift=0.952439080953878), OrderedStatistic(items_base=frozenset({753357}), items_add=frozenset({525100}), confidence=0.019550858652575956, lift=0.952439080953878)]),\n",
       " RelationRecord(items=frozenset({753376, 525100}), support=0.00025149054150207326, ordered_statistics=[OrderedStatistic(items_base=frozenset(), items_add=frozenset({753376, 525100}), confidence=0.00025149054150207326, lift=1.0), OrderedStatistic(items_base=frozenset({525100}), items_add=frozenset({753376}), confidence=0.012251606155685043, lift=0.9054192422253042), OrderedStatistic(items_base=frozenset({753376}), items_add=frozenset({525100}), confidence=0.018585675430643697, lift=0.9054192422253042)]),\n",
       " RelationRecord(items=frozenset({525100, 753431}), support=0.00012574527075103663, ordered_statistics=[OrderedStatistic(items_base=frozenset(), items_add=frozenset({525100, 753431}), confidence=0.00012574527075103663, lift=1.0), OrderedStatistic(items_base=frozenset({525100}), items_add=frozenset({753431}), confidence=0.0061258030778425215, lift=0.7289616234850441), OrderedStatistic(items_base=frozenset({753431}), items_add=frozenset({525100}), confidence=0.014963503649635035, lift=0.7289616234850441)]),\n",
       " RelationRecord(items=frozenset({753432, 525100}), support=0.00011347743945825257, ordered_statistics=[OrderedStatistic(items_base=frozenset(), items_add=frozenset({753432, 525100}), confidence=0.00011347743945825257, lift=1.0), OrderedStatistic(items_base=frozenset({525100}), items_add=frozenset({753432}), confidence=0.005528163753174958, lift=1.2921082155592933), OrderedStatistic(items_base=frozenset({753432}), items_add=frozenset({525100}), confidence=0.026523297491039426, lift=1.2921082155592933)]),\n",
       " RelationRecord(items=frozenset({753433, 525100}), support=0.0001564148489829968, ordered_statistics=[OrderedStatistic(items_base=frozenset(), items_add=frozenset({753433, 525100}), confidence=0.0001564148489829968, lift=1.0), OrderedStatistic(items_base=frozenset({525100}), items_add=frozenset({753433}), confidence=0.007619901389511429, lift=0.6037702472560239), OrderedStatistic(items_base=frozenset({753433}), items_add=frozenset({525100}), confidence=0.012393681652490886, lift=0.6037702472560239)]),\n",
       " RelationRecord(items=frozenset({525100, 753517}), support=0.00020855313197732904, ordered_statistics=[OrderedStatistic(items_base=frozenset(), items_add=frozenset({525100, 753517}), confidence=0.00020855313197732904, lift=1.0), OrderedStatistic(items_base=frozenset({525100}), items_add=frozenset({753517}), confidence=0.010159868519348572, lift=0.5362068776213529), OrderedStatistic(items_base=frozenset({753517}), items_add=frozenset({525100}), confidence=0.011006798316607317, lift=0.5362068776213529)]),\n",
       " RelationRecord(items=frozenset({525100, 753559}), support=0.00012881222857423263, ordered_statistics=[OrderedStatistic(items_base=frozenset(), items_add=frozenset({525100, 753559}), confidence=0.00012881222857423263, lift=1.0), OrderedStatistic(items_base=frozenset({525100}), items_add=frozenset({753559}), confidence=0.006275212909009412, lift=1.5303446673597403), OrderedStatistic(items_base=frozenset({753559}), items_add=frozenset({525100}), confidence=0.031413612565445025, lift=1.5303446673597403)]),\n",
       " RelationRecord(items=frozenset({753600, 525100}), support=0.00029136099320362145, ordered_statistics=[OrderedStatistic(items_base=frozenset(), items_add=frozenset({753600, 525100}), confidence=0.00029136099320362145, lift=1.0), OrderedStatistic(items_base=frozenset({525100}), items_add=frozenset({753600}), confidence=0.014193933960854622, lift=0.48008478542950356), OrderedStatistic(items_base=frozenset({753600}), items_add=frozenset({525100}), confidence=0.009854771784232365, lift=0.4800847854295036)]),\n",
       " RelationRecord(items=frozenset({753609, 525100}), support=0.00017174963809897685, ordered_statistics=[OrderedStatistic(items_base=frozenset(), items_add=frozenset({753609, 525100}), confidence=0.00017174963809897685, lift=1.0), OrderedStatistic(items_base=frozenset({525100}), items_add=frozenset({753609}), confidence=0.008366950545345883, lift=0.42250184714469524), OrderedStatistic(items_base=frozenset({753609}), items_add=frozenset({525100}), confidence=0.008672758246863869, lift=0.42250184714469524)]),\n",
       " RelationRecord(items=frozenset({525100, 759397}), support=0.00018401746939176092, ordered_statistics=[OrderedStatistic(items_base=frozenset(), items_add=frozenset({525100, 759397}), confidence=0.00018401746939176092, lift=1.0), OrderedStatistic(items_base=frozenset({525100}), items_add=frozenset({759397}), confidence=0.008964589870013445, lift=0.7880718022801574), OrderedStatistic(items_base=frozenset({759397}), items_add=frozenset({525100}), confidence=0.016176867080075492, lift=0.7880718022801575)]),\n",
       " RelationRecord(items=frozenset({525100, 760125}), support=0.00011041048163505655, ordered_statistics=[OrderedStatistic(items_base=frozenset(), items_add=frozenset({525100, 760125}), confidence=0.00011041048163505655, lift=1.0), OrderedStatistic(items_base=frozenset({525100}), items_add=frozenset({760125}), confidence=0.005378753922008068, lift=1.449400817185341), OrderedStatistic(items_base=frozenset({760125}), items_add=frozenset({525100}), confidence=0.02975206611570248, lift=1.449400817185341)]),\n",
       " RelationRecord(items=frozenset({525100, 760148}), support=0.00011347743945825257, ordered_statistics=[OrderedStatistic(items_base=frozenset(), items_add=frozenset({525100, 760148}), confidence=0.00011347743945825257, lift=1.0), OrderedStatistic(items_base=frozenset({525100}), items_add=frozenset({760148}), confidence=0.005528163753174958, lift=1.733164385293475), OrderedStatistic(items_base=frozenset({760148}), items_add=frozenset({525100}), confidence=0.035576923076923075, lift=1.7331643852934753)]),\n",
       " RelationRecord(items=frozenset({760176, 525100}), support=0.00017174963809897685, ordered_statistics=[OrderedStatistic(items_base=frozenset(), items_add=frozenset({760176, 525100}), confidence=0.00017174963809897685, lift=1.0), OrderedStatistic(items_base=frozenset({525100}), items_add=frozenset({760176}), confidence=0.008366950545345883, lift=2.453322326450807), OrderedStatistic(items_base=frozenset({760176}), items_add=frozenset({525100}), confidence=0.050359712230215826, lift=2.453322326450807)]),\n",
       " RelationRecord(items=frozenset({764515, 525100}), support=0.00011347743945825257, ordered_statistics=[OrderedStatistic(items_base=frozenset(), items_add=frozenset({764515, 525100}), confidence=0.00011347743945825257, lift=1.0), OrderedStatistic(items_base=frozenset({525100}), items_add=frozenset({764515}), confidence=0.005528163753174958, lift=1.0431081948525545), OrderedStatistic(items_base=frozenset({764515}), items_add=frozenset({525100}), confidence=0.02141203703703704, lift=1.0431081948525547)]),\n",
       " RelationRecord(items=frozenset({778460, 525100}), support=0.00017481659592217288, ordered_statistics=[OrderedStatistic(items_base=frozenset(), items_add=frozenset({778460, 525100}), confidence=0.00017481659592217288, lift=1.0), OrderedStatistic(items_base=frozenset({525100}), items_add=frozenset({778460}), confidence=0.008516360376512775, lift=2.3979364412126505), OrderedStatistic(items_base=frozenset({778460}), items_add=frozenset({525100}), confidence=0.04922279792746114, lift=2.3979364412126505)]),\n",
       " RelationRecord(items=frozenset({525100, 778581}), support=0.00023308879456289717, ordered_statistics=[OrderedStatistic(items_base=frozenset(), items_add=frozenset({525100, 778581}), confidence=0.00023308879456289717, lift=1.0), OrderedStatistic(items_base=frozenset({525100}), items_add=frozenset({778581}), confidence=0.011355147168683698, lift=1.5311885298727592), OrderedStatistic(items_base=frozenset({778581}), items_add=frozenset({525100}), confidence=0.03143093465674111, lift=1.5311885298727592)]),\n",
       " RelationRecord(items=frozenset({778616, 525100}), support=0.00022388792109330913, ordered_statistics=[OrderedStatistic(items_base=frozenset(), items_add=frozenset({778616, 525100}), confidence=0.00022388792109330913, lift=1.0), OrderedStatistic(items_base=frozenset({525100}), items_add=frozenset({778616}), confidence=0.010906917675183026, lift=2.017167299772817), OrderedStatistic(items_base=frozenset({778616}), items_add=frozenset({525100}), confidence=0.041406693136698806, lift=2.017167299772817)]),\n",
       " RelationRecord(items=frozenset({525100, 778621}), support=0.0001380131020438207, ordered_statistics=[OrderedStatistic(items_base=frozenset(), items_add=frozenset({525100, 778621}), confidence=0.0001380131020438207, lift=1.0), OrderedStatistic(items_base=frozenset({525100}), items_add=frozenset({778621}), confidence=0.006723442402510085, lift=1.2005579058011107), OrderedStatistic(items_base=frozenset({778621}), items_add=frozenset({525100}), confidence=0.02464403066812705, lift=1.2005579058011107)]),\n",
       " RelationRecord(items=frozenset({525100, 778629}), support=0.0003434992761979537, ordered_statistics=[OrderedStatistic(items_base=frozenset(), items_add=frozenset({525100, 778629}), confidence=0.0003434992761979537, lift=1.0), OrderedStatistic(items_base=frozenset({525100}), items_add=frozenset({778629}), confidence=0.016733901090691766, lift=1.4105969115890884), OrderedStatistic(items_base=frozenset({778629}), items_add=frozenset({525100}), confidence=0.028955532574974144, lift=1.4105969115890884)]),\n",
       " RelationRecord(items=frozenset({778636, 525100}), support=0.00024228966803248523, ordered_statistics=[OrderedStatistic(items_base=frozenset(), items_add=frozenset({778636, 525100}), confidence=0.00024228966803248523, lift=1.0), OrderedStatistic(items_base=frozenset({525100}), items_add=frozenset({778636}), confidence=0.011803376662184372, lift=1.958555613722742), OrderedStatistic(items_base=frozenset({778636}), items_add=frozenset({525100}), confidence=0.04020356234096693, lift=1.9585556137227418)]),\n",
       " RelationRecord(items=frozenset({807104, 525100}), support=0.0001012096081654685, ordered_statistics=[OrderedStatistic(items_base=frozenset(), items_add=frozenset({807104, 525100}), confidence=0.0001012096081654685, lift=1.0), OrderedStatistic(items_base=frozenset({525100}), items_add=frozenset({807104}), confidence=0.004930524428507396, lift=1.0847686053045935), OrderedStatistic(items_base=frozenset({807104}), items_add=frozenset({525100}), confidence=0.022267206477732795, lift=1.0847686053045935)]),\n",
       " RelationRecord(items=frozenset({823667, 525100}), support=0.00012267831292784063, ordered_statistics=[OrderedStatistic(items_base=frozenset(), items_add=frozenset({823667, 525100}), confidence=0.00012267831292784063, lift=1.0), OrderedStatistic(items_base=frozenset({525100}), items_add=frozenset({823667}), confidence=0.005976393246675631, lift=5.6482286273567235), OrderedStatistic(items_base=frozenset({823667}), items_add=frozenset({525100}), confidence=0.11594202898550725, lift=5.6482286273567235)]),\n",
       " RelationRecord(items=frozenset({823668, 525100}), support=0.0002177540054469171, ordered_statistics=[OrderedStatistic(items_base=frozenset(), items_add=frozenset({823668, 525100}), confidence=0.0002177540054469171, lift=1.0), OrderedStatistic(items_base=frozenset({525100}), items_add=frozenset({823668}), confidence=0.010608098012849246, lift=5.24065758435996), OrderedStatistic(items_base=frozenset({823668}), items_add=frozenset({525100}), confidence=0.10757575757575759, lift=5.24065758435996)]),\n",
       " RelationRecord(items=frozenset({823706, 525100}), support=0.00017788355374536889, ordered_statistics=[OrderedStatistic(items_base=frozenset(), items_add=frozenset({823706, 525100}), confidence=0.00017788355374536889, lift=1.0), OrderedStatistic(items_base=frozenset({525100}), items_add=frozenset({823706}), confidence=0.008665770207679665, lift=5.291247885459177), OrderedStatistic(items_base=frozenset({823706}), items_add=frozenset({525100}), confidence=0.10861423220973782, lift=5.2912478854591765)]),\n",
       " RelationRecord(items=frozenset({823712, 525100}), support=0.00020548617415413304, ordered_statistics=[OrderedStatistic(items_base=frozenset(), items_add=frozenset({823712, 525100}), confidence=0.00020548617415413304, lift=1.0), OrderedStatistic(items_base=frozenset({525100}), items_add=frozenset({823712}), confidence=0.010010458688181682, lift=4.179219101195603), OrderedStatistic(items_base=frozenset({823712}), items_add=frozenset({525100}), confidence=0.08578745198463508, lift=4.179219101195604)]),\n",
       " RelationRecord(items=frozenset({823737, 525100}), support=0.0002974949088500135, ordered_statistics=[OrderedStatistic(items_base=frozenset(), items_add=frozenset({823737, 525100}), confidence=0.0002974949088500135, lift=1.0), OrderedStatistic(items_base=frozenset({525100}), items_add=frozenset({823737}), confidence=0.014492753623188406, lift=6.267174105255066), OrderedStatistic(items_base=frozenset({823737}), items_add=frozenset({525100}), confidence=0.12864721485411143, lift=6.267174105255066)]),\n",
       " RelationRecord(items=frozenset({614153, 614212}), support=0.0001012096081654685, ordered_statistics=[OrderedStatistic(items_base=frozenset(), items_add=frozenset({614153, 614212}), confidence=0.0001012096081654685, lift=1.0), OrderedStatistic(items_base=frozenset({614153}), items_add=frozenset({614212}), confidence=0.0967741935483871, lift=73.21068782276775), OrderedStatistic(items_base=frozenset({614212}), items_add=frozenset({614153}), confidence=0.0765661252900232, lift=73.21068782276775)]),\n",
       " RelationRecord(items=frozenset({614153, 678042}), support=0.0001012096081654685, ordered_statistics=[OrderedStatistic(items_base=frozenset(), items_add=frozenset({614153, 678042}), confidence=0.0001012096081654685, lift=1.0), OrderedStatistic(items_base=frozenset({614153}), items_add=frozenset({678042}), confidence=0.0967741935483871, lift=23.065647990945102), OrderedStatistic(items_base=frozenset({678042}), items_add=frozenset({614153}), confidence=0.02412280701754386, lift=23.065647990945106)]),\n",
       " RelationRecord(items=frozenset({614680, 614705}), support=0.0001196113551046446, ordered_statistics=[OrderedStatistic(items_base=frozenset(), items_add=frozenset({614680, 614705}), confidence=0.0001196113551046446, lift=1.0), OrderedStatistic(items_base=frozenset({614680}), items_add=frozenset({614705}), confidence=0.1266233766233766, lift=77.02670091102925), OrderedStatistic(items_base=frozenset({614705}), items_add=frozenset({614680}), confidence=0.07276119402985075, lift=77.02670091102927)]),\n",
       " RelationRecord(items=frozenset({614680, 614706}), support=0.0001012096081654685, ordered_statistics=[OrderedStatistic(items_base=frozenset(), items_add=frozenset({614680, 614706}), confidence=0.0001012096081654685, lift=1.0), OrderedStatistic(items_base=frozenset({614680}), items_add=frozenset({614706}), confidence=0.10714285714285714, lift=146.78391356542616), OrderedStatistic(items_base=frozenset({614706}), items_add=frozenset({614680}), confidence=0.13865546218487396, lift=146.78391356542616)]),\n",
       " RelationRecord(items=frozenset({614680, 614718}), support=0.0001410800598670167, ordered_statistics=[OrderedStatistic(items_base=frozenset(), items_add=frozenset({614680, 614718}), confidence=0.0001410800598670167, lift=1.0), OrderedStatistic(items_base=frozenset({614680}), items_add=frozenset({614718}), confidence=0.14935064935064932, lift=49.53883552866258), OrderedStatistic(items_base=frozenset({614718}), items_add=frozenset({614680}), confidence=0.046795523906408946, lift=49.53883552866258)]),\n",
       " RelationRecord(items=frozenset({614680, 627393}), support=0.00011347743945825257, ordered_statistics=[OrderedStatistic(items_base=frozenset(), items_add=frozenset({614680, 627393}), confidence=0.00011347743945825257, lift=1.0), OrderedStatistic(items_base=frozenset({614680}), items_add=frozenset({627393}), confidence=0.12012987012987013, lift=148.9318058367488), OrderedStatistic(items_base=frozenset({627393}), items_add=frozenset({614680}), confidence=0.14068441064638784, lift=148.9318058367488)]),\n",
       " RelationRecord(items=frozenset({753314, 614682}), support=0.00013494614422062467, ordered_statistics=[OrderedStatistic(items_base=frozenset(), items_add=frozenset({753314, 614682}), confidence=0.00013494614422062467, lift=1.0), OrderedStatistic(items_base=frozenset({614682}), items_add=frozenset({753314}), confidence=0.05520702634880802, lift=7.2524505169971585), OrderedStatistic(items_base=frozenset({753314}), items_add=frozenset({614682}), confidence=0.0177276390008058, lift=7.252450516997159)]),\n",
       " RelationRecord(items=frozenset({614682, 753342}), support=0.00013494614422062467, ordered_statistics=[OrderedStatistic(items_base=frozenset(), items_add=frozenset({614682, 753342}), confidence=0.00013494614422062467, lift=1.0), OrderedStatistic(items_base=frozenset({614682}), items_add=frozenset({753342}), confidence=0.05520702634880802, lift=5.28806762138277), OrderedStatistic(items_base=frozenset({753342}), items_add=frozenset({614682}), confidence=0.012925969447708578, lift=5.28806762138277)]),\n",
       " RelationRecord(items=frozenset({614682, 753517}), support=0.00038336972789950195, ordered_statistics=[OrderedStatistic(items_base=frozenset(), items_add=frozenset({614682, 753517}), confidence=0.00038336972789950195, lift=1.0), OrderedStatistic(items_base=frozenset({614682}), items_add=frozenset({753517}), confidence=0.15683814303638646, lift=8.277438906745228), OrderedStatistic(items_base=frozenset({753517}), items_add=frozenset({614682}), confidence=0.020233085140822275, lift=8.27743890674523)]),\n",
       " RelationRecord(items=frozenset({614682, 753549}), support=0.00010427656598866452, ordered_statistics=[OrderedStatistic(items_base=frozenset(), items_add=frozenset({614682, 753549}), confidence=0.00010427656598866452, lift=1.0), OrderedStatistic(items_base=frozenset({614682}), items_add=frozenset({753549}), confidence=0.04265997490589711, lift=7.166172477031009), OrderedStatistic(items_base=frozenset({753549}), items_add=frozenset({614682}), confidence=0.01751674394641937, lift=7.16617247703101)]),\n",
       " RelationRecord(items=frozenset({753570, 614682}), support=0.0001012096081654685, ordered_statistics=[OrderedStatistic(items_base=frozenset(), items_add=frozenset({753570, 614682}), confidence=0.0001012096081654685, lift=1.0), OrderedStatistic(items_base=frozenset({614682}), items_add=frozenset({753570}), confidence=0.04140526976160602, lift=9.128084271392977), OrderedStatistic(items_base=frozenset({753570}), items_add=frozenset({614682}), confidence=0.02231237322515213, lift=9.128084271392977)]),\n",
       " RelationRecord(items=frozenset({614682, 753583}), support=0.00010734352381186054, ordered_statistics=[OrderedStatistic(items_base=frozenset(), items_add=frozenset({614682, 753583}), confidence=0.00010734352381186054, lift=1.0), OrderedStatistic(items_base=frozenset({614682}), items_add=frozenset({753583}), confidence=0.043914680050188205, lift=6.9915258390840656), OrderedStatistic(items_base=frozenset({753583}), items_add=frozenset({614682}), confidence=0.01708984375, lift=6.9915258390840656)]),\n",
       " RelationRecord(items=frozenset({753600, 614682}), support=0.0005336506612361067, ordered_statistics=[OrderedStatistic(items_base=frozenset(), items_add=frozenset({753600, 614682}), confidence=0.0005336506612361067, lift=1.0), OrderedStatistic(items_base=frozenset({614682}), items_add=frozenset({753600}), confidence=0.21831869510664992, lift=7.384244860134216), OrderedStatistic(items_base=frozenset({753600}), items_add=frozenset({614682}), confidence=0.01804979253112033, lift=7.384244860134216)]),\n",
       " RelationRecord(items=frozenset({753609, 614682}), support=0.0003066957823196015, ordered_statistics=[OrderedStatistic(items_base=frozenset(), items_add=frozenset({753609, 614682}), confidence=0.0003066957823196015, lift=1.0), OrderedStatistic(items_base=frozenset({614682}), items_add=frozenset({753609}), confidence=0.12547051442910914, lift=6.3358237653240845), OrderedStatistic(items_base=frozenset({753609}), items_add=frozenset({614682}), confidence=0.015487068297971193, lift=6.3358237653240845)]),\n",
       " RelationRecord(items=frozenset({614682, 753663}), support=0.00018708442721495695, ordered_statistics=[OrderedStatistic(items_base=frozenset(), items_add=frozenset({614682, 753663}), confidence=0.00018708442721495695, lift=1.0), OrderedStatistic(items_base=frozenset({614682}), items_add=frozenset({753663}), confidence=0.07653701380175659, lift=7.589827424618475), OrderedStatistic(items_base=frozenset({753663}), items_add=frozenset({614682}), confidence=0.018552311435523113, lift=7.589827424618474)]),\n",
       " RelationRecord(items=frozenset({760050, 614682}), support=0.00016254876462938882, ordered_statistics=[OrderedStatistic(items_base=frozenset(), items_add=frozenset({760050, 614682}), confidence=0.00016254876462938882, lift=1.0), OrderedStatistic(items_base=frozenset({614682}), items_add=frozenset({760050}), confidence=0.06649937264742786, lift=8.206858231616101), OrderedStatistic(items_base=frozenset({760050}), items_add=frozenset({614682}), confidence=0.020060560181680547, lift=8.206858231616101)]),\n",
       " RelationRecord(items=frozenset({614690, 614684}), support=0.0001564148489829968, ordered_statistics=[OrderedStatistic(items_base=frozenset(), items_add=frozenset({614690, 614684}), confidence=0.0001564148489829968, lift=1.0), OrderedStatistic(items_base=frozenset({614684}), items_add=frozenset({614690}), confidence=0.053968253968253964, lift=35.193346031746024), OrderedStatistic(items_base=frozenset({614690}), items_add=frozenset({614684}), confidence=0.102, lift=35.193346031746024)]),\n",
       " RelationRecord(items=frozenset({614705, 614684}), support=0.00018095051156856491, ordered_statistics=[OrderedStatistic(items_base=frozenset(), items_add=frozenset({614705, 614684}), confidence=0.00018095051156856491, lift=1.0), OrderedStatistic(items_base=frozenset({614684}), items_add=frozenset({614705}), confidence=0.06243386243386243, lift=37.979357182342255), OrderedStatistic(items_base=frozenset({614705}), items_add=frozenset({614684}), confidence=0.11007462686567164, lift=37.979357182342255)]),\n",
       " RelationRecord(items=frozenset({614684, 614718}), support=0.0002208209632701131, ordered_statistics=[OrderedStatistic(items_base=frozenset(), items_add=frozenset({614684, 614718}), confidence=0.0002208209632701131, lift=1.0), OrderedStatistic(items_base=frozenset({614684}), items_add=frozenset({614718}), confidence=0.07619047619047618, lift=25.271985660998883), OrderedStatistic(items_base=frozenset({614718}), items_add=frozenset({614684}), confidence=0.07324516785350967, lift=25.271985660998883)]),\n",
       " RelationRecord(items=frozenset({614684, 663302}), support=0.0001012096081654685, ordered_statistics=[OrderedStatistic(items_base=frozenset(), items_add=frozenset({614684, 663302}), confidence=0.0001012096081654685, lift=1.0), OrderedStatistic(items_base=frozenset({614684}), items_add=frozenset({663302}), confidence=0.034920634920634915, lift=30.36288677248677), OrderedStatistic(items_base=frozenset({663302}), items_add=frozenset({614684}), confidence=0.08800000000000001, lift=30.362886772486775)]),\n",
       " RelationRecord(items=frozenset({614684, 703671}), support=0.00011347743945825257, ordered_statistics=[OrderedStatistic(items_base=frozenset(), items_add=frozenset({614684, 703671}), confidence=0.00011347743945825257, lift=1.0), OrderedStatistic(items_base=frozenset({614684}), items_add=frozenset({703671}), confidence=0.03915343915343915, lift=27.04706304367321), OrderedStatistic(items_base=frozenset({703671}), items_add=frozenset({614684}), confidence=0.07838983050847458, lift=27.047063043673212)]),\n",
       " RelationRecord(items=frozenset({705523, 614684}), support=0.0001196113551046446, ordered_statistics=[OrderedStatistic(items_base=frozenset(), items_add=frozenset({705523, 614684}), confidence=0.0001196113551046446, lift=1.0), OrderedStatistic(items_base=frozenset({614684}), items_add=frozenset({705523}), confidence=0.04126984126984127, lift=21.599164309918724), OrderedStatistic(items_base=frozenset({705523}), items_add=frozenset({614684}), confidence=0.06260032102728731, lift=21.59916430991872)]),\n",
       " RelationRecord(items=frozenset({705529, 614684}), support=0.00039257060136908996, ordered_statistics=[OrderedStatistic(items_base=frozenset(), items_add=frozenset({705529, 614684}), confidence=0.00039257060136908996, lift=1.0), OrderedStatistic(items_base=frozenset({614684}), items_add=frozenset({705529}), confidence=0.13544973544973543, lift=17.22472657636464), OrderedStatistic(items_base=frozenset({705529}), items_add=frozenset({614684}), confidence=0.0499219968798752, lift=17.22472657636464)]),\n",
       " RelationRecord(items=frozenset({614684, 705572}), support=0.00014414701769021273, ordered_statistics=[OrderedStatistic(items_base=frozenset(), items_add=frozenset({614684, 705572}), confidence=0.00014414701769021273, lift=1.0), OrderedStatistic(items_base=frozenset({614684}), items_add=frozenset({705572}), confidence=0.04973544973544973, lift=10.99426562640122), OrderedStatistic(items_base=frozenset({705572}), items_add=frozenset({614684}), confidence=0.03186440677966102, lift=10.994265626401221)]),\n",
       " RelationRecord(items=frozenset({717676, 614684}), support=0.00010734352381186054, ordered_statistics=[OrderedStatistic(items_base=frozenset(), items_add=frozenset({717676, 614684}), confidence=0.00010734352381186054, lift=1.0), OrderedStatistic(items_base=frozenset({614684}), items_add=frozenset({717676}), confidence=0.037037037037037035, lift=16.20959482972906), OrderedStatistic(items_base=frozenset({717676}), items_add=frozenset({614684}), confidence=0.04697986577181208, lift=16.209594829729056)]),\n",
       " RelationRecord(items=frozenset({723530, 614684}), support=0.00012574527075103663, ordered_statistics=[OrderedStatistic(items_base=frozenset(), items_add=frozenset({723530, 614684}), confidence=0.00012574527075103663, lift=1.0), OrderedStatistic(items_base=frozenset({614684}), items_add=frozenset({723530}), confidence=0.04338624338624338, lift=16.148795631900654), OrderedStatistic(items_base=frozenset({723530}), items_add=frozenset({614684}), confidence=0.04680365296803653, lift=16.148795631900654)]),\n",
       " RelationRecord(items=frozenset({614684, 753517}), support=0.0003036288244964055, ordered_statistics=[OrderedStatistic(items_base=frozenset(), items_add=frozenset({614684, 753517}), confidence=0.0003036288244964055, lift=1.0), OrderedStatistic(items_base=frozenset({614684}), items_add=frozenset({753517}), confidence=0.10476190476190475, lift=5.529013858699841), OrderedStatistic(items_base=frozenset({753517}), items_add=frozenset({614684}), confidence=0.01602460343153124, lift=5.529013858699841)]),\n",
       " RelationRecord(items=frozenset({614684, 753583}), support=0.0001380131020438207, ordered_statistics=[OrderedStatistic(items_base=frozenset(), items_add=frozenset({614684, 753583}), confidence=0.0001380131020438207, lift=1.0), OrderedStatistic(items_base=frozenset({614684}), items_add=frozenset({753583}), confidence=0.047619047619047616, lift=7.5812872023809526), OrderedStatistic(items_base=frozenset({753583}), items_add=frozenset({614684}), confidence=0.02197265625, lift=7.581287202380952)]),\n",
       " RelationRecord(items=frozenset({753600, 614684}), support=0.0002177540054469171, ordered_statistics=[OrderedStatistic(items_base=frozenset(), items_add=frozenset({753600, 614684}), confidence=0.0002177540054469171, lift=1.0), OrderedStatistic(items_base=frozenset({614684}), items_add=frozenset({753600}), confidence=0.07513227513227513, lift=2.541216711673143), OrderedStatistic(items_base=frozenset({753600}), items_add=frozenset({614684}), confidence=0.0073651452282157675, lift=2.541216711673143)]),\n",
       " RelationRecord(items=frozenset({614684, 760332}), support=0.00011654439728144858, ordered_statistics=[OrderedStatistic(items_base=frozenset(), items_add=frozenset({614684, 760332}), confidence=0.00011654439728144858, lift=1.0), OrderedStatistic(items_base=frozenset({614684}), items_add=frozenset({760332}), confidence=0.040211640211640205, lift=4.293139017958926), OrderedStatistic(items_base=frozenset({760332}), items_add=frozenset({614684}), confidence=0.012442698100851343, lift=4.293139017958926)]),\n",
       " RelationRecord(items=frozenset({614689, 753517}), support=0.00015028093333660476, ordered_statistics=[OrderedStatistic(items_base=frozenset(), items_add=frozenset({614689, 753517}), confidence=0.00015028093333660476, lift=1.0), OrderedStatistic(items_base=frozenset({614689}), items_add=frozenset({753517}), confidence=0.11529411764705884, lift=6.084871936472874), OrderedStatistic(items_base=frozenset({753517}), items_add=frozenset({614689}), confidence=0.007931369375202332, lift=6.084871936472874)]),\n",
       " RelationRecord(items=frozenset({753600, 614689}), support=0.0001564148489829968, ordered_statistics=[OrderedStatistic(items_base=frozenset(), items_add=frozenset({753600, 614689}), confidence=0.0001564148489829968, lift=1.0), OrderedStatistic(items_base=frozenset({614689}), items_add=frozenset({753600}), confidence=0.12000000000000001, lift=4.058788381742739), OrderedStatistic(items_base=frozenset({753600}), items_add=frozenset({614689}), confidence=0.005290456431535269, lift=4.058788381742739)]),\n",
       " RelationRecord(items=frozenset({614689, 753609}), support=0.00010427656598866452, ordered_statistics=[OrderedStatistic(items_base=frozenset(), items_add=frozenset({614689, 753609}), confidence=0.00010427656598866452, lift=1.0), OrderedStatistic(items_base=frozenset({614689}), items_add=frozenset({753609}), confidence=0.08, lift=4.039721232770637), OrderedStatistic(items_base=frozenset({753609}), items_add=frozenset({614689}), confidence=0.005265603221310206, lift=4.039721232770637)]),\n",
       " RelationRecord(items=frozenset({614690, 614693}), support=0.0001012096081654685, ordered_statistics=[OrderedStatistic(items_base=frozenset(), items_add=frozenset({614690, 614693}), confidence=0.0001012096081654685, lift=1.0), OrderedStatistic(items_base=frozenset({614690}), items_add=frozenset({614693}), confidence=0.06599999999999999, lift=69.19516398713826), OrderedStatistic(items_base=frozenset({614693}), items_add=frozenset({614690}), confidence=0.10610932475884244, lift=69.19516398713826)]),\n",
       " RelationRecord(items=frozenset({614705, 614690}), support=0.00020855313197732904, ordered_statistics=[OrderedStatistic(items_base=frozenset(), items_add=frozenset({614705, 614690}), confidence=0.00020855313197732904, lift=1.0), OrderedStatistic(items_base=frozenset({614690}), items_add=frozenset({614705}), confidence=0.13599999999999998, lift=82.73062686567162), OrderedStatistic(items_base=frozenset({614705}), items_add=frozenset({614690}), confidence=0.12686567164179105, lift=82.73062686567164)]),\n",
       " RelationRecord(items=frozenset({614690, 614706}), support=0.00011654439728144858, ordered_statistics=[OrderedStatistic(items_base=frozenset(), items_add=frozenset({614690, 614706}), confidence=0.00011654439728144858, lift=1.0), OrderedStatistic(items_base=frozenset({614690}), items_add=frozenset({614706}), confidence=0.076, lift=104.11872268907562), OrderedStatistic(items_base=frozenset({614706}), items_add=frozenset({614690}), confidence=0.15966386554621848, lift=104.11872268907561)]),\n",
       " RelationRecord(items=frozenset({614690, 614718}), support=0.0003158966557891896, ordered_statistics=[OrderedStatistic(items_base=frozenset(), items_add=frozenset({614690, 614718}), confidence=0.0003158966557891896, lift=1.0), OrderedStatistic(items_base=frozenset({614690}), items_add=frozenset({614718}), confidence=0.206, lift=68.32913123092574), OrderedStatistic(items_base=frozenset({614718}), items_add=frozenset({614690}), confidence=0.10478128179043744, lift=68.32913123092574)]),\n",
       " RelationRecord(items=frozenset({705529, 614690}), support=0.0001410800598670167, ordered_statistics=[OrderedStatistic(items_base=frozenset(), items_add=frozenset({705529, 614690}), confidence=0.0001410800598670167, lift=1.0), OrderedStatistic(items_base=frozenset({614690}), items_add=frozenset({705529}), confidence=0.09199999999999998, lift=11.69935725429017), OrderedStatistic(items_base=frozenset({705529}), items_add=frozenset({614690}), confidence=0.01794071762870515, lift=11.699357254290172)]),\n",
       " RelationRecord(items=frozenset({614691, 705572}), support=0.00011347743945825257, ordered_statistics=[OrderedStatistic(items_base=frozenset(), items_add=frozenset({614691, 705572}), confidence=0.00011347743945825257, lift=1.0), OrderedStatistic(items_base=frozenset({614691}), items_add=frozenset({705572}), confidence=0.10422535211267606, lift=23.03952637861065), OrderedStatistic(items_base=frozenset({705572}), items_add=frozenset({614691}), confidence=0.025084745762711864, lift=23.03952637861065)]),\n",
       " RelationRecord(items=frozenset({614691, 753517}), support=0.00011654439728144858, ordered_statistics=[OrderedStatistic(items_base=frozenset(), items_add=frozenset({614691, 753517}), confidence=0.00011654439728144858, lift=1.0), OrderedStatistic(items_base=frozenset({614691}), items_add=frozenset({753517}), confidence=0.10704225352112676, lift=5.649363712218276), OrderedStatistic(items_base=frozenset({753517}), items_add=frozenset({614691}), confidence=0.006150857882809971, lift=5.649363712218276)]),\n",
       " RelationRecord(items=frozenset({753600, 614691}), support=0.00015028093333660476, ordered_statistics=[OrderedStatistic(items_base=frozenset(), items_add=frozenset({753600, 614691}), confidence=0.00015028093333660476, lift=1.0), OrderedStatistic(items_base=frozenset({614691}), items_add=frozenset({753600}), confidence=0.13802816901408452, lift=4.66855940622991), OrderedStatistic(items_base=frozenset({753600}), items_add=frozenset({614691}), confidence=0.00508298755186722, lift=4.668559406229911)]),\n",
       " RelationRecord(items=frozenset({753609, 614691}), support=0.00012267831292784063, ordered_statistics=[OrderedStatistic(items_base=frozenset(), items_add=frozenset({753609, 614691}), confidence=0.00012267831292784063, lift=1.0), OrderedStatistic(items_base=frozenset({614691}), items_add=frozenset({753609}), confidence=0.11267605633802819, lift=5.689748215169912), OrderedStatistic(items_base=frozenset({753609}), items_add=frozenset({614691}), confidence=0.006194827319188479, lift=5.689748215169912)]),\n",
       " RelationRecord(items=frozenset({614693, 614718}), support=0.00012881222857423263, ordered_statistics=[OrderedStatistic(items_base=frozenset(), items_add=frozenset({614693, 614718}), confidence=0.00012881222857423263, lift=1.0), OrderedStatistic(items_base=frozenset({614693}), items_add=frozenset({614718}), confidence=0.135048231511254, lift=44.79479773513066), OrderedStatistic(items_base=frozenset({614718}), items_add=frozenset({614693}), confidence=0.042726347914547304, lift=44.79479773513066)]),\n",
       " RelationRecord(items=frozenset({614718, 614702}), support=0.00010427656598866452, ordered_statistics=[OrderedStatistic(items_base=frozenset(), items_add=frozenset({614702, 614718}), confidence=0.00010427656598866452, lift=1.0), OrderedStatistic(items_base=frozenset({614702}), items_add=frozenset({614718}), confidence=0.13438735177865613, lift=44.57558735660377), OrderedStatistic(items_base=frozenset({614718}), items_add=frozenset({614702}), confidence=0.03458799593082401, lift=44.57558735660377)]),\n",
       " RelationRecord(items=frozenset({614705, 614706}), support=0.00010427656598866452, ordered_statistics=[OrderedStatistic(items_base=frozenset(), items_add=frozenset({614705, 614706}), confidence=0.00010427656598866452, lift=1.0), OrderedStatistic(items_base=frozenset({614705}), items_add=frozenset({614706}), confidence=0.06343283582089553, lift=86.90191897654584), OrderedStatistic(items_base=frozenset({614706}), items_add=frozenset({614705}), confidence=0.14285714285714285, lift=86.90191897654583)]),\n",
       " RelationRecord(items=frozenset({614705, 614716}), support=0.00013187918639742866, ordered_statistics=[OrderedStatistic(items_base=frozenset(), items_add=frozenset({614705, 614716}), confidence=0.00013187918639742866, lift=1.0), OrderedStatistic(items_base=frozenset({614705}), items_add=frozenset({614716}), confidence=0.08022388059701492, lift=106.76521474261345), OrderedStatistic(items_base=frozenset({614716}), items_add=frozenset({614705}), confidence=0.17551020408163265, lift=106.76521474261345)]),\n",
       " RelationRecord(items=frozenset({614705, 614718}), support=0.0004109723483082661, ordered_statistics=[OrderedStatistic(items_base=frozenset(), items_add=frozenset({614705, 614718}), confidence=0.0004109723483082661, lift=1.0), OrderedStatistic(items_base=frozenset({614705}), items_add=frozenset({614718}), confidence=0.25, lift=82.9237029501526), OrderedStatistic(items_base=frozenset({614718}), items_add=frozenset({614705}), confidence=0.13631739572736523, lift=82.9237029501526)]),\n",
       " RelationRecord(items=frozenset({614705, 615545}), support=0.0001380131020438207, ordered_statistics=[OrderedStatistic(items_base=frozenset(), items_add=frozenset({614705, 615545}), confidence=0.0001380131020438207, lift=1.0), OrderedStatistic(items_base=frozenset({614705}), items_add=frozenset({615545}), confidence=0.08395522388059701, lift=52.84576153979138), OrderedStatistic(items_base=frozenset({615545}), items_add=frozenset({614705}), confidence=0.08687258687258687, lift=52.84576153979138)]),\n",
       " RelationRecord(items=frozenset({614705, 760332}), support=0.00010734352381186054, ordered_statistics=[OrderedStatistic(items_base=frozenset(), items_add=frozenset({614705, 760332}), confidence=0.00010734352381186054, lift=1.0), OrderedStatistic(items_base=frozenset({614705}), items_add=frozenset({760332}), confidence=0.06529850746268656, lift=6.971502995826369), OrderedStatistic(items_base=frozenset({760332}), items_add=frozenset({614705}), confidence=0.0114603798297315, lift=6.971502995826369)]),\n",
       " RelationRecord(items=frozenset({614706, 614718}), support=0.00015334789115980076, ordered_statistics=[OrderedStatistic(items_base=frozenset(), items_add=frozenset({614706, 614718}), confidence=0.00015334789115980076, lift=1.0), OrderedStatistic(items_base=frozenset({614706}), items_add=frozenset({614718}), confidence=0.21008403361344535, lift=69.68378399172487), OrderedStatistic(items_base=frozenset({614718}), items_add=frozenset({614706}), confidence=0.050864699898270596, lift=69.68378399172487)]),\n",
       " RelationRecord(items=frozenset({614716, 614718}), support=0.00015028093333660476, ordered_statistics=[OrderedStatistic(items_base=frozenset(), items_add=frozenset({614716, 614718}), confidence=0.00015028093333660476, lift=1.0), OrderedStatistic(items_base=frozenset({614716}), items_add=frozenset({614718}), confidence=0.2, lift=66.33896236012208), OrderedStatistic(items_base=frozenset({614718}), items_add=frozenset({614716}), confidence=0.04984740590030519, lift=66.33896236012208)]),\n",
       " RelationRecord(items=frozenset({615545, 614718}), support=0.00011654439728144858, ordered_statistics=[OrderedStatistic(items_base=frozenset(), items_add=frozenset({615545, 614718}), confidence=0.00011654439728144858, lift=1.0), OrderedStatistic(items_base=frozenset({614718}), items_add=frozenset({615545}), confidence=0.038657171922685654, lift=24.332824031705005), OrderedStatistic(items_base=frozenset({615545}), items_add=frozenset({614718}), confidence=0.07335907335907335, lift=24.332824031705005)]),\n",
       " RelationRecord(items=frozenset({627393, 614718}), support=0.0001012096081654685, ordered_statistics=[OrderedStatistic(items_base=frozenset(), items_add=frozenset({627393, 614718}), confidence=0.0001012096081654685, lift=1.0), OrderedStatistic(items_base=frozenset({614718}), items_add=frozenset({627393}), confidence=0.0335707019328586, lift=41.619501100456816), OrderedStatistic(items_base=frozenset({627393}), items_add=frozenset({614718}), confidence=0.12547528517110265, lift=41.619501100456816)]),\n",
       " RelationRecord(items=frozenset({614718, 663271}), support=0.0001380131020438207, ordered_statistics=[OrderedStatistic(items_base=frozenset(), items_add=frozenset({614718, 663271}), confidence=0.0001380131020438207, lift=1.0), OrderedStatistic(items_base=frozenset({614718}), items_add=frozenset({663271}), confidence=0.04577822990844354, lift=37.13001624633698), OrderedStatistic(items_base=frozenset({663271}), items_add=frozenset({614718}), confidence=0.11194029850746268, lift=37.13001624633698)]),\n",
       " RelationRecord(items=frozenset({614718, 703671}), support=0.00012881222857423263, ordered_statistics=[OrderedStatistic(items_base=frozenset(), items_add=frozenset({614718, 703671}), confidence=0.00012881222857423263, lift=1.0), OrderedStatistic(items_base=frozenset({614718}), items_add=frozenset({703671}), confidence=0.042726347914547304, lift=29.5152163042916), OrderedStatistic(items_base=frozenset({703671}), items_add=frozenset({614718}), confidence=0.08898305084745761, lift=29.5152163042916)]),\n",
       " RelationRecord(items=frozenset({705529, 614718}), support=0.00029442795102681746, ordered_statistics=[OrderedStatistic(items_base=frozenset(), items_add=frozenset({705529, 614718}), confidence=0.00029442795102681746, lift=1.0), OrderedStatistic(items_base=frozenset({614718}), items_add=frozenset({705529}), confidence=0.09766022380467955, lift=12.419150519835647), OrderedStatistic(items_base=frozenset({705529}), items_add=frozenset({614718}), confidence=0.0374414976599064, lift=12.419150519835647)]),\n",
       " RelationRecord(items=frozenset({705572, 614718}), support=0.00012881222857423263, ordered_statistics=[OrderedStatistic(items_base=frozenset(), items_add=frozenset({705572, 614718}), confidence=0.00012881222857423263, lift=1.0), OrderedStatistic(items_base=frozenset({614718}), items_add=frozenset({705572}), confidence=0.042726347914547304, lift=9.444869217373313), OrderedStatistic(items_base=frozenset({705572}), items_add=frozenset({614718}), confidence=0.02847457627118644, lift=9.444869217373313)]),\n",
       " RelationRecord(items=frozenset({705590, 614718}), support=0.0001012096081654685, ordered_statistics=[OrderedStatistic(items_base=frozenset(), items_add=frozenset({614718, 705590}), confidence=0.0001012096081654685, lift=1.0), OrderedStatistic(items_base=frozenset({614718}), items_add=frozenset({705590}), confidence=0.0335707019328586, lift=9.29985453646571), OrderedStatistic(items_base=frozenset({705590}), items_add=frozenset({614718}), confidence=0.028037383177570093, lift=9.29985453646571)]),\n",
       " RelationRecord(items=frozenset({753517, 614718}), support=0.00018401746939176092, ordered_statistics=[OrderedStatistic(items_base=frozenset(), items_add=frozenset({753517, 614718}), confidence=0.00018401746939176092, lift=1.0), OrderedStatistic(items_base=frozenset({614718}), items_add=frozenset({753517}), confidence=0.06103763987792472, lift=3.2213804966067694), OrderedStatistic(items_base=frozenset({753517}), items_add=frozenset({614718}), confidence=0.00971188086759469, lift=3.2213804966067694)]),\n",
       " RelationRecord(items=frozenset({753600, 614718}), support=0.00021162008980052507, ordered_statistics=[OrderedStatistic(items_base=frozenset(), items_add=frozenset({753600, 614718}), confidence=0.00021162008980052507, lift=1.0), OrderedStatistic(items_base=frozenset({614718}), items_add=frozenset({753600}), confidence=0.07019328585961343, lift=2.374164109361215), OrderedStatistic(items_base=frozenset({753600}), items_add=frozenset({614718}), confidence=0.007157676348547718, lift=2.374164109361215)]),\n",
       " RelationRecord(items=frozenset({760332, 614718}), support=0.00010734352381186054, ordered_statistics=[OrderedStatistic(items_base=frozenset(), items_add=frozenset({760332, 614718}), confidence=0.00010734352381186054, lift=1.0), OrderedStatistic(items_base=frozenset({614718}), items_add=frozenset({760332}), confidence=0.03560528992878942, lift=3.801348530786301), OrderedStatistic(items_base=frozenset({760332}), items_add=frozenset({614718}), confidence=0.0114603798297315, lift=3.801348530786301)]),\n",
       " RelationRecord(items=frozenset({630749, 630750}), support=0.00011654439728144858, ordered_statistics=[OrderedStatistic(items_base=frozenset(), items_add=frozenset({630749, 630750}), confidence=0.00011654439728144858, lift=1.0), OrderedStatistic(items_base=frozenset({630749}), items_add=frozenset({630750}), confidence=0.1095100864553314, lift=122.70247680164789), OrderedStatistic(items_base=frozenset({630750}), items_add=frozenset({630749}), confidence=0.13058419243986252, lift=122.70247680164788)]),\n",
       " RelationRecord(items=frozenset({630768, 630749}), support=0.0001410800598670167, ordered_statistics=[OrderedStatistic(items_base=frozenset(), items_add=frozenset({630768, 630749}), confidence=0.0001410800598670167, lift=1.0), OrderedStatistic(items_base=frozenset({630749}), items_add=frozenset({630768}), confidence=0.13256484149855904, lift=146.52054901577685), OrderedStatistic(items_base=frozenset({630768}), items_add=frozenset({630749}), confidence=0.1559322033898305, lift=146.52054901577685)]),\n",
       " RelationRecord(items=frozenset({698128, 630749}), support=0.00010427656598866452, ordered_statistics=[OrderedStatistic(items_base=frozenset(), items_add=frozenset({698128, 630749}), confidence=0.00010427656598866452, lift=1.0), OrderedStatistic(items_base=frozenset({630749}), items_add=frozenset({698128}), confidence=0.09798270893371758, lift=214.41510163820283), OrderedStatistic(items_base=frozenset({698128}), items_add=frozenset({630749}), confidence=0.22818791946308725, lift=214.4151016382028)]),\n",
       " RelationRecord(items=frozenset({630753, 630750}), support=0.00026682533061805333, ordered_statistics=[OrderedStatistic(items_base=frozenset(), items_add=frozenset({630753, 630750}), confidence=0.00026682533061805333, lift=1.0), OrderedStatistic(items_base=frozenset({630750}), items_add=frozenset({630753}), confidence=0.29896907216494845, lift=399.5109007943214), OrderedStatistic(items_base=frozenset({630753}), items_add=frozenset({630750}), confidence=0.3565573770491803, lift=399.51090079432134)]),\n",
       " RelationRecord(items=frozenset({630752, 630758}), support=0.0007790072870917879, ordered_statistics=[OrderedStatistic(items_base=frozenset(), items_add=frozenset({630752, 630758}), confidence=0.0007790072870917879, lift=1.0), OrderedStatistic(items_base=frozenset({630752}), items_add=frozenset({630758}), confidence=0.46098003629764067, lift=216.89077448061116), OrderedStatistic(items_base=frozenset({630758}), items_add=frozenset({630752}), confidence=0.3665223665223665, lift=216.89077448061116)]),\n",
       " RelationRecord(items=frozenset({630752, 682630}), support=0.00018095051156856491, ordered_statistics=[OrderedStatistic(items_base=frozenset(), items_add=frozenset({630752, 682630}), confidence=0.00018095051156856491, lift=1.0), OrderedStatistic(items_base=frozenset({630752}), items_add=frozenset({682630}), confidence=0.10707803992740472, lift=70.96227111091437), OrderedStatistic(items_base=frozenset({682630}), items_add=frozenset({630752}), confidence=0.11991869918699187, lift=70.96227111091437)]),\n",
       " RelationRecord(items=frozenset({630752, 682648}), support=0.00012267831292784063, ordered_statistics=[OrderedStatistic(items_base=frozenset(), items_add=frozenset({630752, 682648}), confidence=0.00012267831292784063, lift=1.0), OrderedStatistic(items_base=frozenset({630752}), items_add=frozenset({682648}), confidence=0.07259528130671507, lift=60.5374093139189), OrderedStatistic(items_base=frozenset({682648}), items_add=frozenset({630752}), confidence=0.10230179028132994, lift=60.5374093139189)]),\n",
       " RelationRecord(items=frozenset({630752, 682658}), support=0.00010734352381186054, ordered_statistics=[OrderedStatistic(items_base=frozenset(), items_add=frozenset({630752, 682658}), confidence=0.00010734352381186054, lift=1.0), OrderedStatistic(items_base=frozenset({630752}), items_add=frozenset({682658}), confidence=0.06352087114337568, lift=70.20800393737119), OrderedStatistic(items_base=frozenset({682658}), items_add=frozenset({630752}), confidence=0.11864406779661017, lift=70.20800393737119)]),\n",
       " RelationRecord(items=frozenset({630752, 682815}), support=0.00015028093333660476, ordered_statistics=[OrderedStatistic(items_base=frozenset(), items_add=frozenset({630752, 682815}), confidence=0.00015028093333660476, lift=1.0), OrderedStatistic(items_base=frozenset({630752}), items_add=frozenset({682815}), confidence=0.08892921960072596, lift=73.78093034639772), OrderedStatistic(items_base=frozenset({682815}), items_add=frozenset({630752}), confidence=0.1246819338422392, lift=73.78093034639772)]),\n",
       " RelationRecord(items=frozenset({630752, 682837}), support=0.00021162008980052507, ordered_statistics=[OrderedStatistic(items_base=frozenset(), items_add=frozenset({630752, 682837}), confidence=0.00021162008980052507, lift=1.0), OrderedStatistic(items_base=frozenset({630752}), items_add=frozenset({682837}), confidence=0.1252268602540835, lift=59.78179962958338), OrderedStatistic(items_base=frozenset({682837}), items_add=frozenset({630752}), confidence=0.10102489019033675, lift=59.781799629583375)]),\n",
       " RelationRecord(items=frozenset({630752, 690889}), support=0.00012881222857423263, ordered_statistics=[OrderedStatistic(items_base=frozenset(), items_add=frozenset({630752, 690889}), confidence=0.00012881222857423263, lift=1.0), OrderedStatistic(items_base=frozenset({630752}), items_add=frozenset({690889}), confidence=0.07622504537205081, lift=71.01038112522686), OrderedStatistic(items_base=frozenset({690889}), items_add=frozenset({630752}), confidence=0.12, lift=71.01038112522686)]),\n",
       " RelationRecord(items=frozenset({630752, 690925}), support=0.00019628530068454498, ordered_statistics=[OrderedStatistic(items_base=frozenset(), items_add=frozenset({630752, 690925}), confidence=0.00019628530068454498, lift=1.0), OrderedStatistic(items_base=frozenset({630752}), items_add=frozenset({690925}), confidence=0.1161524500907441, lift=85.4903008279631), OrderedStatistic(items_base=frozenset({690925}), items_add=frozenset({630752}), confidence=0.14446952595936793, lift=85.49030082796311)]),\n",
       " RelationRecord(items=frozenset({630752, 691184}), support=0.00018095051156856491, ordered_statistics=[OrderedStatistic(items_base=frozenset(), items_add=frozenset({630752, 691184}), confidence=0.00018095051156856491, lift=1.0), OrderedStatistic(items_base=frozenset({630752}), items_add=frozenset({691184}), confidence=0.10707803992740472, lift=76.56455567230235), OrderedStatistic(items_base=frozenset({691184}), items_add=frozenset({630752}), confidence=0.12938596491228072, lift=76.56455567230236)]),\n",
       " RelationRecord(items=frozenset({630752, 694719}), support=0.00011654439728144858, ordered_statistics=[OrderedStatistic(items_base=frozenset(), items_add=frozenset({630752, 694719}), confidence=0.00011654439728144858, lift=1.0), OrderedStatistic(items_base=frozenset({630752}), items_add=frozenset({694719}), confidence=0.06896551724137931, lift=87.83836206896552), OrderedStatistic(items_base=frozenset({694719}), items_add=frozenset({630752}), confidence=0.1484375, lift=87.83836206896552)]),\n",
       " RelationRecord(items=frozenset({630752, 696379}), support=0.0001012096081654685, ordered_statistics=[OrderedStatistic(items_base=frozenset(), items_add=frozenset({630752, 696379}), confidence=0.0001012096081654685, lift=1.0), OrderedStatistic(items_base=frozenset({630752}), items_add=frozenset({696379}), confidence=0.05989110707803993, lift=114.1979813417391), OrderedStatistic(items_base=frozenset({696379}), items_add=frozenset({630752}), confidence=0.19298245614035087, lift=114.1979813417391)]),\n",
       " RelationRecord(items=frozenset({630752, 698186}), support=0.00018401746939176092, ordered_statistics=[OrderedStatistic(items_base=frozenset(), items_add=frozenset({630752, 698186}), confidence=0.00018401746939176092, lift=1.0), OrderedStatistic(items_base=frozenset({630752}), items_add=frozenset({698186}), confidence=0.1088929219600726, lift=79.42995651591372), OrderedStatistic(items_base=frozenset({698186}), items_add=frozenset({630752}), confidence=0.1342281879194631, lift=79.42995651591372)]),\n",
       " RelationRecord(items=frozenset({630752, 698692}), support=0.00019015138503815295, ordered_statistics=[OrderedStatistic(items_base=frozenset(), items_add=frozenset({630752, 698692}), confidence=0.00019015138503815295, lift=1.0), OrderedStatistic(items_base=frozenset({630752}), items_add=frozenset({698692}), confidence=0.11252268602540835, lift=86.12370167770081), OrderedStatistic(items_base=frozenset({698692}), items_add=frozenset({630752}), confidence=0.14553990610328638, lift=86.12370167770081)]),\n",
       " RelationRecord(items=frozenset({630753, 641223}), support=0.00011654439728144858, ordered_statistics=[OrderedStatistic(items_base=frozenset(), items_add=frozenset({630753, 641223}), confidence=0.00011654439728144858, lift=1.0), OrderedStatistic(items_base=frozenset({630753}), items_add=frozenset({641223}), confidence=0.1557377049180328, lift=264.47506830601094), OrderedStatistic(items_base=frozenset({641223}), items_add=frozenset({630753}), confidence=0.19791666666666669, lift=264.47506830601094)]),\n",
       " RelationRecord(items=frozenset({630768, 630758}), support=0.00014414701769021273, ordered_statistics=[OrderedStatistic(items_base=frozenset(), items_add=frozenset({630768, 630758}), confidence=0.00014414701769021273, lift=1.0), OrderedStatistic(items_base=frozenset({630758}), items_add=frozenset({630768}), confidence=0.06782106782106782, lift=74.96090199819014), OrderedStatistic(items_base=frozenset({630768}), items_add=frozenset({630758}), confidence=0.1593220338983051, lift=74.96090199819014)]),\n",
       " RelationRecord(items=frozenset({638074, 630758}), support=0.00016868268027578085, ordered_statistics=[OrderedStatistic(items_base=frozenset(), items_add=frozenset({638074, 630758}), confidence=0.00016868268027578085, lift=1.0), OrderedStatistic(items_base=frozenset({630758}), items_add=frozenset({638074}), confidence=0.07936507936507936, lift=126.85029567382507), OrderedStatistic(items_base=frozenset({638074}), items_add=frozenset({630758}), confidence=0.2696078431372549, lift=126.85029567382507)]),\n",
       " RelationRecord(items=frozenset({682630, 630758}), support=0.0002361557523860932, ordered_statistics=[OrderedStatistic(items_base=frozenset(), items_add=frozenset({630758, 682630}), confidence=0.0002361557523860932, lift=1.0), OrderedStatistic(items_base=frozenset({630758}), items_add=frozenset({682630}), confidence=0.11111111111111112, lift=73.63504968383018), OrderedStatistic(items_base=frozenset({682630}), items_add=frozenset({630758}), confidence=0.15650406504065043, lift=73.63504968383018)]),\n",
       " RelationRecord(items=frozenset({682648, 630758}), support=0.00020548617415413304, ordered_statistics=[OrderedStatistic(items_base=frozenset(), items_add=frozenset({682648, 630758}), confidence=0.00020548617415413304, lift=1.0), OrderedStatistic(items_base=frozenset({630758}), items_add=frozenset({682648}), confidence=0.09668109668109669, lift=80.62263851522165), OrderedStatistic(items_base=frozenset({682648}), items_add=frozenset({630758}), confidence=0.17135549872122763, lift=80.62263851522164)]),\n",
       " RelationRecord(items=frozenset({682658, 630758}), support=0.0001380131020438207, ordered_statistics=[OrderedStatistic(items_base=frozenset(), items_add=frozenset({682658, 630758}), confidence=0.0001380131020438207, lift=1.0), OrderedStatistic(items_base=frozenset({630758}), items_add=frozenset({682658}), confidence=0.06493506493506493, lift=71.77107638124586), OrderedStatistic(items_base=frozenset({682658}), items_add=frozenset({630758}), confidence=0.15254237288135594, lift=71.77107638124588)]),\n",
       " RelationRecord(items=frozenset({630758, 682815}), support=0.00023002183673970117, ordered_statistics=[OrderedStatistic(items_base=frozenset(), items_add=frozenset({630758, 682815}), confidence=0.00023002183673970117, lift=1.0), OrderedStatistic(items_base=frozenset({630758}), items_add=frozenset({682815}), confidence=0.10822510822510822, lift=89.78993864490049), OrderedStatistic(items_base=frozenset({682815}), items_add=frozenset({630758}), confidence=0.19083969465648856, lift=89.78993864490047)]),\n",
       " RelationRecord(items=frozenset({682837, 630758}), support=0.0003711018966067179, ordered_statistics=[OrderedStatistic(items_base=frozenset(), items_add=frozenset({682837, 630758}), confidence=0.0003711018966067179, lift=1.0), OrderedStatistic(items_base=frozenset({630758}), items_add=frozenset({682837}), confidence=0.17460317460317462, lift=83.35345929489415), OrderedStatistic(items_base=frozenset({682837}), items_add=frozenset({630758}), confidence=0.17715959004392387, lift=83.35345929489414)]),\n",
       " RelationRecord(items=frozenset({690889, 630758}), support=0.00018708442721495695, ordered_statistics=[OrderedStatistic(items_base=frozenset(), items_add=frozenset({690889, 630758}), confidence=0.00018708442721495695, lift=1.0), OrderedStatistic(items_base=frozenset({630758}), items_add=frozenset({690889}), confidence=0.08802308802308803, lift=82.00130282415998), OrderedStatistic(items_base=frozenset({690889}), items_add=frozenset({630758}), confidence=0.1742857142857143, lift=82.00130282415996)]),\n",
       " RelationRecord(items=frozenset({690901, 630758}), support=0.0001012096081654685, ordered_statistics=[OrderedStatistic(items_base=frozenset(), items_add=frozenset({690901, 630758}), confidence=0.0001012096081654685, lift=1.0), OrderedStatistic(items_base=frozenset({630758}), items_add=frozenset({690901}), confidence=0.047619047619047616, lift=87.72020446596717), OrderedStatistic(items_base=frozenset({690901}), items_add=frozenset({630758}), confidence=0.18644067796610167, lift=87.72020446596716)]),\n",
       " RelationRecord(items=frozenset({690925, 630758}), support=0.0002208209632701131, ordered_statistics=[OrderedStatistic(items_base=frozenset(), items_add=frozenset({690925, 630758}), confidence=0.0002208209632701131, lift=1.0), OrderedStatistic(items_base=frozenset({630758}), items_add=frozenset({690925}), confidence=0.10389610389610389, lift=76.46940869514232), OrderedStatistic(items_base=frozenset({690925}), items_add=frozenset({630758}), confidence=0.16252821670428894, lift=76.46940869514232)]),\n",
       " RelationRecord(items=frozenset({691184, 630758}), support=0.00021162008980052507, ordered_statistics=[OrderedStatistic(items_base=frozenset(), items_add=frozenset({691184, 630758}), confidence=0.00021162008980052507, lift=1.0), OrderedStatistic(items_base=frozenset({630758}), items_add=frozenset({691184}), confidence=0.09956709956709957, lift=71.19396977291714), OrderedStatistic(items_base=frozenset({691184}), items_add=frozenset({630758}), confidence=0.1513157894736842, lift=71.19396977291714)]),\n",
       " RelationRecord(items=frozenset({630758, 694719}), support=0.00018095051156856491, ordered_statistics=[OrderedStatistic(items_base=frozenset(), items_add=frozenset({630758, 694719}), confidence=0.00018095051156856491, lift=1.0), OrderedStatistic(items_base=frozenset({630758}), items_add=frozenset({694719}), confidence=0.08513708513708514, lift=108.43538059163059), OrderedStatistic(items_base=frozenset({694719}), items_add=frozenset({630758}), confidence=0.23046875000000003, lift=108.4353805916306)]),\n",
       " RelationRecord(items=frozenset({698186, 630758}), support=0.00025455749932526927, ordered_statistics=[OrderedStatistic(items_base=frozenset(), items_add=frozenset({698186, 630758}), confidence=0.00025455749932526927, lift=1.0), OrderedStatistic(items_base=frozenset({630758}), items_add=frozenset({698186}), confidence=0.11976911976911976, lift=87.36340070568258), OrderedStatistic(items_base=frozenset({698186}), items_add=frozenset({630758}), confidence=0.1856823266219239, lift=87.36340070568257)]),\n",
       " RelationRecord(items=frozenset({698692, 630758}), support=0.00018401746939176092, ordered_statistics=[OrderedStatistic(items_base=frozenset(), items_add=frozenset({698692, 630758}), confidence=0.00018401746939176092, lift=1.0), OrderedStatistic(items_base=frozenset({630758}), items_add=frozenset({698692}), confidence=0.08658008658008658, lift=66.26750401398289), OrderedStatistic(items_base=frozenset({698692}), items_add=frozenset({630758}), confidence=0.14084507042253522, lift=66.26750401398289)]),\n",
       " RelationRecord(items=frozenset({630768, 682658}), support=0.0001196113551046446, ordered_statistics=[OrderedStatistic(items_base=frozenset(), items_add=frozenset({630768, 682658}), confidence=0.0001196113551046446, lift=1.0), OrderedStatistic(items_base=frozenset({630768}), items_add=frozenset({682658}), confidence=0.13220338983050847, lift=146.12104567652972), OrderedStatistic(items_base=frozenset({682658}), items_add=frozenset({630768}), confidence=0.13220338983050847, lift=146.12104567652972)]),\n",
       " RelationRecord(items=frozenset({635448, 635457}), support=0.0004447088843634222, ordered_statistics=[OrderedStatistic(items_base=frozenset(), items_add=frozenset({635448, 635457}), confidence=0.0004447088843634222, lift=1.0), OrderedStatistic(items_base=frozenset({635448}), items_add=frozenset({635457}), confidence=0.2695167286245353, lift=288.12310317508684), OrderedStatistic(items_base=frozenset({635457}), items_add=frozenset({635448}), confidence=0.47540983606557374, lift=288.12310317508684)]),\n",
       " RelationRecord(items=frozenset({635448, 635458}), support=0.0003158966557891896, ordered_statistics=[OrderedStatistic(items_base=frozenset(), items_add=frozenset({635448, 635458}), confidence=0.0003158966557891896, lift=1.0), OrderedStatistic(items_base=frozenset({635448}), items_add=frozenset({635458}), confidence=0.19144981412639403, lift=247.71174839204576), OrderedStatistic(items_base=frozenset({635458}), items_add=frozenset({635448}), confidence=0.4087301587301587, lift=247.7117483920458)]),\n",
       " RelationRecord(items=frozenset({635448, 635463}), support=0.000199352258507741, ordered_statistics=[OrderedStatistic(items_base=frozenset(), items_add=frozenset({635448, 635463}), confidence=0.000199352258507741, lift=1.0), OrderedStatistic(items_base=frozenset({635448}), items_add=frozenset({635463}), confidence=0.120817843866171, lift=271.67850275605696), OrderedStatistic(items_base=frozenset({635463}), items_add=frozenset({635448}), confidence=0.4482758620689656, lift=271.67850275605696)]),\n",
       " RelationRecord(items=frozenset({635448, 637930}), support=0.00013187918639742866, ordered_statistics=[OrderedStatistic(items_base=frozenset(), items_add=frozenset({635448, 637930}), confidence=0.00013187918639742866, lift=1.0), OrderedStatistic(items_base=frozenset({635448}), items_add=frozenset({637930}), confidence=0.07992565055762081, lift=34.425677566995525), OrderedStatistic(items_base=frozenset({637930}), items_add=frozenset({635448}), confidence=0.056803170409511224, lift=34.425677566995525)]),\n",
       " RelationRecord(items=frozenset({635448, 643281}), support=0.00015334789115980076, ordered_statistics=[OrderedStatistic(items_base=frozenset(), items_add=frozenset({635448, 643281}), confidence=0.00015334789115980076, lift=1.0), OrderedStatistic(items_base=frozenset({635448}), items_add=frozenset({643281}), confidence=0.09293680297397769, lift=71.30024054231357), OrderedStatistic(items_base=frozenset({643281}), items_add=frozenset({635448}), confidence=0.11764705882352941, lift=71.30024054231357)]),\n",
       " RelationRecord(items=frozenset({635448, 643285}), support=0.00010734352381186054, ordered_statistics=[OrderedStatistic(items_base=frozenset(), items_add=frozenset({635448, 643285}), confidence=0.00010734352381186054, lift=1.0), OrderedStatistic(items_base=frozenset({635448}), items_add=frozenset({643285}), confidence=0.06505576208178439, lift=40.79196454103517), OrderedStatistic(items_base=frozenset({643285}), items_add=frozenset({635448}), confidence=0.0673076923076923, lift=40.79196454103517)]),\n",
       " RelationRecord(items=frozenset({635448, 719675}), support=0.0001012096081654685, ordered_statistics=[OrderedStatistic(items_base=frozenset(), items_add=frozenset({635448, 719675}), confidence=0.0001012096081654685, lift=1.0), OrderedStatistic(items_base=frozenset({635448}), items_add=frozenset({719675}), confidence=0.061338289962825275, lift=98.03783074568116), OrderedStatistic(items_base=frozenset({719675}), items_add=frozenset({635448}), confidence=0.16176470588235292, lift=98.03783074568116)]),\n",
       " RelationRecord(items=frozenset({635448, 720554}), support=0.00011654439728144858, ordered_statistics=[OrderedStatistic(items_base=frozenset(), items_add=frozenset({635448, 720554}), confidence=0.00011654439728144858, lift=1.0), OrderedStatistic(items_base=frozenset({635448}), items_add=frozenset({720554}), confidence=0.07063197026022304, lift=47.87937150762429), OrderedStatistic(items_base=frozenset({720554}), items_add=frozenset({635448}), confidence=0.07900207900207899, lift=47.87937150762429)]),\n",
       " RelationRecord(items=frozenset({635457, 635458}), support=0.0002729592462644454, ordered_statistics=[OrderedStatistic(items_base=frozenset(), items_add=frozenset({635457, 635458}), confidence=0.0002729592462644454, lift=1.0), OrderedStatistic(items_base=frozenset({635457}), items_add=frozenset({635458}), confidence=0.2918032786885246, lift=377.5563882383555), OrderedStatistic(items_base=frozenset({635458}), items_add=frozenset({635457}), confidence=0.3531746031746032, lift=377.5563882383555)]),\n",
       " RelationRecord(items=frozenset({635457, 635463}), support=0.00017481659592217288, ordered_statistics=[OrderedStatistic(items_base=frozenset(), items_add=frozenset({635457, 635463}), confidence=0.00017481659592217288, lift=1.0), OrderedStatistic(items_base=frozenset({635457}), items_add=frozenset({635463}), confidence=0.18688524590163935, lift=420.2417637083098), OrderedStatistic(items_base=frozenset({635463}), items_add=frozenset({635457}), confidence=0.3931034482758621, lift=420.2417637083098)]),\n",
       " RelationRecord(items=frozenset({635458, 635463}), support=0.0001380131020438207, ordered_statistics=[OrderedStatistic(items_base=frozenset(), items_add=frozenset({635458, 635463}), confidence=0.0001380131020438207, lift=1.0), OrderedStatistic(items_base=frozenset({635458}), items_add=frozenset({635463}), confidence=0.17857142857142858, lift=401.54679802955667), OrderedStatistic(items_base=frozenset({635463}), items_add=frozenset({635458}), confidence=0.3103448275862069, lift=401.54679802955667)]),\n",
       " RelationRecord(items=frozenset({637938, 637930}), support=0.0004140393061314621, ordered_statistics=[OrderedStatistic(items_base=frozenset(), items_add=frozenset({637930, 637938}), confidence=0.0004140393061314621, lift=1.0), OrderedStatistic(items_base=frozenset({637930}), items_add=frozenset({637938}), confidence=0.178335535006605, lift=181.14445857356264), OrderedStatistic(items_base=frozenset({637938}), items_add=frozenset({637930}), confidence=0.4205607476635514, lift=181.14445857356262)]),\n",
       " RelationRecord(items=frozenset({637930, 641493}), support=0.0002790931619108374, ordered_statistics=[OrderedStatistic(items_base=frozenset(), items_add=frozenset({637930, 641493}), confidence=0.0002790931619108374, lift=1.0), OrderedStatistic(items_base=frozenset({637930}), items_add=frozenset({641493}), confidence=0.12021136063408189, lift=189.35089566621355), OrderedStatistic(items_base=frozenset({641493}), items_add=frozenset({637930}), confidence=0.4396135265700483, lift=189.35089566621357)]),\n",
       " RelationRecord(items=frozenset({637930, 641494}), support=0.00012881222857423263, ordered_statistics=[OrderedStatistic(items_base=frozenset(), items_add=frozenset({637930, 641494}), confidence=0.00012881222857423263, lift=1.0), OrderedStatistic(items_base=frozenset({637930}), items_add=frozenset({641494}), confidence=0.05548216644649933, lift=118.23721086849534), OrderedStatistic(items_base=frozenset({641494}), items_add=frozenset({637930}), confidence=0.2745098039215686, lift=118.23721086849534)]),\n",
       " RelationRecord(items=frozenset({641504, 637930}), support=0.00013187918639742866, ordered_statistics=[OrderedStatistic(items_base=frozenset(), items_add=frozenset({641504, 637930}), confidence=0.00013187918639742866, lift=1.0), OrderedStatistic(items_base=frozenset({637930}), items_add=frozenset({641504}), confidence=0.056803170409511224, lift=181.5785738337607), OrderedStatistic(items_base=frozenset({641504}), items_add=frozenset({637930}), confidence=0.4215686274509804, lift=181.57857383376071)]),\n",
       " RelationRecord(items=frozenset({643281, 637930}), support=0.00019321834286134898, ordered_statistics=[OrderedStatistic(items_base=frozenset(), items_add=frozenset({643281, 637930}), confidence=0.00019321834286134898, lift=1.0), OrderedStatistic(items_base=frozenset({637930}), items_add=frozenset({643281}), confidence=0.083223249669749, lift=63.84809386898749), OrderedStatistic(items_base=frozenset({643281}), items_add=frozenset({637930}), confidence=0.14823529411764708, lift=63.8480938689875)]),\n",
       " RelationRecord(items=frozenset({637930, 643285}), support=0.0004539097578330103, ordered_statistics=[OrderedStatistic(items_base=frozenset(), items_add=frozenset({637930, 643285}), confidence=0.0004539097578330103, lift=1.0), OrderedStatistic(items_base=frozenset({637930}), items_add=frozenset({643285}), confidence=0.19550858652575956, lift=122.58989940046742), OrderedStatistic(items_base=frozenset({643285}), items_add=frozenset({637930}), confidence=0.2846153846153846, lift=122.58989940046742)]),\n",
       " RelationRecord(items=frozenset({643288, 637930}), support=0.0003588340653139338, ordered_statistics=[OrderedStatistic(items_base=frozenset(), items_add=frozenset({643288, 637930}), confidence=0.0003588340653139338, lift=1.0), OrderedStatistic(items_base=frozenset({637930}), items_add=frozenset({643288}), confidence=0.154557463672391, lift=102.21985471635927), OrderedStatistic(items_base=frozenset({643288}), items_add=frozenset({637930}), confidence=0.23732251521298176, lift=102.21985471635928)]),\n",
       " RelationRecord(items=frozenset({637930, 719575}), support=0.00011654439728144858, ordered_statistics=[OrderedStatistic(items_base=frozenset(), items_add=frozenset({637930, 719575}), confidence=0.00011654439728144858, lift=1.0), OrderedStatistic(items_base=frozenset({637930}), items_add=frozenset({719575}), confidence=0.05019815059445178, lift=48.71252437566837), OrderedStatistic(items_base=frozenset({719575}), items_add=frozenset({637930}), confidence=0.11309523809523811, lift=48.71252437566837)]),\n",
       " RelationRecord(items=frozenset({720513, 637930}), support=0.0002177540054469171, ordered_statistics=[OrderedStatistic(items_base=frozenset(), items_add=frozenset({720513, 637930}), confidence=0.0002177540054469171, lift=1.0), OrderedStatistic(items_base=frozenset({637930}), items_add=frozenset({720513}), confidence=0.09379128137384413, lift=84.24575768493146), OrderedStatistic(items_base=frozenset({720513}), items_add=frozenset({637930}), confidence=0.19559228650137742, lift=84.24575768493146)]),\n",
       " RelationRecord(items=frozenset({720554, 637930}), support=0.00022695487891650514, ordered_statistics=[OrderedStatistic(items_base=frozenset(), items_add=frozenset({637930, 720554}), confidence=0.00022695487891650514, lift=1.0), OrderedStatistic(items_base=frozenset({637930}), items_add=frozenset({720554}), confidence=0.09775429326287978, lift=66.26481048673915), OrderedStatistic(items_base=frozenset({720554}), items_add=frozenset({637930}), confidence=0.15384615384615383, lift=66.26481048673914)]),\n",
       " RelationRecord(items=frozenset({637938, 641493}), support=0.00013187918639742866, ordered_statistics=[OrderedStatistic(items_base=frozenset(), items_add=frozenset({637938, 641493}), confidence=0.00013187918639742866, lift=1.0), OrderedStatistic(items_base=frozenset({637938}), items_add=frozenset({641493}), confidence=0.1339563862928349, lift=211.00136951254387), OrderedStatistic(items_base=frozenset({641493}), items_add=frozenset({637938}), confidence=0.20772946859903382, lift=211.00136951254385)]),\n",
       " RelationRecord(items=frozenset({643281, 637938}), support=0.00017481659592217288, ordered_statistics=[OrderedStatistic(items_base=frozenset(), items_add=frozenset({643281, 637938}), confidence=0.00017481659592217288, lift=1.0), OrderedStatistic(items_base=frozenset({637938}), items_add=frozenset({643281}), confidence=0.17757009345794394, lift=136.2301044529962), OrderedStatistic(items_base=frozenset({643281}), items_add=frozenset({637938}), confidence=0.13411764705882354, lift=136.23010445299616)]),\n",
       " RelationRecord(items=frozenset({637938, 643285}), support=0.00012574527075103663, ordered_statistics=[OrderedStatistic(items_base=frozenset(), items_add=frozenset({637938, 643285}), confidence=0.00012574527075103663, lift=1.0), OrderedStatistic(items_base=frozenset({637938}), items_add=frozenset({643285}), confidence=0.12772585669781933, lift=80.08804217589265), OrderedStatistic(items_base=frozenset({643285}), items_add=frozenset({637938}), confidence=0.07884615384615384, lift=80.08804217589264)]),\n",
       " RelationRecord(items=frozenset({643288, 637938}), support=0.00010427656598866452, ordered_statistics=[OrderedStatistic(items_base=frozenset(), items_add=frozenset({643288, 637938}), confidence=0.00010427656598866452, lift=1.0), OrderedStatistic(items_base=frozenset({637938}), items_add=frozenset({643288}), confidence=0.1059190031152648, lift=70.05177784939305), OrderedStatistic(items_base=frozenset({643288}), items_add=frozenset({637938}), confidence=0.06896551724137931, lift=70.05177784939306)]),\n",
       " RelationRecord(items=frozenset({682648, 638074}), support=0.00012881222857423263, ordered_statistics=[OrderedStatistic(items_base=frozenset(), items_add=frozenset({682648, 638074}), confidence=0.00012881222857423263, lift=1.0), OrderedStatistic(items_base=frozenset({638074}), items_add=frozenset({682648}), confidence=0.20588235294117643, lift=171.6858733263126), OrderedStatistic(items_base=frozenset({682648}), items_add=frozenset({638074}), confidence=0.10741687979539641, lift=171.6858733263126)]),\n",
       " RelationRecord(items=frozenset({764566, 640934}), support=0.00016254876462938882, ordered_statistics=[OrderedStatistic(items_base=frozenset(), items_add=frozenset({640934, 764566}), confidence=0.00016254876462938882, lift=1.0), OrderedStatistic(items_base=frozenset({640934}), items_add=frozenset({764566}), confidence=0.265, lift=192.0107555555556), OrderedStatistic(items_base=frozenset({764566}), items_add=frozenset({640934}), confidence=0.11777777777777779, lift=192.0107555555556)]),\n",
       " RelationRecord(items=frozenset({764595, 640934}), support=0.00029136099320362145, ordered_statistics=[OrderedStatistic(items_base=frozenset(), items_add=frozenset({764595, 640934}), confidence=0.00029136099320362145, lift=1.0), OrderedStatistic(items_base=frozenset({640934}), items_add=frozenset({764595}), confidence=0.47500000000000003, lift=272.6700704225352), OrderedStatistic(items_base=frozenset({764595}), items_add=frozenset({640934}), confidence=0.16725352112676056, lift=272.6700704225352)]),\n",
       " RelationRecord(items=frozenset({698188, 643093}), support=0.00026989228844124933, ordered_statistics=[OrderedStatistic(items_base=frozenset(), items_add=frozenset({698188, 643093}), confidence=0.00026989228844124933, lift=1.0), OrderedStatistic(items_base=frozenset({643093}), items_add=frozenset({698188}), confidence=0.38596491228070173, lift=449.450626566416), OrderedStatistic(items_base=frozenset({698188}), items_add=frozenset({643093}), confidence=0.3142857142857143, lift=449.450626566416)]),\n",
       " RelationRecord(items=frozenset({643281, 643285}), support=0.00033123144490516964, ordered_statistics=[OrderedStatistic(items_base=frozenset(), items_add=frozenset({643281, 643285}), confidence=0.00033123144490516964, lift=1.0), OrderedStatistic(items_base=frozenset({643281}), items_add=frozenset({643285}), confidence=0.25411764705882356, lift=159.33958371040725), OrderedStatistic(items_base=frozenset({643285}), items_add=frozenset({643281}), confidence=0.20769230769230768, lift=159.33958371040723)]),\n",
       " RelationRecord(items=frozenset({643288, 643281}), support=0.0003342984027283657, ordered_statistics=[OrderedStatistic(items_base=frozenset(), items_add=frozenset({643288, 643281}), confidence=0.0003342984027283657, lift=1.0), OrderedStatistic(items_base=frozenset({643281}), items_add=frozenset({643288}), confidence=0.2564705882352942, lift=169.62225987352346), OrderedStatistic(items_base=frozenset({643288}), items_add=frozenset({643281}), confidence=0.2210953346855984, lift=169.62225987352346)]),\n",
       " RelationRecord(items=frozenset({643281, 643289}), support=0.00019015138503815295, ordered_statistics=[OrderedStatistic(items_base=frozenset(), items_add=frozenset({643281, 643289}), confidence=0.00019015138503815295, lift=1.0), OrderedStatistic(items_base=frozenset({643281}), items_add=frozenset({643289}), confidence=0.14588235294117646, lift=262.7945661358466), OrderedStatistic(items_base=frozenset({643289}), items_add=frozenset({643281}), confidence=0.3425414364640884, lift=262.79456613584665)]),\n",
       " RelationRecord(items=frozenset({643281, 645001}), support=0.0001196113551046446, ordered_statistics=[OrderedStatistic(items_base=frozenset(), items_add=frozenset({643281, 645001}), confidence=0.0001196113551046446, lift=1.0), OrderedStatistic(items_base=frozenset({643281}), items_add=frozenset({645001}), confidence=0.09176470588235294, lift=287.69647058823534), OrderedStatistic(items_base=frozenset({645001}), items_add=frozenset({643281}), confidence=0.375, lift=287.69647058823534)]),\n",
       " RelationRecord(items=frozenset({643288, 643285}), support=0.0005091149986505385, ordered_statistics=[OrderedStatistic(items_base=frozenset(), items_add=frozenset({643288, 643285}), confidence=0.0005091149986505385, lift=1.0), OrderedStatistic(items_base=frozenset({643285}), items_add=frozenset({643288}), confidence=0.3192307692307692, lift=211.13003588703384), OrderedStatistic(items_base=frozenset({643288}), items_add=frozenset({643285}), confidence=0.33671399594320484, lift=211.13003588703384)]),\n",
       " RelationRecord(items=frozenset({643289, 643285}), support=0.00013494614422062467, ordered_statistics=[OrderedStatistic(items_base=frozenset(), items_add=frozenset({643289, 643285}), confidence=0.00013494614422062467, lift=1.0), OrderedStatistic(items_base=frozenset({643285}), items_add=frozenset({643289}), confidence=0.0846153846153846, lift=152.4273693157671), OrderedStatistic(items_base=frozenset({643289}), items_add=frozenset({643285}), confidence=0.2430939226519337, lift=152.4273693157671)]),\n",
       " RelationRecord(items=frozenset({720554, 643285}), support=0.00010427656598866452, ordered_statistics=[OrderedStatistic(items_base=frozenset(), items_add=frozenset({720554, 643285}), confidence=0.00010427656598866452, lift=1.0), OrderedStatistic(items_base=frozenset({643285}), items_add=frozenset({720554}), confidence=0.06538461538461537, lift=44.32234127618742), OrderedStatistic(items_base=frozenset({720554}), items_add=frozenset({643285}), confidence=0.07068607068607068, lift=44.32234127618742)]),\n",
       " RelationRecord(items=frozenset({643288, 643289}), support=0.00015028093333660476, ordered_statistics=[OrderedStatistic(items_base=frozenset(), items_add=frozenset({643288, 643289}), confidence=0.00015028093333660476, lift=1.0), OrderedStatistic(items_base=frozenset({643288}), items_add=frozenset({643289}), confidence=0.09939148073022312, lift=179.04524111035155), OrderedStatistic(items_base=frozenset({643289}), items_add=frozenset({643288}), confidence=0.2707182320441989, lift=179.04524111035155)]),\n",
       " RelationRecord(items=frozenset({644897, 644919}), support=0.00018708442721495695, ordered_statistics=[OrderedStatistic(items_base=frozenset(), items_add=frozenset({644897, 644919}), confidence=0.00018708442721495695, lift=1.0), OrderedStatistic(items_base=frozenset({644897}), items_add=frozenset({644919}), confidence=0.33333333333333337, lift=683.5555555555557), OrderedStatistic(items_base=frozenset({644919}), items_add=frozenset({644897}), confidence=0.3836477987421384, lift=683.5555555555557)]),\n",
       " RelationRecord(items=frozenset({684840, 644897}), support=0.0001564148489829968, ordered_statistics=[OrderedStatistic(items_base=frozenset(), items_add=frozenset({684840, 644897}), confidence=0.0001564148489829968, lift=1.0), OrderedStatistic(items_base=frozenset({644897}), items_add=frozenset({684840}), confidence=0.27868852459016397, lift=251.71209300213434), OrderedStatistic(items_base=frozenset({684840}), items_add=frozenset({644897}), confidence=0.1412742382271468, lift=251.7120930021343)]),\n",
       " RelationRecord(items=frozenset({644901, 644918}), support=0.00026989228844124933, ordered_statistics=[OrderedStatistic(items_base=frozenset(), items_add=frozenset({644901, 644918}), confidence=0.00026989228844124933, lift=1.0), OrderedStatistic(items_base=frozenset({644901}), items_add=frozenset({644918}), confidence=0.3548387096774193, lift=394.8712980292854), OrderedStatistic(items_base=frozenset({644918}), items_add=frozenset({644901}), confidence=0.3003412969283276, lift=394.87129802928547)]),\n",
       " RelationRecord(items=frozenset({644901, 644927}), support=0.0002361557523860932, ordered_statistics=[OrderedStatistic(items_base=frozenset(), items_add=frozenset({644901, 644927}), confidence=0.0002361557523860932, lift=1.0), OrderedStatistic(items_base=frozenset({644901}), items_add=frozenset({644927}), confidence=0.31048387096774194, lift=362.8499248468031), OrderedStatistic(items_base=frozenset({644927}), items_add=frozenset({644901}), confidence=0.27598566308243727, lift=362.8499248468031)]),\n",
       " RelationRecord(items=frozenset({644941, 644901}), support=0.00014414701769021273, ordered_statistics=[OrderedStatistic(items_base=frozenset(), items_add=frozenset({644901, 644941}), confidence=0.00014414701769021273, lift=1.0), OrderedStatistic(items_base=frozenset({644901}), items_add=frozenset({644941}), confidence=0.18951612903225806, lift=233.18064516129033), OrderedStatistic(items_base=frozenset({644941}), items_add=frozenset({644901}), confidence=0.17735849056603775, lift=233.18064516129036)]),\n",
       " RelationRecord(items=frozenset({644901, 644950}), support=0.00022695487891650514, ordered_statistics=[OrderedStatistic(items_base=frozenset(), items_add=frozenset({644901, 644950}), confidence=0.00022695487891650514, lift=1.0), OrderedStatistic(items_base=frozenset({644901}), items_add=frozenset({644950}), confidence=0.29838709677419356, lift=250.74975058197538), OrderedStatistic(items_base=frozenset({644950}), items_add=frozenset({644901}), confidence=0.19072164948453607, lift=250.74975058197538)]),\n",
       " RelationRecord(items=frozenset({644901, 644959}), support=0.000202419216330937, ordered_statistics=[OrderedStatistic(items_base=frozenset(), items_add=frozenset({644901, 644959}), confidence=0.000202419216330937, lift=1.0), OrderedStatistic(items_base=frozenset({644901}), items_add=frozenset({644959}), confidence=0.2661290322580645, lift=421.2279987472596), OrderedStatistic(items_base=frozenset({644959}), items_add=frozenset({644901}), confidence=0.32038834951456313, lift=421.2279987472597)]),\n",
       " RelationRecord(items=frozenset({644918, 644927}), support=0.000202419216330937, ordered_statistics=[OrderedStatistic(items_base=frozenset(), items_add=frozenset({644918, 644927}), confidence=0.000202419216330937, lift=1.0), OrderedStatistic(items_base=frozenset({644918}), items_add=frozenset({644927}), confidence=0.22525597269624573, lift=263.24753201952365), OrderedStatistic(items_base=frozenset({644927}), items_add=frozenset({644918}), confidence=0.23655913978494622, lift=263.24753201952365)]),\n",
       " RelationRecord(items=frozenset({644941, 644918}), support=0.0001594818068061928, ordered_statistics=[OrderedStatistic(items_base=frozenset(), items_add=frozenset({644941, 644918}), confidence=0.0001594818068061928, lift=1.0), OrderedStatistic(items_base=frozenset({644918}), items_add=frozenset({644941}), confidence=0.1774744027303754, lift=218.3645051194539), OrderedStatistic(items_base=frozenset({644941}), items_add=frozenset({644918}), confidence=0.1962264150943396, lift=218.3645051194539)]),\n",
       " RelationRecord(items=frozenset({644950, 644918}), support=0.00029136099320362145, ordered_statistics=[OrderedStatistic(items_base=frozenset(), items_add=frozenset({644918, 644950}), confidence=0.00029136099320362145, lift=1.0), OrderedStatistic(items_base=frozenset({644918}), items_add=frozenset({644950}), confidence=0.3242320819112628, lift=272.4685971640688), OrderedStatistic(items_base=frozenset({644950}), items_add=frozenset({644918}), confidence=0.24484536082474226, lift=272.4685971640688)]),\n",
       " RelationRecord(items=frozenset({644918, 644959}), support=0.0002208209632701131, ordered_statistics=[OrderedStatistic(items_base=frozenset(), items_add=frozenset({644918, 644959}), confidence=0.0002208209632701131, lift=1.0), OrderedStatistic(items_base=frozenset({644918}), items_add=frozenset({644959}), confidence=0.24573378839590443, lift=388.9464859670632), OrderedStatistic(items_base=frozenset({644959}), items_add=frozenset({644918}), confidence=0.34951456310679613, lift=388.9464859670632)]),\n",
       " RelationRecord(items=frozenset({684840, 644919}), support=0.00012574527075103663, ordered_statistics=[OrderedStatistic(items_base=frozenset(), items_add=frozenset({684840, 644919}), confidence=0.00012574527075103663, lift=1.0), OrderedStatistic(items_base=frozenset({644919}), items_add=frozenset({684840}), confidence=0.2578616352201258, lift=232.9012003693444), OrderedStatistic(items_base=frozenset({684840}), items_add=frozenset({644919}), confidence=0.11357340720221605, lift=232.90120036934437)]),\n",
       " RelationRecord(items=frozenset({720554, 644919}), support=0.00010427656598866452, ordered_statistics=[OrderedStatistic(items_base=frozenset(), items_add=frozenset({720554, 644919}), confidence=0.00010427656598866452, lift=1.0), OrderedStatistic(items_base=frozenset({644919}), items_add=frozenset({720554}), confidence=0.21383647798742136, lift=144.95356895356895), OrderedStatistic(items_base=frozenset({720554}), items_add=frozenset({644919}), confidence=0.07068607068607068, lift=144.95356895356892)]),\n",
       " RelationRecord(items=frozenset({644941, 644927}), support=0.00019628530068454498, ordered_statistics=[OrderedStatistic(items_base=frozenset(), items_add=frozenset({644941, 644927}), confidence=0.00019628530068454498, lift=1.0), OrderedStatistic(items_base=frozenset({644927}), items_add=frozenset({644941}), confidence=0.22939068100358423, lift=282.24229390681006), OrderedStatistic(items_base=frozenset({644941}), items_add=frozenset({644927}), confidence=0.24150943396226415, lift=282.24229390681006)]),\n",
       " RelationRecord(items=frozenset({644950, 644927}), support=0.0002606914149716613, ordered_statistics=[OrderedStatistic(items_base=frozenset(), items_add=frozenset({644950, 644927}), confidence=0.0002606914149716613, lift=1.0), OrderedStatistic(items_base=frozenset({644927}), items_add=frozenset({644950}), confidence=0.30465949820788535, lift=256.0207663599749), OrderedStatistic(items_base=frozenset({644950}), items_add=frozenset({644927}), confidence=0.2190721649484536, lift=256.02076635997486)]),\n",
       " RelationRecord(items=frozenset({644959, 644927}), support=0.0001410800598670167, ordered_statistics=[OrderedStatistic(items_base=frozenset(), items_add=frozenset({644927, 644959}), confidence=0.0001410800598670167, lift=1.0), OrderedStatistic(items_base=frozenset({644927}), items_add=frozenset({644959}), confidence=0.16487455197132614, lift=260.9628005706928), OrderedStatistic(items_base=frozenset({644959}), items_add=frozenset({644927}), confidence=0.2233009708737864, lift=260.9628005706928)]),\n",
       " RelationRecord(items=frozenset({644941, 644950}), support=0.0003158966557891896, ordered_statistics=[OrderedStatistic(items_base=frozenset(), items_add=frozenset({644941, 644950}), confidence=0.0003158966557891896, lift=1.0), OrderedStatistic(items_base=frozenset({644941}), items_add=frozenset({644950}), confidence=0.3886792452830189, lift=326.62680412371134), OrderedStatistic(items_base=frozenset({644950}), items_add=frozenset({644941}), confidence=0.2654639175257732, lift=326.62680412371134)]),\n",
       " RelationRecord(items=frozenset({644941, 644959}), support=0.00011347743945825257, ordered_statistics=[OrderedStatistic(items_base=frozenset(), items_add=frozenset({644941, 644959}), confidence=0.00011347743945825257, lift=1.0), OrderedStatistic(items_base=frozenset({644941}), items_add=frozenset({644959}), confidence=0.13962264150943396, lift=220.99417475728154), OrderedStatistic(items_base=frozenset({644959}), items_add=frozenset({644941}), confidence=0.1796116504854369, lift=220.99417475728157)]),\n",
       " RelationRecord(items=frozenset({644950, 644959}), support=0.00013494614422062467, ordered_statistics=[OrderedStatistic(items_base=frozenset(), items_add=frozenset({644950, 644959}), confidence=0.00013494614422062467, lift=1.0), OrderedStatistic(items_base=frozenset({644950}), items_add=frozenset({644959}), confidence=0.11340206185567009, lift=179.4923431087979), OrderedStatistic(items_base=frozenset({644959}), items_add=frozenset({644950}), confidence=0.21359223300970873, lift=179.4923431087979)]),\n",
       " RelationRecord(items=frozenset({684840, 644950}), support=0.0001410800598670167, ordered_statistics=[OrderedStatistic(items_base=frozenset(), items_add=frozenset({684840, 644950}), confidence=0.0001410800598670167, lift=1.0), OrderedStatistic(items_base=frozenset({644950}), items_add=frozenset({684840}), confidence=0.11855670103092782, lift=107.08067510066536), OrderedStatistic(items_base=frozenset({684840}), items_add=frozenset({644950}), confidence=0.12742382271468142, lift=107.08067510066536)]),\n",
       " RelationRecord(items=frozenset({684899, 644950}), support=0.00010734352381186054, ordered_statistics=[OrderedStatistic(items_base=frozenset(), items_add=frozenset({684899, 644950}), confidence=0.00010734352381186054, lift=1.0), OrderedStatistic(items_base=frozenset({644950}), items_add=frozenset({684899}), confidence=0.09020618556701031, lift=231.59266174202452), OrderedStatistic(items_base=frozenset({684899}), items_add=frozenset({644950}), confidence=0.2755905511811024, lift=231.59266174202452)]),\n",
       " RelationRecord(items=frozenset({645185, 645179}), support=0.00014414701769021273, ordered_statistics=[OrderedStatistic(items_base=frozenset(), items_add=frozenset({645185, 645179}), confidence=0.00014414701769021273, lift=1.0), OrderedStatistic(items_base=frozenset({645179}), items_add=frozenset({645185}), confidence=0.5802469135802469, lift=2335.715896966926), OrderedStatistic(items_base=frozenset({645185}), items_add=frozenset({645179}), confidence=0.5802469135802469, lift=2335.715896966926)]),\n",
       " RelationRecord(items=frozenset({656225, 789122}), support=0.00010734352381186054, ordered_statistics=[OrderedStatistic(items_base=frozenset(), items_add=frozenset({656225, 789122}), confidence=0.00010734352381186054, lift=1.0), OrderedStatistic(items_base=frozenset({656225}), items_add=frozenset({789122}), confidence=0.2692307692307692, lift=28.38160610808525), OrderedStatistic(items_base=frozenset({789122}), items_add=frozenset({656225}), confidence=0.011315874555447785, lift=28.381606108085254)]),\n",
       " RelationRecord(items=frozenset({661424, 661896}), support=0.0001012096081654685, ordered_statistics=[OrderedStatistic(items_base=frozenset(), items_add=frozenset({661424, 661896}), confidence=0.0001012096081654685, lift=1.0), OrderedStatistic(items_base=frozenset({661424}), items_add=frozenset({661896}), confidence=0.13524590163934425, lift=234.5624346006278), OrderedStatistic(items_base=frozenset({661896}), items_add=frozenset({661424}), confidence=0.17553191489361702, lift=234.56243460062782)]),\n",
       " RelationRecord(items=frozenset({661424, 705527}), support=0.0003066957823196015, ordered_statistics=[OrderedStatistic(items_base=frozenset(), items_add=frozenset({661424, 705527}), confidence=0.0003066957823196015, lift=1.0), OrderedStatistic(items_base=frozenset({661424}), items_add=frozenset({705527}), confidence=0.40983606557377045, lift=83.72776202802086), OrderedStatistic(items_base=frozenset({705527}), items_add=frozenset({661424}), confidence=0.06265664160401002, lift=83.72776202802086)]),\n",
       " RelationRecord(items=frozenset({751532, 661431}), support=0.00010734352381186054, ordered_statistics=[OrderedStatistic(items_base=frozenset(), items_add=frozenset({751532, 661431}), confidence=0.00010734352381186054, lift=1.0), OrderedStatistic(items_base=frozenset({661431}), items_add=frozenset({751532}), confidence=0.14957264957264957, lift=22.37112836195405), OrderedStatistic(items_base=frozenset({751532}), items_add=frozenset({661431}), confidence=0.01605504587155963, lift=22.371128361954046)]),\n",
       " RelationRecord(items=frozenset({751581, 661431}), support=0.00012881222857423263, ordered_statistics=[OrderedStatistic(items_base=frozenset(), items_add=frozenset({751581, 661431}), confidence=0.00012881222857423263, lift=1.0), OrderedStatistic(items_base=frozenset({661431}), items_add=frozenset({751581}), confidence=0.17948717948717946, lift=10.693015127877176), OrderedStatistic(items_base=frozenset({751581}), items_add=frozenset({661431}), confidence=0.0076740361775991224, lift=10.693015127877176)]),\n",
       " RelationRecord(items=frozenset({751600, 661431}), support=0.00012881222857423263, ordered_statistics=[OrderedStatistic(items_base=frozenset(), items_add=frozenset({751600, 661431}), confidence=0.00012881222857423263, lift=1.0), OrderedStatistic(items_base=frozenset({661431}), items_add=frozenset({751600}), confidence=0.17948717948717946, lift=12.71959830360178), OrderedStatistic(items_base=frozenset({751600}), items_add=frozenset({661431}), confidence=0.009128450336883285, lift=12.719598303601778)]),\n",
       " RelationRecord(items=frozenset({661896, 705527}), support=0.00017481659592217288, ordered_statistics=[OrderedStatistic(items_base=frozenset(), items_add=frozenset({661896, 705527}), confidence=0.00017481659592217288, lift=1.0), OrderedStatistic(items_base=frozenset({661896}), items_add=frozenset({705527}), confidence=0.30319148936170215, lift=61.94072948328268), OrderedStatistic(items_base=frozenset({705527}), items_add=frozenset({661896}), confidence=0.03571428571428571, lift=61.940729483282674)]),\n",
       " RelationRecord(items=frozenset({753600, 663255}), support=0.00010734352381186054, ordered_statistics=[OrderedStatistic(items_base=frozenset(), items_add=frozenset({753600, 663255}), confidence=0.00010734352381186054, lift=1.0), OrderedStatistic(items_base=frozenset({663255}), items_add=frozenset({753600}), confidence=0.14705882352941177, lift=4.974005369782768), OrderedStatistic(items_base=frozenset({753600}), items_add=frozenset({663255}), confidence=0.003630705394190871, lift=4.974005369782767)]),\n",
       " RelationRecord(items=frozenset({753609, 663255}), support=0.00010734352381186054, ordered_statistics=[OrderedStatistic(items_base=frozenset(), items_add=frozenset({753609, 663255}), confidence=0.00010734352381186054, lift=1.0), OrderedStatistic(items_base=frozenset({663255}), items_add=frozenset({753609}), confidence=0.14705882352941177, lift=7.425958148475435), OrderedStatistic(items_base=frozenset({753609}), items_add=frozenset({663255}), confidence=0.0054204739042899176, lift=7.425958148475434)]),\n",
       " RelationRecord(items=frozenset({663257, 753517}), support=0.00012267831292784063, ordered_statistics=[OrderedStatistic(items_base=frozenset(), items_add=frozenset({663257, 753517}), confidence=0.00012267831292784063, lift=1.0), OrderedStatistic(items_base=frozenset({663257}), items_add=frozenset({753517}), confidence=0.11527377521613834, lift=6.083798325003755), OrderedStatistic(items_base=frozenset({753517}), items_add=frozenset({663257}), confidence=0.006474587245063128, lift=6.083798325003755)]),\n",
       " RelationRecord(items=frozenset({753600, 663257}), support=0.0001564148489829968, ordered_statistics=[OrderedStatistic(items_base=frozenset(), items_add=frozenset({753600, 663257}), confidence=0.0001564148489829968, lift=1.0), OrderedStatistic(items_base=frozenset({663257}), items_add=frozenset({753600}), confidence=0.14697406340057637, lift=4.971138507898166), OrderedStatistic(items_base=frozenset({753600}), items_add=frozenset({663257}), confidence=0.005290456431535269, lift=4.971138507898166)]),\n",
       " RelationRecord(items=frozenset({663257, 753609}), support=0.00010427656598866452, ordered_statistics=[OrderedStatistic(items_base=frozenset(), items_add=frozenset({663257, 753609}), confidence=0.00010427656598866452, lift=1.0), OrderedStatistic(items_base=frozenset({663257}), items_add=frozenset({753609}), confidence=0.09798270893371758, lift=4.947785371549051), OrderedStatistic(items_base=frozenset({753609}), items_add=frozenset({663257}), confidence=0.005265603221310206, lift=4.94778537154905)]),\n",
       " RelationRecord(items=frozenset({663267, 705590}), support=0.00012267831292784063, ordered_statistics=[OrderedStatistic(items_base=frozenset(), items_add=frozenset({663267, 705590}), confidence=0.00012267831292784063, lift=1.0), OrderedStatistic(items_base=frozenset({663267}), items_add=frozenset({705590}), confidence=0.09345794392523366, lift=25.889994362350027), OrderedStatistic(items_base=frozenset({705590}), items_add=frozenset({663267}), confidence=0.033984706881903144, lift=25.889994362350027)]),\n",
       " RelationRecord(items=frozenset({663267, 753517}), support=0.0001410800598670167, ordered_statistics=[OrderedStatistic(items_base=frozenset(), items_add=frozenset({663267, 753517}), confidence=0.0001410800598670167, lift=1.0), OrderedStatistic(items_base=frozenset({663267}), items_add=frozenset({753517}), confidence=0.10747663551401869, lift=5.672289069141936), OrderedStatistic(items_base=frozenset({753517}), items_add=frozenset({663267}), confidence=0.007445775331822595, lift=5.672289069141935)]),\n",
       " RelationRecord(items=frozenset({753600, 663267}), support=0.0002361557523860932, ordered_statistics=[OrderedStatistic(items_base=frozenset(), items_add=frozenset({753600, 663267}), confidence=0.0002361557523860932, lift=1.0), OrderedStatistic(items_base=frozenset({663267}), items_add=frozenset({753600}), confidence=0.1799065420560748, lift=6.085021522472564), OrderedStatistic(items_base=frozenset({753600}), items_add=frozenset({663267}), confidence=0.007987551867219916, lift=6.085021522472563)]),\n",
       " RelationRecord(items=frozenset({753609, 663267}), support=0.00012267831292784063, ordered_statistics=[OrderedStatistic(items_base=frozenset(), items_add=frozenset({753609, 663267}), confidence=0.00012267831292784063, lift=1.0), OrderedStatistic(items_base=frozenset({663267}), items_add=frozenset({753609}), confidence=0.09345794392523366, lift=4.719300505573174), OrderedStatistic(items_base=frozenset({753609}), items_add=frozenset({663267}), confidence=0.006194827319188479, lift=4.719300505573174)]),\n",
       " RelationRecord(items=frozenset({663283, 663271}), support=0.00010734352381186054, ordered_statistics=[OrderedStatistic(items_base=frozenset(), items_add=frozenset({663283, 663271}), confidence=0.00010734352381186054, lift=1.0), OrderedStatistic(items_base=frozenset({663271}), items_add=frozenset({663283}), confidence=0.08706467661691542, lift=63.5077409373713), OrderedStatistic(items_base=frozenset({663283}), items_add=frozenset({663271}), confidence=0.07829977628635346, lift=63.507740937371295)]),\n",
       " RelationRecord(items=frozenset({663298, 663271}), support=0.0001380131020438207, ordered_statistics=[OrderedStatistic(items_base=frozenset(), items_add=frozenset({663298, 663271}), confidence=0.0001380131020438207, lift=1.0), OrderedStatistic(items_base=frozenset({663271}), items_add=frozenset({663298}), confidence=0.11194029850746268, lift=105.1838788765108), OrderedStatistic(items_base=frozenset({663298}), items_add=frozenset({663271}), confidence=0.12968299711815562, lift=105.1838788765108)]),\n",
       " RelationRecord(items=frozenset({705529, 663271}), support=0.00016868268027578085, ordered_statistics=[OrderedStatistic(items_base=frozenset(), items_add=frozenset({705529, 663271}), confidence=0.00016868268027578085, lift=1.0), OrderedStatistic(items_base=frozenset({663271}), items_add=frozenset({705529}), confidence=0.13681592039800994, lift=17.398460117509178), OrderedStatistic(items_base=frozenset({705529}), items_add=frozenset({663271}), confidence=0.021450858034321375, lift=17.398460117509178)]),\n",
       " RelationRecord(items=frozenset({663298, 663283}), support=0.00012881222857423263, ordered_statistics=[OrderedStatistic(items_base=frozenset(), items_add=frozenset({663298, 663283}), confidence=0.00012881222857423263, lift=1.0), OrderedStatistic(items_base=frozenset({663283}), items_add=frozenset({663298}), confidence=0.09395973154362415, lift=88.28857126278938), OrderedStatistic(items_base=frozenset({663298}), items_add=frozenset({663283}), confidence=0.12103746397694523, lift=88.28857126278938)]),\n",
       " RelationRecord(items=frozenset({705529, 663283}), support=0.00010427656598866452, ordered_statistics=[OrderedStatistic(items_base=frozenset(), items_add=frozenset({705529, 663283}), confidence=0.00010427656598866452, lift=1.0), OrderedStatistic(items_base=frozenset({663283}), items_add=frozenset({705529}), confidence=0.07606263982102908, lift=9.672652140984969), OrderedStatistic(items_base=frozenset({705529}), items_add=frozenset({663283}), confidence=0.01326053042121685, lift=9.672652140984969)]),\n",
       " RelationRecord(items=frozenset({753600, 663283}), support=0.00010427656598866452, ordered_statistics=[OrderedStatistic(items_base=frozenset(), items_add=frozenset({753600, 663283}), confidence=0.00010427656598866452, lift=1.0), OrderedStatistic(items_base=frozenset({663283}), items_add=frozenset({753600}), confidence=0.07606263982102908, lift=2.5726846565856283), OrderedStatistic(items_base=frozenset({753600}), items_add=frozenset({663283}), confidence=0.003526970954356846, lift=2.5726846565856283)]),\n",
       " RelationRecord(items=frozenset({705529, 663298}), support=0.00014721397551340873, ordered_statistics=[OrderedStatistic(items_base=frozenset(), items_add=frozenset({705529, 663298}), confidence=0.00014721397551340873, lift=1.0), OrderedStatistic(items_base=frozenset({663298}), items_add=frozenset({705529}), confidence=0.13832853025936598, lift=17.59081406483925), OrderedStatistic(items_base=frozenset({705529}), items_add=frozenset({663298}), confidence=0.0187207488299532, lift=17.59081406483925)]),\n",
       " RelationRecord(items=frozenset({705529, 663302}), support=0.0002392227102092892, ordered_statistics=[OrderedStatistic(items_base=frozenset(), items_add=frozenset({705529, 663302}), confidence=0.0002392227102092892, lift=1.0), OrderedStatistic(items_base=frozenset({663302}), items_add=frozenset({705529}), confidence=0.20800000000000002, lift=26.45072074882996), OrderedStatistic(items_base=frozenset({705529}), items_add=frozenset({663302}), confidence=0.030421216848673948, lift=26.450720748829955)]),\n",
       " RelationRecord(items=frozenset({717676, 663302}), support=0.00012881222857423263, ordered_statistics=[OrderedStatistic(items_base=frozenset(), items_add=frozenset({717676, 663302}), confidence=0.00012881222857423263, lift=1.0), OrderedStatistic(items_base=frozenset({663302}), items_add=frozenset({717676}), confidence=0.112, lift=49.017814765100674), OrderedStatistic(items_base=frozenset({717676}), items_add=frozenset({663302}), confidence=0.056375838926174496, lift=49.017814765100674)]),\n",
       " RelationRecord(items=frozenset({753517, 663302}), support=0.00010427656598866452, ordered_statistics=[OrderedStatistic(items_base=frozenset(), items_add=frozenset({753517, 663302}), confidence=0.00010427656598866452, lift=1.0), OrderedStatistic(items_base=frozenset({663302}), items_add=frozenset({753517}), confidence=0.09066666666666667, lift=4.785110175892954), OrderedStatistic(items_base=frozenset({753517}), items_add=frozenset({663302}), confidence=0.005503399158303658, lift=4.785110175892954)]),\n",
       " RelationRecord(items=frozenset({666258, 666255}), support=0.00023002183673970117, ordered_statistics=[OrderedStatistic(items_base=frozenset(), items_add=frozenset({666258, 666255}), confidence=0.00023002183673970117, lift=1.0), OrderedStatistic(items_base=frozenset({666255}), items_add=frozenset({666258}), confidence=0.2688172043010753, lift=191.37437197727382), OrderedStatistic(items_base=frozenset({666258}), items_add=frozenset({666255}), confidence=0.16375545851528384, lift=191.3743719772738)]),\n",
       " RelationRecord(items=frozenset({666322, 666255}), support=0.0002729592462644454, ordered_statistics=[OrderedStatistic(items_base=frozenset(), items_add=frozenset({666322, 666255}), confidence=0.0002729592462644454, lift=1.0), OrderedStatistic(items_base=frozenset({666255}), items_add=frozenset({666322}), confidence=0.31899641577060933, lift=122.07828091608192), OrderedStatistic(items_base=frozenset({666322}), items_add=frozenset({666255}), confidence=0.10446009389671362, lift=122.07828091608192)]),\n",
       " RelationRecord(items=frozenset({666322, 666258}), support=0.0005428515347056948, ordered_statistics=[OrderedStatistic(items_base=frozenset(), items_add=frozenset({666322, 666258}), confidence=0.0005428515347056948, lift=1.0), OrderedStatistic(items_base=frozenset({666258}), items_add=frozenset({666322}), confidence=0.3864628820960699, lift=147.89734916046498), OrderedStatistic(items_base=frozenset({666322}), items_add=frozenset({666258}), confidence=0.20774647887323947, lift=147.89734916046498)]),\n",
       " RelationRecord(items=frozenset({745305, 666322}), support=0.0002606914149716613, ordered_statistics=[OrderedStatistic(items_base=frozenset(), items_add=frozenset({745305, 666322}), confidence=0.0002606914149716613, lift=1.0), OrderedStatistic(items_base=frozenset({666322}), items_add=frozenset({745305}), confidence=0.09976525821596245, lift=16.977589265586563), OrderedStatistic(items_base=frozenset({745305}), items_add=frozenset({666322}), confidence=0.044363256784968684, lift=16.97758926558656)]),\n",
       " RelationRecord(items=frozenset({745321, 666322}), support=0.0002177540054469171, ordered_statistics=[OrderedStatistic(items_base=frozenset(), items_add=frozenset({745321, 666322}), confidence=0.0002177540054469171, lift=1.0), OrderedStatistic(items_base=frozenset({666322}), items_add=frozenset({745321}), confidence=0.08333333333333334, lift=14.35358337735517), OrderedStatistic(items_base=frozenset({745321}), items_add=frozenset({666322}), confidence=0.037506603275224516, lift=14.35358337735517)]),\n",
       " RelationRecord(items=frozenset({666322, 745332}), support=0.00023002183673970117, ordered_statistics=[OrderedStatistic(items_base=frozenset(), items_add=frozenset({666322, 745332}), confidence=0.00023002183673970117, lift=1.0), OrderedStatistic(items_base=frozenset({666322}), items_add=frozenset({745332}), confidence=0.08802816901408451, lift=16.953403825195714), OrderedStatistic(items_base=frozenset({745332}), items_add=frozenset({666322}), confidence=0.044300059066745424, lift=16.95340382519571)]),\n",
       " RelationRecord(items=frozenset({666322, 761062}), support=0.00016868268027578085, ordered_statistics=[OrderedStatistic(items_base=frozenset(), items_add=frozenset({666322, 761062}), confidence=0.00016868268027578085, lift=1.0), OrderedStatistic(items_base=frozenset({666322}), items_add=frozenset({761062}), confidence=0.06455399061032864, lift=23.257697196067753), OrderedStatistic(items_base=frozenset({761062}), items_add=frozenset({666322}), confidence=0.06077348066298343, lift=23.257697196067753)]),\n",
       " RelationRecord(items=frozenset({745332, 666463}), support=0.00010734352381186054, ordered_statistics=[OrderedStatistic(items_base=frozenset(), items_add=frozenset({745332, 666463}), confidence=0.00010734352381186054, lift=1.0), OrderedStatistic(items_base=frozenset({666463}), items_add=frozenset({745332}), confidence=0.10028653295128939, lift=19.31425031775878), OrderedStatistic(items_base=frozenset({745332}), items_add=frozenset({666463}), confidence=0.02067336089781453, lift=19.31425031775878)]),\n",
       " RelationRecord(items=frozenset({761062, 666463}), support=0.0001012096081654685, ordered_statistics=[OrderedStatistic(items_base=frozenset(), items_add=frozenset({761062, 666463}), confidence=0.0001012096081654685, lift=1.0), OrderedStatistic(items_base=frozenset({666463}), items_add=frozenset({761062}), confidence=0.09455587392550142, lift=34.066861910114135), OrderedStatistic(items_base=frozenset({761062}), items_add=frozenset({666463}), confidence=0.036464088397790057, lift=34.066861910114135)]),\n",
       " RelationRecord(items=frozenset({670108, 666940}), support=0.00010427656598866452, ordered_statistics=[OrderedStatistic(items_base=frozenset(), items_add=frozenset({670108, 666940}), confidence=0.00010427656598866452, lift=1.0), OrderedStatistic(items_base=frozenset({666940}), items_add=frozenset({670108}), confidence=0.07906976744186046, lift=92.0756146179402), OrderedStatistic(items_base=frozenset({670108}), items_add=frozenset({666940}), confidence=0.12142857142857143, lift=92.0756146179402)]),\n",
       " RelationRecord(items=frozenset({666940, 714671}), support=0.00019628530068454498, ordered_statistics=[OrderedStatistic(items_base=frozenset(), items_add=frozenset({666940, 714671}), confidence=0.00019628530068454498, lift=1.0), OrderedStatistic(items_base=frozenset({666940}), items_add=frozenset({714671}), confidence=0.14883720930232558, lift=157.05263791676074), OrderedStatistic(items_base=frozenset({714671}), items_add=frozenset({666940}), confidence=0.2071197411003236, lift=157.05263791676074)]),\n",
       " RelationRecord(items=frozenset({667692, 668188}), support=0.00012881222857423263, ordered_statistics=[OrderedStatistic(items_base=frozenset(), items_add=frozenset({667692, 668188}), confidence=0.00012881222857423263, lift=1.0), OrderedStatistic(items_base=frozenset({667692}), items_add=frozenset({668188}), confidence=0.23863636363636365, lift=688.5736122284794), OrderedStatistic(items_base=frozenset({668188}), items_add=frozenset({667692}), confidence=0.37168141592920345, lift=688.5736122284794)]),\n",
       " RelationRecord(items=frozenset({669610, 667692}), support=0.0001012096081654685, ordered_statistics=[OrderedStatistic(items_base=frozenset(), items_add=frozenset({669610, 667692}), confidence=0.0001012096081654685, lift=1.0), OrderedStatistic(items_base=frozenset({667692}), items_add=frozenset({669610}), confidence=0.1875, lift=541.0221238938053), OrderedStatistic(items_base=frozenset({669610}), items_add=frozenset({667692}), confidence=0.29203539823008845, lift=541.0221238938053)]),\n",
       " RelationRecord(items=frozenset({714802, 667692}), support=0.00012881222857423263, ordered_statistics=[OrderedStatistic(items_base=frozenset(), items_add=frozenset({714802, 667692}), confidence=0.00012881222857423263, lift=1.0), OrderedStatistic(items_base=frozenset({667692}), items_add=frozenset({714802}), confidence=0.23863636363636365, lift=465.92106695699516), OrderedStatistic(items_base=frozenset({714802}), items_add=frozenset({667692}), confidence=0.25149700598802394, lift=465.9210669569951)]),\n",
       " RelationRecord(items=frozenset({667705, 707877}), support=0.00016561572245258482, ordered_statistics=[OrderedStatistic(items_base=frozenset(), items_add=frozenset({667705, 707877}), confidence=0.00016561572245258482, lift=1.0), OrderedStatistic(items_base=frozenset({667705}), items_add=frozenset({707877}), confidence=0.054380664652567974, lift=29.900745352373868), OrderedStatistic(items_base=frozenset({707877}), items_add=frozenset({667705}), confidence=0.09106239460370993, lift=29.900745352373864)]),\n",
       " RelationRecord(items=frozenset({667705, 707884}), support=0.00034963319184434577, ordered_statistics=[OrderedStatistic(items_base=frozenset(), items_add=frozenset({667705, 707884}), confidence=0.00034963319184434577, lift=1.0), OrderedStatistic(items_base=frozenset({667705}), items_add=frozenset({707884}), confidence=0.1148036253776435, lift=48.803664766796516), OrderedStatistic(items_base=frozenset({707884}), items_add=frozenset({667705}), confidence=0.14863102998696218, lift=48.803664766796516)]),\n",
       " RelationRecord(items=frozenset({667705, 714746}), support=0.00012574527075103663, ordered_statistics=[OrderedStatistic(items_base=frozenset(), items_add=frozenset({667705, 714746}), confidence=0.00012574527075103663, lift=1.0), OrderedStatistic(items_base=frozenset({667705}), items_add=frozenset({714746}), confidence=0.041289023162134945, lift=27.14220511321184), OrderedStatistic(items_base=frozenset({714746}), items_add=frozenset({667705}), confidence=0.08266129032258064, lift=27.142205113211837)]),\n",
       " RelationRecord(items=frozenset({667705, 715134}), support=0.0001196113551046446, ordered_statistics=[OrderedStatistic(items_base=frozenset(), items_add=frozenset({667705, 715134}), confidence=0.0001196113551046446, lift=1.0), OrderedStatistic(items_base=frozenset({667705}), items_add=frozenset({715134}), confidence=0.03927492447129909, lift=24.0259376611893), OrderedStatistic(items_base=frozenset({715134}), items_add=frozenset({667705}), confidence=0.07317073170731707, lift=24.0259376611893)]),\n",
       " RelationRecord(items=frozenset({667705, 746058}), support=0.00011347743945825257, ordered_statistics=[OrderedStatistic(items_base=frozenset(), items_add=frozenset({667705, 746058}), confidence=0.00011347743945825257, lift=1.0), OrderedStatistic(items_base=frozenset({667705}), items_add=frozenset({746058}), confidence=0.03726082578046324, lift=24.494185102166778), OrderedStatistic(items_base=frozenset({746058}), items_add=frozenset({667705}), confidence=0.07459677419354839, lift=24.49418510216678)]),\n",
       " RelationRecord(items=frozenset({667705, 746090}), support=0.00011347743945825257, ordered_statistics=[OrderedStatistic(items_base=frozenset(), items_add=frozenset({667705, 746090}), confidence=0.00011347743945825257, lift=1.0), OrderedStatistic(items_base=frozenset({667705}), items_add=frozenset({746090}), confidence=0.03726082578046324, lift=23.229666942016678), OrderedStatistic(items_base=frozenset({746090}), items_add=frozenset({667705}), confidence=0.07074569789674952, lift=23.229666942016678)]),\n",
       " RelationRecord(items=frozenset({667705, 746117}), support=0.00014721397551340873, ordered_statistics=[OrderedStatistic(items_base=frozenset(), items_add=frozenset({667705, 746117}), confidence=0.00014721397551340873, lift=1.0), OrderedStatistic(items_base=frozenset({667705}), items_add=frozenset({746117}), confidence=0.048338368580060416, lift=29.681761027759283), OrderedStatistic(items_base=frozenset({746117}), items_add=frozenset({667705}), confidence=0.09039548022598869, lift=29.681761027759283)]),\n",
       " RelationRecord(items=frozenset({746304, 667705}), support=0.00011654439728144858, ordered_statistics=[OrderedStatistic(items_base=frozenset(), items_add=frozenset({746304, 667705}), confidence=0.00011654439728144858, lift=1.0), OrderedStatistic(items_base=frozenset({667705}), items_add=frozenset({746304}), confidence=0.038267875125881166, lift=10.887844931975838), OrderedStatistic(items_base=frozenset({746304}), items_add=frozenset({667705}), confidence=0.03315881326352531, lift=10.887844931975838)]),\n",
       " RelationRecord(items=frozenset({667705, 747447}), support=0.0001012096081654685, ordered_statistics=[OrderedStatistic(items_base=frozenset(), items_add=frozenset({667705, 747447}), confidence=0.0001012096081654685, lift=1.0), OrderedStatistic(items_base=frozenset({667705}), items_add=frozenset({747447}), confidence=0.03323262839879154, lift=19.701268882175224), OrderedStatistic(items_base=frozenset({747447}), items_add=frozenset({667705}), confidence=0.06, lift=19.701268882175224)]),\n",
       " RelationRecord(items=frozenset({667705, 751006}), support=0.0001012096081654685, ordered_statistics=[OrderedStatistic(items_base=frozenset(), items_add=frozenset({667705, 751006}), confidence=0.0001012096081654685, lift=1.0), OrderedStatistic(items_base=frozenset({667705}), items_add=frozenset({751006}), confidence=0.03323262839879154, lift=22.480701006631485), OrderedStatistic(items_base=frozenset({751006}), items_add=frozenset({667705}), confidence=0.06846473029045644, lift=22.480701006631485)]),\n",
       " RelationRecord(items=frozenset({668185, 689375}), support=0.00010734352381186054, ordered_statistics=[OrderedStatistic(items_base=frozenset(), items_add=frozenset({668185, 689375}), confidence=0.00010734352381186054, lift=1.0), OrderedStatistic(items_base=frozenset({668185}), items_add=frozenset({689375}), confidence=0.11945392491467577, lift=119.47444460729915), OrderedStatistic(items_base=frozenset({689375}), items_add=frozenset({668185}), confidence=0.10736196319018404, lift=119.47444460729913)]),\n",
       " RelationRecord(items=frozenset({674390, 668190}), support=0.0001564148489829968, ordered_statistics=[OrderedStatistic(items_base=frozenset(), items_add=frozenset({674390, 668190}), confidence=0.0001564148489829968, lift=1.0), OrderedStatistic(items_base=frozenset({668190}), items_add=frozenset({674390}), confidence=0.12944162436548223, lift=131.0721064413406), OrderedStatistic(items_base=frozenset({674390}), items_add=frozenset({668190}), confidence=0.15838509316770186, lift=131.0721064413406)]),\n",
       " RelationRecord(items=frozenset({668658, 668611}), support=0.00011347743945825257, ordered_statistics=[OrderedStatistic(items_base=frozenset(), items_add=frozenset({668658, 668611}), confidence=0.00011347743945825257, lift=1.0), OrderedStatistic(items_base=frozenset({668611}), items_add=frozenset({668658}), confidence=0.1054131054131054, lift=55.34714250978341), OrderedStatistic(items_base=frozenset({668658}), items_add=frozenset({668611}), confidence=0.05958132045088567, lift=55.34714250978341)]),\n",
       " RelationRecord(items=frozenset({678882, 668611}), support=0.0001410800598670167, ordered_statistics=[OrderedStatistic(items_base=frozenset(), items_add=frozenset({678882, 668611}), confidence=0.0001410800598670167, lift=1.0), OrderedStatistic(items_base=frozenset({668611}), items_add=frozenset({678882}), confidence=0.13105413105413105, lift=59.763616440539515), OrderedStatistic(items_base=frozenset({678882}), items_add=frozenset({668611}), confidence=0.06433566433566433, lift=59.763616440539515)]),\n",
       " RelationRecord(items=frozenset({668658, 669245}), support=0.00011654439728144858, ordered_statistics=[OrderedStatistic(items_base=frozenset(), items_add=frozenset({668658, 669245}), confidence=0.00011654439728144858, lift=1.0), OrderedStatistic(items_base=frozenset({668658}), items_add=frozenset({669245}), confidence=0.061191626409017714, lift=46.07828392706393), OrderedStatistic(items_base=frozenset({669245}), items_add=frozenset({668658}), confidence=0.08775981524249422, lift=46.07828392706393)]),\n",
       " RelationRecord(items=frozenset({668658, 672007}), support=0.00023002183673970117, ordered_statistics=[OrderedStatistic(items_base=frozenset(), items_add=frozenset({668658, 672007}), confidence=0.00023002183673970117, lift=1.0), OrderedStatistic(items_base=frozenset({668658}), items_add=frozenset({672007}), confidence=0.12077294685990339, lift=39.69631447717002), OrderedStatistic(items_base=frozenset({672007}), items_add=frozenset({668658}), confidence=0.07560483870967742, lift=39.69631447717002)]),\n",
       " RelationRecord(items=frozenset({668658, 672086}), support=0.0001380131020438207, ordered_statistics=[OrderedStatistic(items_base=frozenset(), items_add=frozenset({668658, 672086}), confidence=0.0001380131020438207, lift=1.0), OrderedStatistic(items_base=frozenset({668658}), items_add=frozenset({672086}), confidence=0.07246376811594203, lift=55.85637441326619), OrderedStatistic(items_base=frozenset({672086}), items_add=frozenset({668658}), confidence=0.10638297872340426, lift=55.85637441326618)]),\n",
       " RelationRecord(items=frozenset({672097, 668658}), support=0.0001196113551046446, ordered_statistics=[OrderedStatistic(items_base=frozenset(), items_add=frozenset({672097, 668658}), confidence=0.0001196113551046446, lift=1.0), OrderedStatistic(items_base=frozenset({668658}), items_add=frozenset({672097}), confidence=0.06280193236714976, lift=38.708784234221895), OrderedStatistic(items_base=frozenset({672097}), items_add=frozenset({668658}), confidence=0.07372400756143667, lift=38.708784234221895)]),\n",
       " RelationRecord(items=frozenset({678882, 668658}), support=0.00036496798096032583, ordered_statistics=[OrderedStatistic(items_base=frozenset(), items_add=frozenset({678882, 668658}), confidence=0.00036496798096032583, lift=1.0), OrderedStatistic(items_base=frozenset({668658}), items_add=frozenset({678882}), confidence=0.19162640901771338, lift=87.38593065549588), OrderedStatistic(items_base=frozenset({678882}), items_add=frozenset({668658}), confidence=0.16643356643356644, lift=87.38593065549588)]),\n",
       " RelationRecord(items=frozenset({668658, 704630}), support=0.0001380131020438207, ordered_statistics=[OrderedStatistic(items_base=frozenset(), items_add=frozenset({668658, 704630}), confidence=0.0001380131020438207, lift=1.0), OrderedStatistic(items_base=frozenset({668658}), items_add=frozenset({704630}), confidence=0.07246376811594203, lift=23.416497895749846), OrderedStatistic(items_base=frozenset({704630}), items_add=frozenset({668658}), confidence=0.044598612487611496, lift=23.416497895749846)]),\n",
       " RelationRecord(items=frozenset({668658, 715055}), support=0.00012881222857423263, ordered_statistics=[OrderedStatistic(items_base=frozenset(), items_add=frozenset({668658, 715055}), confidence=0.00012881222857423263, lift=1.0), OrderedStatistic(items_base=frozenset({668658}), items_add=frozenset({715055}), confidence=0.06763285024154589, lift=34.618676009980355), OrderedStatistic(items_base=frozenset({715055}), items_add=frozenset({668658}), confidence=0.06593406593406594, lift=34.61867600998036)]),\n",
       " RelationRecord(items=frozenset({669245, 672007}), support=0.0001196113551046446, ordered_statistics=[OrderedStatistic(items_base=frozenset(), items_add=frozenset({669245, 672007}), confidence=0.0001196113551046446, lift=1.0), OrderedStatistic(items_base=frozenset({669245}), items_add=frozenset({672007}), confidence=0.09006928406466512, lift=29.6044662147061), OrderedStatistic(items_base=frozenset({672007}), items_add=frozenset({669245}), confidence=0.03931451612903226, lift=29.6044662147061)]),\n",
       " RelationRecord(items=frozenset({678882, 669245}), support=0.00011041048163505655, ordered_statistics=[OrderedStatistic(items_base=frozenset(), items_add=frozenset({678882, 669245}), confidence=0.00011041048163505655, lift=1.0), OrderedStatistic(items_base=frozenset({669245}), items_add=frozenset({678882}), confidence=0.08314087759815242, lift=37.91410067992054), OrderedStatistic(items_base=frozenset({678882}), items_add=frozenset({669245}), confidence=0.050349650349650346, lift=37.91410067992054)]),\n",
       " RelationRecord(items=frozenset({678889, 669651}), support=0.00016868268027578085, ordered_statistics=[OrderedStatistic(items_base=frozenset(), items_add=frozenset({678889, 669651}), confidence=0.00016868268027578085, lift=1.0), OrderedStatistic(items_base=frozenset({669651}), items_add=frozenset({678889}), confidence=0.19642857142857142, lift=178.90143655227453), OrderedStatistic(items_base=frozenset({678889}), items_add=frozenset({669651}), confidence=0.15363128491620112, lift=178.90143655227456)]),\n",
       " RelationRecord(items=frozenset({670176, 669730}), support=0.0002208209632701131, ordered_statistics=[OrderedStatistic(items_base=frozenset(), items_add=frozenset({670176, 669730}), confidence=0.0002208209632701131, lift=1.0), OrderedStatistic(items_base=frozenset({669730}), items_add=frozenset({670176}), confidence=0.09958506224066391, lift=32.373187491467505), OrderedStatistic(items_base=frozenset({670176}), items_add=frozenset({669730}), confidence=0.07178464606181455, lift=32.373187491467505)]),\n",
       " RelationRecord(items=frozenset({714728, 669730}), support=0.00017788355374536889, ordered_statistics=[OrderedStatistic(items_base=frozenset(), items_add=frozenset({714728, 669730}), confidence=0.00017788355374536889, lift=1.0), OrderedStatistic(items_base=frozenset({669730}), items_add=frozenset({714728}), confidence=0.08022130013831259, lift=60.82938659976198), OrderedStatistic(items_base=frozenset({714728}), items_add=frozenset({669730}), confidence=0.13488372093023257, lift=60.82938659976198)]),\n",
       " RelationRecord(items=frozenset({669730, 714775}), support=0.00019321834286134898, ordered_statistics=[OrderedStatistic(items_base=frozenset(), items_add=frozenset({669730, 714775}), confidence=0.00019321834286134898, lift=1.0), OrderedStatistic(items_base=frozenset({669730}), items_add=frozenset({714775}), confidence=0.08713692946058092, lift=57.51319569271088), OrderedStatistic(items_base=frozenset({714775}), items_add=frozenset({669730}), confidence=0.12753036437246965, lift=57.51319569271088)]),\n",
       " RelationRecord(items=frozenset({669730, 714811}), support=0.0002637583727948573, ordered_statistics=[OrderedStatistic(items_base=frozenset(), items_add=frozenset({669730, 714811}), confidence=0.0002637583727948573, lift=1.0), OrderedStatistic(items_base=frozenset({669730}), items_add=frozenset({714811}), confidence=0.11894882434301522, lift=47.35528433453745), OrderedStatistic(items_base=frozenset({714811}), items_add=frozenset({669730}), confidence=0.10500610500610501, lift=47.35528433453745)]),\n",
       " RelationRecord(items=frozenset({689084, 670076}), support=0.00011041048163505655, ordered_statistics=[OrderedStatistic(items_base=frozenset(), items_add=frozenset({670076, 689084}), confidence=0.00011041048163505655, lift=1.0), OrderedStatistic(items_base=frozenset({670076}), items_add=frozenset({689084}), confidence=0.1714285714285714, lift=278.08614072494663), OrderedStatistic(items_base=frozenset({689084}), items_add=frozenset({670076}), confidence=0.1791044776119403, lift=278.0861407249467)]),\n",
       " RelationRecord(items=frozenset({670108, 670325}), support=0.00021468704762372107, ordered_statistics=[OrderedStatistic(items_base=frozenset(), items_add=frozenset({670108, 670325}), confidence=0.00021468704762372107, lift=1.0), OrderedStatistic(items_base=frozenset({670108}), items_add=frozenset({670325}), confidence=0.25, lift=323.468253968254), OrderedStatistic(items_base=frozenset({670325}), items_add=frozenset({670108}), confidence=0.27777777777777773, lift=323.4682539682539)]),\n",
       " RelationRecord(items=frozenset({670108, 714671}), support=0.00010734352381186054, ordered_statistics=[OrderedStatistic(items_base=frozenset(), items_add=frozenset({670108, 714671}), confidence=0.00010734352381186054, lift=1.0), OrderedStatistic(items_base=frozenset({670108}), items_add=frozenset({714671}), confidence=0.125, lift=131.89967637540454), OrderedStatistic(items_base=frozenset({714671}), items_add=frozenset({670108}), confidence=0.11326860841423948, lift=131.89967637540454)]),\n",
       " RelationRecord(items=frozenset({670160, 670148}), support=0.00011347743945825257, ordered_statistics=[OrderedStatistic(items_base=frozenset(), items_add=frozenset({670160, 670148}), confidence=0.00011347743945825257, lift=1.0), OrderedStatistic(items_base=frozenset({670148}), items_add=frozenset({670160}), confidence=0.14566929133858267, lift=123.68840223097114), OrderedStatistic(items_base=frozenset({670160}), items_add=frozenset({670148}), confidence=0.09635416666666667, lift=123.68840223097114)]),\n",
       " RelationRecord(items=frozenset({670184, 670148}), support=0.00011654439728144858, ordered_statistics=[OrderedStatistic(items_base=frozenset(), items_add=frozenset({670184, 670148}), confidence=0.00011654439728144858, lift=1.0), OrderedStatistic(items_base=frozenset({670148}), items_add=frozenset({670184}), confidence=0.14960629921259844, lift=85.88033714095597), OrderedStatistic(items_base=frozenset({670184}), items_add=frozenset({670148}), confidence=0.06690140845070422, lift=85.88033714095596)]),\n",
       " RelationRecord(items=frozenset({670160, 670184}), support=0.00018708442721495695, ordered_statistics=[OrderedStatistic(items_base=frozenset(), items_add=frozenset({670160, 670184}), confidence=0.00018708442721495695, lift=1.0), OrderedStatistic(items_base=frozenset({670160}), items_add=frozenset({670184}), confidence=0.15885416666666669, lift=91.189003814554), OrderedStatistic(items_base=frozenset({670184}), items_add=frozenset({670160}), confidence=0.1073943661971831, lift=91.189003814554)]),\n",
       " RelationRecord(items=frozenset({670160, 689407}), support=0.00012881222857423263, ordered_statistics=[OrderedStatistic(items_base=frozenset(), items_add=frozenset({670160, 689407}), confidence=0.00012881222857423263, lift=1.0), OrderedStatistic(items_base=frozenset({670160}), items_add=frozenset({689407}), confidence=0.109375, lift=119.67239932885907), OrderedStatistic(items_base=frozenset({689407}), items_add=frozenset({670160}), confidence=0.14093959731543623, lift=119.67239932885906)]),\n",
       " RelationRecord(items=frozenset({670176, 714728}), support=0.00012574527075103663, ordered_statistics=[OrderedStatistic(items_base=frozenset(), items_add=frozenset({670176, 714728}), confidence=0.00012574527075103663, lift=1.0), OrderedStatistic(items_base=frozenset({670176}), items_add=frozenset({714728}), confidence=0.040877367896311065, lift=30.996072248371167), OrderedStatistic(items_base=frozenset({714728}), items_add=frozenset({670176}), confidence=0.09534883720930233, lift=30.996072248371167)]),\n",
       " RelationRecord(items=frozenset({670176, 714811}), support=0.00020855313197732904, ordered_statistics=[OrderedStatistic(items_base=frozenset(), items_add=frozenset({670176, 714811}), confidence=0.00020855313197732904, lift=1.0), OrderedStatistic(items_base=frozenset({670176}), items_add=frozenset({714811}), confidence=0.06779661016949153, lift=26.99083214337452), OrderedStatistic(items_base=frozenset({714811}), items_add=frozenset({670176}), confidence=0.08302808302808302, lift=26.990832143374515)]),\n",
       " RelationRecord(items=frozenset({670176, 714941}), support=0.00013187918639742866, ordered_statistics=[OrderedStatistic(items_base=frozenset(), items_add=frozenset({670176, 714941}), confidence=0.00013187918639742866, lift=1.0), OrderedStatistic(items_base=frozenset({670176}), items_add=frozenset({714941}), confidence=0.04287138584247258, lift=18.06004209593442), OrderedStatistic(items_base=frozenset({714941}), items_add=frozenset({670176}), confidence=0.05555555555555556, lift=18.06004209593442)]),\n",
       " RelationRecord(items=frozenset({670184, 689431}), support=0.00011041048163505655, ordered_statistics=[OrderedStatistic(items_base=frozenset(), items_add=frozenset({670184, 689431}), confidence=0.00011041048163505655, lift=1.0), OrderedStatistic(items_base=frozenset({670184}), items_add=frozenset({689431}), confidence=0.06338028169014084, lift=56.773409688902646), OrderedStatistic(items_base=frozenset({689431}), items_add=frozenset({670184}), confidence=0.0989010989010989, lift=56.77340968890264)]),\n",
       " RelationRecord(items=frozenset({670184, 714668}), support=0.00011041048163505655, ordered_statistics=[OrderedStatistic(items_base=frozenset(), items_add=frozenset({670184, 714668}), confidence=0.00011041048163505655, lift=1.0), OrderedStatistic(items_base=frozenset({670184}), items_add=frozenset({714668}), confidence=0.06338028169014084, lift=67.31440106436666), OrderedStatistic(items_base=frozenset({714668}), items_add=frozenset({670184}), confidence=0.11726384364820848, lift=67.31440106436666)]),\n",
       " RelationRecord(items=frozenset({672061, 671998}), support=0.00017481659592217288, ordered_statistics=[OrderedStatistic(items_base=frozenset(), items_add=frozenset({672061, 671998}), confidence=0.00017481659592217288, lift=1.0), OrderedStatistic(items_base=frozenset({671998}), items_add=frozenset({672061}), confidence=0.08584337349397592, lift=84.56116914789067), OrderedStatistic(items_base=frozenset({672061}), items_add=frozenset({671998}), confidence=0.17220543806646524, lift=84.56116914789065)]),\n",
       " RelationRecord(items=frozenset({678882, 671998}), support=0.00013187918639742866, ordered_statistics=[OrderedStatistic(items_base=frozenset(), items_add=frozenset({678882, 671998}), confidence=0.00013187918639742866, lift=1.0), OrderedStatistic(items_base=frozenset({671998}), items_add=frozenset({678882}), confidence=0.06475903614457831, lift=29.531569635184095), OrderedStatistic(items_base=frozenset({678882}), items_add=frozenset({671998}), confidence=0.06013986013986014, lift=29.531569635184095)]),\n",
       " RelationRecord(items=frozenset({753376, 671998}), support=0.00011041048163505655, ordered_statistics=[OrderedStatistic(items_base=frozenset(), items_add=frozenset({753376, 671998}), confidence=0.00011041048163505655, lift=1.0), OrderedStatistic(items_base=frozenset({671998}), items_add=frozenset({753376}), confidence=0.05421686746987952, lift=4.006739560235502), OrderedStatistic(items_base=frozenset({753376}), items_add=frozenset({671998}), confidence=0.008159564823209429, lift=4.006739560235503)]),\n",
       " RelationRecord(items=frozenset({753394, 671998}), support=0.00012574527075103663, ordered_statistics=[OrderedStatistic(items_base=frozenset(), items_add=frozenset({753394, 671998}), confidence=0.00012574527075103663, lift=1.0), OrderedStatistic(items_base=frozenset({671998}), items_add=frozenset({753394}), confidence=0.06174698795180723, lift=28.15800825680344), OrderedStatistic(items_base=frozenset({753394}), items_add=frozenset({671998}), confidence=0.057342657342657345, lift=28.15800825680344)]),\n",
       " RelationRecord(items=frozenset({753509, 671998}), support=0.00011654439728144858, ordered_statistics=[OrderedStatistic(items_base=frozenset(), items_add=frozenset({753509, 671998}), confidence=0.00011654439728144858, lift=1.0), OrderedStatistic(items_base=frozenset({671998}), items_add=frozenset({753509}), confidence=0.057228915662650606, lift=6.432206592658121), OrderedStatistic(items_base=frozenset({753509}), items_add=frozenset({671998}), confidence=0.013098931402964496, lift=6.432206592658121)]),\n",
       " RelationRecord(items=frozenset({753526, 671998}), support=0.00010427656598866452, ordered_statistics=[OrderedStatistic(items_base=frozenset(), items_add=frozenset({753526, 671998}), confidence=0.00010427656598866452, lift=1.0), OrderedStatistic(items_base=frozenset({671998}), items_add=frozenset({753526}), confidence=0.05120481927710843, lift=25.48952451025476), OrderedStatistic(items_base=frozenset({753526}), items_add=frozenset({671998}), confidence=0.051908396946564885, lift=25.48952451025476)]),\n",
       " RelationRecord(items=frozenset({753650, 671998}), support=0.00013187918639742866, ordered_statistics=[OrderedStatistic(items_base=frozenset(), items_add=frozenset({753650, 671998}), confidence=0.00013187918639742866, lift=1.0), OrderedStatistic(items_base=frozenset({671998}), items_add=frozenset({753650}), confidence=0.06475903614457831, lift=28.153429718875504), OrderedStatistic(items_base=frozenset({753650}), items_add=frozenset({671998}), confidence=0.05733333333333334, lift=28.153429718875508)]),\n",
       " RelationRecord(items=frozenset({672086, 672007}), support=0.00025455749932526927, ordered_statistics=[OrderedStatistic(items_base=frozenset(), items_add=frozenset({672086, 672007}), confidence=0.00025455749932526927, lift=1.0), OrderedStatistic(items_base=frozenset({672007}), items_add=frozenset({672086}), confidence=0.08366935483870967, lift=64.49384198886601), OrderedStatistic(items_base=frozenset({672086}), items_add=frozenset({672007}), confidence=0.19621749408983452, lift=64.49384198886601)]),\n",
       " RelationRecord(items=frozenset({672097, 672007}), support=0.00021468704762372107, ordered_statistics=[OrderedStatistic(items_base=frozenset(), items_add=frozenset({672097, 672007}), confidence=0.00021468704762372107, lift=1.0), OrderedStatistic(items_base=frozenset({672007}), items_add=frozenset({672097}), confidence=0.07056451612903226, lift=43.49335325324715), OrderedStatistic(items_base=frozenset({672097}), items_add=frozenset({672007}), confidence=0.1323251417769376, lift=43.49335325324714)]),\n",
       " RelationRecord(items=frozenset({678882, 672007}), support=0.0001564148489829968, ordered_statistics=[OrderedStatistic(items_base=frozenset(), items_add=frozenset({678882, 672007}), confidence=0.0001564148489829968, lift=1.0), OrderedStatistic(items_base=frozenset({672007}), items_add=frozenset({678882}), confidence=0.05141129032258065, lift=23.44469884953756), OrderedStatistic(items_base=frozenset({678882}), items_add=frozenset({672007}), confidence=0.07132867132867134, lift=23.444698849537563)]),\n",
       " RelationRecord(items=frozenset({704536, 672007}), support=0.0001594818068061928, ordered_statistics=[OrderedStatistic(items_base=frozenset(), items_add=frozenset({704536, 672007}), confidence=0.0001594818068061928, lift=1.0), OrderedStatistic(items_base=frozenset({672007}), items_add=frozenset({704536}), confidence=0.05241935483870968, lift=23.5746829810901), OrderedStatistic(items_base=frozenset({704536}), items_add=frozenset({672007}), confidence=0.07172413793103448, lift=23.5746829810901)]),\n",
       " RelationRecord(items=frozenset({704630, 672007}), support=0.00021468704762372107, ordered_statistics=[OrderedStatistic(items_base=frozenset(), items_add=frozenset({704630, 672007}), confidence=0.00021468704762372107, lift=1.0), OrderedStatistic(items_base=frozenset({672007}), items_add=frozenset({704630}), confidence=0.07056451612903226, lift=22.802759039611242), OrderedStatistic(items_base=frozenset({704630}), items_add=frozenset({672007}), confidence=0.06937561942517344, lift=22.802759039611242)]),\n",
       " RelationRecord(items=frozenset({715055, 672007}), support=0.00011347743945825257, ordered_statistics=[OrderedStatistic(items_base=frozenset(), items_add=frozenset({672007, 715055}), confidence=0.00011347743945825257, lift=1.0), OrderedStatistic(items_base=frozenset({672007}), items_add=frozenset({715055}), confidence=0.037298387096774195, lift=19.091621512128427), OrderedStatistic(items_base=frozenset({715055}), items_add=frozenset({672007}), confidence=0.058084772370486655, lift=19.091621512128423)]),\n",
       " RelationRecord(items=frozenset({753376, 672061}), support=0.00010427656598866452, ordered_statistics=[OrderedStatistic(items_base=frozenset(), items_add=frozenset({753376, 672061}), confidence=0.00010427656598866452, lift=1.0), OrderedStatistic(items_base=frozenset({672061}), items_add=frozenset({753376}), confidence=0.10271903323262839, lift=7.591150747891632), OrderedStatistic(items_base=frozenset({753376}), items_add=frozenset({672061}), confidence=0.0077062556663644605, lift=7.591150747891633)]),\n",
       " RelationRecord(items=frozenset({672097, 672086}), support=0.00018401746939176092, ordered_statistics=[OrderedStatistic(items_base=frozenset(), items_add=frozenset({672097, 672086}), confidence=0.00018401746939176092, lift=1.0), OrderedStatistic(items_base=frozenset({672086}), items_add=frozenset({672097}), confidence=0.14184397163120568, lift=87.42736864685142), OrderedStatistic(items_base=frozenset({672097}), items_add=frozenset({672086}), confidence=0.11342155009451795, lift=87.4273686468514)]),\n",
       " RelationRecord(items=frozenset({678882, 672086}), support=0.00016868268027578085, ordered_statistics=[OrderedStatistic(items_base=frozenset(), items_add=frozenset({678882, 672086}), confidence=0.00016868268027578085, lift=1.0), OrderedStatistic(items_base=frozenset({672086}), items_add=frozenset({678882}), confidence=0.13002364066193856, lift=59.29368976177488), OrderedStatistic(items_base=frozenset({678882}), items_add=frozenset({672086}), confidence=0.07692307692307693, lift=59.29368976177487)]),\n",
       " RelationRecord(items=frozenset({704630, 672086}), support=0.00011041048163505655, ordered_statistics=[OrderedStatistic(items_base=frozenset(), items_add=frozenset({672086, 704630}), confidence=0.00011041048163505655, lift=1.0), OrderedStatistic(items_base=frozenset({672086}), items_add=frozenset({704630}), confidence=0.0851063829787234, lift=27.501929443518964), OrderedStatistic(items_base=frozenset({704630}), items_add=frozenset({672086}), confidence=0.035678889990089196, lift=27.501929443518968)]),\n",
       " RelationRecord(items=frozenset({672097, 678882}), support=0.00012574527075103663, ordered_statistics=[OrderedStatistic(items_base=frozenset(), items_add=frozenset({672097, 678882}), confidence=0.00012574527075103663, lift=1.0), OrderedStatistic(items_base=frozenset({672097}), items_add=frozenset({678882}), confidence=0.0775047258979206, lift=35.34388938094042), OrderedStatistic(items_base=frozenset({678882}), items_add=frozenset({672097}), confidence=0.057342657342657345, lift=35.34388938094042)]),\n",
       " RelationRecord(items=frozenset({704536, 672097}), support=0.0001012096081654685, ordered_statistics=[OrderedStatistic(items_base=frozenset(), items_add=frozenset({704536, 672097}), confidence=0.0001012096081654685, lift=1.0), OrderedStatistic(items_base=frozenset({672097}), items_add=frozenset({704536}), confidence=0.062381852551984876, lift=28.055141125089627), OrderedStatistic(items_base=frozenset({704536}), items_add=frozenset({672097}), confidence=0.04551724137931034, lift=28.055141125089627)]),\n",
       " RelationRecord(items=frozenset({672097, 704630}), support=0.00011041048163505655, ordered_statistics=[OrderedStatistic(items_base=frozenset(), items_add=frozenset({672097, 704630}), confidence=0.00011041048163505655, lift=1.0), OrderedStatistic(items_base=frozenset({672097}), items_add=frozenset({704630}), confidence=0.06805293005671077, lift=21.99114584992159), OrderedStatistic(items_base=frozenset({704630}), items_add=frozenset({672097}), confidence=0.035678889990089196, lift=21.991145849921594)]),\n",
       " RelationRecord(items=frozenset({672194, 672235}), support=0.00015334789115980076, ordered_statistics=[OrderedStatistic(items_base=frozenset(), items_add=frozenset({672194, 672235}), confidence=0.00015334789115980076, lift=1.0), OrderedStatistic(items_base=frozenset({672194}), items_add=frozenset({672235}), confidence=0.18450184501845018, lift=198.54103491529963), OrderedStatistic(items_base=frozenset({672235}), items_add=frozenset({672194}), confidence=0.16501650165016502, lift=198.54103491529966)]),\n",
       " RelationRecord(items=frozenset({672226, 749580}), support=0.00013187918639742866, ordered_statistics=[OrderedStatistic(items_base=frozenset(), items_add=frozenset({672226, 749580}), confidence=0.00013187918639742866, lift=1.0), OrderedStatistic(items_base=frozenset({672226}), items_add=frozenset({749580}), confidence=0.06782334384858044, lift=29.174417152892797), OrderedStatistic(items_base=frozenset({749580}), items_add=frozenset({672226}), confidence=0.05672823218997361, lift=29.1744171528928)]),\n",
       " RelationRecord(items=frozenset({672226, 749589}), support=0.0001012096081654685, ordered_statistics=[OrderedStatistic(items_base=frozenset(), items_add=frozenset({672226, 749589}), confidence=0.0001012096081654685, lift=1.0), OrderedStatistic(items_base=frozenset({672226}), items_add=frozenset({749589}), confidence=0.05205047318611987, lift=27.461762273743528), OrderedStatistic(items_base=frozenset({749589}), items_add=frozenset({672226}), confidence=0.05339805825242718, lift=27.461762273743528)]),\n",
       " RelationRecord(items=frozenset({672226, 754364}), support=0.00012881222857423263, ordered_statistics=[OrderedStatistic(items_base=frozenset(), items_add=frozenset({672226, 754364}), confidence=0.00012881222857423263, lift=1.0), OrderedStatistic(items_base=frozenset({672226}), items_add=frozenset({754364}), confidence=0.06624605678233438, lift=24.91340748583716), OrderedStatistic(items_base=frozenset({754364}), items_add=frozenset({672226}), confidence=0.048442906574394456, lift=24.91340748583716)]),\n",
       " RelationRecord(items=frozenset({672226, 754589}), support=0.00011347743945825257, ordered_statistics=[OrderedStatistic(items_base=frozenset(), items_add=frozenset({672226, 754589}), confidence=0.00011347743945825257, lift=1.0), OrderedStatistic(items_base=frozenset({672226}), items_add=frozenset({754589}), confidence=0.0583596214511041, lift=30.6417145440599), OrderedStatistic(items_base=frozenset({754589}), items_add=frozenset({672226}), confidence=0.05958132045088567, lift=30.6417145440599)]),\n",
       " RelationRecord(items=frozenset({672256, 704536}), support=0.00012881222857423263, ordered_statistics=[OrderedStatistic(items_base=frozenset(), items_add=frozenset({672256, 704536}), confidence=0.00012881222857423263, lift=1.0), OrderedStatistic(items_base=frozenset({672256}), items_add=frozenset({704536}), confidence=0.12389380530973451, lift=55.719060115959714), OrderedStatistic(items_base=frozenset({704536}), items_add=frozenset({672256}), confidence=0.05793103448275861, lift=55.719060115959714)]),\n",
       " RelationRecord(items=frozenset({677904, 677910}), support=0.00023308879456289717, ordered_statistics=[OrderedStatistic(items_base=frozenset(), items_add=frozenset({677904, 677910}), confidence=0.00023308879456289717, lift=1.0), OrderedStatistic(items_base=frozenset({677904}), items_add=frozenset({677910}), confidence=0.08287895310796074, lift=21.498154283666864), OrderedStatistic(items_base=frozenset({677910}), items_add=frozenset({677904}), confidence=0.060461416070007955, lift=21.498154283666864)]),\n",
       " RelationRecord(items=frozenset({677904, 677986}), support=0.00013187918639742866, ordered_statistics=[OrderedStatistic(items_base=frozenset(), items_add=frozenset({677904, 677986}), confidence=0.00013187918639742866, lift=1.0), OrderedStatistic(items_base=frozenset({677904}), items_add=frozenset({677986}), confidence=0.04689203925845147, lift=16.009875133459325), OrderedStatistic(items_base=frozenset({677986}), items_add=frozenset({677904}), confidence=0.04502617801047121, lift=16.009875133459325)]),\n",
       " RelationRecord(items=frozenset({677904, 677999}), support=0.0001564148489829968, ordered_statistics=[OrderedStatistic(items_base=frozenset(), items_add=frozenset({677904, 677999}), confidence=0.0001564148489829968, lift=1.0), OrderedStatistic(items_base=frozenset({677904}), items_add=frozenset({677999}), confidence=0.05561613958560523, lift=21.900937208603985), OrderedStatistic(items_base=frozenset({677999}), items_add=frozenset({677904}), confidence=0.06159420289855073, lift=21.900937208603985)]),\n",
       " RelationRecord(items=frozenset({677904, 678042}), support=0.00011654439728144858, ordered_statistics=[OrderedStatistic(items_base=frozenset(), items_add=frozenset({677904, 678042}), confidence=0.00011654439728144858, lift=1.0), OrderedStatistic(items_base=frozenset({677904}), items_add=frozenset({678042}), confidence=0.04143947655398037, lift=9.876893250939052), OrderedStatistic(items_base=frozenset({678042}), items_add=frozenset({677904}), confidence=0.027777777777777776, lift=9.876893250939052)]),\n",
       " RelationRecord(items=frozenset({677904, 678084}), support=0.00014414701769021273, ordered_statistics=[OrderedStatistic(items_base=frozenset(), items_add=frozenset({677904, 678084}), confidence=0.00014414701769021273, lift=1.0), OrderedStatistic(items_base=frozenset({677904}), items_add=frozenset({678084}), confidence=0.05125408942202835, lift=11.163462512083417), OrderedStatistic(items_base=frozenset({678084}), items_add=frozenset({677904}), confidence=0.03139612558450234, lift=11.163462512083418)]),\n",
       " RelationRecord(items=frozenset({677904, 703674}), support=0.00020855313197732904, ordered_statistics=[OrderedStatistic(items_base=frozenset(), items_add=frozenset({677904, 703674}), confidence=0.00020855313197732904, lift=1.0), OrderedStatistic(items_base=frozenset({677904}), items_add=frozenset({703674}), confidence=0.07415485278080697, lift=16.281908874275285), OrderedStatistic(items_base=frozenset({703674}), items_add=frozenset({677904}), confidence=0.04579124579124579, lift=16.281908874275285)]),\n",
       " RelationRecord(items=frozenset({677904, 751581}), support=0.0001410800598670167, ordered_statistics=[OrderedStatistic(items_base=frozenset(), items_add=frozenset({677904, 751581}), confidence=0.0001410800598670167, lift=1.0), OrderedStatistic(items_base=frozenset({677904}), items_add=frozenset({751581}), confidence=0.050163576881134125, lift=2.9885136531253553), OrderedStatistic(items_base=frozenset({751581}), items_add=frozenset({677904}), confidence=0.008404896765941895, lift=2.988513653125355)]),\n",
       " RelationRecord(items=frozenset({677904, 753268}), support=0.00011654439728144858, ordered_statistics=[OrderedStatistic(items_base=frozenset(), items_add=frozenset({677904, 753268}), confidence=0.00011654439728144858, lift=1.0), OrderedStatistic(items_base=frozenset({677904}), items_add=frozenset({753268}), confidence=0.04143947655398037, lift=10.514856005668967), OrderedStatistic(items_base=frozenset({753268}), items_add=frozenset({677904}), confidence=0.029571984435797664, lift=10.514856005668967)]),\n",
       " RelationRecord(items=frozenset({677904, 753357}), support=0.00036803493878352183, ordered_statistics=[OrderedStatistic(items_base=frozenset(), items_add=frozenset({677904, 753357}), confidence=0.00036803493878352183, lift=1.0), OrderedStatistic(items_base=frozenset({677904}), items_add=frozenset({753357}), confidence=0.13086150490730641, lift=11.27296666949979), OrderedStatistic(items_base=frozenset({753357}), items_add=frozenset({677904}), confidence=0.031704095112285335, lift=11.27296666949979)]),\n",
       " RelationRecord(items=frozenset({677904, 753431}), support=0.0002361557523860932, ordered_statistics=[OrderedStatistic(items_base=frozenset(), items_add=frozenset({677904, 753431}), confidence=0.0002361557523860932, lift=1.0), OrderedStatistic(items_base=frozenset({677904}), items_add=frozenset({753431}), confidence=0.08396946564885496, lift=9.992243829052208), OrderedStatistic(items_base=frozenset({753431}), items_add=frozenset({677904}), confidence=0.028102189781021896, lift=9.992243829052208)]),\n",
       " RelationRecord(items=frozenset({677904, 753433}), support=0.00026989228844124933, ordered_statistics=[OrderedStatistic(items_base=frozenset(), items_add=frozenset({677904, 753433}), confidence=0.00026989228844124933, lift=1.0), OrderedStatistic(items_base=frozenset({677904}), items_add=frozenset({753433}), confidence=0.09596510359869137, lift=7.6038876838335145), OrderedStatistic(items_base=frozenset({753433}), items_add=frozenset({677904}), confidence=0.021385176184690154, lift=7.6038876838335145)]),\n",
       " RelationRecord(items=frozenset({677904, 753436}), support=0.00015334789115980076, ordered_statistics=[OrderedStatistic(items_base=frozenset(), items_add=frozenset({677904, 753436}), confidence=0.00015334789115980076, lift=1.0), OrderedStatistic(items_base=frozenset({677904}), items_add=frozenset({753436}), confidence=0.054525627044711006, lift=8.004686110621474), OrderedStatistic(items_base=frozenset({753436}), items_add=frozenset({677904}), confidence=0.022512381809995496, lift=8.004686110621474)]),\n",
       " RelationRecord(items=frozenset({677904, 753628}), support=0.0001410800598670167, ordered_statistics=[OrderedStatistic(items_base=frozenset(), items_add=frozenset({677904, 753628}), confidence=0.0001410800598670167, lift=1.0), OrderedStatistic(items_base=frozenset({677904}), items_add=frozenset({753628}), confidence=0.050163576881134125, lift=16.87939651553671), OrderedStatistic(items_base=frozenset({753628}), items_add=frozenset({677904}), confidence=0.04747162022703818, lift=16.879396515536705)]),\n",
       " RelationRecord(items=frozenset({677904, 759397}), support=0.00017174963809897685, ordered_statistics=[OrderedStatistic(items_base=frozenset(), items_add=frozenset({677904, 759397}), confidence=0.00017174963809897685, lift=1.0), OrderedStatistic(items_base=frozenset({677904}), items_add=frozenset({759397}), confidence=0.061068702290076333, lift=5.368513559960402), OrderedStatistic(items_base=frozenset({759397}), items_add=frozenset({677904}), confidence=0.015098409274737126, lift=5.368513559960402)]),\n",
       " RelationRecord(items=frozenset({677904, 759400}), support=0.00018095051156856491, ordered_statistics=[OrderedStatistic(items_base=frozenset(), items_add=frozenset({677904, 759400}), confidence=0.00018095051156856491, lift=1.0), OrderedStatistic(items_base=frozenset({677904}), items_add=frozenset({759400}), confidence=0.064340239912759, lift=14.060671089138438), OrderedStatistic(items_base=frozenset({759400}), items_add=frozenset({677904}), confidence=0.03954423592493298, lift=14.060671089138438)]),\n",
       " RelationRecord(items=frozenset({677986, 677910}), support=0.00012574527075103663, ordered_statistics=[OrderedStatistic(items_base=frozenset(), items_add=frozenset({677986, 677910}), confidence=0.00012574527075103663, lift=1.0), OrderedStatistic(items_base=frozenset({677910}), items_add=frozenset({677986}), confidence=0.03261734287987271, lift=11.136209790617567), OrderedStatistic(items_base=frozenset({677986}), items_add=frozenset({677910}), confidence=0.042931937172774874, lift=11.136209790617569)]),\n",
       " RelationRecord(items=frozenset({677910, 677999}), support=0.00013494614422062467, ordered_statistics=[OrderedStatistic(items_base=frozenset(), items_add=frozenset({677910, 677999}), confidence=0.00013494614422062467, lift=1.0), OrderedStatistic(items_base=frozenset({677910}), items_add=frozenset({677999}), confidence=0.035003977724741446, lift=13.784126764514852), OrderedStatistic(items_base=frozenset({677999}), items_add=frozenset({677910}), confidence=0.05314009661835749, lift=13.784126764514852)]),\n",
       " RelationRecord(items=frozenset({678042, 677910}), support=0.00015334789115980076, ordered_statistics=[OrderedStatistic(items_base=frozenset(), items_add=frozenset({678042, 677910}), confidence=0.00015334789115980076, lift=1.0), OrderedStatistic(items_base=frozenset({677910}), items_add=frozenset({678042}), confidence=0.03977724741447892, lift=9.480709198081387), OrderedStatistic(items_base=frozenset({678042}), items_add=frozenset({677910}), confidence=0.03654970760233918, lift=9.480709198081387)]),\n",
       " RelationRecord(items=frozenset({678084, 677910}), support=0.00025149054150207326, ordered_statistics=[OrderedStatistic(items_base=frozenset(), items_add=frozenset({678084, 677910}), confidence=0.00025149054150207326, lift=1.0), OrderedStatistic(items_base=frozenset({677910}), items_add=frozenset({678084}), confidence=0.06523468575974542, lift=14.208524181749867), OrderedStatistic(items_base=frozenset({678084}), items_add=frozenset({677910}), confidence=0.054776219104876414, lift=14.208524181749867)]),\n",
       " RelationRecord(items=frozenset({703674, 677910}), support=0.00036496798096032583, ordered_statistics=[OrderedStatistic(items_base=frozenset(), items_add=frozenset({703674, 677910}), confidence=0.00036496798096032583, lift=1.0), OrderedStatistic(items_base=frozenset({677910}), items_add=frozenset({703674}), confidence=0.09466984884645982, lift=20.78631126968438), OrderedStatistic(items_base=frozenset({703674}), items_add=frozenset({677910}), confidence=0.08013468013468013, lift=20.78631126968438)]),\n",
       " RelationRecord(items=frozenset({703694, 677910}), support=0.0001380131020438207, ordered_statistics=[OrderedStatistic(items_base=frozenset(), items_add=frozenset({703694, 677910}), confidence=0.0001380131020438207, lift=1.0), OrderedStatistic(items_base=frozenset({677910}), items_add=frozenset({703694}), confidence=0.03579952267303103, lift=19.684062672306585), OrderedStatistic(items_base=frozenset({703694}), items_add=frozenset({677910}), confidence=0.07588532883642496, lift=19.684062672306585)]),\n",
       " RelationRecord(items=frozenset({751526, 677910}), support=0.00014414701769021273, ordered_statistics=[OrderedStatistic(items_base=frozenset(), items_add=frozenset({751526, 677910}), confidence=0.00014414701769021273, lift=1.0), OrderedStatistic(items_base=frozenset({677910}), items_add=frozenset({751526}), confidence=0.03739061256961018, lift=5.46211181541076), OrderedStatistic(items_base=frozenset({751526}), items_add=frozenset({677910}), confidence=0.021057347670250897, lift=5.462111815410761)]),\n",
       " RelationRecord(items=frozenset({751581, 677910}), support=0.00019015138503815295, ordered_statistics=[OrderedStatistic(items_base=frozenset(), items_add=frozenset({751581, 677910}), confidence=0.00019015138503815295, lift=1.0), OrderedStatistic(items_base=frozenset({677910}), items_add=frozenset({751581}), confidence=0.049323786793953855, lift=2.9384828479607927), OrderedStatistic(items_base=frozenset({751581}), items_add=frozenset({677910}), confidence=0.011328339119312992, lift=2.938482847960793)]),\n",
       " RelationRecord(items=frozenset({751600, 677910}), support=0.00019015138503815295, ordered_statistics=[OrderedStatistic(items_base=frozenset(), items_add=frozenset({751600, 677910}), confidence=0.00019015138503815295, lift=1.0), OrderedStatistic(items_base=frozenset({677910}), items_add=frozenset({751600}), confidence=0.049323786793953855, lift=3.4953959197760094), OrderedStatistic(items_base=frozenset({751600}), items_add=frozenset({677910}), confidence=0.01347533144968485, lift=3.4953959197760094)]),\n",
       " RelationRecord(items=frozenset({753268, 677910}), support=0.0001012096081654685, ordered_statistics=[OrderedStatistic(items_base=frozenset(), items_add=frozenset({753268, 677910}), confidence=0.0001012096081654685, lift=1.0), OrderedStatistic(items_base=frozenset({677910}), items_add=frozenset({753268}), confidence=0.026252983293556086, lift=6.66143402394064), OrderedStatistic(items_base=frozenset({753268}), items_add=frozenset({677910}), confidence=0.025680933852140077, lift=6.66143402394064)]),\n",
       " RelationRecord(items=frozenset({753285, 677910}), support=0.00010427656598866452, ordered_statistics=[OrderedStatistic(items_base=frozenset(), items_add=frozenset({753285, 677910}), confidence=0.00010427656598866452, lift=1.0), OrderedStatistic(items_base=frozenset({677910}), items_add=frozenset({753285}), confidence=0.027048528241845664, lift=3.7322619231583705), OrderedStatistic(items_base=frozenset({753285}), items_add=frozenset({677910}), confidence=0.014388489208633093, lift=3.7322619231583705)]),\n",
       " RelationRecord(items=frozenset({753357, 677910}), support=0.00032816448708197364, ordered_statistics=[OrderedStatistic(items_base=frozenset(), items_add=frozenset({753357, 677910}), confidence=0.00032816448708197364, lift=1.0), OrderedStatistic(items_base=frozenset({677910}), items_add=frozenset({753357}), confidence=0.08512330946698489, lift=7.332883960783943), OrderedStatistic(items_base=frozenset({753357}), items_add=frozenset({677910}), confidence=0.028269484808454422, lift=7.332883960783942)]),\n",
       " RelationRecord(items=frozenset({677910, 753431}), support=0.00020855313197732904, ordered_statistics=[OrderedStatistic(items_base=frozenset(), items_add=frozenset({677910, 753431}), confidence=0.00020855313197732904, lift=1.0), OrderedStatistic(items_base=frozenset({677910}), items_add=frozenset({753431}), confidence=0.05409705648369133, lift=6.4374707477541815), OrderedStatistic(items_base=frozenset({753431}), items_add=frozenset({677910}), confidence=0.02481751824817518, lift=6.4374707477541815)]),\n",
       " RelationRecord(items=frozenset({753433, 677910}), support=0.0002760262040876414, ordered_statistics=[OrderedStatistic(items_base=frozenset(), items_add=frozenset({753433, 677910}), confidence=0.0002760262040876414, lift=1.0), OrderedStatistic(items_base=frozenset({677910}), items_add=frozenset({753433}), confidence=0.07159904534606205, lift=5.6732195211070735), OrderedStatistic(items_base=frozenset({753433}), items_add=frozenset({677910}), confidence=0.021871202916160386, lift=5.6732195211070735)]),\n",
       " RelationRecord(items=frozenset({753436, 677910}), support=0.0001196113551046446, ordered_statistics=[OrderedStatistic(items_base=frozenset(), items_add=frozenset({753436, 677910}), confidence=0.0001196113551046446, lift=1.0), OrderedStatistic(items_base=frozenset({677910}), items_add=frozenset({753436}), confidence=0.031026252983293555, lift=4.554838335308763), OrderedStatistic(items_base=frozenset({753436}), items_add=frozenset({677910}), confidence=0.017559657811796487, lift=4.554838335308763)]),\n",
       " RelationRecord(items=frozenset({753628, 677910}), support=0.00012881222857423263, ordered_statistics=[OrderedStatistic(items_base=frozenset(), items_add=frozenset({753628, 677910}), confidence=0.00012881222857423263, lift=1.0), OrderedStatistic(items_base=frozenset({677910}), items_add=frozenset({753628}), confidence=0.03341288782816229, lift=11.243005731371811), OrderedStatistic(items_base=frozenset({753628}), items_add=frozenset({677910}), confidence=0.043343653250773995, lift=11.243005731371811)]),\n",
       " RelationRecord(items=frozenset({759397, 677910}), support=0.00020548617415413304, ordered_statistics=[OrderedStatistic(items_base=frozenset(), items_add=frozenset({759397, 677910}), confidence=0.00020548617415413304, lift=1.0), OrderedStatistic(items_base=frozenset({677910}), items_add=frozenset({759397}), confidence=0.053301511535401754, lift=4.685704406898613), OrderedStatistic(items_base=frozenset({759397}), items_add=frozenset({677910}), confidence=0.018064168239417634, lift=4.685704406898613)]),\n",
       " RelationRecord(items=frozenset({759400, 677910}), support=0.00012574527075103663, ordered_statistics=[OrderedStatistic(items_base=frozenset(), items_add=frozenset({759400, 677910}), confidence=0.00012574527075103663, lift=1.0), OrderedStatistic(items_base=frozenset({677910}), items_add=frozenset({759400}), confidence=0.03261734287987271, lift=7.128069939704944), OrderedStatistic(items_base=frozenset({759400}), items_add=frozenset({677910}), confidence=0.027479892761394103, lift=7.128069939704945)]),\n",
       " RelationRecord(items=frozenset({678018, 677927}), support=0.0002177540054469171, ordered_statistics=[OrderedStatistic(items_base=frozenset(), items_add=frozenset({678018, 677927}), confidence=0.0002177540054469171, lift=1.0), OrderedStatistic(items_base=frozenset({677927}), items_add=frozenset({678018}), confidence=0.08086560364464693, lift=26.235537574088557), OrderedStatistic(items_base=frozenset({678018}), items_add=frozenset({677927}), confidence=0.07064676616915423, lift=26.235537574088557)]),\n",
       " RelationRecord(items=frozenset({678042, 677927}), support=0.00017788355374536889, ordered_statistics=[OrderedStatistic(items_base=frozenset(), items_add=frozenset({678042, 677927}), confidence=0.00017788355374536889, lift=1.0), OrderedStatistic(items_base=frozenset({677927}), items_add=frozenset({678042}), confidence=0.06605922551252848, lift=15.744888036339901), OrderedStatistic(items_base=frozenset({678042}), items_add=frozenset({677927}), confidence=0.04239766081871345, lift=15.744888036339901)]),\n",
       " RelationRecord(items=frozenset({685154, 677927}), support=0.00019628530068454498, ordered_statistics=[OrderedStatistic(items_base=frozenset(), items_add=frozenset({685154, 677927}), confidence=0.00019628530068454498, lift=1.0), OrderedStatistic(items_base=frozenset({677927}), items_add=frozenset({685154}), confidence=0.07289293849658314, lift=23.16489274312077), OrderedStatistic(items_base=frozenset({685154}), items_add=frozenset({677927}), confidence=0.06237816764132553, lift=23.164892743120774)]),\n",
       " RelationRecord(items=frozenset({751581, 677927}), support=0.00013494614422062467, ordered_statistics=[OrderedStatistic(items_base=frozenset(), items_add=frozenset({751581, 677927}), confidence=0.00013494614422062467, lift=1.0), OrderedStatistic(items_base=frozenset({677927}), items_add=frozenset({751581}), confidence=0.05011389521640091, lift=2.985553849566749), OrderedStatistic(items_base=frozenset({751581}), items_add=frozenset({677927}), confidence=0.008039466471770508, lift=2.9855538495667484)]),\n",
       " RelationRecord(items=frozenset({751600, 677927}), support=0.00014414701769021273, ordered_statistics=[OrderedStatistic(items_base=frozenset(), items_add=frozenset({751600, 677927}), confidence=0.00014414701769021273, lift=1.0), OrderedStatistic(items_base=frozenset({677927}), items_add=frozenset({751600}), confidence=0.05353075170842825, lift=3.793528098031576), OrderedStatistic(items_base=frozenset({751600}), items_add=frozenset({677927}), confidence=0.010215170615083678, lift=3.793528098031576)]),\n",
       " RelationRecord(items=frozenset({753285, 677927}), support=0.00021468704762372107, ordered_statistics=[OrderedStatistic(items_base=frozenset(), items_add=frozenset({753285, 677927}), confidence=0.00021468704762372107, lift=1.0), OrderedStatistic(items_base=frozenset({677927}), items_add=frozenset({753285}), confidence=0.07972665148063782, lift=11.000995799903023), OrderedStatistic(items_base=frozenset({753285}), items_add=frozenset({677927}), confidence=0.02962336013542107, lift=11.000995799903022)]),\n",
       " RelationRecord(items=frozenset({753357, 677927}), support=0.00021162008980052507, ordered_statistics=[OrderedStatistic(items_base=frozenset(), items_add=frozenset({753357, 677927}), confidence=0.00021162008980052507, lift=1.0), OrderedStatistic(items_base=frozenset({677927}), items_add=frozenset({753357}), confidence=0.0785876993166287, lift=6.769878702346813), OrderedStatistic(items_base=frozenset({753357}), items_add=frozenset({677927}), confidence=0.01822985468956407, lift=6.769878702346814)]),\n",
       " RelationRecord(items=frozenset({753381, 677927}), support=0.00011654439728144858, ordered_statistics=[OrderedStatistic(items_base=frozenset(), items_add=frozenset({753381, 677927}), confidence=0.00011654439728144858, lift=1.0), OrderedStatistic(items_base=frozenset({677927}), items_add=frozenset({753381}), confidence=0.04328018223234624, lift=9.725543141247336), OrderedStatistic(items_base=frozenset({753381}), items_add=frozenset({677927}), confidence=0.026188835286009647, lift=9.725543141247337)]),\n",
       " RelationRecord(items=frozenset({753431, 677927}), support=0.0001594818068061928, ordered_statistics=[OrderedStatistic(items_base=frozenset(), items_add=frozenset({677927, 753431}), confidence=0.0001594818068061928, lift=1.0), OrderedStatistic(items_base=frozenset({677927}), items_add=frozenset({753431}), confidence=0.0592255125284738, lift=7.047749530286151), OrderedStatistic(items_base=frozenset({753431}), items_add=frozenset({677927}), confidence=0.01897810218978102, lift=7.0477495302861515)]),\n",
       " RelationRecord(items=frozenset({753433, 677927}), support=0.0003158966557891896, ordered_statistics=[OrderedStatistic(items_base=frozenset(), items_add=frozenset({753433, 677927}), confidence=0.0003158966557891896, lift=1.0), OrderedStatistic(items_base=frozenset({677927}), items_add=frozenset({753433}), confidence=0.1173120728929385, lift=9.29533541656864), OrderedStatistic(items_base=frozenset({753433}), items_add=frozenset({677927}), confidence=0.02503037667071689, lift=9.29533541656864)]),\n",
       " RelationRecord(items=frozenset({753600, 677927}), support=0.0001410800598670167, ordered_statistics=[OrderedStatistic(items_base=frozenset(), items_add=frozenset({753600, 677927}), confidence=0.0001410800598670167, lift=1.0), OrderedStatistic(items_base=frozenset({677927}), items_add=frozenset({753600}), confidence=0.05239179954441913, lift=1.7720602274123571), OrderedStatistic(items_base=frozenset({753600}), items_add=frozenset({677927}), confidence=0.004771784232365145, lift=1.7720602274123574)]),\n",
       " RelationRecord(items=frozenset({759397, 677927}), support=0.0003189636136123856, ordered_statistics=[OrderedStatistic(items_base=frozenset(), items_add=frozenset({759397, 677927}), confidence=0.0003189636136123856, lift=1.0), OrderedStatistic(items_base=frozenset({677927}), items_add=frozenset({759397}), confidence=0.1184510250569476, lift=10.412959672679458), OrderedStatistic(items_base=frozenset({759397}), items_add=frozenset({677927}), confidence=0.028039902938797517, lift=10.412959672679458)]),\n",
       " RelationRecord(items=frozenset({677986, 677999}), support=0.00016254876462938882, ordered_statistics=[OrderedStatistic(items_base=frozenset(), items_add=frozenset({677986, 677999}), confidence=0.00016254876462938882, lift=1.0), OrderedStatistic(items_base=frozenset({677986}), items_add=frozenset({677999}), confidence=0.05549738219895289, lift=21.854172041378966), OrderedStatistic(items_base=frozenset({677999}), items_add=frozenset({677986}), confidence=0.0640096618357488, lift=21.854172041378966)]),\n",
       " RelationRecord(items=frozenset({677986, 678042}), support=0.00012574527075103663, ordered_statistics=[OrderedStatistic(items_base=frozenset(), items_add=frozenset({677986, 678042}), confidence=0.00012574527075103663, lift=1.0), OrderedStatistic(items_base=frozenset({677986}), items_add=frozenset({678042}), confidence=0.042931937172774874, lift=10.232613820764827), OrderedStatistic(items_base=frozenset({678042}), items_add=frozenset({677986}), confidence=0.029970760233918127, lift=10.232613820764827)]),\n",
       " RelationRecord(items=frozenset({677986, 678084}), support=0.00011347743945825257, ordered_statistics=[OrderedStatistic(items_base=frozenset(), items_add=frozenset({677986, 678084}), confidence=0.00011347743945825257, lift=1.0), OrderedStatistic(items_base=frozenset({677986}), items_add=frozenset({678084}), confidence=0.0387434554973822, lift=8.438567886208718), OrderedStatistic(items_base=frozenset({678084}), items_add=frozenset({677986}), confidence=0.024716098864395457, lift=8.438567886208718)]),\n",
       " RelationRecord(items=frozenset({677986, 685154}), support=0.00010734352381186054, ordered_statistics=[OrderedStatistic(items_base=frozenset(), items_add=frozenset({677986, 685154}), confidence=0.00010734352381186054, lift=1.0), OrderedStatistic(items_base=frozenset({677986}), items_add=frozenset({685154}), confidence=0.03664921465968587, lift=11.646877519569722), OrderedStatistic(items_base=frozenset({685154}), items_add=frozenset({677986}), confidence=0.0341130604288499, lift=11.64687751956972)]),\n",
       " RelationRecord(items=frozenset({703674, 677986}), support=0.0002974949088500135, ordered_statistics=[OrderedStatistic(items_base=frozenset(), items_add=frozenset({703674, 677986}), confidence=0.0002974949088500135, lift=1.0), OrderedStatistic(items_base=frozenset({677986}), items_add=frozenset({703674}), confidence=0.10157068062827226, lift=22.301501577731948), OrderedStatistic(items_base=frozenset({703674}), items_add=frozenset({677986}), confidence=0.06531986531986532, lift=22.301501577731944)]),\n",
       " RelationRecord(items=frozenset({677986, 703694}), support=0.00010427656598866452, ordered_statistics=[OrderedStatistic(items_base=frozenset(), items_add=frozenset({677986, 703694}), confidence=0.00010427656598866452, lift=1.0), OrderedStatistic(items_base=frozenset({677986}), items_add=frozenset({703694}), confidence=0.0356020942408377, lift=19.575508330169605), OrderedStatistic(items_base=frozenset({703694}), items_add=frozenset({677986}), confidence=0.05733558178752107, lift=19.575508330169605)]),\n",
       " RelationRecord(items=frozenset({677986, 751581}), support=0.00012881222857423263, ordered_statistics=[OrderedStatistic(items_base=frozenset(), items_add=frozenset({677986, 751581}), confidence=0.00012881222857423263, lift=1.0), OrderedStatistic(items_base=frozenset({677986}), items_add=frozenset({751581}), confidence=0.04397905759162304, lift=2.620068628191895), OrderedStatistic(items_base=frozenset({751581}), items_add=frozenset({677986}), confidence=0.0076740361775991224, lift=2.620068628191895)]),\n",
       " RelationRecord(items=frozenset({751600, 677986}), support=0.00010427656598866452, ordered_statistics=[OrderedStatistic(items_base=frozenset(), items_add=frozenset({751600, 677986}), confidence=0.00010427656598866452, lift=1.0), OrderedStatistic(items_base=frozenset({677986}), items_add=frozenset({751600}), confidence=0.0356020942408377, lift=2.5229898804152526), OrderedStatistic(items_base=frozenset({751600}), items_add=frozenset({677986}), confidence=0.00738969789176266, lift=2.522989880415252)]),\n",
       " RelationRecord(items=frozenset({677986, 753268}), support=0.00010734352381186054, ordered_statistics=[OrderedStatistic(items_base=frozenset(), items_add=frozenset({677986, 753268}), confidence=0.00010734352381186054, lift=1.0), OrderedStatistic(items_base=frozenset({677986}), items_add=frozenset({753268}), confidence=0.03664921465968587, lift=9.299374579827655), OrderedStatistic(items_base=frozenset({753268}), items_add=frozenset({677986}), confidence=0.027237354085603113, lift=9.299374579827653)]),\n",
       " RelationRecord(items=frozenset({677986, 753285}), support=0.00017788355374536889, ordered_statistics=[OrderedStatistic(items_base=frozenset(), items_add=frozenset({677986, 753285}), confidence=0.00017788355374536889, lift=1.0), OrderedStatistic(items_base=frozenset({677986}), items_add=frozenset({753285}), confidence=0.060732984293193716, lift=8.380175169996432), OrderedStatistic(items_base=frozenset({753285}), items_add=frozenset({677986}), confidence=0.024545069826491746, lift=8.380175169996432)]),\n",
       " RelationRecord(items=frozenset({677986, 753357}), support=0.00036803493878352183, ordered_statistics=[OrderedStatistic(items_base=frozenset(), items_add=frozenset({677986, 753357}), confidence=0.00036803493878352183, lift=1.0), OrderedStatistic(items_base=frozenset({677986}), items_add=frozenset({753357}), confidence=0.1256544502617801, lift=10.824408833435923), OrderedStatistic(items_base=frozenset({753357}), items_add=frozenset({677986}), confidence=0.031704095112285335, lift=10.824408833435925)]),\n",
       " RelationRecord(items=frozenset({677986, 753431}), support=0.00023308879456289717, ordered_statistics=[OrderedStatistic(items_base=frozenset(), items_add=frozenset({677986, 753431}), confidence=0.00023308879456289717, lift=1.0), OrderedStatistic(items_base=frozenset({677986}), items_add=frozenset({753431}), confidence=0.07958115183246074, lift=9.470040891198838), OrderedStatistic(items_base=frozenset({753431}), items_add=frozenset({677986}), confidence=0.02773722627737226, lift=9.470040891198838)]),\n",
       " RelationRecord(items=frozenset({753433, 677986}), support=0.0002760262040876414, ordered_statistics=[OrderedStatistic(items_base=frozenset(), items_add=frozenset({753433, 677986}), confidence=0.0002760262040876414, lift=1.0), OrderedStatistic(items_base=frozenset({677986}), items_add=frozenset({753433}), confidence=0.09424083769633508, lift=7.467263809457164), OrderedStatistic(items_base=frozenset({753433}), items_add=frozenset({677986}), confidence=0.021871202916160386, lift=7.4672638094571635)]),\n",
       " RelationRecord(items=frozenset({677986, 753436}), support=0.00010734352381186054, ordered_statistics=[OrderedStatistic(items_base=frozenset(), items_add=frozenset({677986, 753436}), confidence=0.00010734352381186054, lift=1.0), OrderedStatistic(items_base=frozenset({677986}), items_add=frozenset({753436}), confidence=0.03664921465968587, lift=5.380322528175838), OrderedStatistic(items_base=frozenset({753436}), items_add=frozenset({677986}), confidence=0.01575866726699685, lift=5.380322528175838)]),\n",
       " RelationRecord(items=frozenset({677986, 753628}), support=0.00011654439728144858, ordered_statistics=[OrderedStatistic(items_base=frozenset(), items_add=frozenset({677986, 753628}), confidence=0.00011654439728144858, lift=1.0), OrderedStatistic(items_base=frozenset({677986}), items_add=frozenset({753628}), confidence=0.03979057591623037, lift=13.389015501488556), OrderedStatistic(items_base=frozenset({753628}), items_add=frozenset({677986}), confidence=0.0392156862745098, lift=13.389015501488554)]),\n",
       " RelationRecord(items=frozenset({677986, 759397}), support=0.0003158966557891896, ordered_statistics=[OrderedStatistic(items_base=frozenset(), items_add=frozenset({677986, 759397}), confidence=0.0003158966557891896, lift=1.0), OrderedStatistic(items_base=frozenset({677986}), items_add=frozenset({759397}), confidence=0.10785340314136126, lift=9.481328987505982), OrderedStatistic(items_base=frozenset({759397}), items_add=frozenset({677986}), confidence=0.02777028848746293, lift=9.481328987505982)]),\n",
       " RelationRecord(items=frozenset({678042, 677999}), support=0.00011654439728144858, ordered_statistics=[OrderedStatistic(items_base=frozenset(), items_add=frozenset({678042, 677999}), confidence=0.00011654439728144858, lift=1.0), OrderedStatistic(items_base=frozenset({677999}), items_add=frozenset({678042}), confidence=0.04589371980676329, lift=10.938539989264628), OrderedStatistic(items_base=frozenset({678042}), items_add=frozenset({677999}), confidence=0.027777777777777776, lift=10.938539989264626)]),\n",
       " RelationRecord(items=frozenset({678084, 677999}), support=0.00010734352381186054, ordered_statistics=[OrderedStatistic(items_base=frozenset(), items_add=frozenset({678084, 677999}), confidence=0.00010734352381186054, lift=1.0), OrderedStatistic(items_base=frozenset({677999}), items_add=frozenset({678084}), confidence=0.042270531400966184, lift=9.206787165312912), OrderedStatistic(items_base=frozenset({678084}), items_add=frozenset({677999}), confidence=0.023380093520374078, lift=9.206787165312912)]),\n",
       " RelationRecord(items=frozenset({703674, 677999}), support=0.00011347743945825257, ordered_statistics=[OrderedStatistic(items_base=frozenset(), items_add=frozenset({703674, 677999}), confidence=0.00011347743945825257, lift=1.0), OrderedStatistic(items_base=frozenset({677999}), items_add=frozenset({703674}), confidence=0.044685990338164255, lift=9.811538899461606), OrderedStatistic(items_base=frozenset({703674}), items_add=frozenset({677999}), confidence=0.024915824915824916, lift=9.811538899461604)]),\n",
       " RelationRecord(items=frozenset({751581, 677999}), support=0.0001196113551046446, ordered_statistics=[OrderedStatistic(items_base=frozenset(), items_add=frozenset({751581, 677999}), confidence=0.0001196113551046446, lift=1.0), OrderedStatistic(items_base=frozenset({677999}), items_add=frozenset({751581}), confidence=0.04710144927536232, lift=2.8060862680298806), OrderedStatistic(items_base=frozenset({751581}), items_add=frozenset({677999}), confidence=0.007125890736342043, lift=2.8060862680298806)]),\n",
       " RelationRecord(items=frozenset({753285, 677999}), support=0.0001410800598670167, ordered_statistics=[OrderedStatistic(items_base=frozenset(), items_add=frozenset({753285, 677999}), confidence=0.0001410800598670167, lift=1.0), OrderedStatistic(items_base=frozenset({677999}), items_add=frozenset({753285}), confidence=0.05555555555555555, lift=7.665773263741947), OrderedStatistic(items_base=frozenset({753285}), items_add=frozenset({677999}), confidence=0.019466779517562417, lift=7.665773263741946)]),\n",
       " RelationRecord(items=frozenset({753324, 677999}), support=0.0001012096081654685, ordered_statistics=[OrderedStatistic(items_base=frozenset(), items_add=frozenset({753324, 677999}), confidence=0.0001012096081654685, lift=1.0), OrderedStatistic(items_base=frozenset({677999}), items_add=frozenset({753324}), confidence=0.03985507246376812, lift=18.048590982286637), OrderedStatistic(items_base=frozenset({753324}), items_add=frozenset({677999}), confidence=0.04583333333333333, lift=18.048590982286633)]),\n",
       " RelationRecord(items=frozenset({753357, 677999}), support=0.00032816448708197364, ordered_statistics=[OrderedStatistic(items_base=frozenset(), items_add=frozenset({753357, 677999}), confidence=0.00032816448708197364, lift=1.0), OrderedStatistic(items_base=frozenset({677999}), items_add=frozenset({753357}), confidence=0.1292270531400966, lift=11.132168041914753), OrderedStatistic(items_base=frozenset({753357}), items_add=frozenset({677999}), confidence=0.028269484808454422, lift=11.132168041914753)]),\n",
       " RelationRecord(items=frozenset({753431, 677999}), support=0.00020548617415413304, ordered_statistics=[OrderedStatistic(items_base=frozenset(), items_add=frozenset({677999, 753431}), confidence=0.00020548617415413304, lift=1.0), OrderedStatistic(items_base=frozenset({677999}), items_add=frozenset({753431}), confidence=0.08091787439613528, lift=9.629108924856308), OrderedStatistic(items_base=frozenset({753431}), items_add=frozenset({677999}), confidence=0.024452554744525547, lift=9.629108924856308)]),\n",
       " RelationRecord(items=frozenset({753433, 677999}), support=0.0003036288244964055, ordered_statistics=[OrderedStatistic(items_base=frozenset(), items_add=frozenset({753433, 677999}), confidence=0.0003036288244964055, lift=1.0), OrderedStatistic(items_base=frozenset({677999}), items_add=frozenset({753433}), confidence=0.11956521739130435, lift=9.473865497384965), OrderedStatistic(items_base=frozenset({753433}), items_add=frozenset({677999}), confidence=0.024058323207776428, lift=9.473865497384965)]),\n",
       " RelationRecord(items=frozenset({753628, 677999}), support=0.00016254876462938882, ordered_statistics=[OrderedStatistic(items_base=frozenset(), items_add=frozenset({753628, 677999}), confidence=0.00016254876462938882, lift=1.0), OrderedStatistic(items_base=frozenset({677999}), items_add=frozenset({753628}), confidence=0.0640096618357488, lift=21.538425489697534), OrderedStatistic(items_base=frozenset({753628}), items_add=frozenset({677999}), confidence=0.05469556243550052, lift=21.538425489697534)]),\n",
       " RelationRecord(items=frozenset({759397, 677999}), support=0.00026682533061805333, ordered_statistics=[OrderedStatistic(items_base=frozenset(), items_add=frozenset({759397, 677999}), confidence=0.00026682533061805333, lift=1.0), OrderedStatistic(items_base=frozenset({677999}), items_add=frozenset({759397}), confidence=0.10507246376811594, lift=9.236858249225346), OrderedStatistic(items_base=frozenset({759397}), items_add=frozenset({677999}), confidence=0.02345645726610946, lift=9.236858249225346)]),\n",
       " RelationRecord(items=frozenset({759400, 677999}), support=0.00012267831292784063, ordered_statistics=[OrderedStatistic(items_base=frozenset(), items_add=frozenset({759400, 677999}), confidence=0.00012267831292784063, lift=1.0), OrderedStatistic(items_base=frozenset({677999}), items_add=frozenset({759400}), confidence=0.04830917874396136, lift=10.557304011086504), OrderedStatistic(items_base=frozenset({759400}), items_add=frozenset({677999}), confidence=0.026809651474530835, lift=10.557304011086504)]),\n",
       " RelationRecord(items=frozenset({678001, 753559}), support=0.00012881222857423263, ordered_statistics=[OrderedStatistic(items_base=frozenset(), items_add=frozenset({678001, 753559}), confidence=0.00012881222857423263, lift=1.0), OrderedStatistic(items_base=frozenset({678001}), items_add=frozenset({753559}), confidence=0.26582278481012656, lift=64.82656239644774), OrderedStatistic(items_base=frozenset({753559}), items_add=frozenset({678001}), confidence=0.031413612565445025, lift=64.82656239644774)]),\n",
       " RelationRecord(items=frozenset({753432, 678017}), support=0.00010427656598866452, ordered_statistics=[OrderedStatistic(items_base=frozenset(), items_add=frozenset({753432, 678017}), confidence=0.00010427656598866452, lift=1.0), OrderedStatistic(items_base=frozenset({678017}), items_add=frozenset({753432}), confidence=0.3119266055045871, lift=72.90719805333595), OrderedStatistic(items_base=frozenset({753432}), items_add=frozenset({678017}), confidence=0.024372759856630823, lift=72.90719805333596)]),\n",
       " RelationRecord(items=frozenset({678018, 678042}), support=0.000199352258507741, ordered_statistics=[OrderedStatistic(items_base=frozenset(), items_add=frozenset({678018, 678042}), confidence=0.000199352258507741, lift=1.0), OrderedStatistic(items_base=frozenset({678018}), items_add=frozenset({678042}), confidence=0.0646766169154229, lift=15.41535014983562), OrderedStatistic(items_base=frozenset({678042}), items_add=frozenset({678018}), confidence=0.04751461988304093, lift=15.415350149835618)]),\n",
       " RelationRecord(items=frozenset({678018, 678084}), support=0.00012881222857423263, ordered_statistics=[OrderedStatistic(items_base=frozenset(), items_add=frozenset({678018, 678084}), confidence=0.00012881222857423263, lift=1.0), OrderedStatistic(items_base=frozenset({678018}), items_add=frozenset({678084}), confidence=0.041791044776119404, lift=9.102351967616826), OrderedStatistic(items_base=frozenset({678084}), items_add=frozenset({678018}), confidence=0.028056112224448895, lift=9.102351967616825)]),\n",
       " RelationRecord(items=frozenset({678018, 685154}), support=0.00016868268027578085, ordered_statistics=[OrderedStatistic(items_base=frozenset(), items_add=frozenset({678018, 685154}), confidence=0.00016868268027578085, lift=1.0), OrderedStatistic(items_base=frozenset({678018}), items_add=frozenset({685154}), confidence=0.05472636815920399, lift=17.391677092122237), OrderedStatistic(items_base=frozenset({685154}), items_add=frozenset({678018}), confidence=0.05360623781676413, lift=17.391677092122237)]),\n",
       " RelationRecord(items=frozenset({678018, 685339}), support=0.00010427656598866452, ordered_statistics=[OrderedStatistic(items_base=frozenset(), items_add=frozenset({678018, 685339}), confidence=0.00010427656598866452, lift=1.0), OrderedStatistic(items_base=frozenset({678018}), items_add=frozenset({685339}), confidence=0.03383084577114428, lift=15.36316190634571), OrderedStatistic(items_base=frozenset({685339}), items_add=frozenset({678018}), confidence=0.04735376044568245, lift=15.36316190634571)]),\n",
       " RelationRecord(items=frozenset({703674, 678018}), support=0.00011654439728144858, ordered_statistics=[OrderedStatistic(items_base=frozenset(), items_add=frozenset({703674, 678018}), confidence=0.00011654439728144858, lift=1.0), OrderedStatistic(items_base=frozenset({678018}), items_add=frozenset({703674}), confidence=0.037810945273631845, lift=8.302010486289094), OrderedStatistic(items_base=frozenset({703674}), items_add=frozenset({678018}), confidence=0.02558922558922559, lift=8.302010486289094)]),\n",
       " RelationRecord(items=frozenset({678018, 751581}), support=0.0001196113551046446, ordered_statistics=[OrderedStatistic(items_base=frozenset(), items_add=frozenset({678018, 751581}), confidence=0.0001196113551046446, lift=1.0), OrderedStatistic(items_base=frozenset({678018}), items_add=frozenset({751581}), confidence=0.038805970149253737, lift=2.311880029779842), OrderedStatistic(items_base=frozenset({751581}), items_add=frozenset({678018}), confidence=0.007125890736342043, lift=2.311880029779842)]),\n",
       " RelationRecord(items=frozenset({751600, 678018}), support=0.0001196113551046446, ordered_statistics=[OrderedStatistic(items_base=frozenset(), items_add=frozenset({751600, 678018}), confidence=0.0001196113551046446, lift=1.0), OrderedStatistic(items_base=frozenset({678018}), items_add=frozenset({751600}), confidence=0.038805970149253737, lift=2.750036818731814), OrderedStatistic(items_base=frozenset({751600}), items_add=frozenset({678018}), confidence=0.008476418169963052, lift=2.750036818731814)]),\n",
       " RelationRecord(items=frozenset({678018, 753285}), support=0.00025762445714846527, ordered_statistics=[OrderedStatistic(items_base=frozenset(), items_add=frozenset({678018, 753285}), confidence=0.00025762445714846527, lift=1.0), OrderedStatistic(items_base=frozenset({678018}), items_add=frozenset({753285}), confidence=0.08358208955223881, lift=11.532984253510273), OrderedStatistic(items_base=frozenset({753285}), items_add=frozenset({678018}), confidence=0.03554803216250529, lift=11.532984253510273)]),\n",
       " RelationRecord(items=frozenset({678018, 753357}), support=0.00029442795102681746, ordered_statistics=[OrderedStatistic(items_base=frozenset(), items_add=frozenset({678018, 753357}), confidence=0.00029442795102681746, lift=1.0), OrderedStatistic(items_base=frozenset({678018}), items_add=frozenset({753357}), confidence=0.0955223880597015, lift=8.228704824621936), OrderedStatistic(items_base=frozenset({753357}), items_add=frozenset({678018}), confidence=0.025363276089828267, lift=8.228704824621936)]),\n",
       " RelationRecord(items=frozenset({678018, 753381}), support=0.000199352258507741, ordered_statistics=[OrderedStatistic(items_base=frozenset(), items_add=frozenset({678018, 753381}), confidence=0.000199352258507741, lift=1.0), OrderedStatistic(items_base=frozenset({678018}), items_add=frozenset({753381}), confidence=0.0646766169154229, lift=14.53356237420753), OrderedStatistic(items_base=frozenset({753381}), items_add=frozenset({678018}), confidence=0.044796691936595454, lift=14.53356237420753)]),\n",
       " RelationRecord(items=frozenset({678018, 753431}), support=0.0002361557523860932, ordered_statistics=[OrderedStatistic(items_base=frozenset(), items_add=frozenset({678018, 753431}), confidence=0.0002361557523860932, lift=1.0), OrderedStatistic(items_base=frozenset({678018}), items_add=frozenset({753431}), confidence=0.07661691542288558, lift=9.117301085811818), OrderedStatistic(items_base=frozenset({753431}), items_add=frozenset({678018}), confidence=0.028102189781021896, lift=9.117301085811818)]),\n",
       " RelationRecord(items=frozenset({753433, 678018}), support=0.0004109723483082661, ordered_statistics=[OrderedStatistic(items_base=frozenset(), items_add=frozenset({753433, 678018}), confidence=0.0004109723483082661, lift=1.0), OrderedStatistic(items_base=frozenset({678018}), items_add=frozenset({753433}), confidence=0.13333333333333336, lift=10.564795463750508), OrderedStatistic(items_base=frozenset({753433}), items_add=frozenset({678018}), confidence=0.03256379100850547, lift=10.564795463750507)]),\n",
       " RelationRecord(items=frozenset({678018, 753436}), support=0.00020855313197732904, ordered_statistics=[OrderedStatistic(items_base=frozenset(), items_add=frozenset({678018, 753436}), confidence=0.00020855313197732904, lift=1.0), OrderedStatistic(items_base=frozenset({678018}), items_add=frozenset({753436}), confidence=0.06766169154228856, lift=9.933138450028112), OrderedStatistic(items_base=frozenset({753436}), items_add=frozenset({678018}), confidence=0.03061683926159388, lift=9.933138450028114)]),\n",
       " RelationRecord(items=frozenset({678018, 759397}), support=0.0003803027700763059, ordered_statistics=[OrderedStatistic(items_base=frozenset(), items_add=frozenset({678018, 759397}), confidence=0.0003803027700763059, lift=1.0), OrderedStatistic(items_base=frozenset({678018}), items_add=frozenset({759397}), confidence=0.12338308457711443, lift=10.84653411293492), OrderedStatistic(items_base=frozenset({759397}), items_add=frozenset({678018}), confidence=0.03343219196548935, lift=10.84653411293492)]),\n",
       " RelationRecord(items=frozenset({678042, 678055}), support=0.0003005618666732095, ordered_statistics=[OrderedStatistic(items_base=frozenset(), items_add=frozenset({678042, 678055}), confidence=0.0003005618666732095, lift=1.0), OrderedStatistic(items_base=frozenset({678042}), items_add=frozenset({678055}), confidence=0.07163742690058479, lift=31.779337231968807), OrderedStatistic(items_base=frozenset({678055}), items_add=frozenset({678042}), confidence=0.13333333333333333, lift=31.77933723196881)]),\n",
       " RelationRecord(items=frozenset({678042, 678084}), support=0.0001594818068061928, ordered_statistics=[OrderedStatistic(items_base=frozenset(), items_add=frozenset({678042, 678084}), confidence=0.0001594818068061928, lift=1.0), OrderedStatistic(items_base=frozenset({678042}), items_add=frozenset({678084}), confidence=0.038011695906432746, lift=8.279186052416723), OrderedStatistic(items_base=frozenset({678084}), items_add=frozenset({678042}), confidence=0.034736138944555774, lift=8.279186052416723)]),\n",
       " RelationRecord(items=frozenset({678042, 685154}), support=0.0002361557523860932, ordered_statistics=[OrderedStatistic(items_base=frozenset(), items_add=frozenset({678042, 685154}), confidence=0.0002361557523860932, lift=1.0), OrderedStatistic(items_base=frozenset({678042}), items_add=frozenset({685154}), confidence=0.05628654970760234, lift=17.8874924478187), OrderedStatistic(items_base=frozenset({685154}), items_add=frozenset({678042}), confidence=0.07504873294346978, lift=17.8874924478187)]),\n",
       " RelationRecord(items=frozenset({678042, 685339}), support=0.00016868268027578085, ordered_statistics=[OrderedStatistic(items_base=frozenset(), items_add=frozenset({678042, 685339}), confidence=0.00016868268027578085, lift=1.0), OrderedStatistic(items_base=frozenset({678042}), items_add=frozenset({685339}), confidence=0.0402046783625731, lift=18.257627588004365), OrderedStatistic(items_base=frozenset({685339}), items_add=frozenset({678042}), confidence=0.07660167130919221, lift=18.257627588004368)]),\n",
       " RelationRecord(items=frozenset({703674, 678042}), support=0.00012881222857423263, ordered_statistics=[OrderedStatistic(items_base=frozenset(), items_add=frozenset({703674, 678042}), confidence=0.00012881222857423263, lift=1.0), OrderedStatistic(items_base=frozenset({678042}), items_add=frozenset({703674}), confidence=0.030701754385964907, lift=6.741071534053989), OrderedStatistic(items_base=frozenset({703674}), items_add=frozenset({678042}), confidence=0.02828282828282828, lift=6.741071534053989)]),\n",
       " RelationRecord(items=frozenset({678042, 703686}), support=0.00013187918639742866, ordered_statistics=[OrderedStatistic(items_base=frozenset(), items_add=frozenset({678042, 703686}), confidence=0.00013187918639742866, lift=1.0), OrderedStatistic(items_base=frozenset({678042}), items_add=frozenset({703686}), confidence=0.031432748538011694, lift=16.884408990625932), OrderedStatistic(items_base=frozenset({703686}), items_add=frozenset({678042}), confidence=0.07084019769357495, lift=16.884408990625932)]),\n",
       " RelationRecord(items=frozenset({678042, 703687}), support=0.0001196113551046446, ordered_statistics=[OrderedStatistic(items_base=frozenset(), items_add=frozenset({678042, 703687}), confidence=0.0001196113551046446, lift=1.0), OrderedStatistic(items_base=frozenset({678042}), items_add=frozenset({703687}), confidence=0.02850877192982456, lift=19.947330773285145), OrderedStatistic(items_base=frozenset({703687}), items_add=frozenset({678042}), confidence=0.08369098712446352, lift=19.94733077328514)]),\n",
       " RelationRecord(items=frozenset({678042, 751581}), support=0.00021468704762372107, ordered_statistics=[OrderedStatistic(items_base=frozenset(), items_add=frozenset({678042, 751581}), confidence=0.00021468704762372107, lift=1.0), OrderedStatistic(items_base=frozenset({678042}), items_add=frozenset({751581}), confidence=0.05116959064327485, lift=3.0484472952281427), OrderedStatistic(items_base=frozenset({751581}), items_add=frozenset({678042}), confidence=0.012790060295998539, lift=3.0484472952281427)]),\n",
       " RelationRecord(items=frozenset({751600, 678042}), support=0.00011347743945825257, ordered_statistics=[OrderedStatistic(items_base=frozenset(), items_add=frozenset({751600, 678042}), confidence=0.00011347743945825257, lift=1.0), OrderedStatistic(items_base=frozenset({678042}), items_add=frozenset({751600}), confidence=0.027046783625730993, lift=1.9167063859750804), OrderedStatistic(items_base=frozenset({751600}), items_add=frozenset({678042}), confidence=0.008041730058682896, lift=1.9167063859750806)]),\n",
       " RelationRecord(items=frozenset({678042, 753285}), support=0.000202419216330937, ordered_statistics=[OrderedStatistic(items_base=frozenset(), items_add=frozenset({678042, 753285}), confidence=0.000202419216330937, lift=1.0), OrderedStatistic(items_base=frozenset({678042}), items_add=frozenset({753285}), confidence=0.04824561403508772, lift=6.657118886933796), OrderedStatistic(items_base=frozenset({753285}), items_add=frozenset({678042}), confidence=0.0279305966991113, lift=6.657118886933796)]),\n",
       " RelationRecord(items=frozenset({678042, 753357}), support=0.00038336972789950195, ordered_statistics=[OrderedStatistic(items_base=frozenset(), items_add=frozenset({678042, 753357}), confidence=0.00038336972789950195, lift=1.0), OrderedStatistic(items_base=frozenset({678042}), items_add=frozenset({753357}), confidence=0.09137426900584796, lift=7.871368204747889), OrderedStatistic(items_base=frozenset({753357}), items_add=frozenset({678042}), confidence=0.03302509907529723, lift=7.871368204747889)]),\n",
       " RelationRecord(items=frozenset({678042, 753381}), support=0.00016561572245258482, ordered_statistics=[OrderedStatistic(items_base=frozenset(), items_add=frozenset({678042, 753381}), confidence=0.00016561572245258482, lift=1.0), OrderedStatistic(items_base=frozenset({678042}), items_add=frozenset({753381}), confidence=0.039473684210526314, lift=8.870180274946497), OrderedStatistic(items_base=frozenset({753381}), items_add=frozenset({678042}), confidence=0.0372157133011716, lift=8.870180274946495)]),\n",
       " RelationRecord(items=frozenset({753408, 678042}), support=0.00015334789115980076, ordered_statistics=[OrderedStatistic(items_base=frozenset(), items_add=frozenset({753408, 678042}), confidence=0.00015334789115980076, lift=1.0), OrderedStatistic(items_base=frozenset({678042}), items_add=frozenset({753408}), confidence=0.03654970760233918, lift=11.514252620278553), OrderedStatistic(items_base=frozenset({753408}), items_add=frozenset({678042}), confidence=0.048309178743961345, lift=11.514252620278553)]),\n",
       " RelationRecord(items=frozenset({678042, 753431}), support=0.000202419216330937, ordered_statistics=[OrderedStatistic(items_base=frozenset(), items_add=frozenset({678042, 753431}), confidence=0.000202419216330937, lift=1.0), OrderedStatistic(items_base=frozenset({678042}), items_add=frozenset({753431}), confidence=0.04824561403508772, lift=5.741157638622102), OrderedStatistic(items_base=frozenset({753431}), items_add=frozenset({678042}), confidence=0.02408759124087591, lift=5.741157638622102)]),\n",
       " RelationRecord(items=frozenset({753433, 678042}), support=0.00033123144490516964, ordered_statistics=[OrderedStatistic(items_base=frozenset(), items_add=frozenset({753433, 678042}), confidence=0.00033123144490516964, lift=1.0), OrderedStatistic(items_base=frozenset({678042}), items_add=frozenset({753433}), confidence=0.07894736842105263, lift=6.255470998273325), OrderedStatistic(items_base=frozenset({753433}), items_add=frozenset({678042}), confidence=0.026245443499392465, lift=6.255470998273325)]),\n",
       " RelationRecord(items=frozenset({678042, 753436}), support=0.00016868268027578085, ordered_statistics=[OrderedStatistic(items_base=frozenset(), items_add=frozenset({678042, 753436}), confidence=0.00016868268027578085, lift=1.0), OrderedStatistic(items_base=frozenset({678042}), items_add=frozenset({753436}), confidence=0.0402046783625731, lift=5.90228573083617), OrderedStatistic(items_base=frozenset({753436}), items_add=frozenset({678042}), confidence=0.024763619990995047, lift=5.90228573083617)]),\n",
       " RelationRecord(items=frozenset({678042, 759397}), support=0.00035576710749073777, ordered_statistics=[OrderedStatistic(items_base=frozenset(), items_add=frozenset({678042, 759397}), confidence=0.00035576710749073777, lift=1.0), OrderedStatistic(items_base=frozenset({678042}), items_add=frozenset({759397}), confidence=0.0847953216374269, lift=7.454306657269577), OrderedStatistic(items_base=frozenset({759397}), items_add=frozenset({678042}), confidence=0.031275276354812614, lift=7.454306657269577)]),\n",
       " RelationRecord(items=frozenset({759400, 678042}), support=0.0001410800598670167, ordered_statistics=[OrderedStatistic(items_base=frozenset(), items_add=frozenset({759400, 678042}), confidence=0.0001410800598670167, lift=1.0), OrderedStatistic(items_base=frozenset({678042}), items_add=frozenset({759400}), confidence=0.033625730994152045, lift=7.348439239295737), OrderedStatistic(items_base=frozenset({759400}), items_add=frozenset({678042}), confidence=0.030831099195710455, lift=7.348439239295737)]),\n",
       " RelationRecord(items=frozenset({685154, 678055}), support=0.00015028093333660476, ordered_statistics=[OrderedStatistic(items_base=frozenset(), items_add=frozenset({685154, 678055}), confidence=0.00015028093333660476, lift=1.0), OrderedStatistic(items_base=frozenset({678055}), items_add=frozenset({685154}), confidence=0.06666666666666667, lift=21.18622482131254), OrderedStatistic(items_base=frozenset({685154}), items_add=frozenset({678055}), confidence=0.04775828460038986, lift=21.18622482131254)]),\n",
       " RelationRecord(items=frozenset({685339, 678055}), support=0.00010734352381186054, ordered_statistics=[OrderedStatistic(items_base=frozenset(), items_add=frozenset({685339, 678055}), confidence=0.00010734352381186054, lift=1.0), OrderedStatistic(items_base=frozenset({678055}), items_add=frozenset({685339}), confidence=0.047619047619047616, lift=21.624618649688287), OrderedStatistic(items_base=frozenset({685339}), items_add=frozenset({678055}), confidence=0.04874651810584958, lift=21.624618649688287)]),\n",
       " RelationRecord(items=frozenset({703686, 678055}), support=0.00012881222857423263, ordered_statistics=[OrderedStatistic(items_base=frozenset(), items_add=frozenset({703686, 678055}), confidence=0.00012881222857423263, lift=1.0), OrderedStatistic(items_base=frozenset({678055}), items_add=frozenset({703686}), confidence=0.057142857142857134, lift=30.694845846081424), OrderedStatistic(items_base=frozenset({703686}), items_add=frozenset({678055}), confidence=0.06919275123558483, lift=30.69484584608142)]),\n",
       " RelationRecord(items=frozenset({753285, 678055}), support=0.00011654439728144858, ordered_statistics=[OrderedStatistic(items_base=frozenset(), items_add=frozenset({753285, 678055}), confidence=0.00011654439728144858, lift=1.0), OrderedStatistic(items_base=frozenset({678055}), items_add=frozenset({753285}), confidence=0.05170068027210884, lift=7.133862465849648), OrderedStatistic(items_base=frozenset({753285}), items_add=frozenset({678055}), confidence=0.016081252644942867, lift=7.1338624658496474)]),\n",
       " RelationRecord(items=frozenset({753357, 678055}), support=0.00019321834286134898, ordered_statistics=[OrderedStatistic(items_base=frozenset(), items_add=frozenset({753357, 678055}), confidence=0.00019321834286134898, lift=1.0), OrderedStatistic(items_base=frozenset({678055}), items_add=frozenset({753357}), confidence=0.08571428571428572, lift=7.383793168522362), OrderedStatistic(items_base=frozenset({753357}), items_add=frozenset({678055}), confidence=0.0166446499339498, lift=7.383793168522361)]),\n",
       " RelationRecord(items=frozenset({753433, 678055}), support=0.00022388792109330913, ordered_statistics=[OrderedStatistic(items_base=frozenset(), items_add=frozenset({753433, 678055}), confidence=0.00022388792109330913, lift=1.0), OrderedStatistic(items_base=frozenset({678055}), items_add=frozenset({753433}), confidence=0.09931972789115646, lift=7.869694580140683), OrderedStatistic(items_base=frozenset({753433}), items_add=frozenset({678055}), confidence=0.017739975698663427, lift=7.869694580140683)]),\n",
       " RelationRecord(items=frozenset({759397, 678055}), support=0.00014721397551340873, ordered_statistics=[OrderedStatistic(items_base=frozenset(), items_add=frozenset({759397, 678055}), confidence=0.00014721397551340873, lift=1.0), OrderedStatistic(items_base=frozenset({678055}), items_add=frozenset({759397}), confidence=0.06530612244897958, lift=5.741022664120918), OrderedStatistic(items_base=frozenset({759397}), items_add=frozenset({678055}), confidence=0.012941493664060392, lift=5.741022664120918)]),\n",
       " RelationRecord(items=frozenset({703674, 678084}), support=0.0002974949088500135, ordered_statistics=[OrderedStatistic(items_base=frozenset(), items_add=frozenset({703674, 678084}), confidence=0.0002974949088500135, lift=1.0), OrderedStatistic(items_base=frozenset({678084}), items_add=frozenset({703674}), confidence=0.06479625918503674, lift=14.227076824805616), OrderedStatistic(items_base=frozenset({703674}), items_add=frozenset({678084}), confidence=0.06531986531986532, lift=14.227076824805614)]),\n",
       " RelationRecord(items=frozenset({678084, 751526}), support=0.00016868268027578085, ordered_statistics=[OrderedStatistic(items_base=frozenset(), items_add=frozenset({678084, 751526}), confidence=0.00016868268027578085, lift=1.0), OrderedStatistic(items_base=frozenset({678084}), items_add=frozenset({751526}), confidence=0.03674014696058784, lift=5.3670902138805685), OrderedStatistic(items_base=frozenset({751526}), items_add=frozenset({678084}), confidence=0.0246415770609319, lift=5.3670902138805685)]),\n",
       " RelationRecord(items=frozenset({678084, 751581}), support=0.0002637583727948573, ordered_statistics=[OrderedStatistic(items_base=frozenset(), items_add=frozenset({678084, 751581}), confidence=0.0002637583727948573, lift=1.0), OrderedStatistic(items_base=frozenset({678084}), items_add=frozenset({751581}), confidence=0.05744822979291917, lift=3.4224995456532166), OrderedStatistic(items_base=frozenset({751581}), items_add=frozenset({678084}), confidence=0.01571350264936963, lift=3.422499545653216)]),\n",
       " RelationRecord(items=frozenset({751600, 678084}), support=0.00033123144490516964, ordered_statistics=[OrderedStatistic(items_base=frozenset(), items_add=frozenset({751600, 678084}), confidence=0.00033123144490516964, lift=1.0), OrderedStatistic(items_base=frozenset({678084}), items_add=frozenset({751600}), confidence=0.0721442885771543, lift=5.11260120763152), OrderedStatistic(items_base=frozenset({751600}), items_add=frozenset({678084}), confidence=0.02347315800912845, lift=5.11260120763152)]),\n",
       " RelationRecord(items=frozenset({753268, 678084}), support=0.0001594818068061928, ordered_statistics=[OrderedStatistic(items_base=frozenset(), items_add=frozenset({678084, 753268}), confidence=0.0001594818068061928, lift=1.0), OrderedStatistic(items_base=frozenset({678084}), items_add=frozenset({753268}), confidence=0.034736138944555774, lift=8.813950598993056), OrderedStatistic(items_base=frozenset({753268}), items_add=frozenset({678084}), confidence=0.040466926070038906, lift=8.813950598993056)]),\n",
       " RelationRecord(items=frozenset({678084, 753285}), support=0.00014721397551340873, ordered_statistics=[OrderedStatistic(items_base=frozenset(), items_add=frozenset({678084, 753285}), confidence=0.00014721397551340873, lift=1.0), OrderedStatistic(items_base=frozenset({678084}), items_add=frozenset({753285}), confidence=0.03206412825651302, lift=4.424334068051464), OrderedStatistic(items_base=frozenset({753285}), items_add=frozenset({678084}), confidence=0.020313161235717307, lift=4.424334068051464)]),\n",
       " RelationRecord(items=frozenset({678084, 753357}), support=0.0005029810830041465, ordered_statistics=[OrderedStatistic(items_base=frozenset(), items_add=frozenset({678084, 753357}), confidence=0.0005029810830041465, lift=1.0), OrderedStatistic(items_base=frozenset({678084}), items_add=frozenset({753357}), confidence=0.10955243820975283, lift=9.437313023228313), OrderedStatistic(items_base=frozenset({753357}), items_add=frozenset({678084}), confidence=0.04332892998678996, lift=9.437313023228313)]),\n",
       " RelationRecord(items=frozenset({753376, 678084}), support=0.00010734352381186054, ordered_statistics=[OrderedStatistic(items_base=frozenset(), items_add=frozenset({753376, 678084}), confidence=0.00010734352381186054, lift=1.0), OrderedStatistic(items_base=frozenset({678084}), items_add=frozenset({753376}), confidence=0.023380093520374078, lift=1.7278376638438555), OrderedStatistic(items_base=frozenset({753376}), items_add=frozenset({678084}), confidence=0.007932910244786944, lift=1.7278376638438555)]),\n",
       " RelationRecord(items=frozenset({678084, 753431}), support=0.0002729592462644454, ordered_statistics=[OrderedStatistic(items_base=frozenset(), items_add=frozenset({678084, 753431}), confidence=0.0002729592462644454, lift=1.0), OrderedStatistic(items_base=frozenset({678084}), items_add=frozenset({753431}), confidence=0.05945223780895124, lift=7.074729507677154), OrderedStatistic(items_base=frozenset({753431}), items_add=frozenset({678084}), confidence=0.032481751824817516, lift=7.074729507677154)]),\n",
       " RelationRecord(items=frozenset({753433, 678084}), support=0.00026989228844124933, ordered_statistics=[OrderedStatistic(items_base=frozenset(), items_add=frozenset({753433, 678084}), confidence=0.00026989228844124933, lift=1.0), OrderedStatistic(items_base=frozenset({678084}), items_add=frozenset({753433}), confidence=0.05878423513694054, lift=4.657825655360944), OrderedStatistic(items_base=frozenset({753433}), items_add=frozenset({678084}), confidence=0.021385176184690154, lift=4.657825655360943)]),\n",
       " RelationRecord(items=frozenset({678084, 753436}), support=0.00013187918639742866, ordered_statistics=[OrderedStatistic(items_base=frozenset(), items_add=frozenset({678084, 753436}), confidence=0.00013187918639742866, lift=1.0), OrderedStatistic(items_base=frozenset({678084}), items_add=frozenset({753436}), confidence=0.028724114896459586, lift=4.216870781936077), OrderedStatistic(items_base=frozenset({753436}), items_add=frozenset({678084}), confidence=0.01936064835659613, lift=4.216870781936077)]),\n",
       " RelationRecord(items=frozenset({678084, 753517}), support=0.00010734352381186054, ordered_statistics=[OrderedStatistic(items_base=frozenset(), items_add=frozenset({678084, 753517}), confidence=0.00010734352381186054, lift=1.0), OrderedStatistic(items_base=frozenset({678084}), items_add=frozenset({753517}), confidence=0.023380093520374078, lift=1.2339300376948996), OrderedStatistic(items_base=frozenset({753517}), items_add=frozenset({678084}), confidence=0.0056652638394302365, lift=1.2339300376948998)]),\n",
       " RelationRecord(items=frozenset({753600, 678084}), support=0.0002208209632701131, ordered_statistics=[OrderedStatistic(items_base=frozenset(), items_add=frozenset({753600, 678084}), confidence=0.0002208209632701131, lift=1.0), OrderedStatistic(items_base=frozenset({678084}), items_add=frozenset({753600}), confidence=0.04809619238476954, lift=1.6267688904780515), OrderedStatistic(items_base=frozenset({753600}), items_add=frozenset({678084}), confidence=0.007468879668049792, lift=1.6267688904780513)]),\n",
       " RelationRecord(items=frozenset({678084, 759397}), support=0.0003097627401427976, ordered_statistics=[OrderedStatistic(items_base=frozenset(), items_add=frozenset({678084, 759397}), confidence=0.0003097627401427976, lift=1.0), OrderedStatistic(items_base=frozenset({678084}), items_add=frozenset({759397}), confidence=0.0674682698730795, lift=5.9310957675213825), OrderedStatistic(items_base=frozenset({759397}), items_add=frozenset({678084}), confidence=0.027231059584793747, lift=5.9310957675213825)]),\n",
       " RelationRecord(items=frozenset({759400, 678084}), support=0.00016254876462938882, ordered_statistics=[OrderedStatistic(items_base=frozenset(), items_add=frozenset({759400, 678084}), confidence=0.00016254876462938882, lift=1.0), OrderedStatistic(items_base=frozenset({678084}), items_add=frozenset({759400}), confidence=0.035404141616566465, lift=7.737086326361391), OrderedStatistic(items_base=frozenset({759400}), items_add=frozenset({678084}), confidence=0.035522788203753354, lift=7.737086326361392)]),\n",
       " RelationRecord(items=frozenset({678882, 704630}), support=0.0001012096081654685, ordered_statistics=[OrderedStatistic(items_base=frozenset(), items_add=frozenset({678882, 704630}), confidence=0.0001012096081654685, lift=1.0), OrderedStatistic(items_base=frozenset({678882}), items_add=frozenset({704630}), confidence=0.046153846153846156, lift=14.914507890523748), OrderedStatistic(items_base=frozenset({704630}), items_add=frozenset({678882}), confidence=0.03270564915758176, lift=14.914507890523748)]),\n",
       " RelationRecord(items=frozenset({682630, 682815}), support=0.00013187918639742866, ordered_statistics=[OrderedStatistic(items_base=frozenset(), items_add=frozenset({682630, 682815}), confidence=0.00013187918639742866, lift=1.0), OrderedStatistic(items_base=frozenset({682630}), items_add=frozenset({682815}), confidence=0.08739837398373984, lift=72.51085045201597), OrderedStatistic(items_base=frozenset({682815}), items_add=frozenset({682630}), confidence=0.10941475826972011, lift=72.51085045201597)]),\n",
       " RelationRecord(items=frozenset({682837, 682630}), support=0.000601123733346419, ordered_statistics=[OrderedStatistic(items_base=frozenset(), items_add=frozenset({682837, 682630}), confidence=0.000601123733346419, lift=1.0), OrderedStatistic(items_base=frozenset({682630}), items_add=frozenset({682837}), confidence=0.3983739837398374, lift=190.17895701651014), OrderedStatistic(items_base=frozenset({682837}), items_add=frozenset({682630}), confidence=0.2869692532942899, lift=190.17895701651014)]),\n",
       " RelationRecord(items=frozenset({690889, 682630}), support=0.00014414701769021273, ordered_statistics=[OrderedStatistic(items_base=frozenset(), items_add=frozenset({690889, 682630}), confidence=0.00014414701769021273, lift=1.0), OrderedStatistic(items_base=frozenset({682630}), items_add=frozenset({690889}), confidence=0.09552845528455285, lift=88.99321718931476), OrderedStatistic(items_base=frozenset({690889}), items_add=frozenset({682630}), confidence=0.13428571428571429, lift=88.99321718931475)]),\n",
       " RelationRecord(items=frozenset({690926, 682630}), support=0.0001012096081654685, ordered_statistics=[OrderedStatistic(items_base=frozenset(), items_add=frozenset({682630, 690926}), confidence=0.0001012096081654685, lift=1.0), OrderedStatistic(items_base=frozenset({682630}), items_add=frozenset({690926}), confidence=0.06707317073170732, lift=110.45257452574526), OrderedStatistic(items_base=frozenset({690926}), items_add=frozenset({682630}), confidence=0.16666666666666666, lift=110.45257452574525)]),\n",
       " RelationRecord(items=frozenset({691184, 682630}), support=0.0003128296979659936, ordered_statistics=[OrderedStatistic(items_base=frozenset(), items_add=frozenset({691184, 682630}), confidence=0.0003128296979659936, lift=1.0), OrderedStatistic(items_base=frozenset({682630}), items_add=frozenset({691184}), confidence=0.20731707317073172, lift=148.23898160034233), OrderedStatistic(items_base=frozenset({691184}), items_add=frozenset({682630}), confidence=0.2236842105263158, lift=148.23898160034233)]),\n",
       " RelationRecord(items=frozenset({682630, 694719}), support=0.00012881222857423263, ordered_statistics=[OrderedStatistic(items_base=frozenset(), items_add=frozenset({682630, 694719}), confidence=0.00012881222857423263, lift=1.0), OrderedStatistic(items_base=frozenset({682630}), items_add=frozenset({694719}), confidence=0.08536585365853658, lift=108.72675304878048), OrderedStatistic(items_base=frozenset({694719}), items_add=frozenset({682630}), confidence=0.1640625, lift=108.7267530487805)]),\n",
       " RelationRecord(items=frozenset({698186, 682630}), support=0.00025455749932526927, ordered_statistics=[OrderedStatistic(items_base=frozenset(), items_add=frozenset({698186, 682630}), confidence=0.00025455749932526927, lift=1.0), OrderedStatistic(items_base=frozenset({682630}), items_add=frozenset({698186}), confidence=0.16869918699186992, lift=123.05454611593096), OrderedStatistic(items_base=frozenset({698186}), items_add=frozenset({682630}), confidence=0.1856823266219239, lift=123.05454611593095)]),\n",
       " RelationRecord(items=frozenset({698692, 682630}), support=0.000404838432661874, ordered_statistics=[OrderedStatistic(items_base=frozenset(), items_add=frozenset({698692, 682630}), confidence=0.000404838432661874, lift=1.0), OrderedStatistic(items_base=frozenset({682630}), items_add=frozenset({698692}), confidence=0.2682926829268293, lift=205.3484484140616), OrderedStatistic(items_base=frozenset({698692}), items_add=frozenset({682630}), confidence=0.30985915492957744, lift=205.34844841406158)]),\n",
       " RelationRecord(items=frozenset({682648, 682658}), support=0.00021162008980052507, ordered_statistics=[OrderedStatistic(items_base=frozenset(), items_add=frozenset({682648, 682658}), confidence=0.00021162008980052507, lift=1.0), OrderedStatistic(items_base=frozenset({682648}), items_add=frozenset({682658}), confidence=0.17647058823529413, lift=195.04845463609175), OrderedStatistic(items_base=frozenset({682658}), items_add=frozenset({682648}), confidence=0.23389830508474577, lift=195.04845463609175)]),\n",
       " RelationRecord(items=frozenset({682648, 682815}), support=0.00012881222857423263, ordered_statistics=[OrderedStatistic(items_base=frozenset(), items_add=frozenset({682648, 682815}), confidence=0.00012881222857423263, lift=1.0), OrderedStatistic(items_base=frozenset({682648}), items_add=frozenset({682815}), confidence=0.10741687979539641, lift=89.11938462739892), OrderedStatistic(items_base=frozenset({682815}), items_add=frozenset({682648}), confidence=0.10687022900763359, lift=89.11938462739892)]),\n",
       " RelationRecord(items=frozenset({682648, 682837}), support=0.00020548617415413304, ordered_statistics=[OrderedStatistic(items_base=frozenset(), items_add=frozenset({682648, 682837}), confidence=0.00020548617415413304, lift=1.0), OrderedStatistic(items_base=frozenset({682648}), items_add=frozenset({682837}), confidence=0.17135549872122763, lift=81.80305781998331), OrderedStatistic(items_base=frozenset({682837}), items_add=frozenset({682648}), confidence=0.09809663250366032, lift=81.80305781998331)]),\n",
       " RelationRecord(items=frozenset({682648, 690925}), support=0.00036496798096032583, ordered_statistics=[OrderedStatistic(items_base=frozenset(), items_add=frozenset({682648, 690925}), confidence=0.00036496798096032583, lift=1.0), OrderedStatistic(items_base=frozenset({682648}), items_add=frozenset({690925}), confidence=0.30434782608695654, lift=224.00549612327018), OrderedStatistic(items_base=frozenset({690925}), items_add=frozenset({682648}), confidence=0.2686230248306998, lift=224.0054961232702)]),\n",
       " RelationRecord(items=frozenset({682648, 698186}), support=0.000202419216330937, ordered_statistics=[OrderedStatistic(items_base=frozenset(), items_add=frozenset({682648, 698186}), confidence=0.000202419216330937, lift=1.0), OrderedStatistic(items_base=frozenset({682648}), items_add=frozenset({698186}), confidence=0.1687979539641944, lift=123.1265898831082), OrderedStatistic(items_base=frozenset({698186}), items_add=frozenset({682648}), confidence=0.14765100671140938, lift=123.12658988310818)]),\n",
       " RelationRecord(items=frozenset({682658, 682815}), support=0.0001012096081654685, ordered_statistics=[OrderedStatistic(items_base=frozenset(), items_add=frozenset({682658, 682815}), confidence=0.0001012096081654685, lift=1.0), OrderedStatistic(items_base=frozenset({682658}), items_add=frozenset({682815}), confidence=0.11186440677966102, lift=92.80931556475612), OrderedStatistic(items_base=frozenset({682815}), items_add=frozenset({682658}), confidence=0.08396946564885496, lift=92.80931556475612)]),\n",
       " RelationRecord(items=frozenset({682658, 682837}), support=0.0001380131020438207, ordered_statistics=[OrderedStatistic(items_base=frozenset(), items_add=frozenset({682658, 682837}), confidence=0.0001380131020438207, lift=1.0), OrderedStatistic(items_base=frozenset({682658}), items_add=frozenset({682837}), confidence=0.15254237288135594, lift=72.821897411718), OrderedStatistic(items_base=frozenset({682837}), items_add=frozenset({682658}), confidence=0.06588579795021962, lift=72.821897411718)]),\n",
       " RelationRecord(items=frozenset({682658, 690925}), support=0.00017788355374536889, ordered_statistics=[OrderedStatistic(items_base=frozenset(), items_add=frozenset({682658, 690925}), confidence=0.00017788355374536889, lift=1.0), OrderedStatistic(items_base=frozenset({682658}), items_add=frozenset({690925}), confidence=0.1966101694915254, lift=144.70863526801085), OrderedStatistic(items_base=frozenset({690925}), items_add=frozenset({682658}), confidence=0.1309255079006772, lift=144.70863526801085)]),\n",
       " RelationRecord(items=frozenset({682658, 694719}), support=0.00010427656598866452, ordered_statistics=[OrderedStatistic(items_base=frozenset(), items_add=frozenset({682658, 694719}), confidence=0.00010427656598866452, lift=1.0), OrderedStatistic(items_base=frozenset({682658}), items_add=frozenset({694719}), confidence=0.1152542372881356, lift=146.79427966101696), OrderedStatistic(items_base=frozenset({694719}), items_add=frozenset({682658}), confidence=0.1328125, lift=146.79427966101696)]),\n",
       " RelationRecord(items=frozenset({682837, 682815}), support=0.000199352258507741, ordered_statistics=[OrderedStatistic(items_base=frozenset(), items_add=frozenset({682837, 682815}), confidence=0.000199352258507741, lift=1.0), OrderedStatistic(items_base=frozenset({682815}), items_add=frozenset({682837}), confidence=0.16539440203562342, lift=78.95730183034733), OrderedStatistic(items_base=frozenset({682837}), items_add=frozenset({682815}), confidence=0.0951683748169839, lift=78.95730183034733)]),\n",
       " RelationRecord(items=frozenset({690889, 682815}), support=0.00024535662585568126, ordered_statistics=[OrderedStatistic(items_base=frozenset(), items_add=frozenset({690889, 682815}), confidence=0.00024535662585568126, lift=1.0), OrderedStatistic(items_base=frozenset({682815}), items_add=frozenset({690889}), confidence=0.20356234096692116, lift=189.63635041802985), OrderedStatistic(items_base=frozenset({690889}), items_add=frozenset({682815}), confidence=0.22857142857142862, lift=189.63635041802988)]),\n",
       " RelationRecord(items=frozenset({690901, 682815}), support=0.00011654439728144858, ordered_statistics=[OrderedStatistic(items_base=frozenset(), items_add=frozenset({690901, 682815}), confidence=0.00011654439728144858, lift=1.0), OrderedStatistic(items_base=frozenset({682815}), items_add=frozenset({690901}), confidence=0.09669211195928754, lift=178.11888845761274), OrderedStatistic(items_base=frozenset({690901}), items_add=frozenset({682815}), confidence=0.21468926553672316, lift=178.11888845761274)]),\n",
       " RelationRecord(items=frozenset({690919, 682815}), support=0.00017481659592217288, ordered_statistics=[OrderedStatistic(items_base=frozenset(), items_add=frozenset({682815, 690919}), confidence=0.00017481659592217288, lift=1.0), OrderedStatistic(items_base=frozenset({682815}), items_add=frozenset({690919}), confidence=0.14503816793893132, lift=274.9451446831174), OrderedStatistic(items_base=frozenset({690919}), items_add=frozenset({682815}), confidence=0.33139534883720934, lift=274.9451446831174)]),\n",
       " RelationRecord(items=frozenset({690925, 682815}), support=0.00017481659592217288, ordered_statistics=[OrderedStatistic(items_base=frozenset(), items_add=frozenset({690925, 682815}), confidence=0.00017481659592217288, lift=1.0), OrderedStatistic(items_base=frozenset({682815}), items_add=frozenset({690925}), confidence=0.14503816793893132, lift=106.75071080247446), OrderedStatistic(items_base=frozenset({690925}), items_add=frozenset({682815}), confidence=0.12866817155756208, lift=106.75071080247446)]),\n",
       " RelationRecord(items=frozenset({690926, 682815}), support=0.00012881222857423263, ordered_statistics=[OrderedStatistic(items_base=frozenset(), items_add=frozenset({690926, 682815}), confidence=0.00012881222857423263, lift=1.0), OrderedStatistic(items_base=frozenset({682815}), items_add=frozenset({690926}), confidence=0.10687022900763359, lift=175.98827974400493), OrderedStatistic(items_base=frozenset({690926}), items_add=frozenset({682815}), confidence=0.2121212121212121, lift=175.98827974400493)]),\n",
       " RelationRecord(items=frozenset({691184, 682815}), support=0.00013494614422062467, ordered_statistics=[OrderedStatistic(items_base=frozenset(), items_add=frozenset({691184, 682815}), confidence=0.00013494614422062467, lift=1.0), OrderedStatistic(items_base=frozenset({682815}), items_add=frozenset({691184}), confidence=0.11195928753180662, lift=80.05481898129548), OrderedStatistic(items_base=frozenset({691184}), items_add=frozenset({682815}), confidence=0.09649122807017543, lift=80.05481898129548)]),\n",
       " RelationRecord(items=frozenset({690889, 682837}), support=0.00020855313197732904, ordered_statistics=[OrderedStatistic(items_base=frozenset(), items_add=frozenset({690889, 682837}), confidence=0.00020855313197732904, lift=1.0), OrderedStatistic(items_base=frozenset({682837}), items_add=frozenset({690889}), confidence=0.09956076134699854, lift=92.74966743359131), OrderedStatistic(items_base=frozenset({690889}), items_add=frozenset({682837}), confidence=0.19428571428571428, lift=92.7496674335913)]),\n",
       " RelationRecord(items=frozenset({690925, 682837}), support=0.00017174963809897685, ordered_statistics=[OrderedStatistic(items_base=frozenset(), items_add=frozenset({682837, 690925}), confidence=0.00017174963809897685, lift=1.0), OrderedStatistic(items_base=frozenset({682837}), items_add=frozenset({690925}), confidence=0.08199121522693997, lift=60.3470150610274), OrderedStatistic(items_base=frozenset({690925}), items_add=frozenset({682837}), confidence=0.12641083521444693, lift=60.34701506102739)]),\n",
       " RelationRecord(items=frozenset({691184, 682837}), support=0.000404838432661874, ordered_statistics=[OrderedStatistic(items_base=frozenset(), items_add=frozenset({691184, 682837}), confidence=0.000404838432661874, lift=1.0), OrderedStatistic(items_base=frozenset({682837}), items_add=frozenset({691184}), confidence=0.19326500732064422, lift=138.19126146258765), OrderedStatistic(items_base=frozenset({691184}), items_add=frozenset({682837}), confidence=0.28947368421052627, lift=138.19126146258765)]),\n",
       " RelationRecord(items=frozenset({682837, 694719}), support=0.0002361557523860932, ordered_statistics=[OrderedStatistic(items_base=frozenset(), items_add=frozenset({682837, 694719}), confidence=0.0002361557523860932, lift=1.0), OrderedStatistic(items_base=frozenset({682837}), items_add=frozenset({694719}), confidence=0.11273792093704246, lift=143.58935761346999), OrderedStatistic(items_base=frozenset({694719}), items_add=frozenset({682837}), confidence=0.30078125, lift=143.58935761346999)]),\n",
       " RelationRecord(items=frozenset({698186, 682837}), support=0.00042630713742424615, ordered_statistics=[OrderedStatistic(items_base=frozenset(), items_add=frozenset({698186, 682837}), confidence=0.00042630713742424615, lift=1.0), OrderedStatistic(items_base=frozenset({682837}), items_add=frozenset({698186}), confidence=0.20351390922401172, lift=148.44951048309701), OrderedStatistic(items_base=frozenset({698186}), items_add=frozenset({682837}), confidence=0.31096196868008946, lift=148.449510483097)]),\n",
       " RelationRecord(items=frozenset({698692, 682837}), support=0.0003772358122531099, ordered_statistics=[OrderedStatistic(items_base=frozenset(), items_add=frozenset({698692, 682837}), confidence=0.0003772358122531099, lift=1.0), OrderedStatistic(items_base=frozenset({682837}), items_add=frozenset({698692}), confidence=0.1800878477306003, lift=137.83737859072443), OrderedStatistic(items_base=frozenset({698692}), items_add=frozenset({682837}), confidence=0.2887323943661972, lift=137.83737859072443)]),\n",
       " RelationRecord(items=frozenset({684840, 684874}), support=0.00013187918639742866, ordered_statistics=[OrderedStatistic(items_base=frozenset(), items_add=frozenset({684840, 684874}), confidence=0.00013187918639742866, lift=1.0), OrderedStatistic(items_base=frozenset({684840}), items_add=frozenset({684874}), confidence=0.1191135734072022, lift=157.87681012544195), OrderedStatistic(items_base=frozenset({684874}), items_add=frozenset({684840}), confidence=0.17479674796747968, lift=157.87681012544198)]),\n",
       " RelationRecord(items=frozenset({684840, 684876}), support=0.00016561572245258482, ordered_statistics=[OrderedStatistic(items_base=frozenset(), items_add=frozenset({684840, 684876}), confidence=0.00016561572245258482, lift=1.0), OrderedStatistic(items_base=frozenset({684840}), items_add=frozenset({684876}), confidence=0.14958448753462603, lift=250.1175367568719), OrderedStatistic(items_base=frozenset({684876}), items_add=frozenset({684840}), confidence=0.2769230769230769, lift=250.11753675687189)]),\n",
       " RelationRecord(items=frozenset({684840, 684906}), support=0.00020855313197732904, ordered_statistics=[OrderedStatistic(items_base=frozenset(), items_add=frozenset({684840, 684906}), confidence=0.00020855313197732904, lift=1.0), OrderedStatistic(items_base=frozenset({684840}), items_add=frozenset({684906}), confidence=0.18836565096952906, lift=254.84543855817748), OrderedStatistic(items_base=frozenset({684906}), items_add=frozenset({684840}), confidence=0.2821576763485477, lift=254.84543855817748)]),\n",
       " RelationRecord(items=frozenset({684840, 719575}), support=0.00011041048163505655, ordered_statistics=[OrderedStatistic(items_base=frozenset(), items_add=frozenset({684840, 719575}), confidence=0.00011041048163505655, lift=1.0), OrderedStatistic(items_base=frozenset({684840}), items_add=frozenset({719575}), confidence=0.09972299168975068, lift=96.77166600712307), OrderedStatistic(items_base=frozenset({719575}), items_add=frozenset({684840}), confidence=0.10714285714285715, lift=96.77166600712307)]),\n",
       " RelationRecord(items=frozenset({684840, 720554}), support=0.00010427656598866452, ordered_statistics=[OrderedStatistic(items_base=frozenset(), items_add=frozenset({684840, 720554}), confidence=0.00010427656598866452, lift=1.0), OrderedStatistic(items_base=frozenset({684840}), items_add=frozenset({720554}), confidence=0.09418282548476453, lift=63.84381568869102), OrderedStatistic(items_base=frozenset({720554}), items_add=frozenset({684840}), confidence=0.07068607068607068, lift=63.84381568869102)]),\n",
       " RelationRecord(items=frozenset({684874, 684876}), support=0.00016254876462938882, ordered_statistics=[OrderedStatistic(items_base=frozenset(), items_add=frozenset({684874, 684876}), confidence=0.00016254876462938882, lift=1.0), OrderedStatistic(items_base=frozenset({684874}), items_add=frozenset({684876}), confidence=0.21544715447154472, lift=360.24531999166146), OrderedStatistic(items_base=frozenset({684876}), items_add=frozenset({684874}), confidence=0.2717948717948718, lift=360.2453199916614)]),\n",
       " RelationRecord(items=frozenset({684874, 684906}), support=0.00018708442721495695, ordered_statistics=[OrderedStatistic(items_base=frozenset(), items_add=frozenset({684874, 684906}), confidence=0.00018708442721495695, lift=1.0), OrderedStatistic(items_base=frozenset({684874}), items_add=frozenset({684906}), confidence=0.24796747967479676, lift=335.4825085180313), OrderedStatistic(items_base=frozenset({684906}), items_add=frozenset({684874}), confidence=0.2531120331950208, lift=335.4825085180313)]),\n",
       " RelationRecord(items=frozenset({684874, 684966}), support=0.0001380131020438207, ordered_statistics=[OrderedStatistic(items_base=frozenset(), items_add=frozenset({684874, 684966}), confidence=0.0001380131020438207, lift=1.0), OrderedStatistic(items_base=frozenset({684874}), items_add=frozenset({684966}), confidence=0.18292682926829268, lift=324.1542948038176), OrderedStatistic(items_base=frozenset({684966}), items_add=frozenset({684874}), confidence=0.24456521739130438, lift=324.15429480381766)]),\n",
       " RelationRecord(items=frozenset({684906, 684876}), support=0.0002637583727948573, ordered_statistics=[OrderedStatistic(items_base=frozenset(), items_add=frozenset({684906, 684876}), confidence=0.0002637583727948573, lift=1.0), OrderedStatistic(items_base=frozenset({684876}), items_add=frozenset({684906}), confidence=0.441025641025641, lift=596.6765826151718), OrderedStatistic(items_base=frozenset({684906}), items_add=frozenset({684876}), confidence=0.35684647302904565, lift=596.6765826151718)]),\n",
       " RelationRecord(items=frozenset({684876, 684966}), support=0.00012574527075103663, ordered_statistics=[OrderedStatistic(items_base=frozenset(), items_add=frozenset({684876, 684966}), confidence=0.00012574527075103663, lift=1.0), OrderedStatistic(items_base=frozenset({684876}), items_add=frozenset({684966}), confidence=0.21025641025641026, lift=372.58350055741363), OrderedStatistic(items_base=frozenset({684966}), items_add=frozenset({684876}), confidence=0.22282608695652176, lift=372.58350055741363)]),\n",
       " RelationRecord(items=frozenset({684906, 684966}), support=0.00014414701769021273, ordered_statistics=[OrderedStatistic(items_base=frozenset(), items_add=frozenset({684906, 684966}), confidence=0.00014414701769021273, lift=1.0), OrderedStatistic(items_base=frozenset({684906}), items_add=frozenset({684966}), confidence=0.1950207468879668, lift=345.58524264838536), OrderedStatistic(items_base=frozenset({684966}), items_add=frozenset({684906}), confidence=0.2554347826086957, lift=345.5852426483854)]),\n",
       " RelationRecord(items=frozenset({684946, 684966}), support=0.00011654439728144858, ordered_statistics=[OrderedStatistic(items_base=frozenset(), items_add=frozenset({684946, 684966}), confidence=0.00011654439728144858, lift=1.0), OrderedStatistic(items_base=frozenset({684946}), items_add=frozenset({684966}), confidence=0.2222222222222222, lift=393.7874396135266), OrderedStatistic(items_base=frozenset({684966}), items_add=frozenset({684946}), confidence=0.2065217391304348, lift=393.7874396135266)]),\n",
       " RelationRecord(items=frozenset({685024, 701736}), support=0.00010734352381186054, ordered_statistics=[OrderedStatistic(items_base=frozenset(), items_add=frozenset({685024, 701736}), confidence=0.00010734352381186054, lift=1.0), OrderedStatistic(items_base=frozenset({685024}), items_add=frozenset({701736}), confidence=0.2348993288590604, lift=994.679682733374), OrderedStatistic(items_base=frozenset({701736}), items_add=frozenset({685024}), confidence=0.45454545454545453, lift=994.679682733374)]),\n",
       " RelationRecord(items=frozenset({685041, 685073}), support=0.0003005618666732095, ordered_statistics=[OrderedStatistic(items_base=frozenset(), items_add=frozenset({685041, 685073}), confidence=0.0003005618666732095, lift=1.0), OrderedStatistic(items_base=frozenset({685041}), items_add=frozenset({685073}), confidence=0.5975609756097561, lift=767.0800845016324), OrderedStatistic(items_base=frozenset({685073}), items_add=frozenset({685041}), confidence=0.3858267716535433, lift=767.0800845016324)]),\n",
       " RelationRecord(items=frozenset({685041, 685087}), support=0.00012267831292784063, ordered_statistics=[OrderedStatistic(items_base=frozenset(), items_add=frozenset({685041, 685087}), confidence=0.00012267831292784063, lift=1.0), OrderedStatistic(items_base=frozenset({685041}), items_add=frozenset({685087}), confidence=0.24390243902439027, lift=864.4114528101804), OrderedStatistic(items_base=frozenset({685087}), items_add=frozenset({685041}), confidence=0.4347826086956523, lift=864.4114528101804)]),\n",
       " RelationRecord(items=frozenset({685073, 685087}), support=0.00017788355374536889, ordered_statistics=[OrderedStatistic(items_base=frozenset(), items_add=frozenset({685073, 685087}), confidence=0.00017788355374536889, lift=1.0), OrderedStatistic(items_base=frozenset({685073}), items_add=frozenset({685087}), confidence=0.22834645669291337, lift=809.2796987333105), OrderedStatistic(items_base=frozenset({685087}), items_add=frozenset({685073}), confidence=0.6304347826086957, lift=809.2796987333105)]),\n",
       " RelationRecord(items=frozenset({685073, 685141}), support=0.00013494614422062467, ordered_statistics=[OrderedStatistic(items_base=frozenset(), items_add=frozenset({685073, 685141}), confidence=0.00013494614422062467, lift=1.0), OrderedStatistic(items_base=frozenset({685073}), items_add=frozenset({685141}), confidence=0.17322834645669288, lift=470.68451443569546), OrderedStatistic(items_base=frozenset({685141}), items_add=frozenset({685073}), confidence=0.36666666666666664, lift=470.6845144356955)]),\n",
       " RelationRecord(items=frozenset({685085, 753342}), support=0.00012267831292784063, ordered_statistics=[OrderedStatistic(items_base=frozenset(), items_add=frozenset({685085, 753342}), confidence=0.00012267831292784063, lift=1.0), OrderedStatistic(items_base=frozenset({685085}), items_add=frozenset({753342}), confidence=0.10101010101010102, lift=9.675367066671416), OrderedStatistic(items_base=frozenset({753342}), items_add=frozenset({685085}), confidence=0.01175088131609871, lift=9.675367066671416)]),\n",
       " RelationRecord(items=frozenset({753517, 685085}), support=0.0001012096081654685, ordered_statistics=[OrderedStatistic(items_base=frozenset(), items_add=frozenset({685085, 753517}), confidence=0.0001012096081654685, lift=1.0), OrderedStatistic(items_base=frozenset({685085}), items_add=frozenset({753517}), confidence=0.08333333333333333, lift=4.398079205783964), OrderedStatistic(items_base=frozenset({753517}), items_add=frozenset({685085}), confidence=0.00534153447717708, lift=4.398079205783965)]),\n",
       " RelationRecord(items=frozenset({753600, 685085}), support=0.00024228966803248523, ordered_statistics=[OrderedStatistic(items_base=frozenset(), items_add=frozenset({753600, 685085}), confidence=0.00024228966803248523, lift=1.0), OrderedStatistic(items_base=frozenset({685085}), items_add=frozenset({753600}), confidence=0.1994949494949495, lift=6.747564860220462), OrderedStatistic(items_base=frozenset({753600}), items_add=frozenset({685085}), confidence=0.008195020746887967, lift=6.7475648602204625)]),\n",
       " RelationRecord(items=frozenset({685085, 753663}), support=0.00010427656598866452, ordered_statistics=[OrderedStatistic(items_base=frozenset(), items_add=frozenset({685085, 753663}), confidence=0.00010427656598866452, lift=1.0), OrderedStatistic(items_base=frozenset({685085}), items_add=frozenset({753663}), confidence=0.08585858585858586, lift=8.514205313475385), OrderedStatistic(items_base=frozenset({753663}), items_add=frozenset({685085}), confidence=0.010340632603406326, lift=8.514205313475387)]),\n",
       " RelationRecord(items=frozenset({760050, 685085}), support=0.0001012096081654685, ordered_statistics=[OrderedStatistic(items_base=frozenset(), items_add=frozenset({760050, 685085}), confidence=0.0001012096081654685, lift=1.0), OrderedStatistic(items_base=frozenset({685085}), items_add=frozenset({760050}), confidence=0.08333333333333333, lift=10.284380519808225), OrderedStatistic(items_base=frozenset({760050}), items_add=frozenset({685085}), confidence=0.012490537471612415, lift=10.284380519808227)]),\n",
       " RelationRecord(items=frozenset({685154, 685180}), support=0.00016254876462938882, ordered_statistics=[OrderedStatistic(items_base=frozenset(), items_add=frozenset({685154, 685180}), confidence=0.00016254876462938882, lift=1.0), OrderedStatistic(items_base=frozenset({685154}), items_add=frozenset({685180}), confidence=0.05165692007797271, lift=33.48518634780014), OrderedStatistic(items_base=frozenset({685180}), items_add=frozenset({685154}), confidence=0.10536779324055666, lift=33.48518634780014)]),\n",
       " RelationRecord(items=frozenset({685154, 685339}), support=0.00024535662585568126, ordered_statistics=[OrderedStatistic(items_base=frozenset(), items_add=frozenset({685154, 685339}), confidence=0.00024535662585568126, lift=1.0), OrderedStatistic(items_base=frozenset({685154}), items_add=frozenset({685339}), confidence=0.07797270955165693, lift=35.40873229188726), OrderedStatistic(items_base=frozenset({685339}), items_add=frozenset({685154}), confidence=0.1114206128133705, lift=35.40873229188726)]),\n",
       " RelationRecord(items=frozenset({703674, 685154}), support=0.0001196113551046446, ordered_statistics=[OrderedStatistic(items_base=frozenset(), items_add=frozenset({703674, 685154}), confidence=0.0001196113551046446, lift=1.0), OrderedStatistic(items_base=frozenset({685154}), items_add=frozenset({703674}), confidence=0.038011695906432746, lift=8.346088565971607), OrderedStatistic(items_base=frozenset({703674}), items_add=frozenset({685154}), confidence=0.026262626262626262, lift=8.346088565971606)]),\n",
       " RelationRecord(items=frozenset({685154, 703686}), support=0.0001012096081654685, ordered_statistics=[OrderedStatistic(items_base=frozenset(), items_add=frozenset({685154, 703686}), confidence=0.0001012096081654685, lift=1.0), OrderedStatistic(items_base=frozenset({685154}), items_add=frozenset({703686}), confidence=0.03216374269005848, lift=17.277069664826534), OrderedStatistic(items_base=frozenset({703686}), items_add=frozenset({685154}), confidence=0.0543657331136738, lift=17.277069664826534)]),\n",
       " RelationRecord(items=frozenset({685154, 703687}), support=0.00010427656598866452, ordered_statistics=[OrderedStatistic(items_base=frozenset(), items_add=frozenset({685154, 703687}), confidence=0.00010427656598866452, lift=1.0), OrderedStatistic(items_base=frozenset({685154}), items_add=frozenset({703687}), confidence=0.03313840155945419, lift=23.186640898861363), OrderedStatistic(items_base=frozenset({703687}), items_add=frozenset({685154}), confidence=0.07296137339055794, lift=23.186640898861363)]),\n",
       " RelationRecord(items=frozenset({685154, 751581}), support=0.00011347743945825257, ordered_statistics=[OrderedStatistic(items_base=frozenset(), items_add=frozenset({685154, 751581}), confidence=0.00011347743945825257, lift=1.0), OrderedStatistic(items_base=frozenset({685154}), items_add=frozenset({751581}), confidence=0.036062378167641324, lift=2.1484295223512624), OrderedStatistic(items_base=frozenset({751581}), items_add=frozenset({685154}), confidence=0.006760460442170656, lift=2.1484295223512624)]),\n",
       " RelationRecord(items=frozenset({751600, 685154}), support=0.00014414701769021273, ordered_statistics=[OrderedStatistic(items_base=frozenset(), items_add=frozenset({751600, 685154}), confidence=0.00014414701769021273, lift=1.0), OrderedStatistic(items_base=frozenset({685154}), items_add=frozenset({751600}), confidence=0.04580896686159844, lift=3.2463135185884244), OrderedStatistic(items_base=frozenset({751600}), items_add=frozenset({685154}), confidence=0.010215170615083678, lift=3.2463135185884244)]),\n",
       " RelationRecord(items=frozenset({685154, 753285}), support=0.00022388792109330913, ordered_statistics=[OrderedStatistic(items_base=frozenset(), items_add=frozenset({685154, 753285}), confidence=0.00022388792109330913, lift=1.0), OrderedStatistic(items_base=frozenset({685154}), items_add=frozenset({753285}), confidence=0.07115009746588694, lift=9.817569267599335), OrderedStatistic(items_base=frozenset({753285}), items_add=frozenset({685154}), confidence=0.030892932712653406, lift=9.817569267599335)]),\n",
       " RelationRecord(items=frozenset({685154, 753357}), support=0.0003036288244964055, ordered_statistics=[OrderedStatistic(items_base=frozenset(), items_add=frozenset({685154, 753357}), confidence=0.0003036288244964055, lift=1.0), OrderedStatistic(items_base=frozenset({685154}), items_add=frozenset({753357}), confidence=0.09649122807017543, lift=8.31216482421377), OrderedStatistic(items_base=frozenset({753357}), items_add=frozenset({685154}), confidence=0.026155878467635403, lift=8.31216482421377)]),\n",
       " RelationRecord(items=frozenset({685154, 753381}), support=0.00012267831292784063, ordered_statistics=[OrderedStatistic(items_base=frozenset(), items_add=frozenset({685154, 753381}), confidence=0.00012267831292784063, lift=1.0), OrderedStatistic(items_base=frozenset({685154}), items_add=frozenset({753381}), confidence=0.038986354775828465, lift=8.760671876490369), OrderedStatistic(items_base=frozenset({753381}), items_add=frozenset({685154}), confidence=0.027567195037904894, lift=8.760671876490369)]),\n",
       " RelationRecord(items=frozenset({685154, 753431}), support=0.00021468704762372107, ordered_statistics=[OrderedStatistic(items_base=frozenset(), items_add=frozenset({685154, 753431}), confidence=0.00021468704762372107, lift=1.0), OrderedStatistic(items_base=frozenset({685154}), items_add=frozenset({753431}), confidence=0.0682261208576998, lift=8.118808781889841), OrderedStatistic(items_base=frozenset({753431}), items_add=frozenset({685154}), confidence=0.02554744525547445, lift=8.118808781889841)]),\n",
       " RelationRecord(items=frozenset({753433, 685154}), support=0.00020548617415413304, ordered_statistics=[OrderedStatistic(items_base=frozenset(), items_add=frozenset({753433, 685154}), confidence=0.00020548617415413304, lift=1.0), OrderedStatistic(items_base=frozenset({685154}), items_add=frozenset({753433}), confidence=0.06530214424951267, lift=5.174278480053244), OrderedStatistic(items_base=frozenset({753433}), items_add=frozenset({685154}), confidence=0.016281895504252734, lift=5.174278480053245)]),\n",
       " RelationRecord(items=frozenset({685154, 759397}), support=0.0004109723483082661, ordered_statistics=[OrderedStatistic(items_base=frozenset(), items_add=frozenset({685154, 759397}), confidence=0.0004109723483082661, lift=1.0), OrderedStatistic(items_base=frozenset({685154}), items_add=frozenset({759397}), confidence=0.13060428849902533, lift=11.481345885909464), OrderedStatistic(items_base=frozenset({759397}), items_add=frozenset({685154}), confidence=0.03612833647883527, lift=11.481345885909466)]),\n",
       " RelationRecord(items=frozenset({685180, 753285}), support=0.00010427656598866452, ordered_statistics=[OrderedStatistic(items_base=frozenset(), items_add=frozenset({685180, 753285}), confidence=0.00010427656598866452, lift=1.0), OrderedStatistic(items_base=frozenset({685180}), items_add=frozenset({753285}), confidence=0.06759443339960239, lift=9.326944805984239), OrderedStatistic(items_base=frozenset({753285}), items_add=frozenset({685180}), confidence=0.014388489208633093, lift=9.326944805984239)]),\n",
       " RelationRecord(items=frozenset({685180, 753357}), support=0.0001564148489829968, ordered_statistics=[OrderedStatistic(items_base=frozenset(), items_add=frozenset({685180, 753357}), confidence=0.0001564148489829968, lift=1.0), OrderedStatistic(items_base=frozenset({685180}), items_add=frozenset({753357}), confidence=0.10139165009940358, lift=8.734308022407168), OrderedStatistic(items_base=frozenset({753357}), items_add=frozenset({685180}), confidence=0.013474240422721268, lift=8.734308022407168)]),\n",
       " RelationRecord(items=frozenset({753433, 685180}), support=0.00025455749932526927, ordered_statistics=[OrderedStatistic(items_base=frozenset(), items_add=frozenset({753433, 685180}), confidence=0.00025455749932526927, lift=1.0), OrderedStatistic(items_base=frozenset({685180}), items_add=frozenset({753433}), confidence=0.16500994035785288, lift=13.074722020247892), OrderedStatistic(items_base=frozenset({753433}), items_add=frozenset({685180}), confidence=0.020170109356014577, lift=13.074722020247892)]),\n",
       " RelationRecord(items=frozenset({685180, 759397}), support=0.00022388792109330913, ordered_statistics=[OrderedStatistic(items_base=frozenset(), items_add=frozenset({685180, 759397}), confidence=0.00022388792109330913, lift=1.0), OrderedStatistic(items_base=frozenset({685180}), items_add=frozenset({759397}), confidence=0.1451292246520875, lift=12.758224446794564), OrderedStatistic(items_base=frozenset({759397}), items_add=frozenset({685180}), confidence=0.019681854947425182, lift=12.758224446794562)]),\n",
       " RelationRecord(items=frozenset({703674, 685339}), support=0.00011654439728144858, ordered_statistics=[OrderedStatistic(items_base=frozenset(), items_add=frozenset({703674, 685339}), confidence=0.00011654439728144858, lift=1.0), OrderedStatistic(items_base=frozenset({685339}), items_add=frozenset({703674}), confidence=0.05292479108635098, lift=11.620502143064819), OrderedStatistic(items_base=frozenset({703674}), items_add=frozenset({685339}), confidence=0.02558922558922559, lift=11.620502143064817)]),\n",
       " RelationRecord(items=frozenset({685339, 703687}), support=0.00011041048163505655, ordered_statistics=[OrderedStatistic(items_base=frozenset(), items_add=frozenset({685339, 703687}), confidence=0.00011041048163505655, lift=1.0), OrderedStatistic(items_base=frozenset({685339}), items_add=frozenset({703687}), confidence=0.05013927576601672, lift=35.08199935442993), OrderedStatistic(items_base=frozenset({703687}), items_add=frozenset({685339}), confidence=0.07725321888412018, lift=35.08199935442993)]),\n",
       " RelationRecord(items=frozenset({685339, 753357}), support=0.00016868268027578085, ordered_statistics=[OrderedStatistic(items_base=frozenset(), items_add=frozenset({685339, 753357}), confidence=0.00016868268027578085, lift=1.0), OrderedStatistic(items_base=frozenset({685339}), items_add=frozenset({753357}), confidence=0.07660167130919221, lift=6.5987938019524375), OrderedStatistic(items_base=frozenset({753357}), items_add=frozenset({685339}), confidence=0.01453104359313078, lift=6.598793801952437)]),\n",
       " RelationRecord(items=frozenset({753433, 685339}), support=0.0001380131020438207, ordered_statistics=[OrderedStatistic(items_base=frozenset(), items_add=frozenset({753433, 685339}), confidence=0.0001380131020438207, lift=1.0), OrderedStatistic(items_base=frozenset({685339}), items_add=frozenset({753433}), confidence=0.0626740947075209, lift=4.966042435955148), OrderedStatistic(items_base=frozenset({753433}), items_add=frozenset({685339}), confidence=0.010935601458080193, lift=4.966042435955147)]),\n",
       " RelationRecord(items=frozenset({685339, 753436}), support=0.00011654439728144858, ordered_statistics=[OrderedStatistic(items_base=frozenset(), items_add=frozenset({685339, 753436}), confidence=0.00011654439728144858, lift=1.0), OrderedStatistic(items_base=frozenset({685339}), items_add=frozenset({753436}), confidence=0.05292479108635098, lift=7.76967387773582), OrderedStatistic(items_base=frozenset({753436}), items_add=frozenset({685339}), confidence=0.017109410175596577, lift=7.769673877735819)]),\n",
       " RelationRecord(items=frozenset({685339, 759397}), support=0.00012574527075103663, ordered_statistics=[OrderedStatistic(items_base=frozenset(), items_add=frozenset({685339, 759397}), confidence=0.00012574527075103663, lift=1.0), OrderedStatistic(items_base=frozenset({685339}), items_add=frozenset({759397}), confidence=0.05710306406685237, lift=5.019896645290271), OrderedStatistic(items_base=frozenset({759397}), items_add=frozenset({685339}), confidence=0.011054192504718252, lift=5.019896645290271)]),\n",
       " RelationRecord(items=frozenset({686346, 686347}), support=0.0002208209632701131, ordered_statistics=[OrderedStatistic(items_base=frozenset(), items_add=frozenset({686346, 686347}), confidence=0.0002208209632701131, lift=1.0), OrderedStatistic(items_base=frozenset({686346}), items_add=frozenset({686347}), confidence=0.6792452830188679, lift=2050.6666666666665), OrderedStatistic(items_base=frozenset({686347}), items_add=frozenset({686346}), confidence=0.6666666666666667, lift=2050.666666666667)]),\n",
       " RelationRecord(items=frozenset({686690, 686702}), support=0.0007882081605613759, ordered_statistics=[OrderedStatistic(items_base=frozenset(), items_add=frozenset({686690, 686702}), confidence=0.0007882081605613759, lift=1.0), OrderedStatistic(items_base=frozenset({686690}), items_add=frozenset({686702}), confidence=0.8954703832752613, lift=557.2013192541958), OrderedStatistic(items_base=frozenset({686702}), items_add=frozenset({686690}), confidence=0.49045801526717553, lift=557.2013192541957)]),\n",
       " RelationRecord(items=frozenset({686693, 686702}), support=0.0004999141251809505, ordered_statistics=[OrderedStatistic(items_base=frozenset(), items_add=frozenset({686693, 686702}), confidence=0.0004999141251809505, lift=1.0), OrderedStatistic(items_base=frozenset({686693}), items_add=frozenset({686702}), confidence=0.6442687747035574, lift=400.89255649760133), OrderedStatistic(items_base=frozenset({686702}), items_add=frozenset({686693}), confidence=0.3110687022900763, lift=400.8925564976013)]),\n",
       " RelationRecord(items=frozenset({733964, 686693}), support=0.00028522707755722945, ordered_statistics=[OrderedStatistic(items_base=frozenset(), items_add=frozenset({733964, 686693}), confidence=0.00028522707755722945, lift=1.0), OrderedStatistic(items_base=frozenset({686693}), items_add=frozenset({733964}), confidence=0.3675889328063241, lift=347.40457123217044), OrderedStatistic(items_base=frozenset({733964}), items_add=frozenset({686693}), confidence=0.26956521739130435, lift=347.40457123217044)]),\n",
       " RelationRecord(items=frozenset({733964, 686702}), support=0.00028829403538042545, ordered_statistics=[OrderedStatistic(items_base=frozenset(), items_add=frozenset({733964, 686702}), confidence=0.00028829403538042545, lift=1.0), OrderedStatistic(items_base=frozenset({686702}), items_add=frozenset({733964}), confidence=0.17938931297709923, lift=169.53901980307555), OrderedStatistic(items_base=frozenset({733964}), items_add=frozenset({686702}), confidence=0.27246376811594203, lift=169.53901980307555)]),\n",
       " RelationRecord(items=frozenset({686859, 686843}), support=0.00012574527075103663, ordered_statistics=[OrderedStatistic(items_base=frozenset(), items_add=frozenset({686859, 686843}), confidence=0.00012574527075103663, lift=1.0), OrderedStatistic(items_base=frozenset({686843}), items_add=frozenset({686859}), confidence=0.7321428571428572, lift=3978.659523809524), OrderedStatistic(items_base=frozenset({686859}), items_add=frozenset({686843}), confidence=0.6833333333333333, lift=3978.659523809524)]),\n",
       " RelationRecord(items=frozenset({689084, 689500}), support=0.00010734352381186054, ordered_statistics=[OrderedStatistic(items_base=frozenset(), items_add=frozenset({689084, 689500}), confidence=0.00010734352381186054, lift=1.0), OrderedStatistic(items_base=frozenset({689084}), items_add=frozenset({689500}), confidence=0.17412935323383083, lift=386.2307510068704), OrderedStatistic(items_base=frozenset({689500}), items_add=frozenset({689084}), confidence=0.23809523809523808, lift=386.2307510068704)]),\n",
       " RelationRecord(items=frozenset({689431, 689375}), support=0.00016254876462938882, ordered_statistics=[OrderedStatistic(items_base=frozenset(), items_add=frozenset({689375, 689431}), confidence=0.00016254876462938882, lift=1.0), OrderedStatistic(items_base=frozenset({689375}), items_add=frozenset({689431}), confidence=0.16257668711656442, lift=145.62940740241353), OrderedStatistic(items_base=frozenset({689431}), items_add=frozenset({689375}), confidence=0.14560439560439561, lift=145.62940740241353)]),\n",
       " RelationRecord(items=frozenset({689431, 689407}), support=0.00022695487891650514, ordered_statistics=[OrderedStatistic(items_base=frozenset(), items_add=frozenset({689407, 689431}), confidence=0.00022695487891650514, lift=1.0), OrderedStatistic(items_base=frozenset({689407}), items_add=frozenset({689431}), confidence=0.2483221476510067, lift=222.4366103694963), OrderedStatistic(items_base=frozenset({689431}), items_add=frozenset({689407}), confidence=0.2032967032967033, lift=222.4366103694963)]),\n",
       " RelationRecord(items=frozenset({690889, 690919}), support=0.00013494614422062467, ordered_statistics=[OrderedStatistic(items_base=frozenset(), items_add=frozenset({690889, 690919}), confidence=0.00013494614422062467, lift=1.0), OrderedStatistic(items_base=frozenset({690889}), items_add=frozenset({690919}), confidence=0.12571428571428572, lift=238.3133554817276), OrderedStatistic(items_base=frozenset({690919}), items_add=frozenset({690889}), confidence=0.25581395348837205, lift=238.31335548172754)]),\n",
       " RelationRecord(items=frozenset({690889, 690925}), support=0.00012574527075103663, ordered_statistics=[OrderedStatistic(items_base=frozenset(), items_add=frozenset({690889, 690925}), confidence=0.00012574527075103663, lift=1.0), OrderedStatistic(items_base=frozenset({690889}), items_add=frozenset({690925}), confidence=0.11714285714285715, lift=86.21925830377297), OrderedStatistic(items_base=frozenset({690925}), items_add=frozenset({690889}), confidence=0.09255079006772009, lift=86.21925830377297)]),\n",
       " RelationRecord(items=frozenset({690889, 690926}), support=0.0001012096081654685, ordered_statistics=[OrderedStatistic(items_base=frozenset(), items_add=frozenset({690889, 690926}), confidence=0.0001012096081654685, lift=1.0), OrderedStatistic(items_base=frozenset({690889}), items_add=frozenset({690926}), confidence=0.09428571428571429, lift=155.2647619047619), OrderedStatistic(items_base=frozenset({690926}), items_add=frozenset({690889}), confidence=0.16666666666666666, lift=155.2647619047619)]),\n",
       " RelationRecord(items=frozenset({691184, 690889}), support=0.00015028093333660476, ordered_statistics=[OrderedStatistic(items_base=frozenset(), items_add=frozenset({691184, 690889}), confidence=0.00015028093333660476, lift=1.0), OrderedStatistic(items_base=frozenset({690889}), items_add=frozenset({691184}), confidence=0.14, lift=100.10491228070177), OrderedStatistic(items_base=frozenset({691184}), items_add=frozenset({690889}), confidence=0.1074561403508772, lift=100.10491228070177)]),\n",
       " RelationRecord(items=frozenset({690889, 694719}), support=0.00012574527075103663, ordered_statistics=[OrderedStatistic(items_base=frozenset(), items_add=frozenset({690889, 694719}), confidence=0.00012574527075103663, lift=1.0), OrderedStatistic(items_base=frozenset({690889}), items_add=frozenset({694719}), confidence=0.11714285714285715, lift=149.19973214285716), OrderedStatistic(items_base=frozenset({694719}), items_add=frozenset({690889}), confidence=0.16015625, lift=149.19973214285716)]),\n",
       " RelationRecord(items=frozenset({690889, 698692}), support=0.00015028093333660476, ordered_statistics=[OrderedStatistic(items_base=frozenset(), items_add=frozenset({690889, 698692}), confidence=0.00015028093333660476, lift=1.0), OrderedStatistic(items_base=frozenset({690889}), items_add=frozenset({698692}), confidence=0.14, lift=107.15455399061034), OrderedStatistic(items_base=frozenset({698692}), items_add=frozenset({690889}), confidence=0.11502347417840375, lift=107.15455399061032)]),\n",
       " RelationRecord(items=frozenset({690889, 701126}), support=0.00011347743945825257, ordered_statistics=[OrderedStatistic(items_base=frozenset(), items_add=frozenset({690889, 701126}), confidence=0.00011347743945825257, lift=1.0), OrderedStatistic(items_base=frozenset({690889}), items_add=frozenset({701126}), confidence=0.10571428571428572, lift=144.82679471788717), OrderedStatistic(items_base=frozenset({701126}), items_add=frozenset({690889}), confidence=0.15546218487394958, lift=144.82679471788717)]),\n",
       " RelationRecord(items=frozenset({690925, 694719}), support=0.00011347743945825257, ordered_statistics=[OrderedStatistic(items_base=frozenset(), items_add=frozenset({690925, 694719}), confidence=0.00011347743945825257, lift=1.0), OrderedStatistic(items_base=frozenset({690925}), items_add=frozenset({694719}), confidence=0.08352144469525959, lift=106.37761004514672), OrderedStatistic(items_base=frozenset({694719}), items_add=frozenset({690925}), confidence=0.14453125, lift=106.37761004514672)]),\n",
       " RelationRecord(items=frozenset({698186, 690925}), support=0.00019628530068454498, ordered_statistics=[OrderedStatistic(items_base=frozenset(), items_add=frozenset({698186, 690925}), confidence=0.00019628530068454498, lift=1.0), OrderedStatistic(items_base=frozenset({690925}), items_add=frozenset({698186}), confidence=0.14446952595936793, lift=105.38066164699703), OrderedStatistic(items_base=frozenset({698186}), items_add=frozenset({690925}), confidence=0.14317673378076062, lift=105.38066164699703)]),\n",
       " RelationRecord(items=frozenset({691184, 698186}), support=0.0001594818068061928, ordered_statistics=[OrderedStatistic(items_base=frozenset(), items_add=frozenset({691184, 698186}), confidence=0.0001594818068061928, lift=1.0), OrderedStatistic(items_base=frozenset({691184}), items_add=frozenset({698186}), confidence=0.11403508771929824, lift=83.18081557360964), OrderedStatistic(items_base=frozenset({698186}), items_add=frozenset({691184}), confidence=0.116331096196868, lift=83.18081557360964)]),\n",
       " RelationRecord(items=frozenset({691184, 698692}), support=0.00029442795102681746, ordered_statistics=[OrderedStatistic(items_base=frozenset(), items_add=frozenset({691184, 698692}), confidence=0.00029442795102681746, lift=1.0), OrderedStatistic(items_base=frozenset({691184}), items_add=frozenset({698692}), confidence=0.21052631578947367, lift=161.1346676550531), OrderedStatistic(items_base=frozenset({698692}), items_add=frozenset({691184}), confidence=0.22535211267605632, lift=161.1346676550531)]),\n",
       " RelationRecord(items=frozenset({698191, 694119}), support=0.00014414701769021273, ordered_statistics=[OrderedStatistic(items_base=frozenset(), items_add=frozenset({694119, 698191}), confidence=0.00014414701769021273, lift=1.0), OrderedStatistic(items_base=frozenset({694119}), items_add=frozenset({698191}), confidence=0.3821138211382114, lift=865.2118337850046), OrderedStatistic(items_base=frozenset({698191}), items_add=frozenset({694119}), confidence=0.3263888888888889, lift=865.2118337850045)]),\n",
       " RelationRecord(items=frozenset({698186, 694719}), support=0.0002177540054469171, ordered_statistics=[OrderedStatistic(items_base=frozenset(), items_add=frozenset({698186, 694719}), confidence=0.0002177540054469171, lift=1.0), OrderedStatistic(items_base=frozenset({694719}), items_add=frozenset({698186}), confidence=0.27734375, lift=202.30334172259506), OrderedStatistic(items_base=frozenset({698186}), items_add=frozenset({694719}), confidence=0.15883668903803133, lift=202.3033417225951)]),\n",
       " RelationRecord(items=frozenset({698692, 694719}), support=0.00011654439728144858, ordered_statistics=[OrderedStatistic(items_base=frozenset(), items_add=frozenset({698692, 694719}), confidence=0.00011654439728144858, lift=1.0), OrderedStatistic(items_base=frozenset({694719}), items_add=frozenset({698692}), confidence=0.1484375, lift=113.61252934272301), OrderedStatistic(items_base=frozenset({698692}), items_add=frozenset({694719}), confidence=0.0892018779342723, lift=113.61252934272301)]),\n",
       " RelationRecord(items=frozenset({694728, 694766}), support=0.00013187918639742866, ordered_statistics=[OrderedStatistic(items_base=frozenset(), items_add=frozenset({694728, 694766}), confidence=0.00013187918639742866, lift=1.0), OrderedStatistic(items_base=frozenset({694728}), items_add=frozenset({694766}), confidence=0.23118279569892472, lift=297.93888393046876), OrderedStatistic(items_base=frozenset({694766}), items_add=frozenset({694728}), confidence=0.16996047430830039, lift=297.93888393046876)]),\n",
       " RelationRecord(items=frozenset({698188, 698183}), support=0.00011041048163505655, ordered_statistics=[OrderedStatistic(items_base=frozenset(), items_add=frozenset({698188, 698183}), confidence=0.00011041048163505655, lift=1.0), OrderedStatistic(items_base=frozenset({698183}), items_add=frozenset({698188}), confidence=0.29508196721311475, lift=343.61873536299765), OrderedStatistic(items_base=frozenset({698188}), items_add=frozenset({698183}), confidence=0.12857142857142856, lift=343.6187353629976)]),\n",
       " RelationRecord(items=frozenset({698186, 698692}), support=0.0002790931619108374, ordered_statistics=[OrderedStatistic(items_base=frozenset(), items_add=frozenset({698186, 698692}), confidence=0.0002790931619108374, lift=1.0), OrderedStatistic(items_base=frozenset({698186}), items_add=frozenset({698692}), confidence=0.203579418344519, lift=155.81758410267722), OrderedStatistic(items_base=frozenset({698692}), items_add=frozenset({698186}), confidence=0.2136150234741784, lift=155.81758410267722)]),\n",
       " RelationRecord(items=frozenset({701923, 701924}), support=0.0007023333415118875, ordered_statistics=[OrderedStatistic(items_base=frozenset(), items_add=frozenset({701923, 701924}), confidence=0.0007023333415118875, lift=1.0), OrderedStatistic(items_base=frozenset({701923}), items_add=frozenset({701924}), confidence=0.28236744759556104, lift=178.42558235119816), OrderedStatistic(items_base=frozenset({701924}), items_add=frozenset({701923}), confidence=0.4437984496124031, lift=178.42558235119816)]),\n",
       " RelationRecord(items=frozenset({701994, 701923}), support=0.0007176681306278677, ordered_statistics=[OrderedStatistic(items_base=frozenset(), items_add=frozenset({701994, 701923}), confidence=0.0007176681306278677, lift=1.0), OrderedStatistic(items_base=frozenset({701923}), items_add=frozenset({701994}), confidence=0.28853267570900126, lift=79.45760989102544), OrderedStatistic(items_base=frozenset({701994}), items_add=frozenset({701923}), confidence=0.19763513513513514, lift=79.45760989102543)]),\n",
       " RelationRecord(items=frozenset({701923, 701998}), support=0.0015273449959516156, ordered_statistics=[OrderedStatistic(items_base=frozenset(), items_add=frozenset({701923, 701998}), confidence=0.0015273449959516156, lift=1.0), OrderedStatistic(items_base=frozenset({701923}), items_add=frozenset({701998}), confidence=0.6140567200986436, lift=127.77082190713679), OrderedStatistic(items_base=frozenset({701998}), items_add=frozenset({701923}), confidence=0.3178047223994895, lift=127.77082190713679)]),\n",
       " RelationRecord(items=frozenset({701923, 702423}), support=0.0001410800598670167, ordered_statistics=[OrderedStatistic(items_base=frozenset(), items_add=frozenset({701923, 702423}), confidence=0.0001410800598670167, lift=1.0), OrderedStatistic(items_base=frozenset({701923}), items_add=frozenset({702423}), confidence=0.05672009864364981, lift=4.329103109399317), OrderedStatistic(items_base=frozenset({702423}), items_add=frozenset({701923}), confidence=0.010767790262172283, lift=4.329103109399317)]),\n",
       " RelationRecord(items=frozenset({701923, 702428}), support=0.00012267831292784063, ordered_statistics=[OrderedStatistic(items_base=frozenset(), items_add=frozenset({701923, 702428}), confidence=0.00012267831292784063, lift=1.0), OrderedStatistic(items_base=frozenset({701923}), items_add=frozenset({702428}), confidence=0.049321824907521586, lift=6.1947908097252915), OrderedStatistic(items_base=frozenset({702428}), items_add=frozenset({701923}), confidence=0.015408320493066256, lift=6.1947908097252915)]),\n",
       " RelationRecord(items=frozenset({701923, 702461}), support=0.0001564148489829968, ordered_statistics=[OrderedStatistic(items_base=frozenset(), items_add=frozenset({701923, 702461}), confidence=0.0001564148489829968, lift=1.0), OrderedStatistic(items_base=frozenset({701923}), items_add=frozenset({702461}), confidence=0.06288532675709001, lift=6.187126765573247), OrderedStatistic(items_base=frozenset({702461}), items_add=frozenset({701923}), confidence=0.015389257694628847, lift=6.187126765573248)]),\n",
       " RelationRecord(items=frozenset({701923, 703317}), support=0.00012881222857423263, ordered_statistics=[OrderedStatistic(items_base=frozenset(), items_add=frozenset({701923, 703317}), confidence=0.00012881222857423263, lift=1.0), OrderedStatistic(items_base=frozenset({701923}), items_add=frozenset({703317}), confidence=0.05178791615289765, lift=5.151238800838681), OrderedStatistic(items_base=frozenset({703317}), items_add=frozenset({701923}), confidence=0.012812690665039657, lift=5.151238800838681)]),\n",
       " RelationRecord(items=frozenset({703320, 701923}), support=0.00012267831292784063, ordered_statistics=[OrderedStatistic(items_base=frozenset(), items_add=frozenset({703320, 701923}), confidence=0.00012267831292784063, lift=1.0), OrderedStatistic(items_base=frozenset({701923}), items_add=frozenset({703320}), confidence=0.049321824907521586, lift=6.225968618678613), OrderedStatistic(items_base=frozenset({703320}), items_add=frozenset({701923}), confidence=0.01548586914440573, lift=6.225968618678612)]),\n",
       " RelationRecord(items=frozenset({703323, 701923}), support=0.00016561572245258482, ordered_statistics=[OrderedStatistic(items_base=frozenset(), items_add=frozenset({703323, 701923}), confidence=0.00016561572245258482, lift=1.0), OrderedStatistic(items_base=frozenset({701923}), items_add=frozenset({703323}), confidence=0.06658446362515413, lift=5.297770588522025), OrderedStatistic(items_base=frozenset({703323}), items_add=frozenset({701923}), confidence=0.013177159590043922, lift=5.297770588522024)]),\n",
       " RelationRecord(items=frozenset({716035, 701923}), support=0.0001012096081654685, ordered_statistics=[OrderedStatistic(items_base=frozenset(), items_add=frozenset({716035, 701923}), confidence=0.0001012096081654685, lift=1.0), OrderedStatistic(items_base=frozenset({701923}), items_add=frozenset({716035}), confidence=0.0406905055487053, lift=6.147999757733389), OrderedStatistic(items_base=frozenset({716035}), items_add=frozenset({701923}), confidence=0.015291936978683966, lift=6.14799975773339)]),\n",
       " RelationRecord(items=frozenset({701994, 701924}), support=0.0005397845768824987, ordered_statistics=[OrderedStatistic(items_base=frozenset(), items_add=frozenset({701994, 701924}), confidence=0.0005397845768824987, lift=1.0), OrderedStatistic(items_base=frozenset({701924}), items_add=frozenset({701994}), confidence=0.34108527131782945, lift=93.9298135344647), OrderedStatistic(items_base=frozenset({701994}), items_add=frozenset({701924}), confidence=0.14864864864864863, lift=93.92981353446469)]),\n",
       " RelationRecord(items=frozenset({701924, 701998}), support=0.0007483377088598278, ordered_statistics=[OrderedStatistic(items_base=frozenset(), items_add=frozenset({701924, 701998}), confidence=0.0007483377088598278, lift=1.0), OrderedStatistic(items_base=frozenset({701924}), items_add=frozenset({701998}), confidence=0.47286821705426363, lift=98.3928011358296), OrderedStatistic(items_base=frozenset({701998}), items_add=frozenset({701924}), confidence=0.1557115507338864, lift=98.39280113582959)]),\n",
       " RelationRecord(items=frozenset({701924, 702423}), support=0.00010427656598866452, ordered_statistics=[OrderedStatistic(items_base=frozenset(), items_add=frozenset({701924, 702423}), confidence=0.00010427656598866452, lift=1.0), OrderedStatistic(items_base=frozenset({701924}), items_add=frozenset({702423}), confidence=0.06589147286821706, lift=5.029098800917458), OrderedStatistic(items_base=frozenset({702423}), items_add=frozenset({701924}), confidence=0.00795880149812734, lift=5.029098800917457)]),\n",
       " RelationRecord(items=frozenset({701924, 702461}), support=0.00010734352381186054, ordered_statistics=[OrderedStatistic(items_base=frozenset(), items_add=frozenset({701924, 702461}), confidence=0.00010734352381186054, lift=1.0), OrderedStatistic(items_base=frozenset({701924}), items_add=frozenset({702461}), confidence=0.0678294573643411, lift=6.6735671546130355), OrderedStatistic(items_base=frozenset({702461}), items_add=frozenset({701924}), confidence=0.010561255280627641, lift=6.6735671546130355)]),\n",
       " RelationRecord(items=frozenset({701924, 703317}), support=0.00010734352381186054, ordered_statistics=[OrderedStatistic(items_base=frozenset(), items_add=frozenset({701924, 703317}), confidence=0.00010734352381186054, lift=1.0), OrderedStatistic(items_base=frozenset({701924}), items_add=frozenset({703317}), confidence=0.0678294573643411, lift=6.746858313113972), OrderedStatistic(items_base=frozenset({703317}), items_add=frozenset({701924}), confidence=0.010677242220866382, lift=6.746858313113972)]),\n",
       " RelationRecord(items=frozenset({703323, 701924}), support=0.00010734352381186054, ordered_statistics=[OrderedStatistic(items_base=frozenset(), items_add=frozenset({703323, 701924}), confidence=0.00010734352381186054, lift=1.0), OrderedStatistic(items_base=frozenset({701924}), items_add=frozenset({703323}), confidence=0.0678294573643411, lift=5.396828099167301), OrderedStatistic(items_base=frozenset({703323}), items_add=frozenset({701924}), confidence=0.00854075158613958, lift=5.396828099167301)]),\n",
       " RelationRecord(items=frozenset({701994, 701998}), support=0.0028522707755722944, ordered_statistics=[OrderedStatistic(items_base=frozenset(), items_add=frozenset({701994, 701998}), confidence=0.0028522707755722944, lift=1.0), OrderedStatistic(items_base=frozenset({701994}), items_add=frozenset({701998}), confidence=0.785472972972973, lift=163.43852946756584), OrderedStatistic(items_base=frozenset({701998}), items_add=frozenset({701994}), confidence=0.5934907466496491, lift=163.43852946756587)]),\n",
       " RelationRecord(items=frozenset({702418, 701994}), support=0.00012881222857423263, ordered_statistics=[OrderedStatistic(items_base=frozenset(), items_add=frozenset({702418, 701994}), confidence=0.00012881222857423263, lift=1.0), OrderedStatistic(items_base=frozenset({701994}), items_add=frozenset({702418}), confidence=0.03547297297297297, lift=4.7170373881222165), OrderedStatistic(items_base=frozenset({702418}), items_add=frozenset({701994}), confidence=0.017128874388254483, lift=4.717037388122216)]),\n",
       " RelationRecord(items=frozenset({701994, 702421}), support=0.00012267831292784063, ordered_statistics=[OrderedStatistic(items_base=frozenset(), items_add=frozenset({701994, 702421}), confidence=0.00012267831292784063, lift=1.0), OrderedStatistic(items_base=frozenset({701994}), items_add=frozenset({702421}), confidence=0.033783783783783786, lift=5.806750345495733), OrderedStatistic(items_base=frozenset({702421}), items_add=frozenset({701994}), confidence=0.021085925144965736, lift=5.806750345495733)]),\n",
       " RelationRecord(items=frozenset({701994, 702423}), support=0.0002208209632701131, ordered_statistics=[OrderedStatistic(items_base=frozenset(), items_add=frozenset({701994, 702423}), confidence=0.0002208209632701131, lift=1.0), OrderedStatistic(items_base=frozenset({701994}), items_add=frozenset({702423}), confidence=0.06081081081081081, lift=4.641322502277558), OrderedStatistic(items_base=frozenset({702423}), items_add=frozenset({701994}), confidence=0.016853932584269662, lift=4.641322502277559)]),\n",
       " RelationRecord(items=frozenset({701994, 702428}), support=0.00013187918639742866, ordered_statistics=[OrderedStatistic(items_base=frozenset(), items_add=frozenset({701994, 702428}), confidence=0.00013187918639742866, lift=1.0), OrderedStatistic(items_base=frozenset({701994}), items_add=frozenset({702428}), confidence=0.03631756756756757, lift=4.561464102777662), OrderedStatistic(items_base=frozenset({702428}), items_add=frozenset({701994}), confidence=0.016563944530046223, lift=4.561464102777662)]),\n",
       " RelationRecord(items=frozenset({701994, 702461}), support=0.00023002183673970117, ordered_statistics=[OrderedStatistic(items_base=frozenset(), items_add=frozenset({701994, 702461}), confidence=0.00023002183673970117, lift=1.0), OrderedStatistic(items_base=frozenset({701994}), items_add=frozenset({702461}), confidence=0.0633445945945946, lift=6.232312955683506), OrderedStatistic(items_base=frozenset({702461}), items_add=frozenset({701994}), confidence=0.02263126131563066, lift=6.232312955683506)]),\n",
       " RelationRecord(items=frozenset({701994, 703317}), support=0.00020548617415413304, ordered_statistics=[OrderedStatistic(items_base=frozenset(), items_add=frozenset({701994, 703317}), confidence=0.00020548617415413304, lift=1.0), OrderedStatistic(items_base=frozenset({701994}), items_add=frozenset({703317}), confidence=0.05658783783783784, lift=5.628677258710816), OrderedStatistic(items_base=frozenset({703317}), items_add=frozenset({701994}), confidence=0.02043929225137279, lift=5.628677258710816)]),\n",
       " RelationRecord(items=frozenset({701994, 703319}), support=0.00013494614422062467, ordered_statistics=[OrderedStatistic(items_base=frozenset(), items_add=frozenset({701994, 703319}), confidence=0.00013494614422062467, lift=1.0), OrderedStatistic(items_base=frozenset({701994}), items_add=frozenset({703319}), confidence=0.03716216216216216, lift=6.274959060562374), OrderedStatistic(items_base=frozenset({703319}), items_add=frozenset({701994}), confidence=0.022786121180735367, lift=6.274959060562374)]),\n",
       " RelationRecord(items=frozenset({703320, 701994}), support=0.00019628530068454498, ordered_statistics=[OrderedStatistic(items_base=frozenset(), items_add=frozenset({703320, 701994}), confidence=0.00019628530068454498, lift=1.0), OrderedStatistic(items_base=frozenset({701994}), items_add=frozenset({703320}), confidence=0.05405405405405405, lift=6.823325067227505), OrderedStatistic(items_base=frozenset({703320}), items_add=frozenset({701994}), confidence=0.024777390631049164, lift=6.823325067227505)]),\n",
       " RelationRecord(items=frozenset({701994, 703323}), support=0.00023002183673970117, ordered_statistics=[OrderedStatistic(items_base=frozenset(), items_add=frozenset({701994, 703323}), confidence=0.00023002183673970117, lift=1.0), OrderedStatistic(items_base=frozenset({701994}), items_add=frozenset({703323}), confidence=0.0633445945945946, lift=5.039991492224289), OrderedStatistic(items_base=frozenset({703323}), items_add=frozenset({701994}), confidence=0.018301610541727673, lift=5.0399914922242885)]),\n",
       " RelationRecord(items=frozenset({701994, 716035}), support=0.00012574527075103663, ordered_statistics=[OrderedStatistic(items_base=frozenset(), items_add=frozenset({701994, 716035}), confidence=0.00012574527075103663, lift=1.0), OrderedStatistic(items_base=frozenset({701994}), items_add=frozenset({716035}), confidence=0.03462837837837838, lift=5.232062345014152), OrderedStatistic(items_base=frozenset({716035}), items_add=frozenset({701994}), confidence=0.018999073215940687, lift=5.232062345014152)]),\n",
       " RelationRecord(items=frozenset({702418, 701998}), support=0.00015334789115980076, ordered_statistics=[OrderedStatistic(items_base=frozenset(), items_add=frozenset({702418, 701998}), confidence=0.00015334789115980076, lift=1.0), OrderedStatistic(items_base=frozenset({701998}), items_add=frozenset({702418}), confidence=0.03190810465858328, lift=4.242997133996341), OrderedStatistic(items_base=frozenset({702418}), items_add=frozenset({701998}), confidence=0.020391517128874388, lift=4.242997133996342)]),\n",
       " RelationRecord(items=frozenset({702421, 701998}), support=0.0001564148489829968, ordered_statistics=[OrderedStatistic(items_base=frozenset(), items_add=frozenset({702421, 701998}), confidence=0.0001564148489829968, lift=1.0), OrderedStatistic(items_base=frozenset({701998}), items_add=frozenset({702421}), confidence=0.03254626675175495, lift=5.59404615287834), OrderedStatistic(items_base=frozenset({702421}), items_add=frozenset({701998}), confidence=0.02688455455983131, lift=5.59404615287834)]),\n",
       " RelationRecord(items=frozenset({702422, 701998}), support=0.00010427656598866452, ordered_statistics=[OrderedStatistic(items_base=frozenset(), items_add=frozenset({701998, 702422}), confidence=0.00010427656598866452, lift=1.0), OrderedStatistic(items_base=frozenset({701998}), items_add=frozenset({702422}), confidence=0.02169751116783663, lift=6.699435323238769), OrderedStatistic(items_base=frozenset({702422}), items_add=frozenset({701998}), confidence=0.032196969696969696, lift=6.699435323238769)]),\n",
       " RelationRecord(items=frozenset({701998, 702423}), support=0.0003097627401427976, ordered_statistics=[OrderedStatistic(items_base=frozenset(), items_add=frozenset({701998, 702423}), confidence=0.0003097627401427976, lift=1.0), OrderedStatistic(items_base=frozenset({701998}), items_add=frozenset({702423}), confidence=0.06445437141033823, lift=4.9194135123055345), OrderedStatistic(items_base=frozenset({702423}), items_add=frozenset({701998}), confidence=0.023642322097378276, lift=4.919413512305534)]),\n",
       " RelationRecord(items=frozenset({702428, 701998}), support=0.00019015138503815295, ordered_statistics=[OrderedStatistic(items_base=frozenset(), items_add=frozenset({702428, 701998}), confidence=0.00019015138503815295, lift=1.0), OrderedStatistic(items_base=frozenset({701998}), items_add=frozenset({702428}), confidence=0.03956604977664327, lift=4.96947146609137), OrderedStatistic(items_base=frozenset({702428}), items_add=frozenset({701998}), confidence=0.023882896764252693, lift=4.9694714660913695)]),\n",
       " RelationRecord(items=frozenset({702461, 701998}), support=0.00029442795102681746, ordered_statistics=[OrderedStatistic(items_base=frozenset(), items_add=frozenset({702461, 701998}), confidence=0.00029442795102681746, lift=1.0), OrderedStatistic(items_base=frozenset({701998}), items_add=frozenset({702461}), confidence=0.06126356094447989, lift=6.027565367324483), OrderedStatistic(items_base=frozenset({702461}), items_add=frozenset({701998}), confidence=0.02896801448400724, lift=6.027565367324483)]),\n",
       " RelationRecord(items=frozenset({703317, 701998}), support=0.0002637583727948573, ordered_statistics=[OrderedStatistic(items_base=frozenset(), items_add=frozenset({703317, 701998}), confidence=0.0002637583727948573, lift=1.0), OrderedStatistic(items_base=frozenset({701998}), items_add=frozenset({703317}), confidence=0.05488194001276324, lift=5.458995067968741), OrderedStatistic(items_base=frozenset({703317}), items_add=frozenset({701998}), confidence=0.026235509456985967, lift=5.458995067968741)]),\n",
       " RelationRecord(items=frozenset({701998, 703319}), support=0.00014414701769021273, ordered_statistics=[OrderedStatistic(items_base=frozenset(), items_add=frozenset({701998, 703319}), confidence=0.00014414701769021273, lift=1.0), OrderedStatistic(items_base=frozenset({701998}), items_add=frozenset({703319}), confidence=0.029993618379068283, lift=5.064525755673479), OrderedStatistic(items_base=frozenset({703319}), items_add=frozenset({701998}), confidence=0.024339720352149145, lift=5.064525755673479)]),\n",
       " RelationRecord(items=frozenset({703320, 701998}), support=0.00022695487891650514, ordered_statistics=[OrderedStatistic(items_base=frozenset(), items_add=frozenset({703320, 701998}), confidence=0.00022695487891650514, lift=1.0), OrderedStatistic(items_base=frozenset({701998}), items_add=frozenset({703320}), confidence=0.047223994894703254, lift=5.961156360583571), OrderedStatistic(items_base=frozenset({703320}), items_add=frozenset({701998}), confidence=0.0286488579171506, lift=5.961156360583571)]),\n",
       " RelationRecord(items=frozenset({703323, 701998}), support=0.0003005618666732095, ordered_statistics=[OrderedStatistic(items_base=frozenset(), items_add=frozenset({703323, 701998}), confidence=0.0003005618666732095, lift=1.0), OrderedStatistic(items_base=frozenset({701998}), items_add=frozenset({703323}), confidence=0.06253988513082323, lift=4.975965052761274), OrderedStatistic(items_base=frozenset({703323}), items_add=frozenset({701998}), confidence=0.023914104441190825, lift=4.975965052761274)]),\n",
       " RelationRecord(items=frozenset({716035, 701998}), support=0.0001594818068061928, ordered_statistics=[OrderedStatistic(items_base=frozenset(), items_add=frozenset({716035, 701998}), confidence=0.0001594818068061928, lift=1.0), OrderedStatistic(items_base=frozenset({701998}), items_add=frozenset({716035}), confidence=0.03318442884492661, lift=5.01389348075134), OrderedStatistic(items_base=frozenset({716035}), items_add=frozenset({701998}), confidence=0.024096385542168672, lift=5.01389348075134)]),\n",
       " RelationRecord(items=frozenset({751754, 701998}), support=0.00010734352381186054, ordered_statistics=[OrderedStatistic(items_base=frozenset(), items_add=frozenset({751754, 701998}), confidence=0.00010734352381186054, lift=1.0), OrderedStatistic(items_base=frozenset({701998}), items_add=frozenset({751754}), confidence=0.022335673261008295, lift=2.0712970081886577), OrderedStatistic(items_base=frozenset({751754}), items_add=frozenset({701998}), confidence=0.009954493742889647, lift=2.0712970081886577)]),\n",
       " RelationRecord(items=frozenset({823710, 701998}), support=0.00016561572245258482, ordered_statistics=[OrderedStatistic(items_base=frozenset(), items_add=frozenset({701998, 823710}), confidence=0.00016561572245258482, lift=1.0), OrderedStatistic(items_base=frozenset({701998}), items_add=frozenset({823710}), confidence=0.03446075303126994, lift=99.43482557844028), OrderedStatistic(items_base=frozenset({823710}), items_add=frozenset({701998}), confidence=0.47787610619469023, lift=99.43482557844028)]),\n",
       " RelationRecord(items=frozenset({702000, 702001}), support=0.00028829403538042545, ordered_statistics=[OrderedStatistic(items_base=frozenset(), items_add=frozenset({702000, 702001}), confidence=0.00028829403538042545, lift=1.0), OrderedStatistic(items_base=frozenset({702000}), items_add=frozenset({702001}), confidence=0.32525951557093424, lift=406.3326306858105), OrderedStatistic(items_base=frozenset({702001}), items_add=frozenset({702000}), confidence=0.36015325670498083, lift=406.3326306858105)]),\n",
       " RelationRecord(items=frozenset({702418, 702406}), support=0.00010734352381186054, ordered_statistics=[OrderedStatistic(items_base=frozenset(), items_add=frozenset({702418, 702406}), confidence=0.00010734352381186054, lift=1.0), OrderedStatistic(items_base=frozenset({702406}), items_add=frozenset({702418}), confidence=0.058626465661641536, lift=7.795885353903831), OrderedStatistic(items_base=frozenset({702418}), items_add=frozenset({702406}), confidence=0.014274061990212071, lift=7.795885353903831)]),\n",
       " RelationRecord(items=frozenset({702421, 702406}), support=0.0001380131020438207, ordered_statistics=[OrderedStatistic(items_base=frozenset(), items_add=frozenset({702421, 702406}), confidence=0.0001380131020438207, lift=1.0), OrderedStatistic(items_base=frozenset({702406}), items_add=frozenset({702421}), confidence=0.07537688442211055, lift=12.955764589950277), OrderedStatistic(items_base=frozenset({702421}), items_add=frozenset({702406}), confidence=0.023721665788086453, lift=12.95576458995028)]),\n",
       " RelationRecord(items=frozenset({702422, 702406}), support=0.00011347743945825257, ordered_statistics=[OrderedStatistic(items_base=frozenset(), items_add=frozenset({702406, 702422}), confidence=0.00011347743945825257, lift=1.0), OrderedStatistic(items_base=frozenset({702406}), items_add=frozenset({702422}), confidence=0.06197654941373534, lift=19.13619867011827), OrderedStatistic(items_base=frozenset({702422}), items_add=frozenset({702406}), confidence=0.03503787878787879, lift=19.13619867011827)]),\n",
       " RelationRecord(items=frozenset({702406, 702423}), support=0.00024535662585568126, ordered_statistics=[OrderedStatistic(items_base=frozenset(), items_add=frozenset({702406, 702423}), confidence=0.00024535662585568126, lift=1.0), OrderedStatistic(items_base=frozenset({702406}), items_add=frozenset({702423}), confidence=0.1340033500837521, lift=10.227667676710645), OrderedStatistic(items_base=frozenset({702423}), items_add=frozenset({702406}), confidence=0.018726591760299626, lift=10.227667676710645)]),\n",
       " RelationRecord(items=frozenset({702428, 702406}), support=0.00021162008980052507, ordered_statistics=[OrderedStatistic(items_base=frozenset(), items_add=frozenset({702428, 702406}), confidence=0.00021162008980052507, lift=1.0), OrderedStatistic(items_base=frozenset({702406}), items_add=frozenset({702428}), confidence=0.11557788944723618, lift=14.516511680126362), OrderedStatistic(items_base=frozenset({702428}), items_add=frozenset({702406}), confidence=0.02657935285053929, lift=14.516511680126362)]),\n",
       " RelationRecord(items=frozenset({702461, 702406}), support=0.0001594818068061928, ordered_statistics=[OrderedStatistic(items_base=frozenset(), items_add=frozenset({702461, 702406}), confidence=0.0001594818068061928, lift=1.0), OrderedStatistic(items_base=frozenset({702406}), items_add=frozenset({702461}), confidence=0.08710217755443886, lift=8.56976089459569), OrderedStatistic(items_base=frozenset({702461}), items_add=frozenset({702406}), confidence=0.015691007845503924, lift=8.56976089459569)]),\n",
       " RelationRecord(items=frozenset({703317, 702406}), support=0.00017174963809897685, ordered_statistics=[OrderedStatistic(items_base=frozenset(), items_add=frozenset({703317, 702406}), confidence=0.00017174963809897685, lift=1.0), OrderedStatistic(items_base=frozenset({702406}), items_add=frozenset({703317}), confidence=0.09380234505862646, lift=9.330328682256104), OrderedStatistic(items_base=frozenset({703317}), items_add=frozenset({702406}), confidence=0.01708358755338621, lift=9.330328682256104)]),\n",
       " RelationRecord(items=frozenset({702406, 703319}), support=0.00012574527075103663, ordered_statistics=[OrderedStatistic(items_base=frozenset(), items_add=frozenset({702406, 703319}), confidence=0.00012574527075103663, lift=1.0), OrderedStatistic(items_base=frozenset({702406}), items_add=frozenset({703319}), confidence=0.06867671691792294, lift=11.596300161258563), OrderedStatistic(items_base=frozenset({703319}), items_add=frozenset({702406}), confidence=0.021232522009321596, lift=11.596300161258563)]),\n",
       " RelationRecord(items=frozenset({703320, 702406}), support=0.00013494614422062467, ordered_statistics=[OrderedStatistic(items_base=frozenset(), items_add=frozenset({703320, 702406}), confidence=0.00013494614422062467, lift=1.0), OrderedStatistic(items_base=frozenset({702406}), items_add=frozenset({703320}), confidence=0.07370184254606364, lift=9.303495150290098), OrderedStatistic(items_base=frozenset({703320}), items_add=frozenset({702406}), confidence=0.0170344560588463, lift=9.303495150290098)]),\n",
       " RelationRecord(items=frozenset({703323, 702406}), support=0.00013187918639742866, ordered_statistics=[OrderedStatistic(items_base=frozenset(), items_add=frozenset({703323, 702406}), confidence=0.00013187918639742866, lift=1.0), OrderedStatistic(items_base=frozenset({702406}), items_add=frozenset({703323}), confidence=0.07202680067001675, lift=5.730788316071982), OrderedStatistic(items_base=frozenset({703323}), items_add=frozenset({702406}), confidence=0.010492923377257199, lift=5.730788316071982)]),\n",
       " RelationRecord(items=frozenset({716035, 702406}), support=0.00011654439728144858, ordered_statistics=[OrderedStatistic(items_base=frozenset(), items_add=frozenset({716035, 702406}), confidence=0.00011654439728144858, lift=1.0), OrderedStatistic(items_base=frozenset({702406}), items_add=frozenset({716035}), confidence=0.06365159128978225, lift=9.617230421492698), OrderedStatistic(items_base=frozenset({716035}), items_add=frozenset({702406}), confidence=0.017608897126969416, lift=9.617230421492696)]),\n",
       " RelationRecord(items=frozenset({702418, 702421}), support=0.0003741688544299139, ordered_statistics=[OrderedStatistic(items_base=frozenset(), items_add=frozenset({702418, 702421}), confidence=0.0003741688544299139, lift=1.0), OrderedStatistic(items_base=frozenset({702418}), items_add=frozenset({702421}), confidence=0.04975530179445351, lift=8.551931830201546), OrderedStatistic(items_base=frozenset({702421}), items_add=frozenset({702418}), confidence=0.06431207169214549, lift=8.551931830201546)]),\n",
       " RelationRecord(items=frozenset({702418, 702422}), support=0.00022388792109330913, ordered_statistics=[OrderedStatistic(items_base=frozenset(), items_add=frozenset({702418, 702422}), confidence=0.00022388792109330913, lift=1.0), OrderedStatistic(items_base=frozenset({702418}), items_add=frozenset({702422}), confidence=0.02977161500815661, lift=9.192437218844235), OrderedStatistic(items_base=frozenset({702422}), items_add=frozenset({702418}), confidence=0.06912878787878789, lift=9.192437218844235)]),\n",
       " RelationRecord(items=frozenset({702418, 702423}), support=0.0008434134013789043, ordered_statistics=[OrderedStatistic(items_base=frozenset(), items_add=frozenset({702418, 702423}), confidence=0.0008434134013789043, lift=1.0), OrderedStatistic(items_base=frozenset({702418}), items_add=frozenset({702423}), confidence=0.11215334420880914, lift=8.559988482993322), OrderedStatistic(items_base=frozenset({702423}), items_add=frozenset({702418}), confidence=0.06437265917602997, lift=8.559988482993322)]),\n",
       " RelationRecord(items=frozenset({702418, 702428}), support=0.000604190691169615, ordered_statistics=[OrderedStatistic(items_base=frozenset(), items_add=frozenset({702418, 702428}), confidence=0.000604190691169615, lift=1.0), OrderedStatistic(items_base=frozenset({702418}), items_add=frozenset({702428}), confidence=0.08034257748776509, lift=10.090978214695967), OrderedStatistic(items_base=frozenset({702428}), items_add=frozenset({702418}), confidence=0.0758859784283513, lift=10.090978214695967)]),\n",
       " RelationRecord(items=frozenset({702434, 702418}), support=0.00022695487891650514, ordered_statistics=[OrderedStatistic(items_base=frozenset(), items_add=frozenset({702418, 702434}), confidence=0.00022695487891650514, lift=1.0), OrderedStatistic(items_base=frozenset({702418}), items_add=frozenset({702434}), confidence=0.030179445350734094, lift=10.336333228234198), OrderedStatistic(items_base=frozenset({702434}), items_add=frozenset({702418}), confidence=0.07773109243697479, lift=10.336333228234198)]),\n",
       " RelationRecord(items=frozenset({702418, 702455}), support=0.00024535662585568126, ordered_statistics=[OrderedStatistic(items_base=frozenset(), items_add=frozenset({702418, 702455}), confidence=0.00024535662585568126, lift=1.0), OrderedStatistic(items_base=frozenset({702418}), items_add=frozenset({702455}), confidence=0.032626427406199025, lift=10.585116830204607), OrderedStatistic(items_base=frozenset({702455}), items_add=frozenset({702418}), confidence=0.07960199004975126, lift=10.585116830204607)]),\n",
       " RelationRecord(items=frozenset({702418, 702461}), support=0.0006685968054567314, ordered_statistics=[OrderedStatistic(items_base=frozenset(), items_add=frozenset({702418, 702461}), confidence=0.0006685968054567314, lift=1.0), OrderedStatistic(items_base=frozenset({702418}), items_add=frozenset({702461}), confidence=0.08890701468189234, lift=8.747334212166292), OrderedStatistic(items_base=frozenset({702461}), items_add=frozenset({702418}), confidence=0.06578153289076645, lift=8.74733421216629)]),\n",
       " RelationRecord(items=frozenset({702418, 703316}), support=0.00015028093333660476, ordered_statistics=[OrderedStatistic(items_base=frozenset(), items_add=frozenset({702418, 703316}), confidence=0.00015028093333660476, lift=1.0), OrderedStatistic(items_base=frozenset({702418}), items_add=frozenset({703316}), confidence=0.0199836867862969, lift=7.515341382690682), OrderedStatistic(items_base=frozenset({703316}), items_add=frozenset({702418}), confidence=0.05651672433679354, lift=7.515341382690683)]),\n",
       " RelationRecord(items=frozenset({702418, 703317}), support=0.0007452707510366318, ordered_statistics=[OrderedStatistic(items_base=frozenset(), items_add=frozenset({702418, 703317}), confidence=0.0007452707510366318, lift=1.0), OrderedStatistic(items_base=frozenset({702418}), items_add=frozenset({703317}), confidence=0.09910277324632953, lift=9.857551505065656), OrderedStatistic(items_base=frozenset({703317}), items_add=frozenset({702418}), confidence=0.07413056741915802, lift=9.857551505065656)]),\n",
       " RelationRecord(items=frozenset({702418, 703318}), support=0.00012881222857423263, ordered_statistics=[OrderedStatistic(items_base=frozenset(), items_add=frozenset({702418, 703318}), confidence=0.00012881222857423263, lift=1.0), OrderedStatistic(items_base=frozenset({702418}), items_add=frozenset({703318}), confidence=0.017128874388254483, lift=6.524500312542878), OrderedStatistic(items_base=frozenset({703318}), items_add=frozenset({702418}), confidence=0.04906542056074766, lift=6.524500312542879)]),\n",
       " RelationRecord(items=frozenset({702418, 703319}), support=0.0003741688544299139, ordered_statistics=[OrderedStatistic(items_base=frozenset(), items_add=frozenset({702418, 703319}), confidence=0.0003741688544299139, lift=1.0), OrderedStatistic(items_base=frozenset({702418}), items_add=frozenset({703319}), confidence=0.04975530179445351, lift=8.401354055873814), OrderedStatistic(items_base=frozenset({703319}), items_add=frozenset({702418}), confidence=0.06317969963749354, lift=8.401354055873814)]),\n",
       " RelationRecord(items=frozenset({703320, 702418}), support=0.0006624628898103393, ordered_statistics=[OrderedStatistic(items_base=frozenset(), items_add=frozenset({703320, 702418}), confidence=0.0006624628898103393, lift=1.0), OrderedStatistic(items_base=frozenset({702418}), items_add=frozenset({703320}), confidence=0.08809135399673736, lift=11.119904962741074), OrderedStatistic(items_base=frozenset({703320}), items_add=frozenset({702418}), confidence=0.08362369337979093, lift=11.119904962741074)]),\n",
       " RelationRecord(items=frozenset({702418, 703323}), support=0.001018229997301077, ordered_statistics=[OrderedStatistic(items_base=frozenset(), items_add=frozenset({702418, 703323}), confidence=0.001018229997301077, lift=1.0), OrderedStatistic(items_base=frozenset({702418}), items_add=frozenset({703323}), confidence=0.13539967373572592, lift=10.773029775396743), OrderedStatistic(items_base=frozenset({703323}), items_add=frozenset({702418}), confidence=0.08101512933138116, lift=10.773029775396743)]),\n",
       " RelationRecord(items=frozenset({702418, 715852}), support=0.00020855313197732904, ordered_statistics=[OrderedStatistic(items_base=frozenset(), items_add=frozenset({702418, 715852}), confidence=0.00020855313197732904, lift=1.0), OrderedStatistic(items_base=frozenset({702418}), items_add=frozenset({715852}), confidence=0.027732463295269166, lift=10.047040058002537), OrderedStatistic(items_base=frozenset({715852}), items_add=frozenset({702418}), confidence=0.07555555555555556, lift=10.047040058002537)]),\n",
       " RelationRecord(items=frozenset({715921, 702418}), support=0.0002974949088500135, ordered_statistics=[OrderedStatistic(items_base=frozenset(), items_add=frozenset({715921, 702418}), confidence=0.0002974949088500135, lift=1.0), OrderedStatistic(items_base=frozenset({702418}), items_add=frozenset({715921}), confidence=0.039559543230016314, lift=11.344438370629904), OrderedStatistic(items_base=frozenset({715921}), items_add=frozenset({702418}), confidence=0.08531222515391382, lift=11.344438370629904)]),\n",
       " RelationRecord(items=frozenset({702418, 716035}), support=0.0005857889442304389, ordered_statistics=[OrderedStatistic(items_base=frozenset(), items_add=frozenset({702418, 716035}), confidence=0.0005857889442304389, lift=1.0), OrderedStatistic(items_base=frozenset({702418}), items_add=frozenset({716035}), confidence=0.07789559543230015, lift=11.76938195749493), OrderedStatistic(items_base=frozenset({716035}), items_add=frozenset({702418}), confidence=0.08850787766450417, lift=11.769381957494932)]),\n",
       " RelationRecord(items=frozenset({702418, 731389}), support=0.0001594818068061928, ordered_statistics=[OrderedStatistic(items_base=frozenset(), items_add=frozenset({702418, 731389}), confidence=0.0001594818068061928, lift=1.0), OrderedStatistic(items_base=frozenset({702418}), items_add=frozenset({731389}), confidence=0.021207177814029362, lift=6.970491501341893), OrderedStatistic(items_base=frozenset({731389}), items_add=frozenset({702418}), confidence=0.05241935483870968, lift=6.970491501341893)]),\n",
       " RelationRecord(items=frozenset({731392, 702418}), support=0.00014721397551340873, ordered_statistics=[OrderedStatistic(items_base=frozenset(), items_add=frozenset({731392, 702418}), confidence=0.00014721397551340873, lift=1.0), OrderedStatistic(items_base=frozenset({702418}), items_add=frozenset({731392}), confidence=0.01957585644371941, lift=7.179781157045418), OrderedStatistic(items_base=frozenset({731392}), items_add=frozenset({702418}), confidence=0.053993250843644536, lift=7.179781157045417)]),\n",
       " RelationRecord(items=frozenset({702418, 751581}), support=0.0001410800598670167, ordered_statistics=[OrderedStatistic(items_base=frozenset(), items_add=frozenset({702418, 751581}), confidence=0.0001410800598670167, lift=1.0), OrderedStatistic(items_base=frozenset({702418}), items_add=frozenset({751581}), confidence=0.018760195758564434, lift=1.1176456035546292), OrderedStatistic(items_base=frozenset({751581}), items_add=frozenset({702418}), confidence=0.008404896765941895, lift=1.1176456035546292)]),\n",
       " RelationRecord(items=frozenset({751600, 702418}), support=0.00011654439728144858, ordered_statistics=[OrderedStatistic(items_base=frozenset(), items_add=frozenset({751600, 702418}), confidence=0.00011654439728144858, lift=1.0), OrderedStatistic(items_base=frozenset({702418}), items_add=frozenset({751600}), confidence=0.015497553017944535, lift=1.0982547591434304), OrderedStatistic(items_base=frozenset({751600}), items_add=frozenset({702418}), confidence=0.008259074114322973, lift=1.0982547591434304)]),\n",
       " RelationRecord(items=frozenset({702418, 751754}), support=0.00015334789115980076, ordered_statistics=[OrderedStatistic(items_base=frozenset(), items_add=frozenset({702418, 751754}), confidence=0.00015334789115980076, lift=1.0), OrderedStatistic(items_base=frozenset({702418}), items_add=frozenset({751754}), confidence=0.020391517128874388, lift=1.8910058330410318), OrderedStatistic(items_base=frozenset({751754}), items_add=frozenset({702418}), confidence=0.01422070534698521, lift=1.8910058330410315)]),\n",
       " RelationRecord(items=frozenset({751848, 702418}), support=0.00010427656598866452, ordered_statistics=[OrderedStatistic(items_base=frozenset(), items_add=frozenset({751848, 702418}), confidence=0.00010427656598866452, lift=1.0), OrderedStatistic(items_base=frozenset({702418}), items_add=frozenset({751848}), confidence=0.013866231647634583, lift=2.563020422959831), OrderedStatistic(items_base=frozenset({751848}), items_add=frozenset({702418}), confidence=0.01927437641723356, lift=2.563020422959831)]),\n",
       " RelationRecord(items=frozenset({751873, 702418}), support=0.00013494614422062467, ordered_statistics=[OrderedStatistic(items_base=frozenset(), items_add=frozenset({751873, 702418}), confidence=0.00013494614422062467, lift=1.0), OrderedStatistic(items_base=frozenset({702418}), items_add=frozenset({751873}), confidence=0.01794453507340946, lift=2.383268158002279), OrderedStatistic(items_base=frozenset({751873}), items_add=frozenset({702418}), confidence=0.01792260692464358, lift=2.3832681580022785)]),\n",
       " RelationRecord(items=frozenset({753600, 702418}), support=0.00010427656598866452, ordered_statistics=[OrderedStatistic(items_base=frozenset(), items_add=frozenset({753600, 702418}), confidence=0.00010427656598866452, lift=1.0), OrderedStatistic(items_base=frozenset({702418}), items_add=frozenset({753600}), confidence=0.013866231647634583, lift=0.46900083258310593), OrderedStatistic(items_base=frozenset({753600}), items_add=frozenset({702418}), confidence=0.003526970954356846, lift=0.46900083258310593)]),\n",
       " RelationRecord(items=frozenset({702418, 778629}), support=0.00011347743945825257, ordered_statistics=[OrderedStatistic(items_base=frozenset(), items_add=frozenset({702418, 778629}), confidence=0.00011347743945825257, lift=1.0), OrderedStatistic(items_base=frozenset({702418}), items_add=frozenset({778629}), confidence=0.015089722675367047, lift=1.2719996423576727), OrderedStatistic(items_base=frozenset({778629}), items_add=frozenset({702418}), confidence=0.009565667011375387, lift=1.2719996423576725)]),\n",
       " RelationRecord(items=frozenset({702421, 702422}), support=0.00018401746939176092, ordered_statistics=[OrderedStatistic(items_base=frozenset(), items_add=frozenset({702421, 702422}), confidence=0.00018401746939176092, lift=1.0), OrderedStatistic(items_base=frozenset({702421}), items_add=frozenset({702422}), confidence=0.0316288877174486, lift=9.765898308333732), OrderedStatistic(items_base=frozenset({702422}), items_add=frozenset({702421}), confidence=0.056818181818181816, lift=9.765898308333732)]),\n",
       " RelationRecord(items=frozenset({702421, 702423}), support=0.000812743823146944, ordered_statistics=[OrderedStatistic(items_base=frozenset(), items_add=frozenset({702421, 702423}), confidence=0.000812743823146944, lift=1.0), OrderedStatistic(items_base=frozenset({702421}), items_add=frozenset({702423}), confidence=0.13969425408539798, lift=10.662020063218288), OrderedStatistic(items_base=frozenset({702423}), items_add=frozenset({702421}), confidence=0.0620318352059925, lift=10.662020063218288)]),\n",
       " RelationRecord(items=frozenset({702428, 702421}), support=0.0004416419265402262, ordered_statistics=[OrderedStatistic(items_base=frozenset(), items_add=frozenset({702428, 702421}), confidence=0.0004416419265402262, lift=1.0), OrderedStatistic(items_base=frozenset({702421}), items_add=frozenset({702428}), confidence=0.07590933052187665, lift=9.534165128135983), OrderedStatistic(items_base=frozenset({702428}), items_add=frozenset({702421}), confidence=0.055469953775038515, lift=9.534165128135982)]),\n",
       " RelationRecord(items=frozenset({702434, 702421}), support=0.0001012096081654685, ordered_statistics=[OrderedStatistic(items_base=frozenset(), items_add=frozenset({702434, 702421}), confidence=0.0001012096081654685, lift=1.0), OrderedStatistic(items_base=frozenset({702421}), items_add=frozenset({702434}), confidence=0.01739588824459673, lift=5.958018631806966), OrderedStatistic(items_base=frozenset({702434}), items_add=frozenset({702421}), confidence=0.03466386554621849, lift=5.958018631806967)]),\n",
       " RelationRecord(items=frozenset({702421, 702455}), support=0.00014414701769021273, ordered_statistics=[OrderedStatistic(items_base=frozenset(), items_add=frozenset({702421, 702455}), confidence=0.00014414701769021273, lift=1.0), OrderedStatistic(items_base=frozenset({702421}), items_add=frozenset({702455}), confidence=0.024775962045334738, lift=8.038160279257378), OrderedStatistic(items_base=frozenset({702455}), items_add=frozenset({702421}), confidence=0.04676616915422886, lift=8.038160279257378)]),\n",
       " RelationRecord(items=frozenset({702461, 702421}), support=0.0007452707510366318, ordered_statistics=[OrderedStatistic(items_base=frozenset(), items_add=frozenset({702421, 702461}), confidence=0.0007452707510366318, lift=1.0), OrderedStatistic(items_base=frozenset({702421}), items_add=frozenset({702461}), confidence=0.12809699525566684, lift=12.603136356391584), OrderedStatistic(items_base=frozenset({702461}), items_add=frozenset({702421}), confidence=0.07332528666264333, lift=12.603136356391584)]),\n",
       " RelationRecord(items=frozenset({703316, 702421}), support=0.00018095051156856491, ordered_statistics=[OrderedStatistic(items_base=frozenset(), items_add=frozenset({703316, 702421}), confidence=0.00018095051156856491, lift=1.0), OrderedStatistic(items_base=frozenset({702421}), items_add=frozenset({703316}), confidence=0.03110173958882446, lift=11.696549946221163), OrderedStatistic(items_base=frozenset({703316}), items_add=frozenset({702421}), confidence=0.06805074971164936, lift=11.696549946221161)]),\n",
       " RelationRecord(items=frozenset({703317, 702421}), support=0.0006164585224623991, ordered_statistics=[OrderedStatistic(items_base=frozenset(), items_add=frozenset({702421, 703317}), confidence=0.0006164585224623991, lift=1.0), OrderedStatistic(items_base=frozenset({702421}), items_add=frozenset({703317}), confidence=0.10595677385345283, lift=10.539305020000432), OrderedStatistic(items_base=frozenset({703317}), items_add=frozenset({702421}), confidence=0.06131787675411837, lift=10.539305020000432)]),\n",
       " RelationRecord(items=frozenset({702421, 703318}), support=0.00025149054150207326, ordered_statistics=[OrderedStatistic(items_base=frozenset(), items_add=frozenset({702421, 703318}), confidence=0.00025149054150207326, lift=1.0), OrderedStatistic(items_base=frozenset({702421}), items_add=frozenset({703318}), confidence=0.04322614654717975, lift=16.465122007695374), OrderedStatistic(items_base=frozenset({703318}), items_add=frozenset({702421}), confidence=0.09579439252336448, lift=16.465122007695378)]),\n",
       " RelationRecord(items=frozenset({702421, 703319}), support=0.0004140393061314621, ordered_statistics=[OrderedStatistic(items_base=frozenset(), items_add=frozenset({702421, 703319}), confidence=0.0004140393061314621, lift=1.0), OrderedStatistic(items_base=frozenset({702421}), items_add=frozenset({703319}), confidence=0.07116499736425935, lift=12.016454883791273), OrderedStatistic(items_base=frozenset({703319}), items_add=frozenset({702421}), confidence=0.0699119627136199, lift=12.016454883791274)]),\n",
       " RelationRecord(items=frozenset({703320, 702421}), support=0.0004968471673577545, ordered_statistics=[OrderedStatistic(items_base=frozenset(), items_add=frozenset({703320, 702421}), confidence=0.0004968471673577545, lift=1.0), OrderedStatistic(items_base=frozenset({702421}), items_add=frozenset({703320}), confidence=0.08539799683711123, lift=10.779918411429012), OrderedStatistic(items_base=frozenset({703320}), items_add=frozenset({702421}), confidence=0.0627177700348432, lift=10.779918411429012)]),\n",
       " RelationRecord(items=frozenset({703323, 702421}), support=0.00046311063130259833, ordered_statistics=[OrderedStatistic(items_base=frozenset(), items_add=frozenset({703323, 702421}), confidence=0.00046311063130259833, lift=1.0), OrderedStatistic(items_base=frozenset({702421}), items_add=frozenset({703323}), confidence=0.07959936742224565, lift=6.333297058132681), OrderedStatistic(items_base=frozenset({703323}), items_add=frozenset({702421}), confidence=0.03684724255734505, lift=6.333297058132682)]),\n",
       " RelationRecord(items=frozenset({715852, 702421}), support=0.0001196113551046446, ordered_statistics=[OrderedStatistic(items_base=frozenset(), items_add=frozenset({715852, 702421}), confidence=0.0001196113551046446, lift=1.0), OrderedStatistic(items_base=frozenset({702421}), items_add=frozenset({715852}), confidence=0.02055877701634159, lift=7.448125109822527), OrderedStatistic(items_base=frozenset({715852}), items_add=frozenset({702421}), confidence=0.043333333333333335, lift=7.448125109822527)]),\n",
       " RelationRecord(items=frozenset({715921, 702421}), support=0.0001196113551046446, ordered_statistics=[OrderedStatistic(items_base=frozenset(), items_add=frozenset({715921, 702421}), confidence=0.0001196113551046446, lift=1.0), OrderedStatistic(items_base=frozenset({702421}), items_add=frozenset({715921}), confidence=0.02055877701634159, lift=5.89561354339514), OrderedStatistic(items_base=frozenset({715921}), items_add=frozenset({702421}), confidence=0.03430079155672824, lift=5.89561354339514)]),\n",
       " RelationRecord(items=frozenset({716035, 702421}), support=0.0002729592462644454, ordered_statistics=[OrderedStatistic(items_base=frozenset(), items_add=frozenset({716035, 702421}), confidence=0.0002729592462644454, lift=1.0), OrderedStatistic(items_base=frozenset({702421}), items_add=frozenset({716035}), confidence=0.04691618344754876, lift=7.088648336503225), OrderedStatistic(items_base=frozenset({716035}), items_add=frozenset({702421}), confidence=0.041241890639481006, lift=7.088648336503225)]),\n",
       " RelationRecord(items=frozenset({731389, 702421}), support=0.00018708442721495695, ordered_statistics=[OrderedStatistic(items_base=frozenset(), items_add=frozenset({702421, 731389}), confidence=0.00018708442721495695, lift=1.0), OrderedStatistic(items_base=frozenset({702421}), items_add=frozenset({731389}), confidence=0.032156035846072746, lift=10.569222201438604), OrderedStatistic(items_base=frozenset({731389}), items_add=frozenset({702421}), confidence=0.06149193548387097, lift=10.569222201438604)]),\n",
       " RelationRecord(items=frozenset({731392, 702421}), support=0.00021468704762372107, ordered_statistics=[OrderedStatistic(items_base=frozenset(), items_add=frozenset({731392, 702421}), confidence=0.00021468704762372107, lift=1.0), OrderedStatistic(items_base=frozenset({702421}), items_add=frozenset({731392}), confidence=0.03690036900369004, lift=13.533843324934937), OrderedStatistic(items_base=frozenset({731392}), items_add=frozenset({702421}), confidence=0.07874015748031496, lift=13.533843324934937)]),\n",
       " RelationRecord(items=frozenset({751581, 702421}), support=0.00010427656598866452, ordered_statistics=[OrderedStatistic(items_base=frozenset(), items_add=frozenset({702421, 751581}), confidence=0.00010427656598866452, lift=1.0), OrderedStatistic(items_base=frozenset({702421}), items_add=frozenset({751581}), confidence=0.017923036373220874, lift=1.0677715234253435), OrderedStatistic(items_base=frozenset({751581}), items_add=frozenset({702421}), confidence=0.006212315000913576, lift=1.0677715234253435)]),\n",
       " RelationRecord(items=frozenset({751754, 702421}), support=0.00014414701769021273, ordered_statistics=[OrderedStatistic(items_base=frozenset(), items_add=frozenset({751754, 702421}), confidence=0.00014414701769021273, lift=1.0), OrderedStatistic(items_base=frozenset({702421}), items_add=frozenset({751754}), confidence=0.024775962045334738, lift=2.297597008149506), OrderedStatistic(items_base=frozenset({751754}), items_add=frozenset({702421}), confidence=0.013367463026166098, lift=2.297597008149506)]),\n",
       " RelationRecord(items=frozenset({702421, 751839}), support=0.00010427656598866452, ordered_statistics=[OrderedStatistic(items_base=frozenset(), items_add=frozenset({702421, 751839}), confidence=0.00010427656598866452, lift=1.0), OrderedStatistic(items_base=frozenset({702421}), items_add=frozenset({751839}), confidence=0.017923036373220874, lift=2.8149872580476423), OrderedStatistic(items_base=frozenset({751839}), items_add=frozenset({702421}), confidence=0.016377649325626204, lift=2.8149872580476423)]),\n",
       " RelationRecord(items=frozenset({751873, 702421}), support=0.0001196113551046446, ordered_statistics=[OrderedStatistic(items_base=frozenset(), items_add=frozenset({751873, 702421}), confidence=0.0001196113551046446, lift=1.0), OrderedStatistic(items_base=frozenset({702421}), items_add=frozenset({751873}), confidence=0.02055877701634159, lift=2.7304735636823927), OrderedStatistic(items_base=frozenset({751873}), items_add=frozenset({702421}), confidence=0.015885947046843176, lift=2.7304735636823922)]),\n",
       " RelationRecord(items=frozenset({751969, 702421}), support=0.0001012096081654685, ordered_statistics=[OrderedStatistic(items_base=frozenset(), items_add=frozenset({751969, 702421}), confidence=0.0001012096081654685, lift=1.0), OrderedStatistic(items_base=frozenset({702421}), items_add=frozenset({751969}), confidence=0.01739588824459673, lift=3.0977792121683403), OrderedStatistic(items_base=frozenset({751969}), items_add=frozenset({702421}), confidence=0.018022938285090113, lift=3.0977792121683403)]),\n",
       " RelationRecord(items=frozenset({753600, 702421}), support=0.00010427656598866452, ordered_statistics=[OrderedStatistic(items_base=frozenset(), items_add=frozenset({753600, 702421}), confidence=0.00010427656598866452, lift=1.0), OrderedStatistic(items_base=frozenset({702421}), items_add=frozenset({753600}), confidence=0.017923036373220874, lift=0.6062150983098449), OrderedStatistic(items_base=frozenset({753600}), items_add=frozenset({702421}), confidence=0.003526970954356846, lift=0.6062150983098449)]),\n",
       " RelationRecord(items=frozenset({702422, 702423}), support=0.00033123144490516964, ordered_statistics=[OrderedStatistic(items_base=frozenset(), items_add=frozenset({702422, 702423}), confidence=0.00033123144490516964, lift=1.0), OrderedStatistic(items_base=frozenset({702422}), items_add=frozenset({702423}), confidence=0.10227272727272727, lift=7.805860572012256), OrderedStatistic(items_base=frozenset({702423}), items_add=frozenset({702422}), confidence=0.02528089887640449, lift=7.805860572012256)]),\n",
       " RelationRecord(items=frozenset({702428, 702422}), support=0.0003066957823196015, ordered_statistics=[OrderedStatistic(items_base=frozenset(), items_add=frozenset({702428, 702422}), confidence=0.0003066957823196015, lift=1.0), OrderedStatistic(items_base=frozenset({702422}), items_add=frozenset({702428}), confidence=0.0946969696969697, lift=11.89388102908904), OrderedStatistic(items_base=frozenset({702428}), items_add=frozenset({702422}), confidence=0.03852080123266563, lift=11.893881029089039)]),\n",
       " RelationRecord(items=frozenset({702434, 702422}), support=0.00014414701769021273, ordered_statistics=[OrderedStatistic(items_base=frozenset(), items_add=frozenset({702434, 702422}), confidence=0.00014414701769021273, lift=1.0), OrderedStatistic(items_base=frozenset({702422}), items_add=frozenset({702434}), confidence=0.04450757575757576, lift=15.243657690348867), OrderedStatistic(items_base=frozenset({702434}), items_add=frozenset({702422}), confidence=0.04936974789915966, lift=15.243657690348867)]),\n",
       " RelationRecord(items=frozenset({702461, 702422}), support=0.00021468704762372107, ordered_statistics=[OrderedStatistic(items_base=frozenset(), items_add=frozenset({702461, 702422}), confidence=0.00021468704762372107, lift=1.0), OrderedStatistic(items_base=frozenset({702422}), items_add=frozenset({702461}), confidence=0.06628787878787878, lift=6.521895173826374), OrderedStatistic(items_base=frozenset({702461}), items_add=frozenset({702422}), confidence=0.021122510561255282, lift=6.521895173826375)]),\n",
       " RelationRecord(items=frozenset({703316, 702422}), support=0.00015028093333660476, ordered_statistics=[OrderedStatistic(items_base=frozenset(), items_add=frozenset({703316, 702422}), confidence=0.00015028093333660476, lift=1.0), OrderedStatistic(items_base=frozenset({702422}), items_add=frozenset({703316}), confidence=0.04640151515151515, lift=17.45039495299011), OrderedStatistic(items_base=frozenset({703316}), items_add=frozenset({702422}), confidence=0.05651672433679354, lift=17.45039495299011)]),\n",
       " RelationRecord(items=frozenset({703317, 702422}), support=0.0003373653605515617, ordered_statistics=[OrderedStatistic(items_base=frozenset(), items_add=frozenset({703317, 702422}), confidence=0.0003373653605515617, lift=1.0), OrderedStatistic(items_base=frozenset({702422}), items_add=frozenset({703317}), confidence=0.10416666666666667, lift=10.361246695139313), OrderedStatistic(items_base=frozenset({703317}), items_add=frozenset({702422}), confidence=0.03355704697986577, lift=10.361246695139313)]),\n",
       " RelationRecord(items=frozenset({702422, 703319}), support=0.00019015138503815295, ordered_statistics=[OrderedStatistic(items_base=frozenset(), items_add=frozenset({702422, 703319}), confidence=0.00019015138503815295, lift=1.0), OrderedStatistic(items_base=frozenset({702422}), items_add=frozenset({703319}), confidence=0.05871212121212121, lift=9.913743860144688), OrderedStatistic(items_base=frozenset({703319}), items_add=frozenset({702422}), confidence=0.03210771620921802, lift=9.913743860144688)]),\n",
       " RelationRecord(items=frozenset({703320, 702422}), support=0.00025762445714846527, ordered_statistics=[OrderedStatistic(items_base=frozenset(), items_add=frozenset({703320, 702422}), confidence=0.00025762445714846527, lift=1.0), OrderedStatistic(items_base=frozenset({702422}), items_add=frozenset({703320}), confidence=0.07954545454545454, lift=10.041143138704113), OrderedStatistic(items_base=frozenset({703320}), items_add=frozenset({702422}), confidence=0.03252032520325203, lift=10.041143138704113)]),\n",
       " RelationRecord(items=frozenset({703323, 702422}), support=0.0003189636136123856, ordered_statistics=[OrderedStatistic(items_base=frozenset(), items_add=frozenset({703323, 702422}), confidence=0.0003189636136123856, lift=1.0), OrderedStatistic(items_base=frozenset({702422}), items_add=frozenset({703323}), confidence=0.09848484848484848, lift=7.835914045284469), OrderedStatistic(items_base=frozenset({703323}), items_add=frozenset({702422}), confidence=0.025378233284529036, lift=7.835914045284469)]),\n",
       " RelationRecord(items=frozenset({715852, 702422}), support=0.00015028093333660476, ordered_statistics=[OrderedStatistic(items_base=frozenset(), items_add=frozenset({715852, 702422}), confidence=0.00015028093333660476, lift=1.0), OrderedStatistic(items_base=frozenset({702422}), items_add=frozenset({715852}), confidence=0.04640151515151515, lift=16.810547138047138), OrderedStatistic(items_base=frozenset({715852}), items_add=frozenset({702422}), confidence=0.05444444444444445, lift=16.81054713804714)]),\n",
       " RelationRecord(items=frozenset({715921, 702422}), support=0.00018401746939176092, ordered_statistics=[OrderedStatistic(items_base=frozenset(), items_add=frozenset({715921, 702422}), confidence=0.00018401746939176092, lift=1.0), OrderedStatistic(items_base=frozenset({702422}), items_add=frozenset({715921}), confidence=0.056818181818181816, lift=16.29367554169665), OrderedStatistic(items_base=frozenset({715921}), items_add=frozenset({702422}), confidence=0.052770448548812667, lift=16.29367554169665)]),\n",
       " RelationRecord(items=frozenset({716035, 702422}), support=0.00020855313197732904, ordered_statistics=[OrderedStatistic(items_base=frozenset(), items_add=frozenset({716035, 702422}), confidence=0.00020855313197732904, lift=1.0), OrderedStatistic(items_base=frozenset({702422}), items_add=frozenset({716035}), confidence=0.06439393939393939, lift=9.729393096862976), OrderedStatistic(items_base=frozenset({716035}), items_add=frozenset({702422}), confidence=0.03151065801668211, lift=9.729393096862976)]),\n",
       " RelationRecord(items=frozenset({731389, 702422}), support=0.00017174963809897685, ordered_statistics=[OrderedStatistic(items_base=frozenset(), items_add=frozenset({731389, 702422}), confidence=0.00017174963809897685, lift=1.0), OrderedStatistic(items_base=frozenset({702422}), items_add=frozenset({731389}), confidence=0.05303030303030303, lift=17.430290811339198), OrderedStatistic(items_base=frozenset({731389}), items_add=frozenset({702422}), confidence=0.056451612903225805, lift=17.430290811339198)]),\n",
       " RelationRecord(items=frozenset({731392, 702422}), support=0.00014414701769021273, ordered_statistics=[OrderedStatistic(items_base=frozenset(), items_add=frozenset({731392, 702422}), confidence=0.00014414701769021273, lift=1.0), OrderedStatistic(items_base=frozenset({702422}), items_add=frozenset({731392}), confidence=0.04450757575757576, lift=16.32391689675154), OrderedStatistic(items_base=frozenset({731392}), items_add=frozenset({702422}), confidence=0.052868391451068614, lift=16.32391689675154)]),\n",
       " RelationRecord(items=frozenset({702428, 702423}), support=0.0010396987020634492, ordered_statistics=[OrderedStatistic(items_base=frozenset(), items_add=frozenset({702428, 702423}), confidence=0.0010396987020634492, lift=1.0), OrderedStatistic(items_base=frozenset({702423}), items_add=frozenset({702428}), confidence=0.07935393258426965, lift=9.966805024151242), OrderedStatistic(items_base=frozenset({702428}), items_add=frozenset({702423}), confidence=0.1305855161787365, lift=9.966805024151244)]),\n",
       " RelationRecord(items=frozenset({702434, 702423}), support=0.00026989228844124933, ordered_statistics=[OrderedStatistic(items_base=frozenset(), items_add=frozenset({702434, 702423}), confidence=0.00026989228844124933, lift=1.0), OrderedStatistic(items_base=frozenset({702423}), items_add=frozenset({702434}), confidence=0.020599250936329586, lift=7.055156894218361), OrderedStatistic(items_base=frozenset({702434}), items_add=frozenset({702423}), confidence=0.09243697478991596, lift=7.05515689421836)]),\n",
       " RelationRecord(items=frozenset({702455, 702423}), support=0.00026682533061805333, ordered_statistics=[OrderedStatistic(items_base=frozenset(), items_add=frozenset({702423, 702455}), confidence=0.00026682533061805333, lift=1.0), OrderedStatistic(items_base=frozenset({702423}), items_add=frozenset({702455}), confidence=0.02036516853932584, lift=6.60714964503326), OrderedStatistic(items_base=frozenset({702455}), items_add=frozenset({702423}), confidence=0.08656716417910448, lift=6.60714964503326)]),\n",
       " RelationRecord(items=frozenset({702461, 702423}), support=0.0015242780381284197, ordered_statistics=[OrderedStatistic(items_base=frozenset(), items_add=frozenset({702461, 702423}), confidence=0.0015242780381284197, lift=1.0), OrderedStatistic(items_base=frozenset({702423}), items_add=frozenset({702461}), confidence=0.11633895131086142, lift=11.446292428670558), OrderedStatistic(items_base=frozenset({702461}), items_add=frozenset({702423}), confidence=0.1499698249849125, lift=11.446292428670558)]),\n",
       " RelationRecord(items=frozenset({703316, 702423}), support=0.0003036288244964055, ordered_statistics=[OrderedStatistic(items_base=frozenset(), items_add=frozenset({703316, 702423}), confidence=0.0003036288244964055, lift=1.0), OrderedStatistic(items_base=frozenset({702423}), items_add=frozenset({703316}), confidence=0.023174157303370784, lift=8.715193810505033), OrderedStatistic(items_base=frozenset({703316}), items_add=frozenset({702423}), confidence=0.11418685121107265, lift=8.715193810505033)]),\n",
       " RelationRecord(items=frozenset({703317, 702423}), support=0.0014138675564933632, ordered_statistics=[OrderedStatistic(items_base=frozenset(), items_add=frozenset({703317, 702423}), confidence=0.0014138675564933632, lift=1.0), OrderedStatistic(items_base=frozenset({702423}), items_add=frozenset({703317}), confidence=0.10791198501872659, lift=10.733785902155558), OrderedStatistic(items_base=frozenset({703317}), items_add=frozenset({702423}), confidence=0.14063453325198294, lift=10.733785902155558)]),\n",
       " RelationRecord(items=frozenset({703318, 702423}), support=0.00034656623402114976, ordered_statistics=[OrderedStatistic(items_base=frozenset(), items_add=frozenset({703318, 702423}), confidence=0.00034656623402114976, lift=1.0), OrderedStatistic(items_base=frozenset({702423}), items_add=frozenset({703318}), confidence=0.02645131086142322, lift=10.07547735307501), OrderedStatistic(items_base=frozenset({703318}), items_add=frozenset({702423}), confidence=0.13200934579439252, lift=10.07547735307501)]),\n",
       " RelationRecord(items=frozenset({703319, 702423}), support=0.000797409034030964, ordered_statistics=[OrderedStatistic(items_base=frozenset(), items_add=frozenset({702423, 703319}), confidence=0.000797409034030964, lift=1.0), OrderedStatistic(items_base=frozenset({702423}), items_add=frozenset({703319}), confidence=0.06086142322097378, lift=10.276660906130413), OrderedStatistic(items_base=frozenset({703319}), items_add=frozenset({702423}), confidence=0.1346452615225272, lift=10.276660906130413)]),\n",
       " RelationRecord(items=frozenset({703320, 702423}), support=0.0011010378585273694, ordered_statistics=[OrderedStatistic(items_base=frozenset(), items_add=frozenset({703320, 702423}), confidence=0.0011010378585273694, lift=1.0), OrderedStatistic(items_base=frozenset({702423}), items_add=frozenset({703320}), confidence=0.08403558052434455, lift=10.607938537919352), OrderedStatistic(items_base=frozenset({703320}), items_add=frozenset({702423}), confidence=0.1389856755710414, lift=10.607938537919352)]),\n",
       " RelationRecord(items=frozenset({703323, 702423}), support=0.0015058762911892435, ordered_statistics=[OrderedStatistic(items_base=frozenset(), items_add=frozenset({703323, 702423}), confidence=0.0015058762911892435, lift=1.0), OrderedStatistic(items_base=frozenset({702423}), items_add=frozenset({703323}), confidence=0.11493445692883894, lift=9.144721641871525), OrderedStatistic(items_base=frozenset({703323}), items_add=frozenset({702423}), confidence=0.11981454367984382, lift=9.144721641871525)]),\n",
       " RelationRecord(items=frozenset({715852, 702423}), support=0.0002974949088500135, ordered_statistics=[OrderedStatistic(items_base=frozenset(), items_add=frozenset({715852, 702423}), confidence=0.0002974949088500135, lift=1.0), OrderedStatistic(items_base=frozenset({702423}), items_add=frozenset({715852}), confidence=0.022705992509363296, lift=8.2260278818144), OrderedStatistic(items_base=frozenset({715852}), items_add=frozenset({702423}), confidence=0.10777777777777779, lift=8.2260278818144)]),\n",
       " RelationRecord(items=frozenset({715921, 702423}), support=0.0003036288244964055, ordered_statistics=[OrderedStatistic(items_base=frozenset(), items_add=frozenset({715921, 702423}), confidence=0.0003036288244964055, lift=1.0), OrderedStatistic(items_base=frozenset({702423}), items_add=frozenset({715921}), confidence=0.023174157303370784, lift=6.645622720939195), OrderedStatistic(items_base=frozenset({715921}), items_add=frozenset({702423}), confidence=0.0870712401055409, lift=6.645622720939196)]),\n",
       " RelationRecord(items=frozenset({716035, 702423}), support=0.0006624628898103393, ordered_statistics=[OrderedStatistic(items_base=frozenset(), items_add=frozenset({716035, 702423}), confidence=0.0006624628898103393, lift=1.0), OrderedStatistic(items_base=frozenset({702423}), items_add=frozenset({716035}), confidence=0.05056179775280898, lift=7.639470587622745), OrderedStatistic(items_base=frozenset({716035}), items_add=frozenset({702423}), confidence=0.10009267840593142, lift=7.639470587622746)]),\n",
       " RelationRecord(items=frozenset({731389, 702423}), support=0.00028522707755722945, ordered_statistics=[OrderedStatistic(items_base=frozenset(), items_add=frozenset({731389, 702423}), confidence=0.00028522707755722945, lift=1.0), OrderedStatistic(items_base=frozenset({702423}), items_add=frozenset({731389}), confidence=0.021769662921348316, lift=7.155372191011237), OrderedStatistic(items_base=frozenset({731389}), items_add=frozenset({702423}), confidence=0.09375000000000001, lift=7.155372191011237)]),\n",
       " RelationRecord(items=frozenset({731392, 702423}), support=0.00038643668572269796, ordered_statistics=[OrderedStatistic(items_base=frozenset(), items_add=frozenset({731392, 702423}), confidence=0.00038643668572269796, lift=1.0), OrderedStatistic(items_base=frozenset({702423}), items_add=frozenset({731392}), confidence=0.02949438202247191, lift=10.817570556489427), OrderedStatistic(items_base=frozenset({731392}), items_add=frozenset({702423}), confidence=0.14173228346456693, lift=10.817570556489427)]),\n",
       " RelationRecord(items=frozenset({751581, 702423}), support=0.00025455749932526927, ordered_statistics=[OrderedStatistic(items_base=frozenset(), items_add=frozenset({751581, 702423}), confidence=0.00025455749932526927, lift=1.0), OrderedStatistic(items_base=frozenset({702423}), items_add=frozenset({751581}), confidence=0.01942883895131086, lift=1.1574802691592572), OrderedStatistic(items_base=frozenset({751581}), items_add=frozenset({702423}), confidence=0.015165357208112552, lift=1.157480269159257)]),\n",
       " RelationRecord(items=frozenset({751600, 702423}), support=0.00021162008980052507, ordered_statistics=[OrderedStatistic(items_base=frozenset(), items_add=frozenset({751600, 702423}), confidence=0.00021162008980052507, lift=1.0), OrderedStatistic(items_base=frozenset({702423}), items_add=frozenset({751600}), confidence=0.016151685393258428, lift=1.1446107221439406), OrderedStatistic(items_base=frozenset({751600}), items_add=frozenset({702423}), confidence=0.014996739839165399, lift=1.1446107221439403)]),\n",
       " RelationRecord(items=frozenset({751754, 702423}), support=0.0003158966557891896, ordered_statistics=[OrderedStatistic(items_base=frozenset(), items_add=frozenset({751754, 702423}), confidence=0.0003158966557891896, lift=1.0), OrderedStatistic(items_base=frozenset({702423}), items_add=frozenset({751754}), confidence=0.024110486891385764, lift=2.2358842189583834), OrderedStatistic(items_base=frozenset({751754}), items_add=frozenset({702423}), confidence=0.029294653014789535, lift=2.235884218958384)]),\n",
       " RelationRecord(items=frozenset({751839, 702423}), support=0.0002177540054469171, ordered_statistics=[OrderedStatistic(items_base=frozenset(), items_add=frozenset({702423, 751839}), confidence=0.0002177540054469171, lift=1.0), OrderedStatistic(items_base=frozenset({702423}), items_add=frozenset({751839}), confidence=0.016619850187265917, lift=2.6103091872154027), OrderedStatistic(items_base=frozenset({751839}), items_add=frozenset({702423}), confidence=0.03420038535645472, lift=2.6103091872154023)]),\n",
       " RelationRecord(items=frozenset({751848, 702423}), support=0.0001564148489829968, ordered_statistics=[OrderedStatistic(items_base=frozenset(), items_add=frozenset({751848, 702423}), confidence=0.0001564148489829968, lift=1.0), OrderedStatistic(items_base=frozenset({702423}), items_add=frozenset({751848}), confidence=0.011938202247191011, lift=2.206645392239293), OrderedStatistic(items_base=frozenset({751848}), items_add=frozenset({702423}), confidence=0.02891156462585034, lift=2.2066453922392926)]),\n",
       " RelationRecord(items=frozenset({751873, 702423}), support=0.00025762445714846527, ordered_statistics=[OrderedStatistic(items_base=frozenset(), items_add=frozenset({751873, 702423}), confidence=0.00025762445714846527, lift=1.0), OrderedStatistic(items_base=frozenset({702423}), items_add=frozenset({751873}), confidence=0.019662921348314603, lift=2.611492253827318), OrderedStatistic(items_base=frozenset({751873}), items_add=frozenset({702423}), confidence=0.03421588594704684, lift=2.611492253827318)]),\n",
       " RelationRecord(items=frozenset({751969, 702423}), support=0.00014414701769021273, ordered_statistics=[OrderedStatistic(items_base=frozenset(), items_add=frozenset({751969, 702423}), confidence=0.00014414701769021273, lift=1.0), OrderedStatistic(items_base=frozenset({702423}), items_add=frozenset({751969}), confidence=0.011001872659176029, lift=1.9591625296342432), OrderedStatistic(items_base=frozenset({751969}), items_add=frozenset({702423}), confidence=0.025669033315128344, lift=1.9591625296342432)]),\n",
       " RelationRecord(items=frozenset({753357, 702423}), support=0.00011654439728144858, ordered_statistics=[OrderedStatistic(items_base=frozenset(), items_add=frozenset({753357, 702423}), confidence=0.00011654439728144858, lift=1.0), OrderedStatistic(items_base=frozenset({702423}), items_add=frozenset({753357}), confidence=0.008895131086142321, lift=0.7662644283813), OrderedStatistic(items_base=frozenset({753357}), items_add=frozenset({702423}), confidence=0.010039630118890357, lift=0.7662644283813)]),\n",
       " RelationRecord(items=frozenset({753376, 702423}), support=0.00017788355374536889, ordered_statistics=[OrderedStatistic(items_base=frozenset(), items_add=frozenset({753376, 702423}), confidence=0.00017788355374536889, lift=1.0), OrderedStatistic(items_base=frozenset({702423}), items_add=frozenset({753376}), confidence=0.013576779026217227, lift=1.003352280637417), OrderedStatistic(items_base=frozenset({753376}), items_add=frozenset({702423}), confidence=0.01314596554850408, lift=1.003352280637417)]),\n",
       " RelationRecord(items=frozenset({753431, 702423}), support=0.0001012096081654685, ordered_statistics=[OrderedStatistic(items_base=frozenset(), items_add=frozenset({702423, 753431}), confidence=0.0001012096081654685, lift=1.0), OrderedStatistic(items_base=frozenset({702423}), items_add=frozenset({753431}), confidence=0.007724719101123594, lift=0.9192302960715163), OrderedStatistic(items_base=frozenset({753431}), items_add=frozenset({702423}), confidence=0.012043795620437956, lift=0.9192302960715164)]),\n",
       " RelationRecord(items=frozenset({753433, 702423}), support=0.0001196113551046446, ordered_statistics=[OrderedStatistic(items_base=frozenset(), items_add=frozenset({753433, 702423}), confidence=0.0001196113551046446, lift=1.0), OrderedStatistic(items_base=frozenset({702423}), items_add=frozenset({753433}), confidence=0.009129213483146067, lift=0.7233620489576364), OrderedStatistic(items_base=frozenset({753433}), items_add=frozenset({702423}), confidence=0.009477521263669502, lift=0.7233620489576364)]),\n",
       " RelationRecord(items=frozenset({753600, 702423}), support=0.00019321834286134898, ordered_statistics=[OrderedStatistic(items_base=frozenset(), items_add=frozenset({753600, 702423}), confidence=0.00019321834286134898, lift=1.0), OrderedStatistic(items_base=frozenset({702423}), items_add=frozenset({753600}), confidence=0.014747191011235955, lift=0.49879772949787865), OrderedStatistic(items_base=frozenset({753600}), items_add=frozenset({702423}), confidence=0.006535269709543569, lift=0.49879772949787865)]),\n",
       " RelationRecord(items=frozenset({753609, 702423}), support=0.00013187918639742866, ordered_statistics=[OrderedStatistic(items_base=frozenset(), items_add=frozenset({753609, 702423}), confidence=0.00013187918639742866, lift=1.0), OrderedStatistic(items_base=frozenset({702423}), items_add=frozenset({753609}), confidence=0.010065543071161049, lift=0.5082748507992082), OrderedStatistic(items_base=frozenset({753609}), items_add=frozenset({702423}), confidence=0.006659439368127614, lift=0.5082748507992081)]),\n",
       " RelationRecord(items=frozenset({759397, 702423}), support=0.00013494614422062467, ordered_statistics=[OrderedStatistic(items_base=frozenset(), items_add=frozenset({759397, 702423}), confidence=0.00013494614422062467, lift=1.0), OrderedStatistic(items_base=frozenset({702423}), items_add=frozenset({759397}), confidence=0.010299625468164793, lift=0.9054339934343326), OrderedStatistic(items_base=frozenset({759397}), items_add=frozenset({702423}), confidence=0.011863035858722027, lift=0.9054339934343326)]),\n",
       " RelationRecord(items=frozenset({760125, 702423}), support=0.00015028093333660476, ordered_statistics=[OrderedStatistic(items_base=frozenset(), items_add=frozenset({760125, 702423}), confidence=0.00015028093333660476, lift=1.0), OrderedStatistic(items_base=frozenset({702423}), items_add=frozenset({760125}), confidence=0.01147003745318352, lift=3.090805398210914), OrderedStatistic(items_base=frozenset({760125}), items_add=frozenset({702423}), confidence=0.04049586776859505, lift=3.0908053982109145)]),\n",
       " RelationRecord(items=frozenset({760148, 702423}), support=0.00010427656598866452, ordered_statistics=[OrderedStatistic(items_base=frozenset(), items_add=frozenset({760148, 702423}), confidence=0.00010427656598866452, lift=1.0), OrderedStatistic(items_base=frozenset({702423}), items_add=frozenset({760148}), confidence=0.00795880149812734, lift=2.495206712762892), OrderedStatistic(items_base=frozenset({760148}), items_add=frozenset({702423}), confidence=0.03269230769230769, lift=2.495206712762892)]),\n",
       " RelationRecord(items=frozenset({760176, 702423}), support=0.00010734352381186054, ordered_statistics=[OrderedStatistic(items_base=frozenset(), items_add=frozenset({760176, 702423}), confidence=0.00010734352381186054, lift=1.0), OrderedStatistic(items_base=frozenset({702423}), items_add=frozenset({760176}), confidence=0.008192883895131085, lift=2.4022832295960983), OrderedStatistic(items_base=frozenset({760176}), items_add=frozenset({702423}), confidence=0.03147482014388489, lift=2.4022832295960983)]),\n",
       " RelationRecord(items=frozenset({778460, 702423}), support=0.00011041048163505655, ordered_statistics=[OrderedStatistic(items_base=frozenset(), items_add=frozenset({778460, 702423}), confidence=0.00011041048163505655, lift=1.0), OrderedStatistic(items_base=frozenset({702423}), items_add=frozenset({778460}), confidence=0.008426966292134831, lift=2.372765907900099), OrderedStatistic(items_base=frozenset({778460}), items_add=frozenset({702423}), confidence=0.031088082901554404, lift=2.372765907900099)]),\n",
       " RelationRecord(items=frozenset({778581, 702423}), support=0.00012881222857423263, ordered_statistics=[OrderedStatistic(items_base=frozenset(), items_add=frozenset({778581, 702423}), confidence=0.00012881222857423263, lift=1.0), OrderedStatistic(items_base=frozenset({702423}), items_add=frozenset({778581}), confidence=0.009831460674157301, lift=1.325726526705142), OrderedStatistic(items_base=frozenset({778581}), items_add=frozenset({702423}), confidence=0.0173697270471464, lift=1.325726526705142)]),\n",
       " RelationRecord(items=frozenset({778616, 702423}), support=0.00013187918639742866, ordered_statistics=[OrderedStatistic(items_base=frozenset(), items_add=frozenset({778616, 702423}), confidence=0.00013187918639742866, lift=1.0), OrderedStatistic(items_base=frozenset({702423}), items_add=frozenset({778616}), confidence=0.010065543071161049, lift=1.8615602448159312), OrderedStatistic(items_base=frozenset({778616}), items_add=frozenset({702423}), confidence=0.024390243902439022, lift=1.861560244815931)]),\n",
       " RelationRecord(items=frozenset({778629, 702423}), support=0.00020548617415413304, ordered_statistics=[OrderedStatistic(items_base=frozenset(), items_add=frozenset({778629, 702423}), confidence=0.00020548617415413304, lift=1.0), OrderedStatistic(items_base=frozenset({702423}), items_add=frozenset({778629}), confidence=0.015683520599250936, lift=1.3220542896870122), OrderedStatistic(items_base=frozenset({778629}), items_add=frozenset({702423}), confidence=0.01732161323681489, lift=1.322054289687012)]),\n",
       " RelationRecord(items=frozenset({778636, 702423}), support=0.00013494614422062467, ordered_statistics=[OrderedStatistic(items_base=frozenset(), items_add=frozenset({778636, 702423}), confidence=0.00013494614422062467, lift=1.0), OrderedStatistic(items_base=frozenset({702423}), items_add=frozenset({778636}), confidence=0.010299625468164793, lift=1.7090354613984426), OrderedStatistic(items_base=frozenset({778636}), items_add=frozenset({702423}), confidence=0.022391857506361322, lift=1.7090354613984426)]),\n",
       " RelationRecord(items=frozenset({823737, 702423}), support=0.00011041048163505655, ordered_statistics=[OrderedStatistic(items_base=frozenset(), items_add=frozenset({823737, 702423}), confidence=0.00011041048163505655, lift=1.0), OrderedStatistic(items_base=frozenset({702423}), items_add=frozenset({823737}), confidence=0.008426966292134831, lift=3.6441152803028047), OrderedStatistic(items_base=frozenset({823737}), items_add=frozenset({702423}), confidence=0.04774535809018568, lift=3.6441152803028047)]),\n",
       " RelationRecord(items=frozenset({702434, 702428}), support=0.0002821601197340334, ordered_statistics=[OrderedStatistic(items_base=frozenset(), items_add=frozenset({702434, 702428}), confidence=0.0002821601197340334, lift=1.0), OrderedStatistic(items_base=frozenset({702428}), items_add=frozenset({702434}), confidence=0.03543913713405238, lift=12.137755564475404), OrderedStatistic(items_base=frozenset({702434}), items_add=frozenset({702428}), confidence=0.09663865546218486, lift=12.137755564475402)]),\n",
       " RelationRecord(items=frozenset({702428, 702455}), support=0.00019321834286134898, ordered_statistics=[OrderedStatistic(items_base=frozenset(), items_add=frozenset({702428, 702455}), confidence=0.00019321834286134898, lift=1.0), OrderedStatistic(items_base=frozenset({702428}), items_add=frozenset({702455}), confidence=0.02426810477657935, lift=7.873394200032196), OrderedStatistic(items_base=frozenset({702455}), items_add=frozenset({702428}), confidence=0.06268656716417911, lift=7.873394200032197)]),\n",
       " RelationRecord(items=frozenset({702428, 702461}), support=0.0007176681306278677, ordered_statistics=[OrderedStatistic(items_base=frozenset(), items_add=frozenset({702428, 702461}), confidence=0.0007176681306278677, lift=1.0), OrderedStatistic(items_base=frozenset({702428}), items_add=frozenset({702461}), confidence=0.0901386748844376, lift=8.868514115304823), OrderedStatistic(items_base=frozenset({702461}), items_add=frozenset({702428}), confidence=0.07060953530476766, lift=8.868514115304823)]),\n",
       " RelationRecord(items=frozenset({702428, 703316}), support=0.00024535662585568126, ordered_statistics=[OrderedStatistic(items_base=frozenset(), items_add=frozenset({702428, 703316}), confidence=0.00024535662585568126, lift=1.0), OrderedStatistic(items_base=frozenset({702428}), items_add=frozenset({703316}), confidence=0.030816640986132512, lift=11.589331826268076), OrderedStatistic(items_base=frozenset({703316}), items_add=frozenset({702428}), confidence=0.0922722029988466, lift=11.589331826268076)]),\n",
       " RelationRecord(items=frozenset({702428, 703317}), support=0.0009568908408371568, ordered_statistics=[OrderedStatistic(items_base=frozenset(), items_add=frozenset({702428, 703317}), confidence=0.0009568908408371568, lift=1.0), OrderedStatistic(items_base=frozenset({702428}), items_add=frozenset({703317}), confidence=0.12018489984591678, lift=11.954547804807884), OrderedStatistic(items_base=frozenset({703317}), items_add=frozenset({702428}), confidence=0.09517998779743746, lift=11.954547804807882)]),\n",
       " RelationRecord(items=frozenset({702428, 703318}), support=0.00017481659592217288, ordered_statistics=[OrderedStatistic(items_base=frozenset(), items_add=frozenset({702428, 703318}), confidence=0.00017481659592217288, lift=1.0), OrderedStatistic(items_base=frozenset({702428}), items_add=frozenset({703318}), confidence=0.021956856702619414, lift=8.363510361015509), OrderedStatistic(items_base=frozenset({703318}), items_add=frozenset({702428}), confidence=0.06658878504672898, lift=8.363510361015509)]),\n",
       " RelationRecord(items=frozenset({702428, 703319}), support=0.000594989817700027, ordered_statistics=[OrderedStatistic(items_base=frozenset(), items_add=frozenset({702428, 703319}), confidence=0.000594989817700027, lift=1.0), OrderedStatistic(items_base=frozenset({702428}), items_add=frozenset({703319}), confidence=0.07473035439137134, lift=12.618477696236651), OrderedStatistic(items_base=frozenset({703319}), items_add=frozenset({702428}), confidence=0.10046607975142414, lift=12.618477696236651)]),\n",
       " RelationRecord(items=frozenset({703320, 702428}), support=0.000594989817700027, ordered_statistics=[OrderedStatistic(items_base=frozenset(), items_add=frozenset({703320, 702428}), confidence=0.000594989817700027, lift=1.0), OrderedStatistic(items_base=frozenset({702428}), items_add=frozenset({703320}), confidence=0.07473035439137134, lift=9.433325757426624), OrderedStatistic(items_base=frozenset({703320}), items_add=frozenset({702428}), confidence=0.07510646535036779, lift=9.433325757426624)]),\n",
       " RelationRecord(items=frozenset({703323, 702428}), support=0.0010151630394778812, ordered_statistics=[OrderedStatistic(items_base=frozenset(), items_add=frozenset({703323, 702428}), confidence=0.0010151630394778812, lift=1.0), OrderedStatistic(items_base=frozenset({702428}), items_add=frozenset({703323}), confidence=0.12750385208012327, lift=10.144801365016269), OrderedStatistic(items_base=frozenset({703323}), items_add=frozenset({702428}), confidence=0.08077110785749146, lift=10.144801365016269)]),\n",
       " RelationRecord(items=frozenset({702428, 715852}), support=0.00018708442721495695, ordered_statistics=[OrderedStatistic(items_base=frozenset(), items_add=frozenset({702428, 715852}), confidence=0.00018708442721495695, lift=1.0), OrderedStatistic(items_base=frozenset({702428}), items_add=frozenset({715852}), confidence=0.023497688751926038, lift=8.512847115219996), OrderedStatistic(items_base=frozenset({715852}), items_add=frozenset({702428}), confidence=0.06777777777777778, lift=8.512847115219996)]),\n",
       " RelationRecord(items=frozenset({715921, 702428}), support=0.0002361557523860932, ordered_statistics=[OrderedStatistic(items_base=frozenset(), items_add=frozenset({715921, 702428}), confidence=0.0002361557523860932, lift=1.0), OrderedStatistic(items_base=frozenset({702428}), items_add=frozenset({715921}), confidence=0.02966101694915254, lift=8.505850960750115), OrderedStatistic(items_base=frozenset({715921}), items_add=frozenset({702428}), confidence=0.06772207563764293, lift=8.505850960750116)]),\n",
       " RelationRecord(items=frozenset({716035, 702428}), support=0.0004539097578330103, ordered_statistics=[OrderedStatistic(items_base=frozenset(), items_add=frozenset({716035, 702428}), confidence=0.0004539097578330103, lift=1.0), OrderedStatistic(items_base=frozenset({702428}), items_add=frozenset({716035}), confidence=0.05701078582434514, lift=8.613859491539703), OrderedStatistic(items_base=frozenset({716035}), items_add=frozenset({702428}), confidence=0.0685820203892493, lift=8.613859491539703)]),\n",
       " RelationRecord(items=frozenset({702428, 731389}), support=0.00028522707755722945, ordered_statistics=[OrderedStatistic(items_base=frozenset(), items_add=frozenset({702428, 731389}), confidence=0.00028522707755722945, lift=1.0), OrderedStatistic(items_base=frozenset({702428}), items_add=frozenset({731389}), confidence=0.03582434514637904, lift=11.77494221879815), OrderedStatistic(items_base=frozenset({731389}), items_add=frozenset({702428}), confidence=0.09375000000000001, lift=11.774942218798152)]),\n",
       " RelationRecord(items=frozenset({731392, 702428}), support=0.00021468704762372107, ordered_statistics=[OrderedStatistic(items_base=frozenset(), items_add=frozenset({731392, 702428}), confidence=0.00021468704762372107, lift=1.0), OrderedStatistic(items_base=frozenset({702428}), items_add=frozenset({731392}), confidence=0.026964560862865944, lift=9.889715249384272), OrderedStatistic(items_base=frozenset({731392}), items_add=frozenset({702428}), confidence=0.07874015748031496, lift=9.889715249384272)]),\n",
       " RelationRecord(items=frozenset({702428, 751581}), support=0.0001410800598670167, ordered_statistics=[OrderedStatistic(items_base=frozenset(), items_add=frozenset({702428, 751581}), confidence=0.0001410800598670167, lift=1.0), OrderedStatistic(items_base=frozenset({702428}), items_add=frozenset({751581}), confidence=0.01771956856702619, lift=1.0556498535885788), OrderedStatistic(items_base=frozenset({751581}), items_add=frozenset({702428}), confidence=0.008404896765941895, lift=1.0556498535885788)]),\n",
       " RelationRecord(items=frozenset({751600, 702428}), support=0.00010427656598866452, ordered_statistics=[OrderedStatistic(items_base=frozenset(), items_add=frozenset({751600, 702428}), confidence=0.00010427656598866452, lift=1.0), OrderedStatistic(items_base=frozenset({702428}), items_add=frozenset({751600}), confidence=0.013097072419106315, lift=0.9281415006920515), OrderedStatistic(items_base=frozenset({751600}), items_add=frozenset({702428}), confidence=0.00738969789176266, lift=0.9281415006920515)]),\n",
       " RelationRecord(items=frozenset({751754, 702428}), support=0.00017481659592217288, ordered_statistics=[OrderedStatistic(items_base=frozenset(), items_add=frozenset({751754, 702428}), confidence=0.00017481659592217288, lift=1.0), OrderedStatistic(items_base=frozenset({702428}), items_add=frozenset({751754}), confidence=0.021956856702619414, lift=2.036167482659066), OrderedStatistic(items_base=frozenset({751754}), items_add=frozenset({702428}), confidence=0.01621160409556314, lift=2.036167482659066)]),\n",
       " RelationRecord(items=frozenset({702428, 751839}), support=0.00012267831292784063, ordered_statistics=[OrderedStatistic(items_base=frozenset(), items_add=frozenset({702428, 751839}), confidence=0.00012267831292784063, lift=1.0), OrderedStatistic(items_base=frozenset({702428}), items_add=frozenset({751839}), confidence=0.015408320493066256, lift=2.4200266602539555), OrderedStatistic(items_base=frozenset({751839}), items_add=frozenset({702428}), confidence=0.01926782273603083, lift=2.420026660253955)]),\n",
       " RelationRecord(items=frozenset({751873, 702428}), support=0.00013494614422062467, ordered_statistics=[OrderedStatistic(items_base=frozenset(), items_add=frozenset({751873, 702428}), confidence=0.00013494614422062467, lift=1.0), OrderedStatistic(items_base=frozenset({702428}), items_add=frozenset({751873}), confidence=0.016949152542372878, lift=2.251068383444371), OrderedStatistic(items_base=frozenset({751873}), items_add=frozenset({702428}), confidence=0.01792260692464358, lift=2.251068383444371)]),\n",
       " RelationRecord(items=frozenset({753376, 702428}), support=0.00016561572245258482, ordered_statistics=[OrderedStatistic(items_base=frozenset(), items_add=frozenset({753376, 702428}), confidence=0.00016561572245258482, lift=1.0), OrderedStatistic(items_base=frozenset({702428}), items_add=frozenset({753376}), confidence=0.020801232665639442, lift=1.5372544691812633), OrderedStatistic(items_base=frozenset({753376}), items_add=frozenset({702428}), confidence=0.012239347234814143, lift=1.5372544691812635)]),\n",
       " RelationRecord(items=frozenset({753433, 702428}), support=0.0001012096081654685, ordered_statistics=[OrderedStatistic(items_base=frozenset(), items_add=frozenset({753433, 702428}), confidence=0.0001012096081654685, lift=1.0), OrderedStatistic(items_base=frozenset({702428}), items_add=frozenset({753433}), confidence=0.01271186440677966, lift=1.0072368556541795), OrderedStatistic(items_base=frozenset({753433}), items_add=frozenset({702428}), confidence=0.00801944106925881, lift=1.0072368556541795)]),\n",
       " RelationRecord(items=frozenset({702428, 778629}), support=0.0001196113551046446, ordered_statistics=[OrderedStatistic(items_base=frozenset(), items_add=frozenset({702428, 778629}), confidence=0.0001196113551046446, lift=1.0), OrderedStatistic(items_base=frozenset({702428}), items_add=frozenset({778629}), confidence=0.015023112480739597, lift=1.266384685372293), OrderedStatistic(items_base=frozenset({778629}), items_add=frozenset({702428}), confidence=0.010082730093071354, lift=1.266384685372293)]),\n",
       " RelationRecord(items=frozenset({778636, 702428}), support=0.0001012096081654685, ordered_statistics=[OrderedStatistic(items_base=frozenset(), items_add=frozenset({702428, 778636}), confidence=0.0001012096081654685, lift=1.0), OrderedStatistic(items_base=frozenset({702428}), items_add=frozenset({778636}), confidence=0.01271186440677966, lift=2.1093026264717296), OrderedStatistic(items_base=frozenset({778636}), items_add=frozenset({702428}), confidence=0.016793893129770993, lift=2.1093026264717296)]),\n",
       " RelationRecord(items=frozenset({702434, 702455}), support=0.00019015138503815295, ordered_statistics=[OrderedStatistic(items_base=frozenset(), items_add=frozenset({702434, 702455}), confidence=0.00019015138503815295, lift=1.0), OrderedStatistic(items_base=frozenset({702434}), items_add=frozenset({702455}), confidence=0.06512605042016807, lift=21.12909402566997), OrderedStatistic(items_base=frozenset({702455}), items_add=frozenset({702434}), confidence=0.061691542288557215, lift=21.12909402566997)]),\n",
       " RelationRecord(items=frozenset({702434, 702461}), support=0.00020548617415413304, ordered_statistics=[OrderedStatistic(items_base=frozenset(), items_add=frozenset({702434, 702461}), confidence=0.00020548617415413304, lift=1.0), OrderedStatistic(items_base=frozenset({702434}), items_add=frozenset({702461}), confidence=0.0703781512605042, lift=6.9243266407347495), OrderedStatistic(items_base=frozenset({702461}), items_add=frozenset({702434}), confidence=0.020217260108630057, lift=6.92432664073475)]),\n",
       " RelationRecord(items=frozenset({702434, 703316}), support=0.00010734352381186054, ordered_statistics=[OrderedStatistic(items_base=frozenset(), items_add=frozenset({702434, 703316}), confidence=0.00010734352381186054, lift=1.0), OrderedStatistic(items_base=frozenset({702434}), items_add=frozenset({703316}), confidence=0.03676470588235294, lift=13.826243300088201), OrderedStatistic(items_base=frozenset({703316}), items_add=frozenset({702434}), confidence=0.040369088811995385, lift=13.826243300088201)]),\n",
       " RelationRecord(items=frozenset({702434, 703317}), support=0.00029442795102681746, ordered_statistics=[OrderedStatistic(items_base=frozenset(), items_add=frozenset({702434, 703317}), confidence=0.00029442795102681746, lift=1.0), OrderedStatistic(items_base=frozenset({702434}), items_add=frozenset({703317}), confidence=0.10084033613445377, lift=10.030383355294527), OrderedStatistic(items_base=frozenset({703317}), items_add=frozenset({702434}), confidence=0.029286150091519216, lift=10.030383355294527)]),\n",
       " RelationRecord(items=frozenset({702434, 703319}), support=0.00014721397551340873, ordered_statistics=[OrderedStatistic(items_base=frozenset(), items_add=frozenset({702434, 703319}), confidence=0.00014721397551340873, lift=1.0), OrderedStatistic(items_base=frozenset({702434}), items_add=frozenset({703319}), confidence=0.050420168067226885, lift=8.513619015705713), OrderedStatistic(items_base=frozenset({703319}), items_add=frozenset({702434}), confidence=0.024857586742620404, lift=8.513619015705713)]),\n",
       " RelationRecord(items=frozenset({703320, 702434}), support=0.00019015138503815295, ordered_statistics=[OrderedStatistic(items_base=frozenset(), items_add=frozenset({703320, 702434}), confidence=0.00019015138503815295, lift=1.0), OrderedStatistic(items_base=frozenset({702434}), items_add=frozenset({703320}), confidence=0.06512605042016807, lift=8.220959928686922), OrderedStatistic(items_base=frozenset({703320}), items_add=frozenset({702434}), confidence=0.02400309717382888, lift=8.220959928686922)]),\n",
       " RelationRecord(items=frozenset({702434, 703323}), support=0.00046311063130259833, ordered_statistics=[OrderedStatistic(items_base=frozenset(), items_add=frozenset({702434, 703323}), confidence=0.00046311063130259833, lift=1.0), OrderedStatistic(items_base=frozenset({702434}), items_add=frozenset({703323}), confidence=0.15861344537815125, lift=12.620025755543798), OrderedStatistic(items_base=frozenset({703323}), items_add=frozenset({702434}), confidence=0.03684724255734505, lift=12.6200257555438)]),\n",
       " RelationRecord(items=frozenset({702434, 715852}), support=0.00011654439728144858, ordered_statistics=[OrderedStatistic(items_base=frozenset(), items_add=frozenset({702434, 715852}), confidence=0.00011654439728144858, lift=1.0), OrderedStatistic(items_base=frozenset({702434}), items_add=frozenset({715852}), confidence=0.03991596638655462, lift=14.460933706816059), OrderedStatistic(items_base=frozenset({715852}), items_add=frozenset({702434}), confidence=0.042222222222222223, lift=14.46093370681606)]),\n",
       " RelationRecord(items=frozenset({715921, 702434}), support=0.00023002183673970117, ordered_statistics=[OrderedStatistic(items_base=frozenset(), items_add=frozenset({715921, 702434}), confidence=0.00023002183673970117, lift=1.0), OrderedStatistic(items_base=frozenset({702434}), items_add=frozenset({715921}), confidence=0.07878151260504201, lift=22.592071129243255), OrderedStatistic(items_base=frozenset({715921}), items_add=frozenset({702434}), confidence=0.06596306068601583, lift=22.592071129243255)]),\n",
       " RelationRecord(items=frozenset({702434, 716035}), support=0.00032203057143558164, ordered_statistics=[OrderedStatistic(items_base=frozenset(), items_add=frozenset({702434, 716035}), confidence=0.00032203057143558164, lift=1.0), OrderedStatistic(items_base=frozenset({702434}), items_add=frozenset({716035}), confidence=0.11029411764705883, lift=16.664531428882956), OrderedStatistic(items_base=frozenset({716035}), items_add=frozenset({702434}), confidence=0.04865616311399444, lift=16.664531428882952)]),\n",
       " RelationRecord(items=frozenset({702434, 731389}), support=0.0001594818068061928, ordered_statistics=[OrderedStatistic(items_base=frozenset(), items_add=frozenset({702434, 731389}), confidence=0.0001594818068061928, lift=1.0), OrderedStatistic(items_base=frozenset({702434}), items_add=frozenset({731389}), confidence=0.0546218487394958, lift=17.953408782867985), OrderedStatistic(items_base=frozenset({731389}), items_add=frozenset({702434}), confidence=0.05241935483870968, lift=17.953408782867985)]),\n",
       " RelationRecord(items=frozenset({702461, 702455}), support=0.00017788355374536889, ordered_statistics=[OrderedStatistic(items_base=frozenset(), items_add=frozenset({702461, 702455}), confidence=0.00017788355374536889, lift=1.0), OrderedStatistic(items_base=frozenset({702455}), items_add=frozenset({702461}), confidence=0.057711442786069655, lift=5.678081529588029), OrderedStatistic(items_base=frozenset({702461}), items_add=frozenset({702455}), confidence=0.017501508750754374, lift=5.678081529588028)]),\n",
       " RelationRecord(items=frozenset({703316, 702455}), support=0.00010734352381186054, ordered_statistics=[OrderedStatistic(items_base=frozenset(), items_add=frozenset({703316, 702455}), confidence=0.00010734352381186054, lift=1.0), OrderedStatistic(items_base=frozenset({702455}), items_add=frozenset({703316}), confidence=0.03482587064676617, lift=13.097098131028824), OrderedStatistic(items_base=frozenset({703316}), items_add=frozenset({702455}), confidence=0.040369088811995385, lift=13.097098131028824)]),\n",
       " RelationRecord(items=frozenset({703317, 702455}), support=0.00024228966803248523, ordered_statistics=[OrderedStatistic(items_base=frozenset(), items_add=frozenset({703317, 702455}), confidence=0.00024228966803248523, lift=1.0), OrderedStatistic(items_base=frozenset({702455}), items_add=frozenset({703317}), confidence=0.07860696517412936, lift=7.818875118003638), OrderedStatistic(items_base=frozenset({703317}), items_add=frozenset({702455}), confidence=0.02410006101281269, lift=7.818875118003637)]),\n",
       " RelationRecord(items=frozenset({703319, 702455}), support=0.00016561572245258482, ordered_statistics=[OrderedStatistic(items_base=frozenset(), items_add=frozenset({702455, 703319}), confidence=0.00016561572245258482, lift=1.0), OrderedStatistic(items_base=frozenset({702455}), items_add=frozenset({703319}), confidence=0.05373134328358209, lift=9.072722354050565), OrderedStatistic(items_base=frozenset({703319}), items_add=frozenset({702455}), confidence=0.027964785085447953, lift=9.072722354050565)]),\n",
       " RelationRecord(items=frozenset({703320, 702455}), support=0.0002208209632701131, ordered_statistics=[OrderedStatistic(items_base=frozenset(), items_add=frozenset({703320, 702455}), confidence=0.0002208209632701131, lift=1.0), OrderedStatistic(items_base=frozenset({702455}), items_add=frozenset({703320}), confidence=0.07164179104477612, lift=9.043451730892576), OrderedStatistic(items_base=frozenset({703320}), items_add=frozenset({702455}), confidence=0.02787456445993031, lift=9.043451730892574)]),\n",
       " RelationRecord(items=frozenset({703323, 702455}), support=0.0004416419265402262, ordered_statistics=[OrderedStatistic(items_base=frozenset(), items_add=frozenset({703323, 702455}), confidence=0.0004416419265402262, lift=1.0), OrderedStatistic(items_base=frozenset({702455}), items_add=frozenset({703323}), confidence=0.14328358208955225, lift=11.400310307904112), OrderedStatistic(items_base=frozenset({703323}), items_add=frozenset({702455}), confidence=0.03513909224011713, lift=11.400310307904112)]),\n",
       " RelationRecord(items=frozenset({715852, 702455}), support=0.0001012096081654685, ordered_statistics=[OrderedStatistic(items_base=frozenset(), items_add=frozenset({715852, 702455}), confidence=0.0001012096081654685, lift=1.0), OrderedStatistic(items_base=frozenset({702455}), items_add=frozenset({715852}), confidence=0.03283582089552239, lift=11.89590713101161), OrderedStatistic(items_base=frozenset({715852}), items_add=frozenset({702455}), confidence=0.03666666666666667, lift=11.89590713101161)]),\n",
       " RelationRecord(items=frozenset({715921, 702455}), support=0.00017174963809897685, ordered_statistics=[OrderedStatistic(items_base=frozenset(), items_add=frozenset({715921, 702455}), confidence=0.00017174963809897685, lift=1.0), OrderedStatistic(items_base=frozenset({702455}), items_add=frozenset({715921}), confidence=0.05572139303482587, lift=15.979150859598228), OrderedStatistic(items_base=frozenset({715921}), items_add=frozenset({702455}), confidence=0.04925241864555849, lift=15.979150859598228)]),\n",
       " RelationRecord(items=frozenset({716035, 702455}), support=0.0003342984027283657, ordered_statistics=[OrderedStatistic(items_base=frozenset(), items_add=frozenset({716035, 702455}), confidence=0.0003342984027283657, lift=1.0), OrderedStatistic(items_base=frozenset({702455}), items_add=frozenset({716035}), confidence=0.10845771144278608, lift=16.387065598790112), OrderedStatistic(items_base=frozenset({716035}), items_add=frozenset({702455}), confidence=0.050509731232622805, lift=16.387065598790112)]),\n",
       " RelationRecord(items=frozenset({703316, 702461}), support=0.0001564148489829968, ordered_statistics=[OrderedStatistic(items_base=frozenset(), items_add=frozenset({703316, 702461}), confidence=0.0001564148489829968, lift=1.0), OrderedStatistic(items_base=frozenset({702461}), items_add=frozenset({703316}), confidence=0.015389257694628847, lift=5.787496893748447), OrderedStatistic(items_base=frozenset({703316}), items_add=frozenset({702461}), confidence=0.058823529411764705, lift=5.787496893748447)]),\n",
       " RelationRecord(items=frozenset({703317, 702461}), support=0.0008434134013789043, ordered_statistics=[OrderedStatistic(items_base=frozenset(), items_add=frozenset({702461, 703317}), confidence=0.0008434134013789043, lift=1.0), OrderedStatistic(items_base=frozenset({702461}), items_add=frozenset({703317}), confidence=0.08298129149064576, lift=8.253980469272115), OrderedStatistic(items_base=frozenset({703317}), items_add=frozenset({702461}), confidence=0.08389261744966443, lift=8.253980469272115)]),\n",
       " RelationRecord(items=frozenset({702461, 703318}), support=0.00035270014966754177, ordered_statistics=[OrderedStatistic(items_base=frozenset(), items_add=frozenset({702461, 703318}), confidence=0.00035270014966754177, lift=1.0), OrderedStatistic(items_base=frozenset({702461}), items_add=frozenset({703318}), confidence=0.034701267350633676, lift=13.21793975149324), OrderedStatistic(items_base=frozenset({703318}), items_add=frozenset({702461}), confidence=0.13434579439252337, lift=13.21793975149324)]),\n",
       " RelationRecord(items=frozenset({702461, 703319}), support=0.0007115342149814755, ordered_statistics=[OrderedStatistic(items_base=frozenset(), items_add=frozenset({702461, 703319}), confidence=0.0007115342149814755, lift=1.0), OrderedStatistic(items_base=frozenset({702461}), items_add=frozenset({703319}), confidence=0.0700060350030175, lift=11.820760097847682), OrderedStatistic(items_base=frozenset({703319}), items_add=frozenset({702461}), confidence=0.12014500258933195, lift=11.820760097847682)]),\n",
       " RelationRecord(items=frozenset({703320, 702461}), support=0.0011163726476433496, ordered_statistics=[OrderedStatistic(items_base=frozenset(), items_add=frozenset({703320, 702461}), confidence=0.0011163726476433496, lift=1.0), OrderedStatistic(items_base=frozenset({702461}), items_add=frozenset({703320}), confidence=0.10983705491852745, lift=13.864897707516603), OrderedStatistic(items_base=frozenset({703320}), items_add=frozenset({702461}), confidence=0.14092140921409213, lift=13.864897707516604)]),\n",
       " RelationRecord(items=frozenset({703323, 702461}), support=0.0010581004490026254, ordered_statistics=[OrderedStatistic(items_base=frozenset(), items_add=frozenset({703323, 702461}), confidence=0.0010581004490026254, lift=1.0), OrderedStatistic(items_base=frozenset({702461}), items_add=frozenset({703323}), confidence=0.10410380205190103, lift=8.282984207377902), OrderedStatistic(items_base=frozenset({703323}), items_add=frozenset({702461}), confidence=0.0841874084919473, lift=8.282984207377902)]),\n",
       " RelationRecord(items=frozenset({715852, 702461}), support=0.00022388792109330913, ordered_statistics=[OrderedStatistic(items_base=frozenset(), items_add=frozenset({715852, 702461}), confidence=0.00022388792109330913, lift=1.0), OrderedStatistic(items_base=frozenset({702461}), items_add=frozenset({715852}), confidence=0.022027761013880508, lift=7.980315161268693), OrderedStatistic(items_base=frozenset({715852}), items_add=frozenset({702461}), confidence=0.08111111111111112, lift=7.980315161268693)]),\n",
       " RelationRecord(items=frozenset({715921, 702461}), support=0.0003036288244964055, ordered_statistics=[OrderedStatistic(items_base=frozenset(), items_add=frozenset({715921, 702461}), confidence=0.0003036288244964055, lift=1.0), OrderedStatistic(items_base=frozenset({702461}), items_add=frozenset({715921}), confidence=0.02987326493663247, lift=8.566717037975934), OrderedStatistic(items_base=frozenset({715921}), items_add=frozenset({702461}), confidence=0.0870712401055409, lift=8.566717037975934)]),\n",
       " RelationRecord(items=frozenset({716035, 702461}), support=0.0006471281006943593, ordered_statistics=[OrderedStatistic(items_base=frozenset(), items_add=frozenset({716035, 702461}), confidence=0.0006471281006943593, lift=1.0), OrderedStatistic(items_base=frozenset({702461}), items_add=frozenset({716035}), confidence=0.06366928183464092, lift=9.619903316902539), OrderedStatistic(items_base=frozenset({716035}), items_add=frozenset({702461}), confidence=0.09777571825764597, lift=9.619903316902539)]),\n",
       " RelationRecord(items=frozenset({731389, 702461}), support=0.00023308879456289717, ordered_statistics=[OrderedStatistic(items_base=frozenset(), items_add=frozenset({702461, 731389}), confidence=0.00023308879456289717, lift=1.0), OrderedStatistic(items_base=frozenset({702461}), items_add=frozenset({731389}), confidence=0.022933011466505733, lift=7.537747970486889), OrderedStatistic(items_base=frozenset({731389}), items_add=frozenset({702461}), confidence=0.07661290322580645, lift=7.537747970486889)]),\n",
       " RelationRecord(items=frozenset({731392, 702461}), support=0.0003036288244964055, ordered_statistics=[OrderedStatistic(items_base=frozenset(), items_add=frozenset({731392, 702461}), confidence=0.0003036288244964055, lift=1.0), OrderedStatistic(items_base=frozenset({702461}), items_add=frozenset({731392}), confidence=0.02987326493663247, lift=10.956532364655384), OrderedStatistic(items_base=frozenset({731392}), items_add=frozenset({702461}), confidence=0.11136107986501687, lift=10.956532364655382)]),\n",
       " RelationRecord(items=frozenset({751581, 702461}), support=0.00017481659592217288, ordered_statistics=[OrderedStatistic(items_base=frozenset(), items_add=frozenset({702461, 751581}), confidence=0.00017481659592217288, lift=1.0), OrderedStatistic(items_base=frozenset({702461}), items_add=frozenset({751581}), confidence=0.0171997585998793, lift=1.0246819824670648), OrderedStatistic(items_base=frozenset({751581}), items_add=frozenset({702461}), confidence=0.010414763383884525, lift=1.0246819824670648)]),\n",
       " RelationRecord(items=frozenset({751600, 702461}), support=0.00013187918639742866, ordered_statistics=[OrderedStatistic(items_base=frozenset(), items_add=frozenset({751600, 702461}), confidence=0.00013187918639742866, lift=1.0), OrderedStatistic(items_base=frozenset({702461}), items_add=frozenset({751600}), confidence=0.012975256487628244, lift=0.9195088522777907), OrderedStatistic(items_base=frozenset({751600}), items_add=frozenset({702461}), confidence=0.009345794392523364, lift=0.9195088522777906)]),\n",
       " RelationRecord(items=frozenset({751754, 702461}), support=0.00024535662585568126, ordered_statistics=[OrderedStatistic(items_base=frozenset(), items_add=frozenset({751754, 702461}), confidence=0.00024535662585568126, lift=1.0), OrderedStatistic(items_base=frozenset({702461}), items_add=frozenset({751754}), confidence=0.024140012070006038, lift=2.2386222342144166), OrderedStatistic(items_base=frozenset({751754}), items_add=frozenset({702461}), confidence=0.02275312855517634, lift=2.2386222342144166)]),\n",
       " RelationRecord(items=frozenset({702461, 751839}), support=0.0001410800598670167, ordered_statistics=[OrderedStatistic(items_base=frozenset(), items_add=frozenset({702461, 751839}), confidence=0.0001410800598670167, lift=1.0), OrderedStatistic(items_base=frozenset({702461}), items_add=frozenset({751839}), confidence=0.01388050694025347, lift=2.180068675776149), OrderedStatistic(items_base=frozenset({751839}), items_add=frozenset({702461}), confidence=0.02215799614643545, lift=2.1800686757761487)]),\n",
       " RelationRecord(items=frozenset({751873, 702461}), support=0.00013494614422062467, ordered_statistics=[OrderedStatistic(items_base=frozenset(), items_add=frozenset({751873, 702461}), confidence=0.00013494614422062467, lift=1.0), OrderedStatistic(items_base=frozenset({702461}), items_add=frozenset({751873}), confidence=0.013277006638503319, lift=1.7633595423722355), OrderedStatistic(items_base=frozenset({751873}), items_add=frozenset({702461}), confidence=0.01792260692464358, lift=1.7633595423722352)]),\n",
       " RelationRecord(items=frozenset({751969, 702461}), support=0.0001410800598670167, ordered_statistics=[OrderedStatistic(items_base=frozenset(), items_add=frozenset({751969, 702461}), confidence=0.0001410800598670167, lift=1.0), OrderedStatistic(items_base=frozenset({702461}), items_add=frozenset({751969}), confidence=0.01388050694025347, lift=2.471776390448545), OrderedStatistic(items_base=frozenset({751969}), items_add=frozenset({702461}), confidence=0.025122883670125613, lift=2.471776390448545)]),\n",
       " RelationRecord(items=frozenset({753433, 702461}), support=0.00010427656598866452, ordered_statistics=[OrderedStatistic(items_base=frozenset(), items_add=frozenset({753433, 702461}), confidence=0.00010427656598866452, lift=1.0), OrderedStatistic(items_base=frozenset({702461}), items_add=frozenset({753433}), confidence=0.010259505129752565, lift=0.8129217994135121), OrderedStatistic(items_base=frozenset({753433}), items_add=frozenset({702461}), confidence=0.008262454434993923, lift=0.8129217994135121)]),\n",
       " RelationRecord(items=frozenset({753517, 702461}), support=0.00010427656598866452, ordered_statistics=[OrderedStatistic(items_base=frozenset(), items_add=frozenset({702461, 753517}), confidence=0.00010427656598866452, lift=1.0), OrderedStatistic(items_base=frozenset({702461}), items_add=frozenset({753517}), confidence=0.010259505129752565, lift=0.5414653940735841), OrderedStatistic(items_base=frozenset({753517}), items_add=frozenset({702461}), confidence=0.005503399158303658, lift=0.5414653940735841)]),\n",
       " RelationRecord(items=frozenset({753600, 702461}), support=0.00020855313197732904, ordered_statistics=[OrderedStatistic(items_base=frozenset(), items_add=frozenset({753600, 702461}), confidence=0.00020855313197732904, lift=1.0), OrderedStatistic(items_base=frozenset({702461}), items_add=frozenset({753600}), confidence=0.02051901025950513, lift=0.6940193370511623), OrderedStatistic(items_base=frozenset({753600}), items_add=frozenset({702461}), confidence=0.007053941908713692, lift=0.6940193370511623)]),\n",
       " RelationRecord(items=frozenset({753609, 702461}), support=0.0001196113551046446, ordered_statistics=[OrderedStatistic(items_base=frozenset(), items_add=frozenset({753609, 702461}), confidence=0.0001196113551046446, lift=1.0), OrderedStatistic(items_base=frozenset({702461}), items_add=frozenset({753609}), confidence=0.011768255884127943, lift=0.5942559145973704), OrderedStatistic(items_base=frozenset({753609}), items_add=frozenset({702461}), confidence=0.006039956636208765, lift=0.5942559145973704)]),\n",
       " RelationRecord(items=frozenset({702461, 759397}), support=0.0001380131020438207, ordered_statistics=[OrderedStatistic(items_base=frozenset(), items_add=frozenset({702461, 759397}), confidence=0.0001380131020438207, lift=1.0), OrderedStatistic(items_base=frozenset({702461}), items_add=frozenset({759397}), confidence=0.013578756789378395, lift=1.1937004917006098), OrderedStatistic(items_base=frozenset({759397}), items_add=frozenset({702461}), confidence=0.01213265031005662, lift=1.19370049170061)]),\n",
       " RelationRecord(items=frozenset({760125, 702461}), support=0.0001196113551046446, ordered_statistics=[OrderedStatistic(items_base=frozenset(), items_add=frozenset({702461, 760125}), confidence=0.0001196113551046446, lift=1.0), OrderedStatistic(items_base=frozenset({702461}), items_add=frozenset({760125}), confidence=0.011768255884127943, lift=3.171165653351422), OrderedStatistic(items_base=frozenset({760125}), items_add=frozenset({702461}), confidence=0.032231404958677684, lift=3.1711656533514216)]),\n",
       " RelationRecord(items=frozenset({778581, 702461}), support=0.0001012096081654685, ordered_statistics=[OrderedStatistic(items_base=frozenset(), items_add=frozenset({702461, 778581}), confidence=0.0001012096081654685, lift=1.0), OrderedStatistic(items_base=frozenset({702461}), items_add=frozenset({778581}), confidence=0.009957754978877489, lift=1.3427567234875428), OrderedStatistic(items_base=frozenset({778581}), items_add=frozenset({702461}), confidence=0.013647642679900743, lift=1.3427567234875428)]),\n",
       " RelationRecord(items=frozenset({778616, 702461}), support=0.0001012096081654685, ordered_statistics=[OrderedStatistic(items_base=frozenset(), items_add=frozenset({778616, 702461}), confidence=0.0001012096081654685, lift=1.0), OrderedStatistic(items_base=frozenset({702461}), items_add=frozenset({778616}), confidence=0.009957754978877489, lift=1.841625500506454), OrderedStatistic(items_base=frozenset({778616}), items_add=frozenset({702461}), confidence=0.01871809415768576, lift=1.8416255005064541)]),\n",
       " RelationRecord(items=frozenset({702461, 778629}), support=0.00016254876462938882, ordered_statistics=[OrderedStatistic(items_base=frozenset(), items_add=frozenset({702461, 778629}), confidence=0.00016254876462938882, lift=1.0), OrderedStatistic(items_base=frozenset({702461}), items_add=frozenset({778629}), confidence=0.015992757996379, lift=1.3481216911239273), OrderedStatistic(items_base=frozenset({778629}), items_add=frozenset({702461}), confidence=0.013702171664943122, lift=1.348121691123927)]),\n",
       " RelationRecord(items=frozenset({823737, 702461}), support=0.00010427656598866452, ordered_statistics=[OrderedStatistic(items_base=frozenset(), items_add=frozenset({823737, 702461}), confidence=0.00010427656598866452, lift=1.0), OrderedStatistic(items_base=frozenset({702461}), items_add=frozenset({823737}), confidence=0.010259505129752565, lift=4.436569236852258), OrderedStatistic(items_base=frozenset({823737}), items_add=frozenset({702461}), confidence=0.045092838196286476, lift=4.436569236852258)]),\n",
       " RelationRecord(items=frozenset({703316, 703317}), support=0.0003588340653139338, ordered_statistics=[OrderedStatistic(items_base=frozenset(), items_add=frozenset({703316, 703317}), confidence=0.0003588340653139338, lift=1.0), OrderedStatistic(items_base=frozenset({703316}), items_add=frozenset({703317}), confidence=0.13494809688581316, lift=13.423013019585326), OrderedStatistic(items_base=frozenset({703317}), items_add=frozenset({703316}), confidence=0.03569249542403905, lift=13.423013019585325)]),\n",
       " RelationRecord(items=frozenset({703316, 703319}), support=0.00017174963809897685, ordered_statistics=[OrderedStatistic(items_base=frozenset(), items_add=frozenset({703316, 703319}), confidence=0.00017174963809897685, lift=1.0), OrderedStatistic(items_base=frozenset({703316}), items_add=frozenset({703319}), confidence=0.06459054209919261, lift=10.906335471100128), OrderedStatistic(items_base=frozenset({703319}), items_add=frozenset({703316}), confidence=0.02900051786639047, lift=10.906335471100128)]),\n",
       " RelationRecord(items=frozenset({703320, 703316}), support=0.00018401746939176092, ordered_statistics=[OrderedStatistic(items_base=frozenset(), items_add=frozenset({703320, 703316}), confidence=0.00018401746939176092, lift=1.0), OrderedStatistic(items_base=frozenset({703316}), items_add=frozenset({703320}), confidence=0.06920415224913494, lift=8.735744895758398), OrderedStatistic(items_base=frozenset({703320}), items_add=frozenset({703316}), confidence=0.02322880371660859, lift=8.735744895758398)]),\n",
       " RelationRecord(items=frozenset({703323, 703316}), support=0.0003005618666732095, ordered_statistics=[OrderedStatistic(items_base=frozenset(), items_add=frozenset({703323, 703316}), confidence=0.0003005618666732095, lift=1.0), OrderedStatistic(items_base=frozenset({703316}), items_add=frozenset({703323}), confidence=0.11303344867358708, lift=8.993468555567377), OrderedStatistic(items_base=frozenset({703323}), items_add=frozenset({703316}), confidence=0.023914104441190825, lift=8.993468555567377)]),\n",
       " RelationRecord(items=frozenset({703316, 715852}), support=0.00010734352381186054, ordered_statistics=[OrderedStatistic(items_base=frozenset(), items_add=frozenset({703316, 715852}), confidence=0.00010734352381186054, lift=1.0), OrderedStatistic(items_base=frozenset({703316}), items_add=frozenset({715852}), confidence=0.040369088811995385, lift=14.625092912982186), OrderedStatistic(items_base=frozenset({715852}), items_add=frozenset({703316}), confidence=0.03888888888888889, lift=14.625092912982186)]),\n",
       " RelationRecord(items=frozenset({715921, 703316}), support=0.00012267831292784063, ordered_statistics=[OrderedStatistic(items_base=frozenset(), items_add=frozenset({715921, 703316}), confidence=0.00012267831292784063, lift=1.0), OrderedStatistic(items_base=frozenset({703316}), items_add=frozenset({715921}), confidence=0.0461361014994233, lift=13.230389367190822), OrderedStatistic(items_base=frozenset({715921}), items_add=frozenset({703316}), confidence=0.03518029903254178, lift=13.23038936719082)]),\n",
       " RelationRecord(items=frozenset({716035, 703316}), support=0.00011347743945825257, ordered_statistics=[OrderedStatistic(items_base=frozenset(), items_add=frozenset({716035, 703316}), confidence=0.00011347743945825257, lift=1.0), OrderedStatistic(items_base=frozenset({703316}), items_add=frozenset({716035}), confidence=0.04267589388696655, lift=6.44797555941092), OrderedStatistic(items_base=frozenset({716035}), items_add=frozenset({703316}), confidence=0.017145505097312327, lift=6.44797555941092)]),\n",
       " RelationRecord(items=frozenset({703316, 731389}), support=0.00015334789115980076, ordered_statistics=[OrderedStatistic(items_base=frozenset(), items_add=frozenset({703316, 731389}), confidence=0.00015334789115980076, lift=1.0), OrderedStatistic(items_base=frozenset({703316}), items_add=frozenset({731389}), confidence=0.057670126874279116, lift=18.955333556572533), OrderedStatistic(items_base=frozenset({731389}), items_add=frozenset({703316}), confidence=0.05040322580645161, lift=18.955333556572533)]),\n",
       " RelationRecord(items=frozenset({703317, 703318}), support=0.00020855313197732904, ordered_statistics=[OrderedStatistic(items_base=frozenset(), items_add=frozenset({703317, 703318}), confidence=0.00020855313197732904, lift=1.0), OrderedStatistic(items_base=frozenset({703317}), items_add=frozenset({703318}), confidence=0.020744356314826115, lift=7.901661031059514), OrderedStatistic(items_base=frozenset({703318}), items_add=frozenset({703317}), confidence=0.0794392523364486, lift=7.901661031059513)]),\n",
       " RelationRecord(items=frozenset({703317, 703319}), support=0.00046004367347940233, ordered_statistics=[OrderedStatistic(items_base=frozenset(), items_add=frozenset({703317, 703319}), confidence=0.00046004367347940233, lift=1.0), OrderedStatistic(items_base=frozenset({703317}), items_add=frozenset({703319}), confidence=0.04575960951799878, lift=7.726667654583434), OrderedStatistic(items_base=frozenset({703319}), items_add=frozenset({703317}), confidence=0.07767995857068877, lift=7.7266676545834345)]),\n",
       " RelationRecord(items=frozenset({703320, 703317}), support=0.0007514046666830238, ordered_statistics=[OrderedStatistic(items_base=frozenset(), items_add=frozenset({703320, 703317}), confidence=0.0007514046666830238, lift=1.0), OrderedStatistic(items_base=frozenset({703317}), items_add=frozenset({703320}), confidence=0.07474069554606468, lift=9.434631137037423), OrderedStatistic(items_base=frozenset({703320}), items_add=frozenset({703317}), confidence=0.0948509485094851, lift=9.434631137037423)]),\n",
       " RelationRecord(items=frozenset({703323, 703317}), support=0.0015396128272443998, ordered_statistics=[OrderedStatistic(items_base=frozenset(), items_add=frozenset({703323, 703317}), confidence=0.0015396128272443998, lift=1.0), OrderedStatistic(items_base=frozenset({703317}), items_add=frozenset({703323}), confidence=0.15314215985356927, lift=12.18470475188272), OrderedStatistic(items_base=frozenset({703323}), items_add=frozenset({703317}), confidence=0.12249877989263055, lift=12.184704751882718)]),\n",
       " RelationRecord(items=frozenset({715852, 703317}), support=0.0002729592462644454, ordered_statistics=[OrderedStatistic(items_base=frozenset(), items_add=frozenset({715852, 703317}), confidence=0.0002729592462644454, lift=1.0), OrderedStatistic(items_base=frozenset({703317}), items_add=frozenset({715852}), confidence=0.027150701647345944, lift=9.836276862585589), OrderedStatistic(items_base=frozenset({715852}), items_add=frozenset({703317}), confidence=0.0988888888888889, lift=9.836276862585589)]),\n",
       " RelationRecord(items=frozenset({715921, 703317}), support=0.0003803027700763059, ordered_statistics=[OrderedStatistic(items_base=frozenset(), items_add=frozenset({715921, 703317}), confidence=0.0003803027700763059, lift=1.0), OrderedStatistic(items_base=frozenset({703317}), items_add=frozenset({715921}), confidence=0.037827943868212324, lift=10.847869890847702), OrderedStatistic(items_base=frozenset({715921}), items_add=frozenset({703317}), confidence=0.1090589270008795, lift=10.847869890847702)]),\n",
       " RelationRecord(items=frozenset({716035, 703317}), support=0.0006655298476335353, ordered_statistics=[OrderedStatistic(items_base=frozenset(), items_add=frozenset({716035, 703317}), confidence=0.0006655298476335353, lift=1.0), OrderedStatistic(items_base=frozenset({703317}), items_add=frozenset({716035}), confidence=0.06619890176937157, lift=10.0021080237786), OrderedStatistic(items_base=frozenset({716035}), items_add=frozenset({703317}), confidence=0.10055607043558851, lift=10.002108023778598)]),\n",
       " RelationRecord(items=frozenset({731389, 703317}), support=0.0003404323183747577, ordered_statistics=[OrderedStatistic(items_base=frozenset(), items_add=frozenset({703317, 731389}), confidence=0.0003404323183747577, lift=1.0), OrderedStatistic(items_base=frozenset({703317}), items_add=frozenset({731389}), confidence=0.0338621110433191, lift=11.129984353165778), OrderedStatistic(items_base=frozenset({731389}), items_add=frozenset({703317}), confidence=0.11189516129032258, lift=11.129984353165778)]),\n",
       " RelationRecord(items=frozenset({731392, 703317}), support=0.00021162008980052507, ordered_statistics=[OrderedStatistic(items_base=frozenset(), items_add=frozenset({731392, 703317}), confidence=0.00021162008980052507, lift=1.0), OrderedStatistic(items_base=frozenset({703317}), items_add=frozenset({731392}), confidence=0.02104942037827944, lift=7.720236007716852), OrderedStatistic(items_base=frozenset({731392}), items_add=frozenset({703317}), confidence=0.07761529808773904, lift=7.720236007716852)]),\n",
       " RelationRecord(items=frozenset({751581, 703317}), support=0.00017174963809897685, ordered_statistics=[OrderedStatistic(items_base=frozenset(), items_add=frozenset({703317, 751581}), confidence=0.00017174963809897685, lift=1.0), OrderedStatistic(items_base=frozenset({703317}), items_add=frozenset({751581}), confidence=0.01708358755338621, lift=1.0177610493891638), OrderedStatistic(items_base=frozenset({751581}), items_add=frozenset({703317}), confidence=0.010232048236798831, lift=1.017761049389164)]),\n",
       " RelationRecord(items=frozenset({751600, 703317}), support=0.0001380131020438207, ordered_statistics=[OrderedStatistic(items_base=frozenset(), items_add=frozenset({751600, 703317}), confidence=0.0001380131020438207, lift=1.0), OrderedStatistic(items_base=frozenset({703317}), items_add=frozenset({751600}), confidence=0.013727882855399635, lift=0.9728447233862603), OrderedStatistic(items_base=frozenset({751600}), items_add=frozenset({703317}), confidence=0.009780482503803522, lift=0.9728447233862603)]),\n",
       " RelationRecord(items=frozenset({751754, 703317}), support=0.00025762445714846527, ordered_statistics=[OrderedStatistic(items_base=frozenset(), items_add=frozenset({751754, 703317}), confidence=0.00025762445714846527, lift=1.0), OrderedStatistic(items_base=frozenset({703317}), items_add=frozenset({751754}), confidence=0.025625381330079314, lift=2.3763678427077193), OrderedStatistic(items_base=frozenset({751754}), items_add=frozenset({703317}), confidence=0.02389078498293515, lift=2.3763678427077193)]),\n",
       " RelationRecord(items=frozenset({703317, 751839}), support=0.00015028093333660476, ordered_statistics=[OrderedStatistic(items_base=frozenset(), items_add=frozenset({703317, 751839}), confidence=0.00015028093333660476, lift=1.0), OrderedStatistic(items_base=frozenset({703317}), items_add=frozenset({751839}), confidence=0.014948139109212935, lift=2.3477506962396593), OrderedStatistic(items_base=frozenset({751839}), items_add=frozenset({703317}), confidence=0.023603082851637765, lift=2.3477506962396593)]),\n",
       " RelationRecord(items=frozenset({751848, 703317}), support=0.00016868268027578085, ordered_statistics=[OrderedStatistic(items_base=frozenset(), items_add=frozenset({751848, 703317}), confidence=0.00016868268027578085, lift=1.0), OrderedStatistic(items_base=frozenset({703317}), items_add=frozenset({751848}), confidence=0.016778523489932886, lift=3.1013255414022436), OrderedStatistic(items_base=frozenset({751848}), items_add=frozenset({703317}), confidence=0.031179138321995467, lift=3.1013255414022436)]),\n",
       " RelationRecord(items=frozenset({751873, 703317}), support=0.00022388792109330913, ordered_statistics=[OrderedStatistic(items_base=frozenset(), items_add=frozenset({751873, 703317}), confidence=0.00022388792109330913, lift=1.0), OrderedStatistic(items_base=frozenset({703317}), items_add=frozenset({751873}), confidence=0.02226967663209274, lift=2.957703333586), OrderedStatistic(items_base=frozenset({751873}), items_add=frozenset({703317}), confidence=0.029735234215885947, lift=2.957703333586)]),\n",
       " RelationRecord(items=frozenset({751969, 703317}), support=0.0001196113551046446, ordered_statistics=[OrderedStatistic(items_base=frozenset(), items_add=frozenset({751969, 703317}), confidence=0.0001196113551046446, lift=1.0), OrderedStatistic(items_base=frozenset({703317}), items_add=frozenset({751969}), confidence=0.011897498474679682, lift=2.1186514269034182), OrderedStatistic(items_base=frozenset({751969}), items_add=frozenset({703317}), confidence=0.0212998361551065, lift=2.1186514269034182)]),\n",
       " RelationRecord(items=frozenset({753357, 703317}), support=0.00011347743945825257, ordered_statistics=[OrderedStatistic(items_base=frozenset(), items_add=frozenset({703317, 753357}), confidence=0.00011347743945825257, lift=1.0), OrderedStatistic(items_base=frozenset({703317}), items_add=frozenset({753357}), confidence=0.011287370347773032, lift=0.9723420940854647), OrderedStatistic(items_base=frozenset({753357}), items_add=frozenset({703317}), confidence=0.009775429326287978, lift=0.9723420940854646)]),\n",
       " RelationRecord(items=frozenset({753376, 703317}), support=0.00011654439728144858, ordered_statistics=[OrderedStatistic(items_base=frozenset(), items_add=frozenset({753376, 703317}), confidence=0.00011654439728144858, lift=1.0), OrderedStatistic(items_base=frozenset({703317}), items_add=frozenset({753376}), confidence=0.011592434411226357, lift=0.856705075790304), OrderedStatistic(items_base=frozenset({753376}), items_add=frozenset({703317}), confidence=0.008612873980054397, lift=0.856705075790304)]),\n",
       " RelationRecord(items=frozenset({753600, 703317}), support=0.00012267831292784063, ordered_statistics=[OrderedStatistic(items_base=frozenset(), items_add=frozenset({753600, 703317}), confidence=0.00012267831292784063, lift=1.0), OrderedStatistic(items_base=frozenset({703317}), items_add=frozenset({753600}), confidence=0.012202562538133009, lift=0.41273015881052866), OrderedStatistic(items_base=frozenset({753600}), items_add=frozenset({703317}), confidence=0.004149377593360996, lift=0.41273015881052866)]),\n",
       " RelationRecord(items=frozenset({760176, 703317}), support=0.00011041048163505655, ordered_statistics=[OrderedStatistic(items_base=frozenset(), items_add=frozenset({760176, 703317}), confidence=0.00011041048163505655, lift=1.0), OrderedStatistic(items_base=frozenset({703317}), items_add=frozenset({760176}), confidence=0.010982306284319707, lift=3.2201860232375417), OrderedStatistic(items_base=frozenset({760176}), items_add=frozenset({703317}), confidence=0.03237410071942446, lift=3.2201860232375417)]),\n",
       " RelationRecord(items=frozenset({703317, 778629}), support=0.0001012096081654685, ordered_statistics=[OrderedStatistic(items_base=frozenset(), items_add=frozenset({703317, 778629}), confidence=0.0001012096081654685, lift=1.0), OrderedStatistic(items_base=frozenset({703317}), items_add=frozenset({778629}), confidence=0.010067114093959731, lift=0.8486150343899002), OrderedStatistic(items_base=frozenset({778629}), items_add=frozenset({703317}), confidence=0.008531540847983453, lift=0.8486150343899002)]),\n",
       " RelationRecord(items=frozenset({778636, 703317}), support=0.00012267831292784063, ordered_statistics=[OrderedStatistic(items_base=frozenset(), items_add=frozenset({778636, 703317}), confidence=0.00012267831292784063, lift=1.0), OrderedStatistic(items_base=frozenset({703317}), items_add=frozenset({778636}), confidence=0.012202562538133009, lift=2.0247932472944004), OrderedStatistic(items_base=frozenset({778636}), items_add=frozenset({703317}), confidence=0.020356234096692113, lift=2.0247932472944004)]),\n",
       " RelationRecord(items=frozenset({823712, 703317}), support=0.0001196113551046446, ordered_statistics=[OrderedStatistic(items_base=frozenset(), items_add=frozenset({823712, 703317}), confidence=0.0001196113551046446, lift=1.0), OrderedStatistic(items_base=frozenset({703317}), items_add=frozenset({823712}), confidence=0.011897498474679682, lift=4.967030425941304), OrderedStatistic(items_base=frozenset({823712}), items_add=frozenset({703317}), confidence=0.0499359795134443, lift=4.967030425941304)]),\n",
       " RelationRecord(items=frozenset({703318, 703319}), support=0.00018708442721495695, ordered_statistics=[OrderedStatistic(items_base=frozenset(), items_add=frozenset({703318, 703319}), confidence=0.00018708442721495695, lift=1.0), OrderedStatistic(items_base=frozenset({703318}), items_add=frozenset({703319}), confidence=0.07126168224299066, lift=12.032780458529551), OrderedStatistic(items_base=frozenset({703319}), items_add=frozenset({703318}), confidence=0.03158984981874677, lift=12.032780458529551)]),\n",
       " RelationRecord(items=frozenset({703320, 703318}), support=0.00025455749932526927, ordered_statistics=[OrderedStatistic(items_base=frozenset(), items_add=frozenset({703320, 703318}), confidence=0.00025455749932526927, lift=1.0), OrderedStatistic(items_base=frozenset({703318}), items_add=frozenset({703320}), confidence=0.0969626168224299, lift=12.239737898046537), OrderedStatistic(items_base=frozenset({703320}), items_add=frozenset({703318}), confidence=0.03213317847464189, lift=12.239737898046537)]),\n",
       " RelationRecord(items=frozenset({703323, 703318}), support=0.00025455749932526927, ordered_statistics=[OrderedStatistic(items_base=frozenset(), items_add=frozenset({703323, 703318}), confidence=0.00025455749932526927, lift=1.0), OrderedStatistic(items_base=frozenset({703318}), items_add=frozenset({703323}), confidence=0.0969626168224299, lift=7.714798191960519), OrderedStatistic(items_base=frozenset({703323}), items_add=frozenset({703318}), confidence=0.02025378233284529, lift=7.714798191960519)]),\n",
       " RelationRecord(items=frozenset({716035, 703318}), support=0.00014721397551340873, ordered_statistics=[OrderedStatistic(items_base=frozenset(), items_add=frozenset({716035, 703318}), confidence=0.00014721397551340873, lift=1.0), OrderedStatistic(items_base=frozenset({703318}), items_add=frozenset({716035}), confidence=0.056074766355140186, lift=8.472434670385352), OrderedStatistic(items_base=frozenset({716035}), items_add=frozenset({703318}), confidence=0.022242817423540315, lift=8.472434670385352)]),\n",
       " RelationRecord(items=frozenset({703320, 703319}), support=0.0004937802095345585, ordered_statistics=[OrderedStatistic(items_base=frozenset(), items_add=frozenset({703320, 703319}), confidence=0.0004937802095345585, lift=1.0), OrderedStatistic(items_base=frozenset({703319}), items_add=frozenset({703320}), confidence=0.08337648886587261, lift=10.524740400174586), OrderedStatistic(items_base=frozenset({703320}), items_add=frozenset({703319}), confidence=0.06233062330623306, lift=10.524740400174586)]),\n",
       " RelationRecord(items=frozenset({703323, 703319}), support=0.0006287263537551832, ordered_statistics=[OrderedStatistic(items_base=frozenset(), items_add=frozenset({703323, 703319}), confidence=0.0006287263537551832, lift=1.0), OrderedStatistic(items_base=frozenset({703319}), items_add=frozenset({703323}), confidence=0.10616261004660797, lift=8.446792577197854), OrderedStatistic(items_base=frozenset({703323}), items_add=frozenset({703319}), confidence=0.05002440214738897, lift=8.446792577197856)]),\n",
       " RelationRecord(items=frozenset({715852, 703319}), support=0.00012574527075103663, ordered_statistics=[OrderedStatistic(items_base=frozenset(), items_add=frozenset({715852, 703319}), confidence=0.00012574527075103663, lift=1.0), OrderedStatistic(items_base=frozenset({703319}), items_add=frozenset({715852}), confidence=0.021232522009321596, lift=7.692212440301514), OrderedStatistic(items_base=frozenset({715852}), items_add=frozenset({703319}), confidence=0.04555555555555556, lift=7.692212440301514)]),\n",
       " RelationRecord(items=frozenset({715921, 703319}), support=0.0001564148489829968, ordered_statistics=[OrderedStatistic(items_base=frozenset(), items_add=frozenset({715921, 703319}), confidence=0.0001564148489829968, lift=1.0), OrderedStatistic(items_base=frozenset({703319}), items_add=frozenset({715921}), confidence=0.02641118591403418, lift=7.573901173602752), OrderedStatistic(items_base=frozenset({715921}), items_add=frozenset({703319}), confidence=0.044854881266490766, lift=7.573901173602752)]),\n",
       " RelationRecord(items=frozenset({716035, 703319}), support=0.00024228966803248523, ordered_statistics=[OrderedStatistic(items_base=frozenset(), items_add=frozenset({716035, 703319}), confidence=0.00024228966803248523, lift=1.0), OrderedStatistic(items_base=frozenset({703319}), items_add=frozenset({716035}), confidence=0.04091144484722942, lift=6.181381863349507), OrderedStatistic(items_base=frozenset({716035}), items_add=frozenset({703319}), confidence=0.03660797034291011, lift=6.181381863349507)]),\n",
       " RelationRecord(items=frozenset({731389, 703319}), support=0.00016868268027578085, ordered_statistics=[OrderedStatistic(items_base=frozenset(), items_add=frozenset({731389, 703319}), confidence=0.00016868268027578085, lift=1.0), OrderedStatistic(items_base=frozenset({703319}), items_add=frozenset({731389}), confidence=0.028482651475919215, lift=9.361834082290642), OrderedStatistic(items_base=frozenset({731389}), items_add=frozenset({703319}), confidence=0.05544354838709678, lift=9.361834082290642)]),\n",
       " RelationRecord(items=frozenset({731392, 703319}), support=0.000199352258507741, ordered_statistics=[OrderedStatistic(items_base=frozenset(), items_add=frozenset({731392, 703319}), confidence=0.000199352258507741, lift=1.0), OrderedStatistic(items_base=frozenset({703319}), items_add=frozenset({731392}), confidence=0.0336613153806318, lift=12.345864845609992), OrderedStatistic(items_base=frozenset({731392}), items_add=frozenset({703319}), confidence=0.07311586051743532, lift=12.34586484560999)]),\n",
       " RelationRecord(items=frozenset({751581, 703319}), support=0.00011654439728144858, ordered_statistics=[OrderedStatistic(items_base=frozenset(), items_add=frozenset({751581, 703319}), confidence=0.00011654439728144858, lift=1.0), OrderedStatistic(items_base=frozenset({703319}), items_add=frozenset({751581}), confidence=0.01967892283790782, lift=1.172379109233852), OrderedStatistic(items_base=frozenset({751581}), items_add=frozenset({703319}), confidence=0.00694317558925635, lift=1.172379109233852)]),\n",
       " RelationRecord(items=frozenset({751754, 703319}), support=0.00011654439728144858, ordered_statistics=[OrderedStatistic(items_base=frozenset(), items_add=frozenset({751754, 703319}), confidence=0.00011654439728144858, lift=1.0), OrderedStatistic(items_base=frozenset({703319}), items_add=frozenset({751754}), confidence=0.01967892283790782, lift=1.8249234541629331), OrderedStatistic(items_base=frozenset({751754}), items_add=frozenset({703319}), confidence=0.01080773606370876, lift=1.8249234541629331)]),\n",
       " RelationRecord(items=frozenset({751873, 703319}), support=0.00011041048163505655, ordered_statistics=[OrderedStatistic(items_base=frozenset(), items_add=frozenset({751873, 703319}), confidence=0.00011041048163505655, lift=1.0), OrderedStatistic(items_base=frozenset({703319}), items_add=frozenset({751873}), confidence=0.018643190056965304, lift=2.476058646522965), OrderedStatistic(items_base=frozenset({751873}), items_add=frozenset({703319}), confidence=0.014663951120162931, lift=2.4760586465229646)]),\n",
       " RelationRecord(items=frozenset({753600, 703319}), support=0.0001012096081654685, ordered_statistics=[OrderedStatistic(items_base=frozenset(), items_add=frozenset({753600, 703319}), confidence=0.0001012096081654685, lift=1.0), OrderedStatistic(items_base=frozenset({703319}), items_add=frozenset({753600}), confidence=0.017089590885551526, lift=0.5780252744584428), OrderedStatistic(items_base=frozenset({753600}), items_add=frozenset({703319}), confidence=0.003423236514522821, lift=0.5780252744584428)]),\n",
       " RelationRecord(items=frozenset({703320, 703323}), support=0.001018229997301077, ordered_statistics=[OrderedStatistic(items_base=frozenset(), items_add=frozenset({703320, 703323}), confidence=0.001018229997301077, lift=1.0), OrderedStatistic(items_base=frozenset({703320}), items_add=frozenset({703323}), confidence=0.12853271389856755, lift=10.226662411642591), OrderedStatistic(items_base=frozenset({703323}), items_add=frozenset({703320}), confidence=0.08101512933138116, lift=10.226662411642591)]),\n",
       " RelationRecord(items=frozenset({703320, 715852}), support=0.00019628530068454498, ordered_statistics=[OrderedStatistic(items_base=frozenset(), items_add=frozenset({703320, 715852}), confidence=0.00019628530068454498, lift=1.0), OrderedStatistic(items_base=frozenset({703320}), items_add=frozenset({715852}), confidence=0.024777390631049164, lift=8.97646319955263), OrderedStatistic(items_base=frozenset({715852}), items_add=frozenset({703320}), confidence=0.07111111111111111, lift=8.97646319955263)]),\n",
       " RelationRecord(items=frozenset({703320, 715921}), support=0.00029442795102681746, ordered_statistics=[OrderedStatistic(items_base=frozenset(), items_add=frozenset({703320, 715921}), confidence=0.00029442795102681746, lift=1.0), OrderedStatistic(items_base=frozenset({703320}), items_add=frozenset({715921}), confidence=0.037166085946573744, lift=10.658069762001803), OrderedStatistic(items_base=frozenset({715921}), items_add=frozenset({703320}), confidence=0.08443271767810026, lift=10.658069762001803)]),\n",
       " RelationRecord(items=frozenset({703320, 716035}), support=0.0005367176190593027, ordered_statistics=[OrderedStatistic(items_base=frozenset(), items_add=frozenset({703320, 716035}), confidence=0.0005367176190593027, lift=1.0), OrderedStatistic(items_base=frozenset({703320}), items_add=frozenset({716035}), confidence=0.06775067750677506, lift=10.236568538067216), OrderedStatistic(items_base=frozenset({716035}), items_add=frozenset({703320}), confidence=0.08109360518999073, lift=10.236568538067216)]),\n",
       " RelationRecord(items=frozenset({703320, 731389}), support=0.00024535662585568126, ordered_statistics=[OrderedStatistic(items_base=frozenset(), items_add=frozenset({703320, 731389}), confidence=0.00024535662585568126, lift=1.0), OrderedStatistic(items_base=frozenset({703320}), items_add=frozenset({731389}), confidence=0.03097173828881146, lift=10.179960785782974), OrderedStatistic(items_base=frozenset({731389}), items_add=frozenset({703320}), confidence=0.08064516129032259, lift=10.179960785782974)]),\n",
       " RelationRecord(items=frozenset({703320, 731392}), support=0.00026989228844124933, ordered_statistics=[OrderedStatistic(items_base=frozenset(), items_add=frozenset({703320, 731392}), confidence=0.00026989228844124933, lift=1.0), OrderedStatistic(items_base=frozenset({703320}), items_add=frozenset({731392}), confidence=0.0340689121176926, lift=12.495357940884565), OrderedStatistic(items_base=frozenset({731392}), items_add=frozenset({703320}), confidence=0.09898762654668165, lift=12.495357940884565)]),\n",
       " RelationRecord(items=frozenset({703320, 751581}), support=0.00013187918639742866, ordered_statistics=[OrderedStatistic(items_base=frozenset(), items_add=frozenset({703320, 751581}), confidence=0.00013187918639742866, lift=1.0), OrderedStatistic(items_base=frozenset({703320}), items_add=frozenset({751581}), confidence=0.01664730933023616, lift=0.9917696128228543), OrderedStatistic(items_base=frozenset({751581}), items_add=frozenset({703320}), confidence=0.007856751324684816, lift=0.9917696128228541)]),\n",
       " RelationRecord(items=frozenset({703320, 751600}), support=0.0001012096081654685, ordered_statistics=[OrderedStatistic(items_base=frozenset(), items_add=frozenset({703320, 751600}), confidence=0.0001012096081654685, lift=1.0), OrderedStatistic(items_base=frozenset({703320}), items_add=frozenset({751600}), confidence=0.012775842044134726, lift=0.9053770818392507), OrderedStatistic(items_base=frozenset({751600}), items_add=frozenset({703320}), confidence=0.007172353836122582, lift=0.9053770818392507)]),\n",
       " RelationRecord(items=frozenset({703320, 751754}), support=0.0002392227102092892, ordered_statistics=[OrderedStatistic(items_base=frozenset(), items_add=frozenset({703320, 751754}), confidence=0.0002392227102092892, lift=1.0), OrderedStatistic(items_base=frozenset({703320}), items_add=frozenset({751754}), confidence=0.03019744483159117, lift=2.8003578134269884), OrderedStatistic(items_base=frozenset({751754}), items_add=frozenset({703320}), confidence=0.02218430034129693, lift=2.8003578134269884)]),\n",
       " RelationRecord(items=frozenset({703320, 751839}), support=0.00015334789115980076, ordered_statistics=[OrderedStatistic(items_base=frozenset(), items_add=frozenset({703320, 751839}), confidence=0.00015334789115980076, lift=1.0), OrderedStatistic(items_base=frozenset({703320}), items_add=frozenset({751839}), confidence=0.01935733643050716, lift=3.040258038143277), OrderedStatistic(items_base=frozenset({751839}), items_add=frozenset({703320}), confidence=0.024084778420038533, lift=3.0402580381432767)]),\n",
       " RelationRecord(items=frozenset({703320, 751848}), support=0.00012267831292784063, ordered_statistics=[OrderedStatistic(items_base=frozenset(), items_add=frozenset({703320, 751848}), confidence=0.00012267831292784063, lift=1.0), OrderedStatistic(items_base=frozenset({703320}), items_add=frozenset({751848}), confidence=0.01548586914440573, lift=2.8623926018981605), OrderedStatistic(items_base=frozenset({751848}), items_add=frozenset({703320}), confidence=0.02267573696145125, lift=2.8623926018981605)]),\n",
       " RelationRecord(items=frozenset({703320, 751873}), support=0.0001564148489829968, ordered_statistics=[OrderedStatistic(items_base=frozenset(), items_add=frozenset({703320, 751873}), confidence=0.0001564148489829968, lift=1.0), OrderedStatistic(items_base=frozenset({703320}), items_add=frozenset({751873}), confidence=0.019744483159117306, lift=2.6223247254293898), OrderedStatistic(items_base=frozenset({751873}), items_add=frozenset({703320}), confidence=0.020773930753564155, lift=2.6223247254293898)]),\n",
       " RelationRecord(items=frozenset({703320, 751969}), support=0.00010734352381186054, ordered_statistics=[OrderedStatistic(items_base=frozenset(), items_add=frozenset({703320, 751969}), confidence=0.00010734352381186054, lift=1.0), OrderedStatistic(items_base=frozenset({703320}), items_add=frozenset({751969}), confidence=0.013550135501355013, lift=2.4129453746749374), OrderedStatistic(items_base=frozenset({751969}), items_add=frozenset({703320}), confidence=0.019115237575095576, lift=2.412945374674937)]),\n",
       " RelationRecord(items=frozenset({703320, 753600}), support=0.00012267831292784063, ordered_statistics=[OrderedStatistic(items_base=frozenset(), items_add=frozenset({703320, 753600}), confidence=0.00012267831292784063, lift=1.0), OrderedStatistic(items_base=frozenset({703320}), items_add=frozenset({753600}), confidence=0.01548586914440573, lift=0.5237822147041862), OrderedStatistic(items_base=frozenset({753600}), items_add=frozenset({703320}), confidence=0.004149377593360996, lift=0.5237822147041862)]),\n",
       " RelationRecord(items=frozenset({703323, 715852}), support=0.000404838432661874, ordered_statistics=[OrderedStatistic(items_base=frozenset(), items_add=frozenset({703323, 715852}), confidence=0.000404838432661874, lift=1.0), OrderedStatistic(items_base=frozenset({703323}), items_add=frozenset({715852}), confidence=0.032210834553440704, lift=11.66948430128518), OrderedStatistic(items_base=frozenset({715852}), items_add=frozenset({703323}), confidence=0.14666666666666667, lift=11.66948430128518)]),\n",
       " RelationRecord(items=frozenset({715921, 703323}), support=0.00048457933606497046, ordered_statistics=[OrderedStatistic(items_base=frozenset(), items_add=frozenset({715921, 703323}), confidence=0.00048457933606497046, lift=1.0), OrderedStatistic(items_base=frozenset({703323}), items_add=frozenset({715921}), confidence=0.038555392874572963, lift=11.056479489104452), OrderedStatistic(items_base=frozenset({715921}), items_add=frozenset({703323}), confidence=0.13896218117854003, lift=11.056479489104454)]),\n",
       " RelationRecord(items=frozenset({716035, 703323}), support=0.0008986186421964325, ordered_statistics=[OrderedStatistic(items_base=frozenset(), items_add=frozenset({703323, 716035}), confidence=0.0008986186421964325, lift=1.0), OrderedStatistic(items_base=frozenset({703323}), items_add=frozenset({716035}), confidence=0.07149829184968277, lift=10.802802153540393), OrderedStatistic(items_base=frozenset({716035}), items_add=frozenset({703323}), confidence=0.13577386468952735, lift=10.802802153540393)]),\n",
       " RelationRecord(items=frozenset({703323, 731389}), support=0.0004201732217778541, ordered_statistics=[OrderedStatistic(items_base=frozenset(), items_add=frozenset({703323, 731389}), confidence=0.0004201732217778541, lift=1.0), OrderedStatistic(items_base=frozenset({703323}), items_add=frozenset({731389}), confidence=0.033430941922889215, lift=10.988265322187063), OrderedStatistic(items_base=frozenset({731389}), items_add=frozenset({703323}), confidence=0.1381048387096774, lift=10.988265322187061)]),\n",
       " RelationRecord(items=frozenset({731392, 703323}), support=0.0002821601197340334, ordered_statistics=[OrderedStatistic(items_base=frozenset(), items_add=frozenset({731392, 703323}), confidence=0.0002821601197340334, lift=1.0), OrderedStatistic(items_base=frozenset({703323}), items_add=frozenset({731392}), confidence=0.022449975597852608, lift=8.233913659767637), OrderedStatistic(items_base=frozenset({731392}), items_add=frozenset({703323}), confidence=0.10348706411698537, lift=8.233913659767639)]),\n",
       " RelationRecord(items=frozenset({703323, 751526}), support=0.00011347743945825257, ordered_statistics=[OrderedStatistic(items_base=frozenset(), items_add=frozenset({703323, 751526}), confidence=0.00011347743945825257, lift=1.0), OrderedStatistic(items_base=frozenset({703323}), items_add=frozenset({751526}), confidence=0.009028794533918985, lift=1.3189483111789824), OrderedStatistic(items_base=frozenset({751526}), items_add=frozenset({703323}), confidence=0.016577060931899642, lift=1.3189483111789824)]),\n",
       " RelationRecord(items=frozenset({703323, 751532}), support=0.00011041048163505655, ordered_statistics=[OrderedStatistic(items_base=frozenset(), items_add=frozenset({703323, 751532}), confidence=0.00011041048163505655, lift=1.0), OrderedStatistic(items_base=frozenset({703323}), items_add=frozenset({751532}), confidence=0.008784773060029283, lift=1.313911910486655), OrderedStatistic(items_base=frozenset({751532}), items_add=frozenset({703323}), confidence=0.016513761467889906, lift=1.3139119104866548)]),\n",
       " RelationRecord(items=frozenset({703323, 751581}), support=0.00021468704762372107, ordered_statistics=[OrderedStatistic(items_base=frozenset(), items_add=frozenset({703323, 751581}), confidence=0.00021468704762372107, lift=1.0), OrderedStatistic(items_base=frozenset({703323}), items_add=frozenset({751581}), confidence=0.01708150317227916, lift=1.0176368716134943), OrderedStatistic(items_base=frozenset({751581}), items_add=frozenset({703323}), confidence=0.012790060295998539, lift=1.0176368716134943)]),\n",
       " RelationRecord(items=frozenset({751600, 703323}), support=0.00018708442721495695, ordered_statistics=[OrderedStatistic(items_base=frozenset(), items_add=frozenset({751600, 703323}), confidence=0.00018708442721495695, lift=1.0), OrderedStatistic(items_base=frozenset({703323}), items_add=frozenset({751600}), confidence=0.01488530990727184, lift=1.0548673347371065), OrderedStatistic(items_base=frozenset({751600}), items_add=frozenset({703323}), confidence=0.013257987394044773, lift=1.0548673347371065)]),\n",
       " RelationRecord(items=frozenset({751754, 703323}), support=0.00024842358367887726, ordered_statistics=[OrderedStatistic(items_base=frozenset(), items_add=frozenset({751754, 703323}), confidence=0.00024842358367887726, lift=1.0), OrderedStatistic(items_base=frozenset({703323}), items_add=frozenset({751754}), confidence=0.019765739385065886, lift=1.832974380243755), OrderedStatistic(items_base=frozenset({751754}), items_add=frozenset({703323}), confidence=0.023037542662116044, lift=1.8329743802437553)]),\n",
       " RelationRecord(items=frozenset({703323, 751787}), support=0.0001196113551046446, ordered_statistics=[OrderedStatistic(items_base=frozenset(), items_add=frozenset({703323, 751787}), confidence=0.0001196113551046446, lift=1.0), OrderedStatistic(items_base=frozenset({703323}), items_add=frozenset({751787}), confidence=0.00951683748169839, lift=2.8158094028426954), OrderedStatistic(items_base=frozenset({751787}), items_add=frozenset({703323}), confidence=0.03539019963702359, lift=2.815809402842695)]),\n",
       " RelationRecord(items=frozenset({703323, 751839}), support=0.00014414701769021273, ordered_statistics=[OrderedStatistic(items_base=frozenset(), items_add=frozenset({703323, 751839}), confidence=0.00014414701769021273, lift=1.0), OrderedStatistic(items_base=frozenset({703323}), items_add=frozenset({751839}), confidence=0.011469009272816008, lift=1.8013195026287554), OrderedStatistic(items_base=frozenset({751839}), items_add=frozenset({703323}), confidence=0.022639691714836225, lift=1.8013195026287556)]),\n",
       " RelationRecord(items=frozenset({751848, 703323}), support=0.0001564148489829968, ordered_statistics=[OrderedStatistic(items_base=frozenset(), items_add=frozenset({751848, 703323}), confidence=0.0001564148489829968, lift=1.0), OrderedStatistic(items_base=frozenset({703323}), items_add=frozenset({751848}), confidence=0.012445095168374817, lift=2.3003389740474036), OrderedStatistic(items_base=frozenset({751848}), items_add=frozenset({703323}), confidence=0.02891156462585034, lift=2.300338974047403)]),\n",
       " RelationRecord(items=frozenset({751873, 703323}), support=0.00017174963809897685, ordered_statistics=[OrderedStatistic(items_base=frozenset(), items_add=frozenset({751873, 703323}), confidence=0.00017174963809897685, lift=1.0), OrderedStatistic(items_base=frozenset({703323}), items_add=frozenset({751873}), confidence=0.013665202537823329, lift=1.814917017789215), OrderedStatistic(items_base=frozenset({751873}), items_add=frozenset({703323}), confidence=0.02281059063136456, lift=1.814917017789215)]),\n",
       " RelationRecord(items=frozenset({751969, 703323}), support=0.0001410800598670167, ordered_statistics=[OrderedStatistic(items_base=frozenset(), items_add=frozenset({751969, 703323}), confidence=0.0001410800598670167, lift=1.0), OrderedStatistic(items_base=frozenset({703323}), items_add=frozenset({751969}), confidence=0.011224987798926304, lift=1.9988938403968952), OrderedStatistic(items_base=frozenset({751969}), items_add=frozenset({703323}), confidence=0.025122883670125613, lift=1.9988938403968954)]),\n",
       " RelationRecord(items=frozenset({703323, 753285}), support=0.0001012096081654685, ordered_statistics=[OrderedStatistic(items_base=frozenset(), items_add=frozenset({703323, 753285}), confidence=0.0001012096081654685, lift=1.0), OrderedStatistic(items_base=frozenset({703323}), items_add=frozenset({753285}), confidence=0.008052708638360176, lift=1.1111442944516146), OrderedStatistic(items_base=frozenset({753285}), items_add=frozenset({703323}), confidence=0.01396529834955565, lift=1.1111442944516146)]),\n",
       " RelationRecord(items=frozenset({703323, 753350}), support=0.00014414701769021273, ordered_statistics=[OrderedStatistic(items_base=frozenset(), items_add=frozenset({703323, 753350}), confidence=0.00014414701769021273, lift=1.0), OrderedStatistic(items_base=frozenset({703323}), items_add=frozenset({753350}), confidence=0.011469009272816008, lift=1.0353098802484209), OrderedStatistic(items_base=frozenset({753350}), items_add=frozenset({703323}), confidence=0.013012181616832779, lift=1.0353098802484209)]),\n",
       " RelationRecord(items=frozenset({703323, 753357}), support=0.00014721397551340873, ordered_statistics=[OrderedStatistic(items_base=frozenset(), items_add=frozenset({703323, 753357}), confidence=0.00014721397551340873, lift=1.0), OrderedStatistic(items_base=frozenset({703323}), items_add=frozenset({753357}), confidence=0.011713030746705709, lift=1.0090102914525434), OrderedStatistic(items_base=frozenset({753357}), items_add=frozenset({703323}), confidence=0.012681638044914133, lift=1.0090102914525434)]),\n",
       " RelationRecord(items=frozenset({753376, 703323}), support=0.00020548617415413304, ordered_statistics=[OrderedStatistic(items_base=frozenset(), items_add=frozenset({753376, 703323}), confidence=0.00020548617415413304, lift=1.0), OrderedStatistic(items_base=frozenset({703323}), items_add=frozenset({753376}), confidence=0.016349438750610054, lift=1.2082576158814398), OrderedStatistic(items_base=frozenset({753376}), items_add=frozenset({703323}), confidence=0.015185856754306438, lift=1.2082576158814398)]),\n",
       " RelationRecord(items=frozenset({703323, 753431}), support=0.00010734352381186054, ordered_statistics=[OrderedStatistic(items_base=frozenset(), items_add=frozenset({703323, 753431}), confidence=0.00010734352381186054, lift=1.0), OrderedStatistic(items_base=frozenset({703323}), items_add=frozenset({753431}), confidence=0.00854075158613958, lift=1.0163369705001193), OrderedStatistic(items_base=frozenset({753431}), items_add=frozenset({703323}), confidence=0.012773722627737225, lift=1.0163369705001193)]),\n",
       " RelationRecord(items=frozenset({753433, 703323}), support=0.00011347743945825257, ordered_statistics=[OrderedStatistic(items_base=frozenset(), items_add=frozenset({753433, 703323}), confidence=0.00011347743945825257, lift=1.0), OrderedStatistic(items_base=frozenset({703323}), items_add=frozenset({753433}), confidence=0.009028794533918985, lift=0.7154052565131199), OrderedStatistic(items_base=frozenset({753433}), items_add=frozenset({703323}), confidence=0.00899149453219927, lift=0.7154052565131198)]),\n",
       " RelationRecord(items=frozenset({703323, 753517}), support=0.00011347743945825257, ordered_statistics=[OrderedStatistic(items_base=frozenset(), items_add=frozenset({703323, 753517}), confidence=0.00011347743945825257, lift=1.0), OrderedStatistic(items_base=frozenset({703323}), items_add=frozenset({753517}), confidence=0.009028794533918985, lift=0.4765122419151001), OrderedStatistic(items_base=frozenset({753517}), items_add=frozenset({703323}), confidence=0.005988993201683393, lift=0.47651224191510017)]),\n",
       " RelationRecord(items=frozenset({753600, 703323}), support=0.00018708442721495695, ordered_statistics=[OrderedStatistic(items_base=frozenset(), items_add=frozenset({753600, 703323}), confidence=0.00018708442721495695, lift=1.0), OrderedStatistic(items_base=frozenset({703323}), items_add=frozenset({753600}), confidence=0.01488530990727184, lift=0.5034693575856252), OrderedStatistic(items_base=frozenset({753600}), items_add=frozenset({703323}), confidence=0.006327800829875519, lift=0.5034693575856253)]),\n",
       " RelationRecord(items=frozenset({753609, 703323}), support=0.00011041048163505655, ordered_statistics=[OrderedStatistic(items_base=frozenset(), items_add=frozenset({753609, 703323}), confidence=0.00011041048163505655, lift=1.0), OrderedStatistic(items_base=frozenset({703323}), items_add=frozenset({753609}), confidence=0.008784773060029283, lift=0.4436004281958971), OrderedStatistic(items_base=frozenset({753609}), items_add=frozenset({703323}), confidence=0.00557534458726963, lift=0.4436004281958971)]),\n",
       " RelationRecord(items=frozenset({703323, 759397}), support=0.0001410800598670167, ordered_statistics=[OrderedStatistic(items_base=frozenset(), items_add=frozenset({703323, 759397}), confidence=0.0001410800598670167, lift=1.0), OrderedStatistic(items_base=frozenset({703323}), items_add=frozenset({759397}), confidence=0.011224987798926304, lift=0.986782049546162), OrderedStatistic(items_base=frozenset({759397}), items_add=frozenset({703323}), confidence=0.01240226476139121, lift=0.9867820495461621)]),\n",
       " RelationRecord(items=frozenset({760176, 703323}), support=0.00011347743945825257, ordered_statistics=[OrderedStatistic(items_base=frozenset(), items_add=frozenset({760176, 703323}), confidence=0.00011347743945825257, lift=1.0), OrderedStatistic(items_base=frozenset({703323}), items_add=frozenset({760176}), confidence=0.009028794533918985, lift=2.6473854591290364), OrderedStatistic(items_base=frozenset({760176}), items_add=frozenset({703323}), confidence=0.03327338129496403, lift=2.6473854591290364)]),\n",
       " RelationRecord(items=frozenset({703323, 778581}), support=0.00015334789115980076, ordered_statistics=[OrderedStatistic(items_base=frozenset(), items_add=frozenset({703323, 778581}), confidence=0.00015334789115980076, lift=1.0), OrderedStatistic(items_base=frozenset({703323}), items_add=frozenset({778581}), confidence=0.012201073694485113, lift=1.645257768622431), OrderedStatistic(items_base=frozenset({778581}), items_add=frozenset({703323}), confidence=0.020678246484698095, lift=1.645257768622431)]),\n",
       " RelationRecord(items=frozenset({778616, 703323}), support=0.00010427656598866452, ordered_statistics=[OrderedStatistic(items_base=frozenset(), items_add=frozenset({778616, 703323}), confidence=0.00010427656598866452, lift=1.0), OrderedStatistic(items_base=frozenset({703323}), items_add=frozenset({778616}), confidence=0.008296730112249878, lift=1.5344291738399014), OrderedStatistic(items_base=frozenset({778616}), items_add=frozenset({703323}), confidence=0.019285309132161088, lift=1.5344291738399014)]),\n",
       " RelationRecord(items=frozenset({703323, 778629}), support=0.000199352258507741, ordered_statistics=[OrderedStatistic(items_base=frozenset(), items_add=frozenset({703323, 778629}), confidence=0.000199352258507741, lift=1.0), OrderedStatistic(items_base=frozenset({703323}), items_add=frozenset({778629}), confidence=0.01586139580283065, lift=1.3370484151726345), OrderedStatistic(items_base=frozenset({778629}), items_add=frozenset({703323}), confidence=0.016804550155118926, lift=1.3370484151726345)]),\n",
       " RelationRecord(items=frozenset({703323, 778636}), support=0.00011347743945825257, ordered_statistics=[OrderedStatistic(items_base=frozenset(), items_add=frozenset({703323, 778636}), confidence=0.00011347743945825257, lift=1.0), OrderedStatistic(items_base=frozenset({703323}), items_add=frozenset({778636}), confidence=0.009028794533918985, lift=1.4981641885758212), OrderedStatistic(items_base=frozenset({778636}), items_add=frozenset({703323}), confidence=0.018829516539440205, lift=1.4981641885758212)]),\n",
       " RelationRecord(items=frozenset({703323, 823668}), support=0.00012267831292784063, ordered_statistics=[OrderedStatistic(items_base=frozenset(), items_add=frozenset({703323, 823668}), confidence=0.00012267831292784063, lift=1.0), OrderedStatistic(items_base=frozenset({703323}), items_add=frozenset({823668}), confidence=0.009760858955588094, lift=4.82210095094429), OrderedStatistic(items_base=frozenset({823668}), items_add=frozenset({703323}), confidence=0.060606060606060615, lift=4.82210095094429)]),\n",
       " RelationRecord(items=frozenset({703323, 823670}), support=0.00010427656598866452, ordered_statistics=[OrderedStatistic(items_base=frozenset(), items_add=frozenset({703323, 823670}), confidence=0.00010427656598866452, lift=1.0), OrderedStatistic(items_base=frozenset({703323}), items_add=frozenset({823670}), confidence=0.008296730112249878, lift=6.598045447511576), OrderedStatistic(items_base=frozenset({823670}), items_add=frozenset({703323}), confidence=0.08292682926829269, lift=6.598045447511576)]),\n",
       " RelationRecord(items=frozenset({823706, 703323}), support=0.0001012096081654685, ordered_statistics=[OrderedStatistic(items_base=frozenset(), items_add=frozenset({823706, 703323}), confidence=0.0001012096081654685, lift=1.0), OrderedStatistic(items_base=frozenset({703323}), items_add=frozenset({823706}), confidence=0.008052708638360176, lift=4.91691754267634), OrderedStatistic(items_base=frozenset({823706}), items_add=frozenset({703323}), confidence=0.061797752808988755, lift=4.916917542676339)]),\n",
       " RelationRecord(items=frozenset({823712, 703323}), support=0.00018095051156856491, ordered_statistics=[OrderedStatistic(items_base=frozenset(), items_add=frozenset({823712, 703323}), confidence=0.00018095051156856491, lift=1.0), OrderedStatistic(items_base=frozenset({703323}), items_add=frozenset({823712}), confidence=0.014397266959492436, lift=6.010646959979853), OrderedStatistic(items_base=frozenset({823712}), items_add=frozenset({703323}), confidence=0.07554417413572342, lift=6.010646959979853)]),\n",
       " RelationRecord(items=frozenset({823737, 703323}), support=0.00010734352381186054, ordered_statistics=[OrderedStatistic(items_base=frozenset(), items_add=frozenset({823737, 703323}), confidence=0.00010734352381186054, lift=1.0), OrderedStatistic(items_base=frozenset({703323}), items_add=frozenset({823737}), confidence=0.00854075158613958, lift=3.6933200254248373), OrderedStatistic(items_base=frozenset({823737}), items_add=frozenset({703323}), confidence=0.046419098143236075, lift=3.693320025424837)]),\n",
       " RelationRecord(items=frozenset({703679, 703671}), support=0.00010734352381186054, ordered_statistics=[OrderedStatistic(items_base=frozenset(), items_add=frozenset({703671, 703679}), confidence=0.00010734352381186054, lift=1.0), OrderedStatistic(items_base=frozenset({703671}), items_add=frozenset({703679}), confidence=0.07415254237288135, lift=99.08967768824672), OrderedStatistic(items_base=frozenset({703679}), items_add=frozenset({703671}), confidence=0.14344262295081966, lift=99.08967768824672)]),\n",
       " RelationRecord(items=frozenset({705529, 703671}), support=0.0003404323183747577, ordered_statistics=[OrderedStatistic(items_base=frozenset(), items_add=frozenset({705529, 703671}), confidence=0.0003404323183747577, lift=1.0), OrderedStatistic(items_base=frozenset({703671}), items_add=frozenset({705529}), confidence=0.2351694915254237, lift=29.905781485496707), OrderedStatistic(items_base=frozenset({705529}), items_add=frozenset({703671}), confidence=0.043291731669266774, lift=29.90578148549671)]),\n",
       " RelationRecord(items=frozenset({760332, 703671}), support=0.0001196113551046446, ordered_statistics=[OrderedStatistic(items_base=frozenset(), items_add=frozenset({760332, 703671}), confidence=0.0001196113551046446, lift=1.0), OrderedStatistic(items_base=frozenset({703671}), items_add=frozenset({760332}), confidence=0.0826271186440678, lift=8.821567713362858), OrderedStatistic(items_base=frozenset({760332}), items_add=frozenset({703671}), confidence=0.012770137524557957, lift=8.821567713362858)]),\n",
       " RelationRecord(items=frozenset({703674, 703686}), support=0.00010427656598866452, ordered_statistics=[OrderedStatistic(items_base=frozenset(), items_add=frozenset({703674, 703686}), confidence=0.00010427656598866452, lift=1.0), OrderedStatistic(items_base=frozenset({703674}), items_add=frozenset({703686}), confidence=0.022895622895622896, lift=12.298608268295252), OrderedStatistic(items_base=frozenset({703686}), items_add=frozenset({703674}), confidence=0.056013179571663914, lift=12.298608268295252)]),\n",
       " RelationRecord(items=frozenset({703674, 703687}), support=0.0001012096081654685, ordered_statistics=[OrderedStatistic(items_base=frozenset(), items_add=frozenset({703674, 703687}), confidence=0.0001012096081654685, lift=1.0), OrderedStatistic(items_base=frozenset({703674}), items_add=frozenset({703687}), confidence=0.022222222222222223, lift=15.548688602765857), OrderedStatistic(items_base=frozenset({703687}), items_add=frozenset({703674}), confidence=0.07081545064377683, lift=15.548688602765857)]),\n",
       " RelationRecord(items=frozenset({703674, 703694}), support=0.00022388792109330913, ordered_statistics=[OrderedStatistic(items_base=frozenset(), items_add=frozenset({703674, 703694}), confidence=0.00022388792109330913, lift=1.0), OrderedStatistic(items_base=frozenset({703674}), items_add=frozenset({703694}), confidence=0.04915824915824916, lift=27.029244667018695), OrderedStatistic(items_base=frozenset({703694}), items_add=frozenset({703674}), confidence=0.12310286677908938, lift=27.0292446670187)]),\n",
       " RelationRecord(items=frozenset({703674, 751581}), support=0.00018708442721495695, ordered_statistics=[OrderedStatistic(items_base=frozenset(), items_add=frozenset({703674, 751581}), confidence=0.00018708442721495695, lift=1.0), OrderedStatistic(items_base=frozenset({703674}), items_add=frozenset({751581}), confidence=0.04107744107744108, lift=2.4472037507666964), OrderedStatistic(items_base=frozenset({751581}), items_add=frozenset({703674}), confidence=0.011145623972227299, lift=2.4472037507666964)]),\n",
       " RelationRecord(items=frozenset({751600, 703674}), support=0.0001564148489829968, ordered_statistics=[OrderedStatistic(items_base=frozenset(), items_add=frozenset({751600, 703674}), confidence=0.0001564148489829968, lift=1.0), OrderedStatistic(items_base=frozenset({703674}), items_add=frozenset({751600}), confidence=0.03434343434343434, lift=2.43379326848138), OrderedStatistic(items_base=frozenset({751600}), items_add=frozenset({703674}), confidence=0.011084546837643991, lift=2.43379326848138)]),\n",
       " RelationRecord(items=frozenset({703674, 753268}), support=0.00021162008980052507, ordered_statistics=[OrderedStatistic(items_base=frozenset(), items_add=frozenset({703674, 753268}), confidence=0.00021162008980052507, lift=1.0), OrderedStatistic(items_base=frozenset({703674}), items_add=frozenset({753268}), confidence=0.046464646464646465, lift=11.789943009865189), OrderedStatistic(items_base=frozenset({753268}), items_add=frozenset({703674}), confidence=0.05369649805447471, lift=11.78994300986519)]),\n",
       " RelationRecord(items=frozenset({703674, 753285}), support=0.00014414701769021273, ordered_statistics=[OrderedStatistic(items_base=frozenset(), items_add=frozenset({703674, 753285}), confidence=0.00014414701769021273, lift=1.0), OrderedStatistic(items_base=frozenset({703674}), items_add=frozenset({753285}), confidence=0.03164983164983165, lift=4.367167798737837), OrderedStatistic(items_base=frozenset({753285}), items_add=frozenset({703674}), confidence=0.019889970376639865, lift=4.367167798737837)]),\n",
       " RelationRecord(items=frozenset({703674, 753324}), support=0.00012267831292784063, ordered_statistics=[OrderedStatistic(items_base=frozenset(), items_add=frozenset({703674, 753324}), confidence=0.00012267831292784063, lift=1.0), OrderedStatistic(items_base=frozenset({703674}), items_add=frozenset({753324}), confidence=0.02693602693602694, lift=12.198129442573888), OrderedStatistic(items_base=frozenset({753324}), items_add=frozenset({703674}), confidence=0.05555555555555556, lift=12.198129442573888)]),\n",
       " RelationRecord(items=frozenset({703674, 753357}), support=0.0007299359619206517, ordered_statistics=[OrderedStatistic(items_base=frozenset(), items_add=frozenset({703674, 753357}), confidence=0.0007299359619206517, lift=1.0), OrderedStatistic(items_base=frozenset({703674}), items_add=frozenset({753357}), confidence=0.16026936026936026, lift=13.806284420604102), OrderedStatistic(items_base=frozenset({753357}), items_add=frozenset({703674}), confidence=0.06287978863936591, lift=13.806284420604102)]),\n",
       " RelationRecord(items=frozenset({753376, 703674}), support=0.0001196113551046446, ordered_statistics=[OrderedStatistic(items_base=frozenset(), items_add=frozenset({753376, 703674}), confidence=0.0001196113551046446, lift=1.0), OrderedStatistic(items_base=frozenset({703674}), items_add=frozenset({753376}), confidence=0.026262626262626262, lift=1.940862844217332), OrderedStatistic(items_base=frozenset({753376}), items_add=frozenset({703674}), confidence=0.00883952855847688, lift=1.9408628442173317)]),\n",
       " RelationRecord(items=frozenset({703674, 753431}), support=0.00025762445714846527, ordered_statistics=[OrderedStatistic(items_base=frozenset(), items_add=frozenset({703674, 753431}), confidence=0.00025762445714846527, lift=1.0), OrderedStatistic(items_base=frozenset({703674}), items_add=frozenset({753431}), confidence=0.05656565656565656, lift=6.7312305537123045), OrderedStatistic(items_base=frozenset({753431}), items_add=frozenset({703674}), confidence=0.030656934306569336, lift=6.731230553712304)]),\n",
       " RelationRecord(items=frozenset({753433, 703674}), support=0.00039563755919228596, ordered_statistics=[OrderedStatistic(items_base=frozenset(), items_add=frozenset({753433, 703674}), confidence=0.00039563755919228596, lift=1.0), OrderedStatistic(items_base=frozenset({703674}), items_add=frozenset({753433}), confidence=0.08686868686868686, lift=6.883124317291996), OrderedStatistic(items_base=frozenset({753433}), items_add=frozenset({703674}), confidence=0.03134872417982989, lift=6.883124317291996)]),\n",
       " RelationRecord(items=frozenset({703674, 753436}), support=0.00018095051156856491, ordered_statistics=[OrderedStatistic(items_base=frozenset(), items_add=frozenset({703674, 753436}), confidence=0.00018095051156856491, lift=1.0), OrderedStatistic(items_base=frozenset({703674}), items_add=frozenset({753436}), confidence=0.039730639730639734, lift=5.832694042329343), OrderedStatistic(items_base=frozenset({753436}), items_add=frozenset({703674}), confidence=0.02656461053579469, lift=5.832694042329342)]),\n",
       " RelationRecord(items=frozenset({703674, 753522}), support=0.0001380131020438207, ordered_statistics=[OrderedStatistic(items_base=frozenset(), items_add=frozenset({703674, 753522}), confidence=0.0001380131020438207, lift=1.0), OrderedStatistic(items_base=frozenset({703674}), items_add=frozenset({753522}), confidence=0.030303030303030304, lift=15.758349040645692), OrderedStatistic(items_base=frozenset({753522}), items_add=frozenset({703674}), confidence=0.07177033492822966, lift=15.758349040645692)]),\n",
       " RelationRecord(items=frozenset({703674, 753628}), support=0.00011654439728144858, ordered_statistics=[OrderedStatistic(items_base=frozenset(), items_add=frozenset({703674, 753628}), confidence=0.00011654439728144858, lift=1.0), OrderedStatistic(items_base=frozenset({703674}), items_add=frozenset({753628}), confidence=0.02558922558922559, lift=8.610444312405097), OrderedStatistic(items_base=frozenset({753628}), items_add=frozenset({703674}), confidence=0.0392156862745098, lift=8.610444312405097)]),\n",
       " RelationRecord(items=frozenset({703674, 759397}), support=0.00039257060136908996, ordered_statistics=[OrderedStatistic(items_base=frozenset(), items_add=frozenset({703674, 759397}), confidence=0.00039257060136908996, lift=1.0), OrderedStatistic(items_base=frozenset({703674}), items_add=frozenset({759397}), confidence=0.08619528619528619, lift=7.577376714934007), OrderedStatistic(items_base=frozenset({759397}), items_add=frozenset({703674}), confidence=0.03451064977082772, lift=7.577376714934008)]),\n",
       " RelationRecord(items=frozenset({759400, 703674}), support=0.00024842358367887726, ordered_statistics=[OrderedStatistic(items_base=frozenset(), items_add=frozenset({759400, 703674}), confidence=0.00024842358367887726, lift=1.0), OrderedStatistic(items_base=frozenset({703674}), items_add=frozenset({759400}), confidence=0.05454545454545455, lift=11.920155983426762), OrderedStatistic(items_base=frozenset({759400}), items_add=frozenset({703674}), confidence=0.05428954423592494, lift=11.920155983426763)]),\n",
       " RelationRecord(items=frozenset({751581, 703686}), support=0.0001012096081654685, ordered_statistics=[OrderedStatistic(items_base=frozenset(), items_add=frozenset({751581, 703686}), confidence=0.0001012096081654685, lift=1.0), OrderedStatistic(items_base=frozenset({703686}), items_add=frozenset({751581}), confidence=0.0543657331136738, lift=3.238858665469034), OrderedStatistic(items_base=frozenset({751581}), items_add=frozenset({703686}), confidence=0.006029599853827883, lift=3.2388586654690346)]),\n",
       " RelationRecord(items=frozenset({753357, 703686}), support=0.0001380131020438207, ordered_statistics=[OrderedStatistic(items_base=frozenset(), items_add=frozenset({753357, 703686}), confidence=0.0001380131020438207, lift=1.0), OrderedStatistic(items_base=frozenset({703686}), items_add=frozenset({753357}), confidence=0.07413509060955518, lift=6.386312048557232), OrderedStatistic(items_base=frozenset({753357}), items_add=frozenset({703686}), confidence=0.011889035667107, lift=6.386312048557232)]),\n",
       " RelationRecord(items=frozenset({753357, 703687}), support=0.00016254876462938882, ordered_statistics=[OrderedStatistic(items_base=frozenset(), items_add=frozenset({753357, 703687}), confidence=0.00016254876462938882, lift=1.0), OrderedStatistic(items_base=frozenset({703687}), items_add=frozenset({753357}), confidence=0.11373390557939915, lift=9.79752240887624), OrderedStatistic(items_base=frozenset({753357}), items_add=frozenset({703687}), confidence=0.014002642007926024, lift=9.79752240887624)]),\n",
       " RelationRecord(items=frozenset({759397, 703687}), support=0.00013494614422062467, ordered_statistics=[OrderedStatistic(items_base=frozenset(), items_add=frozenset({759397, 703687}), confidence=0.00013494614422062467, lift=1.0), OrderedStatistic(items_base=frozenset({703687}), items_add=frozenset({759397}), confidence=0.09442060085836909, lift=8.300459270282122), OrderedStatistic(items_base=frozenset({759397}), items_add=frozenset({703687}), confidence=0.011863035858722027, lift=8.300459270282124)]),\n",
       " RelationRecord(items=frozenset({751581, 703694}), support=0.00010734352381186054, ordered_statistics=[OrderedStatistic(items_base=frozenset(), items_add=frozenset({751581, 703694}), confidence=0.00010734352381186054, lift=1.0), OrderedStatistic(items_base=frozenset({703694}), items_add=frozenset({751581}), confidence=0.05902192242833052, lift=3.5162528666712474), OrderedStatistic(items_base=frozenset({751581}), items_add=frozenset({703694}), confidence=0.006395030147999269, lift=3.5162528666712474)]),\n",
       " RelationRecord(items=frozenset({753268, 703694}), support=0.00011654439728144858, ordered_statistics=[OrderedStatistic(items_base=frozenset(), items_add=frozenset({753268, 703694}), confidence=0.00011654439728144858, lift=1.0), OrderedStatistic(items_base=frozenset({703694}), items_add=frozenset({753268}), confidence=0.06408094435075885, lift=16.259903806405468), OrderedStatistic(items_base=frozenset({753268}), items_add=frozenset({703694}), confidence=0.029571984435797664, lift=16.259903806405468)]),\n",
       " RelationRecord(items=frozenset({753357, 703694}), support=0.000199352258507741, ordered_statistics=[OrderedStatistic(items_base=frozenset(), items_add=frozenset({753357, 703694}), confidence=0.000199352258507741, lift=1.0), OrderedStatistic(items_base=frozenset({703694}), items_add=frozenset({753357}), confidence=0.10961214165261383, lift=9.44245613175288), OrderedStatistic(items_base=frozenset({753357}), items_add=frozenset({703694}), confidence=0.017173051519154558, lift=9.44245613175288)]),\n",
       " RelationRecord(items=frozenset({704329, 704331}), support=0.00039563755919228596, ordered_statistics=[OrderedStatistic(items_base=frozenset(), items_add=frozenset({704329, 704331}), confidence=0.00039563755919228596, lift=1.0), OrderedStatistic(items_base=frozenset({704329}), items_add=frozenset({704331}), confidence=0.2320143884892086, lift=78.31230171142587), OrderedStatistic(items_base=frozenset({704331}), items_add=frozenset({704329}), confidence=0.13354037267080746, lift=78.31230171142589)]),\n",
       " RelationRecord(items=frozenset({704329, 704335}), support=0.0003005618666732095, ordered_statistics=[OrderedStatistic(items_base=frozenset(), items_add=frozenset({704329, 704335}), confidence=0.0003005618666732095, lift=1.0), OrderedStatistic(items_base=frozenset({704329}), items_add=frozenset({704335}), confidence=0.1762589928057554, lift=96.75135043480368), OrderedStatistic(items_base=frozenset({704335}), items_add=frozenset({704329}), confidence=0.16498316498316498, lift=96.75135043480367)]),\n",
       " RelationRecord(items=frozenset({704329, 753517}), support=0.00016868268027578085, ordered_statistics=[OrderedStatistic(items_base=frozenset(), items_add=frozenset({704329, 753517}), confidence=0.00016868268027578085, lift=1.0), OrderedStatistic(items_base=frozenset({704329}), items_add=frozenset({753517}), confidence=0.09892086330935251, lift=5.2207415032687345), OrderedStatistic(items_base=frozenset({753517}), items_add=frozenset({704329}), confidence=0.0089025574619618, lift=5.220741503268735)]),\n",
       " RelationRecord(items=frozenset({753600, 704329}), support=0.00017174963809897685, ordered_statistics=[OrderedStatistic(items_base=frozenset(), items_add=frozenset({753600, 704329}), confidence=0.00017174963809897685, lift=1.0), OrderedStatistic(items_base=frozenset({704329}), items_add=frozenset({753600}), confidence=0.10071942446043165, lift=3.4066569151317947), OrderedStatistic(items_base=frozenset({753600}), items_add=frozenset({704329}), confidence=0.0058091286307053935, lift=3.4066569151317947)]),\n",
       " RelationRecord(items=frozenset({704329, 753609}), support=0.00010734352381186054, ordered_statistics=[OrderedStatistic(items_base=frozenset(), items_add=frozenset({704329, 753609}), confidence=0.00010734352381186054, lift=1.0), OrderedStatistic(items_base=frozenset({704329}), items_add=frozenset({753609}), confidence=0.06294964028776978, lift=3.1787374808222184), OrderedStatistic(items_base=frozenset({753609}), items_add=frozenset({704329}), confidence=0.0054204739042899176, lift=3.1787374808222184)]),\n",
       " RelationRecord(items=frozenset({704331, 704335}), support=0.0003158966557891896, ordered_statistics=[OrderedStatistic(items_base=frozenset(), items_add=frozenset({704331, 704335}), confidence=0.0003158966557891896, lift=1.0), OrderedStatistic(items_base=frozenset({704331}), items_add=frozenset({704335}), confidence=0.10662525879917184, lift=58.52829189061073), OrderedStatistic(items_base=frozenset({704335}), items_add=frozenset({704331}), confidence=0.1734006734006734, lift=58.528291890610724)]),\n",
       " RelationRecord(items=frozenset({753312, 704331}), support=0.00015028093333660476, ordered_statistics=[OrderedStatistic(items_base=frozenset(), items_add=frozenset({753312, 704331}), confidence=0.00015028093333660476, lift=1.0), OrderedStatistic(items_base=frozenset({704331}), items_add=frozenset({753312}), confidence=0.050724637681159424, lift=47.93934047469019), OrderedStatistic(items_base=frozenset({753312}), items_add=frozenset({704331}), confidence=0.14202898550724635, lift=47.939340474690184)]),\n",
       " RelationRecord(items=frozenset({753314, 704331}), support=0.0001410800598670167, ordered_statistics=[OrderedStatistic(items_base=frozenset(), items_add=frozenset({753314, 704331}), confidence=0.0001410800598670167, lift=1.0), OrderedStatistic(items_base=frozenset({704331}), items_add=frozenset({753314}), confidence=0.047619047619047616, lift=6.2556310195311), OrderedStatistic(items_base=frozenset({753314}), items_add=frozenset({704331}), confidence=0.0185334407735697, lift=6.2556310195311)]),\n",
       " RelationRecord(items=frozenset({704331, 753342}), support=0.00015334789115980076, ordered_statistics=[OrderedStatistic(items_base=frozenset(), items_add=frozenset({704331, 753342}), confidence=0.00015334789115980076, lift=1.0), OrderedStatistic(items_base=frozenset({704331}), items_add=frozenset({753342}), confidence=0.05175983436853002, lift=4.957874428573861), OrderedStatistic(items_base=frozenset({753342}), items_add=frozenset({704331}), confidence=0.014688601645123384, lift=4.957874428573861)]),\n",
       " RelationRecord(items=frozenset({704331, 753517}), support=0.0004140393061314621, ordered_statistics=[OrderedStatistic(items_base=frozenset(), items_add=frozenset({704331, 753517}), confidence=0.0004140393061314621, lift=1.0), OrderedStatistic(items_base=frozenset({704331}), items_add=frozenset({753517}), confidence=0.13975155279503107, lift=7.375660779886153), OrderedStatistic(items_base=frozenset({753517}), items_add=frozenset({704331}), confidence=0.021851731952088053, lift=7.375660779886151)]),\n",
       " RelationRecord(items=frozenset({704331, 753542}), support=0.00018401746939176092, ordered_statistics=[OrderedStatistic(items_base=frozenset(), items_add=frozenset({704331, 753542}), confidence=0.00018401746939176092, lift=1.0), OrderedStatistic(items_base=frozenset({704331}), items_add=frozenset({753542}), confidence=0.062111801242236024, lift=5.6935410362211165), OrderedStatistic(items_base=frozenset({753542}), items_add=frozenset({704331}), confidence=0.01686814731515322, lift=5.693541036221116)]),\n",
       " RelationRecord(items=frozenset({704331, 753549}), support=0.00011347743945825257, ordered_statistics=[OrderedStatistic(items_base=frozenset(), items_add=frozenset({704331, 753549}), confidence=0.00011347743945825257, lift=1.0), OrderedStatistic(items_base=frozenset({704331}), items_add=frozenset({753549}), confidence=0.038302277432712216, lift=6.434151144049673), OrderedStatistic(items_base=frozenset({753549}), items_add=frozenset({704331}), confidence=0.019062339000515197, lift=6.434151144049672)]),\n",
       " RelationRecord(items=frozenset({753600, 704331}), support=0.00039257060136908996, ordered_statistics=[OrderedStatistic(items_base=frozenset(), items_add=frozenset({753600, 704331}), confidence=0.00039257060136908996, lift=1.0), OrderedStatistic(items_base=frozenset({704331}), items_add=frozenset({753600}), confidence=0.13250517598343683, lift=4.481753906686253), OrderedStatistic(items_base=frozenset({753600}), items_add=frozenset({704331}), confidence=0.013278008298755186, lift=4.4817539066862535)]),\n",
       " RelationRecord(items=frozenset({753609, 704331}), support=0.00029442795102681746, ordered_statistics=[OrderedStatistic(items_base=frozenset(), items_add=frozenset({753609, 704331}), confidence=0.00029442795102681746, lift=1.0), OrderedStatistic(items_base=frozenset({704331}), items_add=frozenset({753609}), confidence=0.09937888198757763, lift=5.018287245677809), OrderedStatistic(items_base=frozenset({753609}), items_add=frozenset({704331}), confidence=0.014867585566052345, lift=5.018287245677809)]),\n",
       " RelationRecord(items=frozenset({704331, 753663}), support=0.0001196113551046446, ordered_statistics=[OrderedStatistic(items_base=frozenset(), items_add=frozenset({704331, 753663}), confidence=0.0001196113551046446, lift=1.0), OrderedStatistic(items_base=frozenset({704331}), items_add=frozenset({753663}), confidence=0.040372670807453416, lift=4.003574073234498), OrderedStatistic(items_base=frozenset({753663}), items_add=frozenset({704331}), confidence=0.011861313868613138, lift=4.003574073234498)]),\n",
       " RelationRecord(items=frozenset({704331, 760059}), support=0.00012267831292784063, ordered_statistics=[OrderedStatistic(items_base=frozenset(), items_add=frozenset({704331, 760059}), confidence=0.00012267831292784063, lift=1.0), OrderedStatistic(items_base=frozenset({704331}), items_add=frozenset({760059}), confidence=0.04140786749482402, lift=47.20728546815504), OrderedStatistic(items_base=frozenset({760059}), items_add=frozenset({704331}), confidence=0.13986013986013987, lift=47.207285468155035)]),\n",
       " RelationRecord(items=frozenset({753314, 704335}), support=0.00012881222857423263, ordered_statistics=[OrderedStatistic(items_base=frozenset(), items_add=frozenset({753314, 704335}), confidence=0.00012881222857423263, lift=1.0), OrderedStatistic(items_base=frozenset({704335}), items_add=frozenset({753314}), confidence=0.0707070707070707, lift=9.288664241121936), OrderedStatistic(items_base=frozenset({753314}), items_add=frozenset({704335}), confidence=0.0169218372280419, lift=9.288664241121936)]),\n",
       " RelationRecord(items=frozenset({753517, 704335}), support=0.00018708442721495695, ordered_statistics=[OrderedStatistic(items_base=frozenset(), items_add=frozenset({753517, 704335}), confidence=0.00018708442721495695, lift=1.0), OrderedStatistic(items_base=frozenset({704335}), items_add=frozenset({753517}), confidence=0.1026936026936027, lift=5.41985518288529), OrderedStatistic(items_base=frozenset({753517}), items_add=frozenset({704335}), confidence=0.00987374554872127, lift=5.41985518288529)]),\n",
       " RelationRecord(items=frozenset({753600, 704335}), support=0.0002637583727948573, ordered_statistics=[OrderedStatistic(items_base=frozenset(), items_add=frozenset({753600, 704335}), confidence=0.0002637583727948573, lift=1.0), OrderedStatistic(items_base=frozenset({704335}), items_add=frozenset({753600}), confidence=0.1447811447811448, lift=4.896966902776032), OrderedStatistic(items_base=frozenset({753600}), items_add=frozenset({704335}), confidence=0.00892116182572614, lift=4.896966902776032)]),\n",
       " RelationRecord(items=frozenset({753609, 704335}), support=0.00013494614422062467, ordered_statistics=[OrderedStatistic(items_base=frozenset(), items_add=frozenset({753609, 704335}), confidence=0.00013494614422062467, lift=1.0), OrderedStatistic(items_base=frozenset({704335}), items_add=frozenset({753609}), confidence=0.07407407407407407, lift=3.7404826229357746), OrderedStatistic(items_base=frozenset({753609}), items_add=frozenset({704335}), confidence=0.006814310051107325, lift=3.740482622935774)]),\n",
       " RelationRecord(items=frozenset({704536, 704540}), support=0.00018095051156856491, ordered_statistics=[OrderedStatistic(items_base=frozenset(), items_add=frozenset({704536, 704540}), confidence=0.00018095051156856491, lift=1.0), OrderedStatistic(items_base=frozenset({704536}), items_add=frozenset({704540}), confidence=0.0813793103448276, lift=20.617103662620906), OrderedStatistic(items_base=frozenset({704540}), items_add=frozenset({704536}), confidence=0.04584304584304584, lift=20.617103662620902)]),\n",
       " RelationRecord(items=frozenset({704536, 704630}), support=0.0003097627401427976, ordered_statistics=[OrderedStatistic(items_base=frozenset(), items_add=frozenset({704536, 704630}), confidence=0.0003097627401427976, lift=1.0), OrderedStatistic(items_base=frozenset({704536}), items_add=frozenset({704630}), confidence=0.13931034482758622, lift=45.01781347185674), OrderedStatistic(items_base=frozenset({704630}), items_add=frozenset({704536}), confidence=0.10009910802775025, lift=45.01781347185674)]),\n",
       " RelationRecord(items=frozenset({704536, 707333}), support=0.00024535662585568126, ordered_statistics=[OrderedStatistic(items_base=frozenset(), items_add=frozenset({704536, 707333}), confidence=0.00024535662585568126, lift=1.0), OrderedStatistic(items_base=frozenset({704536}), items_add=frozenset({707333}), confidence=0.11034482758620691, lift=57.93654283969128), OrderedStatistic(items_base=frozenset({707333}), items_add=frozenset({704536}), confidence=0.12882447665056362, lift=57.93654283969127)]),\n",
       " RelationRecord(items=frozenset({704536, 707489}), support=0.00019015138503815295, ordered_statistics=[OrderedStatistic(items_base=frozenset(), items_add=frozenset({704536, 707489}), confidence=0.00019015138503815295, lift=1.0), OrderedStatistic(items_base=frozenset({704536}), items_add=frozenset({707489}), confidence=0.08551724137931034, lift=70.59091051942383), OrderedStatistic(items_base=frozenset({707489}), items_add=frozenset({704536}), confidence=0.15696202531645567, lift=70.59091051942382)]),\n",
       " RelationRecord(items=frozenset({704536, 714943}), support=0.0001196113551046446, ordered_statistics=[OrderedStatistic(items_base=frozenset(), items_add=frozenset({704536, 714943}), confidence=0.0001196113551046446, lift=1.0), OrderedStatistic(items_base=frozenset({704536}), items_add=frozenset({714943}), confidence=0.05379310344827586, lift=15.82993153242873), OrderedStatistic(items_base=frozenset({714943}), items_add=frozenset({704536}), confidence=0.0351985559566787, lift=15.82993153242873)]),\n",
       " RelationRecord(items=frozenset({704536, 715055}), support=0.00026989228844124933, ordered_statistics=[OrderedStatistic(items_base=frozenset(), items_add=frozenset({704536, 715055}), confidence=0.00026989228844124933, lift=1.0), OrderedStatistic(items_base=frozenset({704536}), items_add=frozenset({715055}), confidence=0.12137931034482757, lift=62.129438640177554), OrderedStatistic(items_base=frozenset({715055}), items_add=frozenset({704536}), confidence=0.13814756671899528, lift=62.12943864017755)]),\n",
       " RelationRecord(items=frozenset({707508, 704540}), support=0.00010427656598866452, ordered_statistics=[OrderedStatistic(items_base=frozenset(), items_add=frozenset({707508, 704540}), confidence=0.00010427656598866452, lift=1.0), OrderedStatistic(items_base=frozenset({704540}), items_add=frozenset({707508}), confidence=0.026418026418026416, lift=6.745306203411136), OrderedStatistic(items_base=frozenset({707508}), items_add=frozenset({704540}), confidence=0.02662490211433046, lift=6.745306203411136)]),\n",
       " RelationRecord(items=frozenset({707512, 704540}), support=0.0001196113551046446, ordered_statistics=[OrderedStatistic(items_base=frozenset(), items_add=frozenset({707512, 704540}), confidence=0.0001196113551046446, lift=1.0), OrderedStatistic(items_base=frozenset({704540}), items_add=frozenset({707512}), confidence=0.0303030303030303, lift=24.040109120401087), OrderedStatistic(items_base=frozenset({707512}), items_add=frozenset({704540}), confidence=0.0948905109489051, lift=24.040109120401087)]),\n",
       " RelationRecord(items=frozenset({751273, 704540}), support=0.00017481659592217288, ordered_statistics=[OrderedStatistic(items_base=frozenset(), items_add=frozenset({751273, 704540}), confidence=0.00017481659592217288, lift=1.0), OrderedStatistic(items_base=frozenset({704540}), items_add=frozenset({751273}), confidence=0.04428904428904429, lift=15.628472537563447), OrderedStatistic(items_base=frozenset({751273}), items_add=frozenset({704540}), confidence=0.061688311688311695, lift=15.628472537563448)]),\n",
       " RelationRecord(items=frozenset({751316, 704540}), support=0.00011654439728144858, ordered_statistics=[OrderedStatistic(items_base=frozenset(), items_add=frozenset({751316, 704540}), confidence=0.00011654439728144858, lift=1.0), OrderedStatistic(items_base=frozenset({704540}), items_add=frozenset({751316}), confidence=0.029526029526029524, lift=10.187448765226542), OrderedStatistic(items_base=frozenset({751316}), items_add=frozenset({704540}), confidence=0.040211640211640205, lift=10.187448765226542)]),\n",
       " RelationRecord(items=frozenset({751683, 704540}), support=0.0001410800598670167, ordered_statistics=[OrderedStatistic(items_base=frozenset(), items_add=frozenset({751683, 704540}), confidence=0.0001410800598670167, lift=1.0), OrderedStatistic(items_base=frozenset({704540}), items_add=frozenset({751683}), confidence=0.03574203574203574, lift=28.56349315172844), OrderedStatistic(items_base=frozenset({751683}), items_add=frozenset({704540}), confidence=0.11274509803921567, lift=28.56349315172844)]),\n",
       " RelationRecord(items=frozenset({751698, 704540}), support=0.00010734352381186054, ordered_statistics=[OrderedStatistic(items_base=frozenset(), items_add=frozenset({751698, 704540}), confidence=0.00010734352381186054, lift=1.0), OrderedStatistic(items_base=frozenset({704540}), items_add=frozenset({751698}), confidence=0.027195027195027192, lift=11.48588314391423), OrderedStatistic(items_base=frozenset({751698}), items_add=frozenset({704540}), confidence=0.045336787564766834, lift=11.48588314391423)]),\n",
       " RelationRecord(items=frozenset({704540, 753350}), support=0.00018401746939176092, ordered_statistics=[OrderedStatistic(items_base=frozenset(), items_add=frozenset({704540, 753350}), confidence=0.00018401746939176092, lift=1.0), OrderedStatistic(items_base=frozenset({704540}), items_add=frozenset({753350}), confidence=0.04662004662004662, lift=4.208401417703743), OrderedStatistic(items_base=frozenset({753350}), items_add=frozenset({704540}), confidence=0.01661129568106312, lift=4.208401417703742)]),\n",
       " RelationRecord(items=frozenset({753376, 704540}), support=0.0002361557523860932, ordered_statistics=[OrderedStatistic(items_base=frozenset(), items_add=frozenset({753376, 704540}), confidence=0.0002361557523860932, lift=1.0), OrderedStatistic(items_base=frozenset({704540}), items_add=frozenset({753376}), confidence=0.05982905982905983, lift=4.421492278246585), OrderedStatistic(items_base=frozenset({753376}), items_add=frozenset({704540}), confidence=0.017452402538531277, lift=4.421492278246585)]),\n",
       " RelationRecord(items=frozenset({753475, 704540}), support=0.00011041048163505655, ordered_statistics=[OrderedStatistic(items_base=frozenset(), items_add=frozenset({753475, 704540}), confidence=0.00011041048163505655, lift=1.0), OrderedStatistic(items_base=frozenset({704540}), items_add=frozenset({753475}), confidence=0.02797202797202797, lift=18.096126096126092), OrderedStatistic(items_base=frozenset({753475}), items_add=frozenset({704540}), confidence=0.07142857142857142, lift=18.096126096126095)]),\n",
       " RelationRecord(items=frozenset({753507, 704540}), support=0.00014721397551340873, ordered_statistics=[OrderedStatistic(items_base=frozenset(), items_add=frozenset({753507, 704540}), confidence=0.00014721397551340873, lift=1.0), OrderedStatistic(items_base=frozenset({704540}), items_add=frozenset({753507}), confidence=0.03729603729603729, lift=8.021501805142965), OrderedStatistic(items_base=frozenset({753507}), items_add=frozenset({704540}), confidence=0.031662269129287594, lift=8.021501805142965)]),\n",
       " RelationRecord(items=frozenset({704540, 753565}), support=0.00012574527075103663, ordered_statistics=[OrderedStatistic(items_base=frozenset(), items_add=frozenset({704540, 753565}), confidence=0.00012574527075103663, lift=1.0), OrderedStatistic(items_base=frozenset({704540}), items_add=frozenset({753565}), confidence=0.031857031857031856, lift=4.057490773115773), OrderedStatistic(items_base=frozenset({753565}), items_add=frozenset({704540}), confidence=0.016015625, lift=4.057490773115773)]),\n",
       " RelationRecord(items=frozenset({704540, 753599}), support=0.0001012096081654685, ordered_statistics=[OrderedStatistic(items_base=frozenset(), items_add=frozenset({704540, 753599}), confidence=0.0001012096081654685, lift=1.0), OrderedStatistic(items_base=frozenset({704540}), items_add=frozenset({753599}), confidence=0.02564102564102564, lift=13.104091310987862), OrderedStatistic(items_base=frozenset({753599}), items_add=frozenset({704540}), confidence=0.05172413793103448, lift=13.104091310987862)]),\n",
       " RelationRecord(items=frozenset({704540, 753630}), support=0.00010734352381186054, ordered_statistics=[OrderedStatistic(items_base=frozenset(), items_add=frozenset({704540, 753630}), confidence=0.00010734352381186054, lift=1.0), OrderedStatistic(items_base=frozenset({704540}), items_add=frozenset({753630}), confidence=0.027195027195027192, lift=13.811685026638296), OrderedStatistic(items_base=frozenset({753630}), items_add=frozenset({704540}), confidence=0.05451713395638629, lift=13.811685026638298)]),\n",
       " RelationRecord(items=frozenset({704609, 704607}), support=0.00014414701769021273, ordered_statistics=[OrderedStatistic(items_base=frozenset(), items_add=frozenset({704609, 704607}), confidence=0.00014414701769021273, lift=1.0), OrderedStatistic(items_base=frozenset({704607}), items_add=frozenset({704609}), confidence=0.09251968503937008, lift=81.31158605174353), OrderedStatistic(items_base=frozenset({704609}), items_add=frozenset({704607}), confidence=0.1266846361185984, lift=81.31158605174355)]),\n",
       " RelationRecord(items=frozenset({704630, 704607}), support=0.0001594818068061928, ordered_statistics=[OrderedStatistic(items_base=frozenset(), items_add=frozenset({704630, 704607}), confidence=0.0001594818068061928, lift=1.0), OrderedStatistic(items_base=frozenset({704607}), items_add=frozenset({704630}), confidence=0.10236220472440945, lift=33.07810805116159), OrderedStatistic(items_base=frozenset({704630}), items_add=frozenset({704607}), confidence=0.05153617443012883, lift=33.078108051161585)]),\n",
       " RelationRecord(items=frozenset({704718, 704607}), support=0.00013187918639742866, ordered_statistics=[OrderedStatistic(items_base=frozenset(), items_add=frozenset({704718, 704607}), confidence=0.00013187918639742866, lift=1.0), OrderedStatistic(items_base=frozenset({704607}), items_add=frozenset({704718}), confidence=0.08464566929133858, lift=48.590190750804034), OrderedStatistic(items_base=frozenset({704718}), items_add=frozenset({704607}), confidence=0.07570422535211267, lift=48.590190750804034)]),\n",
       " RelationRecord(items=frozenset({714945, 704607}), support=0.00011041048163505655, ordered_statistics=[OrderedStatistic(items_base=frozenset(), items_add=frozenset({714945, 704607}), confidence=0.00011041048163505655, lift=1.0), OrderedStatistic(items_base=frozenset({704607}), items_add=frozenset({714945}), confidence=0.07086614173228346, lift=56.35690416746687), OrderedStatistic(items_base=frozenset({714945}), items_add=frozenset({704607}), confidence=0.08780487804878048, lift=56.356904167466865)]),\n",
       " RelationRecord(items=frozenset({714981, 704607}), support=0.00010427656598866452, ordered_statistics=[OrderedStatistic(items_base=frozenset(), items_add=frozenset({714981, 704607}), confidence=0.00010427656598866452, lift=1.0), OrderedStatistic(items_base=frozenset({704607}), items_add=frozenset({714981}), confidence=0.06692913385826771, lift=54.55661417322835), OrderedStatistic(items_base=frozenset({714981}), items_add=frozenset({704607}), confidence=0.085, lift=54.55661417322835)]),\n",
       " RelationRecord(items=frozenset({753509, 704607}), support=0.00012267831292784063, ordered_statistics=[OrderedStatistic(items_base=frozenset(), items_add=frozenset({753509, 704607}), confidence=0.00012267831292784063, lift=1.0), OrderedStatistic(items_base=frozenset({704607}), items_add=frozenset({753509}), confidence=0.07874015748031497, lift=8.849948565116023), OrderedStatistic(items_base=frozenset({753509}), items_add=frozenset({704607}), confidence=0.013788348845225786, lift=8.849948565116021)]),\n",
       " RelationRecord(items=frozenset({704718, 704630}), support=0.0001196113551046446, ordered_statistics=[OrderedStatistic(items_base=frozenset(), items_add=frozenset({704630, 704718}), confidence=0.0001196113551046446, lift=1.0), OrderedStatistic(items_base=frozenset({704630}), items_add=frozenset({704718}), confidence=0.03865213082259663, lift=22.187956280796772), OrderedStatistic(items_base=frozenset({704718}), items_add=frozenset({704630}), confidence=0.06866197183098591, lift=22.18795628079677)]),\n",
       " RelationRecord(items=frozenset({714921, 704630}), support=0.0001564148489829968, ordered_statistics=[OrderedStatistic(items_base=frozenset(), items_add=frozenset({714921, 704630}), confidence=0.0001564148489829968, lift=1.0), OrderedStatistic(items_base=frozenset({704630}), items_add=frozenset({714921}), confidence=0.05054509415262636, lift=25.831553634841285), OrderedStatistic(items_base=frozenset({714921}), items_add=frozenset({704630}), confidence=0.07993730407523511, lift=25.831553634841285)]),\n",
       " RelationRecord(items=frozenset({704630, 714943}), support=0.00012574527075103663, ordered_statistics=[OrderedStatistic(items_base=frozenset(), items_add=frozenset({704630, 714943}), confidence=0.00012574527075103663, lift=1.0), OrderedStatistic(items_base=frozenset({704630}), items_add=frozenset({714943}), confidence=0.040634291377601585, lift=11.957630423659984), OrderedStatistic(items_base=frozenset({714943}), items_add=frozenset({704630}), confidence=0.03700361010830325, lift=11.957630423659984)]),\n",
       " RelationRecord(items=frozenset({714945, 704630}), support=0.00010427656598866452, ordered_statistics=[OrderedStatistic(items_base=frozenset(), items_add=frozenset({714945, 704630}), confidence=0.00010427656598866452, lift=1.0), OrderedStatistic(items_base=frozenset({704630}), items_add=frozenset({714945}), confidence=0.03369672943508424, lift=26.797611738258116), OrderedStatistic(items_base=frozenset({714945}), items_add=frozenset({704630}), confidence=0.08292682926829269, lift=26.797611738258116)]),\n",
       " RelationRecord(items=frozenset({704630, 715055}), support=0.00025455749932526927, ordered_statistics=[OrderedStatistic(items_base=frozenset(), items_add=frozenset({704630, 715055}), confidence=0.00025455749932526927, lift=1.0), OrderedStatistic(items_base=frozenset({704630}), items_add=frozenset({715055}), confidence=0.08225966303270564, lift=42.105583500458195), OrderedStatistic(items_base=frozenset({715055}), items_add=frozenset({704630}), confidence=0.130298273155416, lift=42.105583500458195)]),\n",
       " RelationRecord(items=frozenset({704718, 750047}), support=0.00010734352381186054, ordered_statistics=[OrderedStatistic(items_base=frozenset(), items_add=frozenset({704718, 750047}), confidence=0.00010734352381186054, lift=1.0), OrderedStatistic(items_base=frozenset({704718}), items_add=frozenset({750047}), confidence=0.06161971830985915, lift=19.99152126690491), OrderedStatistic(items_base=frozenset({750047}), items_add=frozenset({704718}), confidence=0.03482587064676617, lift=19.99152126690491)]),\n",
       " RelationRecord(items=frozenset({753509, 704718}), support=0.00010734352381186054, ordered_statistics=[OrderedStatistic(items_base=frozenset(), items_add=frozenset({753509, 704718}), confidence=0.00010734352381186054, lift=1.0), OrderedStatistic(items_base=frozenset({704718}), items_add=frozenset({753509}), confidence=0.06161971830985915, lift=6.925707988017731), OrderedStatistic(items_base=frozenset({753509}), items_add=frozenset({704718}), confidence=0.012064805239572561, lift=6.92570798801773)]),\n",
       " RelationRecord(items=frozenset({704745, 715055}), support=0.00011041048163505655, ordered_statistics=[OrderedStatistic(items_base=frozenset(), items_add=frozenset({704745, 715055}), confidence=0.00011041048163505655, lift=1.0), OrderedStatistic(items_base=frozenset({704745}), items_add=frozenset({715055}), confidence=0.11076923076923077, lift=56.698543654148054), OrderedStatistic(items_base=frozenset({715055}), items_add=frozenset({704745}), confidence=0.0565149136577708, lift=56.698543654148054)]),\n",
       " RelationRecord(items=frozenset({705529, 705523}), support=0.0003128296979659936, ordered_statistics=[OrderedStatistic(items_base=frozenset(), items_add=frozenset({705529, 705523}), confidence=0.0003128296979659936, lift=1.0), OrderedStatistic(items_base=frozenset({705523}), items_add=frozenset({705529}), confidence=0.1637239165329053, lift=20.820267289022222), OrderedStatistic(items_base=frozenset({705529}), items_add=frozenset({705523}), confidence=0.03978159126365055, lift=20.82026728902222)]),\n",
       " RelationRecord(items=frozenset({705523, 707771}), support=0.00015028093333660476, ordered_statistics=[OrderedStatistic(items_base=frozenset(), items_add=frozenset({705523, 707771}), confidence=0.00015028093333660476, lift=1.0), OrderedStatistic(items_base=frozenset({705523}), items_add=frozenset({707771}), confidence=0.07865168539325842, lift=24.80159954795384), OrderedStatistic(items_base=frozenset({707771}), items_add=frozenset({705523}), confidence=0.047388781431334626, lift=24.80159954795384)]),\n",
       " RelationRecord(items=frozenset({723555, 705523}), support=0.00011654439728144858, ordered_statistics=[OrderedStatistic(items_base=frozenset(), items_add=frozenset({723555, 705523}), confidence=0.00011654439728144858, lift=1.0), OrderedStatistic(items_base=frozenset({705523}), items_add=frozenset({723555}), confidence=0.060995184590690206, lift=59.01437954570352), OrderedStatistic(items_base=frozenset({723555}), items_add=frozenset({705523}), confidence=0.11275964391691394, lift=59.01437954570351)]),\n",
       " RelationRecord(items=frozenset({705523, 753517}), support=0.00014721397551340873, ordered_statistics=[OrderedStatistic(items_base=frozenset(), items_add=frozenset({705523, 753517}), confidence=0.00014721397551340873, lift=1.0), OrderedStatistic(items_base=frozenset({705523}), items_add=frozenset({753517}), confidence=0.07704654895666131, lift=4.0662818981245), OrderedStatistic(items_base=frozenset({753517}), items_add=frozenset({705523}), confidence=0.007769504694075752, lift=4.066281898124499)]),\n",
       " RelationRecord(items=frozenset({705523, 753542}), support=0.00010734352381186054, ordered_statistics=[OrderedStatistic(items_base=frozenset(), items_add=frozenset({705523, 753542}), confidence=0.00010734352381186054, lift=1.0), OrderedStatistic(items_base=frozenset({705523}), items_add=frozenset({753542}), confidence=0.056179775280898875, lift=5.149775881076403), OrderedStatistic(items_base=frozenset({753542}), items_add=frozenset({705523}), confidence=0.009839752600506044, lift=5.149775881076402)]),\n",
       " RelationRecord(items=frozenset({753600, 705523}), support=0.00023308879456289717, ordered_statistics=[OrderedStatistic(items_base=frozenset(), items_add=frozenset({753600, 705523}), confidence=0.00023308879456289717, lift=1.0), OrderedStatistic(items_base=frozenset({705523}), items_add=frozenset({753600}), confidence=0.12199036918138041, lift=4.126109109315785), OrderedStatistic(items_base=frozenset({753600}), items_add=frozenset({705523}), confidence=0.007883817427385892, lift=4.126109109315785)]),\n",
       " RelationRecord(items=frozenset({753609, 705523}), support=0.00015028093333660476, ordered_statistics=[OrderedStatistic(items_base=frozenset(), items_add=frozenset({753609, 705523}), confidence=0.00015028093333660476, lift=1.0), OrderedStatistic(items_base=frozenset({705523}), items_add=frozenset({753609}), confidence=0.07865168539325842, lift=3.9716360434542772), OrderedStatistic(items_base=frozenset({753609}), items_add=frozenset({705523}), confidence=0.007588663466005886, lift=3.9716360434542777)]),\n",
       " RelationRecord(items=frozenset({705524, 753517}), support=0.0001564148489829968, ordered_statistics=[OrderedStatistic(items_base=frozenset(), items_add=frozenset({705524, 753517}), confidence=0.0001564148489829968, lift=1.0), OrderedStatistic(items_base=frozenset({705524}), items_add=frozenset({753517}), confidence=0.19245283018867926, lift=10.157073486565233), OrderedStatistic(items_base=frozenset({753517}), items_add=frozenset({705524}), confidence=0.008255098737455488, lift=10.157073486565233)]),\n",
       " RelationRecord(items=frozenset({753600, 705524}), support=0.00011041048163505655, ordered_statistics=[OrderedStatistic(items_base=frozenset(), items_add=frozenset({753600, 705524}), confidence=0.00011041048163505655, lift=1.0), OrderedStatistic(items_base=frozenset({705524}), items_add=frozenset({753600}), confidence=0.13584905660377358, lift=4.594854771784232), OrderedStatistic(items_base=frozenset({753600}), items_add=frozenset({705524}), confidence=0.003734439834024896, lift=4.594854771784232)]),\n",
       " RelationRecord(items=frozenset({705529, 705527}), support=0.0001564148489829968, ordered_statistics=[OrderedStatistic(items_base=frozenset(), items_add=frozenset({705529, 705527}), confidence=0.0001564148489829968, lift=1.0), OrderedStatistic(items_base=frozenset({705527}), items_add=frozenset({705529}), confidence=0.03195488721804511, lift=4.063604799831091), OrderedStatistic(items_base=frozenset({705529}), items_add=frozenset({705527}), confidence=0.019890795631825275, lift=4.063604799831092)]),\n",
       " RelationRecord(items=frozenset({705532, 705527}), support=0.00012881222857423263, ordered_statistics=[OrderedStatistic(items_base=frozenset(), items_add=frozenset({705532, 705527}), confidence=0.00012881222857423263, lift=1.0), OrderedStatistic(items_base=frozenset({705527}), items_add=frozenset({705532}), confidence=0.026315789473684206, lift=29.48598299873394), OrderedStatistic(items_base=frozenset({705532}), items_add=frozenset({705527}), confidence=0.14432989690721648, lift=29.485982998733945)]),\n",
       " RelationRecord(items=frozenset({705551, 705527}), support=0.00034963319184434577, ordered_statistics=[OrderedStatistic(items_base=frozenset(), items_add=frozenset({705527, 705551}), confidence=0.00034963319184434577, lift=1.0), OrderedStatistic(items_base=frozenset({705527}), items_add=frozenset({705551}), confidence=0.07142857142857142, lift=31.387755102040817), OrderedStatistic(items_base=frozenset({705551}), items_add=frozenset({705527}), confidence=0.15363881401617252, lift=31.387755102040817)]),\n",
       " RelationRecord(items=frozenset({705556, 705527}), support=0.00010734352381186054, ordered_statistics=[OrderedStatistic(items_base=frozenset(), items_add=frozenset({705556, 705527}), confidence=0.00010734352381186054, lift=1.0), OrderedStatistic(items_base=frozenset({705527}), items_add=frozenset({705556}), confidence=0.021929824561403508, lift=26.982456140350877), OrderedStatistic(items_base=frozenset({705556}), items_add=frozenset({705527}), confidence=0.1320754716981132, lift=26.982456140350877)]),\n",
       " RelationRecord(items=frozenset({705571, 705527}), support=0.0003128296979659936, ordered_statistics=[OrderedStatistic(items_base=frozenset(), items_add=frozenset({705571, 705527}), confidence=0.0003128296979659936, lift=1.0), OrderedStatistic(items_base=frozenset({705527}), items_add=frozenset({705571}), confidence=0.06390977443609022, lift=51.70760648519562), OrderedStatistic(items_base=frozenset({705571}), items_add=frozenset({705527}), confidence=0.2531017369727047, lift=51.70760648519562)]),\n",
       " RelationRecord(items=frozenset({705592, 705527}), support=0.00018708442721495695, ordered_statistics=[OrderedStatistic(items_base=frozenset(), items_add=frozenset({705592, 705527}), confidence=0.00018708442721495695, lift=1.0), OrderedStatistic(items_base=frozenset({705527}), items_add=frozenset({705592}), confidence=0.03822055137844611, lift=16.100827002907785), OrderedStatistic(items_base=frozenset({705592}), items_add=frozenset({705527}), confidence=0.07881136950904394, lift=16.10082700290779)]),\n",
       " RelationRecord(items=frozenset({705593, 705527}), support=0.00014721397551340873, ordered_statistics=[OrderedStatistic(items_base=frozenset(), items_add=frozenset({705593, 705527}), confidence=0.00014721397551340873, lift=1.0), OrderedStatistic(items_base=frozenset({705527}), items_add=frozenset({705593}), confidence=0.03007518796992481, lift=15.298276893481754), OrderedStatistic(items_base=frozenset({705593}), items_add=frozenset({705527}), confidence=0.0748829953198128, lift=15.298276893481754)]),\n",
       " RelationRecord(items=frozenset({748830, 705527}), support=0.00012574527075103663, ordered_statistics=[OrderedStatistic(items_base=frozenset(), items_add=frozenset({748830, 705527}), confidence=0.00012574527075103663, lift=1.0), OrderedStatistic(items_base=frozenset({705527}), items_add=frozenset({748830}), confidence=0.02568922305764411, lift=9.661044190638071), OrderedStatistic(items_base=frozenset({748830}), items_add=frozenset({705527}), confidence=0.04728950403690888, lift=9.661044190638071)]),\n",
       " RelationRecord(items=frozenset({748903, 705527}), support=0.00013187918639742866, ordered_statistics=[OrderedStatistic(items_base=frozenset(), items_add=frozenset({705527, 748903}), confidence=0.00013187918639742866, lift=1.0), OrderedStatistic(items_base=frozenset({705527}), items_add=frozenset({748903}), confidence=0.02694235588972431, lift=4.869576935687333), OrderedStatistic(items_base=frozenset({748903}), items_add=frozenset({705527}), confidence=0.02383592017738359, lift=4.869576935687333)]),\n",
       " RelationRecord(items=frozenset({748919, 705527}), support=0.00012881222857423263, ordered_statistics=[OrderedStatistic(items_base=frozenset(), items_add=frozenset({705527, 748919}), confidence=0.00012881222857423263, lift=1.0), OrderedStatistic(items_base=frozenset({705527}), items_add=frozenset({748919}), confidence=0.026315789473684206, lift=6.958978955905578), OrderedStatistic(items_base=frozenset({748919}), items_add=frozenset({705527}), confidence=0.0340632603406326, lift=6.958978955905579)]),\n",
       " RelationRecord(items=frozenset({748938, 705527}), support=0.00026989228844124933, ordered_statistics=[OrderedStatistic(items_base=frozenset(), items_add=frozenset({748938, 705527}), confidence=0.00026989228844124933, lift=1.0), OrderedStatistic(items_base=frozenset({705527}), items_add=frozenset({748938}), confidence=0.05513784461152881, lift=7.2726638602979925), OrderedStatistic(items_base=frozenset({748938}), items_add=frozenset({705527}), confidence=0.035598705501618116, lift=7.2726638602979925)]),\n",
       " RelationRecord(items=frozenset({748950, 705527}), support=0.0001196113551046446, ordered_statistics=[OrderedStatistic(items_base=frozenset(), items_add=frozenset({748950, 705527}), confidence=0.0001196113551046446, lift=1.0), OrderedStatistic(items_base=frozenset({705527}), items_add=frozenset({748950}), confidence=0.02443609022556391, lift=5.748581410235545), OrderedStatistic(items_base=frozenset({748950}), items_add=frozenset({705527}), confidence=0.028138528138528136, lift=5.748581410235545)]),\n",
       " RelationRecord(items=frozenset({748955, 705527}), support=0.00013187918639742866, ordered_statistics=[OrderedStatistic(items_base=frozenset(), items_add=frozenset({748955, 705527}), confidence=0.00013187918639742866, lift=1.0), OrderedStatistic(items_base=frozenset({705527}), items_add=frozenset({748955}), confidence=0.02694235588972431, lift=10.108995157629401), OrderedStatistic(items_base=frozenset({748955}), items_add=frozenset({705527}), confidence=0.049482163406214044, lift=10.108995157629403)]),\n",
       " RelationRecord(items=frozenset({748957, 705527}), support=0.00020548617415413304, ordered_statistics=[OrderedStatistic(items_base=frozenset(), items_add=frozenset({748957, 705527}), confidence=0.00020548617415413304, lift=1.0), OrderedStatistic(items_base=frozenset({705527}), items_add=frozenset({748957}), confidence=0.041979949874686714, lift=7.173906989696462), OrderedStatistic(items_base=frozenset({748957}), items_add=frozenset({705527}), confidence=0.03511530398322851, lift=7.173906989696463)]),\n",
       " RelationRecord(items=frozenset({751526, 705527}), support=0.00011654439728144858, ordered_statistics=[OrderedStatistic(items_base=frozenset(), items_add=frozenset({751526, 705527}), confidence=0.00011654439728144858, lift=1.0), OrderedStatistic(items_base=frozenset({705527}), items_add=frozenset({751526}), confidence=0.023809523809523808, lift=3.478153268475849), OrderedStatistic(items_base=frozenset({751526}), items_add=frozenset({705527}), confidence=0.017025089605734768, lift=3.4781532684758494)]),\n",
       " RelationRecord(items=frozenset({751581, 705527}), support=0.00024535662585568126, ordered_statistics=[OrderedStatistic(items_base=frozenset(), items_add=frozenset({751581, 705527}), confidence=0.00024535662585568126, lift=1.0), OrderedStatistic(items_base=frozenset({705527}), items_add=frozenset({751581}), confidence=0.050125313283208024, lift=2.9862340851214464), OrderedStatistic(items_base=frozenset({751581}), items_add=frozenset({705527}), confidence=0.014617211766855475, lift=2.9862340851214464)]),\n",
       " RelationRecord(items=frozenset({751600, 705527}), support=0.00016868268027578085, ordered_statistics=[OrderedStatistic(items_base=frozenset(), items_add=frozenset({751600, 705527}), confidence=0.00016868268027578085, lift=1.0), OrderedStatistic(items_base=frozenset({705527}), items_add=frozenset({751600}), confidence=0.03446115288220551, lift=2.4421355496979786), OrderedStatistic(items_base=frozenset({751600}), items_add=frozenset({705527}), confidence=0.011953923060204303, lift=2.4421355496979786)]),\n",
       " RelationRecord(items=frozenset({752969, 705527}), support=0.00011041048163505655, ordered_statistics=[OrderedStatistic(items_base=frozenset(), items_add=frozenset({752969, 705527}), confidence=0.00011041048163505655, lift=1.0), OrderedStatistic(items_base=frozenset({705527}), items_add=frozenset({752969}), confidence=0.022556390977443608, lift=10.831585591371654), OrderedStatistic(items_base=frozenset({752969}), items_add=frozenset({705527}), confidence=0.053019145802650956, lift=10.831585591371654)]),\n",
       " RelationRecord(items=frozenset({753517, 705527}), support=0.00011347743945825257, ordered_statistics=[OrderedStatistic(items_base=frozenset(), items_add=frozenset({753517, 705527}), confidence=0.00011347743945825257, lift=1.0), OrderedStatistic(items_base=frozenset({705527}), items_add=frozenset({753517}), confidence=0.023182957393483708, lift=1.2235257940902757), OrderedStatistic(items_base=frozenset({753517}), items_add=frozenset({705527}), confidence=0.005988993201683393, lift=1.223525794090276)]),\n",
       " RelationRecord(items=frozenset({753600, 705527}), support=0.00016868268027578085, ordered_statistics=[OrderedStatistic(items_base=frozenset(), items_add=frozenset({753600, 705527}), confidence=0.00016868268027578085, lift=1.0), OrderedStatistic(items_base=frozenset({705527}), items_add=frozenset({753600}), confidence=0.03446115288220551, lift=1.1655877244979669), OrderedStatistic(items_base=frozenset({753600}), items_add=frozenset({705527}), confidence=0.005705394190871369, lift=1.1655877244979669)]),\n",
       " RelationRecord(items=frozenset({760332, 705527}), support=0.000199352258507741, ordered_statistics=[OrderedStatistic(items_base=frozenset(), items_add=frozenset({760332, 705527}), confidence=0.000199352258507741, lift=1.0), OrderedStatistic(items_base=frozenset({705527}), items_add=frozenset({760332}), confidence=0.040726817042606514, lift=4.348141145266572), OrderedStatistic(items_base=frozenset({760332}), items_add=frozenset({705527}), confidence=0.02128356254092993, lift=4.348141145266572)]),\n",
       " RelationRecord(items=frozenset({760336, 705527}), support=0.00016868268027578085, ordered_statistics=[OrderedStatistic(items_base=frozenset(), items_add=frozenset({760336, 705527}), confidence=0.00016868268027578085, lift=1.0), OrderedStatistic(items_base=frozenset({705527}), items_add=frozenset({760336}), confidence=0.03446115288220551, lift=7.974638512533996), OrderedStatistic(items_base=frozenset({760336}), items_add=frozenset({705527}), confidence=0.0390347764371895, lift=7.974638512533997)]),\n",
       " ...]"
      ]
     },
     "execution_count": 13,
     "metadata": {},
     "output_type": "execute_result"
    }
   ],
   "source": [
    "rules "
   ]
  },
  {
   "cell_type": "code",
   "execution_count": null,
   "metadata": {},
   "outputs": [],
   "source": []
  },
  {
   "cell_type": "code",
   "execution_count": null,
   "metadata": {},
   "outputs": [],
   "source": []
  },
  {
   "cell_type": "code",
   "execution_count": null,
   "metadata": {},
   "outputs": [],
   "source": []
  },
  {
   "cell_type": "code",
   "execution_count": null,
   "metadata": {},
   "outputs": [],
   "source": []
  }
 ],
 "metadata": {
  "kernelspec": {
   "display_name": "Python 3.7.3 ('base')",
   "language": "python",
   "name": "python3"
  },
  "language_info": {
   "codemirror_mode": {
    "name": "ipython",
    "version": 3
   },
   "file_extension": ".py",
   "mimetype": "text/x-python",
   "name": "python",
   "nbconvert_exporter": "python",
   "pygments_lexer": "ipython3",
   "version": "3.7.3"
  },
  "orig_nbformat": 4,
  "vscode": {
   "interpreter": {
    "hash": "ad2bdc8ecc057115af97d19610ffacc2b4e99fae6737bb82f5d7fb13d2f2c186"
   }
  }
 },
 "nbformat": 4,
 "nbformat_minor": 2
}
