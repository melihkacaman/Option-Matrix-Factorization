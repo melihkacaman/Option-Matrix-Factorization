{
 "cells": [
  {
   "cell_type": "markdown",
   "metadata": {},
   "source": [
    "# Get the Rating Matrix"
   ]
  },
  {
   "cell_type": "code",
   "execution_count": 1,
   "metadata": {},
   "outputs": [],
   "source": [
    "import pickle \n",
    "\n",
    "pickle_in = open(\"../datasets/rating_matrix.pickle\",\"rb\")\n",
    "rating_matrix = pickle.load(pickle_in) \n",
    "pickle_in.close() "
   ]
  },
  {
   "cell_type": "code",
   "execution_count": 2,
   "metadata": {},
   "outputs": [
    {
     "data": {
      "text/plain": [
       "dict"
      ]
     },
     "execution_count": 2,
     "metadata": {},
     "output_type": "execute_result"
    }
   ],
   "source": [
    "type(rating_matrix)"
   ]
  },
  {
   "cell_type": "code",
   "execution_count": 3,
   "metadata": {},
   "outputs": [],
   "source": [
    "# !pip install apyori"
   ]
  },
  {
   "cell_type": "code",
   "execution_count": 4,
   "metadata": {},
   "outputs": [],
   "source": [
    "# !pip install mlxtend  "
   ]
  },
  {
   "cell_type": "code",
   "execution_count": 5,
   "metadata": {},
   "outputs": [],
   "source": [
    "# !pip install efficient-apriori"
   ]
  },
  {
   "cell_type": "code",
   "execution_count": 6,
   "metadata": {},
   "outputs": [
    {
     "data": {
      "text/html": [
       "<div>\n",
       "<style scoped>\n",
       "    .dataframe tbody tr th:only-of-type {\n",
       "        vertical-align: middle;\n",
       "    }\n",
       "\n",
       "    .dataframe tbody tr th {\n",
       "        vertical-align: top;\n",
       "    }\n",
       "\n",
       "    .dataframe thead th {\n",
       "        text-align: right;\n",
       "    }\n",
       "</style>\n",
       "<table border=\"1\" class=\"dataframe\">\n",
       "  <thead>\n",
       "    <tr style=\"text-align: right;\">\n",
       "      <th></th>\n",
       "      <th>option_x</th>\n",
       "      <th>option_y</th>\n",
       "      <th>rating</th>\n",
       "    </tr>\n",
       "  </thead>\n",
       "  <tbody>\n",
       "    <tr>\n",
       "      <th>0</th>\n",
       "      <td>745321</td>\n",
       "      <td>666652</td>\n",
       "      <td>1</td>\n",
       "    </tr>\n",
       "    <tr>\n",
       "      <th>1</th>\n",
       "      <td>745321</td>\n",
       "      <td>751782</td>\n",
       "      <td>1</td>\n",
       "    </tr>\n",
       "    <tr>\n",
       "      <th>2</th>\n",
       "      <td>745321</td>\n",
       "      <td>751839</td>\n",
       "      <td>10</td>\n",
       "    </tr>\n",
       "    <tr>\n",
       "      <th>3</th>\n",
       "      <td>666652</td>\n",
       "      <td>751782</td>\n",
       "      <td>1</td>\n",
       "    </tr>\n",
       "    <tr>\n",
       "      <th>4</th>\n",
       "      <td>666652</td>\n",
       "      <td>751839</td>\n",
       "      <td>1</td>\n",
       "    </tr>\n",
       "  </tbody>\n",
       "</table>\n",
       "</div>"
      ],
      "text/plain": [
       "   option_x  option_y  rating\n",
       "0    745321    666652       1\n",
       "1    745321    751782       1\n",
       "2    745321    751839      10\n",
       "3    666652    751782       1\n",
       "4    666652    751839       1"
      ]
     },
     "execution_count": 6,
     "metadata": {},
     "output_type": "execute_result"
    }
   ],
   "source": [
    "import pandas as pd \n",
    "\n",
    "data = pd.Series(rating_matrix).reset_index() \n",
    "data.columns = [\"option_x\", \"option_y\", \"rating\"] \n",
    "\n",
    "data.head() "
   ]
  },
  {
   "cell_type": "code",
   "execution_count": 7,
   "metadata": {},
   "outputs": [
    {
     "data": {
      "text/html": [
       "<div>\n",
       "<style scoped>\n",
       "    .dataframe tbody tr th:only-of-type {\n",
       "        vertical-align: middle;\n",
       "    }\n",
       "\n",
       "    .dataframe tbody tr th {\n",
       "        vertical-align: top;\n",
       "    }\n",
       "\n",
       "    .dataframe thead th {\n",
       "        text-align: right;\n",
       "    }\n",
       "</style>\n",
       "<table border=\"1\" class=\"dataframe\">\n",
       "  <thead>\n",
       "    <tr style=\"text-align: right;\">\n",
       "      <th></th>\n",
       "      <th>rating</th>\n",
       "      <th>bill</th>\n",
       "    </tr>\n",
       "  </thead>\n",
       "  <tbody>\n",
       "    <tr>\n",
       "      <th>0</th>\n",
       "      <td>1</td>\n",
       "      <td>(745321, 666652)</td>\n",
       "    </tr>\n",
       "    <tr>\n",
       "      <th>1</th>\n",
       "      <td>1</td>\n",
       "      <td>(745321, 751782)</td>\n",
       "    </tr>\n",
       "    <tr>\n",
       "      <th>2</th>\n",
       "      <td>10</td>\n",
       "      <td>(745321, 751839)</td>\n",
       "    </tr>\n",
       "    <tr>\n",
       "      <th>3</th>\n",
       "      <td>1</td>\n",
       "      <td>(666652, 751782)</td>\n",
       "    </tr>\n",
       "    <tr>\n",
       "      <th>4</th>\n",
       "      <td>1</td>\n",
       "      <td>(666652, 751839)</td>\n",
       "    </tr>\n",
       "  </tbody>\n",
       "</table>\n",
       "</div>"
      ],
      "text/plain": [
       "   rating              bill\n",
       "0       1  (745321, 666652)\n",
       "1       1  (745321, 751782)\n",
       "2      10  (745321, 751839)\n",
       "3       1  (666652, 751782)\n",
       "4       1  (666652, 751839)"
      ]
     },
     "execution_count": 7,
     "metadata": {},
     "output_type": "execute_result"
    }
   ],
   "source": [
    "data_with_3 = pd.read_csv(\"../datasets/ratings_with_3_combinations.csv\")[[\"rating\", \"bill\"]]\n",
    "\n",
    "data_with_3.head()"
   ]
  },
  {
   "cell_type": "code",
   "execution_count": 8,
   "metadata": {},
   "outputs": [
    {
     "data": {
      "text/html": [
       "<div>\n",
       "<style scoped>\n",
       "    .dataframe tbody tr th:only-of-type {\n",
       "        vertical-align: middle;\n",
       "    }\n",
       "\n",
       "    .dataframe tbody tr th {\n",
       "        vertical-align: top;\n",
       "    }\n",
       "\n",
       "    .dataframe thead th {\n",
       "        text-align: right;\n",
       "    }\n",
       "</style>\n",
       "<table border=\"1\" class=\"dataframe\">\n",
       "  <thead>\n",
       "    <tr style=\"text-align: right;\">\n",
       "      <th></th>\n",
       "      <th>rating</th>\n",
       "      <th>bill</th>\n",
       "    </tr>\n",
       "  </thead>\n",
       "  <tbody>\n",
       "    <tr>\n",
       "      <th>2</th>\n",
       "      <td>10</td>\n",
       "      <td>(745321, 751839)</td>\n",
       "    </tr>\n",
       "    <tr>\n",
       "      <th>5</th>\n",
       "      <td>151</td>\n",
       "      <td>(751782, 751839)</td>\n",
       "    </tr>\n",
       "    <tr>\n",
       "      <th>10</th>\n",
       "      <td>107</td>\n",
       "      <td>(751873, 760125)</td>\n",
       "    </tr>\n",
       "    <tr>\n",
       "      <th>11</th>\n",
       "      <td>12</td>\n",
       "      <td>(772494, 754574)</td>\n",
       "    </tr>\n",
       "    <tr>\n",
       "      <th>13</th>\n",
       "      <td>11</td>\n",
       "      <td>(772494, 749358)</td>\n",
       "    </tr>\n",
       "  </tbody>\n",
       "</table>\n",
       "</div>"
      ],
      "text/plain": [
       "    rating              bill\n",
       "2       10  (745321, 751839)\n",
       "5      151  (751782, 751839)\n",
       "10     107  (751873, 760125)\n",
       "11      12  (772494, 754574)\n",
       "13      11  (772494, 749358)"
      ]
     },
     "execution_count": 8,
     "metadata": {},
     "output_type": "execute_result"
    }
   ],
   "source": [
    "data_3_greater_1 = data_with_3[data_with_3.rating > 1] \n",
    "\n",
    "data_3_greater_1.head() "
   ]
  },
  {
   "cell_type": "code",
   "execution_count": 9,
   "metadata": {},
   "outputs": [
    {
     "data": {
      "text/plain": [
       "(5216080, 771062)"
      ]
     },
     "execution_count": 9,
     "metadata": {},
     "output_type": "execute_result"
    }
   ],
   "source": [
    "len(data_with_3), len(data)"
   ]
  },
  {
   "cell_type": "code",
   "execution_count": 10,
   "metadata": {},
   "outputs": [
    {
     "data": {
      "text/html": [
       "<div>\n",
       "<style scoped>\n",
       "    .dataframe tbody tr th:only-of-type {\n",
       "        vertical-align: middle;\n",
       "    }\n",
       "\n",
       "    .dataframe tbody tr th {\n",
       "        vertical-align: top;\n",
       "    }\n",
       "\n",
       "    .dataframe thead th {\n",
       "        text-align: right;\n",
       "    }\n",
       "</style>\n",
       "<table border=\"1\" class=\"dataframe\">\n",
       "  <thead>\n",
       "    <tr style=\"text-align: right;\">\n",
       "      <th></th>\n",
       "      <th>option_x</th>\n",
       "      <th>option_y</th>\n",
       "      <th>rating</th>\n",
       "    </tr>\n",
       "  </thead>\n",
       "  <tbody>\n",
       "    <tr>\n",
       "      <th>count</th>\n",
       "      <td>771062.000000</td>\n",
       "      <td>771062.000000</td>\n",
       "      <td>771062.000000</td>\n",
       "    </tr>\n",
       "    <tr>\n",
       "      <th>mean</th>\n",
       "      <td>735325.372226</td>\n",
       "      <td>735395.857417</td>\n",
       "      <td>2.418680</td>\n",
       "    </tr>\n",
       "    <tr>\n",
       "      <th>std</th>\n",
       "      <td>42364.768430</td>\n",
       "      <td>42085.392109</td>\n",
       "      <td>9.794105</td>\n",
       "    </tr>\n",
       "    <tr>\n",
       "      <th>min</th>\n",
       "      <td>16329.000000</td>\n",
       "      <td>10494.000000</td>\n",
       "      <td>1.000000</td>\n",
       "    </tr>\n",
       "    <tr>\n",
       "      <th>25%</th>\n",
       "      <td>714744.000000</td>\n",
       "      <td>714645.000000</td>\n",
       "      <td>1.000000</td>\n",
       "    </tr>\n",
       "    <tr>\n",
       "      <th>50%</th>\n",
       "      <td>751526.000000</td>\n",
       "      <td>751358.000000</td>\n",
       "      <td>1.000000</td>\n",
       "    </tr>\n",
       "    <tr>\n",
       "      <th>75%</th>\n",
       "      <td>760344.000000</td>\n",
       "      <td>760209.000000</td>\n",
       "      <td>2.000000</td>\n",
       "    </tr>\n",
       "    <tr>\n",
       "      <th>max</th>\n",
       "      <td>823758.000000</td>\n",
       "      <td>823758.000000</td>\n",
       "      <td>2254.000000</td>\n",
       "    </tr>\n",
       "  </tbody>\n",
       "</table>\n",
       "</div>"
      ],
      "text/plain": [
       "            option_x       option_y         rating\n",
       "count  771062.000000  771062.000000  771062.000000\n",
       "mean   735325.372226  735395.857417       2.418680\n",
       "std     42364.768430   42085.392109       9.794105\n",
       "min     16329.000000   10494.000000       1.000000\n",
       "25%    714744.000000  714645.000000       1.000000\n",
       "50%    751526.000000  751358.000000       1.000000\n",
       "75%    760344.000000  760209.000000       2.000000\n",
       "max    823758.000000  823758.000000    2254.000000"
      ]
     },
     "execution_count": 10,
     "metadata": {},
     "output_type": "execute_result"
    }
   ],
   "source": [
    "data.describe()"
   ]
  },
  {
   "cell_type": "code",
   "execution_count": 11,
   "metadata": {},
   "outputs": [
    {
     "data": {
      "image/png": "[encoded data removed]",
      "text/plain": [
       "<Figure size 720x432 with 1 Axes>"
      ]
     },
     "metadata": {
      "needs_background": "light"
     },
     "output_type": "display_data"
    }
   ],
   "source": [
    "# If the distribution of the quantity is normal, then it should be standardized, otherwise, the data should be normalized.\n",
    "import matplotlib.pyplot as plt \n",
    "\n",
    "plt.figure(figsize=(10,6))\n",
    "plt.hist(data_3_greater_1['rating'], bins=100, ec='black', color='#2196f3')\n",
    "plt.xlabel('ratings')\n",
    "plt.ylabel('Nr. of Houses')\n",
    "plt.show()"
   ]
  },
  {
   "cell_type": "code",
   "execution_count": 12,
   "metadata": {},
   "outputs": [
    {
     "data": {
      "text/plain": [
       "(2254, 2)"
      ]
     },
     "execution_count": 12,
     "metadata": {},
     "output_type": "execute_result"
    }
   ],
   "source": [
    "max(data_3_greater_1.rating),  min(data_3_greater_1.rating)"
   ]
  },
  {
   "cell_type": "code",
   "execution_count": 13,
   "metadata": {},
   "outputs": [
    {
     "name": "stderr",
     "output_type": "stream",
     "text": [
      "c:\\Users\\melih.kacaman\\Anaconda3\\lib\\site-packages\\seaborn\\_decorators.py:36: FutureWarning: Pass the following variable as a keyword arg: x. From version 0.12, the only valid positional argument will be `data`, and passing other arguments without an explicit keyword will result in an error or misinterpretation.\n",
      "  warnings.warn(\n"
     ]
    },
    {
     "data": {
      "text/plain": [
       "<AxesSubplot:>"
      ]
     },
     "execution_count": 13,
     "metadata": {},
     "output_type": "execute_result"
    },
    {
     "data": {
      "image/png": "[encoded data removed]",
      "text/plain": [
       "<Figure size 432x288 with 1 Axes>"
      ]
     },
     "metadata": {
      "needs_background": "light"
     },
     "output_type": "display_data"
    }
   ],
   "source": [
    "import seaborn as sns\n",
    "sns.boxplot(data_3_greater_1['rating'].unique())"
   ]
  },
  {
   "cell_type": "code",
   "execution_count": 14,
   "metadata": {},
   "outputs": [
    {
     "data": {
      "text/html": [
       "<div>\n",
       "<style scoped>\n",
       "    .dataframe tbody tr th:only-of-type {\n",
       "        vertical-align: middle;\n",
       "    }\n",
       "\n",
       "    .dataframe tbody tr th {\n",
       "        vertical-align: top;\n",
       "    }\n",
       "\n",
       "    .dataframe thead th {\n",
       "        text-align: right;\n",
       "    }\n",
       "</style>\n",
       "<table border=\"1\" class=\"dataframe\">\n",
       "  <thead>\n",
       "    <tr style=\"text-align: right;\">\n",
       "      <th></th>\n",
       "      <th>rating</th>\n",
       "      <th>bill</th>\n",
       "    </tr>\n",
       "  </thead>\n",
       "  <tbody>\n",
       "    <tr>\n",
       "      <th>2</th>\n",
       "      <td>2.302585</td>\n",
       "      <td>(745321, 751839)</td>\n",
       "    </tr>\n",
       "    <tr>\n",
       "      <th>5</th>\n",
       "      <td>5.017280</td>\n",
       "      <td>(751782, 751839)</td>\n",
       "    </tr>\n",
       "    <tr>\n",
       "      <th>10</th>\n",
       "      <td>4.672829</td>\n",
       "      <td>(751873, 760125)</td>\n",
       "    </tr>\n",
       "    <tr>\n",
       "      <th>11</th>\n",
       "      <td>2.484907</td>\n",
       "      <td>(772494, 754574)</td>\n",
       "    </tr>\n",
       "    <tr>\n",
       "      <th>13</th>\n",
       "      <td>2.397895</td>\n",
       "      <td>(772494, 749358)</td>\n",
       "    </tr>\n",
       "  </tbody>\n",
       "</table>\n",
       "</div>"
      ],
      "text/plain": [
       "      rating              bill\n",
       "2   2.302585  (745321, 751839)\n",
       "5   5.017280  (751782, 751839)\n",
       "10  4.672829  (751873, 760125)\n",
       "11  2.484907  (772494, 754574)\n",
       "13  2.397895  (772494, 749358)"
      ]
     },
     "execution_count": 14,
     "metadata": {},
     "output_type": "execute_result"
    }
   ],
   "source": [
    "import numpy as np\n",
    "data_3_greater_1_log = data_3_greater_1.copy() \n",
    "data_3_greater_1_log[\"rating\"] = np.log(data_3_greater_1.rating) \n",
    "\n",
    "data_3_greater_1_log.head() "
   ]
  },
  {
   "cell_type": "code",
   "execution_count": 15,
   "metadata": {},
   "outputs": [
    {
     "data": {
      "text/plain": [
       "(7.720461694599722, 0.6931471805599453)"
      ]
     },
     "execution_count": 15,
     "metadata": {},
     "output_type": "execute_result"
    }
   ],
   "source": [
    "max(data_3_greater_1_log.rating),  min(data_3_greater_1_log.rating)"
   ]
  },
  {
   "cell_type": "code",
   "execution_count": 16,
   "metadata": {},
   "outputs": [
    {
     "data": {
      "image/png": "[encoded data removed]",
      "text/plain": [
       "<Figure size 720x432 with 1 Axes>"
      ]
     },
     "metadata": {
      "needs_background": "light"
     },
     "output_type": "display_data"
    }
   ],
   "source": [
    "# If the distribution of the quantity is normal, then it should be standardized, otherwise, the data should be normalized.\n",
    "import matplotlib.pyplot as plt \n",
    "\n",
    "plt.figure(figsize=(10,6))\n",
    "plt.hist(data_3_greater_1_log['rating'], bins=100, ec='black', color='#2196f3')\n",
    "plt.xlabel('ratings')\n",
    "plt.ylabel('Nr. of Houses')\n",
    "plt.show()"
   ]
  },
  {
   "cell_type": "code",
   "execution_count": 17,
   "metadata": {},
   "outputs": [
    {
     "name": "stderr",
     "output_type": "stream",
     "text": [
      "c:\\Users\\melih.kacaman\\Anaconda3\\lib\\site-packages\\seaborn\\_decorators.py:36: FutureWarning: Pass the following variable as a keyword arg: x. From version 0.12, the only valid positional argument will be `data`, and passing other arguments without an explicit keyword will result in an error or misinterpretation.\n",
      "  warnings.warn(\n"
     ]
    },
    {
     "data": {
      "text/plain": [
       "<AxesSubplot:>"
      ]
     },
     "execution_count": 17,
     "metadata": {},
     "output_type": "execute_result"
    },
    {
     "data": {
      "image/png": "[encoded data removed]",
      "text/plain": [
       "<Figure size 432x288 with 1 Axes>"
      ]
     },
     "metadata": {
      "needs_background": "light"
     },
     "output_type": "display_data"
    }
   ],
   "source": [
    "import seaborn as sns\n",
    "sns.boxplot(data_3_greater_1_log['rating'].unique())"
   ]
  },
  {
   "cell_type": "code",
   "execution_count": 18,
   "metadata": {},
   "outputs": [
    {
     "name": "stdout",
     "output_type": "stream",
     "text": [
      "data_3_greater_1_log has IQR: 0.6931471805599453\n"
     ]
    }
   ],
   "source": [
    "import numpy as np \n",
    "Q1 = np.percentile(data_3_greater_1_log['rating'], 25,\n",
    "                   interpolation = 'midpoint')\n",
    " \n",
    "Q3 = np.percentile(data_3_greater_1_log['rating'], 75,\n",
    "                   interpolation = 'midpoint')\n",
    "IQR = Q3 - Q1\n",
    "\n",
    "print(\"data_3_greater_1_log has IQR:\", IQR) "
   ]
  },
  {
   "cell_type": "code",
   "execution_count": 212,
   "metadata": {},
   "outputs": [],
   "source": [
    "data_raw = pd.read_csv(\"../datasets/raw_data.csv\") "
   ]
  },
  {
   "cell_type": "code",
   "execution_count": 217,
   "metadata": {},
   "outputs": [
    {
     "data": {
      "text/html": [
       "<div>\n",
       "<style scoped>\n",
       "    .dataframe tbody tr th:only-of-type {\n",
       "        vertical-align: middle;\n",
       "    }\n",
       "\n",
       "    .dataframe tbody tr th {\n",
       "        vertical-align: top;\n",
       "    }\n",
       "\n",
       "    .dataframe thead th {\n",
       "        text-align: right;\n",
       "    }\n",
       "</style>\n",
       "<table border=\"1\" class=\"dataframe\">\n",
       "  <thead>\n",
       "    <tr style=\"text-align: right;\">\n",
       "      <th></th>\n",
       "      <th>Unnamed: 0</th>\n",
       "      <th>optionId</th>\n",
       "      <th>bill</th>\n",
       "    </tr>\n",
       "  </thead>\n",
       "  <tbody>\n",
       "    <tr>\n",
       "      <th>0</th>\n",
       "      <td>0</td>\n",
       "      <td>751839</td>\n",
       "      <td>1</td>\n",
       "    </tr>\n",
       "    <tr>\n",
       "      <th>1</th>\n",
       "      <td>1</td>\n",
       "      <td>751782</td>\n",
       "      <td>1</td>\n",
       "    </tr>\n",
       "    <tr>\n",
       "      <th>2</th>\n",
       "      <td>2</td>\n",
       "      <td>745321</td>\n",
       "      <td>1</td>\n",
       "    </tr>\n",
       "    <tr>\n",
       "      <th>3</th>\n",
       "      <td>3</td>\n",
       "      <td>666652</td>\n",
       "      <td>1</td>\n",
       "    </tr>\n",
       "    <tr>\n",
       "      <th>4</th>\n",
       "      <td>4</td>\n",
       "      <td>751873</td>\n",
       "      <td>2</td>\n",
       "    </tr>\n",
       "  </tbody>\n",
       "</table>\n",
       "</div>"
      ],
      "text/plain": [
       "   Unnamed: 0  optionId  bill\n",
       "0           0    751839     1\n",
       "1           1    751782     1\n",
       "2           2    745321     1\n",
       "3           3    666652     1\n",
       "4           4    751873     2"
      ]
     },
     "execution_count": 217,
     "metadata": {},
     "output_type": "execute_result"
    }
   ],
   "source": [
    "data_raw.head() "
   ]
  },
  {
   "cell_type": "code",
   "execution_count": 244,
   "metadata": {},
   "outputs": [
    {
     "data": {
      "text/html": [
       "<div>\n",
       "<style scoped>\n",
       "    .dataframe tbody tr th:only-of-type {\n",
       "        vertical-align: middle;\n",
       "    }\n",
       "\n",
       "    .dataframe tbody tr th {\n",
       "        vertical-align: top;\n",
       "    }\n",
       "\n",
       "    .dataframe thead th {\n",
       "        text-align: right;\n",
       "    }\n",
       "</style>\n",
       "<table border=\"1\" class=\"dataframe\">\n",
       "  <thead>\n",
       "    <tr style=\"text-align: right;\">\n",
       "      <th></th>\n",
       "      <th>Unnamed: 0</th>\n",
       "      <th>optionId</th>\n",
       "      <th>bill</th>\n",
       "    </tr>\n",
       "  </thead>\n",
       "  <tbody>\n",
       "    <tr>\n",
       "      <th>0</th>\n",
       "      <td>0</td>\n",
       "      <td>751839</td>\n",
       "      <td>1</td>\n",
       "    </tr>\n",
       "    <tr>\n",
       "      <th>1</th>\n",
       "      <td>1</td>\n",
       "      <td>751782</td>\n",
       "      <td>1</td>\n",
       "    </tr>\n",
       "    <tr>\n",
       "      <th>2</th>\n",
       "      <td>2</td>\n",
       "      <td>745321</td>\n",
       "      <td>1</td>\n",
       "    </tr>\n",
       "    <tr>\n",
       "      <th>3</th>\n",
       "      <td>3</td>\n",
       "      <td>666652</td>\n",
       "      <td>1</td>\n",
       "    </tr>\n",
       "    <tr>\n",
       "      <th>4</th>\n",
       "      <td>4</td>\n",
       "      <td>751873</td>\n",
       "      <td>2</td>\n",
       "    </tr>\n",
       "    <tr>\n",
       "      <th>...</th>\n",
       "      <td>...</td>\n",
       "      <td>...</td>\n",
       "      <td>...</td>\n",
       "    </tr>\n",
       "    <tr>\n",
       "      <th>1023028</th>\n",
       "      <td>1023028</td>\n",
       "      <td>764458</td>\n",
       "      <td>326055</td>\n",
       "    </tr>\n",
       "    <tr>\n",
       "      <th>1023029</th>\n",
       "      <td>1023029</td>\n",
       "      <td>764905</td>\n",
       "      <td>326056</td>\n",
       "    </tr>\n",
       "    <tr>\n",
       "      <th>1023030</th>\n",
       "      <td>1023030</td>\n",
       "      <td>774483</td>\n",
       "      <td>326056</td>\n",
       "    </tr>\n",
       "    <tr>\n",
       "      <th>1023031</th>\n",
       "      <td>1023031</td>\n",
       "      <td>752244</td>\n",
       "      <td>326057</td>\n",
       "    </tr>\n",
       "    <tr>\n",
       "      <th>1023032</th>\n",
       "      <td>1023032</td>\n",
       "      <td>753120</td>\n",
       "      <td>326057</td>\n",
       "    </tr>\n",
       "  </tbody>\n",
       "</table>\n",
       "<p>1023033 rows × 3 columns</p>\n",
       "</div>"
      ],
      "text/plain": [
       "         Unnamed: 0  optionId    bill\n",
       "0                 0    751839       1\n",
       "1                 1    751782       1\n",
       "2                 2    745321       1\n",
       "3                 3    666652       1\n",
       "4                 4    751873       2\n",
       "...             ...       ...     ...\n",
       "1023028     1023028    764458  326055\n",
       "1023029     1023029    764905  326056\n",
       "1023030     1023030    774483  326056\n",
       "1023031     1023031    752244  326057\n",
       "1023032     1023032    753120  326057\n",
       "\n",
       "[1023033 rows x 3 columns]"
      ]
     },
     "execution_count": 244,
     "metadata": {},
     "output_type": "execute_result"
    }
   ],
   "source": [
    "data_raw"
   ]
  },
  {
   "cell_type": "code",
   "execution_count": 226,
   "metadata": {},
   "outputs": [
    {
     "data": {
      "text/plain": [
       "[(745321, 666652, 751782, 751839),\n",
       " (751873, 760125),\n",
       " (772494, 754574, 745328, 749358, 745310)]"
      ]
     },
     "execution_count": 226,
     "metadata": {},
     "output_type": "execute_result"
    }
   ],
   "source": [
    "transactions = [] \n",
    "\n",
    "bill = 1\n",
    "option_bill = [] \n",
    "\n",
    "for index,row in data_raw.iterrows(): \n",
    "    if(row.bill == bill):\n",
    "        option_bill.append(row.optionId)\n",
    "    else:\n",
    "        bill = row.bill \n",
    "        transactions.append(tuple(set(option_bill))) \n",
    "        option_bill.clear()\n",
    "        option_bill.append(row.optionId)  \n",
    "\n",
    "\n",
    "transactions[:3]"
   ]
  },
  {
   "cell_type": "markdown",
   "metadata": {},
   "source": [
    "# Model 1: Matrix Factorization Using Keras "
   ]
  },
  {
   "cell_type": "markdown",
   "metadata": {},
   "source": [
    "#### Data Prep for MF "
   ]
  },
  {
   "cell_type": "code",
   "execution_count": 19,
   "metadata": {},
   "outputs": [
    {
     "data": {
      "text/html": [
       "<div>\n",
       "<style scoped>\n",
       "    .dataframe tbody tr th:only-of-type {\n",
       "        vertical-align: middle;\n",
       "    }\n",
       "\n",
       "    .dataframe tbody tr th {\n",
       "        vertical-align: top;\n",
       "    }\n",
       "\n",
       "    .dataframe thead th {\n",
       "        text-align: right;\n",
       "    }\n",
       "</style>\n",
       "<table border=\"1\" class=\"dataframe\">\n",
       "  <thead>\n",
       "    <tr style=\"text-align: right;\">\n",
       "      <th></th>\n",
       "      <th>rating</th>\n",
       "      <th>bill</th>\n",
       "    </tr>\n",
       "  </thead>\n",
       "  <tbody>\n",
       "    <tr>\n",
       "      <th>2</th>\n",
       "      <td>2.302585</td>\n",
       "      <td>(745321, 751839)</td>\n",
       "    </tr>\n",
       "    <tr>\n",
       "      <th>5</th>\n",
       "      <td>5.017280</td>\n",
       "      <td>(751782, 751839)</td>\n",
       "    </tr>\n",
       "    <tr>\n",
       "      <th>10</th>\n",
       "      <td>4.672829</td>\n",
       "      <td>(751873, 760125)</td>\n",
       "    </tr>\n",
       "    <tr>\n",
       "      <th>11</th>\n",
       "      <td>2.484907</td>\n",
       "      <td>(772494, 754574)</td>\n",
       "    </tr>\n",
       "    <tr>\n",
       "      <th>13</th>\n",
       "      <td>2.397895</td>\n",
       "      <td>(772494, 749358)</td>\n",
       "    </tr>\n",
       "  </tbody>\n",
       "</table>\n",
       "</div>"
      ],
      "text/plain": [
       "      rating              bill\n",
       "2   2.302585  (745321, 751839)\n",
       "5   5.017280  (751782, 751839)\n",
       "10  4.672829  (751873, 760125)\n",
       "11  2.484907  (772494, 754574)\n",
       "13  2.397895  (772494, 749358)"
      ]
     },
     "execution_count": 19,
     "metadata": {},
     "output_type": "execute_result"
    }
   ],
   "source": [
    "data_3_greater_1_log.head() "
   ]
  },
  {
   "cell_type": "code",
   "execution_count": 20,
   "metadata": {},
   "outputs": [
    {
     "data": {
      "text/plain": [
       "(448529,)"
      ]
     },
     "execution_count": 20,
     "metadata": {},
     "output_type": "execute_result"
    }
   ],
   "source": [
    "data_3_greater_1_log.bill.unique().shape"
   ]
  },
  {
   "cell_type": "code",
   "execution_count": 21,
   "metadata": {},
   "outputs": [
    {
     "name": "stdout",
     "output_type": "stream",
     "text": [
      "<class 'pandas.core.frame.DataFrame'>\n",
      "Int64Index: 448529 entries, 2 to 5215140\n",
      "Data columns (total 2 columns):\n",
      " #   Column  Non-Null Count   Dtype  \n",
      "---  ------  --------------   -----  \n",
      " 0   rating  448529 non-null  float64\n",
      " 1   bill    448529 non-null  object \n",
      "dtypes: float64(1), object(1)\n",
      "memory usage: 10.3+ MB\n"
     ]
    }
   ],
   "source": [
    "data_3_greater_1_log.info() "
   ]
  },
  {
   "cell_type": "code",
   "execution_count": 22,
   "metadata": {},
   "outputs": [
    {
     "name": "stdout",
     "output_type": "stream",
     "text": [
      "<class 'pandas.core.frame.DataFrame'>\n",
      "Int64Index: 448529 entries, 2 to 5215140\n",
      "Data columns (total 2 columns):\n",
      " #   Column  Non-Null Count   Dtype  \n",
      "---  ------  --------------   -----  \n",
      " 0   rating  448529 non-null  float64\n",
      " 1   bill    448529 non-null  object \n",
      "dtypes: float64(1), object(1)\n",
      "memory usage: 10.3+ MB\n"
     ]
    }
   ],
   "source": [
    "from ast import literal_eval\n",
    "\n",
    "data_3_greater_1_log.bill = data_3_greater_1_log.bill.apply(literal_eval) \n",
    "data_3_greater_1_log.info() "
   ]
  },
  {
   "cell_type": "code",
   "execution_count": 23,
   "metadata": {},
   "outputs": [
    {
     "data": {
      "text/plain": [
       "tuple"
      ]
     },
     "execution_count": 23,
     "metadata": {},
     "output_type": "execute_result"
    }
   ],
   "source": [
    "type(data_3_greater_1_log.bill.iat[0])"
   ]
  },
  {
   "cell_type": "code",
   "execution_count": 24,
   "metadata": {},
   "outputs": [
    {
     "data": {
      "text/plain": [
       "(749358, 754574)"
      ]
     },
     "execution_count": 24,
     "metadata": {},
     "output_type": "execute_result"
    }
   ],
   "source": [
    "statement = (772494, 754574, 749358) \n",
    "s_set = set(statement) \n",
    "tuple(s_set.difference([772494]))"
   ]
  },
  {
   "cell_type": "code",
   "execution_count": 25,
   "metadata": {},
   "outputs": [],
   "source": [
    "def split_bill(statement):\n",
    "    return [\n",
    "        (tuple(set(statement).difference([statement[0]])), statement[0]),\n",
    "        (tuple(set(statement).difference([statement[1]])), statement[1]),\n",
    "        (tuple(set(statement).difference([statement[2]])), statement[2])\n",
    "    ]"
   ]
  },
  {
   "cell_type": "code",
   "execution_count": 26,
   "metadata": {},
   "outputs": [
    {
     "data": {
      "text/html": [
       "<div>\n",
       "<style scoped>\n",
       "    .dataframe tbody tr th:only-of-type {\n",
       "        vertical-align: middle;\n",
       "    }\n",
       "\n",
       "    .dataframe tbody tr th {\n",
       "        vertical-align: top;\n",
       "    }\n",
       "\n",
       "    .dataframe thead th {\n",
       "        text-align: right;\n",
       "    }\n",
       "</style>\n",
       "<table border=\"1\" class=\"dataframe\">\n",
       "  <thead>\n",
       "    <tr style=\"text-align: right;\">\n",
       "      <th></th>\n",
       "      <th>rating</th>\n",
       "      <th>bill</th>\n",
       "      <th>option_count</th>\n",
       "    </tr>\n",
       "  </thead>\n",
       "  <tbody>\n",
       "    <tr>\n",
       "      <th>5211482</th>\n",
       "      <td>0.693147</td>\n",
       "      <td>(774694, 767718, 767721)</td>\n",
       "      <td>3</td>\n",
       "    </tr>\n",
       "    <tr>\n",
       "      <th>5213307</th>\n",
       "      <td>0.693147</td>\n",
       "      <td>(774590, 774319)</td>\n",
       "      <td>2</td>\n",
       "    </tr>\n",
       "    <tr>\n",
       "      <th>5213311</th>\n",
       "      <td>0.693147</td>\n",
       "      <td>(774469, 774590, 774319)</td>\n",
       "      <td>3</td>\n",
       "    </tr>\n",
       "    <tr>\n",
       "      <th>5213576</th>\n",
       "      <td>0.693147</td>\n",
       "      <td>(764896, 786771, 774571)</td>\n",
       "      <td>3</td>\n",
       "    </tr>\n",
       "    <tr>\n",
       "      <th>5215140</th>\n",
       "      <td>0.693147</td>\n",
       "      <td>(748899, 748868, 752949)</td>\n",
       "      <td>3</td>\n",
       "    </tr>\n",
       "  </tbody>\n",
       "</table>\n",
       "</div>"
      ],
      "text/plain": [
       "           rating                      bill  option_count\n",
       "5211482  0.693147  (774694, 767718, 767721)             3\n",
       "5213307  0.693147          (774590, 774319)             2\n",
       "5213311  0.693147  (774469, 774590, 774319)             3\n",
       "5213576  0.693147  (764896, 786771, 774571)             3\n",
       "5215140  0.693147  (748899, 748868, 752949)             3"
      ]
     },
     "execution_count": 26,
     "metadata": {},
     "output_type": "execute_result"
    }
   ],
   "source": [
    "data_3_greater_1_log[\"option_count\"] = data_3_greater_1_log.bill.apply(lambda x: len(x))\n",
    "data_3_greater_1_log.tail() "
   ]
  },
  {
   "cell_type": "code",
   "execution_count": 27,
   "metadata": {},
   "outputs": [],
   "source": [
    "sublist_by_2 = data_3_greater_1_log[data_3_greater_1_log.option_count == 2]"
   ]
  },
  {
   "cell_type": "code",
   "execution_count": 28,
   "metadata": {},
   "outputs": [
    {
     "data": {
      "text/html": [
       "<div>\n",
       "<style scoped>\n",
       "    .dataframe tbody tr th:only-of-type {\n",
       "        vertical-align: middle;\n",
       "    }\n",
       "\n",
       "    .dataframe tbody tr th {\n",
       "        vertical-align: top;\n",
       "    }\n",
       "\n",
       "    .dataframe thead th {\n",
       "        text-align: right;\n",
       "    }\n",
       "</style>\n",
       "<table border=\"1\" class=\"dataframe\">\n",
       "  <thead>\n",
       "    <tr style=\"text-align: right;\">\n",
       "      <th></th>\n",
       "      <th>rating</th>\n",
       "      <th>bill</th>\n",
       "      <th>option_count</th>\n",
       "      <th>LHS</th>\n",
       "      <th>RHS</th>\n",
       "    </tr>\n",
       "  </thead>\n",
       "  <tbody>\n",
       "    <tr>\n",
       "      <th>2</th>\n",
       "      <td>2.302585</td>\n",
       "      <td>(745321, 751839)</td>\n",
       "      <td>2</td>\n",
       "      <td>745321</td>\n",
       "      <td>751839</td>\n",
       "    </tr>\n",
       "    <tr>\n",
       "      <th>5</th>\n",
       "      <td>5.017280</td>\n",
       "      <td>(751782, 751839)</td>\n",
       "      <td>2</td>\n",
       "      <td>751782</td>\n",
       "      <td>751839</td>\n",
       "    </tr>\n",
       "    <tr>\n",
       "      <th>10</th>\n",
       "      <td>4.672829</td>\n",
       "      <td>(751873, 760125)</td>\n",
       "      <td>2</td>\n",
       "      <td>751873</td>\n",
       "      <td>760125</td>\n",
       "    </tr>\n",
       "    <tr>\n",
       "      <th>11</th>\n",
       "      <td>2.484907</td>\n",
       "      <td>(772494, 754574)</td>\n",
       "      <td>2</td>\n",
       "      <td>772494</td>\n",
       "      <td>754574</td>\n",
       "    </tr>\n",
       "    <tr>\n",
       "      <th>13</th>\n",
       "      <td>2.397895</td>\n",
       "      <td>(772494, 749358)</td>\n",
       "      <td>2</td>\n",
       "      <td>772494</td>\n",
       "      <td>749358</td>\n",
       "    </tr>\n",
       "  </tbody>\n",
       "</table>\n",
       "</div>"
      ],
      "text/plain": [
       "      rating              bill  option_count     LHS     RHS\n",
       "2   2.302585  (745321, 751839)             2  745321  751839\n",
       "5   5.017280  (751782, 751839)             2  751782  751839\n",
       "10  4.672829  (751873, 760125)             2  751873  760125\n",
       "11  2.484907  (772494, 754574)             2  772494  754574\n",
       "13  2.397895  (772494, 749358)             2  772494  749358"
      ]
     },
     "execution_count": 28,
     "metadata": {},
     "output_type": "execute_result"
    }
   ],
   "source": [
    "sublist_by_2_concat = pd.concat([\n",
    "    sublist_by_2,\n",
    "    pd.DataFrame(data_3_greater_1_log[data_3_greater_1_log.option_count == 2].bill.to_list(), columns=[\"LHS\", \"RHS\"], index=sublist_by_2.index)\n",
    "], axis=1)\n",
    "sublist_by_2_concat.head()"
   ]
  },
  {
   "cell_type": "code",
   "execution_count": 29,
   "metadata": {},
   "outputs": [
    {
     "data": {
      "text/html": [
       "<div>\n",
       "<style scoped>\n",
       "    .dataframe tbody tr th:only-of-type {\n",
       "        vertical-align: middle;\n",
       "    }\n",
       "\n",
       "    .dataframe tbody tr th {\n",
       "        vertical-align: top;\n",
       "    }\n",
       "\n",
       "    .dataframe thead th {\n",
       "        text-align: right;\n",
       "    }\n",
       "</style>\n",
       "<table border=\"1\" class=\"dataframe\">\n",
       "  <thead>\n",
       "    <tr style=\"text-align: right;\">\n",
       "      <th></th>\n",
       "      <th>rating</th>\n",
       "      <th>bill</th>\n",
       "      <th>option_count</th>\n",
       "    </tr>\n",
       "  </thead>\n",
       "  <tbody>\n",
       "    <tr>\n",
       "      <th>22</th>\n",
       "      <td>0.693147</td>\n",
       "      <td>(772494, 754574, 749358)</td>\n",
       "      <td>3</td>\n",
       "    </tr>\n",
       "    <tr>\n",
       "      <th>28</th>\n",
       "      <td>0.693147</td>\n",
       "      <td>(754574, 745328, 745310)</td>\n",
       "      <td>3</td>\n",
       "    </tr>\n",
       "    <tr>\n",
       "      <th>44</th>\n",
       "      <td>1.098612</td>\n",
       "      <td>(751649, 751591, 751532)</td>\n",
       "      <td>3</td>\n",
       "    </tr>\n",
       "    <tr>\n",
       "      <th>45</th>\n",
       "      <td>0.693147</td>\n",
       "      <td>(751649, 751591, 751597)</td>\n",
       "      <td>3</td>\n",
       "    </tr>\n",
       "    <tr>\n",
       "      <th>46</th>\n",
       "      <td>0.693147</td>\n",
       "      <td>(751649, 751595, 751532)</td>\n",
       "      <td>3</td>\n",
       "    </tr>\n",
       "  </tbody>\n",
       "</table>\n",
       "</div>"
      ],
      "text/plain": [
       "      rating                      bill  option_count\n",
       "22  0.693147  (772494, 754574, 749358)             3\n",
       "28  0.693147  (754574, 745328, 745310)             3\n",
       "44  1.098612  (751649, 751591, 751532)             3\n",
       "45  0.693147  (751649, 751591, 751597)             3\n",
       "46  0.693147  (751649, 751595, 751532)             3"
      ]
     },
     "execution_count": 29,
     "metadata": {},
     "output_type": "execute_result"
    }
   ],
   "source": [
    "sublist_by_3 = data_3_greater_1_log[data_3_greater_1_log.option_count == 3]\n",
    "sublist_by_3.head() "
   ]
  },
  {
   "cell_type": "code",
   "execution_count": 30,
   "metadata": {},
   "outputs": [
    {
     "data": {
      "text/html": [
       "<div>\n",
       "<style scoped>\n",
       "    .dataframe tbody tr th:only-of-type {\n",
       "        vertical-align: middle;\n",
       "    }\n",
       "\n",
       "    .dataframe tbody tr th {\n",
       "        vertical-align: top;\n",
       "    }\n",
       "\n",
       "    .dataframe thead th {\n",
       "        text-align: right;\n",
       "    }\n",
       "</style>\n",
       "<table border=\"1\" class=\"dataframe\">\n",
       "  <thead>\n",
       "    <tr style=\"text-align: right;\">\n",
       "      <th></th>\n",
       "      <th>rating</th>\n",
       "      <th>bill</th>\n",
       "      <th>option_count</th>\n",
       "      <th>LHS</th>\n",
       "      <th>RHS</th>\n",
       "    </tr>\n",
       "  </thead>\n",
       "  <tbody>\n",
       "    <tr>\n",
       "      <th>0</th>\n",
       "      <td>0.693147</td>\n",
       "      <td>(772494, 754574, 749358)</td>\n",
       "      <td>3</td>\n",
       "      <td>(749358, 754574)</td>\n",
       "      <td>772494</td>\n",
       "    </tr>\n",
       "    <tr>\n",
       "      <th>1</th>\n",
       "      <td>0.693147</td>\n",
       "      <td>(772494, 754574, 749358)</td>\n",
       "      <td>3</td>\n",
       "      <td>(749358, 772494)</td>\n",
       "      <td>754574</td>\n",
       "    </tr>\n",
       "    <tr>\n",
       "      <th>2</th>\n",
       "      <td>0.693147</td>\n",
       "      <td>(772494, 754574, 749358)</td>\n",
       "      <td>3</td>\n",
       "      <td>(754574, 772494)</td>\n",
       "      <td>749358</td>\n",
       "    </tr>\n",
       "    <tr>\n",
       "      <th>3</th>\n",
       "      <td>0.693147</td>\n",
       "      <td>(754574, 745328, 745310)</td>\n",
       "      <td>3</td>\n",
       "      <td>(745328, 745310)</td>\n",
       "      <td>754574</td>\n",
       "    </tr>\n",
       "    <tr>\n",
       "      <th>4</th>\n",
       "      <td>0.693147</td>\n",
       "      <td>(754574, 745328, 745310)</td>\n",
       "      <td>3</td>\n",
       "      <td>(745310, 754574)</td>\n",
       "      <td>745328</td>\n",
       "    </tr>\n",
       "  </tbody>\n",
       "</table>\n",
       "</div>"
      ],
      "text/plain": [
       "     rating                      bill option_count               LHS     RHS\n",
       "0  0.693147  (772494, 754574, 749358)            3  (749358, 754574)  772494\n",
       "1  0.693147  (772494, 754574, 749358)            3  (749358, 772494)  754574\n",
       "2  0.693147  (772494, 754574, 749358)            3  (754574, 772494)  749358\n",
       "3  0.693147  (754574, 745328, 745310)            3  (745328, 745310)  754574\n",
       "4  0.693147  (754574, 745328, 745310)            3  (745310, 754574)  745328"
      ]
     },
     "execution_count": 30,
     "metadata": {},
     "output_type": "execute_result"
    }
   ],
   "source": [
    "replicated_rows = pd.DataFrame(np.repeat(sublist_by_3.values, 3, axis=0), columns=sublist_by_3.columns)\n",
    "\n",
    "sublists_by_3_reduced = []  \n",
    "for item in sublist_by_3.bill.to_list():\n",
    "    sublists_by_3_reduced += split_bill(item) \n",
    "\n",
    "sublists_by_3_reduced = pd.DataFrame(sublists_by_3_reduced, columns=[\"LHS\", \"RHS\"])\n",
    "\n",
    "sublist_by_3_concat = pd.concat([\n",
    "    replicated_rows, \n",
    "    sublists_by_3_reduced\n",
    "], axis=1)\n",
    "\n",
    "sublist_by_3_concat.head() "
   ]
  },
  {
   "cell_type": "code",
   "execution_count": 31,
   "metadata": {},
   "outputs": [
    {
     "data": {
      "text/html": [
       "<div>\n",
       "<style scoped>\n",
       "    .dataframe tbody tr th:only-of-type {\n",
       "        vertical-align: middle;\n",
       "    }\n",
       "\n",
       "    .dataframe tbody tr th {\n",
       "        vertical-align: top;\n",
       "    }\n",
       "\n",
       "    .dataframe thead th {\n",
       "        text-align: right;\n",
       "    }\n",
       "</style>\n",
       "<table border=\"1\" class=\"dataframe\">\n",
       "  <thead>\n",
       "    <tr style=\"text-align: right;\">\n",
       "      <th></th>\n",
       "      <th>rating</th>\n",
       "      <th>bill</th>\n",
       "      <th>option_count</th>\n",
       "      <th>LHS</th>\n",
       "      <th>RHS</th>\n",
       "    </tr>\n",
       "  </thead>\n",
       "  <tbody>\n",
       "    <tr>\n",
       "      <th>0</th>\n",
       "      <td>0.693147</td>\n",
       "      <td>(772494, 754574, 749358)</td>\n",
       "      <td>3</td>\n",
       "      <td>(749358, 754574)</td>\n",
       "      <td>772494</td>\n",
       "    </tr>\n",
       "    <tr>\n",
       "      <th>1</th>\n",
       "      <td>0.693147</td>\n",
       "      <td>(772494, 754574, 749358)</td>\n",
       "      <td>3</td>\n",
       "      <td>(749358, 772494)</td>\n",
       "      <td>754574</td>\n",
       "    </tr>\n",
       "    <tr>\n",
       "      <th>2</th>\n",
       "      <td>0.693147</td>\n",
       "      <td>(772494, 754574, 749358)</td>\n",
       "      <td>3</td>\n",
       "      <td>(754574, 772494)</td>\n",
       "      <td>749358</td>\n",
       "    </tr>\n",
       "    <tr>\n",
       "      <th>3</th>\n",
       "      <td>0.693147</td>\n",
       "      <td>(754574, 745328, 745310)</td>\n",
       "      <td>3</td>\n",
       "      <td>(745328, 745310)</td>\n",
       "      <td>754574</td>\n",
       "    </tr>\n",
       "    <tr>\n",
       "      <th>4</th>\n",
       "      <td>0.693147</td>\n",
       "      <td>(754574, 745328, 745310)</td>\n",
       "      <td>3</td>\n",
       "      <td>(745310, 754574)</td>\n",
       "      <td>745328</td>\n",
       "    </tr>\n",
       "  </tbody>\n",
       "</table>\n",
       "</div>"
      ],
      "text/plain": [
       "     rating                      bill option_count               LHS     RHS\n",
       "0  0.693147  (772494, 754574, 749358)            3  (749358, 754574)  772494\n",
       "1  0.693147  (772494, 754574, 749358)            3  (749358, 772494)  754574\n",
       "2  0.693147  (772494, 754574, 749358)            3  (754574, 772494)  749358\n",
       "3  0.693147  (754574, 745328, 745310)            3  (745328, 745310)  754574\n",
       "4  0.693147  (754574, 745328, 745310)            3  (745310, 754574)  745328"
      ]
     },
     "execution_count": 31,
     "metadata": {},
     "output_type": "execute_result"
    }
   ],
   "source": [
    "dataset_combined_MF = pd.concat([sublist_by_3_concat, sublist_by_2_concat], axis=0, ignore_index=True)\n",
    "dataset_combined_MF.head()  "
   ]
  },
  {
   "cell_type": "code",
   "execution_count": 36,
   "metadata": {},
   "outputs": [
    {
     "name": "stdout",
     "output_type": "stream",
     "text": [
      "<class 'pandas.core.frame.DataFrame'>\n",
      "RangeIndex: 859833 entries, 0 to 859832\n",
      "Data columns (total 5 columns):\n",
      " #   Column        Non-Null Count   Dtype \n",
      "---  ------        --------------   ----- \n",
      " 0   rating        859833 non-null  object\n",
      " 1   bill          859833 non-null  object\n",
      " 2   option_count  859833 non-null  object\n",
      " 3   LHS           859833 non-null  object\n",
      " 4   RHS           859833 non-null  int64 \n",
      "dtypes: int64(1), object(4)\n",
      "memory usage: 32.8+ MB\n"
     ]
    }
   ],
   "source": [
    "dataset_combined_MF.info() "
   ]
  },
  {
   "cell_type": "code",
   "execution_count": 149,
   "metadata": {},
   "outputs": [
    {
     "data": {
      "text/html": [
       "<div>\n",
       "<style scoped>\n",
       "    .dataframe tbody tr th:only-of-type {\n",
       "        vertical-align: middle;\n",
       "    }\n",
       "\n",
       "    .dataframe tbody tr th {\n",
       "        vertical-align: top;\n",
       "    }\n",
       "\n",
       "    .dataframe thead th {\n",
       "        text-align: right;\n",
       "    }\n",
       "</style>\n",
       "<table border=\"1\" class=\"dataframe\">\n",
       "  <thead>\n",
       "    <tr style=\"text-align: right;\">\n",
       "      <th></th>\n",
       "      <th>rating</th>\n",
       "      <th>bill</th>\n",
       "      <th>option_count</th>\n",
       "      <th>LHS</th>\n",
       "      <th>RHS</th>\n",
       "      <th>LHS_C</th>\n",
       "      <th>RHS_C</th>\n",
       "    </tr>\n",
       "  </thead>\n",
       "  <tbody>\n",
       "    <tr>\n",
       "      <th>2</th>\n",
       "      <td>2.302585</td>\n",
       "      <td>(745321, 751839)</td>\n",
       "      <td>2</td>\n",
       "      <td>745321</td>\n",
       "      <td>751839</td>\n",
       "      <td>2524</td>\n",
       "      <td>3071</td>\n",
       "    </tr>\n",
       "    <tr>\n",
       "      <th>5</th>\n",
       "      <td>5.017280</td>\n",
       "      <td>(751782, 751839)</td>\n",
       "      <td>2</td>\n",
       "      <td>751782</td>\n",
       "      <td>751839</td>\n",
       "      <td>3019</td>\n",
       "      <td>3071</td>\n",
       "    </tr>\n",
       "    <tr>\n",
       "      <th>10</th>\n",
       "      <td>4.672829</td>\n",
       "      <td>(751873, 760125)</td>\n",
       "      <td>2</td>\n",
       "      <td>751873</td>\n",
       "      <td>760125</td>\n",
       "      <td>3039</td>\n",
       "      <td>3746</td>\n",
       "    </tr>\n",
       "    <tr>\n",
       "      <th>11</th>\n",
       "      <td>2.484907</td>\n",
       "      <td>(772494, 754574)</td>\n",
       "      <td>2</td>\n",
       "      <td>772494</td>\n",
       "      <td>754574</td>\n",
       "      <td>4308</td>\n",
       "      <td>3518</td>\n",
       "    </tr>\n",
       "    <tr>\n",
       "      <th>13</th>\n",
       "      <td>2.397895</td>\n",
       "      <td>(772494, 749358)</td>\n",
       "      <td>2</td>\n",
       "      <td>772494</td>\n",
       "      <td>749358</td>\n",
       "      <td>4308</td>\n",
       "      <td>2816</td>\n",
       "    </tr>\n",
       "  </tbody>\n",
       "</table>\n",
       "</div>"
      ],
      "text/plain": [
       "      rating              bill  option_count     LHS     RHS  LHS_C  RHS_C\n",
       "2   2.302585  (745321, 751839)             2  745321  751839   2524   3071\n",
       "5   5.017280  (751782, 751839)             2  751782  751839   3019   3071\n",
       "10  4.672829  (751873, 760125)             2  751873  760125   3039   3746\n",
       "11  2.484907  (772494, 754574)             2  772494  754574   4308   3518\n",
       "13  2.397895  (772494, 749358)             2  772494  749358   4308   2816"
      ]
     },
     "execution_count": 149,
     "metadata": {},
     "output_type": "execute_result"
    }
   ],
   "source": [
    "sublist_by_2_concat[\"LHS_C\"] = sublist_by_2_concat.LHS.astype('category').cat.codes.values\n",
    "sublist_by_2_concat[\"RHS_C\"] = sublist_by_2_concat.RHS.astype('category').cat.codes.values\n",
    "\n",
    "sublist_by_2_concat.head() "
   ]
  },
  {
   "cell_type": "markdown",
   "metadata": {},
   "source": [
    "### Building MF Model "
   ]
  },
  {
   "cell_type": "code",
   "execution_count": 240,
   "metadata": {},
   "outputs": [],
   "source": [
    "from tensorflow import keras\n",
    "from keras.optimizers import Adam \n",
    "\n",
    "n_rhs, n_lhs = len(sublist_by_2_concat.RHS_C.unique()), len(sublist_by_2_concat.LHS_C.unique())\n",
    "n_latent_factors = 20\n",
    "# input, embedding --> \n",
    "lhs_input = keras.layers.Input(shape=(1,), name=\"lhs-item\") \n",
    "lhs_embedding = keras.layers.Embedding(n_lhs + 1, n_latent_factors, name=\"lhs-embeddings\")(lhs_input) \n",
    "lhs_vec = keras.layers.Flatten(name=\"flatten-lhs\")(lhs_embedding) \n",
    "\n",
    "rhs_input= keras.layers.Input(shape=(1,), name=\"rhs-item\")\n",
    "rhs_embedding = keras.layers.Embedding(n_rhs + 1, n_latent_factors, name=\"rhs-embeddings\")(rhs_input) \n",
    "rhs_vec = keras.layers.Flatten(name=\"flatten-rhs\")(rhs_embedding)\n",
    "\n",
    "product = keras.layers.dot([lhs_vec, rhs_vec], axes=1, name=\"dot-product\") \n",
    "\n",
    "model = keras.Model([lhs_input, rhs_input], product) \n"
   ]
  },
  {
   "cell_type": "code",
   "execution_count": 242,
   "metadata": {},
   "outputs": [
    {
     "name": "stdout",
     "output_type": "stream",
     "text": [
      "Model: \"model_3\"\n",
      "__________________________________________________________________________________________________\n",
      " Layer (type)                   Output Shape         Param #     Connected to                     \n",
      "==================================================================================================\n",
      " lhs-item (InputLayer)          [(None, 1)]          0           []                               \n",
      "                                                                                                  \n",
      " rhs-item (InputLayer)          [(None, 1)]          0           []                               \n",
      "                                                                                                  \n",
      " lhs-embeddings (Embedding)     (None, 1, 20)        100860      ['lhs-item[0][0]']               \n",
      "                                                                                                  \n",
      " rhs-embeddings (Embedding)     (None, 1, 20)        101820      ['rhs-item[0][0]']               \n",
      "                                                                                                  \n",
      " flatten-lhs (Flatten)          (None, 20)           0           ['lhs-embeddings[0][0]']         \n",
      "                                                                                                  \n",
      " flatten-rhs (Flatten)          (None, 20)           0           ['rhs-embeddings[0][0]']         \n",
      "                                                                                                  \n",
      " dot-product (Dot)              (None, 1)            0           ['flatten-lhs[0][0]',            \n",
      "                                                                  'flatten-rhs[0][0]']            \n",
      "                                                                                                  \n",
      "==================================================================================================\n",
      "Total params: 202,680\n",
      "Trainable params: 202,680\n",
      "Non-trainable params: 0\n",
      "__________________________________________________________________________________________________\n"
     ]
    }
   ],
   "source": [
    "model.compile(optimizer='adam', loss='mean_squared_error', metrics=['mae', 'mse'])\n",
    "model.summary() "
   ]
  },
  {
   "cell_type": "code",
   "execution_count": 243,
   "metadata": {},
   "outputs": [
    {
     "name": "stdout",
     "output_type": "stream",
     "text": [
      "Epoch 1/100\n",
      "7590/7590 [==============================] - 25s 3ms/step - loss: 0.9173 - mae: 0.7103 - mse: 0.9173\n",
      "Epoch 2/100\n",
      "7590/7590 [==============================] - 22s 3ms/step - loss: 0.3897 - mae: 0.4550 - mse: 0.3897\n",
      "Epoch 3/100\n",
      "7590/7590 [==============================] - 23s 3ms/step - loss: 0.3107 - mae: 0.4063 - mse: 0.3107\n",
      "Epoch 4/100\n",
      "7590/7590 [==============================] - 24s 3ms/step - loss: 0.2610 - mae: 0.3732 - mse: 0.2610\n",
      "Epoch 5/100\n",
      "7590/7590 [==============================] - 22s 3ms/step - loss: 0.2301 - mae: 0.3514 - mse: 0.2301\n",
      "Epoch 6/100\n",
      "7590/7590 [==============================] - 22s 3ms/step - loss: 0.2090 - mae: 0.3356 - mse: 0.2090\n",
      "Epoch 7/100\n",
      "7590/7590 [==============================] - 24s 3ms/step - loss: 0.1937 - mae: 0.3232 - mse: 0.1937\n",
      "Epoch 8/100\n",
      "7590/7590 [==============================] - 24s 3ms/step - loss: 0.1824 - mae: 0.3139 - mse: 0.1824\n",
      "Epoch 9/100\n",
      "7590/7590 [==============================] - 22s 3ms/step - loss: 0.1733 - mae: 0.3066 - mse: 0.1733\n",
      "Epoch 10/100\n",
      "7590/7590 [==============================] - 21s 3ms/step - loss: 0.1664 - mae: 0.3004 - mse: 0.1664\n",
      "Epoch 11/100\n",
      "7590/7590 [==============================] - 21s 3ms/step - loss: 0.1606 - mae: 0.2951 - mse: 0.1606\n",
      "Epoch 12/100\n",
      "7590/7590 [==============================] - 21s 3ms/step - loss: 0.1558 - mae: 0.2910 - mse: 0.1558\n",
      "Epoch 13/100\n",
      "7590/7590 [==============================] - 21s 3ms/step - loss: 0.1518 - mae: 0.2872 - mse: 0.1518\n",
      "Epoch 14/100\n",
      "7590/7590 [==============================] - 21s 3ms/step - loss: 0.1484 - mae: 0.2841 - mse: 0.1484\n",
      "Epoch 15/100\n",
      "7590/7590 [==============================] - 21s 3ms/step - loss: 0.1458 - mae: 0.2813 - mse: 0.1458\n",
      "Epoch 16/100\n",
      "7590/7590 [==============================] - 21s 3ms/step - loss: 0.1433 - mae: 0.2790 - mse: 0.1433\n",
      "Epoch 17/100\n",
      "7590/7590 [==============================] - 21s 3ms/step - loss: 0.1414 - mae: 0.2770 - mse: 0.1414\n",
      "Epoch 18/100\n",
      "7590/7590 [==============================] - 22s 3ms/step - loss: 0.1396 - mae: 0.2751 - mse: 0.1396\n",
      "Epoch 19/100\n",
      "7590/7590 [==============================] - 20s 3ms/step - loss: 0.1380 - mae: 0.2736 - mse: 0.1380\n",
      "Epoch 20/100\n",
      "7590/7590 [==============================] - 21s 3ms/step - loss: 0.1367 - mae: 0.2720 - mse: 0.1367\n",
      "Epoch 21/100\n",
      "7590/7590 [==============================] - 21s 3ms/step - loss: 0.1354 - mae: 0.2706 - mse: 0.1354\n",
      "Epoch 22/100\n",
      "7590/7590 [==============================] - 21s 3ms/step - loss: 0.1344 - mae: 0.2698 - mse: 0.1344\n",
      "Epoch 23/100\n",
      "7590/7590 [==============================] - 21s 3ms/step - loss: 0.1335 - mae: 0.2687 - mse: 0.1335\n",
      "Epoch 24/100\n",
      "7590/7590 [==============================] - 21s 3ms/step - loss: 0.1326 - mae: 0.2679 - mse: 0.1326\n",
      "Epoch 25/100\n",
      "7590/7590 [==============================] - 22s 3ms/step - loss: 0.1319 - mae: 0.2671 - mse: 0.1319\n",
      "Epoch 26/100\n",
      "7590/7590 [==============================] - 21s 3ms/step - loss: 0.1312 - mae: 0.2661 - mse: 0.1312\n",
      "Epoch 27/100\n",
      "7590/7590 [==============================] - 22s 3ms/step - loss: 0.1305 - mae: 0.2655 - mse: 0.1305\n",
      "Epoch 28/100\n",
      "7590/7590 [==============================] - 22s 3ms/step - loss: 0.1299 - mae: 0.2647 - mse: 0.1299\n",
      "Epoch 29/100\n",
      "7590/7590 [==============================] - 21s 3ms/step - loss: 0.1295 - mae: 0.2643 - mse: 0.1295\n",
      "Epoch 30/100\n",
      "7590/7590 [==============================] - 21s 3ms/step - loss: 0.1289 - mae: 0.2636 - mse: 0.1289\n",
      "Epoch 31/100\n",
      "7590/7590 [==============================] - 21s 3ms/step - loss: 0.1285 - mae: 0.2631 - mse: 0.1285\n",
      "Epoch 32/100\n",
      "7590/7590 [==============================] - 20s 3ms/step - loss: 0.1280 - mae: 0.2626 - mse: 0.1280\n",
      "Epoch 33/100\n",
      "7590/7590 [==============================] - 18s 2ms/step - loss: 0.1276 - mae: 0.2622 - mse: 0.1276\n",
      "Epoch 34/100\n",
      "7590/7590 [==============================] - 20s 3ms/step - loss: 0.1270 - mae: 0.2618 - mse: 0.1270\n",
      "Epoch 35/100\n",
      "7590/7590 [==============================] - 22s 3ms/step - loss: 0.1267 - mae: 0.2612 - mse: 0.1267\n",
      "Epoch 36/100\n",
      "7590/7590 [==============================] - 21s 3ms/step - loss: 0.1265 - mae: 0.2610 - mse: 0.1265\n",
      "Epoch 37/100\n",
      "7590/7590 [==============================] - 21s 3ms/step - loss: 0.1261 - mae: 0.2605 - mse: 0.1261\n",
      "Epoch 38/100\n",
      "7590/7590 [==============================] - 21s 3ms/step - loss: 0.1257 - mae: 0.2601 - mse: 0.1257\n",
      "Epoch 39/100\n",
      "7590/7590 [==============================] - 27s 3ms/step - loss: 0.1254 - mae: 0.2598 - mse: 0.1254\n",
      "Epoch 40/100\n",
      "7590/7590 [==============================] - 20s 3ms/step - loss: 0.1251 - mae: 0.2595 - mse: 0.1251\n",
      "Epoch 41/100\n",
      "7590/7590 [==============================] - 19s 2ms/step - loss: 0.1248 - mae: 0.2592 - mse: 0.1248\n",
      "Epoch 42/100\n",
      "7590/7590 [==============================] - 19s 2ms/step - loss: 0.1248 - mae: 0.2593 - mse: 0.1248\n",
      "Epoch 43/100\n",
      "7590/7590 [==============================] - 19s 3ms/step - loss: 0.1243 - mae: 0.2586 - mse: 0.1243\n",
      "Epoch 44/100\n",
      "7590/7590 [==============================] - 19s 2ms/step - loss: 0.1243 - mae: 0.2586 - mse: 0.1243\n",
      "Epoch 45/100\n",
      "7590/7590 [==============================] - 19s 3ms/step - loss: 0.1240 - mae: 0.2582 - mse: 0.1240\n",
      "Epoch 46/100\n",
      "7590/7590 [==============================] - 19s 3ms/step - loss: 0.1237 - mae: 0.2580 - mse: 0.1237\n",
      "Epoch 47/100\n",
      "7590/7590 [==============================] - 19s 3ms/step - loss: 0.1235 - mae: 0.2575 - mse: 0.1235\n",
      "Epoch 48/100\n",
      "7590/7590 [==============================] - 19s 3ms/step - loss: 0.1231 - mae: 0.2573 - mse: 0.1231\n",
      "Epoch 49/100\n",
      "7590/7590 [==============================] - 19s 3ms/step - loss: 0.1231 - mae: 0.2572 - mse: 0.1231\n",
      "Epoch 50/100\n",
      "7590/7590 [==============================] - 19s 3ms/step - loss: 0.1229 - mae: 0.2571 - mse: 0.1229\n",
      "Epoch 51/100\n",
      "7590/7590 [==============================] - 19s 3ms/step - loss: 0.1230 - mae: 0.2569 - mse: 0.1230\n",
      "Epoch 52/100\n",
      "7590/7590 [==============================] - 23s 3ms/step - loss: 0.1226 - mae: 0.2566 - mse: 0.1226\n",
      "Epoch 53/100\n",
      "7590/7590 [==============================] - 21s 3ms/step - loss: 0.1225 - mae: 0.2567 - mse: 0.1225\n",
      "Epoch 54/100\n",
      "7590/7590 [==============================] - 22s 3ms/step - loss: 0.1224 - mae: 0.2562 - mse: 0.1224\n",
      "Epoch 55/100\n",
      "7590/7590 [==============================] - 24s 3ms/step - loss: 0.1221 - mae: 0.2561 - mse: 0.1221\n",
      "Epoch 56/100\n",
      "7590/7590 [==============================] - 28s 4ms/step - loss: 0.1220 - mae: 0.2561 - mse: 0.1220\n",
      "Epoch 57/100\n",
      "7590/7590 [==============================] - 22s 3ms/step - loss: 0.1218 - mae: 0.2558 - mse: 0.1218\n",
      "Epoch 58/100\n",
      "7590/7590 [==============================] - 24s 3ms/step - loss: 0.1216 - mae: 0.2555 - mse: 0.1216\n",
      "Epoch 59/100\n",
      "7590/7590 [==============================] - 24s 3ms/step - loss: 0.1216 - mae: 0.2556 - mse: 0.1216\n",
      "Epoch 60/100\n",
      "7590/7590 [==============================] - 19s 3ms/step - loss: 0.1215 - mae: 0.2556 - mse: 0.1215\n",
      "Epoch 61/100\n",
      "7590/7590 [==============================] - 19s 3ms/step - loss: 0.1212 - mae: 0.2552 - mse: 0.1212\n",
      "Epoch 62/100\n",
      "7590/7590 [==============================] - 19s 3ms/step - loss: 0.1212 - mae: 0.2549 - mse: 0.1212\n",
      "Epoch 63/100\n",
      "7590/7590 [==============================] - 18s 2ms/step - loss: 0.1210 - mae: 0.2549 - mse: 0.1210\n",
      "Epoch 64/100\n",
      "7590/7590 [==============================] - 18s 2ms/step - loss: 0.1209 - mae: 0.2550 - mse: 0.1209\n",
      "Epoch 65/100\n",
      "7590/7590 [==============================] - 18s 2ms/step - loss: 0.1208 - mae: 0.2546 - mse: 0.1208\n",
      "Epoch 66/100\n",
      "7590/7590 [==============================] - 18s 2ms/step - loss: 0.1207 - mae: 0.2546 - mse: 0.1207\n",
      "Epoch 67/100\n",
      "7590/7590 [==============================] - 18s 2ms/step - loss: 0.1207 - mae: 0.2545 - mse: 0.1207\n",
      "Epoch 68/100\n",
      "7590/7590 [==============================] - 18s 2ms/step - loss: 0.1206 - mae: 0.2542 - mse: 0.1206\n",
      "Epoch 69/100\n",
      "7590/7590 [==============================] - 18s 2ms/step - loss: 0.1204 - mae: 0.2544 - mse: 0.1204\n",
      "Epoch 70/100\n",
      "7590/7590 [==============================] - 19s 2ms/step - loss: 0.1203 - mae: 0.2542 - mse: 0.1203\n",
      "Epoch 71/100\n",
      "7590/7590 [==============================] - 19s 3ms/step - loss: 0.1203 - mae: 0.2543 - mse: 0.1203\n",
      "Epoch 72/100\n",
      "7590/7590 [==============================] - 18s 2ms/step - loss: 0.1202 - mae: 0.2541 - mse: 0.1202\n",
      "Epoch 73/100\n",
      "7590/7590 [==============================] - 18s 2ms/step - loss: 0.1201 - mae: 0.2540 - mse: 0.1201\n",
      "Epoch 74/100\n",
      "7590/7590 [==============================] - 18s 2ms/step - loss: 0.1200 - mae: 0.2537 - mse: 0.1200\n",
      "Epoch 75/100\n",
      "7590/7590 [==============================] - 18s 2ms/step - loss: 0.1199 - mae: 0.2537 - mse: 0.1199\n",
      "Epoch 76/100\n",
      "7590/7590 [==============================] - 18s 2ms/step - loss: 0.1198 - mae: 0.2534 - mse: 0.1198\n",
      "Epoch 77/100\n",
      "7590/7590 [==============================] - 19s 2ms/step - loss: 0.1197 - mae: 0.2535 - mse: 0.1197\n",
      "Epoch 78/100\n",
      "7590/7590 [==============================] - 18s 2ms/step - loss: 0.1197 - mae: 0.2536 - mse: 0.1197\n",
      "Epoch 79/100\n",
      "7590/7590 [==============================] - 18s 2ms/step - loss: 0.1197 - mae: 0.2534 - mse: 0.1197\n",
      "Epoch 80/100\n",
      "7590/7590 [==============================] - 19s 2ms/step - loss: 0.1195 - mae: 0.2531 - mse: 0.1195\n",
      "Epoch 81/100\n",
      "7590/7590 [==============================] - 18s 2ms/step - loss: 0.1195 - mae: 0.2533 - mse: 0.1195\n",
      "Epoch 82/100\n",
      "7590/7590 [==============================] - 19s 2ms/step - loss: 0.1193 - mae: 0.2532 - mse: 0.1193\n",
      "Epoch 83/100\n",
      "7590/7590 [==============================] - 19s 2ms/step - loss: 0.1193 - mae: 0.2530 - mse: 0.1193\n",
      "Epoch 84/100\n",
      "7590/7590 [==============================] - 19s 2ms/step - loss: 0.1192 - mae: 0.2530 - mse: 0.1192\n",
      "Epoch 85/100\n",
      "7590/7590 [==============================] - 19s 2ms/step - loss: 0.1192 - mae: 0.2531 - mse: 0.1192\n",
      "Epoch 86/100\n",
      "7590/7590 [==============================] - 19s 2ms/step - loss: 0.1191 - mae: 0.2526 - mse: 0.1191\n",
      "Epoch 87/100\n",
      "7590/7590 [==============================] - 19s 2ms/step - loss: 0.1190 - mae: 0.2527 - mse: 0.1190\n",
      "Epoch 88/100\n",
      "7590/7590 [==============================] - 19s 3ms/step - loss: 0.1190 - mae: 0.2525 - mse: 0.1190\n",
      "Epoch 89/100\n",
      "7590/7590 [==============================] - 19s 3ms/step - loss: 0.1189 - mae: 0.2527 - mse: 0.1189\n",
      "Epoch 90/100\n",
      "7590/7590 [==============================] - 19s 3ms/step - loss: 0.1190 - mae: 0.2526 - mse: 0.1190\n",
      "Epoch 91/100\n",
      "7590/7590 [==============================] - 19s 3ms/step - loss: 0.1187 - mae: 0.2524 - mse: 0.1187\n",
      "Epoch 92/100\n",
      "7590/7590 [==============================] - 19s 3ms/step - loss: 0.1188 - mae: 0.2524 - mse: 0.1188\n",
      "Epoch 93/100\n",
      "7590/7590 [==============================] - 19s 3ms/step - loss: 0.1187 - mae: 0.2525 - mse: 0.1187\n",
      "Epoch 94/100\n",
      "7590/7590 [==============================] - 19s 2ms/step - loss: 0.1186 - mae: 0.2522 - mse: 0.1186\n",
      "Epoch 95/100\n",
      "7590/7590 [==============================] - 19s 3ms/step - loss: 0.1186 - mae: 0.2523 - mse: 0.1186\n",
      "Epoch 96/100\n",
      "7590/7590 [==============================] - 19s 2ms/step - loss: 0.1184 - mae: 0.2518 - mse: 0.1184\n",
      "Epoch 97/100\n",
      "7590/7590 [==============================] - 19s 3ms/step - loss: 0.1187 - mae: 0.2523 - mse: 0.1187\n",
      "Epoch 98/100\n",
      "7590/7590 [==============================] - 20s 3ms/step - loss: 0.1184 - mae: 0.2521 - mse: 0.1184\n",
      "Epoch 99/100\n",
      "7590/7590 [==============================] - 21s 3ms/step - loss: 0.1184 - mae: 0.2519 - mse: 0.1184\n",
      "Epoch 100/100\n",
      "7590/7590 [==============================] - 21s 3ms/step - loss: 0.1184 - mae: 0.2521 - mse: 0.1184\n"
     ]
    }
   ],
   "source": [
    "from sklearn.utils import shuffle \n",
    "data_shuffled = shuffle(sublist_by_2_concat) \n",
    "\n",
    "history = model.fit(\n",
    "    [sublist_by_2_concat.LHS_C, sublist_by_2_concat.RHS_C], \n",
    "    sublist_by_2_concat.rating, \n",
    "    epochs=100\n",
    "    )"
   ]
  },
  {
   "cell_type": "code",
   "execution_count": 257,
   "metadata": {},
   "outputs": [
    {
     "data": {
      "text/plain": [
       "(7.720461694599722, 0.6931471805599453)"
      ]
     },
     "execution_count": 257,
     "metadata": {},
     "output_type": "execute_result"
    }
   ],
   "source": [
    "sublist_by_2_concat.rating.max(), sublist_by_2_concat.rating.min() "
   ]
  },
  {
   "cell_type": "code",
   "execution_count": 258,
   "metadata": {},
   "outputs": [
    {
     "data": {
      "text/plain": [
       "[array([[-0.20942211,  0.17964152, -0.22562473, ..., -0.23400342,\n",
       "         -0.18543516, -0.25125247],\n",
       "        [ 0.02841862,  0.13459192,  0.03790177, ...,  0.20002832,\n",
       "         -0.14327979, -0.03282325],\n",
       "        [-0.41530976,  0.4203659 , -0.31914645, ..., -0.07864063,\n",
       "          0.41820493, -0.15772763],\n",
       "        ...,\n",
       "        [-0.1282023 ,  0.14917485,  0.12013394, ...,  0.00111962,\n",
       "         -0.25943008, -0.3746646 ],\n",
       "        [-0.12571386, -0.16260399,  0.5803891 , ..., -0.656824  ,\n",
       "          0.28580412,  0.01063784],\n",
       "        [ 0.03707497,  0.02086094, -0.0494905 , ...,  0.02872101,\n",
       "         -0.0133733 , -0.02868872]], dtype=float32)]"
      ]
     },
     "execution_count": 258,
     "metadata": {},
     "output_type": "execute_result"
    }
   ],
   "source": [
    "model.get_layer(name='lhs-embeddings').get_weights()"
   ]
  },
  {
   "cell_type": "code",
   "execution_count": 260,
   "metadata": {},
   "outputs": [
    {
     "data": {
      "image/png": "[encoded data removed]",
      "text/plain": [
       "<Figure size 720x432 with 1 Axes>"
      ]
     },
     "metadata": {
      "needs_background": "light"
     },
     "output_type": "display_data"
    },
    {
     "data": {
      "image/png": "[encoded data removed]",
      "text/plain": [
       "<Figure size 720x432 with 1 Axes>"
      ]
     },
     "metadata": {
      "needs_background": "light"
     },
     "output_type": "display_data"
    }
   ],
   "source": [
    "import matplotlib.pyplot as plt \n",
    "\n",
    "plt.title(\"loss curve\")\n",
    "plt.xlabel(\"epochs\")\n",
    "plt.ylabel(\"loss\")\n",
    "pd.DataFrame(history.history)[\"loss\"].plot(figsize=(10,6)) \n",
    "pd.DataFrame(history.history)[[\"mse\", \"mae\"]].plot(figsize=(10,6))\n",
    "plt.show() "
   ]
  },
  {
   "cell_type": "code",
   "execution_count": 261,
   "metadata": {},
   "outputs": [
    {
     "data": {
      "text/plain": [
       "array([[-0.20942211,  0.17964152, -0.22562473, ..., -0.23400342,\n",
       "        -0.18543516, -0.25125247],\n",
       "       [ 0.02841862,  0.13459192,  0.03790177, ...,  0.20002832,\n",
       "        -0.14327979, -0.03282325],\n",
       "       [-0.41530976,  0.4203659 , -0.31914645, ..., -0.07864063,\n",
       "         0.41820493, -0.15772763],\n",
       "       ...,\n",
       "       [-0.1282023 ,  0.14917485,  0.12013394, ...,  0.00111962,\n",
       "        -0.25943008, -0.3746646 ],\n",
       "       [-0.12571386, -0.16260399,  0.5803891 , ..., -0.656824  ,\n",
       "         0.28580412,  0.01063784],\n",
       "       [ 0.03707497,  0.02086094, -0.0494905 , ...,  0.02872101,\n",
       "        -0.0133733 , -0.02868872]], dtype=float32)"
      ]
     },
     "execution_count": 261,
     "metadata": {},
     "output_type": "execute_result"
    }
   ],
   "source": [
    "lhs_embddings = model.get_layer(name='lhs-embeddings').get_weights()[0]\n",
    "lhs_embddings"
   ]
  },
  {
   "cell_type": "code",
   "execution_count": 262,
   "metadata": {},
   "outputs": [
    {
     "data": {
      "text/plain": [
       "array([[ 0.19675   ,  0.1866735 , -0.2003656 , ...,  0.14735422,\n",
       "        -0.24856205, -0.20726104],\n",
       "       [-0.0379989 ,  0.26103553,  0.02723127, ..., -0.0310324 ,\n",
       "        -0.33878103,  0.03931811],\n",
       "       [-0.20876454,  0.18137963, -0.21787699, ..., -0.22313525,\n",
       "        -0.18592082, -0.25180265],\n",
       "       ...,\n",
       "       [-0.32148919, -0.20469247,  0.22150776, ..., -0.28182837,\n",
       "         0.05838595,  0.20057122],\n",
       "       [-0.14905392, -0.15806538,  0.31706807, ...,  0.04027366,\n",
       "         0.620842  ,  0.46800125],\n",
       "       [ 0.02805981, -0.0466851 , -0.00787505, ...,  0.03328708,\n",
       "        -0.0140192 , -0.04915602]], dtype=float32)"
      ]
     },
     "execution_count": 262,
     "metadata": {},
     "output_type": "execute_result"
    }
   ],
   "source": [
    "rhs_embddings = model.get_layer(name='rhs-embeddings').get_weights()[0]\n",
    "rhs_embddings"
   ]
  },
  {
   "cell_type": "code",
   "execution_count": 263,
   "metadata": {},
   "outputs": [],
   "source": [
    "def recommend(option_in_category, number_of_movies=5):\n",
    "  options = lhs_embddings[option_in_category]@rhs_embddings.T\n",
    "  mids = np.argpartition(options, -number_of_movies)[-number_of_movies:]\n",
    "  \n",
    "  return mids"
   ]
  },
  {
   "cell_type": "code",
   "execution_count": 264,
   "metadata": {},
   "outputs": [
    {
     "data": {
      "text/plain": [
       "array([2544, 5011, 4248, 2540, 2559], dtype=int64)"
      ]
     },
     "execution_count": 264,
     "metadata": {},
     "output_type": "execute_result"
    }
   ],
   "source": [
    "recommend(2524)"
   ]
  },
  {
   "cell_type": "code",
   "execution_count": 265,
   "metadata": {},
   "outputs": [
    {
     "data": {
      "text/html": [
       "<div>\n",
       "<style scoped>\n",
       "    .dataframe tbody tr th:only-of-type {\n",
       "        vertical-align: middle;\n",
       "    }\n",
       "\n",
       "    .dataframe tbody tr th {\n",
       "        vertical-align: top;\n",
       "    }\n",
       "\n",
       "    .dataframe thead th {\n",
       "        text-align: right;\n",
       "    }\n",
       "</style>\n",
       "<table border=\"1\" class=\"dataframe\">\n",
       "  <thead>\n",
       "    <tr style=\"text-align: right;\">\n",
       "      <th></th>\n",
       "      <th>rating</th>\n",
       "      <th>bill</th>\n",
       "      <th>option_count</th>\n",
       "      <th>LHS</th>\n",
       "      <th>RHS</th>\n",
       "      <th>LHS_C</th>\n",
       "      <th>RHS_C</th>\n",
       "    </tr>\n",
       "  </thead>\n",
       "  <tbody>\n",
       "    <tr>\n",
       "      <th>2</th>\n",
       "      <td>2.302585</td>\n",
       "      <td>(745321, 751839)</td>\n",
       "      <td>2</td>\n",
       "      <td>745321</td>\n",
       "      <td>751839</td>\n",
       "      <td>2524</td>\n",
       "      <td>3071</td>\n",
       "    </tr>\n",
       "    <tr>\n",
       "      <th>5</th>\n",
       "      <td>5.017280</td>\n",
       "      <td>(751782, 751839)</td>\n",
       "      <td>2</td>\n",
       "      <td>751782</td>\n",
       "      <td>751839</td>\n",
       "      <td>3019</td>\n",
       "      <td>3071</td>\n",
       "    </tr>\n",
       "    <tr>\n",
       "      <th>10</th>\n",
       "      <td>4.672829</td>\n",
       "      <td>(751873, 760125)</td>\n",
       "      <td>2</td>\n",
       "      <td>751873</td>\n",
       "      <td>760125</td>\n",
       "      <td>3039</td>\n",
       "      <td>3746</td>\n",
       "    </tr>\n",
       "    <tr>\n",
       "      <th>11</th>\n",
       "      <td>2.484907</td>\n",
       "      <td>(772494, 754574)</td>\n",
       "      <td>2</td>\n",
       "      <td>772494</td>\n",
       "      <td>754574</td>\n",
       "      <td>4308</td>\n",
       "      <td>3518</td>\n",
       "    </tr>\n",
       "    <tr>\n",
       "      <th>13</th>\n",
       "      <td>2.397895</td>\n",
       "      <td>(772494, 749358)</td>\n",
       "      <td>2</td>\n",
       "      <td>772494</td>\n",
       "      <td>749358</td>\n",
       "      <td>4308</td>\n",
       "      <td>2816</td>\n",
       "    </tr>\n",
       "  </tbody>\n",
       "</table>\n",
       "</div>"
      ],
      "text/plain": [
       "      rating              bill  option_count     LHS     RHS  LHS_C  RHS_C\n",
       "2   2.302585  (745321, 751839)             2  745321  751839   2524   3071\n",
       "5   5.017280  (751782, 751839)             2  751782  751839   3019   3071\n",
       "10  4.672829  (751873, 760125)             2  751873  760125   3039   3746\n",
       "11  2.484907  (772494, 754574)             2  772494  754574   4308   3518\n",
       "13  2.397895  (772494, 749358)             2  772494  749358   4308   2816"
      ]
     },
     "execution_count": 265,
     "metadata": {},
     "output_type": "execute_result"
    }
   ],
   "source": [
    "sublist_by_2_concat.head() "
   ]
  },
  {
   "cell_type": "code",
   "execution_count": 266,
   "metadata": {},
   "outputs": [
    {
     "data": {
      "text/html": [
       "<div>\n",
       "<style scoped>\n",
       "    .dataframe tbody tr th:only-of-type {\n",
       "        vertical-align: middle;\n",
       "    }\n",
       "\n",
       "    .dataframe tbody tr th {\n",
       "        vertical-align: top;\n",
       "    }\n",
       "\n",
       "    .dataframe thead th {\n",
       "        text-align: right;\n",
       "    }\n",
       "</style>\n",
       "<table border=\"1\" class=\"dataframe\">\n",
       "  <thead>\n",
       "    <tr style=\"text-align: right;\">\n",
       "      <th></th>\n",
       "      <th>rating</th>\n",
       "      <th>bill</th>\n",
       "      <th>option_count</th>\n",
       "      <th>LHS</th>\n",
       "      <th>RHS</th>\n",
       "      <th>LHS_C</th>\n",
       "      <th>RHS_C</th>\n",
       "    </tr>\n",
       "  </thead>\n",
       "  <tbody>\n",
       "    <tr>\n",
       "      <th>776970</th>\n",
       "      <td>0.693147</td>\n",
       "      <td>(760352, 721495)</td>\n",
       "      <td>2</td>\n",
       "      <td>760352</td>\n",
       "      <td>721495</td>\n",
       "      <td>3719</td>\n",
       "      <td>2100</td>\n",
       "    </tr>\n",
       "    <tr>\n",
       "      <th>776972</th>\n",
       "      <td>0.693147</td>\n",
       "      <td>(760065, 721495)</td>\n",
       "      <td>2</td>\n",
       "      <td>760065</td>\n",
       "      <td>721495</td>\n",
       "      <td>3698</td>\n",
       "      <td>2100</td>\n",
       "    </tr>\n",
       "    <tr>\n",
       "      <th>776973</th>\n",
       "      <td>1.791759</td>\n",
       "      <td>(767779, 721495)</td>\n",
       "      <td>2</td>\n",
       "      <td>767779</td>\n",
       "      <td>721495</td>\n",
       "      <td>4142</td>\n",
       "      <td>2100</td>\n",
       "    </tr>\n",
       "    <tr>\n",
       "      <th>776974</th>\n",
       "      <td>0.693147</td>\n",
       "      <td>(760332, 721495)</td>\n",
       "      <td>2</td>\n",
       "      <td>760332</td>\n",
       "      <td>721495</td>\n",
       "      <td>3715</td>\n",
       "      <td>2100</td>\n",
       "    </tr>\n",
       "    <tr>\n",
       "      <th>1168575</th>\n",
       "      <td>2.079442</td>\n",
       "      <td>(714275, 721495)</td>\n",
       "      <td>2</td>\n",
       "      <td>714275</td>\n",
       "      <td>721495</td>\n",
       "      <td>1741</td>\n",
       "      <td>2100</td>\n",
       "    </tr>\n",
       "  </tbody>\n",
       "</table>\n",
       "</div>"
      ],
      "text/plain": [
       "           rating              bill  option_count     LHS     RHS  LHS_C  \\\n",
       "776970   0.693147  (760352, 721495)             2  760352  721495   3719   \n",
       "776972   0.693147  (760065, 721495)             2  760065  721495   3698   \n",
       "776973   1.791759  (767779, 721495)             2  767779  721495   4142   \n",
       "776974   0.693147  (760332, 721495)             2  760332  721495   3715   \n",
       "1168575  2.079442  (714275, 721495)             2  714275  721495   1741   \n",
       "\n",
       "         RHS_C  \n",
       "776970    2100  \n",
       "776972    2100  \n",
       "776973    2100  \n",
       "776974    2100  \n",
       "1168575   2100  "
      ]
     },
     "execution_count": 266,
     "metadata": {},
     "output_type": "execute_result"
    }
   ],
   "source": [
    "sublist_by_2_concat[sublist_by_2_concat.RHS_C == 2100].head()     # RHS = 721495, LHS = 751839"
   ]
  },
  {
   "cell_type": "code",
   "execution_count": 267,
   "metadata": {},
   "outputs": [
    {
     "data": {
      "text/html": [
       "<div>\n",
       "<style scoped>\n",
       "    .dataframe tbody tr th:only-of-type {\n",
       "        vertical-align: middle;\n",
       "    }\n",
       "\n",
       "    .dataframe tbody tr th {\n",
       "        vertical-align: top;\n",
       "    }\n",
       "\n",
       "    .dataframe thead th {\n",
       "        text-align: right;\n",
       "    }\n",
       "</style>\n",
       "<table border=\"1\" class=\"dataframe\">\n",
       "  <thead>\n",
       "    <tr style=\"text-align: right;\">\n",
       "      <th></th>\n",
       "      <th>rating</th>\n",
       "      <th>bill</th>\n",
       "      <th>option_count</th>\n",
       "      <th>LHS</th>\n",
       "      <th>RHS</th>\n",
       "      <th>LHS_C</th>\n",
       "      <th>RHS_C</th>\n",
       "    </tr>\n",
       "  </thead>\n",
       "  <tbody>\n",
       "  </tbody>\n",
       "</table>\n",
       "</div>"
      ],
      "text/plain": [
       "Empty DataFrame\n",
       "Columns: [rating, bill, option_count, LHS, RHS, LHS_C, RHS_C]\n",
       "Index: []"
      ]
     },
     "execution_count": 267,
     "metadata": {},
     "output_type": "execute_result"
    }
   ],
   "source": [
    "# RHS = 721495, LHS = 751839 \n",
    "sublist_by_2_concat.loc[(sublist_by_2_concat.RHS== 721495) & (sublist_by_2_concat.LHS == 751839)]"
   ]
  },
  {
   "cell_type": "markdown",
   "metadata": {},
   "source": [
    "# Model 2: Apriori (apyori Module)"
   ]
  },
  {
   "cell_type": "code",
   "execution_count": 249,
   "metadata": {},
   "outputs": [],
   "source": [
    "from apyori import apriori "
   ]
  },
  {
   "cell_type": "code",
   "execution_count": 252,
   "metadata": {},
   "outputs": [
    {
     "data": {
      "text/plain": [
       "958"
      ]
     },
     "execution_count": 252,
     "metadata": {},
     "output_type": "execute_result"
    }
   ],
   "source": [
    "associations = apriori(\n",
    "    transactions,\n",
    "    min_length = 2,\n",
    "    max_length=4,\n",
    "    min_support = 0.001,\n",
    "    min_confidence = 0.001,\n",
    "    min_lift = 0.001,\n",
    ")\n",
    "\n",
    "associations = list(associations)\n",
    "len(associations)"
   ]
  },
  {
   "cell_type": "code",
   "execution_count": 253,
   "metadata": {},
   "outputs": [
    {
     "name": "stdout",
     "output_type": "stream",
     "text": [
      "RelationRecord(items=frozenset({704335}), support=0.001821772946978433, ordered_statistics=[OrderedStatistic(items_base=frozenset(), items_add=frozenset({704335}), confidence=0.001821772946978433, lift=1.0)])\n",
      "support 0.001821772946978433\n",
      "[OrderedStatistic(items_base=frozenset(), items_add=frozenset({704335}), confidence=0.001821772946978433, lift=1.0)]\n",
      "right frozenset({704335})\n",
      "left frozenset()\n",
      "confidence 0.001821772946978433\n",
      "lift 1.0\n"
     ]
    }
   ],
   "source": [
    "association = associations[100]\n",
    "print(association)\n",
    "print(\"support\", association.support)\n",
    "print(association.ordered_statistics)\n",
    "print(\"right\", association.ordered_statistics[0].items_add)\n",
    "print(\"left\", association.ordered_statistics[0].items_base)\n",
    "print(\"confidence\", association.ordered_statistics[0].confidence)\n",
    "print(\"lift\", association.ordered_statistics[0].lift)\n"
   ]
  },
  {
   "cell_type": "code",
   "execution_count": 254,
   "metadata": {},
   "outputs": [],
   "source": [
    "rules = [] \n",
    "for association in associations:\n",
    "    if len(association.ordered_statistics) > 1: \n",
    "        rules.append(association)"
   ]
  },
  {
   "cell_type": "code",
   "execution_count": 255,
   "metadata": {},
   "outputs": [
    {
     "data": {
      "text/plain": [
       "144"
      ]
     },
     "execution_count": 255,
     "metadata": {},
     "output_type": "execute_result"
    }
   ],
   "source": [
    "len(rules)"
   ]
  },
  {
   "cell_type": "code",
   "execution_count": 256,
   "metadata": {},
   "outputs": [
    {
     "data": {
      "text/plain": [
       "[RelationRecord(items=frozenset({525099, 525100}), support=0.0011010378585273694, ordered_statistics=[OrderedStatistic(items_base=frozenset(), items_add=frozenset({525099, 525100}), confidence=0.0011010378585273694, lift=1.0), OrderedStatistic(items_base=frozenset({525099}), items_add=frozenset({525100}), confidence=0.24224021592442646, lift=11.800967554677243), OrderedStatistic(items_base=frozenset({525100}), items_add=frozenset({525099}), confidence=0.05363812938891378, lift=11.800967554677243)]),\n",
       " RelationRecord(items=frozenset({702418, 525100}), support=0.0017328311701057487, ordered_statistics=[OrderedStatistic(items_base=frozenset(), items_add=frozenset({702418, 525100}), confidence=0.0017328311701057487, lift=1.0), OrderedStatistic(items_base=frozenset({525100}), items_add=frozenset({702418}), confidence=0.08441655460929329, lift=11.225336105092875), OrderedStatistic(items_base=frozenset({702418}), items_add=frozenset({525100}), confidence=0.23042414355628058, lift=11.225336105092875)]),\n",
       " RelationRecord(items=frozenset({525100, 702421}), support=0.00120838138233923, ordered_statistics=[OrderedStatistic(items_base=frozenset(), items_add=frozenset({525100, 702421}), confidence=0.00120838138233923, lift=1.0), OrderedStatistic(items_base=frozenset({525100}), items_add=frozenset({702421}), confidence=0.05886747347975496, lift=10.11813017022403), OrderedStatistic(items_base=frozenset({702421}), items_add=frozenset({525100}), confidence=0.2076963626779125, lift=10.11813017022403)]),\n",
       " RelationRecord(items=frozenset({525100, 702423}), support=0.003447260593272321, ordered_statistics=[OrderedStatistic(items_base=frozenset(), items_add=frozenset({525100, 702423}), confidence=0.003447260593272321, lift=1.0), OrderedStatistic(items_base=frozenset({525100}), items_add=frozenset({702423}), confidence=0.16793665023158522, lift=12.817591860465765), OrderedStatistic(items_base=frozenset({702423}), items_add=frozenset({525100}), confidence=0.2631086142322097, lift=12.817591860465765)]),\n",
       " RelationRecord(items=frozenset({702428, 525100}), support=0.0015242780381284197, ordered_statistics=[OrderedStatistic(items_base=frozenset(), items_add=frozenset({702428, 525100}), confidence=0.0015242780381284197, lift=1.0), OrderedStatistic(items_base=frozenset({525100}), items_add=frozenset({702428}), confidence=0.07425668608994472, lift=9.326594006064335), OrderedStatistic(items_base=frozenset({702428}), items_add=frozenset({525100}), confidence=0.1914483821263482, lift=9.326594006064335)]),\n",
       " RelationRecord(items=frozenset({525100, 702461}), support=0.0024689010476727923, ordered_statistics=[OrderedStatistic(items_base=frozenset(), items_add=frozenset({525100, 702461}), confidence=0.0024689010476727923, lift=1.0), OrderedStatistic(items_base=frozenset({525100}), items_add=frozenset({702461}), confidence=0.12027491408934707, lift=11.833541758695278), OrderedStatistic(items_base=frozenset({702461}), items_add=frozenset({525100}), confidence=0.2429088714544357, lift=11.833541758695276)]),\n",
       " RelationRecord(items=frozenset({525100, 703317}), support=0.00200885737419339, ordered_statistics=[OrderedStatistic(items_base=frozenset(), items_add=frozenset({525100, 703317}), confidence=0.00200885737419339, lift=1.0), OrderedStatistic(items_base=frozenset({525100}), items_add=frozenset({703317}), confidence=0.09786343941431346, lift=9.734277486782608), OrderedStatistic(items_base=frozenset({703317}), items_add=frozenset({525100}), confidence=0.199816961561928, lift=9.734277486782608)]),\n",
       " RelationRecord(items=frozenset({525100, 703319}), support=0.0013249257796206786, ordered_statistics=[OrderedStatistic(items_base=frozenset(), items_add=frozenset({525100, 703319}), confidence=0.0013249257796206786, lift=1.0), OrderedStatistic(items_base=frozenset({525100}), items_add=frozenset({703319}), confidence=0.0645450470640968, lift=10.898653477747876), OrderedStatistic(items_base=frozenset({703319}), items_add=frozenset({525100}), confidence=0.22371828068358363, lift=10.898653477747876)]),\n",
       " RelationRecord(items=frozenset({703320, 525100}), support=0.001588684152415536, ordered_statistics=[OrderedStatistic(items_base=frozenset(), items_add=frozenset({703320, 525100}), confidence=0.001588684152415536, lift=1.0), OrderedStatistic(items_base=frozenset({525100}), items_add=frozenset({703320}), confidence=0.07739429254444942, lift=9.76959870300929), OrderedStatistic(items_base=frozenset({703320}), items_add=frozenset({525100}), confidence=0.2005420054200542, lift=9.769598703009292)]),\n",
       " RelationRecord(items=frozenset({703323, 525100}), support=0.003122163064013544, ordered_statistics=[OrderedStatistic(items_base=frozenset(), items_add=frozenset({703323, 525100}), confidence=0.003122163064013544, lift=1.0), OrderedStatistic(items_base=frozenset({525100}), items_add=frozenset({703323}), confidence=0.15209920812789482, lift=12.101722646498017), OrderedStatistic(items_base=frozenset({703323}), items_add=frozenset({525100}), confidence=0.24841386041971694, lift=12.101722646498017)]),\n",
       " RelationRecord(items=frozenset({716035, 525100}), support=0.0011163726476433496, ordered_statistics=[OrderedStatistic(items_base=frozenset(), items_add=frozenset({716035, 525100}), confidence=0.0011163726476433496, lift=1.0), OrderedStatistic(items_base=frozenset({525100}), items_add=frozenset({716035}), confidence=0.05438517854474824, lift=8.21715188859427), OrderedStatistic(items_base=frozenset({716035}), items_add=frozenset({525100}), confidence=0.1686746987951807, lift=8.217151888594268)]),\n",
       " RelationRecord(items=frozenset({701923, 701998}), support=0.0015273449959516156, ordered_statistics=[OrderedStatistic(items_base=frozenset(), items_add=frozenset({701923, 701998}), confidence=0.0015273449959516156, lift=1.0), OrderedStatistic(items_base=frozenset({701923}), items_add=frozenset({701998}), confidence=0.6140567200986436, lift=127.77082190713679), OrderedStatistic(items_base=frozenset({701998}), items_add=frozenset({701923}), confidence=0.3178047223994895, lift=127.77082190713679)]),\n",
       " RelationRecord(items=frozenset({701994, 701998}), support=0.0028522707755722944, ordered_statistics=[OrderedStatistic(items_base=frozenset(), items_add=frozenset({701994, 701998}), confidence=0.0028522707755722944, lift=1.0), OrderedStatistic(items_base=frozenset({701994}), items_add=frozenset({701998}), confidence=0.785472972972973, lift=163.43852946756584), OrderedStatistic(items_base=frozenset({701998}), items_add=frozenset({701994}), confidence=0.5934907466496491, lift=163.43852946756587)]),\n",
       " RelationRecord(items=frozenset({702418, 703323}), support=0.001018229997301077, ordered_statistics=[OrderedStatistic(items_base=frozenset(), items_add=frozenset({702418, 703323}), confidence=0.001018229997301077, lift=1.0), OrderedStatistic(items_base=frozenset({702418}), items_add=frozenset({703323}), confidence=0.13539967373572592, lift=10.773029775396743), OrderedStatistic(items_base=frozenset({703323}), items_add=frozenset({702418}), confidence=0.08101512933138116, lift=10.773029775396743)]),\n",
       " RelationRecord(items=frozenset({702428, 702423}), support=0.0010396987020634492, ordered_statistics=[OrderedStatistic(items_base=frozenset(), items_add=frozenset({702428, 702423}), confidence=0.0010396987020634492, lift=1.0), OrderedStatistic(items_base=frozenset({702423}), items_add=frozenset({702428}), confidence=0.07935393258426965, lift=9.966805024151242), OrderedStatistic(items_base=frozenset({702428}), items_add=frozenset({702423}), confidence=0.1305855161787365, lift=9.966805024151244)]),\n",
       " RelationRecord(items=frozenset({702461, 702423}), support=0.0015242780381284197, ordered_statistics=[OrderedStatistic(items_base=frozenset(), items_add=frozenset({702461, 702423}), confidence=0.0015242780381284197, lift=1.0), OrderedStatistic(items_base=frozenset({702423}), items_add=frozenset({702461}), confidence=0.11633895131086142, lift=11.446292428670558), OrderedStatistic(items_base=frozenset({702461}), items_add=frozenset({702423}), confidence=0.1499698249849125, lift=11.446292428670558)]),\n",
       " RelationRecord(items=frozenset({703317, 702423}), support=0.0014138675564933632, ordered_statistics=[OrderedStatistic(items_base=frozenset(), items_add=frozenset({703317, 702423}), confidence=0.0014138675564933632, lift=1.0), OrderedStatistic(items_base=frozenset({702423}), items_add=frozenset({703317}), confidence=0.10791198501872659, lift=10.733785902155558), OrderedStatistic(items_base=frozenset({703317}), items_add=frozenset({702423}), confidence=0.14063453325198294, lift=10.733785902155558)]),\n",
       " RelationRecord(items=frozenset({703320, 702423}), support=0.0011010378585273694, ordered_statistics=[OrderedStatistic(items_base=frozenset(), items_add=frozenset({703320, 702423}), confidence=0.0011010378585273694, lift=1.0), OrderedStatistic(items_base=frozenset({702423}), items_add=frozenset({703320}), confidence=0.08403558052434455, lift=10.607938537919352), OrderedStatistic(items_base=frozenset({703320}), items_add=frozenset({702423}), confidence=0.1389856755710414, lift=10.607938537919352)]),\n",
       " RelationRecord(items=frozenset({703323, 702423}), support=0.0015058762911892435, ordered_statistics=[OrderedStatistic(items_base=frozenset(), items_add=frozenset({703323, 702423}), confidence=0.0015058762911892435, lift=1.0), OrderedStatistic(items_base=frozenset({702423}), items_add=frozenset({703323}), confidence=0.11493445692883894, lift=9.144721641871525), OrderedStatistic(items_base=frozenset({703323}), items_add=frozenset({702423}), confidence=0.11981454367984382, lift=9.144721641871525)]),\n",
       " RelationRecord(items=frozenset({703323, 702428}), support=0.0010151630394778812, ordered_statistics=[OrderedStatistic(items_base=frozenset(), items_add=frozenset({703323, 702428}), confidence=0.0010151630394778812, lift=1.0), OrderedStatistic(items_base=frozenset({702428}), items_add=frozenset({703323}), confidence=0.12750385208012327, lift=10.144801365016269), OrderedStatistic(items_base=frozenset({703323}), items_add=frozenset({702428}), confidence=0.08077110785749146, lift=10.144801365016269)]),\n",
       " RelationRecord(items=frozenset({703320, 702461}), support=0.0011163726476433496, ordered_statistics=[OrderedStatistic(items_base=frozenset(), items_add=frozenset({703320, 702461}), confidence=0.0011163726476433496, lift=1.0), OrderedStatistic(items_base=frozenset({702461}), items_add=frozenset({703320}), confidence=0.10983705491852745, lift=13.864897707516603), OrderedStatistic(items_base=frozenset({703320}), items_add=frozenset({702461}), confidence=0.14092140921409213, lift=13.864897707516604)]),\n",
       " RelationRecord(items=frozenset({703323, 702461}), support=0.0010581004490026254, ordered_statistics=[OrderedStatistic(items_base=frozenset(), items_add=frozenset({703323, 702461}), confidence=0.0010581004490026254, lift=1.0), OrderedStatistic(items_base=frozenset({702461}), items_add=frozenset({703323}), confidence=0.10410380205190103, lift=8.282984207377902), OrderedStatistic(items_base=frozenset({703323}), items_add=frozenset({702461}), confidence=0.0841874084919473, lift=8.282984207377902)]),\n",
       " RelationRecord(items=frozenset({703323, 703317}), support=0.0015396128272443998, ordered_statistics=[OrderedStatistic(items_base=frozenset(), items_add=frozenset({703323, 703317}), confidence=0.0015396128272443998, lift=1.0), OrderedStatistic(items_base=frozenset({703317}), items_add=frozenset({703323}), confidence=0.15314215985356927, lift=12.18470475188272), OrderedStatistic(items_base=frozenset({703323}), items_add=frozenset({703317}), confidence=0.12249877989263055, lift=12.184704751882718)]),\n",
       " RelationRecord(items=frozenset({703320, 703323}), support=0.001018229997301077, ordered_statistics=[OrderedStatistic(items_base=frozenset(), items_add=frozenset({703320, 703323}), confidence=0.001018229997301077, lift=1.0), OrderedStatistic(items_base=frozenset({703320}), items_add=frozenset({703323}), confidence=0.12853271389856755, lift=10.226662411642591), OrderedStatistic(items_base=frozenset({703323}), items_add=frozenset({703320}), confidence=0.08101512933138116, lift=10.226662411642591)]),\n",
       " RelationRecord(items=frozenset({744133, 744125}), support=0.0011654439728144858, ordered_statistics=[OrderedStatistic(items_base=frozenset(), items_add=frozenset({744133, 744125}), confidence=0.0011654439728144858, lift=1.0), OrderedStatistic(items_base=frozenset({744125}), items_add=frozenset({744133}), confidence=0.5292479108635098, lift=170.85589784605202), OrderedStatistic(items_base=frozenset({744133}), items_add=frozenset({744125}), confidence=0.37623762376237624, lift=170.85589784605202)]),\n",
       " RelationRecord(items=frozenset({745305, 745321}), support=0.0014966754177196556, ordered_statistics=[OrderedStatistic(items_base=frozenset(), items_add=frozenset({745305, 745321}), confidence=0.0014966754177196556, lift=1.0), OrderedStatistic(items_base=frozenset({745305}), items_add=frozenset({745321}), confidence=0.2546972860125261, lift=43.86982476920244), OrderedStatistic(items_base=frozenset({745321}), items_add=frozenset({745305}), confidence=0.25779186476492344, lift=43.86982476920244)]),\n",
       " RelationRecord(items=frozenset({745321, 745332}), support=0.0010274308707706652, ordered_statistics=[OrderedStatistic(items_base=frozenset(), items_add=frozenset({745321, 745332}), confidence=0.0010274308707706652, lift=1.0), OrderedStatistic(items_base=frozenset({745321}), items_add=frozenset({745332}), confidence=0.1769677760169044, lift=34.0823421009851), OrderedStatistic(items_base=frozenset({745332}), items_add=frozenset({745321}), confidence=0.19787359716479622, lift=34.0823421009851)]),\n",
       " RelationRecord(items=frozenset({748938, 748950}), support=0.0014322693034325392, ordered_statistics=[OrderedStatistic(items_base=frozenset(), items_add=frozenset({748938, 748950}), confidence=0.0014322693034325392, lift=1.0), OrderedStatistic(items_base=frozenset({748938}), items_add=frozenset({748950}), confidence=0.18891585760517798, lift=44.442387350154334), OrderedStatistic(items_base=frozenset({748950}), items_add=frozenset({748938}), confidence=0.33694083694083693, lift=44.442387350154334)]),\n",
       " RelationRecord(items=frozenset({748938, 748957}), support=0.0017236302966361606, ordered_statistics=[OrderedStatistic(items_base=frozenset(), items_add=frozenset({748938, 748957}), confidence=0.0017236302966361606, lift=1.0), OrderedStatistic(items_base=frozenset({748938}), items_add=frozenset({748957}), confidence=0.2273462783171521, lift=38.85095289464221), OrderedStatistic(items_base=frozenset({748957}), items_add=frozenset({748938}), confidence=0.2945492662473794, lift=38.85095289464221)]),\n",
       " RelationRecord(items=frozenset({748957, 748950}), support=0.0010642343646490174, ordered_statistics=[OrderedStatistic(items_base=frozenset(), items_add=frozenset({748957, 748950}), confidence=0.0010642343646490174, lift=1.0), OrderedStatistic(items_base=frozenset({748950}), items_add=frozenset({748957}), confidence=0.2503607503607504, lift=42.78387045053712), OrderedStatistic(items_base=frozenset({748957}), items_add=frozenset({748950}), confidence=0.1818658280922432, lift=42.783870450537115)]),\n",
       " RelationRecord(items=frozenset({751532, 751526}), support=0.0012881222857423266, ordered_statistics=[OrderedStatistic(items_base=frozenset(), items_add=frozenset({751532, 751526}), confidence=0.0012881222857423266, lift=1.0), OrderedStatistic(items_base=frozenset({751526}), items_add=frozenset({751532}), confidence=0.1881720430107527, lift=28.14432277794219), OrderedStatistic(items_base=frozenset({751532}), items_add=frozenset({751526}), confidence=0.1926605504587156, lift=28.144322777942193)]),\n",
       " RelationRecord(items=frozenset({751581, 751526}), support=0.0016929607184042006, ordered_statistics=[OrderedStatistic(items_base=frozenset(), items_add=frozenset({751581, 751526}), confidence=0.0016929607184042006, lift=1.0), OrderedStatistic(items_base=frozenset({751526}), items_add=frozenset({751581}), confidence=0.24731182795698925, lift=14.733693655462103), OrderedStatistic(items_base=frozenset({751581}), items_add=frozenset({751526}), confidence=0.10085876119130277, lift=14.733693655462105)]),\n",
       " RelationRecord(items=frozenset({751600, 751526}), support=0.00160095198370832, ordered_statistics=[OrderedStatistic(items_base=frozenset(), items_add=frozenset({751600, 751526}), confidence=0.00160095198370832, lift=1.0), OrderedStatistic(items_base=frozenset({751526}), items_add=frozenset({751600}), confidence=0.2338709677419355, lift=16.573577973932736), OrderedStatistic(items_base=frozenset({751600}), items_add=frozenset({751526}), confidence=0.11345359704412085, lift=16.573577973932736)]),\n",
       " RelationRecord(items=frozenset({751532, 751581}), support=0.0017512329170449247, ordered_statistics=[OrderedStatistic(items_base=frozenset(), items_add=frozenset({751532, 751581}), confidence=0.0017512329170449247, lift=1.0), OrderedStatistic(items_base=frozenset({751532}), items_add=frozenset({751581}), confidence=0.26192660550458713, lift=15.604374435301235), OrderedStatistic(items_base=frozenset({751581}), items_add=frozenset({751532}), confidence=0.10433034898593094, lift=15.604374435301237)]),\n",
       " RelationRecord(items=frozenset({751600, 751532}), support=0.00120838138233923, ordered_statistics=[OrderedStatistic(items_base=frozenset(), items_add=frozenset({751600, 751532}), confidence=0.00120838138233923, lift=1.0), OrderedStatistic(items_base=frozenset({751532}), items_add=frozenset({751600}), confidence=0.18073394495412842, lift=12.807952000861398), OrderedStatistic(items_base=frozenset({751600}), items_add=frozenset({751532}), confidence=0.08563355792219082, lift=12.807952000861398)]),\n",
       " RelationRecord(items=frozenset({751581, 751591}), support=0.001429202345609343, ordered_statistics=[OrderedStatistic(items_base=frozenset(), items_add=frozenset({751581, 751591}), confidence=0.001429202345609343, lift=1.0), OrderedStatistic(items_base=frozenset({751581}), items_add=frozenset({751591}), confidence=0.08514525854193312, lift=20.0738412285962), OrderedStatistic(items_base=frozenset({751591}), items_add=frozenset({751581}), confidence=0.33694866232827186, lift=20.0738412285962)]),\n",
       " RelationRecord(items=frozenset({751600, 751581}), support=0.004186397428662561, ordered_statistics=[OrderedStatistic(items_base=frozenset(), items_add=frozenset({751600, 751581}), confidence=0.004186397428662561, lift=1.0), OrderedStatistic(items_base=frozenset({751581}), items_add=frozenset({751600}), confidence=0.2494061757719715, lift=17.67450120571744), OrderedStatistic(items_base=frozenset({751600}), items_add=frozenset({751581}), confidence=0.2966746359487068, lift=17.67450120571744)]),\n",
       " RelationRecord(items=frozenset({751754, 751839}), support=0.002361557523860932, ordered_statistics=[OrderedStatistic(items_base=frozenset(), items_add=frozenset({751754, 751839}), confidence=0.002361557523860932, lift=1.0), OrderedStatistic(items_base=frozenset({751754}), items_add=frozenset({751839}), confidence=0.21899886234357224, lift=34.39590224484383), OrderedStatistic(items_base=frozenset({751839}), items_add=frozenset({751754}), confidence=0.37090558766859344, lift=34.39590224484383)]),\n",
       " RelationRecord(items=frozenset({751873, 751754}), support=0.0013371936109134628, ordered_statistics=[OrderedStatistic(items_base=frozenset(), items_add=frozenset({751873, 751754}), confidence=0.0013371936109134628, lift=1.0), OrderedStatistic(items_base=frozenset({751754}), items_add=frozenset({751873}), confidence=0.12400455062571104, lift=16.46942067568914), OrderedStatistic(items_base=frozenset({751873}), items_add=frozenset({751754}), confidence=0.17759674134419554, lift=16.46942067568914)]),\n",
       " RelationRecord(items=frozenset({751969, 751754}), support=0.0016653580979954364, ordered_statistics=[OrderedStatistic(items_base=frozenset(), items_add=frozenset({751969, 751754}), confidence=0.0016653580979954364, lift=1.0), OrderedStatistic(items_base=frozenset({751754}), items_add=frozenset({751969}), confidence=0.1544368600682594, lift=27.5014007899598), OrderedStatistic(items_base=frozenset({751969}), items_add=frozenset({751754}), confidence=0.2965592572364828, lift=27.501400789959796)]),\n",
       " RelationRecord(items=frozenset({751969, 751779}), support=0.0011439752680521137, ordered_statistics=[OrderedStatistic(items_base=frozenset(), items_add=frozenset({751969, 751779}), confidence=0.0011439752680521137, lift=1.0), OrderedStatistic(items_base=frozenset({751779}), items_add=frozenset({751969}), confidence=0.3549000951474786, lift=63.19896527766591), OrderedStatistic(items_base=frozenset({751969}), items_add=frozenset({751779}), confidence=0.20371381758601856, lift=63.198965277665906)]),\n",
       " RelationRecord(items=frozenset({751969, 751839}), support=0.001168510930637682, ordered_statistics=[OrderedStatistic(items_base=frozenset(), items_add=frozenset({751969, 751839}), confidence=0.001168510930637682, lift=1.0), OrderedStatistic(items_base=frozenset({751839}), items_add=frozenset({751969}), confidence=0.18352601156069365, lift=32.68146216572011), OrderedStatistic(items_base=frozenset({751969}), items_add=frozenset({751839}), confidence=0.20808301474604043, lift=32.68146216572011)]),\n",
       " RelationRecord(items=frozenset({751848, 751873}), support=0.0028829403538042546, ordered_statistics=[OrderedStatistic(items_base=frozenset(), items_add=frozenset({751848, 751873}), confidence=0.0028829403538042546, lift=1.0), OrderedStatistic(items_base=frozenset({751848}), items_add=frozenset({751873}), confidence=0.5328798185941044, lift=70.77338579695287), OrderedStatistic(items_base=frozenset({751873}), items_add=frozenset({751848}), confidence=0.38289205702647655, lift=70.77338579695287)]),\n",
       " RelationRecord(items=frozenset({753433, 753285}), support=0.001214515297985622, ordered_statistics=[OrderedStatistic(items_base=frozenset(), items_add=frozenset({753433, 753285}), confidence=0.001214515297985622, lift=1.0), OrderedStatistic(items_base=frozenset({753285}), items_add=frozenset({753433}), confidence=0.1675835801946678, lift=13.278646858797716), OrderedStatistic(items_base=frozenset({753433}), items_add=frozenset({753285}), confidence=0.09623329283110571, lift=13.278646858797716)]),\n",
       " RelationRecord(items=frozenset({753285, 759397}), support=0.0012390509605711903, ordered_statistics=[OrderedStatistic(items_base=frozenset(), items_add=frozenset({753285, 759397}), confidence=0.0012390509605711903, lift=1.0), OrderedStatistic(items_base=frozenset({753285}), items_add=frozenset({759397}), confidence=0.17096910706728735, lift=15.029793252610258), OrderedStatistic(items_base=frozenset({759397}), items_add=frozenset({753285}), confidence=0.10892423833917499, lift=15.029793252610258)]),\n",
       " RelationRecord(items=frozenset({753314, 753517}), support=0.0011409083102289178, ordered_statistics=[OrderedStatistic(items_base=frozenset(), items_add=frozenset({753314, 753517}), confidence=0.0011409083102289178, lift=1.0), OrderedStatistic(items_base=frozenset({753314}), items_add=frozenset({753517}), confidence=0.1498791297340854, lift=7.910163406373737), OrderedStatistic(items_base=frozenset({753517}), items_add=frozenset({753314}), confidence=0.06021366137908709, lift=7.910163406373739)]),\n",
       " RelationRecord(items=frozenset({753314, 753542}), support=0.0010396987020634492, ordered_statistics=[OrderedStatistic(items_base=frozenset(), items_add=frozenset({753314, 753542}), confidence=0.0010396987020634492, lift=1.0), OrderedStatistic(items_base=frozenset({753314}), items_add=frozenset({753542}), confidence=0.13658340048348105, lift=12.520055447861091), OrderedStatistic(items_base=frozenset({753542}), items_add=frozenset({753314}), confidence=0.09530503233061569, lift=12.52005544786109)]),\n",
       " RelationRecord(items=frozenset({753600, 753314}), support=0.002153004391883603, ordered_statistics=[OrderedStatistic(items_base=frozenset(), items_add=frozenset({753600, 753314}), confidence=0.002153004391883603, lift=1.0), OrderedStatistic(items_base=frozenset({753314}), items_add=frozenset({753600}), confidence=0.2828364222401289, lift=9.566443204349321), OrderedStatistic(items_base=frozenset({753600}), items_add=frozenset({753314}), confidence=0.07282157676348547, lift=9.566443204349321)]),\n",
       " RelationRecord(items=frozenset({753609, 753314}), support=0.0015702824054763598, ordered_statistics=[OrderedStatistic(items_base=frozenset(), items_add=frozenset({753609, 753314}), confidence=0.0015702824054763598, lift=1.0), OrderedStatistic(items_base=frozenset({753314}), items_add=frozenset({753609}), confidence=0.2062852538275584, lift=10.41668649868335), OrderedStatistic(items_base=frozenset({753609}), items_add=frozenset({753314}), confidence=0.07929378968561251, lift=10.41668649868335)]),\n",
       " RelationRecord(items=frozenset({753509, 753334}), support=0.0011531761415217018, ordered_statistics=[OrderedStatistic(items_base=frozenset(), items_add=frozenset({753509, 753334}), confidence=0.0011531761415217018, lift=1.0), OrderedStatistic(items_base=frozenset({753334}), items_add=frozenset({753509}), confidence=0.2896764252696456, lift=32.55799259487058), OrderedStatistic(items_base=frozenset({753509}), items_add=frozenset({753334}), confidence=0.1296104791451224, lift=32.55799259487058)]),\n",
       " RelationRecord(items=frozenset({753337, 753467}), support=0.001002895208185097, ordered_statistics=[OrderedStatistic(items_base=frozenset(), items_add=frozenset({753337, 753467}), confidence=0.001002895208185097, lift=1.0), OrderedStatistic(items_base=frozenset({753337}), items_add=frozenset({753467}), confidence=0.14430714916151807, lift=26.795109240892902), OrderedStatistic(items_base=frozenset({753467}), items_add=frozenset({753337}), confidence=0.18621867881548973, lift=26.795109240892906)]),\n",
       " RelationRecord(items=frozenset({753338, 753459}), support=0.001214515297985622, ordered_statistics=[OrderedStatistic(items_base=frozenset(), items_add=frozenset({753338, 753459}), confidence=0.001214515297985622, lift=1.0), OrderedStatistic(items_base=frozenset({753338}), items_add=frozenset({753459}), confidence=0.32432432432432434, lift=86.53673640907684), OrderedStatistic(items_base=frozenset({753459}), items_add=frozenset({753338}), confidence=0.32405891980360063, lift=86.53673640907682)]),\n",
       " RelationRecord(items=frozenset({753517, 753342}), support=0.0014322693034325392, ordered_statistics=[OrderedStatistic(items_base=frozenset(), items_add=frozenset({753517, 753342}), confidence=0.0014322693034325392, lift=1.0), OrderedStatistic(items_base=frozenset({753342}), items_add=frozenset({753517}), confidence=0.13719153936545242, lift=7.2405510779122615), OrderedStatistic(items_base=frozenset({753517}), items_add=frozenset({753342}), confidence=0.07559080608611202, lift=7.240551077912262)]),\n",
       " RelationRecord(items=frozenset({753542, 753342}), support=0.0012697205388031503, ordered_statistics=[OrderedStatistic(items_base=frozenset(), items_add=frozenset({753342, 753542}), confidence=0.0012697205388031503, lift=1.0), OrderedStatistic(items_base=frozenset({753342}), items_add=frozenset({753542}), confidence=0.12162162162162161, lift=11.148568866870807), OrderedStatistic(items_base=frozenset({753542}), items_add=frozenset({753342}), confidence=0.11639021647455722, lift=11.148568866870807)]),\n",
       " RelationRecord(items=frozenset({753600, 753342}), support=0.0023860931864465, ordered_statistics=[OrderedStatistic(items_base=frozenset(), items_add=frozenset({753600, 753342}), confidence=0.0023860931864465, lift=1.0), OrderedStatistic(items_base=frozenset({753342}), items_add=frozenset({753600}), confidence=0.22855464159811986, lift=7.730457699265204), OrderedStatistic(items_base=frozenset({753600}), items_add=frozenset({753342}), confidence=0.08070539419087136, lift=7.730457699265203)]),\n",
       " RelationRecord(items=frozenset({753609, 753342}), support=0.0023952940599160882, ordered_statistics=[OrderedStatistic(items_base=frozenset(), items_add=frozenset({753609, 753342}), confidence=0.0023952940599160882, lift=1.0), OrderedStatistic(items_base=frozenset({753342}), items_add=frozenset({753609}), confidence=0.2294359576968273, lift=11.585716373361734), OrderedStatistic(items_base=frozenset({753609}), items_add=frozenset({753342}), confidence=0.12095400340715504, lift=11.585716373361734)]),\n",
       " RelationRecord(items=frozenset({753342, 753663}), support=0.001002895208185097, ordered_statistics=[OrderedStatistic(items_base=frozenset(), items_add=frozenset({753342, 753663}), confidence=0.001002895208185097, lift=1.0), OrderedStatistic(items_base=frozenset({753342}), items_add=frozenset({753663}), confidence=0.09606345475910692, lift=9.526175731428031), OrderedStatistic(items_base=frozenset({753663}), items_add=frozenset({753342}), confidence=0.09945255474452554, lift=9.526175731428031)]),\n",
       " RelationRecord(items=frozenset({760050, 753342}), support=0.001183845719753662, ordered_statistics=[OrderedStatistic(items_base=frozenset(), items_add=frozenset({760050, 753342}), confidence=0.001183845719753662, lift=1.0), OrderedStatistic(items_base=frozenset({753342}), items_add=frozenset({760050}), confidence=0.11339600470035253, lift=13.994491941172653), OrderedStatistic(items_base=frozenset({760050}), items_add=frozenset({753342}), confidence=0.14610143830431493, lift=13.994491941172653)]),\n",
       " RelationRecord(items=frozenset({753376, 753350}), support=0.0024382314694408325, ordered_statistics=[OrderedStatistic(items_base=frozenset(), items_add=frozenset({753376, 753350}), confidence=0.0024382314694408325, lift=1.0), OrderedStatistic(items_base=frozenset({753350}), items_add=frozenset({753376}), confidence=0.2200996677740864, lift=16.26582440520116), OrderedStatistic(items_base=frozenset({753376}), items_add=frozenset({753350}), confidence=0.1801903898458749, lift=16.26582440520116)]),\n",
       " RelationRecord(items=frozenset({753509, 753350}), support=0.001168510930637682, ordered_statistics=[OrderedStatistic(items_base=frozenset(), items_add=frozenset({753509, 753350}), confidence=0.001168510930637682, lift=1.0), OrderedStatistic(items_base=frozenset({753350}), items_add=frozenset({753509}), confidence=0.10548172757475083, lift=11.855549867670788), OrderedStatistic(items_base=frozenset({753509}), items_add=frozenset({753350}), confidence=0.1313340227507756, lift=11.855549867670788)]),\n",
       " RelationRecord(items=frozenset({753562, 753350}), support=0.001429202345609343, ordered_statistics=[OrderedStatistic(items_base=frozenset(), items_add=frozenset({753562, 753350}), confidence=0.001429202345609343, lift=1.0), OrderedStatistic(items_base=frozenset({753350}), items_add=frozenset({753562}), confidence=0.1290143964562569, lift=22.28067693376128), OrderedStatistic(items_base=frozenset({753562}), items_add=frozenset({753350}), confidence=0.24682203389830507, lift=22.28067693376128)]),\n",
       " RelationRecord(items=frozenset({753572, 753350}), support=0.0015334789115980078, ordered_statistics=[OrderedStatistic(items_base=frozenset(), items_add=frozenset({753572, 753350}), confidence=0.0015334789115980078, lift=1.0), OrderedStatistic(items_base=frozenset({753350}), items_add=frozenset({753572}), confidence=0.13842746400885936, lift=22.444109997450347), OrderedStatistic(items_base=frozenset({753572}), items_add=frozenset({753350}), confidence=0.24863252113376433, lift=22.444109997450347)]),\n",
       " RelationRecord(items=frozenset({753433, 753357}), support=0.0014782736707804793, ordered_statistics=[OrderedStatistic(items_base=frozenset(), items_add=frozenset({753433, 753357}), confidence=0.0014782736707804793, lift=1.0), OrderedStatistic(items_base=frozenset({753357}), items_add=frozenset({753433}), confidence=0.1273447820343461, lift=10.090286816765675), OrderedStatistic(items_base=frozenset({753433}), items_add=frozenset({753357}), confidence=0.11713244228432562, lift=10.090286816765673)]),\n",
       " RelationRecord(items=frozenset({753436, 753357}), support=0.0010151630394778812, ordered_statistics=[OrderedStatistic(items_base=frozenset(), items_add=frozenset({753436, 753357}), confidence=0.0010151630394778812, lift=1.0), OrderedStatistic(items_base=frozenset({753357}), items_add=frozenset({753436}), confidence=0.08745046235138705, lift=12.83824761478787), OrderedStatistic(items_base=frozenset({753436}), items_add=frozenset({753357}), confidence=0.14903196758217022, lift=12.838247614787871)]),\n",
       " RelationRecord(items=frozenset({753361, 753509}), support=0.001214515297985622, ordered_statistics=[OrderedStatistic(items_base=frozenset(), items_add=frozenset({753361, 753509}), confidence=0.001214515297985622, lift=1.0), OrderedStatistic(items_base=frozenset({753361}), items_add=frozenset({753509}), confidence=0.34797891036906853, lift=39.11086232309446), OrderedStatistic(items_base=frozenset({753509}), items_add=frozenset({753361}), confidence=0.13650465356773528, lift=39.11086232309446)]),\n",
       " RelationRecord(items=frozenset({753433, 753381}), support=0.001214515297985622, ordered_statistics=[OrderedStatistic(items_base=frozenset(), items_add=frozenset({753433, 753381}), confidence=0.001214515297985622, lift=1.0), OrderedStatistic(items_base=frozenset({753381}), items_add=frozenset({753433}), confidence=0.27291523087525843, lift=21.62470194854514), OrderedStatistic(items_base=frozenset({753433}), items_add=frozenset({753381}), confidence=0.09623329283110571, lift=21.62470194854514)]),\n",
       " RelationRecord(items=frozenset({753433, 753431}), support=0.001199180508869642, ordered_statistics=[OrderedStatistic(items_base=frozenset(), items_add=frozenset({753433, 753431}), confidence=0.001199180508869642, lift=1.0), OrderedStatistic(items_base=frozenset({753431}), items_add=frozenset({753433}), confidence=0.14270072992700727, lift=11.307030181550493), OrderedStatistic(items_base=frozenset({753433}), items_add=frozenset({753431}), confidence=0.09501822600243012, lift=11.307030181550495)]),\n",
       " RelationRecord(items=frozenset({759397, 753431}), support=0.0011317074367593297, ordered_statistics=[OrderedStatistic(items_base=frozenset(), items_add=frozenset({759397, 753431}), confidence=0.0011317074367593297, lift=1.0), OrderedStatistic(items_base=frozenset({753431}), items_add=frozenset({759397}), confidence=0.13467153284671532, lift=11.838894934987493), OrderedStatistic(items_base=frozenset({759397}), items_add=frozenset({753431}), confidence=0.09948773254246428, lift=11.838894934987493)]),\n",
       " RelationRecord(items=frozenset({753432, 753559}), support=0.001579483278945948, ordered_statistics=[OrderedStatistic(items_base=frozenset(), items_add=frozenset({753432, 753559}), confidence=0.001579483278945948, lift=1.0), OrderedStatistic(items_base=frozenset({753432}), items_add=frozenset({753559}), confidence=0.36917562724014336, lift=90.03135999656858), OrderedStatistic(items_base=frozenset({753559}), items_add=frozenset({753432}), confidence=0.38519072550486166, lift=90.03135999656858)]),\n",
       " RelationRecord(items=frozenset({753433, 753436}), support=0.0012329170449247983, ordered_statistics=[OrderedStatistic(items_base=frozenset(), items_add=frozenset({753433, 753436}), confidence=0.0012329170449247983, lift=1.0), OrderedStatistic(items_base=frozenset({753433}), items_add=frozenset({753436}), confidence=0.0976913730255164, lift=14.34167416623493), OrderedStatistic(items_base=frozenset({753436}), items_add=frozenset({753433}), confidence=0.18099954975236382, lift=14.34167416623493)]),\n",
       " RelationRecord(items=frozenset({753433, 759397}), support=0.001607085899354712, ordered_statistics=[OrderedStatistic(items_base=frozenset(), items_add=frozenset({753433, 759397}), confidence=0.001607085899354712, lift=1.0), OrderedStatistic(items_base=frozenset({753433}), items_add=frozenset({759397}), confidence=0.12733900364520048, lift=11.194296622415608), OrderedStatistic(items_base=frozenset({759397}), items_add=frozenset({753433}), confidence=0.14127797249932597, lift=11.194296622415608)]),\n",
       " RelationRecord(items=frozenset({753436, 759397}), support=0.0012390509605711903, ordered_statistics=[OrderedStatistic(items_base=frozenset(), items_add=frozenset({753436, 759397}), confidence=0.0012390509605711903, lift=1.0), OrderedStatistic(items_base=frozenset({753436}), items_add=frozenset({759397}), confidence=0.18190004502476365, lift=15.990725554217939), OrderedStatistic(items_base=frozenset({759397}), items_add=frozenset({753436}), confidence=0.10892423833917499, lift=15.990725554217939)]),\n",
       " RelationRecord(items=frozenset({753517, 753455}), support=0.0011654439728144858, ordered_statistics=[OrderedStatistic(items_base=frozenset(), items_add=frozenset({753517, 753455}), confidence=0.0011654439728144858, lift=1.0), OrderedStatistic(items_base=frozenset({753455}), items_add=frozenset({753517}), confidence=0.17798594847775173, lift=9.393555587060831), OrderedStatistic(items_base=frozenset({753517}), items_add=frozenset({753455}), confidence=0.06150857882809971, lift=9.393555587060833)]),\n",
       " RelationRecord(items=frozenset({753600, 753455}), support=0.0015334789115980078, ordered_statistics=[OrderedStatistic(items_base=frozenset(), items_add=frozenset({753600, 753455}), confidence=0.0015334789115980078, lift=1.0), OrderedStatistic(items_base=frozenset({753455}), items_add=frozenset({753600}), confidence=0.234192037470726, lift=7.921132673190356), OrderedStatistic(items_base=frozenset({753600}), items_add=frozenset({753455}), confidence=0.05186721991701245, lift=7.921132673190357)]),\n",
       " RelationRecord(items=frozenset({753609, 753455}), support=0.001005962166008293, ordered_statistics=[OrderedStatistic(items_base=frozenset(), items_add=frozenset({753609, 753455}), confidence=0.001005962166008293, lift=1.0), OrderedStatistic(items_base=frozenset({753455}), items_add=frozenset({753609}), confidence=0.15362997658079625, lift=7.757778479793728), OrderedStatistic(items_base=frozenset({753609}), items_add=frozenset({753455}), confidence=0.050797584017345514, lift=7.7577784797937275)]),\n",
       " RelationRecord(items=frozenset({753517, 753542}), support=0.0018677773143263735, ordered_statistics=[OrderedStatistic(items_base=frozenset(), items_add=frozenset({753517, 753542}), confidence=0.0018677773143263735, lift=1.0), OrderedStatistic(items_base=frozenset({753517}), items_add=frozenset({753542}), confidence=0.09857559080608612, lift=9.036031159929497), OrderedStatistic(items_base=frozenset({753542}), items_add=frozenset({753517}), confidence=0.1712116952488052, lift=9.036031159929497)]),\n",
       " RelationRecord(items=frozenset({753517, 753549}), support=0.001024363912947469, ordered_statistics=[OrderedStatistic(items_base=frozenset(), items_add=frozenset({753517, 753549}), confidence=0.001024363912947469, lift=1.0), OrderedStatistic(items_base=frozenset({753517}), items_add=frozenset({753549}), confidence=0.05406280349627711, lift=9.081659689223148), OrderedStatistic(items_base=frozenset({753549}), items_add=frozenset({753517}), confidence=0.17207624935600205, lift=9.081659689223148)]),\n",
       " RelationRecord(items=frozenset({753600, 753517}), support=0.005097283902151778, ordered_statistics=[OrderedStatistic(items_base=frozenset(), items_add=frozenset({753600, 753517}), confidence=0.005097283902151778, lift=1.0), OrderedStatistic(items_base=frozenset({753517}), items_add=frozenset({753600}), confidence=0.26901910003237295, lift=9.099096647319024), OrderedStatistic(items_base=frozenset({753600}), items_add=frozenset({753517}), confidence=0.17240663900414938, lift=9.099096647319024)]),\n",
       " RelationRecord(items=frozenset({753609, 753517}), support=0.002570110655838261, ordered_statistics=[OrderedStatistic(items_base=frozenset(), items_add=frozenset({753609, 753517}), confidence=0.002570110655838261, lift=1.0), OrderedStatistic(items_base=frozenset({753517}), items_add=frozenset({753609}), confidence=0.1356426027840725, lift=6.8494787816886396), OrderedStatistic(items_base=frozenset({753609}), items_add=frozenset({753517}), confidence=0.1297816323369986, lift=6.8494787816886396)]),\n",
       " RelationRecord(items=frozenset({753517, 753663}), support=0.0015457467428907918, ordered_statistics=[OrderedStatistic(items_base=frozenset(), items_add=frozenset({753517, 753663}), confidence=0.0015457467428907918, lift=1.0), OrderedStatistic(items_base=frozenset({753517}), items_add=frozenset({753663}), confidence=0.08157979928779541, lift=8.08989751720846), OrderedStatistic(items_base=frozenset({753663}), items_add=frozenset({753517}), confidence=0.15328467153284672, lift=8.089897517208462)]),\n",
       " RelationRecord(items=frozenset({760050, 753517}), support=0.0011715778884608778, ordered_statistics=[OrderedStatistic(items_base=frozenset(), items_add=frozenset({760050, 753517}), confidence=0.0011715778884608778, lift=1.0), OrderedStatistic(items_base=frozenset({753517}), items_add=frozenset({760050}), confidence=0.06183230819035286, lift=7.630883830171723), OrderedStatistic(items_base=frozenset({760050}), items_add=frozenset({753517}), confidence=0.1445874337623013, lift=7.630883830171724)]),\n",
       " RelationRecord(items=frozenset({753536, 753565}), support=0.001002895208185097, ordered_statistics=[OrderedStatistic(items_base=frozenset(), items_add=frozenset({753536, 753565}), confidence=0.001002895208185097, lift=1.0), OrderedStatistic(items_base=frozenset({753536}), items_add=frozenset({753565}), confidence=0.16743471582181257, lift=21.325427227342544), OrderedStatistic(items_base=frozenset({753565}), items_add=frozenset({753536}), confidence=0.12773437499999998, lift=21.325427227342548)]),\n",
       " RelationRecord(items=frozenset({753600, 753542}), support=0.003011752582378487, ordered_statistics=[OrderedStatistic(items_base=frozenset(), items_add=frozenset({753600, 753542}), confidence=0.003011752582378487, lift=1.0), OrderedStatistic(items_base=frozenset({753542}), items_add=frozenset({753600}), confidence=0.276075344391341, lift=9.337761669176668), OrderedStatistic(items_base=frozenset({753600}), items_add=frozenset({753542}), confidence=0.10186721991701243, lift=9.337761669176668)]),\n",
       " RelationRecord(items=frozenset({753609, 753542}), support=0.0018463086095640013, ordered_statistics=[OrderedStatistic(items_base=frozenset(), items_add=frozenset({753609, 753542}), confidence=0.0018463086095640013, lift=1.0), OrderedStatistic(items_base=frozenset({753542}), items_add=frozenset({753609}), confidence=0.169243744728704, lift=8.546219363676988), OrderedStatistic(items_base=frozenset({753609}), items_add=frozenset({753542}), confidence=0.0932321511537866, lift=8.546219363676988)]),\n",
       " RelationRecord(items=frozenset({753542, 753663}), support=0.001189979635400054, ordered_statistics=[OrderedStatistic(items_base=frozenset(), items_add=frozenset({753542, 753663}), confidence=0.001189979635400054, lift=1.0), OrderedStatistic(items_base=frozenset({753542}), items_add=frozenset({753663}), confidence=0.10908068597132416, lift=10.817035323925202), OrderedStatistic(items_base=frozenset({753663}), items_add=frozenset({753542}), confidence=0.11800486618004866, lift=10.817035323925204)]),\n",
       " RelationRecord(items=frozenset({760050, 753542}), support=0.0010918369850577815, ordered_statistics=[OrderedStatistic(items_base=frozenset(), items_add=frozenset({760050, 753542}), confidence=0.0010918369850577815, lift=1.0), OrderedStatistic(items_base=frozenset({753542}), items_add=frozenset({760050}), confidence=0.10008434073657578, lift=12.351665330509066), OrderedStatistic(items_base=frozenset({760050}), items_add=frozenset({753542}), confidence=0.13474640423921272, lift=12.351665330509064)]),\n",
       " RelationRecord(items=frozenset({753600, 753549}), support=0.001416934514316559, ordered_statistics=[OrderedStatistic(items_base=frozenset(), items_add=frozenset({753600, 753549}), confidence=0.001416934514316559, lift=1.0), OrderedStatistic(items_base=frozenset({753549}), items_add=frozenset({753600}), confidence=0.23802163833075735, lift=8.050662168835416), OrderedStatistic(items_base=frozenset({753600}), items_add=frozenset({753549}), confidence=0.0479253112033195, lift=8.050662168835416)]),\n",
       " RelationRecord(items=frozenset({753600, 753583}), support=0.0013187918639742866, ordered_statistics=[OrderedStatistic(items_base=frozenset(), items_add=frozenset({753600, 753583}), confidence=0.0013187918639742866, lift=1.0), OrderedStatistic(items_base=frozenset({753583}), items_add=frozenset({753600}), confidence=0.2099609375, lift=7.101558447873444), OrderedStatistic(items_base=frozenset({753600}), items_add=frozenset({753583}), confidence=0.0446058091286307, lift=7.101558447873443)]),\n",
       " RelationRecord(items=frozenset({753600, 753609}), support=0.007035601246411659, ordered_statistics=[OrderedStatistic(items_base=frozenset(), items_add=frozenset({753600, 753609}), confidence=0.007035601246411659, lift=1.0), OrderedStatistic(items_base=frozenset({753600}), items_add=frozenset({753609}), confidence=0.2379668049792531, lift=12.016494434615975), OrderedStatistic(items_base=frozenset({753609}), items_add=frozenset({753600}), confidence=0.3552733467554592, lift=12.016494434615975)]),\n",
       " RelationRecord(items=frozenset({753600, 753663}), support=0.003054689991903231, ordered_statistics=[OrderedStatistic(items_base=frozenset(), items_add=frozenset({753600, 753663}), confidence=0.003054689991903231, lift=1.0), OrderedStatistic(items_base=frozenset({753600}), items_add=frozenset({753663}), confidence=0.10331950207468879, lift=10.24572492958173), OrderedStatistic(items_base=frozenset({753663}), items_add=frozenset({753600}), confidence=0.30291970802919704, lift=10.245724929581728)]),\n",
       " RelationRecord(items=frozenset({753600, 760050}), support=0.0022787496626346395, ordered_statistics=[OrderedStatistic(items_base=frozenset(), items_add=frozenset({753600, 760050}), confidence=0.0022787496626346395, lift=1.0), OrderedStatistic(items_base=frozenset({753600}), items_add=frozenset({760050}), confidence=0.0770746887966805, lift=9.511985136370347), OrderedStatistic(items_base=frozenset({760050}), items_add=frozenset({753600}), confidence=0.28122634367903104, lift=9.511985136370347)]),\n",
       " RelationRecord(items=frozenset({753609, 753663}), support=0.0018800451456191575, ordered_statistics=[OrderedStatistic(items_base=frozenset(), items_add=frozenset({753609, 753663}), confidence=0.0018800451456191575, lift=1.0), OrderedStatistic(items_base=frozenset({753609}), items_add=frozenset({753663}), confidence=0.09493572866656343, lift=9.41434426584702), OrderedStatistic(items_base=frozenset({753663}), items_add=frozenset({753609}), confidence=0.1864355231143552, lift=9.414344265847019)]),\n",
       " RelationRecord(items=frozenset({753609, 760050}), support=0.0013617292734990308, ordered_statistics=[OrderedStatistic(items_base=frozenset(), items_add=frozenset({753609, 760050}), confidence=0.0013617292734990308, lift=1.0), OrderedStatistic(items_base=frozenset({753609}), items_add=frozenset({760050}), confidence=0.0687625832429921, lift=8.486166859151034), OrderedStatistic(items_base=frozenset({760050}), items_add=frozenset({753609}), confidence=0.1680545041635125, lift=8.486166859151036)]),\n",
       " RelationRecord(items=frozenset({760050, 753663}), support=0.0012175822558088182, ordered_statistics=[OrderedStatistic(items_base=frozenset(), items_add=frozenset({760050, 753663}), confidence=0.0012175822558088182, lift=1.0), OrderedStatistic(items_base=frozenset({753663}), items_add=frozenset({760050}), confidence=0.12074209245742092, lift=14.901091483079801), OrderedStatistic(items_base=frozenset({760050}), items_add=frozenset({753663}), confidence=0.1502649507948524, lift=14.901091483079801)]),\n",
       " RelationRecord(items=frozenset({760148, 760125}), support=0.0013065240326815026, ordered_statistics=[OrderedStatistic(items_base=frozenset(), items_add=frozenset({760148, 760125}), confidence=0.0013065240326815026, lift=1.0), OrderedStatistic(items_base=frozenset({760125}), items_add=frozenset({760148}), confidence=0.35206611570247937, lift=110.37814367450731), OrderedStatistic(items_base=frozenset({760148}), items_add=frozenset({760125}), confidence=0.4096153846153846, lift=110.37814367450731)]),\n",
       " RelationRecord(items=frozenset({760336, 760332}), support=0.0010765021959418014, ordered_statistics=[OrderedStatistic(items_base=frozenset(), items_add=frozenset({760336, 760332}), confidence=0.0010765021959418014, lift=1.0), OrderedStatistic(items_base=frozenset({760332}), items_add=frozenset({760336}), confidence=0.11493123772102162, lift=26.596181438158574), OrderedStatistic(items_base=frozenset({760336}), items_add=frozenset({760332}), confidence=0.2491128459900639, lift=26.59618143815857)]),\n",
       " RelationRecord(items=frozenset({760352, 760332}), support=0.0022603479156954633, ordered_statistics=[OrderedStatistic(items_base=frozenset(), items_add=frozenset({760352, 760332}), confidence=0.0022603479156954633, lift=1.0), OrderedStatistic(items_base=frozenset({760332}), items_add=frozenset({760352}), confidence=0.24132285527177472, lift=27.13267755120475), OrderedStatistic(items_base=frozenset({760352}), items_add=frozenset({760332}), confidence=0.25413793103448273, lift=27.13267755120475)]),\n",
       " RelationRecord(items=frozenset({760353, 760332}), support=0.0016806928871114164, ordered_statistics=[OrderedStatistic(items_base=frozenset(), items_add=frozenset({760353, 760332}), confidence=0.0016806928871114164, lift=1.0), OrderedStatistic(items_base=frozenset({760332}), items_add=frozenset({760353}), confidence=0.17943680419122462, lift=26.776405779118505), OrderedStatistic(items_base=frozenset({760353}), items_add=frozenset({760332}), confidence=0.25080091533180776, lift=26.776405779118505)]),\n",
       " RelationRecord(items=frozenset({761914, 760332}), support=0.0015273449959516156, ordered_statistics=[OrderedStatistic(items_base=frozenset(), items_add=frozenset({761914, 760332}), confidence=0.0015273449959516156, lift=1.0), OrderedStatistic(items_base=frozenset({760332}), items_add=frozenset({761914}), confidence=0.16306483300589392, lift=23.557052366224966), OrderedStatistic(items_base=frozenset({761914}), items_add=frozenset({760332}), confidence=0.2206468763845813, lift=23.557052366224966)]),\n",
       " RelationRecord(items=frozenset({761915, 760332}), support=0.001429202345609343, ordered_statistics=[OrderedStatistic(items_base=frozenset(), items_add=frozenset({761915, 760332}), confidence=0.001429202345609343, lift=1.0), OrderedStatistic(items_base=frozenset({760332}), items_add=frozenset({761915}), confidence=0.15258677144728225, lift=22.759301166978528), OrderedStatistic(items_base=frozenset({761915}), items_add=frozenset({760332}), confidence=0.2131747483989021, lift=22.75930116697853)]),\n",
       " RelationRecord(items=frozenset({760336, 760352}), support=0.0014476040925485193, ordered_statistics=[OrderedStatistic(items_base=frozenset(), items_add=frozenset({760336, 760352}), confidence=0.0014476040925485193, lift=1.0), OrderedStatistic(items_base=frozenset({760336}), items_add=frozenset({760352}), confidence=0.3349893541518808, lift=37.66389270942953), OrderedStatistic(items_base=frozenset({760352}), items_add=frozenset({760336}), confidence=0.1627586206896552, lift=37.66389270942953)]),\n",
       " RelationRecord(items=frozenset({760344, 760364}), support=0.0010335647864170572, ordered_statistics=[OrderedStatistic(items_base=frozenset(), items_add=frozenset({760344, 760364}), confidence=0.0010335647864170572, lift=1.0), OrderedStatistic(items_base=frozenset({760344}), items_add=frozenset({760364}), confidence=0.3191287878787879, lift=86.35174776813781), OrderedStatistic(items_base=frozenset({760364}), items_add=frozenset({760344}), confidence=0.2796680497925311, lift=86.35174776813781)]),\n",
       " RelationRecord(items=frozenset({760352, 760353}), support=0.0017389650857521407, ordered_statistics=[OrderedStatistic(items_base=frozenset(), items_add=frozenset({760352, 760353}), confidence=0.0017389650857521407, lift=1.0), OrderedStatistic(items_base=frozenset({760352}), items_add=frozenset({760353}), confidence=0.19551724137931034, lift=29.17600441884321), OrderedStatistic(items_base=frozenset({760353}), items_add=frozenset({760352}), confidence=0.2594965675057208, lift=29.176004418843206)]),\n",
       " RelationRecord(items=frozenset({760352, 760360}), support=0.0011102387319969576, ordered_statistics=[OrderedStatistic(items_base=frozenset(), items_add=frozenset({760352, 760360}), confidence=0.0011102387319969576, lift=1.0), OrderedStatistic(items_base=frozenset({760352}), items_add=frozenset({760360}), confidence=0.12482758620689655, lift=25.264297609109782), OrderedStatistic(items_base=frozenset({760360}), items_add=frozenset({760352}), confidence=0.22470515207945377, lift=25.264297609109786)]),\n",
       " RelationRecord(items=frozenset({760352, 761914}), support=0.0019383173442598818, ordered_statistics=[OrderedStatistic(items_base=frozenset(), items_add=frozenset({760352, 761914}), confidence=0.0019383173442598818, lift=1.0), OrderedStatistic(items_base=frozenset({760352}), items_add=frozenset({761914}), confidence=0.21793103448275863, lift=31.48326157700946), OrderedStatistic(items_base=frozenset({761914}), items_add=frozenset({760352}), confidence=0.2800177226406735, lift=31.483261577009458)]),\n",
       " RelationRecord(items=frozenset({760352, 761915}), support=0.00160095198370832, ordered_statistics=[OrderedStatistic(items_base=frozenset(), items_add=frozenset({760352, 761915}), confidence=0.00160095198370832, lift=1.0), OrderedStatistic(items_base=frozenset({760352}), items_add=frozenset({761915}), confidence=0.18, lift=26.84816102470265), OrderedStatistic(items_base=frozenset({761915}), items_add=frozenset({760352}), confidence=0.23879231473010065, lift=26.848161024702655)]),\n",
       " RelationRecord(items=frozenset({761914, 760359}), support=0.0010274308707706652, ordered_statistics=[OrderedStatistic(items_base=frozenset(), items_add=frozenset({761914, 760359}), confidence=0.0010274308707706652, lift=1.0), OrderedStatistic(items_base=frozenset({760359}), items_add=frozenset({761914}), confidence=0.27963272120200333, lift=40.39695460533469), OrderedStatistic(items_base=frozenset({761914}), items_add=frozenset({760359}), confidence=0.1484271156402304, lift=40.39695460533469)]),\n",
       " RelationRecord(items=frozenset({760360, 761915}), support=0.0010519665333562332, ordered_statistics=[OrderedStatistic(items_base=frozenset(), items_add=frozenset({760360, 761915}), confidence=0.0010519665333562332, lift=1.0), OrderedStatistic(items_base=frozenset({760360}), items_add=frozenset({761915}), confidence=0.21291123525760397, lift=31.757084045358337), OrderedStatistic(items_base=frozenset({761915}), items_add=frozenset({760360}), confidence=0.156907593778591, lift=31.757084045358333)]),\n",
       " RelationRecord(items=frozenset({760616, 760542}), support=0.0024075618912088722, ordered_statistics=[OrderedStatistic(items_base=frozenset(), items_add=frozenset({760616, 760542}), confidence=0.0024075618912088722, lift=1.0), OrderedStatistic(items_base=frozenset({760542}), items_add=frozenset({760616}), confidence=0.7221711131554739, lift=211.56174705392738), OrderedStatistic(items_base=frozenset({760616}), items_add=frozenset({760542}), confidence=0.7053009883198562, lift=211.56174705392738)]),\n",
       " RelationRecord(items=frozenset({760585, 760620}), support=0.0018923129769119415, ordered_statistics=[OrderedStatistic(items_base=frozenset(), items_add=frozenset({760585, 760620}), confidence=0.0018923129769119415, lift=1.0), OrderedStatistic(items_base=frozenset({760585}), items_add=frozenset({760620}), confidence=0.6655879180151024, lift=214.4455871505259), OrderedStatistic(items_base=frozenset({760620}), items_add=frozenset({760585}), confidence=0.6096837944664032, lift=214.44558715052594)]),\n",
       " RelationRecord(items=frozenset({760657, 760677}), support=0.0013095909905046987, ordered_statistics=[OrderedStatistic(items_base=frozenset(), items_add=frozenset({760657, 760677}), confidence=0.0013095909905046987, lift=1.0), OrderedStatistic(items_base=frozenset({760657}), items_add=frozenset({760677}), confidence=0.2592592592592593, lift=40.876710366072075), OrderedStatistic(items_base=frozenset({760677}), items_add=frozenset({760657}), confidence=0.20647969052224374, lift=40.876710366072075)]),\n",
       " RelationRecord(items=frozenset({760657, 762033}), support=0.0018739112299727655, ordered_statistics=[OrderedStatistic(items_base=frozenset(), items_add=frozenset({760657, 762033}), confidence=0.0018739112299727655, lift=1.0), OrderedStatistic(items_base=frozenset({760657}), items_add=frozenset({762033}), confidence=0.37097753491196117, lift=56.365075080733654), OrderedStatistic(items_base=frozenset({762033}), items_add=frozenset({760657}), confidence=0.2847157502329916, lift=56.36507508073365)]),\n",
       " RelationRecord(items=frozenset({762033, 760677}), support=0.0019536521333758617, ordered_statistics=[OrderedStatistic(items_base=frozenset(), items_add=frozenset({762033, 760677}), confidence=0.0019536521333758617, lift=1.0), OrderedStatistic(items_base=frozenset({760677}), items_add=frozenset({762033}), confidence=0.308027079303675, lift=46.800595232730224), OrderedStatistic(items_base=frozenset({762033}), items_add=frozenset({760677}), confidence=0.29683131407269336, lift=46.800595232730224)]),\n",
       " RelationRecord(items=frozenset({761914, 761915}), support=0.0015181441224820277, ordered_statistics=[OrderedStatistic(items_base=frozenset(), items_add=frozenset({761914, 761915}), confidence=0.0015181441224820277, lift=1.0), OrderedStatistic(items_base=frozenset({761914}), items_add=frozenset({761915}), confidence=0.2193176783340718, lift=32.71264635265055), OrderedStatistic(items_base=frozenset({761915}), items_add=frozenset({761914}), confidence=0.22644098810612992, lift=32.71264635265055)]),\n",
       " RelationRecord(items=frozenset({764515, 764454}), support=0.0018892460190887456, ordered_statistics=[OrderedStatistic(items_base=frozenset(), items_add=frozenset({764515, 764454}), confidence=0.0018892460190887456, lift=1.0), OrderedStatistic(items_base=frozenset({764454}), items_add=frozenset({764515}), confidence=0.5305770887166237, lift=100.1144926149233), OrderedStatistic(items_base=frozenset({764515}), items_add=frozenset({764454}), confidence=0.3564814814814815, lift=100.1144926149233)]),\n",
       " RelationRecord(items=frozenset({764481, 764515}), support=0.0013249257796206786, ordered_statistics=[OrderedStatistic(items_base=frozenset(), items_add=frozenset({764481, 764515}), confidence=0.0013249257796206786, lift=1.0), OrderedStatistic(items_base=frozenset({764481}), items_add=frozenset({764515}), confidence=0.37209302325581395, lift=70.21016365202412), OrderedStatistic(items_base=frozenset({764515}), items_add=frozenset({764481}), confidence=0.25, lift=70.21016365202412)]),\n",
       " RelationRecord(items=frozenset({767733, 767735}), support=0.0012789214122727384, ordered_statistics=[OrderedStatistic(items_base=frozenset(), items_add=frozenset({767733, 767735}), confidence=0.0012789214122727384, lift=1.0), OrderedStatistic(items_base=frozenset({767733}), items_add=frozenset({767735}), confidence=0.17174629324546953, lift=44.90690408215302), OrderedStatistic(items_base=frozenset({767735}), items_add=frozenset({767733}), confidence=0.3344025661587811, lift=44.90690408215302)]),\n",
       " RelationRecord(items=frozenset({767736, 767733}), support=0.0017358981279289448, ordered_statistics=[OrderedStatistic(items_base=frozenset(), items_add=frozenset({767736, 767733}), confidence=0.0017358981279289448, lift=1.0), OrderedStatistic(items_base=frozenset({767733}), items_add=frozenset({767736}), confidence=0.23311367380560133, lift=45.00184252596752), OrderedStatistic(items_base=frozenset({767736}), items_add=frozenset({767733}), confidence=0.335109532267614, lift=45.00184252596752)]),\n",
       " RelationRecord(items=frozenset({767739, 767733}), support=0.0017052285496969846, ordered_statistics=[OrderedStatistic(items_base=frozenset(), items_add=frozenset({767739, 767733}), confidence=0.0017052285496969846, lift=1.0), OrderedStatistic(items_base=frozenset({767733}), items_add=frozenset({767739}), confidence=0.22899505766062603, lift=48.326998395205884), OrderedStatistic(items_base=frozenset({767739}), items_add=frozenset({767733}), confidence=0.35987055016181235, lift=48.326998395205884)]),\n",
       " RelationRecord(items=frozenset({767741, 767733}), support=0.003812228574232647, ordered_statistics=[OrderedStatistic(items_base=frozenset(), items_add=frozenset({767733, 767741}), confidence=0.003812228574232647, lift=1.0), OrderedStatistic(items_base=frozenset({767733}), items_add=frozenset({767741}), confidence=0.5119439868204283, lift=60.130550636427074), OrderedStatistic(items_base=frozenset({767741}), items_add=frozenset({767733}), confidence=0.44776657060518726, lift=60.130550636427074)]),\n",
       " RelationRecord(items=frozenset({767739, 767735}), support=0.0011102387319969576, ordered_statistics=[OrderedStatistic(items_base=frozenset(), items_add=frozenset({767739, 767735}), confidence=0.0011102387319969576, lift=1.0), OrderedStatistic(items_base=frozenset({767735}), items_add=frozenset({767739}), confidence=0.29029671210906177, lift=61.26406780804677), OrderedStatistic(items_base=frozenset({767739}), items_add=frozenset({767735}), confidence=0.23430420711974112, lift=61.26406780804676)]),\n",
       " RelationRecord(items=frozenset({767741, 767735}), support=0.001594818068061928, ordered_statistics=[OrderedStatistic(items_base=frozenset(), items_add=frozenset({767741, 767735}), confidence=0.001594818068061928, lift=1.0), OrderedStatistic(items_base=frozenset({767735}), items_add=frozenset({767741}), confidence=0.41700080192461914, lift=48.97896738916917), OrderedStatistic(items_base=frozenset({767741}), items_add=frozenset({767735}), confidence=0.18731988472622477, lift=48.97896738916916)]),\n",
       " RelationRecord(items=frozenset({767736, 767741}), support=0.0026559854748877494, ordered_statistics=[OrderedStatistic(items_base=frozenset(), items_add=frozenset({767736, 767741}), confidence=0.0026559854748877494, lift=1.0), OrderedStatistic(items_base=frozenset({767736}), items_add=frozenset({767741}), confidence=0.5127294256956779, lift=60.22280461982347), OrderedStatistic(items_base=frozenset({767741}), items_add=frozenset({767736}), confidence=0.31195965417867433, lift=60.222804619823464)]),\n",
       " RelationRecord(items=frozenset({767739, 767741}), support=0.0020517947837181342, ordered_statistics=[OrderedStatistic(items_base=frozenset(), items_add=frozenset({767739, 767741}), confidence=0.0020517947837181342, lift=1.0), OrderedStatistic(items_base=frozenset({767739}), items_add=frozenset({767741}), confidence=0.4330097087378641, lift=50.85929884446434), OrderedStatistic(items_base=frozenset({767741}), items_add=frozenset({767739}), confidence=0.24099423631123917, lift=50.85929884446434)]),\n",
       " RelationRecord(items=frozenset({772913, 772901}), support=0.0016101528571779082, ordered_statistics=[OrderedStatistic(items_base=frozenset(), items_add=frozenset({772913, 772901}), confidence=0.0016101528571779082, lift=1.0), OrderedStatistic(items_base=frozenset({772901}), items_add=frozenset({772913}), confidence=0.3653444676409186, lift=65.12999220400621), OrderedStatistic(items_base=frozenset({772913}), items_add=frozenset({772901}), confidence=0.28704209950792786, lift=65.12999220400621)]),\n",
       " RelationRecord(items=frozenset({778419, 778629}), support=0.001205314424516034, ordered_statistics=[OrderedStatistic(items_base=frozenset(), items_add=frozenset({778419, 778629}), confidence=0.001205314424516034, lift=1.0), OrderedStatistic(items_base=frozenset({778419}), items_add=frozenset({778629}), confidence=0.33647260273972596, lift=28.36321379495969), OrderedStatistic(items_base=frozenset({778629}), items_add=frozenset({778419}), confidence=0.10160289555325748, lift=28.36321379495969)]),\n",
       " RelationRecord(items=frozenset({778616, 778460}), support=0.0010212969551242732, ordered_statistics=[OrderedStatistic(items_base=frozenset(), items_add=frozenset({778616, 778460}), confidence=0.0010212969551242732, lift=1.0), OrderedStatistic(items_base=frozenset({778460}), items_add=frozenset({778616}), confidence=0.28756476683937826, lift=53.183333872138576), OrderedStatistic(items_base=frozenset({778616}), items_add=frozenset({778460}), confidence=0.1888825865002836, lift=53.183333872138576)]),\n",
       " RelationRecord(items=frozenset({778621, 778581}), support=0.0010918369850577815, ordered_statistics=[OrderedStatistic(items_base=frozenset(), items_add=frozenset({778581, 778621}), confidence=0.0010918369850577815, lift=1.0), OrderedStatistic(items_base=frozenset({778581}), items_add=frozenset({778621}), confidence=0.14722911497105046, lift=26.289669392662006), OrderedStatistic(items_base=frozenset({778621}), items_add=frozenset({778581}), confidence=0.1949616648411829, lift=26.289669392662006)]),\n",
       " RelationRecord(items=frozenset({778581, 778629}), support=0.004330544446352774, ordered_statistics=[OrderedStatistic(items_base=frozenset(), items_add=frozenset({778581, 778629}), confidence=0.004330544446352774, lift=1.0), OrderedStatistic(items_base=frozenset({778581}), items_add=frozenset({778629}), confidence=0.5839536807278742, lift=49.224819370064054), OrderedStatistic(items_base=frozenset({778629}), items_add=frozenset({778581}), confidence=0.3650465356773526, lift=49.224819370064054)]),\n",
       " RelationRecord(items=frozenset({778616, 778636}), support=0.0022879505361042274, ordered_statistics=[OrderedStatistic(items_base=frozenset(), items_add=frozenset({778616, 778636}), confidence=0.0022879505361042274, lift=1.0), OrderedStatistic(items_base=frozenset({778616}), items_add=frozenset({778636}), confidence=0.42314237095859325, lift=70.21277806884228), OrderedStatistic(items_base=frozenset({778636}), items_add=frozenset({778616}), confidence=0.3796437659033079, lift=70.21277806884228)]),\n",
       " RelationRecord(items=frozenset({778621, 778629}), support=0.002337021861275364, ordered_statistics=[OrderedStatistic(items_base=frozenset(), items_add=frozenset({778621, 778629}), confidence=0.002337021861275364, lift=1.0), OrderedStatistic(items_base=frozenset({778621}), items_add=frozenset({778629}), confidence=0.4173055859802848, lift=35.17709155697718), OrderedStatistic(items_base=frozenset({778629}), items_add=frozenset({778621}), confidence=0.1970010341261634, lift=35.17709155697718)]),\n",
       " RelationRecord(items=frozenset({807104, 778629}), support=0.0022388792109330913, ordered_statistics=[OrderedStatistic(items_base=frozenset(), items_add=frozenset({807104, 778629}), confidence=0.0022388792109330913, lift=1.0), OrderedStatistic(items_base=frozenset({778629}), items_add=frozenset({807104}), confidence=0.18872802481902792, lift=41.52220300971186), OrderedStatistic(items_base=frozenset({807104}), items_add=frozenset({778629}), confidence=0.4925775978407558, lift=41.52220300971186)]),\n",
       " RelationRecord(items=frozenset({789153, 789122}), support=0.0035331354123218097, ordered_statistics=[OrderedStatistic(items_base=frozenset(), items_add=frozenset({789153, 789122}), confidence=0.0035331354123218097, lift=1.0), OrderedStatistic(items_base=frozenset({789122}), items_add=frozenset({789153}), confidence=0.3724539282250242, lift=38.36993302411959), OrderedStatistic(items_base=frozenset({789153}), items_add=frozenset({789122}), confidence=0.3639810426540284, lift=38.36993302411959)]),\n",
       " RelationRecord(items=frozenset({789162, 789122}), support=0.002790931619108374, ordered_statistics=[OrderedStatistic(items_base=frozenset(), items_add=frozenset({789162, 789122}), confidence=0.002790931619108374, lift=1.0), OrderedStatistic(items_base=frozenset({789122}), items_add=frozenset({789162}), confidence=0.2942127384416424, lift=37.1533031159288), OrderedStatistic(items_base=frozenset({789162}), items_add=frozenset({789122}), confidence=0.35243996901626645, lift=37.1533031159288)]),\n",
       " RelationRecord(items=frozenset({789209, 789122}), support=0.002579311529307849, ordered_statistics=[OrderedStatistic(items_base=frozenset(), items_add=frozenset({789209, 789122}), confidence=0.002579311529307849, lift=1.0), OrderedStatistic(items_base=frozenset({789122}), items_add=frozenset({789209}), confidence=0.271904300032331, lift=35.69083270987992), OrderedStatistic(items_base=frozenset({789209}), items_add=frozenset({789122}), confidence=0.3385668276972625, lift=35.69083270987993)]),\n",
       " RelationRecord(items=frozenset({789122, 789226}), support=0.001220649213632014, ordered_statistics=[OrderedStatistic(items_base=frozenset(), items_add=frozenset({789122, 789226}), confidence=0.001220649213632014, lift=1.0), OrderedStatistic(items_base=frozenset({789122}), items_add=frozenset({789226}), confidence=0.12867765923052052, lift=30.62490719566905), OrderedStatistic(items_base=frozenset({789226}), items_add=frozenset({789122}), confidence=0.2905109489051095, lift=30.62490719566905)]),\n",
       " RelationRecord(items=frozenset({789122, 789229}), support=0.0010642343646490174, ordered_statistics=[OrderedStatistic(items_base=frozenset(), items_add=frozenset({789122, 789229}), confidence=0.0010642343646490174, lift=1.0), OrderedStatistic(items_base=frozenset({789122}), items_add=frozenset({789229}), confidence=0.11218881344972519, lift=42.436004359818554), OrderedStatistic(items_base=frozenset({789229}), items_add=frozenset({789122}), confidence=0.40255220417633414, lift=42.436004359818554)]),\n",
       " RelationRecord(items=frozenset({789153, 789162}), support=0.0032540422504109723, ordered_statistics=[OrderedStatistic(items_base=frozenset(), items_add=frozenset({789153, 789162}), confidence=0.0032540422504109723, lift=1.0), OrderedStatistic(items_base=frozenset({789153}), items_add=frozenset({789162}), confidence=0.33522906793048973, lift=42.332861724687746), OrderedStatistic(items_base=frozenset({789162}), items_add=frozenset({789153}), confidence=0.4109217660728118, lift=42.332861724687746)]),\n",
       " RelationRecord(items=frozenset({789153, 789209}), support=0.0026651863483573373, ordered_statistics=[OrderedStatistic(items_base=frozenset(), items_add=frozenset({789153, 789209}), confidence=0.0026651863483573373, lift=1.0), OrderedStatistic(items_base=frozenset({789153}), items_add=frozenset({789209}), confidence=0.274565560821485, lift=36.04015640064819), OrderedStatistic(items_base=frozenset({789209}), items_add=frozenset({789153}), confidence=0.3498389694041868, lift=36.04015640064819)]),\n",
       " RelationRecord(items=frozenset({789153, 789226}), support=0.001625487646293888, ordered_statistics=[OrderedStatistic(items_base=frozenset(), items_add=frozenset({789153, 789226}), confidence=0.001625487646293888, lift=1.0), OrderedStatistic(items_base=frozenset({789153}), items_add=frozenset({789226}), confidence=0.1674565560821485, lift=39.8541714233), OrderedStatistic(items_base=frozenset({789226}), items_add=frozenset({789153}), confidence=0.3868613138686131, lift=39.8541714233)]),\n",
       " RelationRecord(items=frozenset({789209, 789162}), support=0.0020395269524253502, ordered_statistics=[OrderedStatistic(items_base=frozenset(), items_add=frozenset({789209, 789162}), confidence=0.0020395269524253502, lift=1.0), OrderedStatistic(items_base=frozenset({789162}), items_add=frozenset({789209}), confidence=0.2575522850503486, lift=33.80695163219664), OrderedStatistic(items_base=frozenset({789209}), items_add=frozenset({789162}), confidence=0.2677133655394525, lift=33.80695163219664)]),\n",
       " RelationRecord(items=frozenset({789162, 789226}), support=0.0013525284000294427, ordered_statistics=[OrderedStatistic(items_base=frozenset(), items_add=frozenset({789162, 789226}), confidence=0.0013525284000294427, lift=1.0), OrderedStatistic(items_base=frozenset({789162}), items_add=frozenset({789226}), confidence=0.1707978311386522, lift=40.649385131200276), OrderedStatistic(items_base=frozenset({789226}), items_add=frozenset({789162}), confidence=0.32189781021897806, lift=40.649385131200276)]),\n",
       " RelationRecord(items=frozenset({789209, 789226}), support=0.0013065240326815026, ordered_statistics=[OrderedStatistic(items_base=frozenset(), items_add=frozenset({789209, 789226}), confidence=0.0013065240326815026, lift=1.0), OrderedStatistic(items_base=frozenset({789209}), items_add=frozenset({789226}), confidence=0.17149758454106281, lift=40.81592439789837), OrderedStatistic(items_base=frozenset({789226}), items_add=frozenset({789209}), confidence=0.310948905109489, lift=40.81592439789837)]),\n",
       " RelationRecord(items=frozenset({789162, 789153, 789122}), support=0.0010519665333562332, ordered_statistics=[OrderedStatistic(items_base=frozenset(), items_add=frozenset({789153, 789162, 789122}), confidence=0.0010519665333562332, lift=1.0), OrderedStatistic(items_base=frozenset({789122}), items_add=frozenset({789153, 789162}), confidence=0.11089557064338829, lift=34.07932722120699), OrderedStatistic(items_base=frozenset({789153}), items_add=frozenset({789162, 789122}), confidence=0.10837282780410741, lift=38.83034147527038), OrderedStatistic(items_base=frozenset({789162}), items_add=frozenset({789153, 789122}), confidence=0.13284275755228506, lift=37.59911298304502), OrderedStatistic(items_base=frozenset({789153, 789122}), items_add=frozenset({789162}), confidence=0.2977430555555555, lift=37.59911298304501), OrderedStatistic(items_base=frozenset({789162, 789122}), items_add=frozenset({789153}), confidence=0.3769230769230769, lift=38.83034147527038), OrderedStatistic(items_base=frozenset({789153, 789162}), items_add=frozenset({789122}), confidence=0.3232799245994345, lift=34.07932722120699)])]"
      ]
     },
     "execution_count": 256,
     "metadata": {},
     "output_type": "execute_result"
    }
   ],
   "source": [
    "rules "
   ]
  },
  {
   "cell_type": "markdown",
   "metadata": {},
   "source": [
    "# Model 3: Apriori (mlxtend Module)"
   ]
  },
  {
   "cell_type": "code",
   "execution_count": 235,
   "metadata": {},
   "outputs": [],
   "source": [
    "from efficient_apriori import apriori \n",
    "\n"
   ]
  },
  {
   "cell_type": "code",
   "execution_count": null,
   "metadata": {},
   "outputs": [],
   "source": []
  }
 ],
 "metadata": {
  "kernelspec": {
   "display_name": "Python 3.9.12 ('base')",
   "language": "python",
   "name": "python3"
  },
  "language_info": {
   "codemirror_mode": {
    "name": "ipython",
    "version": 3
   },
   "file_extension": ".py",
   "mimetype": "text/x-python",
   "name": "python",
   "nbconvert_exporter": "python",
   "pygments_lexer": "ipython3",
   "version": "3.9.12"
  },
  "orig_nbformat": 4,
  "vscode": {
   "interpreter": {
    "hash": "9059e48bf3b0ccbf418267d63bd69884bf8e25702a60f044a5610720066f9972"
   }
  }
 },
 "nbformat": 4,
 "nbformat_minor": 2
}
