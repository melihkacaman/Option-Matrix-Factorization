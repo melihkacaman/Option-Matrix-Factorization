{
 "cells": [
  {
   "cell_type": "markdown",
   "metadata": {},
   "source": [
    "# Get the Rating Matrix"
   ]
  },
  {
   "cell_type": "code",
   "execution_count": 1,
   "metadata": {},
   "outputs": [],
   "source": [
    "# ! pip install apyori"
   ]
  },
  {
   "cell_type": "code",
   "execution_count": 2,
   "metadata": {},
   "outputs": [],
   "source": [
    "# !pip install mlxtend  \n"
   ]
  },
  {
   "cell_type": "code",
   "execution_count": 3,
   "metadata": {},
   "outputs": [],
   "source": [
    "# !pip install efficient-apriori"
   ]
  },
  {
   "cell_type": "code",
   "execution_count": 4,
   "metadata": {},
   "outputs": [
    {
     "data": {
      "text/html": [
       "<div>\n",
       "<style scoped>\n",
       "    .dataframe tbody tr th:only-of-type {\n",
       "        vertical-align: middle;\n",
       "    }\n",
       "\n",
       "    .dataframe tbody tr th {\n",
       "        vertical-align: top;\n",
       "    }\n",
       "\n",
       "    .dataframe thead th {\n",
       "        text-align: right;\n",
       "    }\n",
       "</style>\n",
       "<table border=\"1\" class=\"dataframe\">\n",
       "  <thead>\n",
       "    <tr style=\"text-align: right;\">\n",
       "      <th></th>\n",
       "      <th>rating</th>\n",
       "      <th>bill</th>\n",
       "    </tr>\n",
       "  </thead>\n",
       "  <tbody>\n",
       "    <tr>\n",
       "      <th>0</th>\n",
       "      <td>1</td>\n",
       "      <td>(745321, 666652)</td>\n",
       "    </tr>\n",
       "    <tr>\n",
       "      <th>1</th>\n",
       "      <td>12</td>\n",
       "      <td>(772494, 754574)</td>\n",
       "    </tr>\n",
       "    <tr>\n",
       "      <th>2</th>\n",
       "      <td>1</td>\n",
       "      <td>(772494, 745328)</td>\n",
       "    </tr>\n",
       "    <tr>\n",
       "      <th>3</th>\n",
       "      <td>11</td>\n",
       "      <td>(772494, 749358)</td>\n",
       "    </tr>\n",
       "    <tr>\n",
       "      <th>4</th>\n",
       "      <td>1</td>\n",
       "      <td>(772494, 745310)</td>\n",
       "    </tr>\n",
       "  </tbody>\n",
       "</table>\n",
       "</div>"
      ],
      "text/plain": [
       "   rating              bill\n",
       "0       1  (745321, 666652)\n",
       "1      12  (772494, 754574)\n",
       "2       1  (772494, 745328)\n",
       "3      11  (772494, 749358)\n",
       "4       1  (772494, 745310)"
      ]
     },
     "execution_count": 4,
     "metadata": {},
     "output_type": "execute_result"
    }
   ],
   "source": [
    "import pandas as pd \n",
    "data_with_3 = pd.read_csv(\"../datasets/ratings_with_3_combinations_reduced.csv\")[[\"rating\", \"bill\"]]\n",
    "\n",
    "data_with_3.head()"
   ]
  },
  {
   "cell_type": "code",
   "execution_count": 5,
   "metadata": {},
   "outputs": [
    {
     "data": {
      "text/html": [
       "<div>\n",
       "<style scoped>\n",
       "    .dataframe tbody tr th:only-of-type {\n",
       "        vertical-align: middle;\n",
       "    }\n",
       "\n",
       "    .dataframe tbody tr th {\n",
       "        vertical-align: top;\n",
       "    }\n",
       "\n",
       "    .dataframe thead th {\n",
       "        text-align: right;\n",
       "    }\n",
       "</style>\n",
       "<table border=\"1\" class=\"dataframe\">\n",
       "  <thead>\n",
       "    <tr style=\"text-align: right;\">\n",
       "      <th></th>\n",
       "      <th>rating</th>\n",
       "      <th>bill</th>\n",
       "    </tr>\n",
       "  </thead>\n",
       "  <tbody>\n",
       "    <tr>\n",
       "      <th>1</th>\n",
       "      <td>12</td>\n",
       "      <td>(772494, 754574)</td>\n",
       "    </tr>\n",
       "    <tr>\n",
       "      <th>3</th>\n",
       "      <td>11</td>\n",
       "      <td>(772494, 749358)</td>\n",
       "    </tr>\n",
       "    <tr>\n",
       "      <th>5</th>\n",
       "      <td>6</td>\n",
       "      <td>(754574, 745328)</td>\n",
       "    </tr>\n",
       "    <tr>\n",
       "      <th>6</th>\n",
       "      <td>23</td>\n",
       "      <td>(754574, 749358)</td>\n",
       "    </tr>\n",
       "    <tr>\n",
       "      <th>7</th>\n",
       "      <td>7</td>\n",
       "      <td>(754574, 745310)</td>\n",
       "    </tr>\n",
       "  </tbody>\n",
       "</table>\n",
       "</div>"
      ],
      "text/plain": [
       "   rating              bill\n",
       "1      12  (772494, 754574)\n",
       "3      11  (772494, 749358)\n",
       "5       6  (754574, 745328)\n",
       "6      23  (754574, 749358)\n",
       "7       7  (754574, 745310)"
      ]
     },
     "execution_count": 5,
     "metadata": {},
     "output_type": "execute_result"
    }
   ],
   "source": [
    "data_3_greater_1 = data_with_3[data_with_3.rating > 1] \n",
    "\n",
    "data_3_greater_1.head() "
   ]
  },
  {
   "cell_type": "code",
   "execution_count": 6,
   "metadata": {},
   "outputs": [
    {
     "data": {
      "image/png": "[encoded data removed]",
      "text/plain": [
       "<Figure size 720x432 with 1 Axes>"
      ]
     },
     "metadata": {
      "needs_background": "light"
     },
     "output_type": "display_data"
    }
   ],
   "source": [
    "# If the distribution of the quantity is normal, then it should be standardized, otherwise, the data should be normalized.\n",
    "import matplotlib.pyplot as plt \n",
    "\n",
    "plt.figure(figsize=(10,6))\n",
    "plt.hist(data_3_greater_1['rating'], bins=100, ec='black', color='#2196f3')\n",
    "plt.xlabel('ratings')\n",
    "plt.ylabel('Nr. of Houses')\n",
    "plt.show()"
   ]
  },
  {
   "cell_type": "code",
   "execution_count": 7,
   "metadata": {},
   "outputs": [
    {
     "data": {
      "text/plain": [
       "(2255, 2)"
      ]
     },
     "execution_count": 7,
     "metadata": {},
     "output_type": "execute_result"
    }
   ],
   "source": [
    "max(data_3_greater_1.rating),  min(data_3_greater_1.rating)"
   ]
  },
  {
   "cell_type": "code",
   "execution_count": 8,
   "metadata": {},
   "outputs": [
    {
     "name": "stderr",
     "output_type": "stream",
     "text": [
      "c:\\Users\\melih.kacaman\\Anaconda3\\lib\\site-packages\\seaborn\\_decorators.py:36: FutureWarning: Pass the following variable as a keyword arg: x. From version 0.12, the only valid positional argument will be `data`, and passing other arguments without an explicit keyword will result in an error or misinterpretation.\n",
      "  warnings.warn(\n"
     ]
    },
    {
     "data": {
      "text/plain": [
       "<AxesSubplot:>"
      ]
     },
     "execution_count": 8,
     "metadata": {},
     "output_type": "execute_result"
    },
    {
     "data": {
      "image/png": "[encoded data removed]",
      "text/plain": [
       "<Figure size 432x288 with 1 Axes>"
      ]
     },
     "metadata": {
      "needs_background": "light"
     },
     "output_type": "display_data"
    }
   ],
   "source": [
    "import seaborn as sns\n",
    "sns.boxplot(data_3_greater_1['rating'].unique())"
   ]
  },
  {
   "cell_type": "code",
   "execution_count": 9,
   "metadata": {},
   "outputs": [
    {
     "data": {
      "text/html": [
       "<div>\n",
       "<style scoped>\n",
       "    .dataframe tbody tr th:only-of-type {\n",
       "        vertical-align: middle;\n",
       "    }\n",
       "\n",
       "    .dataframe tbody tr th {\n",
       "        vertical-align: top;\n",
       "    }\n",
       "\n",
       "    .dataframe thead th {\n",
       "        text-align: right;\n",
       "    }\n",
       "</style>\n",
       "<table border=\"1\" class=\"dataframe\">\n",
       "  <thead>\n",
       "    <tr style=\"text-align: right;\">\n",
       "      <th></th>\n",
       "      <th>rating</th>\n",
       "      <th>bill</th>\n",
       "    </tr>\n",
       "  </thead>\n",
       "  <tbody>\n",
       "    <tr>\n",
       "      <th>1</th>\n",
       "      <td>2.484907</td>\n",
       "      <td>(772494, 754574)</td>\n",
       "    </tr>\n",
       "    <tr>\n",
       "      <th>3</th>\n",
       "      <td>2.397895</td>\n",
       "      <td>(772494, 749358)</td>\n",
       "    </tr>\n",
       "    <tr>\n",
       "      <th>5</th>\n",
       "      <td>1.791759</td>\n",
       "      <td>(754574, 745328)</td>\n",
       "    </tr>\n",
       "    <tr>\n",
       "      <th>6</th>\n",
       "      <td>3.135494</td>\n",
       "      <td>(754574, 749358)</td>\n",
       "    </tr>\n",
       "    <tr>\n",
       "      <th>7</th>\n",
       "      <td>1.945910</td>\n",
       "      <td>(754574, 745310)</td>\n",
       "    </tr>\n",
       "  </tbody>\n",
       "</table>\n",
       "</div>"
      ],
      "text/plain": [
       "     rating              bill\n",
       "1  2.484907  (772494, 754574)\n",
       "3  2.397895  (772494, 749358)\n",
       "5  1.791759  (754574, 745328)\n",
       "6  3.135494  (754574, 749358)\n",
       "7  1.945910  (754574, 745310)"
      ]
     },
     "execution_count": 9,
     "metadata": {},
     "output_type": "execute_result"
    }
   ],
   "source": [
    "import numpy as np\n",
    "data_3_greater_1_log = data_3_greater_1.copy() \n",
    "data_3_greater_1_log[\"rating\"] = np.log(data_3_greater_1.rating) \n",
    "\n",
    "data_3_greater_1_log.head() "
   ]
  },
  {
   "cell_type": "code",
   "execution_count": 10,
   "metadata": {},
   "outputs": [
    {
     "data": {
      "text/plain": [
       "(7.720905251936779, 0.6931471805599453)"
      ]
     },
     "execution_count": 10,
     "metadata": {},
     "output_type": "execute_result"
    }
   ],
   "source": [
    "max(data_3_greater_1_log.rating),  min(data_3_greater_1_log.rating)"
   ]
  },
  {
   "cell_type": "code",
   "execution_count": 11,
   "metadata": {},
   "outputs": [
    {
     "data": {
      "image/png": "[encoded data removed]",
      "text/plain": [
       "<Figure size 720x432 with 1 Axes>"
      ]
     },
     "metadata": {
      "needs_background": "light"
     },
     "output_type": "display_data"
    }
   ],
   "source": [
    "# If the distribution of the quantity is normal, then it should be standardized, otherwise, the data should be normalized.\n",
    "import matplotlib.pyplot as plt \n",
    "\n",
    "plt.figure(figsize=(10,6))\n",
    "plt.hist(data_3_greater_1_log['rating'], bins=100, ec='black', color='#2196f3')\n",
    "plt.xlabel('ratings')\n",
    "plt.ylabel('Nr. of Houses')\n",
    "plt.show()"
   ]
  },
  {
   "cell_type": "code",
   "execution_count": 12,
   "metadata": {},
   "outputs": [
    {
     "name": "stderr",
     "output_type": "stream",
     "text": [
      "c:\\Users\\melih.kacaman\\Anaconda3\\lib\\site-packages\\seaborn\\_decorators.py:36: FutureWarning: Pass the following variable as a keyword arg: x. From version 0.12, the only valid positional argument will be `data`, and passing other arguments without an explicit keyword will result in an error or misinterpretation.\n",
      "  warnings.warn(\n"
     ]
    },
    {
     "data": {
      "text/plain": [
       "<AxesSubplot:>"
      ]
     },
     "execution_count": 12,
     "metadata": {},
     "output_type": "execute_result"
    },
    {
     "data": {
      "image/png": "[encoded data removed]",
      "text/plain": [
       "<Figure size 432x288 with 1 Axes>"
      ]
     },
     "metadata": {
      "needs_background": "light"
     },
     "output_type": "display_data"
    }
   ],
   "source": [
    "import seaborn as sns\n",
    "sns.boxplot(data_3_greater_1_log['rating'].unique())"
   ]
  },
  {
   "cell_type": "code",
   "execution_count": 13,
   "metadata": {},
   "outputs": [
    {
     "name": "stdout",
     "output_type": "stream",
     "text": [
      "data_3_greater_1_log has IQR: 0.6931471805599453\n"
     ]
    }
   ],
   "source": [
    "import numpy as np \n",
    "Q1 = np.percentile(data_3_greater_1_log['rating'], 25,\n",
    "                   interpolation = 'midpoint')\n",
    " \n",
    "Q3 = np.percentile(data_3_greater_1_log['rating'], 75,\n",
    "                   interpolation = 'midpoint')\n",
    "IQR = Q3 - Q1\n",
    "\n",
    "print(\"data_3_greater_1_log has IQR:\", IQR) "
   ]
  },
  {
   "cell_type": "code",
   "execution_count": 14,
   "metadata": {},
   "outputs": [],
   "source": [
    "import pandas as pd\n",
    "data_raw = pd.read_csv(\"../datasets/raw_data.csv\") "
   ]
  },
  {
   "cell_type": "code",
   "execution_count": 15,
   "metadata": {},
   "outputs": [
    {
     "data": {
      "text/html": [
       "<div>\n",
       "<style scoped>\n",
       "    .dataframe tbody tr th:only-of-type {\n",
       "        vertical-align: middle;\n",
       "    }\n",
       "\n",
       "    .dataframe tbody tr th {\n",
       "        vertical-align: top;\n",
       "    }\n",
       "\n",
       "    .dataframe thead th {\n",
       "        text-align: right;\n",
       "    }\n",
       "</style>\n",
       "<table border=\"1\" class=\"dataframe\">\n",
       "  <thead>\n",
       "    <tr style=\"text-align: right;\">\n",
       "      <th></th>\n",
       "      <th>Unnamed: 0</th>\n",
       "      <th>optionId</th>\n",
       "      <th>bill</th>\n",
       "    </tr>\n",
       "  </thead>\n",
       "  <tbody>\n",
       "    <tr>\n",
       "      <th>0</th>\n",
       "      <td>0</td>\n",
       "      <td>751839</td>\n",
       "      <td>1</td>\n",
       "    </tr>\n",
       "    <tr>\n",
       "      <th>1</th>\n",
       "      <td>1</td>\n",
       "      <td>751782</td>\n",
       "      <td>1</td>\n",
       "    </tr>\n",
       "    <tr>\n",
       "      <th>2</th>\n",
       "      <td>2</td>\n",
       "      <td>745321</td>\n",
       "      <td>1</td>\n",
       "    </tr>\n",
       "    <tr>\n",
       "      <th>3</th>\n",
       "      <td>3</td>\n",
       "      <td>666652</td>\n",
       "      <td>1</td>\n",
       "    </tr>\n",
       "    <tr>\n",
       "      <th>4</th>\n",
       "      <td>4</td>\n",
       "      <td>751873</td>\n",
       "      <td>2</td>\n",
       "    </tr>\n",
       "  </tbody>\n",
       "</table>\n",
       "</div>"
      ],
      "text/plain": [
       "   Unnamed: 0  optionId  bill\n",
       "0           0    751839     1\n",
       "1           1    751782     1\n",
       "2           2    745321     1\n",
       "3           3    666652     1\n",
       "4           4    751873     2"
      ]
     },
     "execution_count": 15,
     "metadata": {},
     "output_type": "execute_result"
    }
   ],
   "source": [
    "data_raw.head() "
   ]
  },
  {
   "cell_type": "code",
   "execution_count": 16,
   "metadata": {},
   "outputs": [
    {
     "data": {
      "text/plain": [
       "[(745321, 666652, 751782, 751839),\n",
       " (751873, 760125),\n",
       " (772494, 754574, 745328, 749358, 745310)]"
      ]
     },
     "execution_count": 16,
     "metadata": {},
     "output_type": "execute_result"
    }
   ],
   "source": [
    "transactions = [] \n",
    "\n",
    "bill = 1\n",
    "option_bill = [] \n",
    "\n",
    "for index,row in data_raw.iterrows(): \n",
    "    if(row.bill == bill):\n",
    "        option_bill.append(row.optionId)\n",
    "    else:\n",
    "        bill = row.bill \n",
    "        transactions.append(tuple(set(option_bill))) \n",
    "        option_bill.clear()\n",
    "        option_bill.append(row.optionId)  \n",
    "\n",
    "\n",
    "transactions[:3]"
   ]
  },
  {
   "cell_type": "markdown",
   "metadata": {},
   "source": [
    "# Model 1: Matrix Factorization Using Keras "
   ]
  },
  {
   "cell_type": "markdown",
   "metadata": {},
   "source": [
    "#### Data Prep for MF "
   ]
  },
  {
   "cell_type": "code",
   "execution_count": 17,
   "metadata": {},
   "outputs": [
    {
     "data": {
      "text/html": [
       "<div>\n",
       "<style scoped>\n",
       "    .dataframe tbody tr th:only-of-type {\n",
       "        vertical-align: middle;\n",
       "    }\n",
       "\n",
       "    .dataframe tbody tr th {\n",
       "        vertical-align: top;\n",
       "    }\n",
       "\n",
       "    .dataframe thead th {\n",
       "        text-align: right;\n",
       "    }\n",
       "</style>\n",
       "<table border=\"1\" class=\"dataframe\">\n",
       "  <thead>\n",
       "    <tr style=\"text-align: right;\">\n",
       "      <th></th>\n",
       "      <th>rating</th>\n",
       "      <th>bill</th>\n",
       "    </tr>\n",
       "  </thead>\n",
       "  <tbody>\n",
       "    <tr>\n",
       "      <th>1</th>\n",
       "      <td>2.484907</td>\n",
       "      <td>(772494, 754574)</td>\n",
       "    </tr>\n",
       "    <tr>\n",
       "      <th>3</th>\n",
       "      <td>2.397895</td>\n",
       "      <td>(772494, 749358)</td>\n",
       "    </tr>\n",
       "    <tr>\n",
       "      <th>5</th>\n",
       "      <td>1.791759</td>\n",
       "      <td>(754574, 745328)</td>\n",
       "    </tr>\n",
       "    <tr>\n",
       "      <th>6</th>\n",
       "      <td>3.135494</td>\n",
       "      <td>(754574, 749358)</td>\n",
       "    </tr>\n",
       "    <tr>\n",
       "      <th>7</th>\n",
       "      <td>1.945910</td>\n",
       "      <td>(754574, 745310)</td>\n",
       "    </tr>\n",
       "  </tbody>\n",
       "</table>\n",
       "</div>"
      ],
      "text/plain": [
       "     rating              bill\n",
       "1  2.484907  (772494, 754574)\n",
       "3  2.397895  (772494, 749358)\n",
       "5  1.791759  (754574, 745328)\n",
       "6  3.135494  (754574, 749358)\n",
       "7  1.945910  (754574, 745310)"
      ]
     },
     "execution_count": 17,
     "metadata": {},
     "output_type": "execute_result"
    }
   ],
   "source": [
    "data_3_greater_1_log.head() "
   ]
  },
  {
   "cell_type": "code",
   "execution_count": 18,
   "metadata": {},
   "outputs": [
    {
     "name": "stdout",
     "output_type": "stream",
     "text": [
      "<class 'pandas.core.frame.DataFrame'>\n",
      "Int64Index: 380442 entries, 1 to 4492451\n",
      "Data columns (total 2 columns):\n",
      " #   Column  Non-Null Count   Dtype  \n",
      "---  ------  --------------   -----  \n",
      " 0   rating  380442 non-null  float64\n",
      " 1   bill    380442 non-null  object \n",
      "dtypes: float64(1), object(1)\n",
      "memory usage: 8.7+ MB\n"
     ]
    }
   ],
   "source": [
    "from ast import literal_eval\n",
    "\n",
    "data_3_greater_1_log.bill = data_3_greater_1_log.bill.apply(literal_eval) \n",
    "data_3_greater_1_log.info() "
   ]
  },
  {
   "cell_type": "code",
   "execution_count": 19,
   "metadata": {},
   "outputs": [
    {
     "data": {
      "text/plain": [
       "tuple"
      ]
     },
     "execution_count": 19,
     "metadata": {},
     "output_type": "execute_result"
    }
   ],
   "source": [
    "type(data_3_greater_1_log.bill.iat[0])"
   ]
  },
  {
   "cell_type": "code",
   "execution_count": 20,
   "metadata": {},
   "outputs": [
    {
     "data": {
      "text/plain": [
       "(749358, 754574)"
      ]
     },
     "execution_count": 20,
     "metadata": {},
     "output_type": "execute_result"
    }
   ],
   "source": [
    "statement = (772494, 754574, 749358) \n",
    "s_set = set(statement) \n",
    "tuple(s_set.difference([772494]))"
   ]
  },
  {
   "cell_type": "code",
   "execution_count": 21,
   "metadata": {},
   "outputs": [],
   "source": [
    "def split_bill(statement):\n",
    "    return [\n",
    "        (tuple(set(statement).difference([statement[0]])), statement[0]),\n",
    "        (tuple(set(statement).difference([statement[1]])), statement[1]),\n",
    "        (tuple(set(statement).difference([statement[2]])), statement[2])\n",
    "    ]"
   ]
  },
  {
   "cell_type": "code",
   "execution_count": 22,
   "metadata": {},
   "outputs": [
    {
     "data": {
      "text/html": [
       "<div>\n",
       "<style scoped>\n",
       "    .dataframe tbody tr th:only-of-type {\n",
       "        vertical-align: middle;\n",
       "    }\n",
       "\n",
       "    .dataframe tbody tr th {\n",
       "        vertical-align: top;\n",
       "    }\n",
       "\n",
       "    .dataframe thead th {\n",
       "        text-align: right;\n",
       "    }\n",
       "</style>\n",
       "<table border=\"1\" class=\"dataframe\">\n",
       "  <thead>\n",
       "    <tr style=\"text-align: right;\">\n",
       "      <th></th>\n",
       "      <th>rating</th>\n",
       "      <th>bill</th>\n",
       "      <th>option_count</th>\n",
       "    </tr>\n",
       "  </thead>\n",
       "  <tbody>\n",
       "    <tr>\n",
       "      <th>4490148</th>\n",
       "      <td>0.693147</td>\n",
       "      <td>(774694, 767718, 767721)</td>\n",
       "      <td>3</td>\n",
       "    </tr>\n",
       "    <tr>\n",
       "      <th>4490843</th>\n",
       "      <td>0.693147</td>\n",
       "      <td>(774590, 774319)</td>\n",
       "      <td>2</td>\n",
       "    </tr>\n",
       "    <tr>\n",
       "      <th>4490847</th>\n",
       "      <td>0.693147</td>\n",
       "      <td>(774469, 774590, 774319)</td>\n",
       "      <td>3</td>\n",
       "    </tr>\n",
       "    <tr>\n",
       "      <th>4491087</th>\n",
       "      <td>0.693147</td>\n",
       "      <td>(764896, 786771, 774571)</td>\n",
       "      <td>3</td>\n",
       "    </tr>\n",
       "    <tr>\n",
       "      <th>4492451</th>\n",
       "      <td>0.693147</td>\n",
       "      <td>(748899, 748868, 752949)</td>\n",
       "      <td>3</td>\n",
       "    </tr>\n",
       "  </tbody>\n",
       "</table>\n",
       "</div>"
      ],
      "text/plain": [
       "           rating                      bill  option_count\n",
       "4490148  0.693147  (774694, 767718, 767721)             3\n",
       "4490843  0.693147          (774590, 774319)             2\n",
       "4490847  0.693147  (774469, 774590, 774319)             3\n",
       "4491087  0.693147  (764896, 786771, 774571)             3\n",
       "4492451  0.693147  (748899, 748868, 752949)             3"
      ]
     },
     "execution_count": 22,
     "metadata": {},
     "output_type": "execute_result"
    }
   ],
   "source": [
    "data_3_greater_1_log[\"option_count\"] = data_3_greater_1_log.bill.apply(lambda x: len(x))\n",
    "data_3_greater_1_log.tail() "
   ]
  },
  {
   "cell_type": "code",
   "execution_count": 23,
   "metadata": {},
   "outputs": [],
   "source": [
    "sublist_by_2 = data_3_greater_1_log[data_3_greater_1_log.option_count == 2]"
   ]
  },
  {
   "cell_type": "code",
   "execution_count": 24,
   "metadata": {},
   "outputs": [
    {
     "data": {
      "text/html": [
       "<div>\n",
       "<style scoped>\n",
       "    .dataframe tbody tr th:only-of-type {\n",
       "        vertical-align: middle;\n",
       "    }\n",
       "\n",
       "    .dataframe tbody tr th {\n",
       "        vertical-align: top;\n",
       "    }\n",
       "\n",
       "    .dataframe thead th {\n",
       "        text-align: right;\n",
       "    }\n",
       "</style>\n",
       "<table border=\"1\" class=\"dataframe\">\n",
       "  <thead>\n",
       "    <tr style=\"text-align: right;\">\n",
       "      <th></th>\n",
       "      <th>rating</th>\n",
       "      <th>bill</th>\n",
       "      <th>option_count</th>\n",
       "      <th>LHS</th>\n",
       "      <th>RHS</th>\n",
       "    </tr>\n",
       "  </thead>\n",
       "  <tbody>\n",
       "    <tr>\n",
       "      <th>1</th>\n",
       "      <td>2.484907</td>\n",
       "      <td>(772494, 754574)</td>\n",
       "      <td>2</td>\n",
       "      <td>772494</td>\n",
       "      <td>754574</td>\n",
       "    </tr>\n",
       "    <tr>\n",
       "      <th>3</th>\n",
       "      <td>2.397895</td>\n",
       "      <td>(772494, 749358)</td>\n",
       "      <td>2</td>\n",
       "      <td>772494</td>\n",
       "      <td>749358</td>\n",
       "    </tr>\n",
       "    <tr>\n",
       "      <th>5</th>\n",
       "      <td>1.791759</td>\n",
       "      <td>(754574, 745328)</td>\n",
       "      <td>2</td>\n",
       "      <td>754574</td>\n",
       "      <td>745328</td>\n",
       "    </tr>\n",
       "    <tr>\n",
       "      <th>6</th>\n",
       "      <td>3.135494</td>\n",
       "      <td>(754574, 749358)</td>\n",
       "      <td>2</td>\n",
       "      <td>754574</td>\n",
       "      <td>749358</td>\n",
       "    </tr>\n",
       "    <tr>\n",
       "      <th>7</th>\n",
       "      <td>1.945910</td>\n",
       "      <td>(754574, 745310)</td>\n",
       "      <td>2</td>\n",
       "      <td>754574</td>\n",
       "      <td>745310</td>\n",
       "    </tr>\n",
       "  </tbody>\n",
       "</table>\n",
       "</div>"
      ],
      "text/plain": [
       "     rating              bill  option_count     LHS     RHS\n",
       "1  2.484907  (772494, 754574)             2  772494  754574\n",
       "3  2.397895  (772494, 749358)             2  772494  749358\n",
       "5  1.791759  (754574, 745328)             2  754574  745328\n",
       "6  3.135494  (754574, 749358)             2  754574  749358\n",
       "7  1.945910  (754574, 745310)             2  754574  745310"
      ]
     },
     "execution_count": 24,
     "metadata": {},
     "output_type": "execute_result"
    }
   ],
   "source": [
    "sublist_by_2_concat = pd.concat([\n",
    "    sublist_by_2,\n",
    "    pd.DataFrame(data_3_greater_1_log[data_3_greater_1_log.option_count == 2].bill.to_list(), columns=[\"LHS\", \"RHS\"], index=sublist_by_2.index)\n",
    "], axis=1)\n",
    "sublist_by_2_concat.head()"
   ]
  },
  {
   "cell_type": "code",
   "execution_count": 25,
   "metadata": {},
   "outputs": [
    {
     "data": {
      "text/html": [
       "<div>\n",
       "<style scoped>\n",
       "    .dataframe tbody tr th:only-of-type {\n",
       "        vertical-align: middle;\n",
       "    }\n",
       "\n",
       "    .dataframe tbody tr th {\n",
       "        vertical-align: top;\n",
       "    }\n",
       "\n",
       "    .dataframe thead th {\n",
       "        text-align: right;\n",
       "    }\n",
       "</style>\n",
       "<table border=\"1\" class=\"dataframe\">\n",
       "  <thead>\n",
       "    <tr style=\"text-align: right;\">\n",
       "      <th></th>\n",
       "      <th>rating</th>\n",
       "      <th>bill</th>\n",
       "      <th>option_count</th>\n",
       "    </tr>\n",
       "  </thead>\n",
       "  <tbody>\n",
       "    <tr>\n",
       "      <th>12</th>\n",
       "      <td>0.693147</td>\n",
       "      <td>(772494, 754574, 749358)</td>\n",
       "      <td>3</td>\n",
       "    </tr>\n",
       "    <tr>\n",
       "      <th>18</th>\n",
       "      <td>0.693147</td>\n",
       "      <td>(754574, 745328, 745310)</td>\n",
       "      <td>3</td>\n",
       "    </tr>\n",
       "    <tr>\n",
       "      <th>34</th>\n",
       "      <td>1.098612</td>\n",
       "      <td>(751649, 751591, 751532)</td>\n",
       "      <td>3</td>\n",
       "    </tr>\n",
       "    <tr>\n",
       "      <th>35</th>\n",
       "      <td>0.693147</td>\n",
       "      <td>(751649, 751591, 751597)</td>\n",
       "      <td>3</td>\n",
       "    </tr>\n",
       "    <tr>\n",
       "      <th>36</th>\n",
       "      <td>0.693147</td>\n",
       "      <td>(751649, 751595, 751532)</td>\n",
       "      <td>3</td>\n",
       "    </tr>\n",
       "  </tbody>\n",
       "</table>\n",
       "</div>"
      ],
      "text/plain": [
       "      rating                      bill  option_count\n",
       "12  0.693147  (772494, 754574, 749358)             3\n",
       "18  0.693147  (754574, 745328, 745310)             3\n",
       "34  1.098612  (751649, 751591, 751532)             3\n",
       "35  0.693147  (751649, 751591, 751597)             3\n",
       "36  0.693147  (751649, 751595, 751532)             3"
      ]
     },
     "execution_count": 25,
     "metadata": {},
     "output_type": "execute_result"
    }
   ],
   "source": [
    "sublist_by_3 = data_3_greater_1_log[data_3_greater_1_log.option_count == 3]\n",
    "sublist_by_3.head() "
   ]
  },
  {
   "cell_type": "code",
   "execution_count": 26,
   "metadata": {},
   "outputs": [
    {
     "data": {
      "text/html": [
       "<div>\n",
       "<style scoped>\n",
       "    .dataframe tbody tr th:only-of-type {\n",
       "        vertical-align: middle;\n",
       "    }\n",
       "\n",
       "    .dataframe tbody tr th {\n",
       "        vertical-align: top;\n",
       "    }\n",
       "\n",
       "    .dataframe thead th {\n",
       "        text-align: right;\n",
       "    }\n",
       "</style>\n",
       "<table border=\"1\" class=\"dataframe\">\n",
       "  <thead>\n",
       "    <tr style=\"text-align: right;\">\n",
       "      <th></th>\n",
       "      <th>rating</th>\n",
       "      <th>bill</th>\n",
       "      <th>option_count</th>\n",
       "      <th>LHS</th>\n",
       "      <th>RHS</th>\n",
       "    </tr>\n",
       "  </thead>\n",
       "  <tbody>\n",
       "    <tr>\n",
       "      <th>0</th>\n",
       "      <td>0.693147</td>\n",
       "      <td>(772494, 754574, 749358)</td>\n",
       "      <td>3</td>\n",
       "      <td>(749358, 754574)</td>\n",
       "      <td>772494</td>\n",
       "    </tr>\n",
       "    <tr>\n",
       "      <th>1</th>\n",
       "      <td>0.693147</td>\n",
       "      <td>(772494, 754574, 749358)</td>\n",
       "      <td>3</td>\n",
       "      <td>(749358, 772494)</td>\n",
       "      <td>754574</td>\n",
       "    </tr>\n",
       "    <tr>\n",
       "      <th>2</th>\n",
       "      <td>0.693147</td>\n",
       "      <td>(772494, 754574, 749358)</td>\n",
       "      <td>3</td>\n",
       "      <td>(754574, 772494)</td>\n",
       "      <td>749358</td>\n",
       "    </tr>\n",
       "    <tr>\n",
       "      <th>3</th>\n",
       "      <td>0.693147</td>\n",
       "      <td>(754574, 745328, 745310)</td>\n",
       "      <td>3</td>\n",
       "      <td>(745328, 745310)</td>\n",
       "      <td>754574</td>\n",
       "    </tr>\n",
       "    <tr>\n",
       "      <th>4</th>\n",
       "      <td>0.693147</td>\n",
       "      <td>(754574, 745328, 745310)</td>\n",
       "      <td>3</td>\n",
       "      <td>(745310, 754574)</td>\n",
       "      <td>745328</td>\n",
       "    </tr>\n",
       "  </tbody>\n",
       "</table>\n",
       "</div>"
      ],
      "text/plain": [
       "     rating                      bill option_count               LHS     RHS\n",
       "0  0.693147  (772494, 754574, 749358)            3  (749358, 754574)  772494\n",
       "1  0.693147  (772494, 754574, 749358)            3  (749358, 772494)  754574\n",
       "2  0.693147  (772494, 754574, 749358)            3  (754574, 772494)  749358\n",
       "3  0.693147  (754574, 745328, 745310)            3  (745328, 745310)  754574\n",
       "4  0.693147  (754574, 745328, 745310)            3  (745310, 754574)  745328"
      ]
     },
     "execution_count": 26,
     "metadata": {},
     "output_type": "execute_result"
    }
   ],
   "source": [
    "replicated_rows = pd.DataFrame(np.repeat(sublist_by_3.values, 3, axis=0), columns=sublist_by_3.columns)\n",
    "\n",
    "sublists_by_3_reduced = []  \n",
    "for item in sublist_by_3.bill.to_list():\n",
    "    sublists_by_3_reduced += split_bill(item) \n",
    "\n",
    "sublists_by_3_reduced = pd.DataFrame(sublists_by_3_reduced, columns=[\"LHS\", \"RHS\"])\n",
    "\n",
    "sublist_by_3_concat = pd.concat([\n",
    "    replicated_rows, \n",
    "    sublists_by_3_reduced\n",
    "], axis=1)\n",
    "\n",
    "sublist_by_3_concat.head() "
   ]
  },
  {
   "cell_type": "code",
   "execution_count": 27,
   "metadata": {},
   "outputs": [
    {
     "data": {
      "text/html": [
       "<div>\n",
       "<style scoped>\n",
       "    .dataframe tbody tr th:only-of-type {\n",
       "        vertical-align: middle;\n",
       "    }\n",
       "\n",
       "    .dataframe tbody tr th {\n",
       "        vertical-align: top;\n",
       "    }\n",
       "\n",
       "    .dataframe thead th {\n",
       "        text-align: right;\n",
       "    }\n",
       "</style>\n",
       "<table border=\"1\" class=\"dataframe\">\n",
       "  <thead>\n",
       "    <tr style=\"text-align: right;\">\n",
       "      <th></th>\n",
       "      <th>rating</th>\n",
       "      <th>bill</th>\n",
       "      <th>option_count</th>\n",
       "      <th>LHS</th>\n",
       "      <th>RHS</th>\n",
       "    </tr>\n",
       "  </thead>\n",
       "  <tbody>\n",
       "    <tr>\n",
       "      <th>0</th>\n",
       "      <td>0.693147</td>\n",
       "      <td>(772494, 754574, 749358)</td>\n",
       "      <td>3</td>\n",
       "      <td>(749358, 754574)</td>\n",
       "      <td>772494</td>\n",
       "    </tr>\n",
       "    <tr>\n",
       "      <th>1</th>\n",
       "      <td>0.693147</td>\n",
       "      <td>(772494, 754574, 749358)</td>\n",
       "      <td>3</td>\n",
       "      <td>(749358, 772494)</td>\n",
       "      <td>754574</td>\n",
       "    </tr>\n",
       "    <tr>\n",
       "      <th>2</th>\n",
       "      <td>0.693147</td>\n",
       "      <td>(772494, 754574, 749358)</td>\n",
       "      <td>3</td>\n",
       "      <td>(754574, 772494)</td>\n",
       "      <td>749358</td>\n",
       "    </tr>\n",
       "    <tr>\n",
       "      <th>3</th>\n",
       "      <td>0.693147</td>\n",
       "      <td>(754574, 745328, 745310)</td>\n",
       "      <td>3</td>\n",
       "      <td>(745328, 745310)</td>\n",
       "      <td>754574</td>\n",
       "    </tr>\n",
       "    <tr>\n",
       "      <th>4</th>\n",
       "      <td>0.693147</td>\n",
       "      <td>(754574, 745328, 745310)</td>\n",
       "      <td>3</td>\n",
       "      <td>(745310, 754574)</td>\n",
       "      <td>745328</td>\n",
       "    </tr>\n",
       "  </tbody>\n",
       "</table>\n",
       "</div>"
      ],
      "text/plain": [
       "     rating                      bill option_count               LHS     RHS\n",
       "0  0.693147  (772494, 754574, 749358)            3  (749358, 754574)  772494\n",
       "1  0.693147  (772494, 754574, 749358)            3  (749358, 772494)  754574\n",
       "2  0.693147  (772494, 754574, 749358)            3  (754574, 772494)  749358\n",
       "3  0.693147  (754574, 745328, 745310)            3  (745328, 745310)  754574\n",
       "4  0.693147  (754574, 745328, 745310)            3  (745310, 754574)  745328"
      ]
     },
     "execution_count": 27,
     "metadata": {},
     "output_type": "execute_result"
    }
   ],
   "source": [
    "dataset_combined_MF = pd.concat([sublist_by_3_concat, sublist_by_2_concat], axis=0, ignore_index=True)\n",
    "dataset_combined_MF.head()  "
   ]
  },
  {
   "cell_type": "code",
   "execution_count": 28,
   "metadata": {},
   "outputs": [
    {
     "data": {
      "text/plain": [
       "array([3, 2], dtype=object)"
      ]
     },
     "execution_count": 28,
     "metadata": {},
     "output_type": "execute_result"
    }
   ],
   "source": [
    "dataset_combined_MF.option_count.unique() "
   ]
  },
  {
   "cell_type": "code",
   "execution_count": 29,
   "metadata": {},
   "outputs": [
    {
     "data": {
      "text/html": [
       "<div>\n",
       "<style scoped>\n",
       "    .dataframe tbody tr th:only-of-type {\n",
       "        vertical-align: middle;\n",
       "    }\n",
       "\n",
       "    .dataframe tbody tr th {\n",
       "        vertical-align: top;\n",
       "    }\n",
       "\n",
       "    .dataframe thead th {\n",
       "        text-align: right;\n",
       "    }\n",
       "</style>\n",
       "<table border=\"1\" class=\"dataframe\">\n",
       "  <thead>\n",
       "    <tr style=\"text-align: right;\">\n",
       "      <th></th>\n",
       "      <th>rating</th>\n",
       "      <th>bill</th>\n",
       "      <th>option_count</th>\n",
       "      <th>LHS</th>\n",
       "      <th>RHS</th>\n",
       "      <th>LHS_C</th>\n",
       "      <th>RHS_C</th>\n",
       "    </tr>\n",
       "  </thead>\n",
       "  <tbody>\n",
       "    <tr>\n",
       "      <th>1</th>\n",
       "      <td>2.484907</td>\n",
       "      <td>(772494, 754574)</td>\n",
       "      <td>2</td>\n",
       "      <td>772494</td>\n",
       "      <td>754574</td>\n",
       "      <td>4116</td>\n",
       "      <td>3329</td>\n",
       "    </tr>\n",
       "    <tr>\n",
       "      <th>3</th>\n",
       "      <td>2.397895</td>\n",
       "      <td>(772494, 749358)</td>\n",
       "      <td>2</td>\n",
       "      <td>772494</td>\n",
       "      <td>749358</td>\n",
       "      <td>4116</td>\n",
       "      <td>2675</td>\n",
       "    </tr>\n",
       "    <tr>\n",
       "      <th>5</th>\n",
       "      <td>1.791759</td>\n",
       "      <td>(754574, 745328)</td>\n",
       "      <td>2</td>\n",
       "      <td>754574</td>\n",
       "      <td>745328</td>\n",
       "      <td>3303</td>\n",
       "      <td>2414</td>\n",
       "    </tr>\n",
       "    <tr>\n",
       "      <th>6</th>\n",
       "      <td>3.135494</td>\n",
       "      <td>(754574, 749358)</td>\n",
       "      <td>2</td>\n",
       "      <td>754574</td>\n",
       "      <td>749358</td>\n",
       "      <td>3303</td>\n",
       "      <td>2675</td>\n",
       "    </tr>\n",
       "    <tr>\n",
       "      <th>7</th>\n",
       "      <td>1.945910</td>\n",
       "      <td>(754574, 745310)</td>\n",
       "      <td>2</td>\n",
       "      <td>754574</td>\n",
       "      <td>745310</td>\n",
       "      <td>3303</td>\n",
       "      <td>2403</td>\n",
       "    </tr>\n",
       "  </tbody>\n",
       "</table>\n",
       "</div>"
      ],
      "text/plain": [
       "     rating              bill  option_count     LHS     RHS  LHS_C  RHS_C\n",
       "1  2.484907  (772494, 754574)             2  772494  754574   4116   3329\n",
       "3  2.397895  (772494, 749358)             2  772494  749358   4116   2675\n",
       "5  1.791759  (754574, 745328)             2  754574  745328   3303   2414\n",
       "6  3.135494  (754574, 749358)             2  754574  749358   3303   2675\n",
       "7  1.945910  (754574, 745310)             2  754574  745310   3303   2403"
      ]
     },
     "execution_count": 29,
     "metadata": {},
     "output_type": "execute_result"
    }
   ],
   "source": [
    "sublist_by_2_concat[\"LHS_C\"] = sublist_by_2_concat.LHS.astype('category').cat.codes.values\n",
    "sublist_by_2_concat[\"RHS_C\"] = sublist_by_2_concat.RHS.astype('category').cat.codes.values\n",
    "\n",
    "sublist_by_2_concat.head() "
   ]
  },
  {
   "cell_type": "code",
   "execution_count": 30,
   "metadata": {},
   "outputs": [
    {
     "data": {
      "text/plain": [
       "(4800, 4764)"
      ]
     },
     "execution_count": 30,
     "metadata": {},
     "output_type": "execute_result"
    }
   ],
   "source": [
    "len(sublist_by_2_concat.RHS_C.unique()), len(sublist_by_2_concat.LHS_C.unique())"
   ]
  },
  {
   "attachments": {},
   "cell_type": "markdown",
   "metadata": {},
   "source": [
    "## Building MF Model \n",
    "\n",
    "### Model: With 2's Combine "
   ]
  },
  {
   "cell_type": "code",
   "execution_count": 31,
   "metadata": {},
   "outputs": [],
   "source": [
    "from tensorflow import keras\n",
    "from keras.optimizers import Adam \n",
    "\n",
    "n_rhs, n_lhs = len(sublist_by_2_concat.RHS_C.unique()), len(sublist_by_2_concat.LHS_C.unique())\n",
    "n_latent_factors = 20\n",
    "# input, embedding --> \n",
    "lhs_input = keras.layers.Input(shape=(1,), name=\"lhs-item\") \n",
    "lhs_embedding = keras.layers.Embedding(n_lhs + 1, n_latent_factors, name=\"lhs-embeddings\")(lhs_input) \n",
    "lhs_vec = keras.layers.Flatten(name=\"flatten-lhs\")(lhs_embedding) \n",
    "\n",
    "rhs_input= keras.layers.Input(shape=(1,), name=\"rhs-item\")\n",
    "rhs_embedding = keras.layers.Embedding(n_rhs + 1, n_latent_factors, name=\"rhs-embeddings\")(rhs_input) \n",
    "rhs_vec = keras.layers.Flatten(name=\"flatten-rhs\")(rhs_embedding)\n",
    "\n",
    "product = keras.layers.dot([lhs_vec, rhs_vec], axes=1, name=\"dot-product\") \n",
    "\n",
    "model = keras.Model([lhs_input, rhs_input], product) \n"
   ]
  },
  {
   "cell_type": "code",
   "execution_count": 32,
   "metadata": {},
   "outputs": [
    {
     "name": "stdout",
     "output_type": "stream",
     "text": [
      "Model: \"model\"\n",
      "__________________________________________________________________________________________________\n",
      " Layer (type)                   Output Shape         Param #     Connected to                     \n",
      "==================================================================================================\n",
      " lhs-item (InputLayer)          [(None, 1)]          0           []                               \n",
      "                                                                                                  \n",
      " rhs-item (InputLayer)          [(None, 1)]          0           []                               \n",
      "                                                                                                  \n",
      " lhs-embeddings (Embedding)     (None, 1, 20)        95300       ['lhs-item[0][0]']               \n",
      "                                                                                                  \n",
      " rhs-embeddings (Embedding)     (None, 1, 20)        96020       ['rhs-item[0][0]']               \n",
      "                                                                                                  \n",
      " flatten-lhs (Flatten)          (None, 20)           0           ['lhs-embeddings[0][0]']         \n",
      "                                                                                                  \n",
      " flatten-rhs (Flatten)          (None, 20)           0           ['rhs-embeddings[0][0]']         \n",
      "                                                                                                  \n",
      " dot-product (Dot)              (None, 1)            0           ['flatten-lhs[0][0]',            \n",
      "                                                                  'flatten-rhs[0][0]']            \n",
      "                                                                                                  \n",
      "==================================================================================================\n",
      "Total params: 191,320\n",
      "Trainable params: 191,320\n",
      "Non-trainable params: 0\n",
      "__________________________________________________________________________________________________\n"
     ]
    }
   ],
   "source": [
    "model.compile(optimizer='adam', loss='mean_squared_error', metrics=['mae', 'mse'])\n",
    "model.summary() "
   ]
  },
  {
   "cell_type": "code",
   "execution_count": 33,
   "metadata": {},
   "outputs": [],
   "source": [
    "initial_weights = model.get_weights()"
   ]
  },
  {
   "cell_type": "code",
   "execution_count": 34,
   "metadata": {},
   "outputs": [
    {
     "data": {
      "text/plain": [
       "(         RHS_C  LHS_C\n",
       " 2170298    541   2397\n",
       " 3019857      1     17\n",
       " 1292598   1780   1403\n",
       " 2953717   3838   1230\n",
       " 2703595   1743   2675,\n",
       " 2170298    0.693147\n",
       " 3019857    1.098612\n",
       " 1292598    1.791759\n",
       " 2953717    0.693147\n",
       " 2703595    0.693147\n",
       " Name: rating, dtype: float64)"
      ]
     },
     "execution_count": 34,
     "metadata": {},
     "output_type": "execute_result"
    }
   ],
   "source": [
    "from sklearn.model_selection import train_test_split \n",
    "\n",
    "X_train, X_test, y_train, y_test = train_test_split(sublist_by_2_concat[[\"RHS_C\", \"LHS_C\"]], sublist_by_2_concat.rating, test_size=0.10) \n",
    "X_train[:5], y_train[:5]"
   ]
  },
  {
   "cell_type": "code",
   "execution_count": 35,
   "metadata": {},
   "outputs": [
    {
     "data": {
      "text/plain": [
       "(4729, 3018)"
      ]
     },
     "execution_count": 35,
     "metadata": {},
     "output_type": "execute_result"
    }
   ],
   "source": [
    "len(X_train.RHS_C.unique()), len(X_test.RHS_C.unique())"
   ]
  },
  {
   "cell_type": "code",
   "execution_count": 36,
   "metadata": {},
   "outputs": [],
   "source": [
    "early_stopping = keras.callbacks.EarlyStopping(monitor=\"loss\", patience=3, )"
   ]
  },
  {
   "cell_type": "code",
   "execution_count": 37,
   "metadata": {},
   "outputs": [],
   "source": [
    "history = model.fit(\n",
    "    [X_train.LHS_C, X_train.RHS_C], \n",
    "    y_train,\n",
    "    validation_data=([X_test.LHS_C, X_test.RHS_C], y_test),\n",
    "    epochs=100, \n",
    "    verbose=0,\n",
    "    callbacks=[early_stopping]\n",
    ")"
   ]
  },
  {
   "cell_type": "code",
   "execution_count": 38,
   "metadata": {},
   "outputs": [
    {
     "data": {
      "text/plain": [
       "(7.720905251936779, 0.6931471805599453)"
      ]
     },
     "execution_count": 38,
     "metadata": {},
     "output_type": "execute_result"
    }
   ],
   "source": [
    "sublist_by_2_concat.rating.max(), sublist_by_2_concat.rating.min() "
   ]
  },
  {
   "cell_type": "code",
   "execution_count": 39,
   "metadata": {},
   "outputs": [
    {
     "data": {
      "text/plain": [
       "[array([[-0.11967504, -0.12672643, -0.13565344, ...,  0.05080979,\n",
       "         -0.14860371,  0.13550805],\n",
       "        [-0.33534935, -0.23748086, -0.38051727, ..., -0.2942391 ,\n",
       "         -0.32563236, -0.33461025],\n",
       "        [-0.26642087, -0.05618297, -0.3340669 , ..., -0.43688208,\n",
       "          0.4103947 ,  0.41613683],\n",
       "        ...,\n",
       "        [ 0.4108926 ,  0.55515325,  0.4367946 , ..., -0.4307711 ,\n",
       "         -0.8699589 , -0.49225783],\n",
       "        [-0.21144956,  0.2135688 ,  0.16932245, ..., -0.13803656,\n",
       "         -0.28072006, -0.1454581 ],\n",
       "        [-0.03541844,  0.04276851,  0.02352561, ...,  0.00205154,\n",
       "          0.0498364 ,  0.04266817]], dtype=float32)]"
      ]
     },
     "execution_count": 39,
     "metadata": {},
     "output_type": "execute_result"
    }
   ],
   "source": [
    "model.get_layer(name='lhs-embeddings').get_weights()"
   ]
  },
  {
   "cell_type": "code",
   "execution_count": 40,
   "metadata": {},
   "outputs": [
    {
     "data": {
      "image/png": "[encoded data removed]",
      "text/plain": [
       "<Figure size 720x432 with 1 Axes>"
      ]
     },
     "metadata": {
      "needs_background": "light"
     },
     "output_type": "display_data"
    },
    {
     "data": {
      "image/png": "[encoded data removed]",
      "text/plain": [
       "<Figure size 720x432 with 1 Axes>"
      ]
     },
     "metadata": {
      "needs_background": "light"
     },
     "output_type": "display_data"
    }
   ],
   "source": [
    "import matplotlib.pyplot as plt \n",
    "\n",
    "plt.title(\"loss curve\")\n",
    "plt.xlabel(\"epochs\")\n",
    "plt.ylabel(\"loss\")\n",
    "pd.DataFrame(history.history)[\"loss\"].plot(figsize=(10,6)) \n",
    "pd.DataFrame(history.history)[[\"mse\", \"mae\"]].plot(figsize=(10,6))\n",
    "plt.show() "
   ]
  },
  {
   "cell_type": "code",
   "execution_count": 41,
   "metadata": {},
   "outputs": [
    {
     "data": {
      "image/png": "[encoded data removed]",
      "text/plain": [
       "<Figure size 720x432 with 1 Axes>"
      ]
     },
     "metadata": {
      "needs_background": "light"
     },
     "output_type": "display_data"
    }
   ],
   "source": [
    "pd.DataFrame(history.history)[[\"mse\", \"val_mse\"]].plot(figsize=(10,6))\n",
    "plt.show() "
   ]
  },
  {
   "cell_type": "code",
   "execution_count": 42,
   "metadata": {},
   "outputs": [],
   "source": [
    "model.set_weights(initial_weights)"
   ]
  },
  {
   "cell_type": "code",
   "execution_count": 43,
   "metadata": {},
   "outputs": [
    {
     "name": "stdout",
     "output_type": "stream",
     "text": [
      "Epoch 1/100\n",
      "5959/5959 [==============================] - 13s 2ms/step - loss: 1.0400 - mae: 0.7703 - mse: 1.0400 - val_loss: 0.4706 - val_mae: 0.5013 - val_mse: 0.4706\n",
      "Epoch 2/100\n",
      "5959/5959 [==============================] - 13s 2ms/step - loss: 0.4114 - mae: 0.4691 - mse: 0.4114 - val_loss: 0.3763 - val_mae: 0.4502 - val_mse: 0.3763\n",
      "Epoch 3/100\n",
      "5959/5959 [==============================] - 14s 2ms/step - loss: 0.3285 - mae: 0.4182 - mse: 0.3285 - val_loss: 0.3242 - val_mae: 0.4193 - val_mse: 0.3242\n",
      "Epoch 4/100\n",
      "5959/5959 [==============================] - 14s 2ms/step - loss: 0.2738 - mae: 0.3819 - mse: 0.2738 - val_loss: 0.2945 - val_mae: 0.4018 - val_mse: 0.2945\n",
      "Epoch 5/100\n",
      "5959/5959 [==============================] - 16s 3ms/step - loss: 0.2403 - mae: 0.3579 - mse: 0.2403 - val_loss: 0.2818 - val_mae: 0.3954 - val_mse: 0.2818\n",
      "Epoch 6/100\n",
      "5959/5959 [==============================] - 14s 2ms/step - loss: 0.2177 - mae: 0.3408 - mse: 0.2177 - val_loss: 0.2742 - val_mae: 0.3916 - val_mse: 0.2742\n",
      "Epoch 7/100\n",
      "5959/5959 [==============================] - 14s 2ms/step - loss: 0.2007 - mae: 0.3276 - mse: 0.2007 - val_loss: 0.2704 - val_mae: 0.3902 - val_mse: 0.2704\n",
      "Epoch 8/100\n",
      "5959/5959 [==============================] - 14s 2ms/step - loss: 0.1863 - mae: 0.3157 - mse: 0.1863 - val_loss: 0.2680 - val_mae: 0.3906 - val_mse: 0.2680\n",
      "Epoch 9/100\n",
      "5959/5959 [==============================] - 14s 2ms/step - loss: 0.1747 - mae: 0.3060 - mse: 0.1747 - val_loss: 0.2686 - val_mae: 0.3923 - val_mse: 0.2686\n",
      "Epoch 10/100\n",
      "5959/5959 [==============================] - 15s 2ms/step - loss: 0.1652 - mae: 0.2979 - mse: 0.1652 - val_loss: 0.2713 - val_mae: 0.3959 - val_mse: 0.2713\n",
      "Epoch 11/100\n",
      "5959/5959 [==============================] - 14s 2ms/step - loss: 0.1574 - mae: 0.2906 - mse: 0.1574 - val_loss: 0.2750 - val_mae: 0.3992 - val_mse: 0.2750\n"
     ]
    }
   ],
   "source": [
    "early_stopping = keras.callbacks.EarlyStopping(monitor=\"val_loss\", mode=\"min\",patience=3)\n",
    "model.compile(optimizer='adam', loss='mean_squared_error', metrics=['mae', 'mse'])\n",
    "history = model.fit(\n",
    "    [X_train.LHS_C, X_train.RHS_C], \n",
    "    y_train,\n",
    "    validation_data=([X_test.LHS_C, X_test.RHS_C], y_test),\n",
    "    epochs=100, \n",
    "    callbacks=[early_stopping]\n",
    ")"
   ]
  },
  {
   "cell_type": "code",
   "execution_count": 44,
   "metadata": {},
   "outputs": [
    {
     "data": {
      "image/png": "[encoded data removed]",
      "text/plain": [
       "<Figure size 720x432 with 1 Axes>"
      ]
     },
     "metadata": {
      "needs_background": "light"
     },
     "output_type": "display_data"
    }
   ],
   "source": [
    "pd.DataFrame(history.history)[[\"mse\", \"val_mse\"]].plot(figsize=(10,6))\n",
    "plt.show() "
   ]
  },
  {
   "cell_type": "code",
   "execution_count": 45,
   "metadata": {},
   "outputs": [
    {
     "data": {
      "image/png": "[encoded data removed]",
      "text/plain": [
       "<Figure size 720x432 with 1 Axes>"
      ]
     },
     "metadata": {
      "needs_background": "light"
     },
     "output_type": "display_data"
    }
   ],
   "source": [
    "plt.title(\"loss curve\")\n",
    "plt.xlabel(\"epochs\")\n",
    "plt.ylabel(\"loss\")\n",
    "pd.DataFrame(history.history)[\"loss\"].plot(figsize=(10,6)) \n",
    "plt.show() "
   ]
  },
  {
   "cell_type": "code",
   "execution_count": 46,
   "metadata": {},
   "outputs": [
    {
     "data": {
      "text/plain": [
       "array([[-0.11623395, -0.09986712, -0.11909172, ..., -0.10081229,\n",
       "        -0.1337532 ,  0.1318173 ],\n",
       "       [-0.3066547 , -0.21134132, -0.41803384, ..., -0.4607549 ,\n",
       "        -0.23593378,  0.20037816],\n",
       "       [-0.28429577,  0.27812958, -0.29721174, ..., -0.35217762,\n",
       "         0.34429386,  0.33419627],\n",
       "       ...,\n",
       "       [ 0.43445095,  0.42501554, -0.14163914, ...,  0.47359365,\n",
       "        -0.42596227, -0.34164253],\n",
       "       [ 0.20680295,  0.20020875,  0.1009037 , ...,  0.16558404,\n",
       "        -0.2338995 , -0.16779369],\n",
       "       [-0.03541844,  0.04276851,  0.02352561, ...,  0.00205154,\n",
       "         0.0498364 ,  0.04266817]], dtype=float32)"
      ]
     },
     "execution_count": 46,
     "metadata": {},
     "output_type": "execute_result"
    }
   ],
   "source": [
    "lhs_embddings = model.get_layer(name='lhs-embeddings').get_weights()[0]\n",
    "lhs_embddings"
   ]
  },
  {
   "cell_type": "code",
   "execution_count": 47,
   "metadata": {},
   "outputs": [
    {
     "data": {
      "text/plain": [
       "array([[-0.30502406,  0.29119977, -0.26442772, ..., -0.33042777,\n",
       "         0.285473  ,  0.3202859 ],\n",
       "       [-0.28331167, -0.26091728, -0.4092876 , ..., -0.1730644 ,\n",
       "        -0.39779127,  0.33520943],\n",
       "       [ 0.08616025,  0.09679467, -0.12054111, ...,  0.05200026,\n",
       "        -0.1064205 , -0.07502282],\n",
       "       ...,\n",
       "       [ 0.24271174,  0.2942544 , -0.3217186 , ...,  0.2707314 ,\n",
       "        -0.34226972, -0.3000191 ],\n",
       "       [ 0.14283338,  0.10537926, -0.22653131, ...,  0.17938589,\n",
       "        -0.27235213, -0.15059714],\n",
       "       [ 0.03513676, -0.04578748,  0.03363255, ..., -0.04576157,\n",
       "         0.02327817,  0.01225855]], dtype=float32)"
      ]
     },
     "execution_count": 47,
     "metadata": {},
     "output_type": "execute_result"
    }
   ],
   "source": [
    "rhs_embddings = model.get_layer(name='rhs-embeddings').get_weights()[0]\n",
    "rhs_embddings"
   ]
  },
  {
   "cell_type": "code",
   "execution_count": 48,
   "metadata": {},
   "outputs": [],
   "source": [
    "def recommend(option_in_category, number_of_options=5):\n",
    "  options = lhs_embddings[option_in_category]@rhs_embddings.T\n",
    "  mids = np.argpartition(options, -number_of_options)[-number_of_options:]\n",
    "  \n",
    "  return mids"
   ]
  },
  {
   "cell_type": "code",
   "execution_count": 49,
   "metadata": {},
   "outputs": [
    {
     "data": {
      "text/plain": [
       "753600    1066\n",
       "753376    1048\n",
       "753350     779\n",
       "753536     745\n",
       "753509     718\n",
       "751600     698\n",
       "753609     693\n",
       "753517     604\n",
       "759397     592\n",
       "751526     584\n",
       "753572     572\n",
       "760352     544\n",
       "748802     541\n",
       "746304     508\n",
       "753314     502\n",
       "753507     497\n",
       "670176     493\n",
       "749920     485\n",
       "760353     482\n",
       "764515     476\n",
       "Name: LHS, dtype: int64"
      ]
     },
     "execution_count": 49,
     "metadata": {},
     "output_type": "execute_result"
    }
   ],
   "source": [
    "sublist_by_2_concat.LHS.value_counts()[:20]"
   ]
  },
  {
   "cell_type": "code",
   "execution_count": 50,
   "metadata": {},
   "outputs": [
    {
     "data": {
      "text/html": [
       "<div>\n",
       "<style scoped>\n",
       "    .dataframe tbody tr th:only-of-type {\n",
       "        vertical-align: middle;\n",
       "    }\n",
       "\n",
       "    .dataframe tbody tr th {\n",
       "        vertical-align: top;\n",
       "    }\n",
       "\n",
       "    .dataframe thead th {\n",
       "        text-align: right;\n",
       "    }\n",
       "</style>\n",
       "<table border=\"1\" class=\"dataframe\">\n",
       "  <thead>\n",
       "    <tr style=\"text-align: right;\">\n",
       "      <th></th>\n",
       "      <th>rating</th>\n",
       "      <th>bill</th>\n",
       "      <th>option_count</th>\n",
       "      <th>LHS</th>\n",
       "      <th>RHS</th>\n",
       "      <th>LHS_C</th>\n",
       "      <th>RHS_C</th>\n",
       "    </tr>\n",
       "  </thead>\n",
       "  <tbody>\n",
       "    <tr>\n",
       "      <th>1010</th>\n",
       "      <td>1.386294</td>\n",
       "      <td>(759397, 753355)</td>\n",
       "      <td>2</td>\n",
       "      <td>759397</td>\n",
       "      <td>753355</td>\n",
       "      <td>3491</td>\n",
       "      <td>3049</td>\n",
       "    </tr>\n",
       "    <tr>\n",
       "      <th>1011</th>\n",
       "      <td>4.844187</td>\n",
       "      <td>(759397, 753357)</td>\n",
       "      <td>2</td>\n",
       "      <td>759397</td>\n",
       "      <td>753357</td>\n",
       "      <td>3491</td>\n",
       "      <td>3051</td>\n",
       "    </tr>\n",
       "    <tr>\n",
       "      <th>1012</th>\n",
       "      <td>2.397895</td>\n",
       "      <td>(759397, 755827)</td>\n",
       "      <td>2</td>\n",
       "      <td>759397</td>\n",
       "      <td>755827</td>\n",
       "      <td>3491</td>\n",
       "      <td>3386</td>\n",
       "    </tr>\n",
       "    <tr>\n",
       "      <th>1013</th>\n",
       "      <td>2.197225</td>\n",
       "      <td>(759397, 753301)</td>\n",
       "      <td>2</td>\n",
       "      <td>759397</td>\n",
       "      <td>753301</td>\n",
       "      <td>3491</td>\n",
       "      <td>3017</td>\n",
       "    </tr>\n",
       "    <tr>\n",
       "      <th>1014</th>\n",
       "      <td>5.187386</td>\n",
       "      <td>(759397, 753433)</td>\n",
       "      <td>2</td>\n",
       "      <td>759397</td>\n",
       "      <td>753433</td>\n",
       "      <td>3491</td>\n",
       "      <td>3088</td>\n",
       "    </tr>\n",
       "  </tbody>\n",
       "</table>\n",
       "</div>"
      ],
      "text/plain": [
       "        rating              bill  option_count     LHS     RHS  LHS_C  RHS_C\n",
       "1010  1.386294  (759397, 753355)             2  759397  753355   3491   3049\n",
       "1011  4.844187  (759397, 753357)             2  759397  753357   3491   3051\n",
       "1012  2.397895  (759397, 755827)             2  759397  755827   3491   3386\n",
       "1013  2.197225  (759397, 753301)             2  759397  753301   3491   3017\n",
       "1014  5.187386  (759397, 753433)             2  759397  753433   3491   3088"
      ]
     },
     "execution_count": 50,
     "metadata": {},
     "output_type": "execute_result"
    }
   ],
   "source": [
    "sublist_by_2_concat[sublist_by_2_concat.LHS == 759397].head()     # RHS = 721495, LHS = 751839"
   ]
  },
  {
   "cell_type": "code",
   "execution_count": 51,
   "metadata": {},
   "outputs": [
    {
     "data": {
      "text/plain": [
       "array([751581, 753433, 789122, 764172, 764175, 764174, 753446, 645694,\n",
       "       754180, 823710], dtype=int64)"
      ]
     },
     "execution_count": 51,
     "metadata": {},
     "output_type": "execute_result"
    }
   ],
   "source": [
    "id_list = recommend(\n",
    "    3678,\n",
    "    10\n",
    ")\n",
    "\n",
    "sublist_by_2_concat.query(\"RHS_C in @id_list\").RHS.unique() "
   ]
  },
  {
   "cell_type": "code",
   "execution_count": 52,
   "metadata": {},
   "outputs": [
    {
     "data": {
      "text/plain": [
       "array([3088, 3096, 3249, 3766, 4724,  412, 4797, 3763, 3765, 2851],\n",
       "      dtype=int64)"
      ]
     },
     "execution_count": 52,
     "metadata": {},
     "output_type": "execute_result"
    }
   ],
   "source": [
    "id_list"
   ]
  },
  {
   "attachments": {},
   "cell_type": "markdown",
   "metadata": {},
   "source": [
    "### Model.2 : With 3's Combine "
   ]
  },
  {
   "cell_type": "code",
   "execution_count": 53,
   "metadata": {},
   "outputs": [
    {
     "data": {
      "text/html": [
       "<div>\n",
       "<style scoped>\n",
       "    .dataframe tbody tr th:only-of-type {\n",
       "        vertical-align: middle;\n",
       "    }\n",
       "\n",
       "    .dataframe tbody tr th {\n",
       "        vertical-align: top;\n",
       "    }\n",
       "\n",
       "    .dataframe thead th {\n",
       "        text-align: right;\n",
       "    }\n",
       "</style>\n",
       "<table border=\"1\" class=\"dataframe\">\n",
       "  <thead>\n",
       "    <tr style=\"text-align: right;\">\n",
       "      <th></th>\n",
       "      <th>rating</th>\n",
       "      <th>bill</th>\n",
       "      <th>option_count</th>\n",
       "      <th>LHS</th>\n",
       "      <th>RHS</th>\n",
       "    </tr>\n",
       "  </thead>\n",
       "  <tbody>\n",
       "    <tr>\n",
       "      <th>0</th>\n",
       "      <td>0.693147</td>\n",
       "      <td>(772494, 754574, 749358)</td>\n",
       "      <td>3</td>\n",
       "      <td>(749358, 754574)</td>\n",
       "      <td>772494</td>\n",
       "    </tr>\n",
       "    <tr>\n",
       "      <th>1</th>\n",
       "      <td>0.693147</td>\n",
       "      <td>(772494, 754574, 749358)</td>\n",
       "      <td>3</td>\n",
       "      <td>(749358, 772494)</td>\n",
       "      <td>754574</td>\n",
       "    </tr>\n",
       "    <tr>\n",
       "      <th>2</th>\n",
       "      <td>0.693147</td>\n",
       "      <td>(772494, 754574, 749358)</td>\n",
       "      <td>3</td>\n",
       "      <td>(754574, 772494)</td>\n",
       "      <td>749358</td>\n",
       "    </tr>\n",
       "    <tr>\n",
       "      <th>3</th>\n",
       "      <td>0.693147</td>\n",
       "      <td>(754574, 745328, 745310)</td>\n",
       "      <td>3</td>\n",
       "      <td>(745328, 745310)</td>\n",
       "      <td>754574</td>\n",
       "    </tr>\n",
       "    <tr>\n",
       "      <th>4</th>\n",
       "      <td>0.693147</td>\n",
       "      <td>(754574, 745328, 745310)</td>\n",
       "      <td>3</td>\n",
       "      <td>(745310, 754574)</td>\n",
       "      <td>745328</td>\n",
       "    </tr>\n",
       "  </tbody>\n",
       "</table>\n",
       "</div>"
      ],
      "text/plain": [
       "     rating                      bill option_count               LHS     RHS\n",
       "0  0.693147  (772494, 754574, 749358)            3  (749358, 754574)  772494\n",
       "1  0.693147  (772494, 754574, 749358)            3  (749358, 772494)  754574\n",
       "2  0.693147  (772494, 754574, 749358)            3  (754574, 772494)  749358\n",
       "3  0.693147  (754574, 745328, 745310)            3  (745328, 745310)  754574\n",
       "4  0.693147  (754574, 745328, 745310)            3  (745310, 754574)  745328"
      ]
     },
     "execution_count": 53,
     "metadata": {},
     "output_type": "execute_result"
    }
   ],
   "source": [
    "dataset_combined_MF.head() "
   ]
  },
  {
   "cell_type": "code",
   "execution_count": 54,
   "metadata": {},
   "outputs": [
    {
     "data": {
      "text/html": [
       "<div>\n",
       "<style scoped>\n",
       "    .dataframe tbody tr th:only-of-type {\n",
       "        vertical-align: middle;\n",
       "    }\n",
       "\n",
       "    .dataframe tbody tr th {\n",
       "        vertical-align: top;\n",
       "    }\n",
       "\n",
       "    .dataframe thead th {\n",
       "        text-align: right;\n",
       "    }\n",
       "</style>\n",
       "<table border=\"1\" class=\"dataframe\">\n",
       "  <thead>\n",
       "    <tr style=\"text-align: right;\">\n",
       "      <th></th>\n",
       "      <th>rating</th>\n",
       "      <th>bill</th>\n",
       "      <th>option_count</th>\n",
       "      <th>LHS</th>\n",
       "      <th>RHS</th>\n",
       "      <th>LHS_C</th>\n",
       "      <th>RHS_C</th>\n",
       "    </tr>\n",
       "  </thead>\n",
       "  <tbody>\n",
       "    <tr>\n",
       "      <th>0</th>\n",
       "      <td>0.693147</td>\n",
       "      <td>(772494, 754574, 749358)</td>\n",
       "      <td>3</td>\n",
       "      <td>(749358, 754574)</td>\n",
       "      <td>772494</td>\n",
       "      <td>0</td>\n",
       "      <td>4244</td>\n",
       "    </tr>\n",
       "    <tr>\n",
       "      <th>1</th>\n",
       "      <td>0.693147</td>\n",
       "      <td>(772494, 754574, 749358)</td>\n",
       "      <td>3</td>\n",
       "      <td>(749358, 772494)</td>\n",
       "      <td>754574</td>\n",
       "      <td>1</td>\n",
       "      <td>3410</td>\n",
       "    </tr>\n",
       "    <tr>\n",
       "      <th>2</th>\n",
       "      <td>0.693147</td>\n",
       "      <td>(772494, 754574, 749358)</td>\n",
       "      <td>3</td>\n",
       "      <td>(754574, 772494)</td>\n",
       "      <td>749358</td>\n",
       "      <td>2</td>\n",
       "      <td>2753</td>\n",
       "    </tr>\n",
       "    <tr>\n",
       "      <th>3</th>\n",
       "      <td>0.693147</td>\n",
       "      <td>(754574, 745328, 745310)</td>\n",
       "      <td>3</td>\n",
       "      <td>(745328, 745310)</td>\n",
       "      <td>754574</td>\n",
       "      <td>3</td>\n",
       "      <td>3410</td>\n",
       "    </tr>\n",
       "    <tr>\n",
       "      <th>4</th>\n",
       "      <td>0.693147</td>\n",
       "      <td>(754574, 745328, 745310)</td>\n",
       "      <td>3</td>\n",
       "      <td>(745310, 754574)</td>\n",
       "      <td>745328</td>\n",
       "      <td>4</td>\n",
       "      <td>2489</td>\n",
       "    </tr>\n",
       "  </tbody>\n",
       "</table>\n",
       "</div>"
      ],
      "text/plain": [
       "     rating                      bill option_count               LHS     RHS  \\\n",
       "0  0.693147  (772494, 754574, 749358)            3  (749358, 754574)  772494   \n",
       "1  0.693147  (772494, 754574, 749358)            3  (749358, 772494)  754574   \n",
       "2  0.693147  (772494, 754574, 749358)            3  (754574, 772494)  749358   \n",
       "3  0.693147  (754574, 745328, 745310)            3  (745328, 745310)  754574   \n",
       "4  0.693147  (754574, 745328, 745310)            3  (745310, 754574)  745328   \n",
       "\n",
       "   LHS_C  RHS_C  \n",
       "0      0   4244  \n",
       "1      1   3410  \n",
       "2      2   2753  \n",
       "3      3   3410  \n",
       "4      4   2489  "
      ]
     },
     "execution_count": 54,
     "metadata": {},
     "output_type": "execute_result"
    }
   ],
   "source": [
    "dataset_combined_MF[\"LHS_C\"] = dataset_combined_MF.LHS.astype('category').cat.codes.values\n",
    "dataset_combined_MF[\"RHS_C\"] = dataset_combined_MF.RHS.astype('category').cat.codes.values\n",
    "\n",
    "dataset_combined_MF.head() "
   ]
  },
  {
   "cell_type": "code",
   "execution_count": 55,
   "metadata": {},
   "outputs": [
    {
     "data": {
      "text/plain": [
       "(4898, 111164)"
      ]
     },
     "execution_count": 55,
     "metadata": {},
     "output_type": "execute_result"
    }
   ],
   "source": [
    "len(dataset_combined_MF[\"RHS_C\"].unique()), len(dataset_combined_MF[\"LHS_C\"].unique())"
   ]
  },
  {
   "cell_type": "code",
   "execution_count": 56,
   "metadata": {},
   "outputs": [],
   "source": [
    "n_rhs, n_lhs = len(dataset_combined_MF.RHS_C.unique()), len(dataset_combined_MF.LHS_C.unique())\n",
    "n_latent_factors = 20\n",
    "# input, embedding --> \n",
    "lhs_input = keras.layers.Input(shape=(1,), name=\"lhs-item\") \n",
    "lhs_embedding = keras.layers.Embedding(n_lhs + 1, n_latent_factors, name=\"lhs-embeddings\")(lhs_input) \n",
    "lhs_vec = keras.layers.Flatten(name=\"flatten-lhs\")(lhs_embedding) \n",
    "\n",
    "rhs_input= keras.layers.Input(shape=(1,), name=\"rhs-item\")\n",
    "rhs_embedding = keras.layers.Embedding(n_rhs + 1, n_latent_factors, name=\"rhs-embeddings\")(rhs_input) \n",
    "rhs_vec = keras.layers.Flatten(name=\"flatten-rhs\")(rhs_embedding)\n",
    "\n",
    "product = keras.layers.dot([lhs_vec, rhs_vec], axes=1, name=\"dot-product\") \n",
    "model_2 = keras.Model([lhs_input, rhs_input], product) \n",
    "\n",
    "model_2.compile(optimizer='adam', loss='mean_squared_error', metrics=['mae', 'mse'])"
   ]
  },
  {
   "cell_type": "code",
   "execution_count": 57,
   "metadata": {},
   "outputs": [
    {
     "data": {
      "text/plain": [
       "(        RHS_C   LHS_C\n",
       " 140139   3091   26251\n",
       " 388939   4063   86421\n",
       " 590233   1846  106964\n",
       " 150201    341   15057\n",
       " 279769   2784   65863,\n",
       " 140139    0.693147\n",
       " 388939    1.098612\n",
       " 590233    1.098612\n",
       " 150201    1.098612\n",
       " 279769    0.693147\n",
       " Name: rating, dtype: object)"
      ]
     },
     "execution_count": 57,
     "metadata": {},
     "output_type": "execute_result"
    }
   ],
   "source": [
    "X_train_3, X_test_3, y_train_3, y_test_3 = train_test_split(dataset_combined_MF[[\"RHS_C\", \"LHS_C\"]], dataset_combined_MF.rating, test_size=0.10) \n",
    "X_train_3[:5], y_train_3[:5]"
   ]
  },
  {
   "cell_type": "code",
   "execution_count": 58,
   "metadata": {},
   "outputs": [],
   "source": [
    "cp_callback = keras.callbacks.ModelCheckpoint(filepath=\"../checkpoints/model_2.ckpt\",\n",
    "                                                 save_weights_only=True,\n",
    "                                                 verbose=1)"
   ]
  },
  {
   "cell_type": "code",
   "execution_count": null,
   "metadata": {},
   "outputs": [],
   "source": [
    "early_stopping = keras.callbacks.EarlyStopping(monitor=\"val_loss\", mode=\"min\",patience=6)\n",
    "history = model_2.fit(\n",
    "    [X_train_3.LHS_C, X_train_3.RHS_C], \n",
    "    np.array(y_train_3, dtype=float),\n",
    "    validation_data=([X_test_3.LHS_C, X_test_3.RHS_C], np.array(y_test_3, dtype=float)),\n",
    "    epochs=100, \n",
    "    callbacks=[early_stopping, cp_callback]\n",
    ")"
   ]
  },
  {
   "cell_type": "code",
   "execution_count": null,
   "metadata": {},
   "outputs": [],
   "source": []
  },
  {
   "cell_type": "code",
   "execution_count": null,
   "metadata": {},
   "outputs": [],
   "source": []
  },
  {
   "cell_type": "code",
   "execution_count": null,
   "metadata": {},
   "outputs": [],
   "source": []
  },
  {
   "cell_type": "code",
   "execution_count": null,
   "metadata": {},
   "outputs": [],
   "source": []
  },
  {
   "cell_type": "markdown",
   "metadata": {},
   "source": [
    "# Model 2: Apriori (apyori Module)"
   ]
  },
  {
   "cell_type": "code",
   "execution_count": null,
   "metadata": {},
   "outputs": [
    {
     "data": {
      "text/plain": [
       "8374"
      ]
     },
     "execution_count": 9,
     "metadata": {},
     "output_type": "execute_result"
    }
   ],
   "source": [
    "associations = apriori(\n",
    "    transactions,\n",
    "    min_length = 2,\n",
    "    max_length=4,\n",
    "    min_support = 0.0001,\n",
    "    min_confidence = 0.0001,\n",
    "    min_lift = 0.0001,\n",
    ")\n",
    "\n",
    "associations = list(associations)\n",
    "len(associations)"
   ]
  },
  {
   "cell_type": "code",
   "execution_count": null,
   "metadata": {},
   "outputs": [
    {
     "name": "stdout",
     "output_type": "stream",
     "text": [
      "RelationRecord(items=frozenset({635458}), support=0.0007728733714453959, ordered_statistics=[OrderedStatistic(items_base=frozenset(), items_add=frozenset({635458}), confidence=0.0007728733714453959, lift=1.0)])\n",
      "support 0.0007728733714453959\n",
      "[OrderedStatistic(items_base=frozenset(), items_add=frozenset({635458}), confidence=0.0007728733714453959, lift=1.0)]\n",
      "right frozenset({635458})\n",
      "left frozenset()\n",
      "confidence 0.0007728733714453959\n",
      "lift 1.0\n"
     ]
    }
   ],
   "source": [
    "association = associations[100]\n",
    "print(association)\n",
    "print(\"support\", association.support)\n",
    "print(association.ordered_statistics)\n",
    "print(\"right\", association.ordered_statistics[0].items_add)\n",
    "print(\"left\", association.ordered_statistics[0].items_base)\n",
    "print(\"confidence\", association.ordered_statistics[0].confidence)\n",
    "print(\"lift\", association.ordered_statistics[0].lift)\n"
   ]
  },
  {
   "cell_type": "code",
   "execution_count": null,
   "metadata": {},
   "outputs": [],
   "source": [
    "rules = [] \n",
    "for association in associations:\n",
    "    if len(association.ordered_statistics) > 1: \n",
    "        rules.append(association)"
   ]
  },
  {
   "cell_type": "code",
   "execution_count": null,
   "metadata": {},
   "outputs": [
    {
     "data": {
      "text/plain": [
       "5228"
      ]
     },
     "execution_count": 12,
     "metadata": {},
     "output_type": "execute_result"
    }
   ],
   "source": [
    "len(rules)"
   ]
  },
  {
   "cell_type": "code",
   "execution_count": null,
   "metadata": {},
   "outputs": [],
   "source": [
    "rules "
   ]
  },
  {
   "cell_type": "code",
   "execution_count": null,
   "metadata": {},
   "outputs": [],
   "source": []
  },
  {
   "cell_type": "code",
   "execution_count": null,
   "metadata": {},
   "outputs": [],
   "source": []
  },
  {
   "cell_type": "code",
   "execution_count": null,
   "metadata": {},
   "outputs": [],
   "source": []
  },
  {
   "cell_type": "code",
   "execution_count": null,
   "metadata": {},
   "outputs": [],
   "source": []
  }
 ],
 "metadata": {
  "kernelspec": {
   "display_name": "base",
   "language": "python",
   "name": "python3"
  },
  "language_info": {
   "codemirror_mode": {
    "name": "ipython",
    "version": 3
   },
   "file_extension": ".py",
   "mimetype": "text/x-python",
   "name": "python",
   "nbconvert_exporter": "python",
   "pygments_lexer": "ipython3",
   "version": "3.9.12"
  },
  "orig_nbformat": 4,
  "vscode": {
   "interpreter": {
    "hash": "9059e48bf3b0ccbf418267d63bd69884bf8e25702a60f044a5610720066f9972"
   }
  }
 },
 "nbformat": 4,
 "nbformat_minor": 2
}
