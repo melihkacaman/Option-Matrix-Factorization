{
 "cells": [
  {
   "attachments": {},
   "cell_type": "markdown",
   "metadata": {},
   "source": [
    "## Model 2: With 3 combinations "
   ]
  },
  {
   "cell_type": "code",
   "execution_count": 7,
   "metadata": {},
   "outputs": [
    {
     "name": "stderr",
     "output_type": "stream",
     "text": [
      "C:\\Users\\melih.kacaman\\AppData\\Local\\Temp\\ipykernel_6280\\3583458614.py:3: DtypeWarning: Columns (4) have mixed types. Specify dtype option on import or set low_memory=False.\n",
      "  dataset_combined_MF = pd.read_csv(\"../datasets/combined_3_dataset.csv\")\n"
     ]
    },
    {
     "data": {
      "text/html": [
       "<div>\n",
       "<style scoped>\n",
       "    .dataframe tbody tr th:only-of-type {\n",
       "        vertical-align: middle;\n",
       "    }\n",
       "\n",
       "    .dataframe tbody tr th {\n",
       "        vertical-align: top;\n",
       "    }\n",
       "\n",
       "    .dataframe thead th {\n",
       "        text-align: right;\n",
       "    }\n",
       "</style>\n",
       "<table border=\"1\" class=\"dataframe\">\n",
       "  <thead>\n",
       "    <tr style=\"text-align: right;\">\n",
       "      <th></th>\n",
       "      <th>Unnamed: 0</th>\n",
       "      <th>rating</th>\n",
       "      <th>bill</th>\n",
       "      <th>option_count</th>\n",
       "      <th>LHS</th>\n",
       "      <th>RHS</th>\n",
       "      <th>LHS_C</th>\n",
       "      <th>RHS_C</th>\n",
       "    </tr>\n",
       "  </thead>\n",
       "  <tbody>\n",
       "    <tr>\n",
       "      <th>0</th>\n",
       "      <td>0</td>\n",
       "      <td>0.693147</td>\n",
       "      <td>(772494, 754574, 749358)</td>\n",
       "      <td>3</td>\n",
       "      <td>(749358, 754574)</td>\n",
       "      <td>772494</td>\n",
       "      <td>0</td>\n",
       "      <td>4244</td>\n",
       "    </tr>\n",
       "    <tr>\n",
       "      <th>1</th>\n",
       "      <td>1</td>\n",
       "      <td>0.693147</td>\n",
       "      <td>(772494, 754574, 749358)</td>\n",
       "      <td>3</td>\n",
       "      <td>(749358, 772494)</td>\n",
       "      <td>754574</td>\n",
       "      <td>1</td>\n",
       "      <td>3410</td>\n",
       "    </tr>\n",
       "    <tr>\n",
       "      <th>2</th>\n",
       "      <td>2</td>\n",
       "      <td>0.693147</td>\n",
       "      <td>(772494, 754574, 749358)</td>\n",
       "      <td>3</td>\n",
       "      <td>(754574, 772494)</td>\n",
       "      <td>749358</td>\n",
       "      <td>2</td>\n",
       "      <td>2753</td>\n",
       "    </tr>\n",
       "    <tr>\n",
       "      <th>3</th>\n",
       "      <td>3</td>\n",
       "      <td>0.693147</td>\n",
       "      <td>(754574, 745328, 745310)</td>\n",
       "      <td>3</td>\n",
       "      <td>(745328, 745310)</td>\n",
       "      <td>754574</td>\n",
       "      <td>3</td>\n",
       "      <td>3410</td>\n",
       "    </tr>\n",
       "    <tr>\n",
       "      <th>4</th>\n",
       "      <td>4</td>\n",
       "      <td>0.693147</td>\n",
       "      <td>(754574, 745328, 745310)</td>\n",
       "      <td>3</td>\n",
       "      <td>(745310, 754574)</td>\n",
       "      <td>745328</td>\n",
       "      <td>4</td>\n",
       "      <td>2489</td>\n",
       "    </tr>\n",
       "  </tbody>\n",
       "</table>\n",
       "</div>"
      ],
      "text/plain": [
       "   Unnamed: 0    rating                      bill  option_count  \\\n",
       "0           0  0.693147  (772494, 754574, 749358)             3   \n",
       "1           1  0.693147  (772494, 754574, 749358)             3   \n",
       "2           2  0.693147  (772494, 754574, 749358)             3   \n",
       "3           3  0.693147  (754574, 745328, 745310)             3   \n",
       "4           4  0.693147  (754574, 745328, 745310)             3   \n",
       "\n",
       "                LHS     RHS  LHS_C  RHS_C  \n",
       "0  (749358, 754574)  772494      0   4244  \n",
       "1  (749358, 772494)  754574      1   3410  \n",
       "2  (754574, 772494)  749358      2   2753  \n",
       "3  (745328, 745310)  754574      3   3410  \n",
       "4  (745310, 754574)  745328      4   2489  "
      ]
     },
     "execution_count": 7,
     "metadata": {},
     "output_type": "execute_result"
    }
   ],
   "source": [
    "import pandas as pd \n",
    "\n",
    "dataset_combined_MF = pd.read_csv(\"../datasets/combined_3_dataset.csv\")\n",
    "dataset_combined_MF.head() "
   ]
  },
  {
   "cell_type": "code",
   "execution_count": 50,
   "metadata": {},
   "outputs": [
    {
     "data": {
      "text/plain": [
       "5.420824837637819"
      ]
     },
     "execution_count": 50,
     "metadata": {},
     "output_type": "execute_result"
    }
   ],
   "source": [
    "np.mean(np.power(np.e, dataset_combined_MF[dataset_combined_MF.option_count == 2].rating))"
   ]
  },
  {
   "cell_type": "code",
   "execution_count": 8,
   "metadata": {},
   "outputs": [
    {
     "data": {
      "text/plain": [
       "(4898, 111164)"
      ]
     },
     "execution_count": 8,
     "metadata": {},
     "output_type": "execute_result"
    }
   ],
   "source": [
    "len(dataset_combined_MF[\"RHS_C\"].unique()), len(dataset_combined_MF[\"LHS_C\"].unique())"
   ]
  },
  {
   "cell_type": "code",
   "execution_count": 95,
   "metadata": {},
   "outputs": [],
   "source": [
    "from tensorflow import keras \n",
    "\n",
    "n_rhs, n_lhs = len(dataset_combined_MF.RHS_C.unique()), len(dataset_combined_MF.LHS_C.unique())\n",
    "n_latent_factors = 20\n",
    "# input, embedding --> \n",
    "lhs_input = keras.layers.Input(shape=(1,), name=\"lhs-item\") \n",
    "lhs_embedding = keras.layers.Embedding(n_lhs + 1, n_latent_factors, name=\"lhs-embeddings\")(lhs_input) \n",
    "lhs_vec = keras.layers.Flatten(name=\"flatten-lhs\")(lhs_embedding) \n",
    "\n",
    "rhs_input= keras.layers.Input(shape=(1,), name=\"rhs-item\")\n",
    "rhs_embedding = keras.layers.Embedding(n_rhs + 1, n_latent_factors, name=\"rhs-embeddings\")(rhs_input) \n",
    "rhs_vec = keras.layers.Flatten(name=\"flatten-rhs\")(rhs_embedding)\n",
    "\n",
    "product = keras.layers.dot([lhs_vec, rhs_vec], axes=1, name=\"dot-product\") \n",
    "model_2 = keras.Model([lhs_input, rhs_input], product) \n",
    "\n",
    "model_2.compile(optimizer='adam', loss='mean_squared_error', metrics=['mae', 'mse'])"
   ]
  },
  {
   "cell_type": "code",
   "execution_count": 96,
   "metadata": {},
   "outputs": [],
   "source": [
    "initial_weights_model_2 = model_2.get_weights() "
   ]
  },
  {
   "cell_type": "code",
   "execution_count": 10,
   "metadata": {},
   "outputs": [
    {
     "data": {
      "text/plain": [
       "(        RHS_C  LHS_C\n",
       " 411499   4068  89108\n",
       " 101922   3633  27744\n",
       " 386094    643   9717\n",
       " 224139   1372  54587\n",
       " 422762    257  92003,\n",
       " 411499    1.098612\n",
       " 101922    0.693147\n",
       " 386094    0.693147\n",
       " 224139    0.693147\n",
       " 422762    0.693147\n",
       " Name: rating, dtype: float64)"
      ]
     },
     "execution_count": 10,
     "metadata": {},
     "output_type": "execute_result"
    }
   ],
   "source": [
    "from sklearn.model_selection import train_test_split \n",
    "X_train_3, X_test_3, y_train_3, y_test_3 = train_test_split(dataset_combined_MF[[\"RHS_C\", \"LHS_C\"]], dataset_combined_MF.rating, test_size=0.10, random_state=42) \n",
    "X_train_3[:5], y_train_3[:5]"
   ]
  },
  {
   "cell_type": "code",
   "execution_count": 11,
   "metadata": {},
   "outputs": [],
   "source": [
    "cp_callback = keras.callbacks.ModelCheckpoint(filepath=\"../checkpoints/model_2.ckpt\",\n",
    "                                                 save_weights_only=True,\n",
    "                                                 verbose=1)"
   ]
  },
  {
   "cell_type": "code",
   "execution_count": 12,
   "metadata": {},
   "outputs": [],
   "source": [
    "import numpy as np\n",
    "\n",
    "# early_stopping = keras.callbacks.EarlyStopping(monitor=\"val_loss\", mode=\"min\",patience=6)\n",
    "# history = model_2.fit(\n",
    "#     [X_train_3.LHS_C, X_train_3.RHS_C], \n",
    "#     np.array(y_train_3, dtype=float),\n",
    "#     validation_data=([X_test_3.LHS_C, X_test_3.RHS_C], np.array(y_test_3, dtype=float)),\n",
    "#     epochs=100, \n",
    "#     callbacks=[early_stopping, cp_callback]\n",
    "# )"
   ]
  },
  {
   "cell_type": "code",
   "execution_count": 15,
   "metadata": {},
   "outputs": [
    {
     "data": {
      "text/plain": [
       "'../checkpoints\\\\model_2.ckpt'"
      ]
     },
     "execution_count": 15,
     "metadata": {},
     "output_type": "execute_result"
    }
   ],
   "source": [
    "import tensorflow as tf \n",
    "latest = tf.train.latest_checkpoint(\"../checkpoints\")\n",
    "latest "
   ]
  },
  {
   "cell_type": "code",
   "execution_count": 16,
   "metadata": {},
   "outputs": [
    {
     "data": {
      "text/plain": [
       "<tensorflow.python.checkpoint.checkpoint.CheckpointLoadStatus at 0x1d786fb38b0>"
      ]
     },
     "execution_count": 16,
     "metadata": {},
     "output_type": "execute_result"
    }
   ],
   "source": [
    "model_2.load_weights(latest) "
   ]
  },
  {
   "cell_type": "code",
   "execution_count": null,
   "metadata": {},
   "outputs": [],
   "source": [
    "from matplotlib import pyplot as plt \n",
    "pd.DataFrame(history.history)[[\"mse\", \"val_mse\"]].plot(figsize=(10,6))\n",
    "plt.show() "
   ]
  },
  {
   "cell_type": "code",
   "execution_count": 18,
   "metadata": {},
   "outputs": [],
   "source": [
    "lhs_embddings_3 = model_2.get_layer(name='lhs-embeddings').get_weights()[0]\n",
    "rhs_embddings_3 = model_2.get_layer(name='rhs-embeddings').get_weights()[0]"
   ]
  },
  {
   "cell_type": "code",
   "execution_count": 19,
   "metadata": {},
   "outputs": [],
   "source": [
    "def recommend3(option_in_category, number_of_options=5):\n",
    "  options = lhs_embddings_3[option_in_category]@rhs_embddings_3.T\n",
    "  mids = np.argpartition(options, -number_of_options)[-number_of_options:]\n",
    "  \n",
    "  return mids"
   ]
  },
  {
   "cell_type": "code",
   "execution_count": 68,
   "metadata": {},
   "outputs": [
    {
     "data": {
      "text/html": [
       "<div>\n",
       "<style scoped>\n",
       "    .dataframe tbody tr th:only-of-type {\n",
       "        vertical-align: middle;\n",
       "    }\n",
       "\n",
       "    .dataframe tbody tr th {\n",
       "        vertical-align: top;\n",
       "    }\n",
       "\n",
       "    .dataframe thead th {\n",
       "        text-align: right;\n",
       "    }\n",
       "</style>\n",
       "<table border=\"1\" class=\"dataframe\">\n",
       "  <thead>\n",
       "    <tr style=\"text-align: right;\">\n",
       "      <th></th>\n",
       "      <th>Unnamed: 0</th>\n",
       "      <th>rating</th>\n",
       "      <th>bill</th>\n",
       "      <th>option_count</th>\n",
       "      <th>LHS</th>\n",
       "      <th>RHS</th>\n",
       "      <th>LHS_C</th>\n",
       "      <th>RHS_C</th>\n",
       "    </tr>\n",
       "  </thead>\n",
       "  <tbody>\n",
       "    <tr>\n",
       "      <th>524302</th>\n",
       "      <td>524302</td>\n",
       "      <td>2.772589</td>\n",
       "      <td>(753600, 705592)</td>\n",
       "      <td>2</td>\n",
       "      <td>753600</td>\n",
       "      <td>705592</td>\n",
       "      <td>106404</td>\n",
       "      <td>1515</td>\n",
       "    </tr>\n",
       "    <tr>\n",
       "      <th>524314</th>\n",
       "      <td>524314</td>\n",
       "      <td>3.091042</td>\n",
       "      <td>(753600, 723441)</td>\n",
       "      <td>2</td>\n",
       "      <td>753600</td>\n",
       "      <td>723441</td>\n",
       "      <td>106404</td>\n",
       "      <td>2189</td>\n",
       "    </tr>\n",
       "    <tr>\n",
       "      <th>524422</th>\n",
       "      <td>524422</td>\n",
       "      <td>3.784190</td>\n",
       "      <td>(753600, 614691)</td>\n",
       "      <td>2</td>\n",
       "      <td>753600</td>\n",
       "      <td>614691</td>\n",
       "      <td>106404</td>\n",
       "      <td>150</td>\n",
       "    </tr>\n",
       "    <tr>\n",
       "      <th>525351</th>\n",
       "      <td>525351</td>\n",
       "      <td>1.945910</td>\n",
       "      <td>(753600, 757080)</td>\n",
       "      <td>2</td>\n",
       "      <td>753600</td>\n",
       "      <td>757080</td>\n",
       "      <td>106404</td>\n",
       "      <td>3582</td>\n",
       "    </tr>\n",
       "    <tr>\n",
       "      <th>525352</th>\n",
       "      <td>525352</td>\n",
       "      <td>3.044522</td>\n",
       "      <td>(753600, 757092)</td>\n",
       "      <td>2</td>\n",
       "      <td>753600</td>\n",
       "      <td>757092</td>\n",
       "      <td>106404</td>\n",
       "      <td>3587</td>\n",
       "    </tr>\n",
       "    <tr>\n",
       "      <th>...</th>\n",
       "      <td>...</td>\n",
       "      <td>...</td>\n",
       "      <td>...</td>\n",
       "      <td>...</td>\n",
       "      <td>...</td>\n",
       "      <td>...</td>\n",
       "      <td>...</td>\n",
       "      <td>...</td>\n",
       "    </tr>\n",
       "    <tr>\n",
       "      <th>686562</th>\n",
       "      <td>686562</td>\n",
       "      <td>0.693147</td>\n",
       "      <td>(753600, 773655)</td>\n",
       "      <td>2</td>\n",
       "      <td>753600</td>\n",
       "      <td>773655</td>\n",
       "      <td>106404</td>\n",
       "      <td>4316</td>\n",
       "    </tr>\n",
       "    <tr>\n",
       "      <th>688233</th>\n",
       "      <td>688233</td>\n",
       "      <td>1.386294</td>\n",
       "      <td>(753600, 571962)</td>\n",
       "      <td>2</td>\n",
       "      <td>753600</td>\n",
       "      <td>571962</td>\n",
       "      <td>106404</td>\n",
       "      <td>21</td>\n",
       "    </tr>\n",
       "    <tr>\n",
       "      <th>690033</th>\n",
       "      <td>690033</td>\n",
       "      <td>0.693147</td>\n",
       "      <td>(753600, 678091)</td>\n",
       "      <td>2</td>\n",
       "      <td>753600</td>\n",
       "      <td>678091</td>\n",
       "      <td>106404</td>\n",
       "      <td>975</td>\n",
       "    </tr>\n",
       "    <tr>\n",
       "      <th>694044</th>\n",
       "      <td>694044</td>\n",
       "      <td>0.693147</td>\n",
       "      <td>(753600, 695820)</td>\n",
       "      <td>2</td>\n",
       "      <td>753600</td>\n",
       "      <td>695820</td>\n",
       "      <td>106404</td>\n",
       "      <td>1333</td>\n",
       "    </tr>\n",
       "    <tr>\n",
       "      <th>697974</th>\n",
       "      <td>697974</td>\n",
       "      <td>0.693147</td>\n",
       "      <td>(753600, 764266)</td>\n",
       "      <td>2</td>\n",
       "      <td>753600</td>\n",
       "      <td>764266</td>\n",
       "      <td>106404</td>\n",
       "      <td>3865</td>\n",
       "    </tr>\n",
       "  </tbody>\n",
       "</table>\n",
       "<p>821 rows × 8 columns</p>\n",
       "</div>"
      ],
      "text/plain": [
       "        Unnamed: 0    rating              bill  option_count     LHS     RHS  \\\n",
       "524302      524302  2.772589  (753600, 705592)             2  753600  705592   \n",
       "524314      524314  3.091042  (753600, 723441)             2  753600  723441   \n",
       "524422      524422  3.784190  (753600, 614691)             2  753600  614691   \n",
       "525351      525351  1.945910  (753600, 757080)             2  753600  757080   \n",
       "525352      525352  3.044522  (753600, 757092)             2  753600  757092   \n",
       "...            ...       ...               ...           ...     ...     ...   \n",
       "686562      686562  0.693147  (753600, 773655)             2  753600  773655   \n",
       "688233      688233  1.386294  (753600, 571962)             2  753600  571962   \n",
       "690033      690033  0.693147  (753600, 678091)             2  753600  678091   \n",
       "694044      694044  0.693147  (753600, 695820)             2  753600  695820   \n",
       "697974      697974  0.693147  (753600, 764266)             2  753600  764266   \n",
       "\n",
       "         LHS_C  RHS_C  \n",
       "524302  106404   1515  \n",
       "524314  106404   2189  \n",
       "524422  106404    150  \n",
       "525351  106404   3582  \n",
       "525352  106404   3587  \n",
       "...        ...    ...  \n",
       "686562  106404   4316  \n",
       "688233  106404     21  \n",
       "690033  106404    975  \n",
       "694044  106404   1333  \n",
       "697974  106404   3865  \n",
       "\n",
       "[821 rows x 8 columns]"
      ]
     },
     "execution_count": 68,
     "metadata": {},
     "output_type": "execute_result"
    }
   ],
   "source": [
    "dataset_combined_MF[dataset_combined_MF.LHS == 753600]"
   ]
  },
  {
   "cell_type": "code",
   "execution_count": 75,
   "metadata": {},
   "outputs": [
    {
     "data": {
      "text/plain": [
       "0.6931471805599453"
      ]
     },
     "execution_count": 75,
     "metadata": {},
     "output_type": "execute_result"
    }
   ],
   "source": [
    "min(dataset_combined_MF.rating)"
   ]
  },
  {
   "cell_type": "code",
   "execution_count": 84,
   "metadata": {},
   "outputs": [
    {
     "data": {
      "text/plain": [
       "array([4745,  425, 1481,  164, 3217], dtype=int64)"
      ]
     },
     "execution_count": 84,
     "metadata": {},
     "output_type": "execute_result"
    }
   ],
   "source": [
    "recommend3(107516)"
   ]
  },
  {
   "cell_type": "code",
   "execution_count": 83,
   "metadata": {},
   "outputs": [
    {
     "data": {
      "text/html": [
       "<div>\n",
       "<style scoped>\n",
       "    .dataframe tbody tr th:only-of-type {\n",
       "        vertical-align: middle;\n",
       "    }\n",
       "\n",
       "    .dataframe tbody tr th {\n",
       "        vertical-align: top;\n",
       "    }\n",
       "\n",
       "    .dataframe thead th {\n",
       "        text-align: right;\n",
       "    }\n",
       "</style>\n",
       "<table border=\"1\" class=\"dataframe\">\n",
       "  <thead>\n",
       "    <tr style=\"text-align: right;\">\n",
       "      <th></th>\n",
       "      <th>Unnamed: 0</th>\n",
       "      <th>rating</th>\n",
       "      <th>bill</th>\n",
       "      <th>option_count</th>\n",
       "      <th>LHS</th>\n",
       "      <th>RHS</th>\n",
       "      <th>LHS_C</th>\n",
       "      <th>RHS_C</th>\n",
       "    </tr>\n",
       "  </thead>\n",
       "  <tbody>\n",
       "    <tr>\n",
       "      <th>526219</th>\n",
       "      <td>526219</td>\n",
       "      <td>2.639057</td>\n",
       "      <td>(614684, 663302)</td>\n",
       "      <td>2</td>\n",
       "      <td>614684</td>\n",
       "      <td>663302</td>\n",
       "      <td>107516</td>\n",
       "      <td>498</td>\n",
       "    </tr>\n",
       "    <tr>\n",
       "      <th>526220</th>\n",
       "      <td>526220</td>\n",
       "      <td>0.693147</td>\n",
       "      <td>(614684, 761919)</td>\n",
       "      <td>2</td>\n",
       "      <td>614684</td>\n",
       "      <td>761919</td>\n",
       "      <td>107516</td>\n",
       "      <td>3826</td>\n",
       "    </tr>\n",
       "    <tr>\n",
       "      <th>527336</th>\n",
       "      <td>527336</td>\n",
       "      <td>4.248495</td>\n",
       "      <td>(614684, 614718)</td>\n",
       "      <td>2</td>\n",
       "      <td>614684</td>\n",
       "      <td>614718</td>\n",
       "      <td>107516</td>\n",
       "      <td>164</td>\n",
       "    </tr>\n",
       "    <tr>\n",
       "      <th>530857</th>\n",
       "      <td>530857</td>\n",
       "      <td>1.386294</td>\n",
       "      <td>(614684, 668190)</td>\n",
       "      <td>2</td>\n",
       "      <td>614684</td>\n",
       "      <td>668190</td>\n",
       "      <td>107516</td>\n",
       "      <td>631</td>\n",
       "    </tr>\n",
       "    <tr>\n",
       "      <th>531044</th>\n",
       "      <td>531044</td>\n",
       "      <td>1.386294</td>\n",
       "      <td>(614684, 671998)</td>\n",
       "      <td>2</td>\n",
       "      <td>614684</td>\n",
       "      <td>671998</td>\n",
       "      <td>107516</td>\n",
       "      <td>797</td>\n",
       "    </tr>\n",
       "    <tr>\n",
       "      <th>...</th>\n",
       "      <td>...</td>\n",
       "      <td>...</td>\n",
       "      <td>...</td>\n",
       "      <td>...</td>\n",
       "      <td>...</td>\n",
       "      <td>...</td>\n",
       "      <td>...</td>\n",
       "      <td>...</td>\n",
       "    </tr>\n",
       "    <tr>\n",
       "      <th>683911</th>\n",
       "      <td>683911</td>\n",
       "      <td>0.693147</td>\n",
       "      <td>(614684, 684838)</td>\n",
       "      <td>2</td>\n",
       "      <td>614684</td>\n",
       "      <td>684838</td>\n",
       "      <td>107516</td>\n",
       "      <td>1085</td>\n",
       "    </tr>\n",
       "    <tr>\n",
       "      <th>688695</th>\n",
       "      <td>688695</td>\n",
       "      <td>0.693147</td>\n",
       "      <td>(614684, 750108)</td>\n",
       "      <td>2</td>\n",
       "      <td>614684</td>\n",
       "      <td>750108</td>\n",
       "      <td>107516</td>\n",
       "      <td>2824</td>\n",
       "    </tr>\n",
       "    <tr>\n",
       "      <th>690189</th>\n",
       "      <td>690189</td>\n",
       "      <td>1.098612</td>\n",
       "      <td>(614684, 751526)</td>\n",
       "      <td>2</td>\n",
       "      <td>614684</td>\n",
       "      <td>751526</td>\n",
       "      <td>107516</td>\n",
       "      <td>2904</td>\n",
       "    </tr>\n",
       "    <tr>\n",
       "      <th>691150</th>\n",
       "      <td>691150</td>\n",
       "      <td>0.693147</td>\n",
       "      <td>(614684, 669375)</td>\n",
       "      <td>2</td>\n",
       "      <td>614684</td>\n",
       "      <td>669375</td>\n",
       "      <td>107516</td>\n",
       "      <td>694</td>\n",
       "    </tr>\n",
       "    <tr>\n",
       "      <th>716350</th>\n",
       "      <td>716350</td>\n",
       "      <td>0.693147</td>\n",
       "      <td>(614684, 644959)</td>\n",
       "      <td>2</td>\n",
       "      <td>614684</td>\n",
       "      <td>644959</td>\n",
       "      <td>107516</td>\n",
       "      <td>418</td>\n",
       "    </tr>\n",
       "  </tbody>\n",
       "</table>\n",
       "<p>108 rows × 8 columns</p>\n",
       "</div>"
      ],
      "text/plain": [
       "        Unnamed: 0    rating              bill  option_count     LHS     RHS  \\\n",
       "526219      526219  2.639057  (614684, 663302)             2  614684  663302   \n",
       "526220      526220  0.693147  (614684, 761919)             2  614684  761919   \n",
       "527336      527336  4.248495  (614684, 614718)             2  614684  614718   \n",
       "530857      530857  1.386294  (614684, 668190)             2  614684  668190   \n",
       "531044      531044  1.386294  (614684, 671998)             2  614684  671998   \n",
       "...            ...       ...               ...           ...     ...     ...   \n",
       "683911      683911  0.693147  (614684, 684838)             2  614684  684838   \n",
       "688695      688695  0.693147  (614684, 750108)             2  614684  750108   \n",
       "690189      690189  1.098612  (614684, 751526)             2  614684  751526   \n",
       "691150      691150  0.693147  (614684, 669375)             2  614684  669375   \n",
       "716350      716350  0.693147  (614684, 644959)             2  614684  644959   \n",
       "\n",
       "         LHS_C  RHS_C  \n",
       "526219  107516    498  \n",
       "526220  107516   3826  \n",
       "527336  107516    164  \n",
       "530857  107516    631  \n",
       "531044  107516    797  \n",
       "...        ...    ...  \n",
       "683911  107516   1085  \n",
       "688695  107516   2824  \n",
       "690189  107516   2904  \n",
       "691150  107516    694  \n",
       "716350  107516    418  \n",
       "\n",
       "[108 rows x 8 columns]"
      ]
     },
     "execution_count": 83,
     "metadata": {},
     "output_type": "execute_result"
    }
   ],
   "source": [
    "# (614684,614718 )\n",
    "dataset_combined_MF[dataset_combined_MF.LHS == 614684]"
   ]
  },
  {
   "attachments": {},
   "cell_type": "markdown",
   "metadata": {},
   "source": [
    "# Evaluation \n",
    "### Best Seller Options \n",
    "Option  bill <br>\n",
    "753600\t9640 <br>\n",
    "795363\t6915 <br>\n",
    "525100\t6693 <br>\n",
    "753609\t6457 <br>\n",
    "778914\t6290 <br>\n",
    "753517\t6178 <br>\n",
    "751581\t5473"
   ]
  },
  {
   "cell_type": "code",
   "execution_count": 20,
   "metadata": {},
   "outputs": [],
   "source": [
    "best_seller = [753600,795363,525100,753609,778914,753517,751581]"
   ]
  },
  {
   "cell_type": "code",
   "execution_count": 21,
   "metadata": {},
   "outputs": [
    {
     "data": {
      "text/plain": [
       "['(753600, 744129, 744133)',\n",
       " '(753600, 744129, 744133)',\n",
       " '(753600, 744129, 744133)',\n",
       " '(753600, 744129, 753455)',\n",
       " '(753600, 744129, 753455)',\n",
       " '(753600, 744129, 753455)',\n",
       " '(753600, 744129, 751578)',\n",
       " '(753600, 744129, 751578)',\n",
       " '(753600, 744129, 751578)',\n",
       " '(753600, 744129, 772478)']"
      ]
     },
     "execution_count": 21,
     "metadata": {},
     "output_type": "execute_result"
    }
   ],
   "source": [
    "bills_contained_best_seller = list(filter(lambda t: any([str(item) in str(t) for item in best_seller]), dataset_combined_MF.bill))\n",
    "bills_contained_best_seller[:10]"
   ]
  },
  {
   "cell_type": "code",
   "execution_count": 87,
   "metadata": {},
   "outputs": [],
   "source": [
    "lhs_sample = dataset_combined_MF[dataset_combined_MF.LHS == 614684].LHS_C.iat[0]"
   ]
  },
  {
   "cell_type": "code",
   "execution_count": 88,
   "metadata": {},
   "outputs": [],
   "source": [
    "rhs_sample = dataset_combined_MF[dataset_combined_MF.RHS == 614718].RHS_C.iat[0]"
   ]
  },
  {
   "cell_type": "code",
   "execution_count": 89,
   "metadata": {},
   "outputs": [
    {
     "data": {
      "text/plain": [
       "2.8654513"
      ]
     },
     "execution_count": 89,
     "metadata": {},
     "output_type": "execute_result"
    }
   ],
   "source": [
    "x_predicted = lhs_embddings_3[lhs_sample]@rhs_embddings_3[rhs_sample].T\n",
    "x_predicted"
   ]
  },
  {
   "cell_type": "code",
   "execution_count": 91,
   "metadata": {},
   "outputs": [
    {
     "data": {
      "text/plain": [
       "0.9872827350130099"
      ]
     },
     "execution_count": 91,
     "metadata": {},
     "output_type": "execute_result"
    }
   ],
   "source": [
    "np.mean(dataset_combined_MF.rating)"
   ]
  },
  {
   "cell_type": "code",
   "execution_count": 90,
   "metadata": {},
   "outputs": [
    {
     "data": {
      "text/plain": [
       "17.556975510107353"
      ]
     },
     "execution_count": 90,
     "metadata": {},
     "output_type": "execute_result"
    }
   ],
   "source": [
    "np.power(np.e, x_predicted)"
   ]
  },
  {
   "cell_type": "code",
   "execution_count": 26,
   "metadata": {},
   "outputs": [
    {
     "data": {
      "text/plain": [
       "7.720905251936779"
      ]
     },
     "execution_count": 26,
     "metadata": {},
     "output_type": "execute_result"
    }
   ],
   "source": [
    "max(dataset_combined_MF.rating)"
   ]
  },
  {
   "cell_type": "code",
   "execution_count": 40,
   "metadata": {},
   "outputs": [
    {
     "data": {
      "text/plain": [
       "1.9999999999999998"
      ]
     },
     "execution_count": 40,
     "metadata": {},
     "output_type": "execute_result"
    }
   ],
   "source": [
    "np.power(np.e, np.median(dataset_combined_MF.rating))"
   ]
  },
  {
   "cell_type": "code",
   "execution_count": 41,
   "metadata": {},
   "outputs": [
    {
     "data": {
      "text/plain": [
       "0.6931471805599453"
      ]
     },
     "execution_count": 41,
     "metadata": {},
     "output_type": "execute_result"
    }
   ],
   "source": [
    "np.median(dataset_combined_MF.rating)"
   ]
  },
  {
   "cell_type": "code",
   "execution_count": 43,
   "metadata": {},
   "outputs": [
    {
     "data": {
      "text/plain": [
       "3.5707389538756544"
      ]
     },
     "execution_count": 43,
     "metadata": {},
     "output_type": "execute_result"
    }
   ],
   "source": [
    "np.mean(np.power(np.e, dataset_combined_MF.rating))"
   ]
  },
  {
   "attachments": {},
   "cell_type": "markdown",
   "metadata": {},
   "source": [
    "### Get all best sellers "
   ]
  },
  {
   "cell_type": "code",
   "execution_count": 27,
   "metadata": {},
   "outputs": [],
   "source": [
    "query = \"select top 100 SidSecenek, count(distinct Sira) cnt from Proto.ilknur.BirliktelikAnaliziMrkScnkDty where SidMalzemeMarka = 4 and SidMalzemeCinsiyet = 3 and SidMalzemeUrunGrubu not in (10,21, 23, 25, 32, 41, 46, 128, 237) group by SidSecenek order by 2 desc\""
   ]
  },
  {
   "cell_type": "code",
   "execution_count": 29,
   "metadata": {},
   "outputs": [
    {
     "name": "stderr",
     "output_type": "stream",
     "text": [
      "c:\\Users\\melih.kacaman\\Anaconda3\\envs\\MF_project\\lib\\site-packages\\pandas\\io\\sql.py:761: UserWarning: pandas only support SQLAlchemy connectable(engine/connection) ordatabase string URI or sqlite3 DBAPI2 connectionother DBAPI2 objects are not tested, please consider using SQLAlchemy\n",
      "  warnings.warn(\n"
     ]
    }
   ],
   "source": [
    "# from helpers import close_connection, open_connection, custom_query \n",
    "# conn = open_connection() \n",
    "# data_best_100 = pd.read_sql(query, conn)\n",
    "# close_connection(conn) "
   ]
  },
  {
   "cell_type": "code",
   "execution_count": 30,
   "metadata": {},
   "outputs": [
    {
     "data": {
      "text/plain": [
       "array([753600, 753517, 753350, 753376, 753609, 751600, 753509, 789153,\n",
       "       789122, 751581], dtype=int64)"
      ]
     },
     "execution_count": 30,
     "metadata": {},
     "output_type": "execute_result"
    }
   ],
   "source": [
    "data_best_100 = data_best_100.SidSecenek.to_numpy()\n",
    "data_best_100[:10] "
   ]
  },
  {
   "cell_type": "code",
   "execution_count": 31,
   "metadata": {},
   "outputs": [
    {
     "data": {
      "text/plain": [
       "[(753600, 753517),\n",
       " (753600, 753350),\n",
       " (753600, 753376),\n",
       " (753600, 753609),\n",
       " (753600, 751600)]"
      ]
     },
     "execution_count": 31,
     "metadata": {},
     "output_type": "execute_result"
    }
   ],
   "source": [
    "from helpers import findsubsets \n",
    "\n",
    "subsets_best_100 = findsubsets(data_best_100, 2)\n",
    "subsets_best_100[:5]"
   ]
  },
  {
   "cell_type": "code",
   "execution_count": 32,
   "metadata": {},
   "outputs": [],
   "source": [
    "subsets_best_100 = [str(item) for item in subsets_best_100]"
   ]
  },
  {
   "cell_type": "code",
   "execution_count": 33,
   "metadata": {},
   "outputs": [
    {
     "data": {
      "text/html": [
       "<div>\n",
       "<style scoped>\n",
       "    .dataframe tbody tr th:only-of-type {\n",
       "        vertical-align: middle;\n",
       "    }\n",
       "\n",
       "    .dataframe tbody tr th {\n",
       "        vertical-align: top;\n",
       "    }\n",
       "\n",
       "    .dataframe thead th {\n",
       "        text-align: right;\n",
       "    }\n",
       "</style>\n",
       "<table border=\"1\" class=\"dataframe\">\n",
       "  <thead>\n",
       "    <tr style=\"text-align: right;\">\n",
       "      <th></th>\n",
       "      <th>bill</th>\n",
       "    </tr>\n",
       "  </thead>\n",
       "  <tbody>\n",
       "    <tr>\n",
       "      <th>0</th>\n",
       "      <td>(753600, 753517)</td>\n",
       "    </tr>\n",
       "    <tr>\n",
       "      <th>1</th>\n",
       "      <td>(753600, 753350)</td>\n",
       "    </tr>\n",
       "    <tr>\n",
       "      <th>2</th>\n",
       "      <td>(753600, 753376)</td>\n",
       "    </tr>\n",
       "    <tr>\n",
       "      <th>3</th>\n",
       "      <td>(753600, 753609)</td>\n",
       "    </tr>\n",
       "    <tr>\n",
       "      <th>4</th>\n",
       "      <td>(753600, 751600)</td>\n",
       "    </tr>\n",
       "    <tr>\n",
       "      <th>...</th>\n",
       "      <td>...</td>\n",
       "    </tr>\n",
       "    <tr>\n",
       "      <th>4945</th>\n",
       "      <td>(748951, 759397)</td>\n",
       "    </tr>\n",
       "    <tr>\n",
       "      <th>4946</th>\n",
       "      <td>(748951, 752245)</td>\n",
       "    </tr>\n",
       "    <tr>\n",
       "      <th>4947</th>\n",
       "      <td>(752244, 759397)</td>\n",
       "    </tr>\n",
       "    <tr>\n",
       "      <th>4948</th>\n",
       "      <td>(752244, 752245)</td>\n",
       "    </tr>\n",
       "    <tr>\n",
       "      <th>4949</th>\n",
       "      <td>(759397, 752245)</td>\n",
       "    </tr>\n",
       "  </tbody>\n",
       "</table>\n",
       "<p>4950 rows × 1 columns</p>\n",
       "</div>"
      ],
      "text/plain": [
       "                  bill\n",
       "0     (753600, 753517)\n",
       "1     (753600, 753350)\n",
       "2     (753600, 753376)\n",
       "3     (753600, 753609)\n",
       "4     (753600, 751600)\n",
       "...                ...\n",
       "4945  (748951, 759397)\n",
       "4946  (748951, 752245)\n",
       "4947  (752244, 759397)\n",
       "4948  (752244, 752245)\n",
       "4949  (759397, 752245)\n",
       "\n",
       "[4950 rows x 1 columns]"
      ]
     },
     "execution_count": 33,
     "metadata": {},
     "output_type": "execute_result"
    }
   ],
   "source": [
    "pd.DataFrame({\"bill\": subsets_best_100})"
   ]
  },
  {
   "cell_type": "code",
   "execution_count": 34,
   "metadata": {},
   "outputs": [
    {
     "data": {
      "text/html": [
       "<div>\n",
       "<style scoped>\n",
       "    .dataframe tbody tr th:only-of-type {\n",
       "        vertical-align: middle;\n",
       "    }\n",
       "\n",
       "    .dataframe tbody tr th {\n",
       "        vertical-align: top;\n",
       "    }\n",
       "\n",
       "    .dataframe thead th {\n",
       "        text-align: right;\n",
       "    }\n",
       "</style>\n",
       "<table border=\"1\" class=\"dataframe\">\n",
       "  <thead>\n",
       "    <tr style=\"text-align: right;\">\n",
       "      <th></th>\n",
       "      <th>bill</th>\n",
       "      <th>_merge</th>\n",
       "    </tr>\n",
       "  </thead>\n",
       "  <tbody>\n",
       "    <tr>\n",
       "      <th>9</th>\n",
       "      <td>(753600, 760677)</td>\n",
       "      <td>right_only</td>\n",
       "    </tr>\n",
       "    <tr>\n",
       "      <th>12</th>\n",
       "      <td>(753600, 762033)</td>\n",
       "      <td>right_only</td>\n",
       "    </tr>\n",
       "    <tr>\n",
       "      <th>14</th>\n",
       "      <td>(753600, 767733)</td>\n",
       "      <td>right_only</td>\n",
       "    </tr>\n",
       "    <tr>\n",
       "      <th>19</th>\n",
       "      <td>(753600, 748903)</td>\n",
       "      <td>right_only</td>\n",
       "    </tr>\n",
       "    <tr>\n",
       "      <th>29</th>\n",
       "      <td>(753600, 761915)</td>\n",
       "      <td>right_only</td>\n",
       "    </tr>\n",
       "    <tr>\n",
       "      <th>...</th>\n",
       "      <td>...</td>\n",
       "      <td>...</td>\n",
       "    </tr>\n",
       "    <tr>\n",
       "      <th>4938</th>\n",
       "      <td>(750057, 759397)</td>\n",
       "      <td>right_only</td>\n",
       "    </tr>\n",
       "    <tr>\n",
       "      <th>4942</th>\n",
       "      <td>(750054, 759397)</td>\n",
       "      <td>right_only</td>\n",
       "    </tr>\n",
       "    <tr>\n",
       "      <th>4945</th>\n",
       "      <td>(748951, 759397)</td>\n",
       "      <td>right_only</td>\n",
       "    </tr>\n",
       "    <tr>\n",
       "      <th>4947</th>\n",
       "      <td>(752244, 759397)</td>\n",
       "      <td>right_only</td>\n",
       "    </tr>\n",
       "    <tr>\n",
       "      <th>4949</th>\n",
       "      <td>(759397, 752245)</td>\n",
       "      <td>right_only</td>\n",
       "    </tr>\n",
       "  </tbody>\n",
       "</table>\n",
       "<p>3184 rows × 2 columns</p>\n",
       "</div>"
      ],
      "text/plain": [
       "                  bill      _merge\n",
       "9     (753600, 760677)  right_only\n",
       "12    (753600, 762033)  right_only\n",
       "14    (753600, 767733)  right_only\n",
       "19    (753600, 748903)  right_only\n",
       "29    (753600, 761915)  right_only\n",
       "...                ...         ...\n",
       "4938  (750057, 759397)  right_only\n",
       "4942  (750054, 759397)  right_only\n",
       "4945  (748951, 759397)  right_only\n",
       "4947  (752244, 759397)  right_only\n",
       "4949  (759397, 752245)  right_only\n",
       "\n",
       "[3184 rows x 2 columns]"
      ]
     },
     "execution_count": 34,
     "metadata": {},
     "output_type": "execute_result"
    }
   ],
   "source": [
    "q = pd.merge(dataset_combined_MF[dataset_combined_MF.option_count == 2][\"bill\"].to_frame(), pd.DataFrame({\"bill\": subsets_best_100}), on=\"bill\", how=\"right\",\n",
    "        indicator=True)\n",
    "q[q._merge == \"right_only\"]"
   ]
  },
  {
   "cell_type": "code",
   "execution_count": 63,
   "metadata": {},
   "outputs": [
    {
     "data": {
      "text/plain": [
       "3.12425"
      ]
     },
     "execution_count": 63,
     "metadata": {},
     "output_type": "execute_result"
    }
   ],
   "source": [
    "# \t(753517, 753509)\t\n",
    "lhs_sample = dataset_combined_MF[dataset_combined_MF.LHS == 753517].LHS_C.iat[0]\n",
    "rhs_sample = dataset_combined_MF[dataset_combined_MF.RHS == 753509].RHS_C.iat[0]\n",
    "x_predicted = lhs_embddings_3[lhs_sample]@rhs_embddings_3[rhs_sample].T\n",
    "x_predicted"
   ]
  },
  {
   "cell_type": "code",
   "execution_count": 64,
   "metadata": {},
   "outputs": [
    {
     "data": {
      "text/plain": [
       "22.74283009695782"
      ]
     },
     "execution_count": 64,
     "metadata": {},
     "output_type": "execute_result"
    }
   ],
   "source": [
    "np.power(np.e, x_predicted)"
   ]
  },
  {
   "attachments": {},
   "cell_type": "markdown",
   "metadata": {},
   "source": [
    "# Model 3: With 3 Combination on USPA Women "
   ]
  },
  {
   "cell_type": "code",
   "execution_count": 115,
   "metadata": {},
   "outputs": [
    {
     "name": "stderr",
     "output_type": "stream",
     "text": [
      "C:\\Users\\melih.kacaman\\AppData\\Local\\Temp\\ipykernel_6280\\2464364806.py:1: DtypeWarning: Columns (4) have mixed types. Specify dtype option on import or set low_memory=False.\n",
      "  women_data = pd.read_csv(\"../datasets/ratings_with_3_combinations_reduced_women_cluster.csv\")\n"
     ]
    },
    {
     "data": {
      "text/html": [
       "<div>\n",
       "<style scoped>\n",
       "    .dataframe tbody tr th:only-of-type {\n",
       "        vertical-align: middle;\n",
       "    }\n",
       "\n",
       "    .dataframe tbody tr th {\n",
       "        vertical-align: top;\n",
       "    }\n",
       "\n",
       "    .dataframe thead th {\n",
       "        text-align: right;\n",
       "    }\n",
       "</style>\n",
       "<table border=\"1\" class=\"dataframe\">\n",
       "  <thead>\n",
       "    <tr style=\"text-align: right;\">\n",
       "      <th></th>\n",
       "      <th>Unnamed: 0</th>\n",
       "      <th>rating</th>\n",
       "      <th>bill</th>\n",
       "      <th>option_count</th>\n",
       "      <th>LHS</th>\n",
       "      <th>RHS</th>\n",
       "      <th>LHS_C</th>\n",
       "      <th>RHS_C</th>\n",
       "    </tr>\n",
       "  </thead>\n",
       "  <tbody>\n",
       "    <tr>\n",
       "      <th>0</th>\n",
       "      <td>0</td>\n",
       "      <td>0.693147</td>\n",
       "      <td>(772494, 754574, 749358)</td>\n",
       "      <td>3</td>\n",
       "      <td>(749358, 754574)</td>\n",
       "      <td>772494</td>\n",
       "      <td>0</td>\n",
       "      <td>4244</td>\n",
       "    </tr>\n",
       "    <tr>\n",
       "      <th>1</th>\n",
       "      <td>1</td>\n",
       "      <td>0.693147</td>\n",
       "      <td>(772494, 754574, 749358)</td>\n",
       "      <td>3</td>\n",
       "      <td>(749358, 772494)</td>\n",
       "      <td>754574</td>\n",
       "      <td>1</td>\n",
       "      <td>3410</td>\n",
       "    </tr>\n",
       "    <tr>\n",
       "      <th>2</th>\n",
       "      <td>2</td>\n",
       "      <td>0.693147</td>\n",
       "      <td>(772494, 754574, 749358)</td>\n",
       "      <td>3</td>\n",
       "      <td>(754574, 772494)</td>\n",
       "      <td>749358</td>\n",
       "      <td>2</td>\n",
       "      <td>2753</td>\n",
       "    </tr>\n",
       "    <tr>\n",
       "      <th>3</th>\n",
       "      <td>3</td>\n",
       "      <td>0.693147</td>\n",
       "      <td>(754574, 745328, 745310)</td>\n",
       "      <td>3</td>\n",
       "      <td>(745328, 745310)</td>\n",
       "      <td>754574</td>\n",
       "      <td>3</td>\n",
       "      <td>3410</td>\n",
       "    </tr>\n",
       "    <tr>\n",
       "      <th>4</th>\n",
       "      <td>4</td>\n",
       "      <td>0.693147</td>\n",
       "      <td>(754574, 745328, 745310)</td>\n",
       "      <td>3</td>\n",
       "      <td>(745310, 754574)</td>\n",
       "      <td>745328</td>\n",
       "      <td>4</td>\n",
       "      <td>2489</td>\n",
       "    </tr>\n",
       "  </tbody>\n",
       "</table>\n",
       "</div>"
      ],
      "text/plain": [
       "   Unnamed: 0    rating                      bill  option_count  \\\n",
       "0           0  0.693147  (772494, 754574, 749358)             3   \n",
       "1           1  0.693147  (772494, 754574, 749358)             3   \n",
       "2           2  0.693147  (772494, 754574, 749358)             3   \n",
       "3           3  0.693147  (754574, 745328, 745310)             3   \n",
       "4           4  0.693147  (754574, 745328, 745310)             3   \n",
       "\n",
       "                LHS     RHS  LHS_C  RHS_C  \n",
       "0  (749358, 754574)  772494      0   4244  \n",
       "1  (749358, 772494)  754574      1   3410  \n",
       "2  (754574, 772494)  749358      2   2753  \n",
       "3  (745328, 745310)  754574      3   3410  \n",
       "4  (745310, 754574)  745328      4   2489  "
      ]
     },
     "execution_count": 115,
     "metadata": {},
     "output_type": "execute_result"
    }
   ],
   "source": [
    "women_data = pd.read_csv(\"../datasets/ratings_with_3_combinations_reduced_women_cluster.csv\") \n",
    "women_data.head() "
   ]
  },
  {
   "cell_type": "code",
   "execution_count": 116,
   "metadata": {},
   "outputs": [],
   "source": [
    "women_data.drop(women_data.columns[[0]], axis=1, inplace=True)"
   ]
  },
  {
   "cell_type": "code",
   "execution_count": 117,
   "metadata": {},
   "outputs": [
    {
     "data": {
      "text/html": [
       "<div>\n",
       "<style scoped>\n",
       "    .dataframe tbody tr th:only-of-type {\n",
       "        vertical-align: middle;\n",
       "    }\n",
       "\n",
       "    .dataframe tbody tr th {\n",
       "        vertical-align: top;\n",
       "    }\n",
       "\n",
       "    .dataframe thead th {\n",
       "        text-align: right;\n",
       "    }\n",
       "</style>\n",
       "<table border=\"1\" class=\"dataframe\">\n",
       "  <thead>\n",
       "    <tr style=\"text-align: right;\">\n",
       "      <th></th>\n",
       "      <th>rating</th>\n",
       "      <th>bill</th>\n",
       "      <th>option_count</th>\n",
       "      <th>LHS</th>\n",
       "      <th>RHS</th>\n",
       "      <th>LHS_C</th>\n",
       "      <th>RHS_C</th>\n",
       "    </tr>\n",
       "  </thead>\n",
       "  <tbody>\n",
       "    <tr>\n",
       "      <th>0</th>\n",
       "      <td>0.693147</td>\n",
       "      <td>(772494, 754574, 749358)</td>\n",
       "      <td>3</td>\n",
       "      <td>(749358, 754574)</td>\n",
       "      <td>772494</td>\n",
       "      <td>0</td>\n",
       "      <td>4244</td>\n",
       "    </tr>\n",
       "    <tr>\n",
       "      <th>1</th>\n",
       "      <td>0.693147</td>\n",
       "      <td>(772494, 754574, 749358)</td>\n",
       "      <td>3</td>\n",
       "      <td>(749358, 772494)</td>\n",
       "      <td>754574</td>\n",
       "      <td>1</td>\n",
       "      <td>3410</td>\n",
       "    </tr>\n",
       "    <tr>\n",
       "      <th>2</th>\n",
       "      <td>0.693147</td>\n",
       "      <td>(772494, 754574, 749358)</td>\n",
       "      <td>3</td>\n",
       "      <td>(754574, 772494)</td>\n",
       "      <td>749358</td>\n",
       "      <td>2</td>\n",
       "      <td>2753</td>\n",
       "    </tr>\n",
       "    <tr>\n",
       "      <th>3</th>\n",
       "      <td>0.693147</td>\n",
       "      <td>(754574, 745328, 745310)</td>\n",
       "      <td>3</td>\n",
       "      <td>(745328, 745310)</td>\n",
       "      <td>754574</td>\n",
       "      <td>3</td>\n",
       "      <td>3410</td>\n",
       "    </tr>\n",
       "    <tr>\n",
       "      <th>4</th>\n",
       "      <td>0.693147</td>\n",
       "      <td>(754574, 745328, 745310)</td>\n",
       "      <td>3</td>\n",
       "      <td>(745310, 754574)</td>\n",
       "      <td>745328</td>\n",
       "      <td>4</td>\n",
       "      <td>2489</td>\n",
       "    </tr>\n",
       "  </tbody>\n",
       "</table>\n",
       "</div>"
      ],
      "text/plain": [
       "     rating                      bill  option_count               LHS     RHS  \\\n",
       "0  0.693147  (772494, 754574, 749358)             3  (749358, 754574)  772494   \n",
       "1  0.693147  (772494, 754574, 749358)             3  (749358, 772494)  754574   \n",
       "2  0.693147  (772494, 754574, 749358)             3  (754574, 772494)  749358   \n",
       "3  0.693147  (754574, 745328, 745310)             3  (745328, 745310)  754574   \n",
       "4  0.693147  (754574, 745328, 745310)             3  (745310, 754574)  745328   \n",
       "\n",
       "   LHS_C  RHS_C  \n",
       "0      0   4244  \n",
       "1      1   3410  \n",
       "2      2   2753  \n",
       "3      3   3410  \n",
       "4      4   2489  "
      ]
     },
     "execution_count": 117,
     "metadata": {},
     "output_type": "execute_result"
    }
   ],
   "source": [
    "women_data.head() "
   ]
  },
  {
   "attachments": {},
   "cell_type": "markdown",
   "metadata": {},
   "source": [
    "## Model 3: Creation "
   ]
  },
  {
   "cell_type": "code",
   "execution_count": 118,
   "metadata": {},
   "outputs": [],
   "source": [
    "from tensorflow import keras \n",
    "\n",
    "n_rhs, n_lhs = len(women_data.RHS_C.unique()), len(women_data.LHS_C.unique())\n",
    "n_latent_factors = 10\n",
    "# input, embedding --> \n",
    "lhs_input = keras.layers.Input(shape=(1,), name=\"lhs-item\") \n",
    "lhs_embedding = keras.layers.Embedding(n_lhs + 1, n_latent_factors, name=\"lhs-embeddings\")(lhs_input) \n",
    "lhs_vec = keras.layers.Flatten(name=\"flatten-lhs\")(lhs_embedding) \n",
    "\n",
    "rhs_input= keras.layers.Input(shape=(1,), name=\"rhs-item\")\n",
    "rhs_embedding = keras.layers.Embedding(n_rhs + 1, n_latent_factors, name=\"rhs-embeddings\")(rhs_input) \n",
    "rhs_vec = keras.layers.Flatten(name=\"flatten-rhs\")(rhs_embedding)\n",
    "\n",
    "product = keras.layers.dot([lhs_vec, rhs_vec], axes=1, name=\"dot-product\") \n",
    "model_3_women = keras.Model([lhs_input, rhs_input], product) \n",
    "\n",
    "model_3_women.compile(optimizer='adam', loss='mean_squared_error', metrics=['mae', 'mse'])"
   ]
  },
  {
   "cell_type": "code",
   "execution_count": 126,
   "metadata": {},
   "outputs": [],
   "source": [
    "from sklearn.model_selection import train_test_split \n",
    "X_train, X_test, y_train, y_test = train_test_split(women_data[[\"RHS_C\", \"LHS_C\"]], women_data.rating, test_size=0.20, random_state=42) "
   ]
  },
  {
   "cell_type": "code",
   "execution_count": 127,
   "metadata": {},
   "outputs": [
    {
     "name": "stdout",
     "output_type": "stream",
     "text": [
      "Epoch 1/100\n",
      "17938/17940 [============================>.] - ETA: 0s - loss: 0.6497 - mae: 0.6431 - mse: 0.6497\n",
      "Epoch 1: saving model to ../checkpoints\\model_3.ckpt\n",
      "17940/17940 [==============================] - 185s 10ms/step - loss: 0.6497 - mae: 0.6431 - mse: 0.6497 - val_loss: 0.3193 - val_mae: 0.4304 - val_mse: 0.3193\n",
      "Epoch 2/100\n",
      "17937/17940 [============================>.] - ETA: 0s - loss: 0.2496 - mae: 0.3654 - mse: 0.2496\n",
      "Epoch 2: saving model to ../checkpoints\\model_3.ckpt\n",
      "17940/17940 [==============================] - 194s 11ms/step - loss: 0.2496 - mae: 0.3654 - mse: 0.2496 - val_loss: 0.2583 - val_mae: 0.3736 - val_mse: 0.2583\n",
      "Epoch 3/100\n",
      "17940/17940 [==============================] - ETA: 0s - loss: 0.1995 - mae: 0.3142 - mse: 0.1995\n",
      "Epoch 3: saving model to ../checkpoints\\model_3.ckpt\n",
      "17940/17940 [==============================] - 211s 12ms/step - loss: 0.1995 - mae: 0.3142 - mse: 0.1995 - val_loss: 0.2398 - val_mae: 0.3551 - val_mse: 0.2398\n",
      "Epoch 4/100\n",
      "17940/17940 [==============================] - ETA: 0s - loss: 0.1764 - mae: 0.2879 - mse: 0.1764\n",
      "Epoch 4: saving model to ../checkpoints\\model_3.ckpt\n",
      "17940/17940 [==============================] - 216s 12ms/step - loss: 0.1764 - mae: 0.2879 - mse: 0.1764 - val_loss: 0.2311 - val_mae: 0.3476 - val_mse: 0.2311\n",
      "Epoch 5/100\n",
      "17939/17940 [============================>.] - ETA: 0s - loss: 0.1632 - mae: 0.2736 - mse: 0.1632\n",
      "Epoch 5: saving model to ../checkpoints\\model_3.ckpt\n",
      "17940/17940 [==============================] - 219s 12ms/step - loss: 0.1632 - mae: 0.2736 - mse: 0.1632 - val_loss: 0.2277 - val_mae: 0.3459 - val_mse: 0.2277\n",
      "Epoch 6/100\n",
      "17937/17940 [============================>.] - ETA: 0s - loss: 0.1542 - mae: 0.2649 - mse: 0.1542\n",
      "Epoch 6: saving model to ../checkpoints\\model_3.ckpt\n",
      "17940/17940 [==============================] - 218s 12ms/step - loss: 0.1542 - mae: 0.2649 - mse: 0.1542 - val_loss: 0.2245 - val_mae: 0.3448 - val_mse: 0.2245\n",
      "Epoch 7/100\n",
      "17937/17940 [============================>.] - ETA: 0s - loss: 0.1473 - mae: 0.2581 - mse: 0.1473\n",
      "Epoch 7: saving model to ../checkpoints\\model_3.ckpt\n",
      "17940/17940 [==============================] - 217s 12ms/step - loss: 0.1473 - mae: 0.2581 - mse: 0.1473 - val_loss: 0.2237 - val_mae: 0.3451 - val_mse: 0.2237\n",
      "Epoch 8/100\n",
      "17939/17940 [============================>.] - ETA: 0s - loss: 0.1421 - mae: 0.2532 - mse: 0.1421\n",
      "Epoch 8: saving model to ../checkpoints\\model_3.ckpt\n",
      "17940/17940 [==============================] - 223s 12ms/step - loss: 0.1421 - mae: 0.2532 - mse: 0.1421 - val_loss: 0.2230 - val_mae: 0.3450 - val_mse: 0.2230\n",
      "Epoch 9/100\n",
      "17940/17940 [==============================] - ETA: 0s - loss: 0.1379 - mae: 0.2488 - mse: 0.1379\n",
      "Epoch 9: saving model to ../checkpoints\\model_3.ckpt\n",
      "17940/17940 [==============================] - 246s 14ms/step - loss: 0.1379 - mae: 0.2488 - mse: 0.1379 - val_loss: 0.2240 - val_mae: 0.3468 - val_mse: 0.2240\n",
      "Epoch 10/100\n",
      "17938/17940 [============================>.] - ETA: 0s - loss: 0.1347 - mae: 0.2457 - mse: 0.1347\n",
      "Epoch 10: saving model to ../checkpoints\\model_3.ckpt\n",
      "17940/17940 [==============================] - 236s 13ms/step - loss: 0.1347 - mae: 0.2457 - mse: 0.1347 - val_loss: 0.2242 - val_mae: 0.3469 - val_mse: 0.2242\n",
      "Epoch 11/100\n",
      "17939/17940 [============================>.] - ETA: 0s - loss: 0.1320 - mae: 0.2424 - mse: 0.1320\n",
      "Epoch 11: saving model to ../checkpoints\\model_3.ckpt\n",
      "17940/17940 [==============================] - 241s 13ms/step - loss: 0.1320 - mae: 0.2424 - mse: 0.1320 - val_loss: 0.2251 - val_mae: 0.3481 - val_mse: 0.2251\n",
      "Epoch 12/100\n",
      "17939/17940 [============================>.] - ETA: 0s - loss: 0.1296 - mae: 0.2397 - mse: 0.1296\n",
      "Epoch 12: saving model to ../checkpoints\\model_3.ckpt\n",
      "17940/17940 [==============================] - 238s 13ms/step - loss: 0.1296 - mae: 0.2397 - mse: 0.1296 - val_loss: 0.2262 - val_mae: 0.3490 - val_mse: 0.2262\n",
      "Epoch 13/100\n",
      "17937/17940 [============================>.] - ETA: 0s - loss: 0.1277 - mae: 0.2374 - mse: 0.1277\n",
      "Epoch 13: saving model to ../checkpoints\\model_3.ckpt\n",
      "17940/17940 [==============================] - 233s 13ms/step - loss: 0.1277 - mae: 0.2374 - mse: 0.1277 - val_loss: 0.2271 - val_mae: 0.3505 - val_mse: 0.2271\n"
     ]
    }
   ],
   "source": [
    "cp_callback = keras.callbacks.ModelCheckpoint(filepath=\"../checkpoints/model_3.ckpt\",\n",
    "                                                 save_weights_only=True,\n",
    "                                                 verbose=1)\n",
    "\n",
    "early_stopping = keras.callbacks.EarlyStopping(monitor=\"val_loss\", mode=\"min\",patience=5)\n",
    "history = model_3_women.fit(\n",
    "    [X_train.LHS_C, X_train.RHS_C], \n",
    "    np.array(y_train, dtype=float),\n",
    "    validation_data=([X_test.LHS_C, X_test.RHS_C], np.array(y_test, dtype=float)),\n",
    "    epochs=100, \n",
    "    callbacks=[early_stopping, cp_callback]\n",
    ")"
   ]
  },
  {
   "cell_type": "code",
   "execution_count": 142,
   "metadata": {},
   "outputs": [
    {
     "data": {
      "image/png": "[encoded data removed]",
      "text/plain": [
       "<Figure size 640x480 with 1 Axes>"
      ]
     },
     "metadata": {},
     "output_type": "display_data"
    }
   ],
   "source": [
    "import matplotlib.pyplot as plt \n",
    "\n",
    "pd.DataFrame(history.history)[[\"loss\", \"val_loss\"]].plot() \n",
    "plt.show() "
   ]
  },
  {
   "cell_type": "code",
   "execution_count": null,
   "metadata": {},
   "outputs": [],
   "source": []
  }
 ],
 "metadata": {
  "kernelspec": {
   "display_name": "MF_project",
   "language": "python",
   "name": "python3"
  },
  "language_info": {
   "codemirror_mode": {
    "name": "ipython",
    "version": 3
   },
   "file_extension": ".py",
   "mimetype": "text/x-python",
   "name": "python",
   "nbconvert_exporter": "python",
   "pygments_lexer": "ipython3",
   "version": "3.9.15"
  },
  "orig_nbformat": 4,
  "vscode": {
   "interpreter": {
    "hash": "e997c3e633b0c70857cc31261e6e14d418e6f231e362104ac8243f0b94b46fb0"
   }
  }
 },
 "nbformat": 4,
 "nbformat_minor": 2
}
