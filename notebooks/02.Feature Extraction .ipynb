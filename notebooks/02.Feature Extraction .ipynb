{
 "cells": [
  {
   "cell_type": "markdown",
   "metadata": {},
   "source": [
    "# Get the Data "
   ]
  },
  {
   "cell_type": "code",
   "execution_count": 1,
   "metadata": {},
   "outputs": [
    {
     "data": {
      "text/html": [
       "<div>\n",
       "<style scoped>\n",
       "    .dataframe tbody tr th:only-of-type {\n",
       "        vertical-align: middle;\n",
       "    }\n",
       "\n",
       "    .dataframe tbody tr th {\n",
       "        vertical-align: top;\n",
       "    }\n",
       "\n",
       "    .dataframe thead th {\n",
       "        text-align: right;\n",
       "    }\n",
       "</style>\n",
       "<table border=\"1\" class=\"dataframe\">\n",
       "  <thead>\n",
       "    <tr style=\"text-align: right;\">\n",
       "      <th></th>\n",
       "      <th>Unnamed: 0</th>\n",
       "      <th>optionId</th>\n",
       "      <th>bill</th>\n",
       "    </tr>\n",
       "  </thead>\n",
       "  <tbody>\n",
       "    <tr>\n",
       "      <th>0</th>\n",
       "      <td>0</td>\n",
       "      <td>751839</td>\n",
       "      <td>1</td>\n",
       "    </tr>\n",
       "    <tr>\n",
       "      <th>1</th>\n",
       "      <td>1</td>\n",
       "      <td>751782</td>\n",
       "      <td>1</td>\n",
       "    </tr>\n",
       "    <tr>\n",
       "      <th>2</th>\n",
       "      <td>2</td>\n",
       "      <td>745321</td>\n",
       "      <td>1</td>\n",
       "    </tr>\n",
       "    <tr>\n",
       "      <th>3</th>\n",
       "      <td>3</td>\n",
       "      <td>666652</td>\n",
       "      <td>1</td>\n",
       "    </tr>\n",
       "    <tr>\n",
       "      <th>4</th>\n",
       "      <td>4</td>\n",
       "      <td>751873</td>\n",
       "      <td>2</td>\n",
       "    </tr>\n",
       "  </tbody>\n",
       "</table>\n",
       "</div>"
      ],
      "text/plain": [
       "   Unnamed: 0  optionId  bill\n",
       "0           0    751839     1\n",
       "1           1    751782     1\n",
       "2           2    745321     1\n",
       "3           3    666652     1\n",
       "4           4    751873     2"
      ]
     },
     "execution_count": 1,
     "metadata": {},
     "output_type": "execute_result"
    }
   ],
   "source": [
    "import pandas as pd \n",
    "data = pd.read_csv(\"../datasets/raw_data.csv\")\n",
    "data.head()  "
   ]
  },
  {
   "cell_type": "code",
   "execution_count": 2,
   "metadata": {},
   "outputs": [],
   "source": [
    "data.columns = ['index', 'option', 'bill']"
   ]
  },
  {
   "cell_type": "code",
   "execution_count": 3,
   "metadata": {},
   "outputs": [
    {
     "data": {
      "text/html": [
       "<div>\n",
       "<style scoped>\n",
       "    .dataframe tbody tr th:only-of-type {\n",
       "        vertical-align: middle;\n",
       "    }\n",
       "\n",
       "    .dataframe tbody tr th {\n",
       "        vertical-align: top;\n",
       "    }\n",
       "\n",
       "    .dataframe thead th {\n",
       "        text-align: right;\n",
       "    }\n",
       "</style>\n",
       "<table border=\"1\" class=\"dataframe\">\n",
       "  <thead>\n",
       "    <tr style=\"text-align: right;\">\n",
       "      <th></th>\n",
       "      <th>index</th>\n",
       "      <th>option</th>\n",
       "      <th>bill</th>\n",
       "    </tr>\n",
       "  </thead>\n",
       "  <tbody>\n",
       "    <tr>\n",
       "      <th>0</th>\n",
       "      <td>0</td>\n",
       "      <td>751839</td>\n",
       "      <td>1</td>\n",
       "    </tr>\n",
       "    <tr>\n",
       "      <th>1</th>\n",
       "      <td>1</td>\n",
       "      <td>751782</td>\n",
       "      <td>1</td>\n",
       "    </tr>\n",
       "    <tr>\n",
       "      <th>2</th>\n",
       "      <td>2</td>\n",
       "      <td>745321</td>\n",
       "      <td>1</td>\n",
       "    </tr>\n",
       "    <tr>\n",
       "      <th>3</th>\n",
       "      <td>3</td>\n",
       "      <td>666652</td>\n",
       "      <td>1</td>\n",
       "    </tr>\n",
       "    <tr>\n",
       "      <th>4</th>\n",
       "      <td>4</td>\n",
       "      <td>751873</td>\n",
       "      <td>2</td>\n",
       "    </tr>\n",
       "  </tbody>\n",
       "</table>\n",
       "</div>"
      ],
      "text/plain": [
       "   index  option  bill\n",
       "0      0  751839     1\n",
       "1      1  751782     1\n",
       "2      2  745321     1\n",
       "3      3  666652     1\n",
       "4      4  751873     2"
      ]
     },
     "execution_count": 3,
     "metadata": {},
     "output_type": "execute_result"
    }
   ],
   "source": [
    "data.head() "
   ]
  },
  {
   "cell_type": "code",
   "execution_count": 4,
   "metadata": {},
   "outputs": [],
   "source": [
    "sample_set = data[:100]"
   ]
  },
  {
   "cell_type": "code",
   "execution_count": 5,
   "metadata": {},
   "outputs": [
    {
     "data": {
      "text/plain": [
       "(100, 3)"
      ]
     },
     "execution_count": 5,
     "metadata": {},
     "output_type": "execute_result"
    }
   ],
   "source": [
    "sample_set.shape"
   ]
  },
  {
   "cell_type": "code",
   "execution_count": 6,
   "metadata": {},
   "outputs": [
    {
     "data": {
      "text/plain": [
       "array([ 1,  2,  3,  4,  5,  6,  7,  8,  9, 10, 11, 12, 13, 14, 15, 16, 17,\n",
       "       18, 19, 20, 21, 22, 23, 24, 25, 26, 27, 28, 29, 30, 31, 32],\n",
       "      dtype=int64)"
      ]
     },
     "execution_count": 6,
     "metadata": {},
     "output_type": "execute_result"
    }
   ],
   "source": [
    "sample_set.bill.unique() "
   ]
  },
  {
   "cell_type": "code",
   "execution_count": 7,
   "metadata": {},
   "outputs": [
    {
     "data": {
      "text/plain": [
       "(85,)"
      ]
     },
     "execution_count": 7,
     "metadata": {},
     "output_type": "execute_result"
    }
   ],
   "source": [
    "# create two list of options \n",
    "all_options = sample_set.option.unique()\n",
    "all_options.shape"
   ]
  },
  {
   "cell_type": "code",
   "execution_count": 8,
   "metadata": {},
   "outputs": [
    {
     "data": {
      "text/plain": [
       "42"
      ]
     },
     "execution_count": 8,
     "metadata": {},
     "output_type": "execute_result"
    }
   ],
   "source": [
    "import numpy as np \n",
    "\n",
    "half = int(np.floor(all_options.shape[0] / 2)) \n",
    "half "
   ]
  },
  {
   "cell_type": "code",
   "execution_count": 9,
   "metadata": {},
   "outputs": [
    {
     "data": {
      "text/plain": [
       "85"
      ]
     },
     "execution_count": 9,
     "metadata": {},
     "output_type": "execute_result"
    }
   ],
   "source": [
    "left_options = all_options[:half] \n",
    "right_options = all_options[half:]\n",
    "\n",
    "left_options.shape[0] + right_options.shape[0]"
   ]
  },
  {
   "cell_type": "code",
   "execution_count": 10,
   "metadata": {},
   "outputs": [
    {
     "data": {
      "text/plain": [
       "(array([705527, 704329, 705522, 705502, 714910, 715013, 753517, 705521,\n",
       "        677956, 750116], dtype=int64),\n",
       " array([705527, 704329, 705522, 705502, 714910, 715013, 753517, 705521,\n",
       "        677956, 750116], dtype=int64))"
      ]
     },
     "execution_count": 10,
     "metadata": {},
     "output_type": "execute_result"
    }
   ],
   "source": [
    "right_options[:10], right_options[:10]"
   ]
  },
  {
   "cell_type": "code",
   "execution_count": 11,
   "metadata": {},
   "outputs": [],
   "source": [
    "import itertools\n",
    "p = itertools.product(left_options, right_options)"
   ]
  },
  {
   "cell_type": "code",
   "execution_count": 12,
   "metadata": {},
   "outputs": [],
   "source": [
    "option_pairs = np.array([v for v in p])"
   ]
  },
  {
   "cell_type": "code",
   "execution_count": 13,
   "metadata": {},
   "outputs": [
    {
     "data": {
      "text/plain": [
       "array([[751839, 705527],\n",
       "       [751839, 704329],\n",
       "       [751839, 705522]], dtype=int64)"
      ]
     },
     "execution_count": 13,
     "metadata": {},
     "output_type": "execute_result"
    }
   ],
   "source": [
    "option_pairs[:3]"
   ]
  },
  {
   "cell_type": "code",
   "execution_count": 14,
   "metadata": {},
   "outputs": [
    {
     "data": {
      "text/plain": [
       "array([1, 2, 3], dtype=int64)"
      ]
     },
     "execution_count": 14,
     "metadata": {},
     "output_type": "execute_result"
    }
   ],
   "source": [
    "option_rating = dict() \n",
    "bills = sample_set.bill.unique() \n",
    "\n",
    "bills[:3]"
   ]
  },
  {
   "cell_type": "code",
   "execution_count": 15,
   "metadata": {},
   "outputs": [
    {
     "name": "stdout",
     "output_type": "stream",
     "text": [
      "{745321, 666652, 751782, 751839} {756488, 752059} set() False\n"
     ]
    }
   ],
   "source": [
    "for bill in bills: \n",
    "    a = set(sample_set[sample_set.bill == bill]['option'])\n",
    "    b = set([756488, 752059])\n",
    "    print(a, b, a & b, bool(a & b))\n",
    "    break "
   ]
  },
  {
   "cell_type": "code",
   "execution_count": 16,
   "metadata": {},
   "outputs": [
    {
     "data": {
      "text/plain": [
       "{705527, 751839}"
      ]
     },
     "execution_count": 16,
     "metadata": {},
     "output_type": "execute_result"
    }
   ],
   "source": [
    "set(option_pairs[0])"
   ]
  },
  {
   "cell_type": "code",
   "execution_count": 17,
   "metadata": {},
   "outputs": [
    {
     "name": "stdout",
     "output_type": "stream",
     "text": [
      "Wall time: 38.3 s\n"
     ]
    }
   ],
   "source": [
    "%%time \n",
    "# traverse for one pair in all bills \n",
    "for pair in option_pairs: \n",
    "    pair_s = set(pair) \n",
    "    for bill in bills: \n",
    "        options = set(sample_set[sample_set.bill == bill]['option'])\n",
    "        if(bool(pair_s & options)):\n",
    "            option_rating[tuple(pair)] = option_rating.get(tuple(pair), 0) + 1  "
   ]
  },
  {
   "cell_type": "code",
   "execution_count": 18,
   "metadata": {},
   "outputs": [],
   "source": [
    "import sys \n",
    "\n",
    "def get_size_KB(input): \n",
    "    kB = np.power(2, 20) \n",
    "    return sys.getsizeof(input) / kB  "
   ]
  },
  {
   "cell_type": "code",
   "execution_count": 19,
   "metadata": {},
   "outputs": [],
   "source": [
    "def create_rating_matrix(dataset): \n",
    "    all_options = dataset.option.unique()\n",
    "    half = int(np.floor(all_options.shape[0] / 2)) \n",
    "    left_options = all_options[:half] \n",
    "    right_options = all_options[half:]\n",
    "    p = itertools.product(left_options, right_options)\n",
    "    print(len(p))\n",
    "    option_rating = dict() \n",
    "    bills = dataset.bill.unique() \n",
    "\n",
    "    k = 0 \n",
    "    # traverse for one pair in all bills \n",
    "    for pair in p: \n",
    "        pair_s = set(pair) \n",
    "        print(f\"Size of the result {get_size_KB(option_rating)}\")\n",
    "        if k == 1: \n",
    "            break\n",
    "        for bill in bills: \n",
    "            options = set(dataset[dataset.bill == bill]['option'])\n",
    "            if(bool(pair_s & options)):\n",
    "                option_rating[tuple(pair)] = option_rating.get(tuple(pair), 0) + 1  \n",
    "        \n",
    "        k = k + 1 \n",
    "        # bıdı bıdı \n",
    "    return option_rating "
   ]
  },
  {
   "cell_type": "code",
   "execution_count": 20,
   "metadata": {},
   "outputs": [
    {
     "data": {
      "text/plain": [
       "9565"
      ]
     },
     "execution_count": 20,
     "metadata": {},
     "output_type": "execute_result"
    }
   ],
   "source": [
    "len(data.option.unique())"
   ]
  },
  {
   "cell_type": "code",
   "execution_count": 21,
   "metadata": {},
   "outputs": [
    {
     "data": {
      "text/plain": [
       "0.28421783447265625"
      ]
     },
     "execution_count": 21,
     "metadata": {},
     "output_type": "execute_result"
    }
   ],
   "source": [
    "(37253 * 8) / np.power(2, 20)"
   ]
  },
  {
   "cell_type": "code",
   "execution_count": 22,
   "metadata": {},
   "outputs": [
    {
     "ename": "TypeError",
     "evalue": "sort_values() got an unexpected keyword argument 'ignore_index'",
     "output_type": "error",
     "traceback": [
      "\u001b[1;31m---------------------------------------------------------------------------\u001b[0m",
      "\u001b[1;31mTypeError\u001b[0m                                 Traceback (most recent call last)",
      "\u001b[1;32m<ipython-input-22-babcc4bff2df>\u001b[0m in \u001b[0;36m<module>\u001b[1;34m\u001b[0m\n\u001b[1;32m----> 1\u001b[1;33m \u001b[0mdata_ordered\u001b[0m \u001b[1;33m=\u001b[0m \u001b[0mdata\u001b[0m\u001b[1;33m.\u001b[0m\u001b[0msort_values\u001b[0m\u001b[1;33m(\u001b[0m\u001b[0mby\u001b[0m\u001b[1;33m=\u001b[0m\u001b[1;34m\"option\"\u001b[0m\u001b[1;33m,\u001b[0m \u001b[0mignore_index\u001b[0m\u001b[1;33m=\u001b[0m\u001b[1;32mTrue\u001b[0m\u001b[1;33m)\u001b[0m\u001b[1;33m\u001b[0m\u001b[1;33m\u001b[0m\u001b[0m\n\u001b[0m",
      "\u001b[1;31mTypeError\u001b[0m: sort_values() got an unexpected keyword argument 'ignore_index'"
     ]
    }
   ],
   "source": [
    "data_ordered = data.sort_values(by=\"option\", ignore_index=True)"
   ]
  },
  {
   "cell_type": "code",
   "execution_count": null,
   "metadata": {},
   "outputs": [],
   "source": [
    "# data_ordered.to_csv(\"../datasets/ordered_by_options.csv\")"
   ]
  },
  {
   "cell_type": "code",
   "execution_count": null,
   "metadata": {},
   "outputs": [
    {
     "data": {
      "text/html": [
       "<div>\n",
       "<style scoped>\n",
       "    .dataframe tbody tr th:only-of-type {\n",
       "        vertical-align: middle;\n",
       "    }\n",
       "\n",
       "    .dataframe tbody tr th {\n",
       "        vertical-align: top;\n",
       "    }\n",
       "\n",
       "    .dataframe thead th {\n",
       "        text-align: right;\n",
       "    }\n",
       "</style>\n",
       "<table border=\"1\" class=\"dataframe\">\n",
       "  <thead>\n",
       "    <tr style=\"text-align: right;\">\n",
       "      <th></th>\n",
       "      <th>index</th>\n",
       "      <th>option</th>\n",
       "      <th>bill</th>\n",
       "    </tr>\n",
       "  </thead>\n",
       "  <tbody>\n",
       "    <tr>\n",
       "      <th>0</th>\n",
       "      <td>900771</td>\n",
       "      <td>10494</td>\n",
       "      <td>287600</td>\n",
       "    </tr>\n",
       "    <tr>\n",
       "      <th>1</th>\n",
       "      <td>748625</td>\n",
       "      <td>14310</td>\n",
       "      <td>239234</td>\n",
       "    </tr>\n",
       "    <tr>\n",
       "      <th>2</th>\n",
       "      <td>960707</td>\n",
       "      <td>16329</td>\n",
       "      <td>306550</td>\n",
       "    </tr>\n",
       "    <tr>\n",
       "      <th>3</th>\n",
       "      <td>900773</td>\n",
       "      <td>16716</td>\n",
       "      <td>287600</td>\n",
       "    </tr>\n",
       "    <tr>\n",
       "      <th>4</th>\n",
       "      <td>860419</td>\n",
       "      <td>16716</td>\n",
       "      <td>274508</td>\n",
       "    </tr>\n",
       "  </tbody>\n",
       "</table>\n",
       "</div>"
      ],
      "text/plain": [
       "    index  option    bill\n",
       "0  900771   10494  287600\n",
       "1  748625   14310  239234\n",
       "2  960707   16329  306550\n",
       "3  900773   16716  287600\n",
       "4  860419   16716  274508"
      ]
     },
     "execution_count": 26,
     "metadata": {},
     "output_type": "execute_result"
    }
   ],
   "source": [
    "data_ordered.head(5)"
   ]
  },
  {
   "cell_type": "markdown",
   "metadata": {},
   "source": [
    "# Binary Search Algorithm  \n"
   ]
  },
  {
   "cell_type": "code",
   "execution_count": null,
   "metadata": {},
   "outputs": [],
   "source": [
    "from bisect import bisect_left\n",
    " \n",
    "def BinarySearch(a, x):\n",
    "    i = bisect_left(a, x)\n",
    "    if i != len(a) and a[i] == x:\n",
    "        return i\n",
    "    else:\n",
    "        return -1"
   ]
  },
  {
   "cell_type": "code",
   "execution_count": null,
   "metadata": {},
   "outputs": [
    {
     "data": {
      "text/plain": [
       "-1"
      ]
     },
     "execution_count": 28,
     "metadata": {},
     "output_type": "execute_result"
    }
   ],
   "source": [
    "BinarySearch(data_ordered.option.to_numpy(), 2284)"
   ]
  },
  {
   "cell_type": "markdown",
   "metadata": {},
   "source": [
    "Find the bills for single one option "
   ]
  },
  {
   "cell_type": "code",
   "execution_count": null,
   "metadata": {},
   "outputs": [
    {
     "data": {
      "text/plain": [
       "(array([10494, 14310, 16329, 16716, 16716, 18511, 19216, 20198, 23880,\n",
       "        23880, 31567, 32753, 32753, 32753, 41167, 41167, 41167, 41167,\n",
       "        41167, 41580], dtype=int64),\n",
       " array([287600, 239234, 306550, 287600, 274508, 313566, 242116, 242126,\n",
       "        293521, 287600, 287600, 264667, 258525, 264747, 266871, 325450,\n",
       "        258709, 261779, 268516, 301226], dtype=int64))"
      ]
     },
     "execution_count": 29,
     "metadata": {},
     "output_type": "execute_result"
    }
   ],
   "source": [
    "ds = data_ordered.option.to_numpy() \n",
    "bs = data_ordered.bill.to_numpy() \n",
    "ds[:20], bs[:20 ]"
   ]
  },
  {
   "cell_type": "code",
   "execution_count": null,
   "metadata": {},
   "outputs": [
    {
     "data": {
      "text/plain": [
       "[]"
      ]
     },
     "execution_count": 30,
     "metadata": {},
     "output_type": "execute_result"
    }
   ],
   "source": [
    "ex_option = 2284 \n",
    "idx_start = BinarySearch(ds, ex_option) \n",
    "\n",
    "bills = [bs[i] for i in range(idx_start, len(bs)) if ex_option == ds[i]]\n",
    "\n",
    "bills"
   ]
  },
  {
   "cell_type": "code",
   "execution_count": null,
   "metadata": {},
   "outputs": [
    {
     "data": {
      "text/plain": [
       "3"
      ]
     },
     "execution_count": 31,
     "metadata": {},
     "output_type": "execute_result"
    }
   ],
   "source": [
    "s1 = set(np.concatenate((bills, [43,56,78,98,3456,675,34,767])))\n",
    "s2 = set([43,56,99,7,8,89,34,45])\n",
    "\n",
    "len(s1.intersection(s2))"
   ]
  },
  {
   "cell_type": "markdown",
   "metadata": {},
   "source": [
    "# Rating Matrix with Binary Search "
   ]
  },
  {
   "cell_type": "code",
   "execution_count": null,
   "metadata": {},
   "outputs": [],
   "source": [
    "def get_bills(options:np.array, option_pair:tuple, bills:np.array):\n",
    "    idx_start = BinarySearch(options, option_pair[0]) \n",
    "    s1 = set([bills[i] for i in range(idx_start, len(bills)) if option_pair[0] == options[i]]) \n",
    "    idx_start = BinarySearch(options, option_pair[1]) \n",
    "    s2 = set([bills[i] for i in range(idx_start, len(bills)) if option_pair[1] == options[i]]) \n",
    "    return s1.intersection(s2)"
   ]
  },
  {
   "cell_type": "code",
   "execution_count": null,
   "metadata": {},
   "outputs": [],
   "source": [
    "def create_rating_matrix_BS(dataset_ordered, dataset_raw):\n",
    "    all_options = dataset_raw.option.unique()\n",
    "    half = int(np.floor(all_options.shape[0] / 2)) \n",
    "    left_options = all_options[:half] \n",
    "    right_options = all_options[half:]\n",
    "\n",
    "    p = itertools.product(left_options, right_options)\n",
    "    options = dataset_ordered.option.to_numpy() \n",
    "    bills = dataset_ordered.bill.to_numpy()\n",
    "    result = dict()  \n",
    "    \n",
    "    i = 0 \n",
    "    j = 0 \n",
    "    for pair in p: \n",
    "        intersection = len(get_bills(options, pair, bills))\n",
    "        if intersection > 0:\n",
    "            result[tuple(pair)] = result.get(tuple(pair), 0) + intersection \n",
    "            \n",
    "            i = i + 1\n",
    "            if(i % 100 == 0):\n",
    "                print(\"SIZE :\", get_size_KB(result)) \n",
    "            \n",
    "        j = j + 1 \n",
    "        if(j % 1000 == 0):  \n",
    "            break \n",
    "        \n",
    "        \n",
    "\n",
    "    return result \n"
   ]
  },
  {
   "cell_type": "code",
   "execution_count": null,
   "metadata": {},
   "outputs": [],
   "source": [
    "# create_rating_matrix_BS(data_ordered, data)"
   ]
  },
  {
   "cell_type": "code",
   "execution_count": 23,
   "metadata": {},
   "outputs": [
    {
     "data": {
      "text/html": [
       "<div>\n",
       "<style scoped>\n",
       "    .dataframe tbody tr th:only-of-type {\n",
       "        vertical-align: middle;\n",
       "    }\n",
       "\n",
       "    .dataframe tbody tr th {\n",
       "        vertical-align: top;\n",
       "    }\n",
       "\n",
       "    .dataframe thead th {\n",
       "        text-align: right;\n",
       "    }\n",
       "</style>\n",
       "<table border=\"1\" class=\"dataframe\">\n",
       "  <thead>\n",
       "    <tr style=\"text-align: right;\">\n",
       "      <th></th>\n",
       "      <th>option</th>\n",
       "      <th>bill</th>\n",
       "    </tr>\n",
       "  </thead>\n",
       "  <tbody>\n",
       "    <tr>\n",
       "      <th>0</th>\n",
       "      <td>666652</td>\n",
       "      <td>1</td>\n",
       "    </tr>\n",
       "    <tr>\n",
       "      <th>1</th>\n",
       "      <td>745321</td>\n",
       "      <td>1</td>\n",
       "    </tr>\n",
       "    <tr>\n",
       "      <th>2</th>\n",
       "      <td>751782</td>\n",
       "      <td>1</td>\n",
       "    </tr>\n",
       "    <tr>\n",
       "      <th>3</th>\n",
       "      <td>751839</td>\n",
       "      <td>1</td>\n",
       "    </tr>\n",
       "    <tr>\n",
       "      <th>4</th>\n",
       "      <td>751873</td>\n",
       "      <td>2</td>\n",
       "    </tr>\n",
       "  </tbody>\n",
       "</table>\n",
       "</div>"
      ],
      "text/plain": [
       "   option  bill\n",
       "0  666652     1\n",
       "1  745321     1\n",
       "2  751782     1\n",
       "3  751839     1\n",
       "4  751873     2"
      ]
     },
     "execution_count": 23,
     "metadata": {},
     "output_type": "execute_result"
    }
   ],
   "source": [
    "data_sorted = data.sort_values(by=[\"bill\", \"option\"]).drop(\"index\", axis=1)\n",
    "data_sorted.reset_index(drop=True, inplace=True)\n",
    "\n",
    "data_sorted.head() "
   ]
  },
  {
   "cell_type": "code",
   "execution_count": 24,
   "metadata": {},
   "outputs": [
    {
     "data": {
      "text/plain": [
       "[(1, 2), (1, 3), (1, 4), (2, 3), (2, 4), (3, 4)]"
      ]
     },
     "execution_count": 24,
     "metadata": {},
     "output_type": "execute_result"
    }
   ],
   "source": [
    "def findsubsets(s, n):\n",
    "    return list(itertools.combinations(s, n))\n",
    "\n",
    "s = set([1, 2, 3, 4])\n",
    "\n",
    "findsubsets(s, 2)"
   ]
  },
  {
   "cell_type": "code",
   "execution_count": 25,
   "metadata": {},
   "outputs": [],
   "source": [
    "comibined_option = {}\n",
    "bill_options = set() \n",
    "bill = sample_set.loc[0].bill \n",
    "for index, row in sample_set.iterrows():                # O(n)\n",
    "    if(row.bill == bill): \n",
    "        bill_options.add(row.option) \n",
    "    else:\n",
    "        if(len(bill_options) > 1):                      # len(bill_options) = O(1)\n",
    "            subsets = findsubsets(bill_options, 2)      # O(?)\n",
    "            for subset in subsets: \n",
    "                comibined_option[subset] = comibined_option.get(subset, 0) + 1 # avverage complexity O(1) \n",
    "        \n",
    "        bill_options.clear() \n",
    "        bill_options.add(row.option)\n",
    "        bill = row.bill       "
   ]
  },
  {
   "cell_type": "code",
   "execution_count": 26,
   "metadata": {},
   "outputs": [
    {
     "data": {
      "text/plain": [
       "[(1, 2)]"
      ]
     },
     "execution_count": 26,
     "metadata": {},
     "output_type": "execute_result"
    }
   ],
   "source": [
    "findsubsets([1,2], 2)"
   ]
  },
  {
   "cell_type": "markdown",
   "metadata": {},
   "source": [
    "# Rating Matrix With Only One Traversal Approach "
   ]
  },
  {
   "cell_type": "code",
   "execution_count": 33,
   "metadata": {},
   "outputs": [],
   "source": [
    "def create_rating_matrix_OS(dataset):  \n",
    "    \"\"\" \n",
    "    Input \n",
    "        dataset - includes bills and options only. It has to be ordered by bill, option. This is the requirement. \n",
    "\n",
    "    Output \n",
    "        combined options with ratings. \n",
    "    \"\"\"\n",
    "    comibined_option = {}\n",
    "    bill_options = set() \n",
    "    bill = dataset.loc[0].bill \n",
    "    \n",
    "    i = 0 \n",
    "    for index, row in dataset.iterrows():                # O(n)\n",
    "        if(row.bill == bill): \n",
    "            bill_options.add(row.option)\n",
    "        else:\n",
    "            if(len(bill_options) > 1):                      # len(bill_options) = O(1)\n",
    "                subsets = findsubsets(bill_options, 2)      # O(?)\n",
    "                for subset in subsets: \n",
    "                    comibined_option[subset] = comibined_option.get(subset, 0) + 1 # avverage complexity O(1)\n",
    "                    \n",
    "                    i = i + 1 \n",
    "                    if(i % 100000 == 0):\n",
    "                        print(f\"{i} th iteration for building. Size:\", get_size_KB(comibined_option)) \n",
    "                        print()\n",
    "\n",
    "            bill_options.clear() \n",
    "            bill_options.add(row.option)\n",
    "            bill = row.bill\n",
    "\n",
    "    return comibined_option  "
   ]
  },
  {
   "cell_type": "code",
   "execution_count": 34,
   "metadata": {},
   "outputs": [
    {
     "name": "stdout",
     "output_type": "stream",
     "text": [
      "100000 th iteration for building. Size: 2.5000991821289062\n",
      "\n",
      "200000 th iteration for building. Size: 5.000091552734375\n",
      "\n",
      "300000 th iteration for building. Size: 5.000091552734375\n",
      "\n",
      "400000 th iteration for building. Size: 10.000099182128906\n",
      "\n",
      "500000 th iteration for building. Size: 10.000099182128906\n",
      "\n",
      "600000 th iteration for building. Size: 10.000099182128906\n",
      "\n",
      "700000 th iteration for building. Size: 10.000099182128906\n",
      "\n",
      "800000 th iteration for building. Size: 20.000091552734375\n",
      "\n",
      "900000 th iteration for building. Size: 20.000091552734375\n",
      "\n",
      "1000000 th iteration for building. Size: 20.000091552734375\n",
      "\n",
      "1100000 th iteration for building. Size: 20.000091552734375\n",
      "\n",
      "1200000 th iteration for building. Size: 20.000091552734375\n",
      "\n",
      "1300000 th iteration for building. Size: 20.000091552734375\n",
      "\n",
      "1400000 th iteration for building. Size: 20.000091552734375\n",
      "\n",
      "1500000 th iteration for building. Size: 20.000091552734375\n",
      "\n",
      "1600000 th iteration for building. Size: 20.000091552734375\n",
      "\n",
      "1700000 th iteration for building. Size: 40.000099182128906\n",
      "\n",
      "1800000 th iteration for building. Size: 40.000099182128906\n",
      "\n"
     ]
    }
   ],
   "source": [
    "rating_matrix = create_rating_matrix_OS(data_sorted)"
   ]
  },
  {
   "cell_type": "code",
   "execution_count": 39,
   "metadata": {},
   "outputs": [],
   "source": [
    "import pickle\n",
    "\n",
    "pickle_out = open(\"../datasets/rating_matrix.pickle\",\"wb\")\n",
    "pickle.dump(rating_matrix, pickle_out)\n",
    "pickle_out.close()"
   ]
  },
  {
   "cell_type": "code",
   "execution_count": 40,
   "metadata": {},
   "outputs": [
    {
     "data": {
      "text/plain": [
       "40.000099182128906"
      ]
     },
     "execution_count": 40,
     "metadata": {},
     "output_type": "execute_result"
    }
   ],
   "source": [
    "get_size_KB(rating_matrix)"
   ]
  }
 ],
 "metadata": {
  "kernelspec": {
   "display_name": "Python 3.7.3 ('base')",
   "language": "python",
   "name": "python3"
  },
  "language_info": {
   "codemirror_mode": {
    "name": "ipython",
    "version": 3
   },
   "file_extension": ".py",
   "mimetype": "text/x-python",
   "name": "python",
   "nbconvert_exporter": "python",
   "pygments_lexer": "ipython3",
   "version": "3.7.3"
  },
  "orig_nbformat": 4,
  "vscode": {
   "interpreter": {
    "hash": "ad2bdc8ecc057115af97d19610ffacc2b4e99fae6737bb82f5d7fb13d2f2c186"
   }
  }
 },
 "nbformat": 4,
 "nbformat_minor": 2
}
